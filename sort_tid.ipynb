{
 "cells": [
  {
   "cell_type": "code",
   "execution_count": 2,
   "metadata": {},
   "outputs": [],
   "source": [
    "job1 = {'tid': 'adidas', 'source':'server1', 'destination':'server3'}\n",
    "job2 = {'tid': 'adidas', 'source':'server1', 'destination':'server5'}\n",
    "job3 = {'tid': 'puma', 'source':'server3', 'destination':'server4'}\n",
    "\n",
    "jobs = [job1, job2, job3]\n"
   ]
  },
  {
   "cell_type": "code",
   "execution_count": 5,
   "metadata": {},
   "outputs": [
    {
     "name": "stdout",
     "output_type": "stream",
     "text": [
      "{'server1': 'adidas', 'server3': 'puma'}\n",
      "[{'tid': 'adidas', 'source': 'server1', 'destination': 'server3', 'destination_tid': 'puma'}, {'tid': 'adidas', 'source': 'server1', 'destination': 'server5'}, {'tid': 'puma', 'source': 'server3', 'destination': 'server4'}]\n"
     ]
    }
   ],
   "source": [
    "servers = {}\n",
    "for i, job in enumerate(jobs):\n",
    "    if job['source'] not in servers:\n",
    "        servers[job['source']] = job['tid']\n",
    "\n",
    "for i, job in enumerate(jobs):\n",
    "    if job['destination'] in servers:\n",
    "        jobs[i]['destination_tid'] = servers[job['destination']]\n",
    "\n",
    "print(servers)\n",
    "print(jobs)\n",
    "    "
   ]
  },
  {
   "cell_type": "code",
   "execution_count": null,
   "metadata": {},
   "outputs": [],
   "source": []
  }
 ],
 "metadata": {
  "kernelspec": {
   "display_name": "nlp_lss",
   "language": "python",
   "name": "python3"
  },
  "language_info": {
   "codemirror_mode": {
    "name": "ipython",
    "version": 3
   },
   "file_extension": ".py",
   "mimetype": "text/x-python",
   "name": "python",
   "nbconvert_exporter": "python",
   "pygments_lexer": "ipython3",
   "version": "3.8.16"
  },
  "orig_nbformat": 4
 },
 "nbformat": 4,
 "nbformat_minor": 2
}
