{
  "cells": [
    {
      "cell_type": "markdown",
      "metadata": {
        "id": "nXKt-kMKjt7Z"
      },
      "source": [
        "# HW01: Intro to Text Data"
      ]
    },
    {
      "cell_type": "markdown",
      "metadata": {
        "id": "vcvS-k7Wjt7a"
      },
      "source": [
        "In this assignment, we will explore how to load a text classification dataset (AG's news, originally posted [here](http://groups.di.unipi.it/~gulli/AG_corpus_of_news_articles.html)), how we can preprocess the data and extract useful information from a real-world dataset. First, we have to download the data; we only download a subset of the data with four classes."
      ]
    },
    {
      "cell_type": "code",
      "execution_count": null,
      "metadata": {
        "ExecuteTime": {
          "end_time": "2022-02-28T08:03:31.088897Z",
          "start_time": "2022-02-28T08:03:30.271350Z"
        },
        "colab": {
          "base_uri": "https://localhost:8080/"
        },
        "id": "hiqGL-Gnjt7b",
        "outputId": "258336dd-1f78-44ef-e39a-7347ea76b665"
      },
      "outputs": [
        {
          "name": "stdout",
          "output_type": "stream",
          "text": [
            "--2023-02-22 05:23:50--  https://raw.githubusercontent.com/mhjabreel/CharCnn_Keras/master/data/ag_news_csv/train.csv\n",
            "Resolving raw.githubusercontent.com (raw.githubusercontent.com)... 185.199.108.133, 185.199.109.133, 185.199.110.133, ...\n",
            "Connecting to raw.githubusercontent.com (raw.githubusercontent.com)|185.199.108.133|:443... connected.\n",
            "HTTP request sent, awaiting response... 200 OK\n",
            "Length: 29470338 (28M) [text/plain]\n",
            "Saving to: ‘train.csv’\n",
            "\n",
            "train.csv           100%[===================>]  28.10M  --.-KB/s    in 0.1s    \n",
            "\n",
            "2023-02-22 05:23:50 (223 MB/s) - ‘train.csv’ saved [29470338/29470338]\n",
            "\n"
          ]
        }
      ],
      "source": [
        "!wget https://raw.githubusercontent.com/mhjabreel/CharCnn_Keras/master/data/ag_news_csv/train.csv"
      ]
    },
    {
      "cell_type": "markdown",
      "metadata": {
        "id": "P9XT3cXNjt7b"
      },
      "source": [
        "## Inspect Data"
      ]
    },
    {
      "cell_type": "code",
      "execution_count": 1,
      "metadata": {
        "ExecuteTime": {
          "end_time": "2022-02-28T08:03:34.355549Z",
          "start_time": "2022-02-28T08:03:33.032429Z"
        },
        "colab": {
          "base_uri": "https://localhost:8080/",
          "height": 379
        },
        "id": "tzIENAIojt7b",
        "outputId": "a60cbdb0-bf43-4919-b817-6cd6a68e2277"
      },
      "outputs": [
        {
          "name": "stdout",
          "output_type": "stream",
          "text": [
            "<class 'pandas.core.frame.DataFrame'>\n",
            "RangeIndex: 120000 entries, 0 to 119999\n",
            "Data columns (total 3 columns):\n",
            " #   Column  Non-Null Count   Dtype \n",
            "---  ------  --------------   ----- \n",
            " 0   0       120000 non-null  int64 \n",
            " 1   1       120000 non-null  object\n",
            " 2   2       120000 non-null  object\n",
            "dtypes: int64(1), object(2)\n",
            "memory usage: 2.7+ MB\n"
          ]
        },
        {
          "data": {
            "text/html": [
              "<div>\n",
              "<style scoped>\n",
              "    .dataframe tbody tr th:only-of-type {\n",
              "        vertical-align: middle;\n",
              "    }\n",
              "\n",
              "    .dataframe tbody tr th {\n",
              "        vertical-align: top;\n",
              "    }\n",
              "\n",
              "    .dataframe thead th {\n",
              "        text-align: right;\n",
              "    }\n",
              "</style>\n",
              "<table border=\"1\" class=\"dataframe\">\n",
              "  <thead>\n",
              "    <tr style=\"text-align: right;\">\n",
              "      <th></th>\n",
              "      <th>0</th>\n",
              "      <th>1</th>\n",
              "      <th>2</th>\n",
              "    </tr>\n",
              "  </thead>\n",
              "  <tbody>\n",
              "    <tr>\n",
              "      <th>0</th>\n",
              "      <td>3</td>\n",
              "      <td>Wall St. Bears Claw Back Into the Black (Reuters)</td>\n",
              "      <td>Reuters - Short-sellers, Wall Street's dwindli...</td>\n",
              "    </tr>\n",
              "    <tr>\n",
              "      <th>1</th>\n",
              "      <td>3</td>\n",
              "      <td>Carlyle Looks Toward Commercial Aerospace (Reu...</td>\n",
              "      <td>Reuters - Private investment firm Carlyle Grou...</td>\n",
              "    </tr>\n",
              "    <tr>\n",
              "      <th>2</th>\n",
              "      <td>3</td>\n",
              "      <td>Oil and Economy Cloud Stocks' Outlook (Reuters)</td>\n",
              "      <td>Reuters - Soaring crude prices plus worries\\ab...</td>\n",
              "    </tr>\n",
              "    <tr>\n",
              "      <th>3</th>\n",
              "      <td>3</td>\n",
              "      <td>Iraq Halts Oil Exports from Main Southern Pipe...</td>\n",
              "      <td>Reuters - Authorities have halted oil export\\f...</td>\n",
              "    </tr>\n",
              "    <tr>\n",
              "      <th>4</th>\n",
              "      <td>3</td>\n",
              "      <td>Oil prices soar to all-time record, posing new...</td>\n",
              "      <td>AFP - Tearaway world oil prices, toppling reco...</td>\n",
              "    </tr>\n",
              "  </tbody>\n",
              "</table>\n",
              "</div>"
            ],
            "text/plain": [
              "   0                                                  1  \\\n",
              "0  3  Wall St. Bears Claw Back Into the Black (Reuters)   \n",
              "1  3  Carlyle Looks Toward Commercial Aerospace (Reu...   \n",
              "2  3    Oil and Economy Cloud Stocks' Outlook (Reuters)   \n",
              "3  3  Iraq Halts Oil Exports from Main Southern Pipe...   \n",
              "4  3  Oil prices soar to all-time record, posing new...   \n",
              "\n",
              "                                                   2  \n",
              "0  Reuters - Short-sellers, Wall Street's dwindli...  \n",
              "1  Reuters - Private investment firm Carlyle Grou...  \n",
              "2  Reuters - Soaring crude prices plus worries\\ab...  \n",
              "3  Reuters - Authorities have halted oil export\\f...  \n",
              "4  AFP - Tearaway world oil prices, toppling reco...  "
            ]
          },
          "execution_count": 1,
          "metadata": {},
          "output_type": "execute_result"
        }
      ],
      "source": [
        "import pandas as pd\n",
        "df = pd.read_csv(\"./train.csv\", header=None)\n",
        "df.info()\n",
        "df.head()"
      ]
    },
    {
      "cell_type": "markdown",
      "metadata": {
        "id": "cQfce5sQjt7b"
      },
      "source": [
        "Let's make the data more human readable by adding a header and replacing labels"
      ]
    },
    {
      "cell_type": "code",
      "execution_count": null,
      "metadata": {
        "ExecuteTime": {
          "end_time": "2022-02-28T08:03:53.370152Z",
          "start_time": "2022-02-28T08:03:53.342853Z"
        },
        "id": "Ad6_qs7ojt7c"
      },
      "outputs": [],
      "source": [
        "df.columns = [\"label\", \"title\", \"lead\"]\n",
        "label_map = {1:\"world\", 2:\"sport\", 3:\"business\", 4:\"sci/tech\"}\n",
        "def replace_label(x):\n",
        "\treturn label_map[x]\n",
        "df[\"label\"] = df[\"label\"].apply(replace_label) "
      ]
    },
    {
      "cell_type": "code",
      "execution_count": null,
      "metadata": {
        "ExecuteTime": {
          "end_time": "2022-02-28T08:03:54.981771Z",
          "start_time": "2022-02-28T08:03:54.961623Z"
        },
        "colab": {
          "base_uri": "https://localhost:8080/",
          "height": 206
        },
        "id": "F0jifdMNjt7c",
        "outputId": "a6d48f8f-b0e6-4c2b-91c6-dc8f99169f1a"
      },
      "outputs": [
        {
          "data": {
            "text/html": [
              "\n",
              "  <div id=\"df-4bd98840-642a-4d11-8ac0-47a0903ca834\">\n",
              "    <div class=\"colab-df-container\">\n",
              "      <div>\n",
              "<style scoped>\n",
              "    .dataframe tbody tr th:only-of-type {\n",
              "        vertical-align: middle;\n",
              "    }\n",
              "\n",
              "    .dataframe tbody tr th {\n",
              "        vertical-align: top;\n",
              "    }\n",
              "\n",
              "    .dataframe thead th {\n",
              "        text-align: right;\n",
              "    }\n",
              "</style>\n",
              "<table border=\"1\" class=\"dataframe\">\n",
              "  <thead>\n",
              "    <tr style=\"text-align: right;\">\n",
              "      <th></th>\n",
              "      <th>label</th>\n",
              "      <th>title</th>\n",
              "      <th>lead</th>\n",
              "    </tr>\n",
              "  </thead>\n",
              "  <tbody>\n",
              "    <tr>\n",
              "      <th>0</th>\n",
              "      <td>business</td>\n",
              "      <td>Wall St. Bears Claw Back Into the Black (Reuters)</td>\n",
              "      <td>Reuters - Short-sellers, Wall Street's dwindli...</td>\n",
              "    </tr>\n",
              "    <tr>\n",
              "      <th>1</th>\n",
              "      <td>business</td>\n",
              "      <td>Carlyle Looks Toward Commercial Aerospace (Reu...</td>\n",
              "      <td>Reuters - Private investment firm Carlyle Grou...</td>\n",
              "    </tr>\n",
              "    <tr>\n",
              "      <th>2</th>\n",
              "      <td>business</td>\n",
              "      <td>Oil and Economy Cloud Stocks' Outlook (Reuters)</td>\n",
              "      <td>Reuters - Soaring crude prices plus worries\\ab...</td>\n",
              "    </tr>\n",
              "    <tr>\n",
              "      <th>3</th>\n",
              "      <td>business</td>\n",
              "      <td>Iraq Halts Oil Exports from Main Southern Pipe...</td>\n",
              "      <td>Reuters - Authorities have halted oil export\\f...</td>\n",
              "    </tr>\n",
              "    <tr>\n",
              "      <th>4</th>\n",
              "      <td>business</td>\n",
              "      <td>Oil prices soar to all-time record, posing new...</td>\n",
              "      <td>AFP - Tearaway world oil prices, toppling reco...</td>\n",
              "    </tr>\n",
              "  </tbody>\n",
              "</table>\n",
              "</div>\n",
              "      <button class=\"colab-df-convert\" onclick=\"convertToInteractive('df-4bd98840-642a-4d11-8ac0-47a0903ca834')\"\n",
              "              title=\"Convert this dataframe to an interactive table.\"\n",
              "              style=\"display:none;\">\n",
              "        \n",
              "  <svg xmlns=\"http://www.w3.org/2000/svg\" height=\"24px\"viewBox=\"0 0 24 24\"\n",
              "       width=\"24px\">\n",
              "    <path d=\"M0 0h24v24H0V0z\" fill=\"none\"/>\n",
              "    <path d=\"M18.56 5.44l.94 2.06.94-2.06 2.06-.94-2.06-.94-.94-2.06-.94 2.06-2.06.94zm-11 1L8.5 8.5l.94-2.06 2.06-.94-2.06-.94L8.5 2.5l-.94 2.06-2.06.94zm10 10l.94 2.06.94-2.06 2.06-.94-2.06-.94-.94-2.06-.94 2.06-2.06.94z\"/><path d=\"M17.41 7.96l-1.37-1.37c-.4-.4-.92-.59-1.43-.59-.52 0-1.04.2-1.43.59L10.3 9.45l-7.72 7.72c-.78.78-.78 2.05 0 2.83L4 21.41c.39.39.9.59 1.41.59.51 0 1.02-.2 1.41-.59l7.78-7.78 2.81-2.81c.8-.78.8-2.07 0-2.86zM5.41 20L4 18.59l7.72-7.72 1.47 1.35L5.41 20z\"/>\n",
              "  </svg>\n",
              "      </button>\n",
              "      \n",
              "  <style>\n",
              "    .colab-df-container {\n",
              "      display:flex;\n",
              "      flex-wrap:wrap;\n",
              "      gap: 12px;\n",
              "    }\n",
              "\n",
              "    .colab-df-convert {\n",
              "      background-color: #E8F0FE;\n",
              "      border: none;\n",
              "      border-radius: 50%;\n",
              "      cursor: pointer;\n",
              "      display: none;\n",
              "      fill: #1967D2;\n",
              "      height: 32px;\n",
              "      padding: 0 0 0 0;\n",
              "      width: 32px;\n",
              "    }\n",
              "\n",
              "    .colab-df-convert:hover {\n",
              "      background-color: #E2EBFA;\n",
              "      box-shadow: 0px 1px 2px rgba(60, 64, 67, 0.3), 0px 1px 3px 1px rgba(60, 64, 67, 0.15);\n",
              "      fill: #174EA6;\n",
              "    }\n",
              "\n",
              "    [theme=dark] .colab-df-convert {\n",
              "      background-color: #3B4455;\n",
              "      fill: #D2E3FC;\n",
              "    }\n",
              "\n",
              "    [theme=dark] .colab-df-convert:hover {\n",
              "      background-color: #434B5C;\n",
              "      box-shadow: 0px 1px 3px 1px rgba(0, 0, 0, 0.15);\n",
              "      filter: drop-shadow(0px 1px 2px rgba(0, 0, 0, 0.3));\n",
              "      fill: #FFFFFF;\n",
              "    }\n",
              "  </style>\n",
              "\n",
              "      <script>\n",
              "        const buttonEl =\n",
              "          document.querySelector('#df-4bd98840-642a-4d11-8ac0-47a0903ca834 button.colab-df-convert');\n",
              "        buttonEl.style.display =\n",
              "          google.colab.kernel.accessAllowed ? 'block' : 'none';\n",
              "\n",
              "        async function convertToInteractive(key) {\n",
              "          const element = document.querySelector('#df-4bd98840-642a-4d11-8ac0-47a0903ca834');\n",
              "          const dataTable =\n",
              "            await google.colab.kernel.invokeFunction('convertToInteractive',\n",
              "                                                     [key], {});\n",
              "          if (!dataTable) return;\n",
              "\n",
              "          const docLinkHtml = 'Like what you see? Visit the ' +\n",
              "            '<a target=\"_blank\" href=https://colab.research.google.com/notebooks/data_table.ipynb>data table notebook</a>'\n",
              "            + ' to learn more about interactive tables.';\n",
              "          element.innerHTML = '';\n",
              "          dataTable['output_type'] = 'display_data';\n",
              "          await google.colab.output.renderOutput(dataTable, element);\n",
              "          const docLink = document.createElement('div');\n",
              "          docLink.innerHTML = docLinkHtml;\n",
              "          element.appendChild(docLink);\n",
              "        }\n",
              "      </script>\n",
              "    </div>\n",
              "  </div>\n",
              "  "
            ],
            "text/plain": [
              "      label                                              title  \\\n",
              "0  business  Wall St. Bears Claw Back Into the Black (Reuters)   \n",
              "1  business  Carlyle Looks Toward Commercial Aerospace (Reu...   \n",
              "2  business    Oil and Economy Cloud Stocks' Outlook (Reuters)   \n",
              "3  business  Iraq Halts Oil Exports from Main Southern Pipe...   \n",
              "4  business  Oil prices soar to all-time record, posing new...   \n",
              "\n",
              "                                                lead  \n",
              "0  Reuters - Short-sellers, Wall Street's dwindli...  \n",
              "1  Reuters - Private investment firm Carlyle Grou...  \n",
              "2  Reuters - Soaring crude prices plus worries\\ab...  \n",
              "3  Reuters - Authorities have halted oil export\\f...  \n",
              "4  AFP - Tearaway world oil prices, toppling reco...  "
            ]
          },
          "execution_count": 4,
          "metadata": {},
          "output_type": "execute_result"
        }
      ],
      "source": [
        "df.head()"
      ]
    },
    {
      "cell_type": "code",
      "execution_count": null,
      "metadata": {
        "ExecuteTime": {
          "end_time": "2022-02-28T08:04:01.453703Z",
          "start_time": "2022-02-28T08:04:01.365244Z"
        },
        "colab": {
          "base_uri": "https://localhost:8080/"
        },
        "id": "OWoYzF9kjt7c",
        "outputId": "792ce070-6cc3-4b1c-a738-3ad8148e6158"
      },
      "outputs": [
        {
          "data": {
            "text/plain": [
              "0    wall st. bears claw back into the black (reute...\n",
              "1    carlyle looks toward commercial aerospace (reu...\n",
              "2    oil and economy cloud stocks' outlook (reuters...\n",
              "3    iraq halts oil exports from main southern pipe...\n",
              "4    oil prices soar to all-time record, posing new...\n",
              "Name: text, dtype: object"
            ]
          },
          "execution_count": 5,
          "metadata": {},
          "output_type": "execute_result"
        }
      ],
      "source": [
        "# TODO implement a new column text which contains the lowercased title and lead (concatenated with space)\n",
        "df[\"text\"] = df[\"title\"] + \" \" + df[\"lead\"]\n",
        "df[\"text\"] = df[\"text\"].apply(lambda x: x.lower())\n",
        "df['text'].head()"
      ]
    },
    {
      "cell_type": "code",
      "execution_count": null,
      "metadata": {
        "ExecuteTime": {
          "end_time": "2022-02-28T08:11:41.114677Z",
          "start_time": "2022-02-28T08:11:41.091148Z"
        },
        "colab": {
          "base_uri": "https://localhost:8080/"
        },
        "id": "883DmZ_-jt7c",
        "outputId": "eee94c4a-e197-4b2c-dc68-2aa0da604cf9"
      },
      "outputs": [
        {
          "data": {
            "text/plain": [
              "business    30000\n",
              "sci/tech    30000\n",
              "sport       30000\n",
              "world       30000\n",
              "Name: label, dtype: int64"
            ]
          },
          "execution_count": 6,
          "metadata": {},
          "output_type": "execute_result"
        }
      ],
      "source": [
        "# TODO print the number of documents for each label\n",
        "df['label'].value_counts()"
      ]
    },
    {
      "cell_type": "markdown",
      "metadata": {
        "id": "mXK9Yk-jjt7c"
      },
      "source": [
        "## Document Length"
      ]
    },
    {
      "cell_type": "code",
      "execution_count": null,
      "metadata": {
        "ExecuteTime": {
          "end_time": "2022-02-28T08:12:14.136266Z",
          "start_time": "2022-02-28T08:12:13.920830Z"
        },
        "colab": {
          "base_uri": "https://localhost:8080/"
        },
        "id": "XupKunGxjt7c",
        "outputId": "07c5cb64-a5b5-4857-e93a-a5eff3a364b9"
      },
      "outputs": [
        {
          "name": "stderr",
          "output_type": "stream",
          "text": [
            "[nltk_data] Downloading package stopwords to /root/nltk_data...\n",
            "[nltk_data]   Package stopwords is already up-to-date!\n",
            "[nltk_data] Downloading package punkt to /root/nltk_data...\n",
            "[nltk_data]   Unzipping tokenizers/punkt.zip.\n"
          ]
        },
        {
          "data": {
            "text/plain": [
              "label\n",
              "business    33.409867\n",
              "sci/tech    31.777200\n",
              "sport       30.611833\n",
              "world       31.975733\n",
              "Name: n_stop_words, dtype: float64"
            ]
          },
          "execution_count": 10,
          "metadata": {},
          "output_type": "execute_result"
        }
      ],
      "source": [
        "# TODO create a new column with the number of non-stop words in each text\n",
        "\n",
        "import nltk\n",
        "nltk.download('stopwords')\n",
        "nltk.download('punkt')\n",
        "from nltk.tokenize import word_tokenize\n",
        "from nltk.corpus import stopwords\n",
        "\n",
        "en_stop_words = stopwords.words('english')\n",
        "\n",
        "def count_non_stop_word(text):\n",
        "  count = 0\n",
        "  words = word_tokenize(text)\n",
        "  for w in words:\n",
        "    if w not in en_stop_words:\n",
        "      count += 1\n",
        "  return count\n",
        "\n",
        "df['n_stop_words'] = df['text'].apply(count_non_stop_word)\n",
        "df['n_stop_words'].groupby(df[\"label\"]).mean()\n",
        "\n"
      ]
    },
    {
      "cell_type": "code",
      "execution_count": null,
      "metadata": {
        "colab": {
          "base_uri": "https://localhost:8080/",
          "height": 334
        },
        "id": "JEbKQQCimj5C",
        "outputId": "32816957-74f4-4680-a8a2-0638268f05cf"
      },
      "outputs": [
        {
          "data": {
            "text/plain": [
              "<matplotlib.axes._subplots.AxesSubplot at 0x7fe12bea4790>"
            ]
          },
          "execution_count": 13,
          "metadata": {},
          "output_type": "execute_result"
        },
        {
          "data": {
            "image/png": "[encoded data removed]",
            "text/plain": [
              "<Figure size 432x288 with 1 Axes>"
            ]
          },
          "metadata": {
            "needs_background": "light"
          },
          "output_type": "display_data"
        }
      ],
      "source": [
        "# TODO plot the average number of non-stop words per label \n",
        "df['n_stop_words'].groupby(df[\"label\"]).mean().plot(kind='bar', x='label')"
      ]
    },
    {
      "cell_type": "markdown",
      "metadata": {
        "id": "j4_w4Svfjt7c"
      },
      "source": [
        "## Word Frequency "
      ]
    },
    {
      "cell_type": "markdown",
      "metadata": {
        "id": "H8rJ38tXjt7d"
      },
      "source": [
        "Let's implement a keyword search (similar to the baker-bloom economic uncertainty) and compute how often some given keywords (\"play\", \"tax\", \"blackberry\", \"israel\") appear in the different classes in our data"
      ]
    },
    {
      "cell_type": "code",
      "execution_count": null,
      "metadata": {
        "ExecuteTime": {
          "end_time": "2022-02-28T09:11:17.152844Z",
          "start_time": "2022-02-28T09:11:13.053987Z"
        },
        "colab": {
          "base_uri": "https://localhost:8080/"
        },
        "id": "j4MDaAl3jt7d",
        "outputId": "9b488e7b-7f03-4716-d175-1e949b59985c"
      },
      "outputs": [
        {
          "name": "stdout",
          "output_type": "stream",
          "text": [
            "keyword: play , count: 7670\n",
            "label: business , keyword: play count: 321\n",
            "label: sci/tech , keyword: play count: 1541\n",
            "label: sport , keyword: play count: 5480\n",
            "label: world , keyword: play count: 328\n",
            "====================================================================================================\n",
            "keyword: tax , count: 1537\n",
            "label: business , keyword: tax count: 1185\n",
            "label: sci/tech , keyword: tax count: 93\n",
            "label: sport , keyword: tax count: 31\n",
            "label: world , keyword: tax count: 228\n",
            "====================================================================================================\n",
            "keyword: blackberry , count: 234\n",
            "label: business , keyword: blackberry count: 44\n",
            "label: sci/tech , keyword: blackberry count: 190\n",
            "label: sport , keyword: blackberry count: 0\n",
            "label: world , keyword: blackberry count: 0\n",
            "====================================================================================================\n",
            "keyword: israel , count: 3572\n",
            "label: business , keyword: israel count: 25\n",
            "label: sci/tech , keyword: israel count: 65\n",
            "label: sport , keyword: israel count: 66\n",
            "label: world , keyword: israel count: 3416\n",
            "====================================================================================================\n"
          ]
        }
      ],
      "source": [
        "import re\n",
        "keywords = [\"play\", \"tax\", \"blackberry\", \"israel\"]\n",
        "for keyword in keywords:\n",
        "    #TODO implement a regex pattern for keyword\n",
        "    x = r\"(\\b){}[a-z]*\".format(keyword)\n",
        "    pattern = re.compile(x)\n",
        "    def count_keyword_frequencies(text):\n",
        "        #TODO implement a function which counts how often a pattern appears in a text\n",
        "        num_occurrences = len(re.findall(pattern, text))\n",
        "        return num_occurrences\n",
        "    # Now, we can print how often a keyword appears in the data\n",
        "    print (\"keyword:\", keyword, \", count: {}\".format(df[\"text\"].apply(count_keyword_frequencies).sum()))\n",
        "    # and we want to find out how often the keyword appears withhin each class\n",
        "    for label in df[\"label\"].unique():\n",
        "        counts = df[df[\"label\"] == label][\"text\"].apply(count_keyword_frequencies).sum()\n",
        "        #TODO print how often the keyword appears in this class\n",
        "        print (\"label:\", label,\", keyword:\", keyword, \"count: {}\".format(counts))\n",
        "    print(\"=\"*100)"
      ]
    },
    {
      "cell_type": "markdown",
      "metadata": {
        "id": "RGF1EuOWjt7d"
      },
      "source": [
        "As a last exercise, we re-use the fuzzy keyword search implemented above and plot the total number of occurrences of \"tax\" (and it's variations, e.g. taxation, taxes etc.) for each class in the dataset. Hint: have a look at the [pandas bar plot with group by](https://queirozf.com/entries/pandas-dataframe-plot-examples-with-matplotlib-pyplot)"
      ]
    },
    {
      "cell_type": "code",
      "execution_count": null,
      "metadata": {
        "ExecuteTime": {
          "end_time": "2022-02-28T09:12:42.512996Z",
          "start_time": "2022-02-28T09:12:41.950701Z"
        },
        "colab": {
          "base_uri": "https://localhost:8080/",
          "height": 265
        },
        "id": "kUSfPCtMjt7d",
        "outputId": "f11ad3fc-f219-4251-990f-e21b3d101d5e"
      },
      "outputs": [
        {
          "data": {
            "image/png": "[encoded data removed]",
            "text/plain": [
              "<Figure size 432x288 with 1 Axes>"
            ]
          },
          "metadata": {
            "needs_background": "light"
          },
          "output_type": "display_data"
        }
      ],
      "source": [
        "import matplotlib.pyplot as plt\n",
        "\n",
        "keyword = \"tax\"\n",
        "pattern = re.compile(r\"tax.*?\\b\")\n",
        "\n",
        "def count_keyword_frequencies(text):\n",
        "    num_occurrences = len(re.findall(pattern, text))\n",
        "    return num_occurrences\n",
        "df[\"counts\"] = df[\"text\"].apply(count_keyword_frequencies)\n",
        "#TODO create a bar plot for the wordcounts of \"tax\" for each class in the dataset\n",
        "\n",
        "plt.bar(list(range(1,5)), df[\"counts\"].groupby(df[\"label\"]).sum())\n",
        "plt.xticks(ticks=[1, 2, 3, 4], labels = df['label'].unique())\n",
        "plt.ylabel('Frequency')\n",
        "plt.show()"
      ]
    },
    {
      "cell_type": "code",
      "execution_count": 1,
      "metadata": {
        "colab": {
          "base_uri": "https://localhost:8080/"
        },
        "id": "Qq4jeZXNjt7d",
        "outputId": "e68f54b7-08b4-47f2-df3d-3523fc897201"
      },
      "outputs": [
        {
          "data": {
            "text/plain": [
              "65280"
            ]
          },
          "execution_count": 1,
          "metadata": {},
          "output_type": "execute_result"
        }
      ],
      "source": [
        "import os\n",
        "\n",
        "os.system('jupyter nbconvert --to html homework_01-sol.ipynb')"
      ]
    }
  ],
  "metadata": {
    "colab": {
      "provenance": []
    },
    "kernelspec": {
      "display_name": "Python 3 (ipykernel)",
      "language": "python",
      "name": "python3"
    },
    "language_info": {
      "codemirror_mode": {
        "name": "ipython",
        "version": 3
      },
      "file_extension": ".py",
      "mimetype": "text/x-python",
      "name": "python",
      "nbconvert_exporter": "python",
      "pygments_lexer": "ipython3",
      "version": "3.8.16"
    },
    "toc": {
      "base_numbering": 1,
      "nav_menu": {},
      "number_sections": true,
      "sideBar": true,
      "skip_h1_title": false,
      "title_cell": "Table of Contents",
      "title_sidebar": "Contents",
      "toc_cell": false,
      "toc_position": {},
      "toc_section_display": true,
      "toc_window_display": false
    }
  },
  "nbformat": 4,
  "nbformat_minor": 0
}
