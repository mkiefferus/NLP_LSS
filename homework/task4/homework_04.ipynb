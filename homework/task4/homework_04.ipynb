{
  "cells": [
    {
      "cell_type": "markdown",
      "id": "d21e1ead",
      "metadata": {
        "id": "d21e1ead"
      },
      "source": [
        "# HW04: ML and DL"
      ]
    },
    {
      "cell_type": "markdown",
      "id": "680d1f0b",
      "metadata": {
        "id": "680d1f0b"
      },
      "source": [
        "Remember that these homework work as a completion grade. **You can skip one section without losing credit.**"
      ]
    },
    {
      "cell_type": "markdown",
      "id": "c9bf38c8",
      "metadata": {
        "id": "c9bf38c8"
      },
      "source": [
        "## Load and Pre-process Text\n",
        "We do sentiment analysis on the [Movie Review Data](https://www.cs.cornell.edu/people/pabo/movie-review-data/). If you would like to know more about the data, have a look at [the paper](https://www.cs.cornell.edu/home/llee/papers/pang-lee-stars.pdf) (but no need to do so)."
      ]
    },
    {
      "cell_type": "code",
      "execution_count": 2,
      "id": "21439804",
      "metadata": {
        "colab": {
          "base_uri": "https://localhost:8080/"
        },
        "id": "21439804",
        "outputId": "af75335f-c60b-43b3-d5f8-2f5beaba87f8"
      },
      "outputs": [
        {
          "output_type": "stream",
          "name": "stdout",
          "text": [
            "--2023-03-20 17:47:09--  https://ai.stanford.edu/~amaas/data/sentiment/aclImdb_v1.tar.gz\n",
            "Resolving ai.stanford.edu (ai.stanford.edu)... 171.64.68.10\n",
            "Connecting to ai.stanford.edu (ai.stanford.edu)|171.64.68.10|:443... connected.\n",
            "HTTP request sent, awaiting response... 200 OK\n",
            "Length: 84125825 (80M) [application/x-gzip]\n",
            "Saving to: ‘aclImdb_v1.tar.gz’\n",
            "\n",
            "aclImdb_v1.tar.gz   100%[===================>]  80.23M  41.8MB/s    in 1.9s    \n",
            "\n",
            "2023-03-20 17:47:11 (41.8 MB/s) - ‘aclImdb_v1.tar.gz’ saved [84125825/84125825]\n",
            "\n",
            "--2023-03-20 17:47:27--  https://www.cs.cornell.edu/people/pabo/movie-review-data/scale_data.tar.gz\n",
            "Resolving www.cs.cornell.edu (www.cs.cornell.edu)... 132.236.207.36\n",
            "Connecting to www.cs.cornell.edu (www.cs.cornell.edu)|132.236.207.36|:443... connected.\n",
            "HTTP request sent, awaiting response... 200 OK\n",
            "Length: 4029756 (3.8M) [application/x-gzip]\n",
            "Saving to: ‘scale_data.tar.gz’\n",
            "\n",
            "scale_data.tar.gz   100%[===================>]   3.84M  6.48MB/s    in 0.6s    \n",
            "\n",
            "2023-03-20 17:47:28 (6.48 MB/s) - ‘scale_data.tar.gz’ saved [4029756/4029756]\n",
            "\n",
            "--2023-03-20 17:47:28--  https://www.cs.cornell.edu/people/pabo/movie-review-data/scale_whole_review.tar.gz\n",
            "Resolving www.cs.cornell.edu (www.cs.cornell.edu)... 132.236.207.36\n",
            "Connecting to www.cs.cornell.edu (www.cs.cornell.edu)|132.236.207.36|:443... connected.\n",
            "HTTP request sent, awaiting response... 200 OK\n",
            "Length: 8853204 (8.4M) [application/x-gzip]\n",
            "Saving to: ‘scale_whole_review.tar.gz’\n",
            "\n",
            "scale_whole_review. 100%[===================>]   8.44M  12.6MB/s    in 0.7s    \n",
            "\n",
            "2023-03-20 17:47:29 (12.6 MB/s) - ‘scale_whole_review.tar.gz’ saved [8853204/8853204]\n",
            "\n"
          ]
        }
      ],
      "source": [
        "# In this tutorial, we do sentiment analysis\n",
        "# download the data\n",
        "!wget https://ai.stanford.edu/~amaas/data/sentiment/aclImdb_v1.tar.gz\n",
        "!tar xf aclImdb_v1.tar.gz\n",
        "\n",
        "!wget https://www.cs.cornell.edu/people/pabo/movie-review-data/scale_data.tar.gz\n",
        "!wget https://www.cs.cornell.edu/people/pabo/movie-review-data/scale_whole_review.tar.gz\n",
        " \n",
        "!tar xf scale_data.tar.gz \n",
        "!tar xf scale_whole_review.tar.gz"
      ]
    },
    {
      "cell_type": "markdown",
      "id": "d685ef2e",
      "metadata": {
        "id": "d685ef2e"
      },
      "source": [
        "First, we have to load the data for which we provide the function below. Note how we also preprocess the text using gensim's simple_preprocess() function and how we already split the data into a train and test split."
      ]
    },
    {
      "cell_type": "code",
      "execution_count": 3,
      "id": "a18a238d",
      "metadata": {
        "colab": {
          "base_uri": "https://localhost:8080/"
        },
        "id": "a18a238d",
        "outputId": "4beb34b5-7d66-451b-bb7a-aea38d4e59fd"
      },
      "outputs": [
        {
          "output_type": "stream",
          "name": "stdout",
          "text": [
            "text: for what it worth correctly guessed the identity of the killer in scream well sort of suppose should feel satisfied at my own cleverness since dimension and the makers of scream have put so much effort into keeping that piece of information secret even more so than in the original scream writer kevin williamson goes to ridiculous extremes to keep the audience guessing whodunnit so ridiculous that the film becomes too focused on the one thing which should have been least important as horror film it solid piece of work as satire it frequently hilarious as mystery it tries way way too hard scream takes place two years after the events of the original just in time for hollywood to cash in on the woodsboro high murders the non fiction book by reporter gale weathers courteney cox has become popular horror film called stab which in turn appears to have generated copycat killer when two college students turn up dead at the film premiere sidney prescott neve campbell once again begins to fear for her life other woodsboro survivors like dewey riley david arquette and video store clerk turned film student randy meeks jamie kennedy offer support but bodies continue to turn up at an alarming rate who could the killer be sidney boyfriend derek jerry connell cotton weary liev schreiber the man sidney once wrongly accused of murder gale cameraman joel duane martin film student mickey timothy olyphant reporter debbie salt laurie metcalf gale dewey randy jermaine marlon tito if you can keep the suspects straight without press kit more power to you williamson often seems so concerned with turning every live body in sight into potential suspect that he lets that question overwhelm everything else when the characters aren busy trying to survive the night they re either sitting around trying to figure out who the killer is or around trying to figure out who the killer is it all builds to revelatory climax drawn out so long past the point of diminishing returns loaded with confessions motives and false finishes that you can even see the point of diminishing returns from there being bit harder on scream than it might deserve because that one big problem may be the only real problem williamson satirical darts are expertly targeted not just at horror film cliches or the inevitable inferiority of sequels but at the original film itself the film within film stab provides few wonderful moments as do the audience reactions to some of the more improbable situations hang up the phone and star his the dialogue is sharp smart and not at all afraid of naming names cox friends co stars david schwimmer and jennifer aniston are among those skewered perfect counter point to wes craven crafty suspense scenes if you re not ready to crawl out of your skin when campbell crawls across the unconscious form of her tormentor it time for pulse check scream is so entertaining both as chiller and as chuckler that the lack of attention to those elements is frustration kevin williamson is carving out new genre for himself which certainly seems to be finding an audience both screams and know what you did last summer take off with the radical notion that umasking the monster is good idea there just something deflating about tense comic horror film that turns into scooby doo episode williamson has too much talent as writer of comedy to keep getting side tracked by conventions even if they re conventions he helping to re create scare us or make us laugh we know you can do both just keep the mystery machine parked at the curb on the renshaw scale of visit scott renshaw moviepage http www inconnect com renshaw subscribe to receive new reviews directly by email see the moviepage for details or reply to this message with subject line subscribe \n",
            "label: 0.7\n"
          ]
        }
      ],
      "source": [
        "import os\n",
        "from gensim.utils import simple_preprocess\n",
        "def load_data():\n",
        "    examples, labels = [], []\n",
        "    authors = os.listdir(\"scale_whole_review\")\n",
        "    for author in authors:\n",
        "        path = os.listdir(os.path.join(\"scale_whole_review\", author, \"txt.parag\"))\n",
        "        fn_ids = os.path.join(\"scaledata\", author, \"id.\" + author)\n",
        "        fn_ratings = os.path.join(\"scaledata\", author, \"rating.\" + author)\n",
        "        with open(fn_ids) as ids, open(fn_ratings) as ratings:\n",
        "            for idx, rating in zip(ids, ratings):\n",
        "                labels.append(float(rating.strip()))\n",
        "                filename_text = os.path.join(\"scale_whole_review\", author, \"txt.parag\", idx.strip() + \".txt\")\n",
        "                with open(filename_text, encoding='latin-1') as f:\n",
        "                    examples.append(\" \".join(simple_preprocess(f.read())))\n",
        "    return examples, labels\n",
        "                  \n",
        "X,y  = load_data()\n",
        "from sklearn.model_selection import train_test_split\n",
        "X_train, X_test, y_train, y_test = train_test_split(X, y, test_size=0.33, random_state=42)\n",
        "print (\"text:\", X_train[0], \"\\nlabel:\", y_train[0])"
      ]
    },
    {
      "cell_type": "markdown",
      "id": "284033cf",
      "metadata": {
        "id": "284033cf"
      },
      "source": [
        "## Vectorize the data"
      ]
    },
    {
      "cell_type": "code",
      "execution_count": 4,
      "id": "09aff185",
      "metadata": {
        "id": "09aff185"
      },
      "outputs": [],
      "source": [
        "# train a TF_IDF Vectorizer on X_train and vectorize X_train and X_test\n",
        "from sklearn.feature_extraction.text import TfidfVectorizer\n",
        "\n",
        "vec = TfidfVectorizer(min_df=0.01, # at min 1% of docs\n",
        "                        max_df=.5,  \n",
        "                        stop_words='english',\n",
        "                        ngram_range=(1,2))\n",
        "\n",
        "##TODO train vectorizer\n",
        "vec.fit(X_train)\n",
        "\n",
        "# labels y do not have to be transformed as they already are in the correct range\n",
        "\n",
        "##TODO transform X_train to TF-IDF values\n",
        "X_train_tfidf = vec.transform(X_train)\n",
        "##TODO transform X_test to TF-IDF values\n",
        "X_test_tfidf = vec.transform(X_test)"
      ]
    },
    {
      "cell_type": "code",
      "execution_count": 5,
      "id": "58d44dbb",
      "metadata": {
        "id": "58d44dbb"
      },
      "outputs": [],
      "source": [
        "##TODO scale both training and test data with the standard scaler\n",
        "from sklearn.preprocessing import StandardScaler\n",
        "scaler = StandardScaler(with_mean=False)\n",
        "\n",
        "scaler.fit(X_train_tfidf)\n",
        "\n",
        "X_train_scaled = scaler.transform(X_train_tfidf)\n",
        "X_test_scaled = scaler.transform(X_test_tfidf)"
      ]
    },
    {
      "cell_type": "markdown",
      "id": "ad9d8a57",
      "metadata": {
        "id": "ad9d8a57"
      },
      "source": [
        "## ElasticNet"
      ]
    },
    {
      "cell_type": "code",
      "execution_count": 6,
      "id": "1e5f4520",
      "metadata": {
        "id": "1e5f4520",
        "colab": {
          "base_uri": "https://localhost:8080/"
        },
        "outputId": "09a33e7e-0e37-4dcd-cd7a-edeaa8f819b5"
      },
      "outputs": [
        {
          "output_type": "stream",
          "name": "stdout",
          "text": [
            "MSE: 0.01587112006124458, r2: 0.5037917808908448\n"
          ]
        }
      ],
      "source": [
        "##TODO train an elastic net on the transformed output of the scaler\n",
        "from sklearn.linear_model import ElasticNet\n",
        "\n",
        "en = ElasticNet(alpha=0.01)\n",
        "\n",
        "##TODO train the ElasticNet\n",
        "\n",
        "en.fit(X_train_scaled, y_train)\n",
        "\n",
        "##TODO predict the testset\n",
        "\n",
        "y_pred = en.predict(X_test_scaled)\n",
        "\n",
        "from sklearn.metrics import r2_score, accuracy_score, mean_squared_error, balanced_accuracy_score\n",
        "##TODO print mean squared error and r2 score on the test set\n",
        "\n",
        "# Both scores evaluate the performance of regression models\n",
        "# The balanced_accuracy_score is a classification metric (thus finds no application in this task)\n",
        "\n",
        "mse = mean_squared_error(y_test, y_pred)\n",
        "r2 = r2_score(y_test, y_pred)\n",
        "\n",
        "print('MSE: {}, r2: {}'.format(mse, r2))"
      ]
    },
    {
      "cell_type": "markdown",
      "id": "872d1ef8",
      "metadata": {
        "id": "872d1ef8"
      },
      "source": [
        "## Logistic Regression"
      ]
    },
    {
      "cell_type": "markdown",
      "id": "27e2756e",
      "metadata": {
        "id": "27e2756e"
      },
      "source": [
        "Next, we train an OLS model doing binary prediction on these movie reviews. Two get two bins, we transform the continuous ratings into two classes, where one class contains all the negative ratings (value < 0.5), the other class all the positive ratings (value > 0.5)"
      ]
    },
    {
      "cell_type": "code",
      "execution_count": 7,
      "id": "9cbd752c",
      "metadata": {
        "id": "9cbd752c"
      },
      "outputs": [],
      "source": [
        "y_train = [1 if i >= 0.5 else 0 for i in y_train]\n",
        "y_test = [1 if i >= 0.5 else 0 for i in y_test]\n"
      ]
    },
    {
      "cell_type": "code",
      "execution_count": 23,
      "id": "2c2c239d",
      "metadata": {
        "id": "2c2c239d",
        "colab": {
          "base_uri": "https://localhost:8080/"
        },
        "outputId": "087e36de-a90d-433b-a608-ae0fee87f5c5"
      },
      "outputs": [
        {
          "output_type": "stream",
          "name": "stdout",
          "text": [
            "Acc: 0.7200720320282454\n"
          ]
        }
      ],
      "source": [
        "##TODO train logistic regression on X_train\n",
        "from sklearn.linear_model import LogisticRegression\n",
        "logistic_regression = LogisticRegression(max_iter=200)\n",
        "\n",
        "##TODO train a logistic regression\n",
        "\n",
        "logistic_regression.fit(X_train_scaled, y_train)\n",
        "\n",
        "##TODO predict the testset\n",
        "\n",
        "y_pred = logistic_regression.predict(X_test_scaled)\n",
        "\n",
        "\n",
        "##since we have continuous output, we need to post-process our labels into two classes. We choose a threshold of 0.5 \n",
        "def map_predictions(predicted):\n",
        "    predicted = [1 if i > 0.5 else 0 for i in predicted]\n",
        "    return predicted\n",
        "\n",
        "##TODO print the accuracy of our classifier on the testset\n",
        "\n",
        "acc = balanced_accuracy_score(y_test, map_predictions(y_pred))\n",
        "print('Acc: {}'.format(acc))\n",
        "\n",
        "## TODO print the 10 most informative words of the regression (the 10 words having the highest coefficients)"
      ]
    },
    {
      "cell_type": "markdown",
      "source": [
        "# Deep Learning"
      ],
      "metadata": {
        "id": "3hNKx6fUGgCL"
      },
      "id": "3hNKx6fUGgCL"
    },
    {
      "cell_type": "markdown",
      "id": "d0a6bc62",
      "metadata": {
        "id": "d0a6bc62"
      },
      "source": [
        "## MLP"
      ]
    },
    {
      "cell_type": "code",
      "source": [
        "#Import the AG news dataset (same as hw01)\n",
        "#Download them from here \n",
        "# !wget https://raw.githubusercontent.com/mhjabreel/CharCnn_Keras/master/data/ag_news_csv/train.csv\n",
        "\n",
        "import pandas as pd\n",
        "import nltk\n",
        "df = pd.read_csv('train.csv')\n",
        "\n",
        "df.columns = [\"label\", \"title\", \"lead\"]\n",
        "label_map = {1:\"world\", 2:\"sport\", 3:\"business\", 4:\"sci/tech\"}\n",
        "def replace_label(x):\n",
        "\treturn label_map[x]\n",
        "df[\"label\"] = df[\"label\"].apply(replace_label) \n",
        "df[\"text\"] = df[\"title\"] + \" \" + df[\"lead\"]\n",
        "df = df.sample(n=10000) # # only use 10K datapoints\n",
        "df.head()"
      ],
      "metadata": {
        "id": "ueplJsWuS_zl",
        "colab": {
          "base_uri": "https://localhost:8080/",
          "height": 540
        },
        "outputId": "6d87dcae-d042-4c3f-c201-3161dd6031e0"
      },
      "id": "ueplJsWuS_zl",
      "execution_count": 25,
      "outputs": [
        {
          "output_type": "stream",
          "name": "stdout",
          "text": [
            "--2023-03-20 18:26:48--  https://raw.githubusercontent.com/mhjabreel/CharCnn_Keras/master/data/ag_news_csv/train.csv\n",
            "Resolving raw.githubusercontent.com (raw.githubusercontent.com)... 185.199.108.133, 185.199.109.133, 185.199.110.133, ...\n",
            "Connecting to raw.githubusercontent.com (raw.githubusercontent.com)|185.199.108.133|:443... connected.\n",
            "HTTP request sent, awaiting response... 200 OK\n",
            "Length: 29470338 (28M) [text/plain]\n",
            "Saving to: ‘train.csv’\n",
            "\n",
            "train.csv           100%[===================>]  28.10M   153MB/s    in 0.2s    \n",
            "\n",
            "2023-03-20 18:26:49 (153 MB/s) - ‘train.csv’ saved [29470338/29470338]\n",
            "\n"
          ]
        },
        {
          "output_type": "execute_result",
          "data": {
            "text/plain": [
              "           label                                              title  \\\n",
              "108887     world    5 blasts rock Madrid gas stations after warning   \n",
              "35439   business              FDA's home county eyes Canadian drugs   \n",
              "79223      world          Heavy clashes in Ramadi as troops buildup   \n",
              "10152      world                                  Nepal talks hopes   \n",
              "119380  sci/tech  Holiday Sky Show: Five Planets to Shine in Pre...   \n",
              "\n",
              "                                                     lead  \\\n",
              "108887  MADRID -- Five small explosive devices detonat...   \n",
              "35439   The county that is home to the Food and Drug A...   \n",
              "79223   offensive to retake the insurgent-held cities ...   \n",
              "10152   KATHMANDU: Nepal #39;s ruling coalition expres...   \n",
              "119380  For the next few weeks sky-watchers can spot M...   \n",
              "\n",
              "                                                     text  \n",
              "108887  5 blasts rock Madrid gas stations after warnin...  \n",
              "35439   FDA's home county eyes Canadian drugs The coun...  \n",
              "79223   Heavy clashes in Ramadi as troops buildup offe...  \n",
              "10152   Nepal talks hopes KATHMANDU: Nepal #39;s rulin...  \n",
              "119380  Holiday Sky Show: Five Planets to Shine in Pre...  "
            ],
            "text/html": [
              "\n",
              "  <div id=\"df-0c58cfd8-7e90-4659-8ce2-832db3e64d10\">\n",
              "    <div class=\"colab-df-container\">\n",
              "      <div>\n",
              "<style scoped>\n",
              "    .dataframe tbody tr th:only-of-type {\n",
              "        vertical-align: middle;\n",
              "    }\n",
              "\n",
              "    .dataframe tbody tr th {\n",
              "        vertical-align: top;\n",
              "    }\n",
              "\n",
              "    .dataframe thead th {\n",
              "        text-align: right;\n",
              "    }\n",
              "</style>\n",
              "<table border=\"1\" class=\"dataframe\">\n",
              "  <thead>\n",
              "    <tr style=\"text-align: right;\">\n",
              "      <th></th>\n",
              "      <th>label</th>\n",
              "      <th>title</th>\n",
              "      <th>lead</th>\n",
              "      <th>text</th>\n",
              "    </tr>\n",
              "  </thead>\n",
              "  <tbody>\n",
              "    <tr>\n",
              "      <th>108887</th>\n",
              "      <td>world</td>\n",
              "      <td>5 blasts rock Madrid gas stations after warning</td>\n",
              "      <td>MADRID -- Five small explosive devices detonat...</td>\n",
              "      <td>5 blasts rock Madrid gas stations after warnin...</td>\n",
              "    </tr>\n",
              "    <tr>\n",
              "      <th>35439</th>\n",
              "      <td>business</td>\n",
              "      <td>FDA's home county eyes Canadian drugs</td>\n",
              "      <td>The county that is home to the Food and Drug A...</td>\n",
              "      <td>FDA's home county eyes Canadian drugs The coun...</td>\n",
              "    </tr>\n",
              "    <tr>\n",
              "      <th>79223</th>\n",
              "      <td>world</td>\n",
              "      <td>Heavy clashes in Ramadi as troops buildup</td>\n",
              "      <td>offensive to retake the insurgent-held cities ...</td>\n",
              "      <td>Heavy clashes in Ramadi as troops buildup offe...</td>\n",
              "    </tr>\n",
              "    <tr>\n",
              "      <th>10152</th>\n",
              "      <td>world</td>\n",
              "      <td>Nepal talks hopes</td>\n",
              "      <td>KATHMANDU: Nepal #39;s ruling coalition expres...</td>\n",
              "      <td>Nepal talks hopes KATHMANDU: Nepal #39;s rulin...</td>\n",
              "    </tr>\n",
              "    <tr>\n",
              "      <th>119380</th>\n",
              "      <td>sci/tech</td>\n",
              "      <td>Holiday Sky Show: Five Planets to Shine in Pre...</td>\n",
              "      <td>For the next few weeks sky-watchers can spot M...</td>\n",
              "      <td>Holiday Sky Show: Five Planets to Shine in Pre...</td>\n",
              "    </tr>\n",
              "  </tbody>\n",
              "</table>\n",
              "</div>\n",
              "      <button class=\"colab-df-convert\" onclick=\"convertToInteractive('df-0c58cfd8-7e90-4659-8ce2-832db3e64d10')\"\n",
              "              title=\"Convert this dataframe to an interactive table.\"\n",
              "              style=\"display:none;\">\n",
              "        \n",
              "  <svg xmlns=\"http://www.w3.org/2000/svg\" height=\"24px\"viewBox=\"0 0 24 24\"\n",
              "       width=\"24px\">\n",
              "    <path d=\"M0 0h24v24H0V0z\" fill=\"none\"/>\n",
              "    <path d=\"M18.56 5.44l.94 2.06.94-2.06 2.06-.94-2.06-.94-.94-2.06-.94 2.06-2.06.94zm-11 1L8.5 8.5l.94-2.06 2.06-.94-2.06-.94L8.5 2.5l-.94 2.06-2.06.94zm10 10l.94 2.06.94-2.06 2.06-.94-2.06-.94-.94-2.06-.94 2.06-2.06.94z\"/><path d=\"M17.41 7.96l-1.37-1.37c-.4-.4-.92-.59-1.43-.59-.52 0-1.04.2-1.43.59L10.3 9.45l-7.72 7.72c-.78.78-.78 2.05 0 2.83L4 21.41c.39.39.9.59 1.41.59.51 0 1.02-.2 1.41-.59l7.78-7.78 2.81-2.81c.8-.78.8-2.07 0-2.86zM5.41 20L4 18.59l7.72-7.72 1.47 1.35L5.41 20z\"/>\n",
              "  </svg>\n",
              "      </button>\n",
              "      \n",
              "  <style>\n",
              "    .colab-df-container {\n",
              "      display:flex;\n",
              "      flex-wrap:wrap;\n",
              "      gap: 12px;\n",
              "    }\n",
              "\n",
              "    .colab-df-convert {\n",
              "      background-color: #E8F0FE;\n",
              "      border: none;\n",
              "      border-radius: 50%;\n",
              "      cursor: pointer;\n",
              "      display: none;\n",
              "      fill: #1967D2;\n",
              "      height: 32px;\n",
              "      padding: 0 0 0 0;\n",
              "      width: 32px;\n",
              "    }\n",
              "\n",
              "    .colab-df-convert:hover {\n",
              "      background-color: #E2EBFA;\n",
              "      box-shadow: 0px 1px 2px rgba(60, 64, 67, 0.3), 0px 1px 3px 1px rgba(60, 64, 67, 0.15);\n",
              "      fill: #174EA6;\n",
              "    }\n",
              "\n",
              "    [theme=dark] .colab-df-convert {\n",
              "      background-color: #3B4455;\n",
              "      fill: #D2E3FC;\n",
              "    }\n",
              "\n",
              "    [theme=dark] .colab-df-convert:hover {\n",
              "      background-color: #434B5C;\n",
              "      box-shadow: 0px 1px 3px 1px rgba(0, 0, 0, 0.15);\n",
              "      filter: drop-shadow(0px 1px 2px rgba(0, 0, 0, 0.3));\n",
              "      fill: #FFFFFF;\n",
              "    }\n",
              "  </style>\n",
              "\n",
              "      <script>\n",
              "        const buttonEl =\n",
              "          document.querySelector('#df-0c58cfd8-7e90-4659-8ce2-832db3e64d10 button.colab-df-convert');\n",
              "        buttonEl.style.display =\n",
              "          google.colab.kernel.accessAllowed ? 'block' : 'none';\n",
              "\n",
              "        async function convertToInteractive(key) {\n",
              "          const element = document.querySelector('#df-0c58cfd8-7e90-4659-8ce2-832db3e64d10');\n",
              "          const dataTable =\n",
              "            await google.colab.kernel.invokeFunction('convertToInteractive',\n",
              "                                                     [key], {});\n",
              "          if (!dataTable) return;\n",
              "\n",
              "          const docLinkHtml = 'Like what you see? Visit the ' +\n",
              "            '<a target=\"_blank\" href=https://colab.research.google.com/notebooks/data_table.ipynb>data table notebook</a>'\n",
              "            + ' to learn more about interactive tables.';\n",
              "          element.innerHTML = '';\n",
              "          dataTable['output_type'] = 'display_data';\n",
              "          await google.colab.output.renderOutput(dataTable, element);\n",
              "          const docLink = document.createElement('div');\n",
              "          docLink.innerHTML = docLinkHtml;\n",
              "          element.appendChild(docLink);\n",
              "        }\n",
              "      </script>\n",
              "    </div>\n",
              "  </div>\n",
              "  "
            ]
          },
          "metadata": {},
          "execution_count": 25
        }
      ]
    },
    {
      "cell_type": "code",
      "source": [
        "# create a new variable \"business\" that takes value 1 if the label is business and 0 otherwise\n",
        "df['business'] = df['label'].apply(lambda x: int(x=='business'))\n",
        "y = df['business'].values\n",
        "df['business'].head()"
      ],
      "metadata": {
        "id": "df6ZVZfDTBwH",
        "colab": {
          "base_uri": "https://localhost:8080/"
        },
        "outputId": "44d4539d-99f5-4e3d-b8eb-1af3f8466900"
      },
      "id": "df6ZVZfDTBwH",
      "execution_count": 26,
      "outputs": [
        {
          "output_type": "execute_result",
          "data": {
            "text/plain": [
              "108887    0\n",
              "35439     1\n",
              "79223     0\n",
              "10152     0\n",
              "119380    0\n",
              "Name: business, dtype: int64"
            ]
          },
          "metadata": {},
          "execution_count": 26
        }
      ]
    },
    {
      "cell_type": "code",
      "source": [
        "import spacy\n",
        "nlp = spacy.load('en_core_web_sm')\n",
        "from sklearn.feature_extraction.text import CountVectorizer\n",
        "\n",
        "# pre-process text as you did in HW02\n",
        "def tokenize(x):\n",
        "    return [w.lemma_.lower() for w in nlp(x) if not w.is_stop and not w.is_punct and not w.is_digit]\n",
        "\n",
        "df[\"tokens\"] = df[\"text\"].apply(lambda x: tokenize(x))\n",
        "df[\"preprocessed\"] = df['tokens'].apply(lambda x: ' '.join(x))\n",
        "df[\"preprocessed_text\"] = df[\"preprocessed\"].apply(lambda x: \" \".join(x))"
      ],
      "metadata": {
        "id": "7CFbsYDMTCTt"
      },
      "id": "7CFbsYDMTCTt",
      "execution_count": 30,
      "outputs": []
    },
    {
      "cell_type": "code",
      "source": [
        "##TODO vectorize the pre-processed text using CountVectorizer\n",
        "\n",
        "vectorizer = CountVectorizer()\n",
        "\n",
        "X = vectorizer.fit_transform(df['preprocessed'])"
      ],
      "metadata": {
        "id": "Jopj3I5MUryp"
      },
      "id": "Jopj3I5MUryp",
      "execution_count": 41,
      "outputs": []
    },
    {
      "cell_type": "code",
      "source": [
        "X.shape"
      ],
      "metadata": {
        "id": "DGi_z7mVbhvu",
        "outputId": "7a7ad06b-d515-496d-fbc5-cf562fa33c52",
        "colab": {
          "base_uri": "https://localhost:8080/"
        }
      },
      "id": "DGi_z7mVbhvu",
      "execution_count": 43,
      "outputs": [
        {
          "output_type": "execute_result",
          "data": {
            "text/plain": [
              "(10000, 20790)"
            ]
          },
          "metadata": {},
          "execution_count": 43
        }
      ]
    },
    {
      "cell_type": "markdown",
      "id": "9b6e66fc",
      "metadata": {
        "id": "9b6e66fc"
      },
      "source": [
        "Your goal here is to use features from the Vectorized text to predict whether the snippet is from a business article."
      ]
    },
    {
      "cell_type": "code",
      "execution_count": 46,
      "id": "0b718ae5",
      "metadata": {
        "id": "0b718ae5",
        "colab": {
          "base_uri": "https://localhost:8080/"
        },
        "outputId": "c837a531-919e-412e-f0e0-cba65e2af1d0"
      },
      "outputs": [
        {
          "output_type": "stream",
          "name": "stdout",
          "text": [
            "----------------------------------------------------------------\n",
            "        Layer (type)               Output Shape         Param #\n",
            "================================================================\n",
            "            Linear-1                 [-1, 2048]      42,579,968\n",
            "              ReLU-2                 [-1, 2048]               0\n",
            "           Dropout-3                 [-1, 2048]               0\n",
            "            Linear-4                 [-1, 2048]       4,196,352\n",
            "              ReLU-5                 [-1, 2048]               0\n",
            "           Dropout-6                 [-1, 2048]               0\n",
            "            Linear-7                    [-1, 1]           2,049\n",
            "           Sigmoid-8                    [-1, 1]               0\n",
            "================================================================\n",
            "Total params: 46,778,369\n",
            "Trainable params: 46,778,369\n",
            "Non-trainable params: 0\n",
            "----------------------------------------------------------------\n",
            "Input size (MB): 0.08\n",
            "Forward/backward pass size (MB): 0.09\n",
            "Params size (MB): 178.45\n",
            "Estimated Total Size (MB): 178.62\n",
            "----------------------------------------------------------------\n"
          ]
        }
      ],
      "source": [
        "from torch.nn.modules.activation import Sigmoid\n",
        "import torch\n",
        "import torch.nn as nn\n",
        "import torch.nn.functional as F\n",
        "from torch.utils.data import Dataset, DataLoader\n",
        "from sklearn.model_selection import train_test_split\n",
        "from torchsummary import summary\n",
        "\n",
        "import math\n",
        "import numpy as np\n",
        "from sklearn.model_selection import train_test_split\n",
        "from sklearn.metrics import accuracy_score\n",
        "\n",
        "device = torch.device(\"cuda\" if torch.cuda.is_available() else \"cpu\")\n",
        "\n",
        "\n",
        "## TODO build a MLP model with at least 2 hidden layers with ReLU activation, followed by dropout and an output layer with sigmoid activation\n",
        "\n",
        "class MLP(nn.Module):\n",
        "    def __init__(self, in_features, dropout_p=0.2):\n",
        "        super(MLP, self).__init__()\n",
        "\n",
        "        self.layer = nn.Sequential(\n",
        "            nn.Linear(in_features, 2048),\n",
        "            nn.ReLU(),\n",
        "            nn.Dropout(dropout_p),\n",
        "            nn.Linear(2048, 2048),\n",
        "            nn.ReLU(),\n",
        "            nn.Dropout(dropout_p),\n",
        "            nn.Linear(2048, 1),\n",
        "            nn.Sigmoid()\n",
        "        )\n",
        "\n",
        "    def forward(self, x):\n",
        "        return self.layer(x)\n",
        "\n",
        "model = MLP(X.shape[1]).to(device)\n",
        "\n",
        "## TODO summarize the model using torchsummary\n",
        "\n",
        "summary(model, input_size=(X.shape[1],))\n",
        "\n",
        "## TODO fit the model using early stopping to predict the business label\n",
        "\n",
        "\n",
        "\n",
        "# (hint: early stopping means if the validation score does not increase for more than \"patience\" times, training should stop and load the best model so far)"
      ]
    },
    {
      "cell_type": "code",
      "execution_count": null,
      "id": "1263d8c1",
      "metadata": {
        "id": "1263d8c1"
      },
      "outputs": [],
      "source": []
    }
  ],
  "metadata": {
    "kernelspec": {
      "display_name": "Python 3 (ipykernel)",
      "language": "python",
      "name": "python3"
    },
    "language_info": {
      "codemirror_mode": {
        "name": "ipython",
        "version": 3
      },
      "file_extension": ".py",
      "mimetype": "text/x-python",
      "name": "python",
      "nbconvert_exporter": "python",
      "pygments_lexer": "ipython3",
      "version": "3.7.11"
    },
    "toc": {
      "base_numbering": 1,
      "nav_menu": {},
      "number_sections": true,
      "sideBar": true,
      "skip_h1_title": false,
      "title_cell": "Table of Contents",
      "title_sidebar": "Contents",
      "toc_cell": false,
      "toc_position": {},
      "toc_section_display": true,
      "toc_window_display": false
    },
    "colab": {
      "provenance": []
    }
  },
  "nbformat": 4,
  "nbformat_minor": 5
}