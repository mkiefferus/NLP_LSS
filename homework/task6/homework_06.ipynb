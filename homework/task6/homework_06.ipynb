{
  "cells": [
    {
      "cell_type": "markdown",
      "id": "present-brown",
      "metadata": {
        "id": "present-brown"
      },
      "source": [
        "# HW06: Transformers and Doc Embeddings\n",
        "\n",
        "Remember that these homework work as a completion grade. **You can skip one section of this homework.**"
      ]
    },
    {
      "cell_type": "code",
      "execution_count": 1,
      "id": "irish-ending",
      "metadata": {
        "id": "irish-ending",
        "outputId": "ec66d4b2-0f3f-4805-e284-fdda4bf8a25a",
        "colab": {
          "base_uri": "https://localhost:8080/",
          "height": 540
        }
      },
      "outputs": [
        {
          "output_type": "stream",
          "name": "stdout",
          "text": [
            "--2023-04-06 17:53:09--  https://raw.githubusercontent.com/mhjabreel/CharCnn_Keras/master/data/ag_news_csv/train.csv\n",
            "Resolving raw.githubusercontent.com (raw.githubusercontent.com)... 185.199.109.133, 185.199.108.133, 185.199.111.133, ...\n",
            "Connecting to raw.githubusercontent.com (raw.githubusercontent.com)|185.199.109.133|:443... connected.\n",
            "HTTP request sent, awaiting response... 200 OK\n",
            "Length: 29470338 (28M) [text/plain]\n",
            "Saving to: ‘train.csv.2’\n",
            "\n",
            "train.csv.2         100%[===================>]  28.10M   125MB/s    in 0.2s    \n",
            "\n",
            "2023-04-06 17:53:10 (125 MB/s) - ‘train.csv.2’ saved [29470338/29470338]\n",
            "\n"
          ]
        },
        {
          "output_type": "execute_result",
          "data": {
            "text/plain": [
              "           label                                              title  \\\n",
              "101466     world     We will curb violence, Palestinians tell Straw   \n",
              "3268    sci/tech        Briefly: IBM chalks up two health care wins   \n",
              "17526   sci/tech  HP helps hospital group cut printing costs, in...   \n",
              "88147      sport  Indo-Pak ODI much more than a cricket match: I...   \n",
              "63481   sci/tech  Q amp;A: Microsoft #39;s Will Poole talks abou...   \n",
              "\n",
              "                                                     lead  \\\n",
              "101466  The foreign secretary, Jack Straw, today won a...   \n",
              "3268    roundup Plus: Vonage users dial 311 for city i...   \n",
              "17526   When it needed help managing its 3,300 printer...   \n",
              "88147   KOLKATA, India, Nov 11 (AFP): Pakistan #39;s f...   \n",
              "63481   LOS ANGELES - With Microsoft pulling out the s...   \n",
              "\n",
              "                                                     text  \n",
              "101466  We will curb violence, Palestinians tell Straw...  \n",
              "3268    Briefly: IBM chalks up two health care wins ro...  \n",
              "17526   HP helps hospital group cut printing costs, in...  \n",
              "88147   Indo-Pak ODI much more than a cricket match: I...  \n",
              "63481   Q amp;A: Microsoft #39;s Will Poole talks abou...  "
            ],
            "text/html": [
              "\n",
              "  <div id=\"df-629b8d38-1182-49b4-a1e7-61a5b3562be9\">\n",
              "    <div class=\"colab-df-container\">\n",
              "      <div>\n",
              "<style scoped>\n",
              "    .dataframe tbody tr th:only-of-type {\n",
              "        vertical-align: middle;\n",
              "    }\n",
              "\n",
              "    .dataframe tbody tr th {\n",
              "        vertical-align: top;\n",
              "    }\n",
              "\n",
              "    .dataframe thead th {\n",
              "        text-align: right;\n",
              "    }\n",
              "</style>\n",
              "<table border=\"1\" class=\"dataframe\">\n",
              "  <thead>\n",
              "    <tr style=\"text-align: right;\">\n",
              "      <th></th>\n",
              "      <th>label</th>\n",
              "      <th>title</th>\n",
              "      <th>lead</th>\n",
              "      <th>text</th>\n",
              "    </tr>\n",
              "  </thead>\n",
              "  <tbody>\n",
              "    <tr>\n",
              "      <th>101466</th>\n",
              "      <td>world</td>\n",
              "      <td>We will curb violence, Palestinians tell Straw</td>\n",
              "      <td>The foreign secretary, Jack Straw, today won a...</td>\n",
              "      <td>We will curb violence, Palestinians tell Straw...</td>\n",
              "    </tr>\n",
              "    <tr>\n",
              "      <th>3268</th>\n",
              "      <td>sci/tech</td>\n",
              "      <td>Briefly: IBM chalks up two health care wins</td>\n",
              "      <td>roundup Plus: Vonage users dial 311 for city i...</td>\n",
              "      <td>Briefly: IBM chalks up two health care wins ro...</td>\n",
              "    </tr>\n",
              "    <tr>\n",
              "      <th>17526</th>\n",
              "      <td>sci/tech</td>\n",
              "      <td>HP helps hospital group cut printing costs, in...</td>\n",
              "      <td>When it needed help managing its 3,300 printer...</td>\n",
              "      <td>HP helps hospital group cut printing costs, in...</td>\n",
              "    </tr>\n",
              "    <tr>\n",
              "      <th>88147</th>\n",
              "      <td>sport</td>\n",
              "      <td>Indo-Pak ODI much more than a cricket match: I...</td>\n",
              "      <td>KOLKATA, India, Nov 11 (AFP): Pakistan #39;s f...</td>\n",
              "      <td>Indo-Pak ODI much more than a cricket match: I...</td>\n",
              "    </tr>\n",
              "    <tr>\n",
              "      <th>63481</th>\n",
              "      <td>sci/tech</td>\n",
              "      <td>Q amp;A: Microsoft #39;s Will Poole talks abou...</td>\n",
              "      <td>LOS ANGELES - With Microsoft pulling out the s...</td>\n",
              "      <td>Q amp;A: Microsoft #39;s Will Poole talks abou...</td>\n",
              "    </tr>\n",
              "  </tbody>\n",
              "</table>\n",
              "</div>\n",
              "      <button class=\"colab-df-convert\" onclick=\"convertToInteractive('df-629b8d38-1182-49b4-a1e7-61a5b3562be9')\"\n",
              "              title=\"Convert this dataframe to an interactive table.\"\n",
              "              style=\"display:none;\">\n",
              "        \n",
              "  <svg xmlns=\"http://www.w3.org/2000/svg\" height=\"24px\"viewBox=\"0 0 24 24\"\n",
              "       width=\"24px\">\n",
              "    <path d=\"M0 0h24v24H0V0z\" fill=\"none\"/>\n",
              "    <path d=\"M18.56 5.44l.94 2.06.94-2.06 2.06-.94-2.06-.94-.94-2.06-.94 2.06-2.06.94zm-11 1L8.5 8.5l.94-2.06 2.06-.94-2.06-.94L8.5 2.5l-.94 2.06-2.06.94zm10 10l.94 2.06.94-2.06 2.06-.94-2.06-.94-.94-2.06-.94 2.06-2.06.94z\"/><path d=\"M17.41 7.96l-1.37-1.37c-.4-.4-.92-.59-1.43-.59-.52 0-1.04.2-1.43.59L10.3 9.45l-7.72 7.72c-.78.78-.78 2.05 0 2.83L4 21.41c.39.39.9.59 1.41.59.51 0 1.02-.2 1.41-.59l7.78-7.78 2.81-2.81c.8-.78.8-2.07 0-2.86zM5.41 20L4 18.59l7.72-7.72 1.47 1.35L5.41 20z\"/>\n",
              "  </svg>\n",
              "      </button>\n",
              "      \n",
              "  <style>\n",
              "    .colab-df-container {\n",
              "      display:flex;\n",
              "      flex-wrap:wrap;\n",
              "      gap: 12px;\n",
              "    }\n",
              "\n",
              "    .colab-df-convert {\n",
              "      background-color: #E8F0FE;\n",
              "      border: none;\n",
              "      border-radius: 50%;\n",
              "      cursor: pointer;\n",
              "      display: none;\n",
              "      fill: #1967D2;\n",
              "      height: 32px;\n",
              "      padding: 0 0 0 0;\n",
              "      width: 32px;\n",
              "    }\n",
              "\n",
              "    .colab-df-convert:hover {\n",
              "      background-color: #E2EBFA;\n",
              "      box-shadow: 0px 1px 2px rgba(60, 64, 67, 0.3), 0px 1px 3px 1px rgba(60, 64, 67, 0.15);\n",
              "      fill: #174EA6;\n",
              "    }\n",
              "\n",
              "    [theme=dark] .colab-df-convert {\n",
              "      background-color: #3B4455;\n",
              "      fill: #D2E3FC;\n",
              "    }\n",
              "\n",
              "    [theme=dark] .colab-df-convert:hover {\n",
              "      background-color: #434B5C;\n",
              "      box-shadow: 0px 1px 3px 1px rgba(0, 0, 0, 0.15);\n",
              "      filter: drop-shadow(0px 1px 2px rgba(0, 0, 0, 0.3));\n",
              "      fill: #FFFFFF;\n",
              "    }\n",
              "  </style>\n",
              "\n",
              "      <script>\n",
              "        const buttonEl =\n",
              "          document.querySelector('#df-629b8d38-1182-49b4-a1e7-61a5b3562be9 button.colab-df-convert');\n",
              "        buttonEl.style.display =\n",
              "          google.colab.kernel.accessAllowed ? 'block' : 'none';\n",
              "\n",
              "        async function convertToInteractive(key) {\n",
              "          const element = document.querySelector('#df-629b8d38-1182-49b4-a1e7-61a5b3562be9');\n",
              "          const dataTable =\n",
              "            await google.colab.kernel.invokeFunction('convertToInteractive',\n",
              "                                                     [key], {});\n",
              "          if (!dataTable) return;\n",
              "\n",
              "          const docLinkHtml = 'Like what you see? Visit the ' +\n",
              "            '<a target=\"_blank\" href=https://colab.research.google.com/notebooks/data_table.ipynb>data table notebook</a>'\n",
              "            + ' to learn more about interactive tables.';\n",
              "          element.innerHTML = '';\n",
              "          dataTable['output_type'] = 'display_data';\n",
              "          await google.colab.output.renderOutput(dataTable, element);\n",
              "          const docLink = document.createElement('div');\n",
              "          docLink.innerHTML = docLinkHtml;\n",
              "          element.appendChild(docLink);\n",
              "        }\n",
              "      </script>\n",
              "    </div>\n",
              "  </div>\n",
              "  "
            ]
          },
          "metadata": {},
          "execution_count": 1
        }
      ],
      "source": [
        "!wget https://raw.githubusercontent.com/mhjabreel/CharCnn_Keras/master/data/ag_news_csv/train.csv\n",
        "\n",
        "import pandas as pd\n",
        "import nltk\n",
        "df = pd.read_csv('train.csv')\n",
        "\n",
        "df.columns = [\"label\", \"title\", \"lead\"]\n",
        "label_map = {1:\"world\", 2:\"sport\", 3:\"business\", 4:\"sci/tech\"}\n",
        "def replace_label(x):\n",
        "\treturn label_map[x]\n",
        "df[\"label\"] = df[\"label\"].apply(replace_label) \n",
        "df[\"text\"] = df[\"title\"] + \" \" + df[\"lead\"]\n",
        "df = df.sample(n=10000) # # only use 10K datapoints\n",
        "df.head()"
      ]
    },
    {
      "cell_type": "markdown",
      "id": "regulated-klein",
      "metadata": {
        "id": "regulated-klein"
      },
      "source": [
        "## Hugginface Transformers"
      ]
    },
    {
      "cell_type": "code",
      "execution_count": 2,
      "id": "reasonable-graph",
      "metadata": {
        "id": "reasonable-graph",
        "colab": {
          "base_uri": "https://localhost:8080/"
        },
        "outputId": "442d35ad-9ae4-48e1-b03f-3c55d089e380"
      },
      "outputs": [
        {
          "output_type": "stream",
          "name": "stdout",
          "text": [
            "Looking in indexes: https://pypi.org/simple, https://us-python.pkg.dev/colab-wheels/public/simple/\n",
            "Requirement already satisfied: transformers in /usr/local/lib/python3.9/dist-packages (4.27.4)\n",
            "Requirement already satisfied: filelock in /usr/local/lib/python3.9/dist-packages (from transformers) (3.10.7)\n",
            "Requirement already satisfied: requests in /usr/local/lib/python3.9/dist-packages (from transformers) (2.27.1)\n",
            "Requirement already satisfied: pyyaml>=5.1 in /usr/local/lib/python3.9/dist-packages (from transformers) (6.0)\n",
            "Requirement already satisfied: numpy>=1.17 in /usr/local/lib/python3.9/dist-packages (from transformers) (1.22.4)\n",
            "Requirement already satisfied: tokenizers!=0.11.3,<0.14,>=0.11.1 in /usr/local/lib/python3.9/dist-packages (from transformers) (0.13.3)\n",
            "Requirement already satisfied: huggingface-hub<1.0,>=0.11.0 in /usr/local/lib/python3.9/dist-packages (from transformers) (0.13.4)\n",
            "Requirement already satisfied: tqdm>=4.27 in /usr/local/lib/python3.9/dist-packages (from transformers) (4.65.0)\n",
            "Requirement already satisfied: packaging>=20.0 in /usr/local/lib/python3.9/dist-packages (from transformers) (23.0)\n",
            "Requirement already satisfied: regex!=2019.12.17 in /usr/local/lib/python3.9/dist-packages (from transformers) (2022.10.31)\n",
            "Requirement already satisfied: typing-extensions>=3.7.4.3 in /usr/local/lib/python3.9/dist-packages (from huggingface-hub<1.0,>=0.11.0->transformers) (4.5.0)\n",
            "Requirement already satisfied: charset-normalizer~=2.0.0 in /usr/local/lib/python3.9/dist-packages (from requests->transformers) (2.0.12)\n",
            "Requirement already satisfied: urllib3<1.27,>=1.21.1 in /usr/local/lib/python3.9/dist-packages (from requests->transformers) (1.26.15)\n",
            "Requirement already satisfied: certifi>=2017.4.17 in /usr/local/lib/python3.9/dist-packages (from requests->transformers) (2022.12.7)\n",
            "Requirement already satisfied: idna<4,>=2.5 in /usr/local/lib/python3.9/dist-packages (from requests->transformers) (3.4)\n"
          ]
        }
      ],
      "source": [
        "!pip install transformers\n",
        "from transformers import DistilBertForSequenceClassification, DistilBertConfig, DistilBertTokenizerFast\n",
        "import torch"
      ]
    },
    {
      "cell_type": "code",
      "execution_count": 3,
      "id": "confident-village",
      "metadata": {
        "id": "confident-village",
        "colab": {
          "base_uri": "https://localhost:8080/"
        },
        "outputId": "b08321a3-c0e7-40dc-908d-7ed5c7f5963a"
      },
      "outputs": [
        {
          "output_type": "stream",
          "name": "stderr",
          "text": [
            "Some weights of the model checkpoint at distilbert-base-uncased were not used when initializing DistilBertForSequenceClassification: ['vocab_layer_norm.bias', 'vocab_projector.weight', 'vocab_transform.weight', 'vocab_projector.bias', 'vocab_transform.bias', 'vocab_layer_norm.weight']\n",
            "- This IS expected if you are initializing DistilBertForSequenceClassification from the checkpoint of a model trained on another task or with another architecture (e.g. initializing a BertForSequenceClassification model from a BertForPreTraining model).\n",
            "- This IS NOT expected if you are initializing DistilBertForSequenceClassification from the checkpoint of a model that you expect to be exactly identical (initializing a BertForSequenceClassification model from a BertForSequenceClassification model).\n",
            "Some weights of DistilBertForSequenceClassification were not initialized from the model checkpoint at distilbert-base-uncased and are newly initialized: ['classifier.bias', 'classifier.weight', 'pre_classifier.weight', 'pre_classifier.bias']\n",
            "You should probably TRAIN this model on a down-stream task to be able to use it for predictions and inference.\n"
          ]
        }
      ],
      "source": [
        "device = torch.device('cuda' if torch.cuda.is_available() else 'cpu')\n",
        "\n",
        "##TODO build a transformer model to do sequence classification with the goal to predict the label from the text\n",
        "\n",
        "model_name = 'distilbert-base-uncased' # huggingface model_ID or path to folder \n",
        "model = DistilBertForSequenceClassification.from_pretrained(model_name, num_labels=4)\n",
        "tokenizer = DistilBertTokenizerFast.from_pretrained(model_name)"
      ]
    },
    {
      "cell_type": "code",
      "execution_count": 4,
      "id": "psychological-object",
      "metadata": {
        "id": "psychological-object",
        "colab": {
          "base_uri": "https://localhost:8080/"
        },
        "outputId": "0fcba9a5-a78b-4ce9-af39-6f44f3936e11"
      },
      "outputs": [
        {
          "output_type": "stream",
          "name": "stdout",
          "text": [
            "DistilBertForSequenceClassification(\n",
            "  (distilbert): DistilBertModel(\n",
            "    (embeddings): Embeddings(\n",
            "      (word_embeddings): Embedding(30522, 768, padding_idx=0)\n",
            "      (position_embeddings): Embedding(512, 768)\n",
            "      (LayerNorm): LayerNorm((768,), eps=1e-12, elementwise_affine=True)\n",
            "      (dropout): Dropout(p=0.1, inplace=False)\n",
            "    )\n",
            "    (transformer): Transformer(\n",
            "      (layer): ModuleList(\n",
            "        (0-5): 6 x TransformerBlock(\n",
            "          (attention): MultiHeadSelfAttention(\n",
            "            (dropout): Dropout(p=0.1, inplace=False)\n",
            "            (q_lin): Linear(in_features=768, out_features=768, bias=True)\n",
            "            (k_lin): Linear(in_features=768, out_features=768, bias=True)\n",
            "            (v_lin): Linear(in_features=768, out_features=768, bias=True)\n",
            "            (out_lin): Linear(in_features=768, out_features=768, bias=True)\n",
            "          )\n",
            "          (sa_layer_norm): LayerNorm((768,), eps=1e-12, elementwise_affine=True)\n",
            "          (ffn): FFN(\n",
            "            (dropout): Dropout(p=0.1, inplace=False)\n",
            "            (lin1): Linear(in_features=768, out_features=3072, bias=True)\n",
            "            (lin2): Linear(in_features=3072, out_features=768, bias=True)\n",
            "            (activation): GELUActivation()\n",
            "          )\n",
            "          (output_layer_norm): LayerNorm((768,), eps=1e-12, elementwise_affine=True)\n",
            "        )\n",
            "      )\n",
            "    )\n",
            "  )\n",
            "  (pre_classifier): Linear(in_features=768, out_features=768, bias=True)\n",
            "  (classifier): Linear(in_features=768, out_features=4, bias=True)\n",
            "  (dropout): Dropout(p=0.2, inplace=False)\n",
            ")\n"
          ]
        }
      ],
      "source": [
        "##TODO print the summary of the model\n",
        "\n",
        "print(model)"
      ]
    },
    {
      "cell_type": "code",
      "execution_count": 5,
      "id": "statistical-recommendation",
      "metadata": {
        "id": "statistical-recommendation"
      },
      "outputs": [],
      "source": [
        "from sklearn.model_selection import train_test_split\n",
        "from torch.utils.data import Dataset, DataLoader\n",
        "import numpy as np\n",
        "from torch.nn.utils.rnn import pad_sequence\n",
        "\n",
        "##TODO split the sample into a training and a test set \n",
        "\n",
        "label2id = {\"world\": 0, \"sport\": 1, \"business\": 2, \"sci/tech\": 3}\n",
        "y = df[\"label\"].apply(lambda x: label2id[x]).values\n",
        "\n",
        "X_train, X_test, y_train, y_test = train_test_split(df['text'].tolist(), y.tolist(), test_size = .2)\n",
        "\n",
        "\n",
        "##TODO prepare the dataset for torch.\n",
        "\n",
        "class GenericDataset(Dataset):\n",
        "    def __init__(self, X, y, tokenizer):\n",
        "        self.X = X\n",
        "        self.y = y\n",
        "        self.tokenizer = tokenizer\n",
        "\n",
        "    def __len__(self):\n",
        "        return len(self.y)\n",
        "\n",
        "    def __getitem__(self, index):\n",
        "        text = self.X[index]\n",
        "        tokens = self.tokenizer(text, padding=True, return_tensors='pt', truncation=True, max_length=256)\n",
        "        return tokens['input_ids'][0], self.y[index]\n",
        "\n",
        "# INitial input tensors did not have the same length so I had to add the collate_fn functiont\n",
        "def collate_fn(batch):\n",
        "    inputs = [x[0] for x in batch]\n",
        "    labels = [x[1] for x in batch]\n",
        "    inputs = pad_sequence(inputs, batch_first=True, padding_value=tokenizer.pad_token_id)\n",
        "    return inputs, torch.tensor(labels)\n",
        "\n",
        "train_dataset = GenericDataset(X_train, y_train, tokenizer)\n",
        "test_dataset = GenericDataset(X_test, y_test, tokenizer)\n",
        "\n",
        "\n",
        "train_loader = DataLoader(dataset=train_dataset, batch_size=16, shuffle=True, drop_last=False, collate_fn=collate_fn)\n",
        "test_loader = DataLoader(dataset=test_dataset, batch_size=16, shuffle=False, drop_last=False, collate_fn=collate_fn)"
      ]
    },
    {
      "cell_type": "code",
      "execution_count": 6,
      "id": "piano-compound",
      "metadata": {
        "id": "piano-compound",
        "colab": {
          "base_uri": "https://localhost:8080/"
        },
        "outputId": "e9cc0a04-dba1-49c9-e858-2b2641d5bfb3"
      },
      "outputs": [
        {
          "output_type": "stream",
          "name": "stderr",
          "text": [
            "100%|██████████| 500/500 [01:14<00:00,  6.69it/s]\n",
            "100%|██████████| 125/125 [00:05<00:00, 23.75it/s]"
          ]
        },
        {
          "output_type": "stream",
          "name": "stdout",
          "text": [
            "Epoch 0: loss = 1.396, accuracy = 0.262\n"
          ]
        },
        {
          "output_type": "stream",
          "name": "stderr",
          "text": [
            "\n"
          ]
        }
      ],
      "source": [
        "##TODO fit the model and print the obtained accuracy (hint: you can follow the training steps in the notebook. To learn more, checkout the trainer class of huggingface transformers)\n",
        "\n",
        "from tqdm import tqdm\n",
        "from sklearn.metrics import accuracy_score\n",
        "\n",
        "model.to(device)\n",
        "num_epochs = 1\n",
        "\n",
        "optimizer = torch.optim.Adam(model.parameters())\n",
        "\n",
        "for epoch in range(num_epochs):\n",
        "    model.train()\n",
        "    epoch_loss = 0\n",
        "    num_batches = 0\n",
        "    for inputs, labels in tqdm(train_loader):\n",
        "        inputs, labels = inputs.to(device), labels.to(device)\n",
        "        outputs = model(inputs, labels=labels)\n",
        "        loss, logits = outputs[:2]\n",
        "        loss.backward()\n",
        "\n",
        "        optimizer.step()\n",
        "        optimizer.zero_grad()\n",
        "\n",
        "        epoch_loss += loss.item()\n",
        "        num_batches += 1\n",
        "\n",
        "    model.eval()\n",
        "    predictions = []\n",
        "    true_labels = []\n",
        "    for inputs, labels in tqdm(test_loader):\n",
        "        inputs, labels = inputs.to(device), labels.to(device)\n",
        "        with torch.no_grad():\n",
        "            outputs = model(inputs)\n",
        "            logits = outputs[0]\n",
        "            prediction = torch.argmax(logits, dim=1).detach().cpu().numpy()\n",
        "            predictions.append(prediction)\n",
        "            true_labels.append(labels.cpu().numpy())\n",
        "\n",
        "\n",
        "    predictions = np.concatenate(predictions, axis=0)\n",
        "    true_labels = np.concatenate(true_labels, axis=0)\n",
        "    accuracy = accuracy_score(true_labels, predictions)\n",
        "    print(f\"Epoch {epoch}: loss = {epoch_loss/num_batches:.3f}, accuracy = {accuracy:.3f}\")"
      ]
    },
    {
      "cell_type": "markdown",
      "id": "e7fe3a17",
      "metadata": {
        "id": "e7fe3a17"
      },
      "source": [
        "# Doc Embedding"
      ]
    },
    {
      "cell_type": "code",
      "execution_count": 7,
      "id": "3b41f71c",
      "metadata": {
        "id": "3b41f71c",
        "colab": {
          "base_uri": "https://localhost:8080/"
        },
        "outputId": "95f625aa-7e9e-4b9a-c1b8-ada5e654d2fe"
      },
      "outputs": [
        {
          "output_type": "stream",
          "name": "stdout",
          "text": [
            "URL transformed to HTTPS due to an HSTS policy\n",
            "--2023-04-06 17:54:48--  https://alt.qcri.org/semeval2017/task1/data/uploads/sts2017.eval.v1.1.zip\n",
            "Resolving alt.qcri.org (alt.qcri.org)... 80.76.166.234\n",
            "Connecting to alt.qcri.org (alt.qcri.org)|80.76.166.234|:443... connected.\n",
            "HTTP request sent, awaiting response... 200 OK\n",
            "Length: 87902 (86K) [application/zip]\n",
            "Saving to: ‘sts2017.eval.v1.1.zip.1’\n",
            "\n",
            "sts2017.eval.v1.1.z 100%[===================>]  85.84K   194KB/s    in 0.4s    \n",
            "\n",
            "2023-04-06 17:54:50 (194 KB/s) - ‘sts2017.eval.v1.1.zip.1’ saved [87902/87902]\n",
            "\n",
            "URL transformed to HTTPS due to an HSTS policy\n",
            "--2023-04-06 17:54:50--  https://alt.qcri.org/semeval2017/task1/data/uploads/sts2017.gs.zip\n",
            "Resolving alt.qcri.org (alt.qcri.org)... 80.76.166.234\n",
            "Connecting to alt.qcri.org (alt.qcri.org)|80.76.166.234|:443... connected.\n",
            "HTTP request sent, awaiting response... 200 OK\n",
            "Length: 3138 (3.1K) [application/zip]\n",
            "Saving to: ‘sts2017.gs.zip.1’\n",
            "\n",
            "sts2017.gs.zip.1    100%[===================>]   3.06K  --.-KB/s    in 0s      \n",
            "\n",
            "2023-04-06 17:54:51 (561 MB/s) - ‘sts2017.gs.zip.1’ saved [3138/3138]\n",
            "\n",
            "Archive:  sts2017.eval.v1.1.zip\n",
            "replace STS2017.eval.v1.1/LICENSE.txt? [y]es, [n]o, [A]ll, [N]one, [r]ename: A\n",
            "  inflating: STS2017.eval.v1.1/LICENSE.txt  \n",
            "  inflating: STS2017.eval.v1.1/README.txt  \n",
            "  inflating: STS2017.eval.v1.1/STS.input.track1.ar-ar.txt  \n",
            "  inflating: STS2017.eval.v1.1/STS.input.track2.ar-en.txt  \n",
            "  inflating: STS2017.eval.v1.1/STS.input.track3.es-es.txt  \n",
            "  inflating: STS2017.eval.v1.1/STS.input.track4a.es-en.txt  \n",
            "  inflating: STS2017.eval.v1.1/STS.input.track4b.es-en.txt  \n",
            "  inflating: STS2017.eval.v1.1/STS.input.track5.en-en.txt  \n",
            "  inflating: STS2017.eval.v1.1/STS.input.track6.tr-en.txt  \n",
            "Archive:  sts2017.gs.zip\n",
            "replace STS2017.gs/STS.gs.track1.ar-ar.txt? [y]es, [n]o, [A]ll, [N]one, [r]ename: A\n",
            "  inflating: STS2017.gs/STS.gs.track1.ar-ar.txt  \n",
            "  inflating: STS2017.gs/STS.gs.track2.ar-en.txt  \n",
            "  inflating: STS2017.gs/STS.gs.track3.es-es.txt  \n",
            "  inflating: STS2017.gs/STS.gs.track4a.es-en.txt  \n",
            "  inflating: STS2017.gs/STS.gs.track4b.es-en.txt  \n",
            "  inflating: STS2017.gs/STS.gs.track5.en-en.txt  \n",
            "  inflating: STS2017.gs/STS.gs.track6.tr-en.txt  \n"
          ]
        }
      ],
      "source": [
        "# obtain the data\n",
        "!wget http://alt.qcri.org/semeval2017/task1/data/uploads/sts2017.eval.v1.1.zip\n",
        "!wget http://alt.qcri.org/semeval2017/task1/data/uploads/sts2017.gs.zip\n",
        "\n",
        "!unzip sts2017.eval.v1.1.zip \n",
        "!unzip sts2017.gs.zip "
      ]
    },
    {
      "cell_type": "code",
      "execution_count": 8,
      "id": "d48a11ab",
      "metadata": {
        "id": "d48a11ab",
        "colab": {
          "base_uri": "https://localhost:8080/"
        },
        "outputId": "dd7d5ea0-c498-4f27-d4d0-4a24e9952733"
      },
      "outputs": [
        {
          "output_type": "execute_result",
          "data": {
            "text/plain": [
              "('A person is on a baseball team.',\n",
              " 'A person is playing basketball on a team.',\n",
              " 2.4)"
            ]
          },
          "metadata": {},
          "execution_count": 8
        }
      ],
      "source": [
        "# load the data\n",
        "\n",
        "def load_STS_data():\n",
        "    with open(\"STS2017.gs/STS.gs.track5.en-en.txt\") as f:\n",
        "        labels = [float(line.strip()) for line in f]\n",
        "    \n",
        "    text_a, text_b = [], []\n",
        "    with open(\"STS2017.eval.v1.1/STS.input.atrack5.en-en.txt\") as f:\n",
        "        for line in f:\n",
        "            line = line.strip().split(\"\\t\")\n",
        "            text_a.append(line[0])\n",
        "            text_b.append(line[1])\n",
        "    return text_a, text_b, labels\n",
        "\n",
        "text_a, text_b, labels = load_STS_data()\n",
        "text_a[0], text_b[0], labels[0]"
      ]
    },
    {
      "cell_type": "code",
      "execution_count": 9,
      "id": "dee8bcb4",
      "metadata": {
        "id": "dee8bcb4"
      },
      "outputs": [],
      "source": [
        "# some utils\n",
        "from scipy.stats import spearmanr\n",
        "def evaluate(predictions, labels):\n",
        "    print (\"spearman's rank correlation\", spearmanr(predictions, labels)[0])\n",
        "\n",
        "import numpy as np\n",
        "from numpy import dot\n",
        "from numpy.linalg import norm\n",
        "\n",
        "def cosine_similarity(a,b):\n",
        "    return dot(a, b)/(norm(a)*norm(b))\n"
      ]
    },
    {
      "cell_type": "code",
      "execution_count": 10,
      "id": "46f02f97",
      "metadata": {
        "id": "46f02f97",
        "colab": {
          "base_uri": "https://localhost:8080/"
        },
        "outputId": "40fae201-1a4b-479f-8ab1-4d4ddf01e0b6"
      },
      "outputs": [
        {
          "output_type": "stream",
          "name": "stdout",
          "text": [
            "spearman's rank correlation 0.6998056665685976\n"
          ]
        }
      ],
      "source": [
        "# Wordcounts baseline\n",
        "from sklearn.feature_extraction.text import CountVectorizer\n",
        "vec = CountVectorizer()\n",
        "vec.fit(text_a + text_b)\n",
        "\n",
        "# encode documents\n",
        "text_a_encoded = np.array(vec.transform(text_a).todense())\n",
        "text_b_encoded = np.array(vec.transform(text_b).todense())\n",
        "\n",
        "# predict cosine similarities\n",
        "predictions = [cosine_similarity(a,b) for a,b in zip(text_a_encoded, text_b_encoded)]\n",
        "\n",
        "# evaluate\n",
        "evaluate(predictions, labels)"
      ]
    },
    {
      "cell_type": "code",
      "execution_count": 11,
      "id": "965242a5",
      "metadata": {
        "id": "965242a5",
        "colab": {
          "base_uri": "https://localhost:8080/"
        },
        "outputId": "284a4794-3ef3-402d-eae8-f04bee62cbba"
      },
      "outputs": [
        {
          "output_type": "stream",
          "name": "stdout",
          "text": [
            "spearman's rank correlation 0.39152403192392854\n"
          ]
        }
      ],
      "source": [
        "##TODO train Doc2Vec on the texts in the dataset\n",
        "\n",
        "import gensim\n",
        "'''\n",
        "from gensim.models.doc2vec import Doc2Vec\n",
        "import nltk\n",
        "nltk.download('punkt')\n",
        "from nltk import word_tokenize\n",
        "docs = []\n",
        "\n",
        "for i, row in df.iterrows():\n",
        "    docs += [word_tokenize(row['snippet'])]\n",
        "shuffle(docs)\n",
        "'''\n",
        "class TextIterator(object):\n",
        "    def __init__(self, texts):\n",
        "        self.texts = texts\n",
        "        \n",
        "    def __iter__(self):\n",
        "        for i, text in enumerate(self.texts):\n",
        "            yield gensim.models.doc2vec.TaggedDocument(gensim.utils.simple_preprocess(text), [i])\n",
        "\n",
        "# instantiate the Doc2Vec model\n",
        "model = gensim.models.doc2vec.Doc2Vec(vector_size=300, min_count=2, epochs=40)\n",
        "\n",
        "model.build_vocab(TextIterator(text_a + text_b))\n",
        "model.train(TextIterator(text_a + text_b), total_examples=model.corpus_count, epochs=model.epochs)\n",
        "\n",
        "##TODO derive the word vectors for each text in the dataset\n",
        "\n",
        "a_vec = [model.infer_vector(gensim.utils.simple_preprocess(text)) for text in text_a]\n",
        "b_vec = [model.infer_vector(gensim.utils.simple_preprocess(text)) for text in text_b]\n",
        "\n",
        "##TODO compute cosine similarity between the text pairs and evaluate spearman's rank correlation\n",
        "pred = [cosine_similarity(a, b) for a, b in zip(a_vec, b_vec)]\n",
        "evaluate(pred, labels)\n",
        "## Don't worry if results are not satisfactory using Doc2Vec (the dataset is too small to train good embeddings)"
      ]
    },
    {
      "cell_type": "code",
      "execution_count": 12,
      "id": "e67b67c8",
      "metadata": {
        "id": "e67b67c8",
        "colab": {
          "base_uri": "https://localhost:8080/"
        },
        "outputId": "58b610ca-fd2f-4b7c-c2d3-4d3a0beb1166"
      },
      "outputs": [
        {
          "output_type": "stream",
          "name": "stdout",
          "text": [
            "spearman's rank correlation 0.48796451382976114\n"
          ]
        }
      ],
      "source": [
        "##TODO do the same with embeddings provided by spaCy\n",
        "\n",
        "import spacy\n",
        "\n",
        "nlp = spacy.load(\"en_core_web_sm\")\n",
        "\n",
        "a_embedd = [nlp(text).vector for text in text_a]\n",
        "b_embedd = [nlp(text).vector for text in text_b]\n",
        "\n",
        "\n",
        "pred = [cosine_similarity(a, b) for a, b in zip(a_embedd, b_embedd)]\n",
        "evaluate(pred, labels)"
      ]
    },
    {
      "cell_type": "code",
      "source": [
        "!pip install sentence-transformers"
      ],
      "metadata": {
        "id": "WXh73JNUsdnK",
        "outputId": "dab11b79-c1d9-49d8-8ce8-6593831da849",
        "colab": {
          "base_uri": "https://localhost:8080/",
          "height": 324
        }
      },
      "id": "WXh73JNUsdnK",
      "execution_count": 13,
      "outputs": [
        {
          "output_type": "error",
          "ename": "NotImplementedError",
          "evalue": "ignored",
          "traceback": [
            "\u001b[0;31m---------------------------------------------------------------------------\u001b[0m",
            "\u001b[0;31mNotImplementedError\u001b[0m                       Traceback (most recent call last)",
            "\u001b[0;32m<ipython-input-13-9971ab2334f0>\u001b[0m in \u001b[0;36m<cell line: 1>\u001b[0;34m()\u001b[0m\n\u001b[0;32m----> 1\u001b[0;31m \u001b[0mget_ipython\u001b[0m\u001b[0;34m(\u001b[0m\u001b[0;34m)\u001b[0m\u001b[0;34m.\u001b[0m\u001b[0msystem\u001b[0m\u001b[0;34m(\u001b[0m\u001b[0;34m'pip install sentence-transformers'\u001b[0m\u001b[0;34m)\u001b[0m\u001b[0;34m\u001b[0m\u001b[0;34m\u001b[0m\u001b[0m\n\u001b[0m",
            "\u001b[0;32m/usr/local/lib/python3.9/dist-packages/google/colab/_shell.py\u001b[0m in \u001b[0;36msystem\u001b[0;34m(self, *args, **kwargs)\u001b[0m\n\u001b[1;32m     96\u001b[0m       \u001b[0mkwargs\u001b[0m\u001b[0;34m.\u001b[0m\u001b[0mupdate\u001b[0m\u001b[0;34m(\u001b[0m\u001b[0;34m{\u001b[0m\u001b[0;34m'also_return_output'\u001b[0m\u001b[0;34m:\u001b[0m \u001b[0;32mTrue\u001b[0m\u001b[0;34m}\u001b[0m\u001b[0;34m)\u001b[0m\u001b[0;34m\u001b[0m\u001b[0;34m\u001b[0m\u001b[0m\n\u001b[1;32m     97\u001b[0m \u001b[0;34m\u001b[0m\u001b[0m\n\u001b[0;32m---> 98\u001b[0;31m     \u001b[0moutput\u001b[0m \u001b[0;34m=\u001b[0m \u001b[0m_system_commands\u001b[0m\u001b[0;34m.\u001b[0m\u001b[0m_system_compat\u001b[0m\u001b[0;34m(\u001b[0m\u001b[0mself\u001b[0m\u001b[0;34m,\u001b[0m \u001b[0;34m*\u001b[0m\u001b[0margs\u001b[0m\u001b[0;34m,\u001b[0m \u001b[0;34m**\u001b[0m\u001b[0mkwargs\u001b[0m\u001b[0;34m)\u001b[0m  \u001b[0;31m# pylint:disable=protected-access\u001b[0m\u001b[0;34m\u001b[0m\u001b[0;34m\u001b[0m\u001b[0m\n\u001b[0m\u001b[1;32m     99\u001b[0m \u001b[0;34m\u001b[0m\u001b[0m\n\u001b[1;32m    100\u001b[0m     \u001b[0;32mif\u001b[0m \u001b[0mpip_warn\u001b[0m\u001b[0;34m:\u001b[0m\u001b[0;34m\u001b[0m\u001b[0;34m\u001b[0m\u001b[0m\n",
            "\u001b[0;32m/usr/local/lib/python3.9/dist-packages/google/colab/_system_commands.py\u001b[0m in \u001b[0;36m_system_compat\u001b[0;34m(shell, cmd, also_return_output)\u001b[0m\n\u001b[1;32m    451\u001b[0m   \u001b[0;31m# is expected to call this function, thus adding one level of nesting to the\u001b[0m\u001b[0;34m\u001b[0m\u001b[0;34m\u001b[0m\u001b[0m\n\u001b[1;32m    452\u001b[0m   \u001b[0;31m# stack.\u001b[0m\u001b[0;34m\u001b[0m\u001b[0;34m\u001b[0m\u001b[0m\n\u001b[0;32m--> 453\u001b[0;31m   result = _run_command(\n\u001b[0m\u001b[1;32m    454\u001b[0m       \u001b[0mshell\u001b[0m\u001b[0;34m.\u001b[0m\u001b[0mvar_expand\u001b[0m\u001b[0;34m(\u001b[0m\u001b[0mcmd\u001b[0m\u001b[0;34m,\u001b[0m \u001b[0mdepth\u001b[0m\u001b[0;34m=\u001b[0m\u001b[0;36m2\u001b[0m\u001b[0;34m)\u001b[0m\u001b[0;34m,\u001b[0m \u001b[0mclear_streamed_output\u001b[0m\u001b[0;34m=\u001b[0m\u001b[0;32mFalse\u001b[0m\u001b[0;34m\u001b[0m\u001b[0;34m\u001b[0m\u001b[0m\n\u001b[1;32m    455\u001b[0m   )\n",
            "\u001b[0;32m/usr/local/lib/python3.9/dist-packages/google/colab/_system_commands.py\u001b[0m in \u001b[0;36m_run_command\u001b[0;34m(cmd, clear_streamed_output)\u001b[0m\n\u001b[1;32m    165\u001b[0m   \u001b[0mlocale_encoding\u001b[0m \u001b[0;34m=\u001b[0m \u001b[0mlocale\u001b[0m\u001b[0;34m.\u001b[0m\u001b[0mgetpreferredencoding\u001b[0m\u001b[0;34m(\u001b[0m\u001b[0;34m)\u001b[0m\u001b[0;34m\u001b[0m\u001b[0;34m\u001b[0m\u001b[0m\n\u001b[1;32m    166\u001b[0m   \u001b[0;32mif\u001b[0m \u001b[0mlocale_encoding\u001b[0m \u001b[0;34m!=\u001b[0m \u001b[0m_ENCODING\u001b[0m\u001b[0;34m:\u001b[0m\u001b[0;34m\u001b[0m\u001b[0;34m\u001b[0m\u001b[0m\n\u001b[0;32m--> 167\u001b[0;31m     raise NotImplementedError(\n\u001b[0m\u001b[1;32m    168\u001b[0m         \u001b[0;34m'A UTF-8 locale is required. Got {}'\u001b[0m\u001b[0;34m.\u001b[0m\u001b[0mformat\u001b[0m\u001b[0;34m(\u001b[0m\u001b[0mlocale_encoding\u001b[0m\u001b[0;34m)\u001b[0m\u001b[0;34m\u001b[0m\u001b[0;34m\u001b[0m\u001b[0m\n\u001b[1;32m    169\u001b[0m     )\n",
            "\u001b[0;31mNotImplementedError\u001b[0m: A UTF-8 locale is required. Got ANSI_X3.4-1968"
          ]
        }
      ]
    },
    {
      "cell_type": "code",
      "execution_count": null,
      "id": "2cf40ced",
      "metadata": {
        "id": "2cf40ced"
      },
      "outputs": [],
      "source": [
        "##TODO do the same with SBERT embeddings\n",
        "from sentence_transformers import SentenceTransformer\n",
        "\n",
        "model = SentenceTransformer('bert-base-nli-mean-tokens')\n",
        "\n",
        "a_embedd = model.encode(text_a)\n",
        "b_embedd = model.encode(text_b)\n",
        "\n",
        "pred = [cosine_similarity(a, b) for a, b in zip(a_embedd, b_embedd)]\n",
        "evaluate(pred, labels)"
      ]
    }
  ],
  "metadata": {
    "colab": {
      "provenance": []
    },
    "kernelspec": {
      "display_name": "Python 3 (ipykernel)",
      "language": "python",
      "name": "python3"
    },
    "language_info": {
      "codemirror_mode": {
        "name": "ipython",
        "version": 3
      },
      "file_extension": ".py",
      "mimetype": "text/x-python",
      "name": "python",
      "nbconvert_exporter": "python",
      "pygments_lexer": "ipython3",
      "version": "3.8.16"
    },
    "toc": {
      "base_numbering": 1,
      "nav_menu": {},
      "number_sections": true,
      "sideBar": true,
      "skip_h1_title": false,
      "title_cell": "Table of Contents",
      "title_sidebar": "Contents",
      "toc_cell": false,
      "toc_position": {},
      "toc_section_display": true,
      "toc_window_display": false
    },
    "accelerator": "GPU",
    "gpuClass": "standard"
  },
  "nbformat": 4,
  "nbformat_minor": 5
}