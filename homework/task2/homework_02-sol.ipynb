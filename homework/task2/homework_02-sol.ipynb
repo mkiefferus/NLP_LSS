{
  "cells": [
    {
      "cell_type": "markdown",
      "id": "a60bffde",
      "metadata": {
        "id": "a60bffde"
      },
      "source": [
        "# HW02: Tokenization"
      ]
    },
    {
      "cell_type": "markdown",
      "id": "b8ed3f1a",
      "metadata": {
        "id": "b8ed3f1a"
      },
      "source": [
        "Remember that these homework work as a completion grade. **You can skip one section without losing credit.**"
      ]
    },
    {
      "cell_type": "code",
      "execution_count": null,
      "id": "dc19cf83",
      "metadata": {
        "colab": {
          "base_uri": "https://localhost:8080/",
          "height": 397
        },
        "id": "dc19cf83",
        "outputId": "701d9caf-e9e4-4dda-a80a-09e111275072"
      },
      "outputs": [
        {
          "output_type": "stream",
          "name": "stdout",
          "text": [
            "--2023-03-09 06:27:48--  https://raw.githubusercontent.com/mhjabreel/CharCnn_Keras/master/data/ag_news_csv/train.csv\n",
            "Resolving raw.githubusercontent.com (raw.githubusercontent.com)... 185.199.108.133, 185.199.109.133, 185.199.110.133, ...\n",
            "Connecting to raw.githubusercontent.com (raw.githubusercontent.com)|185.199.108.133|:443... connected.\n",
            "HTTP request sent, awaiting response... 200 OK\n",
            "Length: 29470338 (28M) [text/plain]\n",
            "Saving to: ‘train.csv’\n",
            "\n",
            "train.csv           100%[===================>]  28.10M   126MB/s    in 0.2s    \n",
            "\n",
            "2023-03-09 06:27:49 (126 MB/s) - ‘train.csv’ saved [29470338/29470338]\n",
            "\n"
          ]
        },
        {
          "output_type": "execute_result",
          "data": {
            "text/plain": [
              "      label                                              title  \\\n",
              "0  business  Carlyle Looks Toward Commercial Aerospace (Reu...   \n",
              "1  business    Oil and Economy Cloud Stocks' Outlook (Reuters)   \n",
              "2  business  Iraq Halts Oil Exports from Main Southern Pipe...   \n",
              "3  business  Oil prices soar to all-time record, posing new...   \n",
              "4  business        Stocks End Up, But Near Year Lows (Reuters)   \n",
              "\n",
              "                                                lead  \\\n",
              "0  Reuters - Private investment firm Carlyle Grou...   \n",
              "1  Reuters - Soaring crude prices plus worries\\ab...   \n",
              "2  Reuters - Authorities have halted oil export\\f...   \n",
              "3  AFP - Tearaway world oil prices, toppling reco...   \n",
              "4  Reuters - Stocks ended slightly higher on Frid...   \n",
              "\n",
              "                                                text  \n",
              "0  Carlyle Looks Toward Commercial Aerospace (Reu...  \n",
              "1  Oil and Economy Cloud Stocks' Outlook (Reuters...  \n",
              "2  Iraq Halts Oil Exports from Main Southern Pipe...  \n",
              "3  Oil prices soar to all-time record, posing new...  \n",
              "4  Stocks End Up, But Near Year Lows (Reuters) Re...  "
            ],
            "text/html": [
              "\n",
              "  <div id=\"df-2e54e5a5-5411-466d-ab69-ed1ffb9335af\">\n",
              "    <div class=\"colab-df-container\">\n",
              "      <div>\n",
              "<style scoped>\n",
              "    .dataframe tbody tr th:only-of-type {\n",
              "        vertical-align: middle;\n",
              "    }\n",
              "\n",
              "    .dataframe tbody tr th {\n",
              "        vertical-align: top;\n",
              "    }\n",
              "\n",
              "    .dataframe thead th {\n",
              "        text-align: right;\n",
              "    }\n",
              "</style>\n",
              "<table border=\"1\" class=\"dataframe\">\n",
              "  <thead>\n",
              "    <tr style=\"text-align: right;\">\n",
              "      <th></th>\n",
              "      <th>label</th>\n",
              "      <th>title</th>\n",
              "      <th>lead</th>\n",
              "      <th>text</th>\n",
              "    </tr>\n",
              "  </thead>\n",
              "  <tbody>\n",
              "    <tr>\n",
              "      <th>0</th>\n",
              "      <td>business</td>\n",
              "      <td>Carlyle Looks Toward Commercial Aerospace (Reu...</td>\n",
              "      <td>Reuters - Private investment firm Carlyle Grou...</td>\n",
              "      <td>Carlyle Looks Toward Commercial Aerospace (Reu...</td>\n",
              "    </tr>\n",
              "    <tr>\n",
              "      <th>1</th>\n",
              "      <td>business</td>\n",
              "      <td>Oil and Economy Cloud Stocks' Outlook (Reuters)</td>\n",
              "      <td>Reuters - Soaring crude prices plus worries\\ab...</td>\n",
              "      <td>Oil and Economy Cloud Stocks' Outlook (Reuters...</td>\n",
              "    </tr>\n",
              "    <tr>\n",
              "      <th>2</th>\n",
              "      <td>business</td>\n",
              "      <td>Iraq Halts Oil Exports from Main Southern Pipe...</td>\n",
              "      <td>Reuters - Authorities have halted oil export\\f...</td>\n",
              "      <td>Iraq Halts Oil Exports from Main Southern Pipe...</td>\n",
              "    </tr>\n",
              "    <tr>\n",
              "      <th>3</th>\n",
              "      <td>business</td>\n",
              "      <td>Oil prices soar to all-time record, posing new...</td>\n",
              "      <td>AFP - Tearaway world oil prices, toppling reco...</td>\n",
              "      <td>Oil prices soar to all-time record, posing new...</td>\n",
              "    </tr>\n",
              "    <tr>\n",
              "      <th>4</th>\n",
              "      <td>business</td>\n",
              "      <td>Stocks End Up, But Near Year Lows (Reuters)</td>\n",
              "      <td>Reuters - Stocks ended slightly higher on Frid...</td>\n",
              "      <td>Stocks End Up, But Near Year Lows (Reuters) Re...</td>\n",
              "    </tr>\n",
              "  </tbody>\n",
              "</table>\n",
              "</div>\n",
              "      <button class=\"colab-df-convert\" onclick=\"convertToInteractive('df-2e54e5a5-5411-466d-ab69-ed1ffb9335af')\"\n",
              "              title=\"Convert this dataframe to an interactive table.\"\n",
              "              style=\"display:none;\">\n",
              "        \n",
              "  <svg xmlns=\"http://www.w3.org/2000/svg\" height=\"24px\"viewBox=\"0 0 24 24\"\n",
              "       width=\"24px\">\n",
              "    <path d=\"M0 0h24v24H0V0z\" fill=\"none\"/>\n",
              "    <path d=\"M18.56 5.44l.94 2.06.94-2.06 2.06-.94-2.06-.94-.94-2.06-.94 2.06-2.06.94zm-11 1L8.5 8.5l.94-2.06 2.06-.94-2.06-.94L8.5 2.5l-.94 2.06-2.06.94zm10 10l.94 2.06.94-2.06 2.06-.94-2.06-.94-.94-2.06-.94 2.06-2.06.94z\"/><path d=\"M17.41 7.96l-1.37-1.37c-.4-.4-.92-.59-1.43-.59-.52 0-1.04.2-1.43.59L10.3 9.45l-7.72 7.72c-.78.78-.78 2.05 0 2.83L4 21.41c.39.39.9.59 1.41.59.51 0 1.02-.2 1.41-.59l7.78-7.78 2.81-2.81c.8-.78.8-2.07 0-2.86zM5.41 20L4 18.59l7.72-7.72 1.47 1.35L5.41 20z\"/>\n",
              "  </svg>\n",
              "      </button>\n",
              "      \n",
              "  <style>\n",
              "    .colab-df-container {\n",
              "      display:flex;\n",
              "      flex-wrap:wrap;\n",
              "      gap: 12px;\n",
              "    }\n",
              "\n",
              "    .colab-df-convert {\n",
              "      background-color: #E8F0FE;\n",
              "      border: none;\n",
              "      border-radius: 50%;\n",
              "      cursor: pointer;\n",
              "      display: none;\n",
              "      fill: #1967D2;\n",
              "      height: 32px;\n",
              "      padding: 0 0 0 0;\n",
              "      width: 32px;\n",
              "    }\n",
              "\n",
              "    .colab-df-convert:hover {\n",
              "      background-color: #E2EBFA;\n",
              "      box-shadow: 0px 1px 2px rgba(60, 64, 67, 0.3), 0px 1px 3px 1px rgba(60, 64, 67, 0.15);\n",
              "      fill: #174EA6;\n",
              "    }\n",
              "\n",
              "    [theme=dark] .colab-df-convert {\n",
              "      background-color: #3B4455;\n",
              "      fill: #D2E3FC;\n",
              "    }\n",
              "\n",
              "    [theme=dark] .colab-df-convert:hover {\n",
              "      background-color: #434B5C;\n",
              "      box-shadow: 0px 1px 3px 1px rgba(0, 0, 0, 0.15);\n",
              "      filter: drop-shadow(0px 1px 2px rgba(0, 0, 0, 0.3));\n",
              "      fill: #FFFFFF;\n",
              "    }\n",
              "  </style>\n",
              "\n",
              "      <script>\n",
              "        const buttonEl =\n",
              "          document.querySelector('#df-2e54e5a5-5411-466d-ab69-ed1ffb9335af button.colab-df-convert');\n",
              "        buttonEl.style.display =\n",
              "          google.colab.kernel.accessAllowed ? 'block' : 'none';\n",
              "\n",
              "        async function convertToInteractive(key) {\n",
              "          const element = document.querySelector('#df-2e54e5a5-5411-466d-ab69-ed1ffb9335af');\n",
              "          const dataTable =\n",
              "            await google.colab.kernel.invokeFunction('convertToInteractive',\n",
              "                                                     [key], {});\n",
              "          if (!dataTable) return;\n",
              "\n",
              "          const docLinkHtml = 'Like what you see? Visit the ' +\n",
              "            '<a target=\"_blank\" href=https://colab.research.google.com/notebooks/data_table.ipynb>data table notebook</a>'\n",
              "            + ' to learn more about interactive tables.';\n",
              "          element.innerHTML = '';\n",
              "          dataTable['output_type'] = 'display_data';\n",
              "          await google.colab.output.renderOutput(dataTable, element);\n",
              "          const docLink = document.createElement('div');\n",
              "          docLink.innerHTML = docLinkHtml;\n",
              "          element.appendChild(docLink);\n",
              "        }\n",
              "      </script>\n",
              "    </div>\n",
              "  </div>\n",
              "  "
            ]
          },
          "metadata": {},
          "execution_count": 1
        }
      ],
      "source": [
        "#Import the AG news dataset (same as hw01)\n",
        "#Download them from here \n",
        "!wget https://raw.githubusercontent.com/mhjabreel/CharCnn_Keras/master/data/ag_news_csv/train.csv\n",
        "\n",
        "import pandas as pd\n",
        "import nltk\n",
        "df = pd.read_csv('train.csv')\n",
        "\n",
        "df.columns = [\"label\", \"title\", \"lead\"]\n",
        "label_map = {1:\"world\", 2:\"sport\", 3:\"business\", 4:\"sci/tech\"}\n",
        "def replace_label(x):\n",
        "\treturn label_map[x]\n",
        "df[\"label\"] = df[\"label\"].apply(replace_label) \n",
        "df[\"text\"] = df[\"title\"] + \" \" + df[\"lead\"]\n",
        "df.head()"
      ]
    },
    {
      "cell_type": "markdown",
      "id": "37f7b626",
      "metadata": {
        "id": "37f7b626"
      },
      "source": [
        "## Preprocess Text"
      ]
    },
    {
      "cell_type": "code",
      "execution_count": null,
      "id": "ab1861a9",
      "metadata": {
        "colab": {
          "base_uri": "https://localhost:8080/"
        },
        "id": "ab1861a9",
        "outputId": "08cca6d9-78b8-4f39-e21c-95e64a98f38c"
      },
      "outputs": [
        {
          "output_type": "stream",
          "name": "stderr",
          "text": [
            "/usr/local/lib/python3.9/dist-packages/torch/cuda/__init__.py:497: UserWarning: Can't initialize NVML\n",
            "  warnings.warn(\"Can't initialize NVML\")\n"
          ]
        },
        {
          "output_type": "stream",
          "name": "stdout",
          "text": [
            "Dutch arrest man suspected of aiding Saddam war crimes, genocide (AFP) AFP - The Dutch police said they had arrested a man suspected of aiding former Iraqi leader Saddam Hussein in committing war crimes and genocide by supplying him with the materials to make chemical weapons used in attacks in the 1980s.\n"
          ]
        }
      ],
      "source": [
        "import spacy\n",
        "dfs = df.sample(50)\n",
        "nlp = spacy.load('en_core_web_sm')\n",
        "\n",
        "##TODO use spacy to split the documents in the sampled dataframe (dfs) in sentences and tokens\n",
        "##TODO print the first sentence of the first document in your sample\n",
        "dfs['processed'] = dfs['text'].apply(lambda x: nlp(x))\n",
        "print(list(dfs.iloc[0][\"processed\"].sents)[0])"
      ]
    },
    {
      "cell_type": "code",
      "execution_count": null,
      "id": "65fa4c48",
      "metadata": {
        "colab": {
          "base_uri": "https://localhost:8080/"
        },
        "id": "65fa4c48",
        "outputId": "5cdac1d6-8224-4c60-81ac-b52e34d93b6b"
      },
      "outputs": [
        {
          "output_type": "stream",
          "name": "stdout",
          "text": [
            "dutch amod\n",
            "arrest compound\n",
            "man nsubj\n",
            "suspect acl\n",
            "of prep\n",
            "aid pcomp\n",
            "Saddam compound\n",
            "war compound\n",
            "crime dobj\n",
            ", punct\n",
            "genocide conj\n",
            "( punct\n",
            "AFP appos\n",
            ") punct\n",
            "AFP nmod\n",
            "- punct\n",
            "the det\n",
            "dutch amod\n",
            "police nsubj\n",
            "say ROOT\n",
            "they nsubj\n",
            "have aux\n",
            "arrest ccomp\n",
            "a det\n",
            "man dobj\n",
            "suspect acl\n",
            "of prep\n",
            "aid pcomp\n",
            "former amod\n",
            "iraqi amod\n",
            "leader compound\n",
            "Saddam compound\n",
            "Hussein dobj\n",
            "in prep\n",
            "commit pcomp\n",
            "war compound\n",
            "crime dobj\n",
            "and cc\n",
            "genocide conj\n",
            "by prep\n",
            "supply pcomp\n",
            "he dobj\n",
            "with prep\n",
            "the det\n",
            "material pobj\n",
            "to aux\n",
            "make advcl\n",
            "chemical amod\n",
            "weapon nsubj\n",
            "use ccomp\n",
            "in prep\n",
            "attack pobj\n",
            "in prep\n",
            "the det\n",
            "1980s pobj\n",
            ". punct\n"
          ]
        }
      ],
      "source": [
        "##TODO create a new column with tokens in lowercase (x.lower()), without punctuation tokens (x.is_punct), stopwords (x.is_stop), and digits (x.is_digit)\n",
        "dfs['meaningful_toks'] = dfs['processed'].apply(lambda doc: [w.lemma_.lower() for w in doc if not w.is_stop and not w.is_punct and not w.is_digit])\n",
        "##TODO print the tokens (x.lemma_) and the dependency labels (x.dep_ ) of the first sentence of the first document (doc.sents)\n",
        "first_sent_doc = list(dfs.iloc[0][\"processed\"].sents)[0]\n",
        "for tok in first_sent_doc:\n",
        "  print(tok.lemma_, tok.dep_)"
      ]
    },
    {
      "cell_type": "markdown",
      "id": "8ef544f1",
      "metadata": {
        "id": "8ef544f1"
      },
      "source": [
        "### Named Entities\n",
        "\n",
        "Let's compute the ratio of named entities starting with a capital letter, e.g. if we have \"University of Chicago\" as a NE, \"University\" and \"Chicago\" are capitalized, \"of\" is not, thus the ratio is 2/3."
      ]
    },
    {
      "cell_type": "code",
      "execution_count": null,
      "id": "be2cb111",
      "metadata": {
        "colab": {
          "base_uri": "https://localhost:8080/"
        },
        "id": "be2cb111",
        "outputId": "3105a77e-0e35-4ac9-9a7f-66add56b69fb"
      },
      "outputs": [
        {
          "output_type": "stream",
          "name": "stdout",
          "text": [
            "0.7\n"
          ]
        }
      ],
      "source": [
        "##TODO print the ratio of tokens being part of a named entity span starting with a capital letter (doc.ents)\n",
        "\n",
        "num_capitalized, n = 0, 0\n",
        "for doc in dfs[\"processed\"]:\n",
        "    for entity in doc.ents:\n",
        "        tokens = entity.text.split(' ')\n",
        "        for tok in tokens:\n",
        "          if tok[0].isupper():\n",
        "            num_capitalized += 1\n",
        "          n += 1\n",
        "print(num_capitalized / n)"
      ]
    },
    {
      "cell_type": "code",
      "execution_count": null,
      "id": "984b4d1f",
      "metadata": {
        "colab": {
          "base_uri": "https://localhost:8080/"
        },
        "id": "984b4d1f",
        "outputId": "a591eba1-e939-4fc5-9269-e96da7ae54e0"
      },
      "outputs": [
        {
          "name": "stdout",
          "output_type": "stream",
          "text": [
            "0.13352112676056338\n"
          ]
        }
      ],
      "source": [
        "##TODO print the ratio of capitalized tokens not being part of a named entity span (have no token.ent_type_)\n",
        "# e.g. \"The dog barks\" = 1/3; 3 tokens, only \"The\" is capitalized\n",
        "\n",
        "num_capitalized, n = 0, 0\n",
        "\n",
        "for doc in dfs[\"processed\"]:\n",
        "    for token in doc:\n",
        "        if not token.ent_type_:\n",
        "            if token.text[0].isupper():\n",
        "                num_capitalized += 1\n",
        "            n += 1\n",
        "print(num_capitalized / n)"
      ]
    },
    {
      "cell_type": "code",
      "execution_count": null,
      "id": "ac3ede3c",
      "metadata": {
        "colab": {
          "base_uri": "https://localhost:8080/"
        },
        "id": "ac3ede3c",
        "outputId": "ad588a8c-a3b6-4c51-c91e-be6c8a327358"
      },
      "outputs": [
        {
          "output_type": "stream",
          "name": "stdout",
          "text": [
            "0.09808612440191387\n"
          ]
        }
      ],
      "source": [
        "##TODO print the ratio of capitalized tokens not being a named entity and not being the first token in a sentence\n",
        "# e.g. \"The dog barks\" = 0; 3 tokens, \"The\" is capitalized but the starting token of a sentence, no other tokens are capitalized.\n",
        "\n",
        "num_capitalized, n = 0, 0\n",
        "\n",
        "\n",
        "for doc in dfs[\"processed\"]:\n",
        "    for sent in doc.sents:\n",
        "        for i, token in enumerate(sent):\n",
        "            if i == 0:\n",
        "                continue\n",
        "            if not token.ent_type_:\n",
        "                if token.text[0].isupper():\n",
        "                    num_capitalized += 1\n",
        "                    error_analysis = sent # keep one sentence where we have a capitalized token which is not the start of the sentence\n",
        "                    \n",
        "                n += 1\n",
        "print(num_capitalized / n)"
      ]
    },
    {
      "cell_type": "markdown",
      "id": "466753be",
      "metadata": {
        "id": "466753be"
      },
      "source": [
        "Give an example of a capitalized token in the data which is neither a named entity nor at the start of a sentence. What could be the reason the token is capitalized (one sentence)?"
      ]
    },
    {
      "cell_type": "code",
      "execution_count": null,
      "id": "leR8lWAgsq8M",
      "metadata": {
        "colab": {
          "base_uri": "https://localhost:8080/"
        },
        "id": "leR8lWAgsq8M",
        "outputId": "3c62014c-fbc0-4e36-95c0-9dbd6b70a919"
      },
      "outputs": [
        {
          "output_type": "stream",
          "name": "stdout",
          "text": [
            "Winter Fuel Woes\n",
            "[(Winter, ''), (Fuel, ''), (Woes, '')]\n"
          ]
        }
      ],
      "source": [
        "print(error_analysis)\n",
        "print([(t, t.ent_type_) for t in error_analysis])"
      ]
    },
    {
      "cell_type": "markdown",
      "id": "3126a5c7",
      "metadata": {
        "id": "3126a5c7"
      },
      "source": [
        "## Term Frequencies"
      ]
    },
    {
      "cell_type": "code",
      "execution_count": null,
      "id": "055edce8",
      "metadata": {
        "colab": {
          "base_uri": "https://localhost:8080/",
          "height": 215
        },
        "id": "055edce8",
        "outputId": "762bca54-dc81-46e9-beb3-267952d17b72"
      },
      "outputs": [
        {
          "output_type": "stream",
          "name": "stdout",
          "text": [
            "(17, 594)\n"
          ]
        },
        {
          "output_type": "display_data",
          "data": {
            "text/plain": [
              "<Figure size 432x288 with 1 Axes>"
            ],
            "image/png": "[encoded data removed]"
          },
          "metadata": {
            "needs_background": "light"
          }
        }
      ],
      "source": [
        "from sklearn.feature_extraction.text import TfidfVectorizer\n",
        "tfidf = TfidfVectorizer(min_df=0.01, \n",
        "                        max_df=0.9,  \n",
        "                        max_features=1000,\n",
        "                        stop_words='english',\n",
        "                        use_idf=True, # the new piece\n",
        "                        ngram_range=(1,2)) # create features for both 1 and 2-grams\n",
        "\n",
        "from wordcloud import WordCloud\n",
        "import matplotlib.pyplot as plt\n",
        "\n",
        "##TODO using the whole sample, produce a world cloud with bigrams for label == business using tfidf frequencies\n",
        "dfs[\"input_TFIDF\"] = dfs[\"meaningful_toks\"].apply(lambda x: \" \".join(x))\n",
        "X_business_tfidf = tfidf.fit_transform(dfs.loc[dfs['label'] == 'business', \"input_TFIDF\"])\n",
        "print(X_business_tfidf.shape)\n",
        "\n",
        "vocab = tfidf.get_feature_names_out()\n",
        "bigrams = [v for v in vocab if len(v.split(' ')) == 2]\n",
        "\n",
        "import numpy as np\n",
        "total_freqs = list(np.array(X_business_tfidf.mean(axis=0))[0])\n",
        "fdict = {v: freq for v, freq in zip(vocab,total_freqs) if v in bigrams}\n",
        "# generate word cloud of words with the highest tfidf frequencies\n",
        "wordcloud = WordCloud().generate_from_frequencies(fdict) \n",
        "plt.clf()\n",
        "plt.imshow(wordcloud, interpolation='bilinear') \n",
        "plt.axis(\"off\") \n",
        "plt.show()"
      ]
    },
    {
      "cell_type": "markdown",
      "id": "0948e50f",
      "metadata": {
        "id": "0948e50f"
      },
      "source": [
        "## Supervised Feature Selection"
      ]
    },
    {
      "cell_type": "code",
      "execution_count": null,
      "id": "0510aa29",
      "metadata": {
        "colab": {
          "base_uri": "https://localhost:8080/"
        },
        "id": "0510aa29",
        "outputId": "01d1e294-fc8f-4bd2-8ca0-0795613d683a"
      },
      "outputs": [
        {
          "output_type": "stream",
          "name": "stdout",
          "text": [
            "['reuters', 'china', 'reuters reuters', 'open', 'thursday', 'know', 'cut', 'say saturday', 'slash', 'medium']\n",
            "['reuters', 'reuters reuters', 'know', 'open', 'slash', 'month', 'reach', 'flat', 'view', 'job']\n"
          ]
        }
      ],
      "source": [
        "from sklearn.feature_selection import SelectKBest, f_classif, chi2\n",
        "\n",
        "##TODO compute the number of words per document (excluding stopwords)\n",
        "##TODO get the most predictive features of the number of words per document using first f_class and then chi2\n",
        "from sklearn.feature_extraction.text import CountVectorizer\n",
        "count = CountVectorizer(min_df=0.01, \n",
        "              max_df=0.9,  \n",
        "              max_features=1000,\n",
        "              stop_words='english',\n",
        "              ngram_range=(1,2)) # create features for both 1 and 2-grams\n",
        "\n",
        "import numpy as np\n",
        "X_count = count.fit_transform(dfs[\"input_TFIDF\"])\n",
        "vocab = count.get_feature_names_out()\n",
        "\n",
        "# f_class\n",
        "Y = dfs['label']\n",
        "select = SelectKBest(f_classif, k=10)\n",
        "X_new = select.fit_transform(X_count, Y)\n",
        "print ([vocab[i] for i in np.argsort(select.scores_)[:10]])\n",
        "\n",
        "# chi2\n",
        "select = SelectKBest(chi2, k=10)\n",
        "X_new = select.fit_transform(X_count, Y)\n",
        "print ([vocab[i] for i in np.argsort(select.scores_)[:10]])\n"
      ]
    },
    {
      "cell_type": "markdown",
      "id": "ddaee2e4",
      "metadata": {
        "id": "ddaee2e4"
      },
      "source": [
        "Are the results different? What could be a reason for this? "
      ]
    },
    {
      "cell_type": "markdown",
      "id": "8af74a1d",
      "metadata": {
        "id": "8af74a1d"
      },
      "source": [
        "## Huggingface Tokenizers"
      ]
    },
    {
      "cell_type": "code",
      "execution_count": null,
      "id": "d1e75e4d",
      "metadata": {
        "colab": {
          "base_uri": "https://localhost:8080/"
        },
        "id": "d1e75e4d",
        "outputId": "486e9446-7ce0-4b41-bc45-e9019ac56d22"
      },
      "outputs": [
        {
          "output_type": "stream",
          "name": "stdout",
          "text": [
            "0.43268851164626926\n",
            "number of subwords: 194 number of words: 2533\n"
          ]
        }
      ],
      "source": [
        "# # we use distilbert tokenizer\n",
        "# !pip install transformers\n",
        "from transformers import DistilBertTokenizerFast\n",
        "\n",
        "# let's instantiate a tokenizer\n",
        "tokenizer = DistilBertTokenizerFast.from_pretrained('distilbert-base-uncased')\n",
        "\n",
        "##TODO tokenize the sentences in the sampled dataframe (dfs) using the DisilBertTokenizer\n",
        "\n",
        "dfs[\"huggingface_tokenizer\"] = dfs[\"text\"].apply(lambda x: tokenizer.tokenize(x))\n",
        "\n",
        "##TODO what is the type/token ratio from this tokenizer (number_of_unqiue_token_types/number_of_tokens)?\n",
        "\n",
        "tokens, types = 0, set()\n",
        "for doc in dfs[\"huggingface_tokenizer\"]:\n",
        "    for token in doc:\n",
        "        tokens += 1\n",
        "        types.add(token)\n",
        "        \n",
        "print(len(types) / tokens)\n",
        "\n",
        "##TODO what is the amount of subword tokens returned by the huggingface tokenizer? hint: each subword token starts with \"#\" T5 '_'\n",
        "\n",
        "num_subwords = 0\n",
        "for doc in dfs[\"huggingface_tokenizer\"]:\n",
        "    for token in doc:\n",
        "        if token.startswith(\"#\"):\n",
        "            num_subwords += 1\n",
        "            \n",
        "print (\"number of subwords:\", num_subwords, \"number of words:\", tokens)"
      ]
    },
    {
      "cell_type": "markdown",
      "id": "Ob3HPAq_6TWy",
      "metadata": {
        "id": "Ob3HPAq_6TWy"
      },
      "source": [
        "# Parsing"
      ]
    },
    {
      "cell_type": "code",
      "execution_count": null,
      "id": "16bf8639",
      "metadata": {
        "colab": {
          "base_uri": "https://localhost:8080/",
          "height": 206
        },
        "id": "16bf8639",
        "outputId": "9d7f6d86-1e37-45eb-cb77-882199325fc7"
      },
      "outputs": [
        {
          "output_type": "execute_result",
          "data": {
            "text/plain": [
              "           label                                              title  \\\n",
              "118105     world  Barroso Urges Turkey to Go Extra Mile on EU Talks   \n",
              "67116      world  Election Heralds Start of Endgame in UN-Run Ko...   \n",
              "30159   sci/tech      Study: IT job market continues to be stagnant   \n",
              "23431      world            Lawmakers Troubled by 'Ghost Detainees'   \n",
              "74930   business     Economy growing despite energy costs, Fed says   \n",
              "\n",
              "                                                     lead  \\\n",
              "118105  The European Commission president urged Turkey...   \n",
              "67116   Reuters - Kosovo's\\general election on Saturda...   \n",
              "30159   The IT job market remains tight in the U.S., w...   \n",
              "23431   WASHINGTON - Congress may keep up the focus on...   \n",
              "74930   The US economy continued to grow in September ...   \n",
              "\n",
              "                                                     text  \n",
              "118105  Barroso Urges Turkey to Go Extra Mile on EU Ta...  \n",
              "67116   Election Heralds Start of Endgame in UN-Run Ko...  \n",
              "30159   Study: IT job market continues to be stagnant ...  \n",
              "23431   Lawmakers Troubled by 'Ghost Detainees' WASHIN...  \n",
              "74930   Economy growing despite energy costs, Fed says...  "
            ],
            "text/html": [
              "\n",
              "  <div id=\"df-3b525c34-baae-4027-abfa-3afc96e53dce\">\n",
              "    <div class=\"colab-df-container\">\n",
              "      <div>\n",
              "<style scoped>\n",
              "    .dataframe tbody tr th:only-of-type {\n",
              "        vertical-align: middle;\n",
              "    }\n",
              "\n",
              "    .dataframe tbody tr th {\n",
              "        vertical-align: top;\n",
              "    }\n",
              "\n",
              "    .dataframe thead th {\n",
              "        text-align: right;\n",
              "    }\n",
              "</style>\n",
              "<table border=\"1\" class=\"dataframe\">\n",
              "  <thead>\n",
              "    <tr style=\"text-align: right;\">\n",
              "      <th></th>\n",
              "      <th>label</th>\n",
              "      <th>title</th>\n",
              "      <th>lead</th>\n",
              "      <th>text</th>\n",
              "    </tr>\n",
              "  </thead>\n",
              "  <tbody>\n",
              "    <tr>\n",
              "      <th>118105</th>\n",
              "      <td>world</td>\n",
              "      <td>Barroso Urges Turkey to Go Extra Mile on EU Talks</td>\n",
              "      <td>The European Commission president urged Turkey...</td>\n",
              "      <td>Barroso Urges Turkey to Go Extra Mile on EU Ta...</td>\n",
              "    </tr>\n",
              "    <tr>\n",
              "      <th>67116</th>\n",
              "      <td>world</td>\n",
              "      <td>Election Heralds Start of Endgame in UN-Run Ko...</td>\n",
              "      <td>Reuters - Kosovo's\\general election on Saturda...</td>\n",
              "      <td>Election Heralds Start of Endgame in UN-Run Ko...</td>\n",
              "    </tr>\n",
              "    <tr>\n",
              "      <th>30159</th>\n",
              "      <td>sci/tech</td>\n",
              "      <td>Study: IT job market continues to be stagnant</td>\n",
              "      <td>The IT job market remains tight in the U.S., w...</td>\n",
              "      <td>Study: IT job market continues to be stagnant ...</td>\n",
              "    </tr>\n",
              "    <tr>\n",
              "      <th>23431</th>\n",
              "      <td>world</td>\n",
              "      <td>Lawmakers Troubled by 'Ghost Detainees'</td>\n",
              "      <td>WASHINGTON - Congress may keep up the focus on...</td>\n",
              "      <td>Lawmakers Troubled by 'Ghost Detainees' WASHIN...</td>\n",
              "    </tr>\n",
              "    <tr>\n",
              "      <th>74930</th>\n",
              "      <td>business</td>\n",
              "      <td>Economy growing despite energy costs, Fed says</td>\n",
              "      <td>The US economy continued to grow in September ...</td>\n",
              "      <td>Economy growing despite energy costs, Fed says...</td>\n",
              "    </tr>\n",
              "  </tbody>\n",
              "</table>\n",
              "</div>\n",
              "      <button class=\"colab-df-convert\" onclick=\"convertToInteractive('df-3b525c34-baae-4027-abfa-3afc96e53dce')\"\n",
              "              title=\"Convert this dataframe to an interactive table.\"\n",
              "              style=\"display:none;\">\n",
              "        \n",
              "  <svg xmlns=\"http://www.w3.org/2000/svg\" height=\"24px\"viewBox=\"0 0 24 24\"\n",
              "       width=\"24px\">\n",
              "    <path d=\"M0 0h24v24H0V0z\" fill=\"none\"/>\n",
              "    <path d=\"M18.56 5.44l.94 2.06.94-2.06 2.06-.94-2.06-.94-.94-2.06-.94 2.06-2.06.94zm-11 1L8.5 8.5l.94-2.06 2.06-.94-2.06-.94L8.5 2.5l-.94 2.06-2.06.94zm10 10l.94 2.06.94-2.06 2.06-.94-2.06-.94-.94-2.06-.94 2.06-2.06.94z\"/><path d=\"M17.41 7.96l-1.37-1.37c-.4-.4-.92-.59-1.43-.59-.52 0-1.04.2-1.43.59L10.3 9.45l-7.72 7.72c-.78.78-.78 2.05 0 2.83L4 21.41c.39.39.9.59 1.41.59.51 0 1.02-.2 1.41-.59l7.78-7.78 2.81-2.81c.8-.78.8-2.07 0-2.86zM5.41 20L4 18.59l7.72-7.72 1.47 1.35L5.41 20z\"/>\n",
              "  </svg>\n",
              "      </button>\n",
              "      \n",
              "  <style>\n",
              "    .colab-df-container {\n",
              "      display:flex;\n",
              "      flex-wrap:wrap;\n",
              "      gap: 12px;\n",
              "    }\n",
              "\n",
              "    .colab-df-convert {\n",
              "      background-color: #E8F0FE;\n",
              "      border: none;\n",
              "      border-radius: 50%;\n",
              "      cursor: pointer;\n",
              "      display: none;\n",
              "      fill: #1967D2;\n",
              "      height: 32px;\n",
              "      padding: 0 0 0 0;\n",
              "      width: 32px;\n",
              "    }\n",
              "\n",
              "    .colab-df-convert:hover {\n",
              "      background-color: #E2EBFA;\n",
              "      box-shadow: 0px 1px 2px rgba(60, 64, 67, 0.3), 0px 1px 3px 1px rgba(60, 64, 67, 0.15);\n",
              "      fill: #174EA6;\n",
              "    }\n",
              "\n",
              "    [theme=dark] .colab-df-convert {\n",
              "      background-color: #3B4455;\n",
              "      fill: #D2E3FC;\n",
              "    }\n",
              "\n",
              "    [theme=dark] .colab-df-convert:hover {\n",
              "      background-color: #434B5C;\n",
              "      box-shadow: 0px 1px 3px 1px rgba(0, 0, 0, 0.15);\n",
              "      filter: drop-shadow(0px 1px 2px rgba(0, 0, 0, 0.3));\n",
              "      fill: #FFFFFF;\n",
              "    }\n",
              "  </style>\n",
              "\n",
              "      <script>\n",
              "        const buttonEl =\n",
              "          document.querySelector('#df-3b525c34-baae-4027-abfa-3afc96e53dce button.colab-df-convert');\n",
              "        buttonEl.style.display =\n",
              "          google.colab.kernel.accessAllowed ? 'block' : 'none';\n",
              "\n",
              "        async function convertToInteractive(key) {\n",
              "          const element = document.querySelector('#df-3b525c34-baae-4027-abfa-3afc96e53dce');\n",
              "          const dataTable =\n",
              "            await google.colab.kernel.invokeFunction('convertToInteractive',\n",
              "                                                     [key], {});\n",
              "          if (!dataTable) return;\n",
              "\n",
              "          const docLinkHtml = 'Like what you see? Visit the ' +\n",
              "            '<a target=\"_blank\" href=https://colab.research.google.com/notebooks/data_table.ipynb>data table notebook</a>'\n",
              "            + ' to learn more about interactive tables.';\n",
              "          element.innerHTML = '';\n",
              "          dataTable['output_type'] = 'display_data';\n",
              "          await google.colab.output.renderOutput(dataTable, element);\n",
              "          const docLink = document.createElement('div');\n",
              "          docLink.innerHTML = docLinkHtml;\n",
              "          element.appendChild(docLink);\n",
              "        }\n",
              "      </script>\n",
              "    </div>\n",
              "  </div>\n",
              "  "
            ]
          },
          "metadata": {},
          "execution_count": 11
        }
      ],
      "source": [
        "import pandas as pd\n",
        "import nltk\n",
        "df = pd.read_csv('train.csv')\n",
        "\n",
        "df.columns = [\"label\", \"title\", \"lead\"]\n",
        "label_map = {1:\"world\", 2:\"sport\", 3:\"business\", 4:\"sci/tech\"}\n",
        "def replace_label(x):\n",
        "\treturn label_map[x]\n",
        "df[\"label\"] = df[\"label\"].apply(replace_label) \n",
        "df[\"text\"] = df[\"title\"] + \" \" + df[\"lead\"]\n",
        "df = df.sample(n=10000) # # only use 10K datapoints\n",
        "df.head()"
      ]
    },
    {
      "cell_type": "code",
      "execution_count": null,
      "id": "61ec5921",
      "metadata": {
        "id": "61ec5921"
      },
      "outputs": [],
      "source": [
        "import spacy\n",
        "nlp = spacy.load('en_core_web_sm')\n",
        "#TODO preprocess the corpus using spacy\n",
        "\n",
        "df[\"preprocessed\"] = df[\"text\"].apply(lambda x: nlp(x))"
      ]
    },
    {
      "cell_type": "markdown",
      "id": "9a0ae310",
      "metadata": {
        "id": "9a0ae310"
      },
      "source": [
        "### Information Extraction"
      ]
    },
    {
      "cell_type": "code",
      "execution_count": null,
      "id": "8fbd7718",
      "metadata": {
        "colab": {
          "base_uri": "https://localhost:8080/"
        },
        "id": "8fbd7718",
        "outputId": "42480cd0-7e32-4c30-b1e8-0c81962b4384"
      },
      "outputs": [
        {
          "output_type": "stream",
          "name": "stdout",
          "text": [
            "[('start', 'be')]\n",
            "it -- be -- 286\n",
            "official -- say -- 157\n",
            "he -- be -- 103\n",
            "company -- say -- 78\n",
            "that -- be -- 73\n",
            "they -- be -- 46\n",
            "inc. -- say -- 43\n",
            "police -- say -- 38\n",
            "report -- say -- 37\n",
            "what -- be -- 35\n"
          ]
        }
      ],
      "source": [
        "def extract_subject_verb_pairs(sent):\n",
        "    subjs = [w for w in sent if w.dep_ == \"nsubj\"]\n",
        "    pairs = [(w.lemma_.lower(), w.head.lemma_.lower()) for w in subjs]\n",
        "    return pairs\n",
        "##TODO extract the subject-verbs pairs and print the result for the second document\n",
        "\n",
        "pair_from_first_document = extract_subject_verb_pairs(df[\"preprocessed\"].iloc[1])\n",
        "print(pair_from_first_document)\n",
        "\n",
        "##TODO create a list ranking the most common pairs and print the first 10 items\n",
        "\n",
        "from collections import Counter\n",
        "counter = Counter()\n",
        "\n",
        "for text in df[\"preprocessed\"]:\n",
        "    pairs = extract_subject_verb_pairs(text)\n",
        "    counter.update(pairs)\n",
        "    \n",
        "for item in counter.most_common(10):\n",
        "    print(\" -- \".join((item[0][0], item[0][1], str(item[1]))))\n"
      ]
    },
    {
      "cell_type": "code",
      "execution_count": null,
      "id": "c2c30e56",
      "metadata": {
        "colab": {
          "base_uri": "https://localhost:8080/"
        },
        "id": "c2c30e56",
        "outputId": "50137cc9-95b7-4aa7-bb44-fb5ad4045e55"
      },
      "outputs": [
        {
          "output_type": "stream",
          "name": "stdout",
          "text": [
            "kill -- people -- 88\n",
            "pay -- million -- 34\n",
            "take -- lead -- 30\n",
            "take -- step -- 28\n",
            "score -- point -- 28\n",
            "announce -- plan -- 28\n",
            "cut -- job -- 27\n",
            "win -- 39;t -- 26\n",
            "doesn -- 39;t -- 22\n",
            "isn -- 39;t -- 22\n"
          ]
        }
      ],
      "source": [
        "##TODO do the same for verbs-object pairs ('dobj')\n",
        "##TODO create a list ranking the most common pairs and print the first 10 items\n",
        "\n",
        "def extract_dobj_verb_pairs(sent):\n",
        "    dobjs = [w for w in sent if w.dep_ == \"dobj\"]\n",
        "    pairs = [(w.head.lemma_.lower(), w.lemma_.lower()) for w in dobjs]\n",
        "    return pairs\n",
        "\n",
        "counter = Counter()\n",
        "for text in df[\"preprocessed\"]:\n",
        "    pairs = extract_dobj_verb_pairs(text)\n",
        "    counter.update(pairs)\n",
        "    \n",
        "for item in counter.most_common(10):\n",
        "    print (\" -- \".join((item[0][0], item[0][1], str(item[1]))))"
      ]
    },
    {
      "cell_type": "code",
      "execution_count": null,
      "id": "aad55039",
      "metadata": {
        "colab": {
          "base_uri": "https://localhost:8080/"
        },
        "id": "aad55039",
        "outputId": "1521c406-7ef6-4c54-ed6f-64fb575ca232"
      },
      "outputs": [
        {
          "output_type": "stream",
          "name": "stdout",
          "text": [
            "next -- year -- 142\n",
            "third -- quarter -- 139\n",
            "last -- week -- 120\n",
            "first -- time -- 95\n",
            "last -- night -- 82\n",
            "presidential -- election -- 73\n",
            "mobile -- phone -- 73\n",
            "last -- month -- 67\n",
            "last -- year -- 62\n",
            "open -- source -- 54\n"
          ]
        }
      ],
      "source": [
        "##TODO do the same for adjectives-nouns pairs ('amod')\n",
        "##TODO create a list ranking the most common pairs and print the first 10 items\n",
        "def extract_adjj_noun_pairs(sent):\n",
        "    adjs = [w for w in sent if w.dep_ == \"amod\"]\n",
        "    # filter for NOUN because otherwise, we get pairs such as \"such as\"\n",
        "    pairs = [(w.lemma_.lower(), w.head.lemma_.lower()) for w in adjs if w.head.pos_ == \"NOUN\"]\n",
        "    return pairs\n",
        "\n",
        "\n",
        "counter = Counter()\n",
        "for text in df[\"preprocessed\"]:\n",
        "    pairs = extract_adjj_noun_pairs(text)\n",
        "    counter.update(pairs)\n",
        "    \n",
        "for item in counter.most_common(10):\n",
        "    print (\" -- \".join((item[0][0], item[0][1], str(item[1]))))"
      ]
    },
    {
      "cell_type": "markdown",
      "id": "d1273253",
      "metadata": {
        "id": "d1273253"
      },
      "source": [
        "### Exploring cross label dependencies"
      ]
    },
    {
      "cell_type": "code",
      "execution_count": null,
      "id": "06d19500",
      "metadata": {
        "colab": {
          "base_uri": "https://localhost:8080/"
        },
        "id": "06d19500",
        "outputId": "f5bb5c96-a0fd-407d-a203-a18443810cf3"
      },
      "outputs": [
        {
          "output_type": "stream",
          "name": "stdout",
          "text": [
            "profit -- rise -- 31\n",
            "price -- rise -- 21\n",
            "stock -- rise -- 19\n",
            "earning -- rise -- 13\n",
            "sale -- rise -- 9\n",
            "toll -- rise -- 8\n",
            "share -- rise -- 5\n",
            "rise -- rise -- 5\n",
            "number -- rise -- 5\n",
            "future -- rise -- 4\n",
            "****************************************************************************************************\n",
            "rise -- york -- 4\n",
            "rise -- inc. -- 1\n",
            "rise -- interbrew -- 1\n",
            "rise -- soldier -- 1\n",
            "rise -- price -- 1\n",
            "rise -- dollar -- 1\n",
            "rise -- francisco -- 1\n",
            "rise -- buying -- 1\n",
            "rise -- tokyo -- 1\n",
            "rise -- euro -- 1\n"
          ]
        }
      ],
      "source": [
        "##TODO extract all the subject-verbs and verbs-object pairs for the verb \"rise\"\n",
        "\n",
        "counter_subj_verb = Counter()\n",
        "counter_dobj_verb = Counter()\n",
        "\n",
        "\n",
        "for text in df[\"preprocessed\"]:\n",
        "    pairs = extract_subject_verb_pairs(text)\n",
        "    pairs = [pair for pair in pairs if pair[1] == \"rise\"]\n",
        "    dobj_verb_pairs = extract_dobj_verb_pairs(text)\n",
        "    dobj_verb_pairs = [pair for pair in dobj_verb_pairs if pair[0] == \"rise\"]\n",
        "    counter_subj_verb.update(pairs)\n",
        "    counter_dobj_verb.update(dobj_verb_pairs)\n",
        "    \n",
        "for item in counter_subj_verb.most_common(10):\n",
        "    print (\" -- \".join((item[0][0], item[0][1], str(item[1]))))\n",
        "print (\"*\" * 100)    \n",
        "for item in counter_dobj_verb.most_common(10):\n",
        "    print (\" -- \".join((item[0][0], item[0][1], str(item[1]))))"
      ]
    },
    {
      "cell_type": "code",
      "execution_count": null,
      "id": "75649d5e",
      "metadata": {
        "colab": {
          "base_uri": "https://localhost:8080/"
        },
        "id": "75649d5e",
        "outputId": "842150a9-2ee5-4a3d-cb4e-2240dc98ff96"
      },
      "outputs": [
        {
          "output_type": "stream",
          "name": "stdout",
          "text": [
            "world -- subj-verb -- official -- say -- 115\n",
            "world -- subj-verb -- it -- be -- 57\n",
            "world -- subj-verb -- police -- say -- 33\n",
            "world -- subj-verb -- he -- be -- 30\n",
            "world -- subj-verb -- bomb -- explode -- 24\n",
            "world -- subj-verb -- military -- say -- 22\n",
            "world -- subj-verb -- authority -- say -- 18\n",
            "world -- subj-verb -- that -- kill -- 18\n",
            "world -- subj-verb -- source -- say -- 16\n",
            "world -- subj-verb -- bush -- say -- 15\n",
            "****************************************************************************************************\n",
            "world -- dobj-verb -- kill -- people -- 84\n",
            "world -- dobj-verb -- hold -- hostage -- 15\n",
            "world -- dobj-verb -- wound -- other -- 12\n",
            "world -- dobj-verb -- take -- hostage -- 11\n",
            "world -- dobj-verb -- hold -- talk -- 11\n",
            "world -- dobj-verb -- take -- step -- 8\n",
            "world -- dobj-verb -- resume -- talk -- 8\n",
            "world -- dobj-verb -- win -- election -- 8\n",
            "world -- dobj-verb -- take -- place -- 8\n",
            "world -- dobj-verb -- kill -- soldier -- 8\n",
            "****************************************************************************************************\n",
            "sci/tech -- subj-verb -- it -- be -- 70\n",
            "sci/tech -- subj-verb -- company -- say -- 36\n",
            "sci/tech -- subj-verb -- expert -- say -- 23\n",
            "sci/tech -- subj-verb -- that -- be -- 22\n",
            "sci/tech -- subj-verb -- that -- allow -- 20\n",
            "sci/tech -- subj-verb -- scientist -- say -- 16\n",
            "sci/tech -- subj-verb -- official -- say -- 16\n",
            "sci/tech -- subj-verb -- it -- have -- 15\n",
            "sci/tech -- subj-verb -- they -- be -- 14\n",
            "sci/tech -- subj-verb -- what -- be -- 14\n",
            "****************************************************************************************************\n",
            "sci/tech -- dobj-verb -- launch -- service -- 17\n",
            "sci/tech -- dobj-verb -- release -- version -- 11\n",
            "sci/tech -- dobj-verb -- take -- step -- 10\n",
            "sci/tech -- dobj-verb -- use -- technology -- 9\n",
            "sci/tech -- dobj-verb -- pay -- million -- 9\n",
            "sci/tech -- dobj-verb -- launch -- version -- 9\n",
            "sci/tech -- dobj-verb -- file -- lawsuit -- 9\n",
            "sci/tech -- dobj-verb -- announce -- plan -- 8\n",
            "sci/tech -- dobj-verb -- win -- prize -- 8\n",
            "sci/tech -- dobj-verb -- win -- contract -- 8\n",
            "****************************************************************************************************\n"
          ]
        }
      ],
      "source": [
        "##TODO for each label create a list ranking the most common subject-verbs pairs and one for the most common verbs-object pairs\n",
        "##TODO print the 10 most common pairs for each of the two lists for the labels \"world\" and \"sci/tech\"\n",
        "for label in df[\"label\"].unique():\n",
        "    df_label = df[df[\"label\"] == label]\n",
        "    counter_subj_verb = Counter()\n",
        "    counter_dobj_verb = Counter()\n",
        "\n",
        "    for text in df_label[\"preprocessed\"]:\n",
        "        pairs = extract_subject_verb_pairs(text)\n",
        "        dobj_verb_pairs = extract_dobj_verb_pairs(text)\n",
        "        counter_subj_verb.update(pairs)\n",
        "        counter_dobj_verb.update(dobj_verb_pairs)\n",
        "    if label in [\"sci/tech\", \"world\"]:\n",
        "        for item in counter_subj_verb.most_common(10):\n",
        "            print (\" -- \".join((label, \"subj-verb\", item[0][0], item[0][1], str(item[1]))))\n",
        "        print (\"*\" * 100)\n",
        "\n",
        "        for item in counter_dobj_verb.most_common(10):\n",
        "            print (\" -- \".join((label, \"dobj-verb\", item[0][0], item[0][1], str(item[1]))))\n",
        "        print (\"*\" * 100)\n",
        "    "
      ]
    },
    {
      "cell_type": "code",
      "execution_count": null,
      "id": "98d363b6",
      "metadata": {
        "id": "98d363b6"
      },
      "outputs": [],
      "source": []
    }
  ],
  "metadata": {
    "colab": {
      "provenance": []
    },
    "kernelspec": {
      "display_name": "pytorch",
      "language": "python",
      "name": "python3"
    },
    "language_info": {
      "codemirror_mode": {
        "name": "ipython",
        "version": 3
      },
      "file_extension": ".py",
      "mimetype": "text/x-python",
      "name": "python",
      "nbconvert_exporter": "python",
      "pygments_lexer": "ipython3",
      "version": "3.7.11"
    },
    "toc": {
      "base_numbering": 1,
      "nav_menu": {},
      "number_sections": true,
      "sideBar": true,
      "skip_h1_title": false,
      "title_cell": "Table of Contents",
      "title_sidebar": "Contents",
      "toc_cell": false,
      "toc_position": {},
      "toc_section_display": true,
      "toc_window_display": false
    },
    "vscode": {
      "interpreter": {
        "hash": "d73fbafa1c1ce4c8cd6f07277ecbf2d62d7720c8bfdb6bdbaeeaf6dba6dd25dd"
      }
    }
  },
  "nbformat": 4,
  "nbformat_minor": 5
}