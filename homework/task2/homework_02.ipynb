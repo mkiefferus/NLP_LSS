{
  "cells": [
    {
      "cell_type": "markdown",
      "id": "a60bffde",
      "metadata": {
        "id": "a60bffde"
      },
      "source": [
        "# HW02: Tokenization"
      ]
    },
    {
      "cell_type": "markdown",
      "id": "b8ed3f1a",
      "metadata": {
        "id": "b8ed3f1a"
      },
      "source": [
        "Remember that these homework work as a completion grade. **You can skip one section without losing credit.**"
      ]
    },
    {
      "cell_type": "code",
      "execution_count": 1,
      "id": "dc19cf83",
      "metadata": {
        "id": "dc19cf83",
        "outputId": "b441ba0a-29bb-4583-b7ce-93ce3492be50",
        "colab": {
          "base_uri": "https://localhost:8080/",
          "height": 540
        }
      },
      "outputs": [
        {
          "output_type": "stream",
          "name": "stdout",
          "text": [
            "--2023-03-01 14:35:03--  https://raw.githubusercontent.com/mhjabreel/CharCnn_Keras/master/data/ag_news_csv/train.csv\n",
            "Resolving raw.githubusercontent.com (raw.githubusercontent.com)... 185.199.108.133, 185.199.109.133, 185.199.110.133, ...\n",
            "Connecting to raw.githubusercontent.com (raw.githubusercontent.com)|185.199.108.133|:443... connected.\n",
            "HTTP request sent, awaiting response... 200 OK\n",
            "Length: 29470338 (28M) [text/plain]\n",
            "Saving to: ‘train.csv’\n",
            "\n",
            "train.csv           100%[===================>]  28.10M  --.-KB/s    in 0.1s    \n",
            "\n",
            "2023-03-01 14:35:04 (198 MB/s) - ‘train.csv’ saved [29470338/29470338]\n",
            "\n"
          ]
        },
        {
          "output_type": "execute_result",
          "data": {
            "text/plain": [
              "      label                                              title  \\\n",
              "0  business  Carlyle Looks Toward Commercial Aerospace (Reu...   \n",
              "1  business    Oil and Economy Cloud Stocks' Outlook (Reuters)   \n",
              "2  business  Iraq Halts Oil Exports from Main Southern Pipe...   \n",
              "3  business  Oil prices soar to all-time record, posing new...   \n",
              "4  business        Stocks End Up, But Near Year Lows (Reuters)   \n",
              "\n",
              "                                                lead  \\\n",
              "0  Reuters - Private investment firm Carlyle Grou...   \n",
              "1  Reuters - Soaring crude prices plus worries\\ab...   \n",
              "2  Reuters - Authorities have halted oil export\\f...   \n",
              "3  AFP - Tearaway world oil prices, toppling reco...   \n",
              "4  Reuters - Stocks ended slightly higher on Frid...   \n",
              "\n",
              "                                                text  \n",
              "0  Carlyle Looks Toward Commercial Aerospace (Reu...  \n",
              "1  Oil and Economy Cloud Stocks' Outlook (Reuters...  \n",
              "2  Iraq Halts Oil Exports from Main Southern Pipe...  \n",
              "3  Oil prices soar to all-time record, posing new...  \n",
              "4  Stocks End Up, But Near Year Lows (Reuters) Re...  "
            ],
            "text/html": [
              "\n",
              "  <div id=\"df-9a6b8248-496e-4170-b010-bf807a87c182\">\n",
              "    <div class=\"colab-df-container\">\n",
              "      <div>\n",
              "<style scoped>\n",
              "    .dataframe tbody tr th:only-of-type {\n",
              "        vertical-align: middle;\n",
              "    }\n",
              "\n",
              "    .dataframe tbody tr th {\n",
              "        vertical-align: top;\n",
              "    }\n",
              "\n",
              "    .dataframe thead th {\n",
              "        text-align: right;\n",
              "    }\n",
              "</style>\n",
              "<table border=\"1\" class=\"dataframe\">\n",
              "  <thead>\n",
              "    <tr style=\"text-align: right;\">\n",
              "      <th></th>\n",
              "      <th>label</th>\n",
              "      <th>title</th>\n",
              "      <th>lead</th>\n",
              "      <th>text</th>\n",
              "    </tr>\n",
              "  </thead>\n",
              "  <tbody>\n",
              "    <tr>\n",
              "      <th>0</th>\n",
              "      <td>business</td>\n",
              "      <td>Carlyle Looks Toward Commercial Aerospace (Reu...</td>\n",
              "      <td>Reuters - Private investment firm Carlyle Grou...</td>\n",
              "      <td>Carlyle Looks Toward Commercial Aerospace (Reu...</td>\n",
              "    </tr>\n",
              "    <tr>\n",
              "      <th>1</th>\n",
              "      <td>business</td>\n",
              "      <td>Oil and Economy Cloud Stocks' Outlook (Reuters)</td>\n",
              "      <td>Reuters - Soaring crude prices plus worries\\ab...</td>\n",
              "      <td>Oil and Economy Cloud Stocks' Outlook (Reuters...</td>\n",
              "    </tr>\n",
              "    <tr>\n",
              "      <th>2</th>\n",
              "      <td>business</td>\n",
              "      <td>Iraq Halts Oil Exports from Main Southern Pipe...</td>\n",
              "      <td>Reuters - Authorities have halted oil export\\f...</td>\n",
              "      <td>Iraq Halts Oil Exports from Main Southern Pipe...</td>\n",
              "    </tr>\n",
              "    <tr>\n",
              "      <th>3</th>\n",
              "      <td>business</td>\n",
              "      <td>Oil prices soar to all-time record, posing new...</td>\n",
              "      <td>AFP - Tearaway world oil prices, toppling reco...</td>\n",
              "      <td>Oil prices soar to all-time record, posing new...</td>\n",
              "    </tr>\n",
              "    <tr>\n",
              "      <th>4</th>\n",
              "      <td>business</td>\n",
              "      <td>Stocks End Up, But Near Year Lows (Reuters)</td>\n",
              "      <td>Reuters - Stocks ended slightly higher on Frid...</td>\n",
              "      <td>Stocks End Up, But Near Year Lows (Reuters) Re...</td>\n",
              "    </tr>\n",
              "  </tbody>\n",
              "</table>\n",
              "</div>\n",
              "      <button class=\"colab-df-convert\" onclick=\"convertToInteractive('df-9a6b8248-496e-4170-b010-bf807a87c182')\"\n",
              "              title=\"Convert this dataframe to an interactive table.\"\n",
              "              style=\"display:none;\">\n",
              "        \n",
              "  <svg xmlns=\"http://www.w3.org/2000/svg\" height=\"24px\"viewBox=\"0 0 24 24\"\n",
              "       width=\"24px\">\n",
              "    <path d=\"M0 0h24v24H0V0z\" fill=\"none\"/>\n",
              "    <path d=\"M18.56 5.44l.94 2.06.94-2.06 2.06-.94-2.06-.94-.94-2.06-.94 2.06-2.06.94zm-11 1L8.5 8.5l.94-2.06 2.06-.94-2.06-.94L8.5 2.5l-.94 2.06-2.06.94zm10 10l.94 2.06.94-2.06 2.06-.94-2.06-.94-.94-2.06-.94 2.06-2.06.94z\"/><path d=\"M17.41 7.96l-1.37-1.37c-.4-.4-.92-.59-1.43-.59-.52 0-1.04.2-1.43.59L10.3 9.45l-7.72 7.72c-.78.78-.78 2.05 0 2.83L4 21.41c.39.39.9.59 1.41.59.51 0 1.02-.2 1.41-.59l7.78-7.78 2.81-2.81c.8-.78.8-2.07 0-2.86zM5.41 20L4 18.59l7.72-7.72 1.47 1.35L5.41 20z\"/>\n",
              "  </svg>\n",
              "      </button>\n",
              "      \n",
              "  <style>\n",
              "    .colab-df-container {\n",
              "      display:flex;\n",
              "      flex-wrap:wrap;\n",
              "      gap: 12px;\n",
              "    }\n",
              "\n",
              "    .colab-df-convert {\n",
              "      background-color: #E8F0FE;\n",
              "      border: none;\n",
              "      border-radius: 50%;\n",
              "      cursor: pointer;\n",
              "      display: none;\n",
              "      fill: #1967D2;\n",
              "      height: 32px;\n",
              "      padding: 0 0 0 0;\n",
              "      width: 32px;\n",
              "    }\n",
              "\n",
              "    .colab-df-convert:hover {\n",
              "      background-color: #E2EBFA;\n",
              "      box-shadow: 0px 1px 2px rgba(60, 64, 67, 0.3), 0px 1px 3px 1px rgba(60, 64, 67, 0.15);\n",
              "      fill: #174EA6;\n",
              "    }\n",
              "\n",
              "    [theme=dark] .colab-df-convert {\n",
              "      background-color: #3B4455;\n",
              "      fill: #D2E3FC;\n",
              "    }\n",
              "\n",
              "    [theme=dark] .colab-df-convert:hover {\n",
              "      background-color: #434B5C;\n",
              "      box-shadow: 0px 1px 3px 1px rgba(0, 0, 0, 0.15);\n",
              "      filter: drop-shadow(0px 1px 2px rgba(0, 0, 0, 0.3));\n",
              "      fill: #FFFFFF;\n",
              "    }\n",
              "  </style>\n",
              "\n",
              "      <script>\n",
              "        const buttonEl =\n",
              "          document.querySelector('#df-9a6b8248-496e-4170-b010-bf807a87c182 button.colab-df-convert');\n",
              "        buttonEl.style.display =\n",
              "          google.colab.kernel.accessAllowed ? 'block' : 'none';\n",
              "\n",
              "        async function convertToInteractive(key) {\n",
              "          const element = document.querySelector('#df-9a6b8248-496e-4170-b010-bf807a87c182');\n",
              "          const dataTable =\n",
              "            await google.colab.kernel.invokeFunction('convertToInteractive',\n",
              "                                                     [key], {});\n",
              "          if (!dataTable) return;\n",
              "\n",
              "          const docLinkHtml = 'Like what you see? Visit the ' +\n",
              "            '<a target=\"_blank\" href=https://colab.research.google.com/notebooks/data_table.ipynb>data table notebook</a>'\n",
              "            + ' to learn more about interactive tables.';\n",
              "          element.innerHTML = '';\n",
              "          dataTable['output_type'] = 'display_data';\n",
              "          await google.colab.output.renderOutput(dataTable, element);\n",
              "          const docLink = document.createElement('div');\n",
              "          docLink.innerHTML = docLinkHtml;\n",
              "          element.appendChild(docLink);\n",
              "        }\n",
              "      </script>\n",
              "    </div>\n",
              "  </div>\n",
              "  "
            ]
          },
          "metadata": {},
          "execution_count": 1
        }
      ],
      "source": [
        "#Import the AG news dataset (same as hw01)\n",
        "#Download them from here \n",
        "!wget https://raw.githubusercontent.com/mhjabreel/CharCnn_Keras/master/data/ag_news_csv/train.csv\n",
        "\n",
        "import pandas as pd\n",
        "import nltk\n",
        "df = pd.read_csv('train.csv')\n",
        "\n",
        "df.columns = [\"label\", \"title\", \"lead\"]\n",
        "label_map = {1:\"world\", 2:\"sport\", 3:\"business\", 4:\"sci/tech\"}\n",
        "def replace_label(x):\n",
        "\treturn label_map[x]\n",
        "df[\"label\"] = df[\"label\"].apply(replace_label) \n",
        "df[\"text\"] = df[\"title\"] + \" \" + df[\"lead\"]\n",
        "df.head()"
      ]
    },
    {
      "cell_type": "markdown",
      "id": "37f7b626",
      "metadata": {
        "id": "37f7b626"
      },
      "source": [
        "## Preprocess Text"
      ]
    },
    {
      "cell_type": "code",
      "execution_count": 35,
      "id": "ab1861a9",
      "metadata": {
        "id": "ab1861a9",
        "outputId": "20c76e68-d287-4790-9832-632e322b3a0a",
        "colab": {
          "base_uri": "https://localhost:8080/"
        }
      },
      "outputs": [
        {
          "output_type": "stream",
          "name": "stdout",
          "text": [
            "Tight US supplies boost oil price Oil prices have surged to two-week highs following news that supplies in the US are tightening.\n"
          ]
        }
      ],
      "source": [
        "import spacy\n",
        "dfs = df.sample(50)\n",
        "nlp = spacy.load('en_core_web_sm')\n",
        "\n",
        "##TODO use spacy to split the documents in the sampled dataframe (dfs) in sentences and tokens\n",
        "\n",
        "def split_doc(text):\n",
        "    '''\n",
        "    Returns -> tuple:\n",
        "    1. list -> sentences\n",
        "    2. list -> tokens\n",
        "    '''\n",
        "    doc = nlp(text)\n",
        "    sentences = [sent for sent in doc.sents]\n",
        "    tokens = [token for token in doc if not token.is_punct and not token.is_stop]\n",
        "\n",
        "    return sentences, tokens\n",
        "\n",
        "# '*' iterates over each single sample of dfs\n",
        "dfs['sentences'], dfs['tokens'] = zip(*dfs['text'].apply(split_doc))\n",
        "\n",
        "##TODO print the first sentence of the first document in your sample\n",
        "\n",
        "print(dfs.iloc[0]['sentences'][0])"
      ]
    },
    {
      "cell_type": "code",
      "source": [
        "dfs.head()"
      ],
      "metadata": {
        "id": "E1hldYveptUv",
        "outputId": "49c225b0-1a41-46d3-d819-b4ae7b5364f4",
        "colab": {
          "base_uri": "https://localhost:8080/",
          "height": 401
        }
      },
      "id": "E1hldYveptUv",
      "execution_count": 36,
      "outputs": [
        {
          "output_type": "execute_result",
          "data": {
            "text/plain": [
              "          label                                              title  \\\n",
              "23541  business                  Tight US supplies boost oil price   \n",
              "86938     sport  Tressel:  #39;Allegations Made Against Me Tota...   \n",
              "72971  sci/tech        Chip-Maker Agere Posts Loss on Charges (AP)   \n",
              "92615     world  Israelis, Palestinians Expect Rice to Implemen...   \n",
              "85740  sci/tech  Europeans debate software patents, interoperab...   \n",
              "\n",
              "                                                    lead  \\\n",
              "23541  Oil prices have surged to two-week highs follo...   \n",
              "86938  COLUMBUS, Ohio -- Ohio State football coach Ji...   \n",
              "72971  AP - Agere Systems Inc., which makes computer ...   \n",
              "92615  The Palestinian Authority is looking forward t...   \n",
              "85740  BRUSSELS -- The European Union's (E.U.'s) plan...   \n",
              "\n",
              "                                                    text  \\\n",
              "23541  Tight US supplies boost oil price Oil prices h...   \n",
              "86938  Tressel:  #39;Allegations Made Against Me Tota...   \n",
              "72971  Chip-Maker Agere Posts Loss on Charges (AP) AP...   \n",
              "92615  Israelis, Palestinians Expect Rice to Implemen...   \n",
              "85740  Europeans debate software patents, interoperab...   \n",
              "\n",
              "                                               sentences  \\\n",
              "23541  [(Tight, US, supplies, boost, oil, price, Oil,...   \n",
              "86938  [(Tressel, :,  , #, 39;Allegations, Made, Agai...   \n",
              "72971  [(Chip, -, Maker, Agere, Posts, Loss, on, Char...   \n",
              "92615  [(Israelis, ,, Palestinians, Expect, Rice, to,...   \n",
              "85740  [(Europeans, debate, software, patents, ,, int...   \n",
              "\n",
              "                                                  tokens  \n",
              "23541  [Tight, supplies, boost, oil, price, Oil, pric...  \n",
              "86938  [Tressel,  , 39;Allegations, Totally, False, 3...  \n",
              "72971  [Chip, Maker, Agere, Posts, Loss, Charges, AP,...  \n",
              "92615  [Israelis, Palestinians, Expect, Rice, Impleme...  \n",
              "85740  [Europeans, debate, software, patents, interop...  "
            ],
            "text/html": [
              "\n",
              "  <div id=\"df-3a3021b6-fafa-4078-b833-169de39b4c1a\">\n",
              "    <div class=\"colab-df-container\">\n",
              "      <div>\n",
              "<style scoped>\n",
              "    .dataframe tbody tr th:only-of-type {\n",
              "        vertical-align: middle;\n",
              "    }\n",
              "\n",
              "    .dataframe tbody tr th {\n",
              "        vertical-align: top;\n",
              "    }\n",
              "\n",
              "    .dataframe thead th {\n",
              "        text-align: right;\n",
              "    }\n",
              "</style>\n",
              "<table border=\"1\" class=\"dataframe\">\n",
              "  <thead>\n",
              "    <tr style=\"text-align: right;\">\n",
              "      <th></th>\n",
              "      <th>label</th>\n",
              "      <th>title</th>\n",
              "      <th>lead</th>\n",
              "      <th>text</th>\n",
              "      <th>sentences</th>\n",
              "      <th>tokens</th>\n",
              "    </tr>\n",
              "  </thead>\n",
              "  <tbody>\n",
              "    <tr>\n",
              "      <th>23541</th>\n",
              "      <td>business</td>\n",
              "      <td>Tight US supplies boost oil price</td>\n",
              "      <td>Oil prices have surged to two-week highs follo...</td>\n",
              "      <td>Tight US supplies boost oil price Oil prices h...</td>\n",
              "      <td>[(Tight, US, supplies, boost, oil, price, Oil,...</td>\n",
              "      <td>[Tight, supplies, boost, oil, price, Oil, pric...</td>\n",
              "    </tr>\n",
              "    <tr>\n",
              "      <th>86938</th>\n",
              "      <td>sport</td>\n",
              "      <td>Tressel:  #39;Allegations Made Against Me Tota...</td>\n",
              "      <td>COLUMBUS, Ohio -- Ohio State football coach Ji...</td>\n",
              "      <td>Tressel:  #39;Allegations Made Against Me Tota...</td>\n",
              "      <td>[(Tressel, :,  , #, 39;Allegations, Made, Agai...</td>\n",
              "      <td>[Tressel,  , 39;Allegations, Totally, False, 3...</td>\n",
              "    </tr>\n",
              "    <tr>\n",
              "      <th>72971</th>\n",
              "      <td>sci/tech</td>\n",
              "      <td>Chip-Maker Agere Posts Loss on Charges (AP)</td>\n",
              "      <td>AP - Agere Systems Inc., which makes computer ...</td>\n",
              "      <td>Chip-Maker Agere Posts Loss on Charges (AP) AP...</td>\n",
              "      <td>[(Chip, -, Maker, Agere, Posts, Loss, on, Char...</td>\n",
              "      <td>[Chip, Maker, Agere, Posts, Loss, Charges, AP,...</td>\n",
              "    </tr>\n",
              "    <tr>\n",
              "      <th>92615</th>\n",
              "      <td>world</td>\n",
              "      <td>Israelis, Palestinians Expect Rice to Implemen...</td>\n",
              "      <td>The Palestinian Authority is looking forward t...</td>\n",
              "      <td>Israelis, Palestinians Expect Rice to Implemen...</td>\n",
              "      <td>[(Israelis, ,, Palestinians, Expect, Rice, to,...</td>\n",
              "      <td>[Israelis, Palestinians, Expect, Rice, Impleme...</td>\n",
              "    </tr>\n",
              "    <tr>\n",
              "      <th>85740</th>\n",
              "      <td>sci/tech</td>\n",
              "      <td>Europeans debate software patents, interoperab...</td>\n",
              "      <td>BRUSSELS -- The European Union's (E.U.'s) plan...</td>\n",
              "      <td>Europeans debate software patents, interoperab...</td>\n",
              "      <td>[(Europeans, debate, software, patents, ,, int...</td>\n",
              "      <td>[Europeans, debate, software, patents, interop...</td>\n",
              "    </tr>\n",
              "  </tbody>\n",
              "</table>\n",
              "</div>\n",
              "      <button class=\"colab-df-convert\" onclick=\"convertToInteractive('df-3a3021b6-fafa-4078-b833-169de39b4c1a')\"\n",
              "              title=\"Convert this dataframe to an interactive table.\"\n",
              "              style=\"display:none;\">\n",
              "        \n",
              "  <svg xmlns=\"http://www.w3.org/2000/svg\" height=\"24px\"viewBox=\"0 0 24 24\"\n",
              "       width=\"24px\">\n",
              "    <path d=\"M0 0h24v24H0V0z\" fill=\"none\"/>\n",
              "    <path d=\"M18.56 5.44l.94 2.06.94-2.06 2.06-.94-2.06-.94-.94-2.06-.94 2.06-2.06.94zm-11 1L8.5 8.5l.94-2.06 2.06-.94-2.06-.94L8.5 2.5l-.94 2.06-2.06.94zm10 10l.94 2.06.94-2.06 2.06-.94-2.06-.94-.94-2.06-.94 2.06-2.06.94z\"/><path d=\"M17.41 7.96l-1.37-1.37c-.4-.4-.92-.59-1.43-.59-.52 0-1.04.2-1.43.59L10.3 9.45l-7.72 7.72c-.78.78-.78 2.05 0 2.83L4 21.41c.39.39.9.59 1.41.59.51 0 1.02-.2 1.41-.59l7.78-7.78 2.81-2.81c.8-.78.8-2.07 0-2.86zM5.41 20L4 18.59l7.72-7.72 1.47 1.35L5.41 20z\"/>\n",
              "  </svg>\n",
              "      </button>\n",
              "      \n",
              "  <style>\n",
              "    .colab-df-container {\n",
              "      display:flex;\n",
              "      flex-wrap:wrap;\n",
              "      gap: 12px;\n",
              "    }\n",
              "\n",
              "    .colab-df-convert {\n",
              "      background-color: #E8F0FE;\n",
              "      border: none;\n",
              "      border-radius: 50%;\n",
              "      cursor: pointer;\n",
              "      display: none;\n",
              "      fill: #1967D2;\n",
              "      height: 32px;\n",
              "      padding: 0 0 0 0;\n",
              "      width: 32px;\n",
              "    }\n",
              "\n",
              "    .colab-df-convert:hover {\n",
              "      background-color: #E2EBFA;\n",
              "      box-shadow: 0px 1px 2px rgba(60, 64, 67, 0.3), 0px 1px 3px 1px rgba(60, 64, 67, 0.15);\n",
              "      fill: #174EA6;\n",
              "    }\n",
              "\n",
              "    [theme=dark] .colab-df-convert {\n",
              "      background-color: #3B4455;\n",
              "      fill: #D2E3FC;\n",
              "    }\n",
              "\n",
              "    [theme=dark] .colab-df-convert:hover {\n",
              "      background-color: #434B5C;\n",
              "      box-shadow: 0px 1px 3px 1px rgba(0, 0, 0, 0.15);\n",
              "      filter: drop-shadow(0px 1px 2px rgba(0, 0, 0, 0.3));\n",
              "      fill: #FFFFFF;\n",
              "    }\n",
              "  </style>\n",
              "\n",
              "      <script>\n",
              "        const buttonEl =\n",
              "          document.querySelector('#df-3a3021b6-fafa-4078-b833-169de39b4c1a button.colab-df-convert');\n",
              "        buttonEl.style.display =\n",
              "          google.colab.kernel.accessAllowed ? 'block' : 'none';\n",
              "\n",
              "        async function convertToInteractive(key) {\n",
              "          const element = document.querySelector('#df-3a3021b6-fafa-4078-b833-169de39b4c1a');\n",
              "          const dataTable =\n",
              "            await google.colab.kernel.invokeFunction('convertToInteractive',\n",
              "                                                     [key], {});\n",
              "          if (!dataTable) return;\n",
              "\n",
              "          const docLinkHtml = 'Like what you see? Visit the ' +\n",
              "            '<a target=\"_blank\" href=https://colab.research.google.com/notebooks/data_table.ipynb>data table notebook</a>'\n",
              "            + ' to learn more about interactive tables.';\n",
              "          element.innerHTML = '';\n",
              "          dataTable['output_type'] = 'display_data';\n",
              "          await google.colab.output.renderOutput(dataTable, element);\n",
              "          const docLink = document.createElement('div');\n",
              "          docLink.innerHTML = docLinkHtml;\n",
              "          element.appendChild(docLink);\n",
              "        }\n",
              "      </script>\n",
              "    </div>\n",
              "  </div>\n",
              "  "
            ]
          },
          "metadata": {},
          "execution_count": 36
        }
      ]
    },
    {
      "cell_type": "code",
      "execution_count": 45,
      "id": "65fa4c48",
      "metadata": {
        "id": "65fa4c48",
        "outputId": "b31718f3-41d0-4241-c596-c0db3d88bac1",
        "colab": {
          "base_uri": "https://localhost:8080/"
        }
      },
      "outputs": [
        {
          "output_type": "stream",
          "name": "stdout",
          "text": [
            "Tight US supplies boost oil price Oil prices have surged to two-week highs following news that supplies in the US are tightening.\n",
            "token: Tight          , lemma: tight          , dependency: compound\n",
            "token: US             , lemma: US             , dependency: compound\n",
            "token: supplies       , lemma: supply         , dependency: nsubj\n",
            "token: boost          , lemma: boost          , dependency: ROOT\n",
            "token: oil            , lemma: oil            , dependency: compound\n",
            "token: price          , lemma: price          , dependency: compound\n",
            "token: Oil            , lemma: oil            , dependency: compound\n",
            "token: prices         , lemma: price          , dependency: nsubj\n",
            "token: have           , lemma: have           , dependency: aux\n",
            "token: surged         , lemma: surge          , dependency: ccomp\n",
            "token: to             , lemma: to             , dependency: prep\n",
            "token: two            , lemma: two            , dependency: nummod\n",
            "token: -              , lemma: -              , dependency: punct\n",
            "token: week           , lemma: week           , dependency: compound\n",
            "token: highs          , lemma: high           , dependency: pobj\n",
            "token: following      , lemma: follow         , dependency: prep\n",
            "token: news           , lemma: news           , dependency: pobj\n",
            "token: that           , lemma: that           , dependency: mark\n",
            "token: supplies       , lemma: supply         , dependency: nsubj\n",
            "token: in             , lemma: in             , dependency: prep\n",
            "token: the            , lemma: the            , dependency: det\n",
            "token: US             , lemma: US             , dependency: pobj\n",
            "token: are            , lemma: be             , dependency: aux\n",
            "token: tightening     , lemma: tighten        , dependency: acl\n",
            "token: .              , lemma: .              , dependency: punct\n"
          ]
        }
      ],
      "source": [
        "##TODO create a new column with tokens in lowercase (x.lower()), without punctuation tokens (x.is_punct), stopwords (x.is_stop), and digits (x.is_digit)\n",
        "\n",
        "\n",
        "def tokens_to_text(sample_of_tokens):\n",
        "    tokens_text = [token.text.lower() for token in sample_of_tokens]\n",
        "\n",
        "    return tokens_text\n",
        "\n",
        "dfs['tokens_text'] = dfs['tokens'].apply(tokens_to_text)\n",
        "\n",
        "##TODO print the tokens (x.lemma_) and the dependency labels (x.dep_ ) of the first sentence of the first document (doc.sents)\n",
        "\n",
        "print(dfs.iloc[0]['sentences'][0])\n",
        "\n",
        "for token in dfs.iloc[0]['sentences'][0]:\n",
        "    print('token: {:15}, lemma: {:15}, dependency: {}'.format(token.text, token.lemma_, token.dep_))\n"
      ]
    },
    {
      "cell_type": "markdown",
      "id": "8ef544f1",
      "metadata": {
        "id": "8ef544f1"
      },
      "source": [
        "### Named Entities\n",
        "\n",
        "Let's compute the ratio of named entities starting with a capital letter, e.g. if we have \"University of Chicago\" as a NE, \"University\" and \"Chicago\" are capitalized, \"of\" is not, thus the ratio is 2/3."
      ]
    },
    {
      "cell_type": "code",
      "execution_count": null,
      "id": "be2cb111",
      "metadata": {
        "id": "be2cb111"
      },
      "outputs": [],
      "source": [
        "##TODO print the ratio of tokens being part of a named entity span starting with a capital letter (doc.ents)"
      ]
    },
    {
      "cell_type": "code",
      "execution_count": null,
      "id": "984b4d1f",
      "metadata": {
        "id": "984b4d1f"
      },
      "outputs": [],
      "source": [
        "##TODO print the ratio of capitalized tokens not being part of a named entity span (have no token.ent_type_)\n",
        "# e.g. \"The dog barks\" = 1/3; 3 tokens, only \"The\" is capitalized"
      ]
    },
    {
      "cell_type": "code",
      "execution_count": null,
      "id": "ac3ede3c",
      "metadata": {
        "id": "ac3ede3c"
      },
      "outputs": [],
      "source": [
        "##TODO print the ratio of capitalized tokens not being a named entity and not being the first token in a sentence\n",
        "# e.g. \"The dog barks\" = 0; 3 tokens, \"The\" is capitalized but the starting token of a sentence, no other tokens are capitalized."
      ]
    },
    {
      "cell_type": "markdown",
      "id": "466753be",
      "metadata": {
        "id": "466753be"
      },
      "source": [
        "Give an example of a capitalized token in the data which is neither a named entity nor at the start of a sentence. What could be the reason the token is capitalized (one sentence)?"
      ]
    },
    {
      "cell_type": "code",
      "execution_count": null,
      "id": "e21c0a01",
      "metadata": {
        "id": "e21c0a01"
      },
      "outputs": [],
      "source": []
    },
    {
      "cell_type": "markdown",
      "id": "3126a5c7",
      "metadata": {
        "id": "3126a5c7"
      },
      "source": [
        "## Term Frequencies"
      ]
    },
    {
      "cell_type": "code",
      "execution_count": null,
      "id": "055edce8",
      "metadata": {
        "id": "055edce8"
      },
      "outputs": [],
      "source": [
        "from sklearn.feature_extraction.text import TfidfVectorizer\n",
        "tfidf = TfidfVectorizer(min_df=0.01, \n",
        "                        max_df=0.9,  \n",
        "                        max_features=1000,\n",
        "                        stop_words='english',\n",
        "                        use_idf=True, # the new piece\n",
        "                        ngram_range=(1,2))\n",
        "\n",
        "from wordcloud import WordCloud\n",
        "import matplotlib.pyplot as plt\n",
        "\n",
        "##TODO using the whole sample, produce a world cloud with bigrams for label == business using tfidf frequencies"
      ]
    },
    {
      "cell_type": "markdown",
      "id": "0948e50f",
      "metadata": {
        "id": "0948e50f"
      },
      "source": [
        "## Supervised Feature Selection"
      ]
    },
    {
      "cell_type": "code",
      "execution_count": null,
      "id": "0510aa29",
      "metadata": {
        "id": "0510aa29"
      },
      "outputs": [],
      "source": [
        "from sklearn.feature_selection import SelectKBest, f_classif, chi2\n",
        "\n",
        "##TODO compute the number of words per document (excluding stopwords)\n",
        "##TODO get the most predictive features of the number of words per document using first f_class and then chi2"
      ]
    },
    {
      "cell_type": "markdown",
      "id": "ddaee2e4",
      "metadata": {
        "id": "ddaee2e4"
      },
      "source": [
        "Are the results different? What could be a reason for this? "
      ]
    },
    {
      "cell_type": "markdown",
      "id": "8af74a1d",
      "metadata": {
        "id": "8af74a1d"
      },
      "source": [
        "## Huggingface Tokenizers"
      ]
    },
    {
      "cell_type": "code",
      "execution_count": null,
      "id": "d1e75e4d",
      "metadata": {
        "id": "d1e75e4d"
      },
      "outputs": [],
      "source": [
        "# # we use distilbert tokenizer\n",
        "# !pip install transformers\n",
        "from transformers import DistilBertTokenizerFast\n",
        "\n",
        "# let's instantiate a tokenizer\n",
        "tokenizer = DistilBertTokenizerFast.from_pretrained('distilbert-base-uncased')\n",
        "\n",
        "##TODO tokenize the sentences in the sampled dataframe (dfs) using the DisilBertTokenizer\n",
        "##TODO what is the type/token ratio from this tokenizer (number_of_unqiue_token_types/number_of_tokens)?\n",
        "##TODO what is the amount of subword tokens returned by the huggingface tokenizer? hint: each subword token starts with \"#\"\n",
        "\n"
      ]
    },
    {
      "cell_type": "markdown",
      "id": "38bc9d00",
      "metadata": {
        "id": "38bc9d00"
      },
      "source": [
        "# Parsing"
      ]
    },
    {
      "cell_type": "code",
      "execution_count": null,
      "id": "16bf8639",
      "metadata": {
        "id": "16bf8639",
        "outputId": "d290414c-1c80-4886-e201-b179d4182b52"
      },
      "outputs": [
        {
          "data": {
            "text/html": [
              "<div>\n",
              "<style scoped>\n",
              "    .dataframe tbody tr th:only-of-type {\n",
              "        vertical-align: middle;\n",
              "    }\n",
              "\n",
              "    .dataframe tbody tr th {\n",
              "        vertical-align: top;\n",
              "    }\n",
              "\n",
              "    .dataframe thead th {\n",
              "        text-align: right;\n",
              "    }\n",
              "</style>\n",
              "<table border=\"1\" class=\"dataframe\">\n",
              "  <thead>\n",
              "    <tr style=\"text-align: right;\">\n",
              "      <th></th>\n",
              "      <th>label</th>\n",
              "      <th>title</th>\n",
              "      <th>lead</th>\n",
              "      <th>text</th>\n",
              "    </tr>\n",
              "  </thead>\n",
              "  <tbody>\n",
              "    <tr>\n",
              "      <th>110581</th>\n",
              "      <td>sport</td>\n",
              "      <td>UEFA to probe Valencia-Werder Bremen incidents</td>\n",
              "      <td>UEFA will be launching disciplinary proceeding...</td>\n",
              "      <td>UEFA to probe Valencia-Werder Bremen incidents...</td>\n",
              "    </tr>\n",
              "    <tr>\n",
              "      <th>15925</th>\n",
              "      <td>sci/tech</td>\n",
              "      <td>New iMac tries to play it cool</td>\n",
              "      <td>Hot G5 chip requires some serious effort to av...</td>\n",
              "      <td>New iMac tries to play it cool Hot G5 chip req...</td>\n",
              "    </tr>\n",
              "    <tr>\n",
              "      <th>46720</th>\n",
              "      <td>business</td>\n",
              "      <td>Ford Reports Disappointing U.S. Sales</td>\n",
              "      <td>Ford's car and truck business sales fell nearl...</td>\n",
              "      <td>Ford Reports Disappointing U.S. Sales Ford's c...</td>\n",
              "    </tr>\n",
              "    <tr>\n",
              "      <th>57350</th>\n",
              "      <td>sci/tech</td>\n",
              "      <td>Microsoft Upgrades Windows XP Media Center (Ne...</td>\n",
              "      <td>NewsFactor - Bill Gates is about to announce a...</td>\n",
              "      <td>Microsoft Upgrades Windows XP Media Center (Ne...</td>\n",
              "    </tr>\n",
              "    <tr>\n",
              "      <th>90601</th>\n",
              "      <td>sport</td>\n",
              "      <td>Rams make statement they #39;re team to beat i...</td>\n",
              "      <td>ST. LOUIS -- When St. Louis coach Mike Martz l...</td>\n",
              "      <td>Rams make statement they #39;re team to beat i...</td>\n",
              "    </tr>\n",
              "  </tbody>\n",
              "</table>\n",
              "</div>"
            ],
            "text/plain": [
              "           label                                              title  \\\n",
              "110581     sport     UEFA to probe Valencia-Werder Bremen incidents   \n",
              "15925   sci/tech                     New iMac tries to play it cool   \n",
              "46720   business              Ford Reports Disappointing U.S. Sales   \n",
              "57350   sci/tech  Microsoft Upgrades Windows XP Media Center (Ne...   \n",
              "90601      sport  Rams make statement they #39;re team to beat i...   \n",
              "\n",
              "                                                     lead  \\\n",
              "110581  UEFA will be launching disciplinary proceeding...   \n",
              "15925   Hot G5 chip requires some serious effort to av...   \n",
              "46720   Ford's car and truck business sales fell nearl...   \n",
              "57350   NewsFactor - Bill Gates is about to announce a...   \n",
              "90601   ST. LOUIS -- When St. Louis coach Mike Martz l...   \n",
              "\n",
              "                                                     text  \n",
              "110581  UEFA to probe Valencia-Werder Bremen incidents...  \n",
              "15925   New iMac tries to play it cool Hot G5 chip req...  \n",
              "46720   Ford Reports Disappointing U.S. Sales Ford's c...  \n",
              "57350   Microsoft Upgrades Windows XP Media Center (Ne...  \n",
              "90601   Rams make statement they #39;re team to beat i...  "
            ]
          },
          "execution_count": 10,
          "metadata": {},
          "output_type": "execute_result"
        }
      ],
      "source": [
        "import pandas as pd\n",
        "import nltk\n",
        "df = pd.read_csv('train.csv')\n",
        "\n",
        "df.columns = [\"label\", \"title\", \"lead\"]\n",
        "label_map = {1:\"world\", 2:\"sport\", 3:\"business\", 4:\"sci/tech\"}\n",
        "def replace_label(x):\n",
        "\treturn label_map[x]\n",
        "df[\"label\"] = df[\"label\"].apply(replace_label) \n",
        "df[\"text\"] = df[\"title\"] + \" \" + df[\"lead\"]\n",
        "df = df.sample(n=10000) # # only use 10K datapoints\n",
        "df.head()"
      ]
    },
    {
      "cell_type": "code",
      "execution_count": null,
      "id": "61ec5921",
      "metadata": {
        "id": "61ec5921"
      },
      "outputs": [],
      "source": [
        "import spacy\n",
        "nlp = spacy.load('en_core_web_sm')\n",
        "#TODO preprocess the corpus using spacy\n"
      ]
    },
    {
      "cell_type": "markdown",
      "id": "9a0ae310",
      "metadata": {
        "id": "9a0ae310"
      },
      "source": [
        "### Information Extraction"
      ]
    },
    {
      "cell_type": "code",
      "execution_count": null,
      "id": "8fbd7718",
      "metadata": {
        "id": "8fbd7718"
      },
      "outputs": [],
      "source": [
        "def extract_subject_verb_pairs(sent):\n",
        "    subjs = [w for w in sent if w.dep_ == \"nsubj\"]\n",
        "    pairs = [(w.lemma_.lower(), w.head.lemma_.lower()) for w in subjs]\n",
        "    return pairs\n",
        "##TODO extract the subject-verbs pairs and print the result for the second document\n",
        "\n",
        "from collections import Counter\n",
        "counter = Counter()\n",
        "\n",
        "##TODO create a list ranking the most common pairs and print the first 10 items"
      ]
    },
    {
      "cell_type": "code",
      "execution_count": null,
      "id": "c2c30e56",
      "metadata": {
        "id": "c2c30e56"
      },
      "outputs": [],
      "source": [
        "##TODO do the same for verbs-object pairs ('dobj')\n",
        "##TODO create a list ranking the most common pairs and print the first 10 items"
      ]
    },
    {
      "cell_type": "code",
      "execution_count": null,
      "id": "aad55039",
      "metadata": {
        "id": "aad55039"
      },
      "outputs": [],
      "source": [
        "##TODO do the same for adjectives-nouns pairs ('amod')\n",
        "##TODO create a list ranking the most common pairs and print the first 10 items"
      ]
    },
    {
      "cell_type": "markdown",
      "id": "d1273253",
      "metadata": {
        "id": "d1273253"
      },
      "source": [
        "### Exploring cross label dependencies"
      ]
    },
    {
      "cell_type": "code",
      "execution_count": null,
      "id": "06d19500",
      "metadata": {
        "id": "06d19500"
      },
      "outputs": [],
      "source": [
        "##TODO extract all the subject-verbs and verbs-object pairs for the verb \"rise\""
      ]
    },
    {
      "cell_type": "code",
      "execution_count": null,
      "id": "75649d5e",
      "metadata": {
        "id": "75649d5e"
      },
      "outputs": [],
      "source": [
        "##TODO for each label create a list ranking the most common subject-verbs pairs and one for the most common verbs-object pairs\n",
        "##TODO print the 10 most common pairs for each of the two lists for the labels \"world\" and \"sci/tech\""
      ]
    },
    {
      "cell_type": "code",
      "execution_count": null,
      "id": "98d363b6",
      "metadata": {
        "id": "98d363b6"
      },
      "outputs": [],
      "source": []
    }
  ],
  "metadata": {
    "kernelspec": {
      "display_name": "pytorch",
      "language": "python",
      "name": "python3"
    },
    "language_info": {
      "codemirror_mode": {
        "name": "ipython",
        "version": 3
      },
      "file_extension": ".py",
      "mimetype": "text/x-python",
      "name": "python",
      "nbconvert_exporter": "python",
      "pygments_lexer": "ipython3",
      "version": "3.7.11"
    },
    "toc": {
      "base_numbering": 1,
      "nav_menu": {},
      "number_sections": true,
      "sideBar": true,
      "skip_h1_title": false,
      "title_cell": "Table of Contents",
      "title_sidebar": "Contents",
      "toc_cell": false,
      "toc_position": {},
      "toc_section_display": true,
      "toc_window_display": false
    },
    "vscode": {
      "interpreter": {
        "hash": "d73fbafa1c1ce4c8cd6f07277ecbf2d62d7720c8bfdb6bdbaeeaf6dba6dd25dd"
      }
    },
    "colab": {
      "provenance": []
    }
  },
  "nbformat": 4,
  "nbformat_minor": 5
}