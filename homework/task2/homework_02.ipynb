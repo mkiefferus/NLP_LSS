{
  "cells": [
    {
      "cell_type": "markdown",
      "id": "a60bffde",
      "metadata": {
        "id": "a60bffde"
      },
      "source": [
        "# HW02: Tokenization"
      ]
    },
    {
      "cell_type": "markdown",
      "id": "b8ed3f1a",
      "metadata": {
        "id": "b8ed3f1a"
      },
      "source": [
        "Remember that these homework work as a completion grade. **You can skip one section without losing credit.**"
      ]
    },
    {
      "cell_type": "code",
      "execution_count": 6,
      "id": "dc19cf83",
      "metadata": {
        "colab": {
          "base_uri": "https://localhost:8080/",
          "height": 540
        },
        "id": "dc19cf83",
        "outputId": "6cee5af1-e0c8-453b-abd1-861e971fd078"
      },
      "outputs": [
        {
          "name": "stdout",
          "output_type": "stream",
          "text": [
            "--2023-03-09 17:18:00--  https://raw.githubusercontent.com/mhjabreel/CharCnn_Keras/master/data/ag_news_csv/train.csv\n",
            "Resolving raw.githubusercontent.com (raw.githubusercontent.com)... 185.199.110.133, 185.199.108.133, 185.199.111.133, ...\n",
            "Connecting to raw.githubusercontent.com (raw.githubusercontent.com)|185.199.110.133|:443... connected.\n",
            "HTTP request sent, awaiting response... 200 OK\n",
            "Length: 29470338 (28M) [text/plain]\n",
            "Saving to: ‘train.csv.1’\n",
            "\n",
            "train.csv.1         100%[===================>]  28.10M   163MB/s    in 0.2s    \n",
            "\n",
            "2023-03-09 17:18:01 (163 MB/s) - ‘train.csv.1’ saved [29470338/29470338]\n",
            "\n"
          ]
        },
        {
          "data": {
            "text/html": [
              "\n",
              "  <div id=\"df-8620b50e-b1c1-44d3-b2c7-176db8c489cf\">\n",
              "    <div class=\"colab-df-container\">\n",
              "      <div>\n",
              "<style scoped>\n",
              "    .dataframe tbody tr th:only-of-type {\n",
              "        vertical-align: middle;\n",
              "    }\n",
              "\n",
              "    .dataframe tbody tr th {\n",
              "        vertical-align: top;\n",
              "    }\n",
              "\n",
              "    .dataframe thead th {\n",
              "        text-align: right;\n",
              "    }\n",
              "</style>\n",
              "<table border=\"1\" class=\"dataframe\">\n",
              "  <thead>\n",
              "    <tr style=\"text-align: right;\">\n",
              "      <th></th>\n",
              "      <th>label</th>\n",
              "      <th>title</th>\n",
              "      <th>lead</th>\n",
              "      <th>text</th>\n",
              "    </tr>\n",
              "  </thead>\n",
              "  <tbody>\n",
              "    <tr>\n",
              "      <th>0</th>\n",
              "      <td>business</td>\n",
              "      <td>Carlyle Looks Toward Commercial Aerospace (Reu...</td>\n",
              "      <td>Reuters - Private investment firm Carlyle Grou...</td>\n",
              "      <td>Carlyle Looks Toward Commercial Aerospace (Reu...</td>\n",
              "    </tr>\n",
              "    <tr>\n",
              "      <th>1</th>\n",
              "      <td>business</td>\n",
              "      <td>Oil and Economy Cloud Stocks' Outlook (Reuters)</td>\n",
              "      <td>Reuters - Soaring crude prices plus worries\\ab...</td>\n",
              "      <td>Oil and Economy Cloud Stocks' Outlook (Reuters...</td>\n",
              "    </tr>\n",
              "    <tr>\n",
              "      <th>2</th>\n",
              "      <td>business</td>\n",
              "      <td>Iraq Halts Oil Exports from Main Southern Pipe...</td>\n",
              "      <td>Reuters - Authorities have halted oil export\\f...</td>\n",
              "      <td>Iraq Halts Oil Exports from Main Southern Pipe...</td>\n",
              "    </tr>\n",
              "    <tr>\n",
              "      <th>3</th>\n",
              "      <td>business</td>\n",
              "      <td>Oil prices soar to all-time record, posing new...</td>\n",
              "      <td>AFP - Tearaway world oil prices, toppling reco...</td>\n",
              "      <td>Oil prices soar to all-time record, posing new...</td>\n",
              "    </tr>\n",
              "    <tr>\n",
              "      <th>4</th>\n",
              "      <td>business</td>\n",
              "      <td>Stocks End Up, But Near Year Lows (Reuters)</td>\n",
              "      <td>Reuters - Stocks ended slightly higher on Frid...</td>\n",
              "      <td>Stocks End Up, But Near Year Lows (Reuters) Re...</td>\n",
              "    </tr>\n",
              "  </tbody>\n",
              "</table>\n",
              "</div>\n",
              "      <button class=\"colab-df-convert\" onclick=\"convertToInteractive('df-8620b50e-b1c1-44d3-b2c7-176db8c489cf')\"\n",
              "              title=\"Convert this dataframe to an interactive table.\"\n",
              "              style=\"display:none;\">\n",
              "        \n",
              "  <svg xmlns=\"http://www.w3.org/2000/svg\" height=\"24px\"viewBox=\"0 0 24 24\"\n",
              "       width=\"24px\">\n",
              "    <path d=\"M0 0h24v24H0V0z\" fill=\"none\"/>\n",
              "    <path d=\"M18.56 5.44l.94 2.06.94-2.06 2.06-.94-2.06-.94-.94-2.06-.94 2.06-2.06.94zm-11 1L8.5 8.5l.94-2.06 2.06-.94-2.06-.94L8.5 2.5l-.94 2.06-2.06.94zm10 10l.94 2.06.94-2.06 2.06-.94-2.06-.94-.94-2.06-.94 2.06-2.06.94z\"/><path d=\"M17.41 7.96l-1.37-1.37c-.4-.4-.92-.59-1.43-.59-.52 0-1.04.2-1.43.59L10.3 9.45l-7.72 7.72c-.78.78-.78 2.05 0 2.83L4 21.41c.39.39.9.59 1.41.59.51 0 1.02-.2 1.41-.59l7.78-7.78 2.81-2.81c.8-.78.8-2.07 0-2.86zM5.41 20L4 18.59l7.72-7.72 1.47 1.35L5.41 20z\"/>\n",
              "  </svg>\n",
              "      </button>\n",
              "      \n",
              "  <style>\n",
              "    .colab-df-container {\n",
              "      display:flex;\n",
              "      flex-wrap:wrap;\n",
              "      gap: 12px;\n",
              "    }\n",
              "\n",
              "    .colab-df-convert {\n",
              "      background-color: #E8F0FE;\n",
              "      border: none;\n",
              "      border-radius: 50%;\n",
              "      cursor: pointer;\n",
              "      display: none;\n",
              "      fill: #1967D2;\n",
              "      height: 32px;\n",
              "      padding: 0 0 0 0;\n",
              "      width: 32px;\n",
              "    }\n",
              "\n",
              "    .colab-df-convert:hover {\n",
              "      background-color: #E2EBFA;\n",
              "      box-shadow: 0px 1px 2px rgba(60, 64, 67, 0.3), 0px 1px 3px 1px rgba(60, 64, 67, 0.15);\n",
              "      fill: #174EA6;\n",
              "    }\n",
              "\n",
              "    [theme=dark] .colab-df-convert {\n",
              "      background-color: #3B4455;\n",
              "      fill: #D2E3FC;\n",
              "    }\n",
              "\n",
              "    [theme=dark] .colab-df-convert:hover {\n",
              "      background-color: #434B5C;\n",
              "      box-shadow: 0px 1px 3px 1px rgba(0, 0, 0, 0.15);\n",
              "      filter: drop-shadow(0px 1px 2px rgba(0, 0, 0, 0.3));\n",
              "      fill: #FFFFFF;\n",
              "    }\n",
              "  </style>\n",
              "\n",
              "      <script>\n",
              "        const buttonEl =\n",
              "          document.querySelector('#df-8620b50e-b1c1-44d3-b2c7-176db8c489cf button.colab-df-convert');\n",
              "        buttonEl.style.display =\n",
              "          google.colab.kernel.accessAllowed ? 'block' : 'none';\n",
              "\n",
              "        async function convertToInteractive(key) {\n",
              "          const element = document.querySelector('#df-8620b50e-b1c1-44d3-b2c7-176db8c489cf');\n",
              "          const dataTable =\n",
              "            await google.colab.kernel.invokeFunction('convertToInteractive',\n",
              "                                                     [key], {});\n",
              "          if (!dataTable) return;\n",
              "\n",
              "          const docLinkHtml = 'Like what you see? Visit the ' +\n",
              "            '<a target=\"_blank\" href=https://colab.research.google.com/notebooks/data_table.ipynb>data table notebook</a>'\n",
              "            + ' to learn more about interactive tables.';\n",
              "          element.innerHTML = '';\n",
              "          dataTable['output_type'] = 'display_data';\n",
              "          await google.colab.output.renderOutput(dataTable, element);\n",
              "          const docLink = document.createElement('div');\n",
              "          docLink.innerHTML = docLinkHtml;\n",
              "          element.appendChild(docLink);\n",
              "        }\n",
              "      </script>\n",
              "    </div>\n",
              "  </div>\n",
              "  "
            ],
            "text/plain": [
              "      label                                              title  \\\n",
              "0  business  Carlyle Looks Toward Commercial Aerospace (Reu...   \n",
              "1  business    Oil and Economy Cloud Stocks' Outlook (Reuters)   \n",
              "2  business  Iraq Halts Oil Exports from Main Southern Pipe...   \n",
              "3  business  Oil prices soar to all-time record, posing new...   \n",
              "4  business        Stocks End Up, But Near Year Lows (Reuters)   \n",
              "\n",
              "                                                lead  \\\n",
              "0  Reuters - Private investment firm Carlyle Grou...   \n",
              "1  Reuters - Soaring crude prices plus worries\\ab...   \n",
              "2  Reuters - Authorities have halted oil export\\f...   \n",
              "3  AFP - Tearaway world oil prices, toppling reco...   \n",
              "4  Reuters - Stocks ended slightly higher on Frid...   \n",
              "\n",
              "                                                text  \n",
              "0  Carlyle Looks Toward Commercial Aerospace (Reu...  \n",
              "1  Oil and Economy Cloud Stocks' Outlook (Reuters...  \n",
              "2  Iraq Halts Oil Exports from Main Southern Pipe...  \n",
              "3  Oil prices soar to all-time record, posing new...  \n",
              "4  Stocks End Up, But Near Year Lows (Reuters) Re...  "
            ]
          },
          "execution_count": 6,
          "metadata": {},
          "output_type": "execute_result"
        }
      ],
      "source": [
        "#Import the AG news dataset (same as hw01)\n",
        "#Download them from here \n",
        "!wget https://raw.githubusercontent.com/mhjabreel/CharCnn_Keras/master/data/ag_news_csv/train.csv\n",
        "\n",
        "import pandas as pd\n",
        "import nltk\n",
        "df = pd.read_csv('train.csv')\n",
        "\n",
        "df.columns = [\"label\", \"title\", \"lead\"]\n",
        "label_map = {1:\"world\", 2:\"sport\", 3:\"business\", 4:\"sci/tech\"}\n",
        "def replace_label(x):\n",
        "\treturn label_map[x]\n",
        "df[\"label\"] = df[\"label\"].apply(replace_label) \n",
        "df[\"text\"] = df[\"title\"] + \" \" + df[\"lead\"]\n",
        "df.head()"
      ]
    },
    {
      "cell_type": "markdown",
      "id": "37f7b626",
      "metadata": {
        "id": "37f7b626"
      },
      "source": [
        "## Preprocess Text"
      ]
    },
    {
      "cell_type": "code",
      "execution_count": 51,
      "id": "ab1861a9",
      "metadata": {
        "colab": {
          "base_uri": "https://localhost:8080/"
        },
        "id": "ab1861a9",
        "outputId": "1430c3a8-794b-4248-e09c-f7355a07b2d2"
      },
      "outputs": [
        {
          "name": "stdout",
          "output_type": "stream",
          "text": [
            "EU irked by Turkish adultery law The EU enlargement commissioner says  Turkey's plans to make adultery a crime could affect its chances of joining the EU.\n"
          ]
        }
      ],
      "source": [
        "import spacy\n",
        "dfs = df.sample(50)\n",
        "nlp = spacy.load('en_core_web_sm')\n",
        "\n",
        "##TODO use spacy to split the documents in the sampled dataframe (dfs) in sentences and tokens\n",
        "\n",
        "def get_sentences(text):\n",
        "\n",
        "    doc = nlp(text)\n",
        "    sentences = list(doc.sents)\n",
        "\n",
        "    return sentences\n",
        "\n",
        "def get_tokens(text):\n",
        "    doc = nlp(text)\n",
        "    tokens = [token for token in doc]\n",
        "\n",
        "    return tokens\n",
        "\n",
        "dfs['sentences'] = dfs['text'].apply(get_sentences)\n",
        "\n",
        "dfs['tokens'] = dfs['text'].apply(get_tokens)\n",
        "\n",
        "##TODO print the first sentence of the first document in your sample\n",
        "\n",
        "print(dfs['sentences'].iloc[0][0])\n",
        "\n"
      ]
    },
    {
      "cell_type": "code",
      "execution_count": 52,
      "id": "E1hldYveptUv",
      "metadata": {
        "colab": {
          "base_uri": "https://localhost:8080/",
          "height": 418
        },
        "id": "E1hldYveptUv",
        "outputId": "c1d2d543-eb2f-4d18-d821-c9707d3b6977"
      },
      "outputs": [
        {
          "data": {
            "text/html": [
              "\n",
              "  <div id=\"df-a6fd0006-0483-4c55-b148-8d792f1cbd9c\">\n",
              "    <div class=\"colab-df-container\">\n",
              "      <div>\n",
              "<style scoped>\n",
              "    .dataframe tbody tr th:only-of-type {\n",
              "        vertical-align: middle;\n",
              "    }\n",
              "\n",
              "    .dataframe tbody tr th {\n",
              "        vertical-align: top;\n",
              "    }\n",
              "\n",
              "    .dataframe thead th {\n",
              "        text-align: right;\n",
              "    }\n",
              "</style>\n",
              "<table border=\"1\" class=\"dataframe\">\n",
              "  <thead>\n",
              "    <tr style=\"text-align: right;\">\n",
              "      <th></th>\n",
              "      <th>label</th>\n",
              "      <th>title</th>\n",
              "      <th>lead</th>\n",
              "      <th>text</th>\n",
              "      <th>sentences</th>\n",
              "      <th>tokens</th>\n",
              "    </tr>\n",
              "  </thead>\n",
              "  <tbody>\n",
              "    <tr>\n",
              "      <th>22844</th>\n",
              "      <td>world</td>\n",
              "      <td>EU irked by Turkish adultery law</td>\n",
              "      <td>The EU enlargement commissioner says  Turkey's...</td>\n",
              "      <td>EU irked by Turkish adultery law The EU enlarg...</td>\n",
              "      <td>[(EU, irked, by, Turkish, adultery, law, The, ...</td>\n",
              "      <td>[EU, irked, by, Turkish, adultery, law, The, E...</td>\n",
              "    </tr>\n",
              "    <tr>\n",
              "      <th>86699</th>\n",
              "      <td>world</td>\n",
              "      <td>Japan on alert as suspected Chinese sub detect...</td>\n",
              "      <td>AFP - Japan was on alert after a suspected Chi...</td>\n",
              "      <td>Japan on alert as suspected Chinese sub detect...</td>\n",
              "      <td>[(Japan, on, alert, as, suspected, Chinese, su...</td>\n",
              "      <td>[Japan, on, alert, as, suspected, Chinese, sub...</td>\n",
              "    </tr>\n",
              "    <tr>\n",
              "      <th>64196</th>\n",
              "      <td>sport</td>\n",
              "      <td>ICC: Test status for Bangladesh and Zimbabwe i...</td>\n",
              "      <td>LAHORE: The International Cricket Council yest...</td>\n",
              "      <td>ICC: Test status for Bangladesh and Zimbabwe i...</td>\n",
              "      <td>[(ICC, :, Test, status, for, Bangladesh, and, ...</td>\n",
              "      <td>[ICC, :, Test, status, for, Bangladesh, and, Z...</td>\n",
              "    </tr>\n",
              "    <tr>\n",
              "      <th>41998</th>\n",
              "      <td>world</td>\n",
              "      <td>Lubbers set for new Darfur talks</td>\n",
              "      <td>The UN refugee chief is to have what could be ...</td>\n",
              "      <td>Lubbers set for new Darfur talks  The UN refug...</td>\n",
              "      <td>[(Lubbers, set, for, new, Darfur, talks,  , Th...</td>\n",
              "      <td>[Lubbers, set, for, new, Darfur, talks,  , The...</td>\n",
              "    </tr>\n",
              "    <tr>\n",
              "      <th>91910</th>\n",
              "      <td>sport</td>\n",
              "      <td>Griffin Gets Good News</td>\n",
              "      <td>Th Redskins' defense receives good news on Cor...</td>\n",
              "      <td>Griffin Gets Good News Th Redskins' defense re...</td>\n",
              "      <td>[(Griffin, Gets, Good, News, Th, Redskins, ', ...</td>\n",
              "      <td>[Griffin, Gets, Good, News, Th, Redskins, ', d...</td>\n",
              "    </tr>\n",
              "  </tbody>\n",
              "</table>\n",
              "</div>\n",
              "      <button class=\"colab-df-convert\" onclick=\"convertToInteractive('df-a6fd0006-0483-4c55-b148-8d792f1cbd9c')\"\n",
              "              title=\"Convert this dataframe to an interactive table.\"\n",
              "              style=\"display:none;\">\n",
              "        \n",
              "  <svg xmlns=\"http://www.w3.org/2000/svg\" height=\"24px\"viewBox=\"0 0 24 24\"\n",
              "       width=\"24px\">\n",
              "    <path d=\"M0 0h24v24H0V0z\" fill=\"none\"/>\n",
              "    <path d=\"M18.56 5.44l.94 2.06.94-2.06 2.06-.94-2.06-.94-.94-2.06-.94 2.06-2.06.94zm-11 1L8.5 8.5l.94-2.06 2.06-.94-2.06-.94L8.5 2.5l-.94 2.06-2.06.94zm10 10l.94 2.06.94-2.06 2.06-.94-2.06-.94-.94-2.06-.94 2.06-2.06.94z\"/><path d=\"M17.41 7.96l-1.37-1.37c-.4-.4-.92-.59-1.43-.59-.52 0-1.04.2-1.43.59L10.3 9.45l-7.72 7.72c-.78.78-.78 2.05 0 2.83L4 21.41c.39.39.9.59 1.41.59.51 0 1.02-.2 1.41-.59l7.78-7.78 2.81-2.81c.8-.78.8-2.07 0-2.86zM5.41 20L4 18.59l7.72-7.72 1.47 1.35L5.41 20z\"/>\n",
              "  </svg>\n",
              "      </button>\n",
              "      \n",
              "  <style>\n",
              "    .colab-df-container {\n",
              "      display:flex;\n",
              "      flex-wrap:wrap;\n",
              "      gap: 12px;\n",
              "    }\n",
              "\n",
              "    .colab-df-convert {\n",
              "      background-color: #E8F0FE;\n",
              "      border: none;\n",
              "      border-radius: 50%;\n",
              "      cursor: pointer;\n",
              "      display: none;\n",
              "      fill: #1967D2;\n",
              "      height: 32px;\n",
              "      padding: 0 0 0 0;\n",
              "      width: 32px;\n",
              "    }\n",
              "\n",
              "    .colab-df-convert:hover {\n",
              "      background-color: #E2EBFA;\n",
              "      box-shadow: 0px 1px 2px rgba(60, 64, 67, 0.3), 0px 1px 3px 1px rgba(60, 64, 67, 0.15);\n",
              "      fill: #174EA6;\n",
              "    }\n",
              "\n",
              "    [theme=dark] .colab-df-convert {\n",
              "      background-color: #3B4455;\n",
              "      fill: #D2E3FC;\n",
              "    }\n",
              "\n",
              "    [theme=dark] .colab-df-convert:hover {\n",
              "      background-color: #434B5C;\n",
              "      box-shadow: 0px 1px 3px 1px rgba(0, 0, 0, 0.15);\n",
              "      filter: drop-shadow(0px 1px 2px rgba(0, 0, 0, 0.3));\n",
              "      fill: #FFFFFF;\n",
              "    }\n",
              "  </style>\n",
              "\n",
              "      <script>\n",
              "        const buttonEl =\n",
              "          document.querySelector('#df-a6fd0006-0483-4c55-b148-8d792f1cbd9c button.colab-df-convert');\n",
              "        buttonEl.style.display =\n",
              "          google.colab.kernel.accessAllowed ? 'block' : 'none';\n",
              "\n",
              "        async function convertToInteractive(key) {\n",
              "          const element = document.querySelector('#df-a6fd0006-0483-4c55-b148-8d792f1cbd9c');\n",
              "          const dataTable =\n",
              "            await google.colab.kernel.invokeFunction('convertToInteractive',\n",
              "                                                     [key], {});\n",
              "          if (!dataTable) return;\n",
              "\n",
              "          const docLinkHtml = 'Like what you see? Visit the ' +\n",
              "            '<a target=\"_blank\" href=https://colab.research.google.com/notebooks/data_table.ipynb>data table notebook</a>'\n",
              "            + ' to learn more about interactive tables.';\n",
              "          element.innerHTML = '';\n",
              "          dataTable['output_type'] = 'display_data';\n",
              "          await google.colab.output.renderOutput(dataTable, element);\n",
              "          const docLink = document.createElement('div');\n",
              "          docLink.innerHTML = docLinkHtml;\n",
              "          element.appendChild(docLink);\n",
              "        }\n",
              "      </script>\n",
              "    </div>\n",
              "  </div>\n",
              "  "
            ],
            "text/plain": [
              "       label                                              title  \\\n",
              "22844  world                   EU irked by Turkish adultery law   \n",
              "86699  world  Japan on alert as suspected Chinese sub detect...   \n",
              "64196  sport  ICC: Test status for Bangladesh and Zimbabwe i...   \n",
              "41998  world                  Lubbers set for new Darfur talks    \n",
              "91910  sport                             Griffin Gets Good News   \n",
              "\n",
              "                                                    lead  \\\n",
              "22844  The EU enlargement commissioner says  Turkey's...   \n",
              "86699  AFP - Japan was on alert after a suspected Chi...   \n",
              "64196  LAHORE: The International Cricket Council yest...   \n",
              "41998  The UN refugee chief is to have what could be ...   \n",
              "91910  Th Redskins' defense receives good news on Cor...   \n",
              "\n",
              "                                                    text  \\\n",
              "22844  EU irked by Turkish adultery law The EU enlarg...   \n",
              "86699  Japan on alert as suspected Chinese sub detect...   \n",
              "64196  ICC: Test status for Bangladesh and Zimbabwe i...   \n",
              "41998  Lubbers set for new Darfur talks  The UN refug...   \n",
              "91910  Griffin Gets Good News Th Redskins' defense re...   \n",
              "\n",
              "                                               sentences  \\\n",
              "22844  [(EU, irked, by, Turkish, adultery, law, The, ...   \n",
              "86699  [(Japan, on, alert, as, suspected, Chinese, su...   \n",
              "64196  [(ICC, :, Test, status, for, Bangladesh, and, ...   \n",
              "41998  [(Lubbers, set, for, new, Darfur, talks,  , Th...   \n",
              "91910  [(Griffin, Gets, Good, News, Th, Redskins, ', ...   \n",
              "\n",
              "                                                  tokens  \n",
              "22844  [EU, irked, by, Turkish, adultery, law, The, E...  \n",
              "86699  [Japan, on, alert, as, suspected, Chinese, sub...  \n",
              "64196  [ICC, :, Test, status, for, Bangladesh, and, Z...  \n",
              "41998  [Lubbers, set, for, new, Darfur, talks,  , The...  \n",
              "91910  [Griffin, Gets, Good, News, Th, Redskins, ', d...  "
            ]
          },
          "execution_count": 52,
          "metadata": {},
          "output_type": "execute_result"
        }
      ],
      "source": [
        "dfs.head()"
      ]
    },
    {
      "cell_type": "code",
      "execution_count": 53,
      "id": "cS7HAYBHbT8K",
      "metadata": {
        "id": "cS7HAYBHbT8K"
      },
      "outputs": [],
      "source": [
        "##TODO create a new column with tokens in lowercase (x.lower()), without punctuation tokens (x.is_punct), stopwords (x.is_stop), and digits (x.is_digit)\n",
        "\n",
        "\n",
        "def get_processed_tokens(text):\n",
        "\n",
        "    tokens = [token.text.lower() for token in text if not token.is_digit and not token.is_punct and not token.is_stop]\n",
        "\n",
        "    return tokens\n",
        "\n",
        "dfs['tokens_processed'] = dfs['tokens'].apply(get_processed_tokens)"
      ]
    },
    {
      "cell_type": "code",
      "execution_count": 54,
      "id": "9HDiREyMbcvh",
      "metadata": {
        "colab": {
          "base_uri": "https://localhost:8080/"
        },
        "id": "9HDiREyMbcvh",
        "outputId": "191da4f1-6bb0-4978-e211-01dab0414727"
      },
      "outputs": [
        {
          "data": {
            "text/plain": [
              "22844    [eu, irked, turkish, adultery, law, eu, enlarg...\n",
              "86699    [japan, alert, suspected, chinese, sub, detect...\n",
              "64196    [icc, test, status, bangladesh, zimbabwe, safe...\n",
              "41998    [lubbers, set, new, darfur, talks,  , un, refu...\n",
              "91910    [griffin, gets, good, news, th, redskins, defe...\n",
              "Name: tokens_processed, dtype: object"
            ]
          },
          "execution_count": 54,
          "metadata": {},
          "output_type": "execute_result"
        }
      ],
      "source": [
        "dfs['tokens_processed'].head()"
      ]
    },
    {
      "cell_type": "code",
      "execution_count": 55,
      "id": "QRSNxU0fb_Ex",
      "metadata": {
        "id": "QRSNxU0fb_Ex"
      },
      "outputs": [],
      "source": [
        "##TODO print the tokens (x.lemma_) and the dependency labels (x.dep_ ) of the first sentence of the first document (doc.sents)"
      ]
    },
    {
      "cell_type": "code",
      "execution_count": 56,
      "id": "ybB4JICCcB0g",
      "metadata": {
        "colab": {
          "base_uri": "https://localhost:8080/"
        },
        "id": "ybB4JICCcB0g",
        "outputId": "e145214e-cfe1-4d77-e1ef-a8f3c777e062"
      },
      "outputs": [
        {
          "name": "stdout",
          "output_type": "stream",
          "text": [
            "EU nsubj\n",
            "irk acl\n",
            "turkish amod\n",
            "adultery compound\n",
            "law pobj\n",
            "EU compound\n",
            "enlargement compound\n",
            "commissioner nsubj\n",
            "say ROOT\n",
            "  dep\n",
            "Turkey poss\n",
            "plan dobj\n",
            "adultery nsubj\n",
            "crime nsubj\n",
            "affect ccomp\n",
            "chance dobj\n",
            "join pcomp\n",
            "EU dobj\n"
          ]
        }
      ],
      "source": [
        "tokens = get_tokens(dfs['text'].iloc[0])\n",
        "tokens = [token for token in tokens if not token.is_digit and not token.is_punct and not token.is_stop]\n",
        "\n",
        "lemma = [token.lemma_ for token in tokens]\n",
        "dep = [token.dep_ for token in tokens]\n",
        "\n",
        "for l, d in zip(lemma, dep):\n",
        "    print(l, d)"
      ]
    },
    {
      "cell_type": "markdown",
      "id": "8ef544f1",
      "metadata": {
        "id": "8ef544f1"
      },
      "source": [
        "### Named Entities\n",
        "\n",
        "Let's compute the ratio of named entities starting with a capital letter, e.g. if we have \"University of Chicago\" as a NE, \"University\" and \"Chicago\" are capitalized, \"of\" is not, thus the ratio is 2/3."
      ]
    },
    {
      "cell_type": "code",
      "execution_count": null,
      "id": "UPLOC7sghhUg",
      "metadata": {
        "id": "UPLOC7sghhUg"
      },
      "outputs": [],
      "source": [
        "##TODO print the ratio of tokens being part of a named entity span starting with a capital letter (doc.ents)\n",
        "\n",
        "def get_entities(text):\n",
        "    doc = nlp(text)\n",
        "    entities = [entity for entity in doc.ents]\n",
        "\n",
        "    return entities\n",
        "\n",
        "\n",
        "entities = dfs['text'].apply(get_entities)\n",
        "\n",
        "def get_ent_ratio(ents):\n",
        "    ratios = []\n",
        "    for ent in ents:\n",
        "        cap_ent = 0\n",
        "        \n",
        "        for word in ent:\n",
        "            if word.text[0].isupper():\n",
        "                cap_ent += 1\n",
        "        \n",
        "        if len(ent) > 0:\n",
        "            ratios.append(cap_ent/len(ent))\n",
        "        else:\n",
        "            ratios.append(0.0)\n",
        "\n",
        "    return ratios\n",
        "\n",
        "ent_ratios = entities.apply(get_ent_ratio)\n",
        "\n",
        "for ent, rat in zip(entities, ent_ratios):\n",
        "    print(ent)\n",
        "    print(rat)\n",
        "\n"
      ]
    },
    {
      "cell_type": "code",
      "execution_count": 61,
      "id": "ZjCTmMB6lgnf",
      "metadata": {
        "colab": {
          "base_uri": "https://localhost:8080/"
        },
        "id": "ZjCTmMB6lgnf",
        "outputId": "bfbfe7a9-b614-451d-c4f8-356e120b0012"
      },
      "outputs": [
        {
          "data": {
            "text/plain": [
              "22844     0.034483\n",
              "86699     0.041667\n",
              "64196     0.097561\n",
              "41998     0.071429\n",
              "91910     0.212121\n",
              "84751     0.187500\n",
              "52370     0.035714\n",
              "110842    0.239130\n",
              "20554     0.196721\n",
              "75197     0.029412\n",
              "Name: tokens, dtype: float64"
            ]
          },
          "execution_count": 61,
          "metadata": {},
          "output_type": "execute_result"
        }
      ],
      "source": [
        "##TODO print the ratio of capitalized tokens not being part of a named entity span (have no token.ent_type_)\n",
        "# e.g. \"The dog barks\" = 1/3; 3 tokens, only \"The\" is capitalized\n",
        "\n",
        "def get_ratio_cap_tokens_not_ent(text):\n",
        "    \n",
        "    target_tokens = [token for token in text if not token.ent_type_ and token.text[0].isupper()]\n",
        "\n",
        "    if len(text) > 0:\n",
        "        ratio = len(target_tokens) / len(text)\n",
        "    else: ratio = 0.0\n",
        "\n",
        "    return ratio\n",
        "\n",
        "\n",
        "ratio_cap_tokens_not_ent = dfs['tokens'].apply(get_ratio_cap_tokens_not_ent)\n",
        "\n",
        "ratio_cap_tokens_not_ent.head(10)\n"
      ]
    },
    {
      "cell_type": "code",
      "execution_count": 71,
      "id": "_dAbpPrynfgZ",
      "metadata": {
        "colab": {
          "base_uri": "https://localhost:8080/"
        },
        "id": "_dAbpPrynfgZ",
        "outputId": "3b3cd38c-ccf5-4559-a927-953bb77e613d"
      },
      "outputs": [
        {
          "name": "stdout",
          "output_type": "stream",
          "text": [
            "22844      True\n",
            "86699      True\n",
            "64196     False\n",
            "41998     False\n",
            "91910     False\n",
            "84751      True\n",
            "52370      True\n",
            "110842     True\n",
            "20554     False\n",
            "75197      True\n",
            "37965      True\n",
            "52624      True\n",
            "79198      True\n",
            "10399     False\n",
            "7347      False\n",
            "83543     False\n",
            "12624     False\n",
            "63905      True\n",
            "30416      True\n",
            "36814      True\n",
            "19091      True\n",
            "98309     False\n",
            "82551     False\n",
            "94397     False\n",
            "51993     False\n",
            "7449      False\n",
            "108576    False\n",
            "103513     True\n",
            "17555     False\n",
            "113280    False\n",
            "55267      True\n",
            "38723      True\n",
            "99605     False\n",
            "112227     True\n",
            "1505      False\n",
            "1168      False\n",
            "64368     False\n",
            "88192     False\n",
            "7321      False\n",
            "1782      False\n",
            "53332     False\n",
            "62007     False\n",
            "75938      True\n",
            "55098     False\n",
            "68209     False\n",
            "9462      False\n",
            "68723     False\n",
            "45105      True\n",
            "6371      False\n",
            "116901    False\n",
            "dtype: bool\n"
          ]
        }
      ],
      "source": [
        "##TODO print the ratio of capitalized tokens not being a named entity and not being the first token in a sentence\n",
        "# e.g. \"The dog barks\" = 0; 3 tokens, \"The\" is capitalized but the starting token of a sentence, no other tokens are capitalized.\n",
        "\n",
        "def get_ratio_cap_token_not_ent_not_start_sentence(text):\n",
        "\n",
        "    nb_tokens = 0 \n",
        "    target_tokens = []\n",
        "\n",
        "    for sentence in text:\n",
        "        nb_tokens += len(sentence)\n",
        "\n",
        "        target_tokens_sent = [token for token in sentence[1:] if not token.ent_type_ and token.text[0].isupper()]\n",
        "\n",
        "        target_tokens.extend(target_tokens_sent)\n",
        "\n",
        "    if nb_tokens > 0:\n",
        "        ratio = len(target_tokens) /nb_tokens\n",
        "    else: ratio = 0.0\n",
        "\n",
        "    return ratio\n",
        "\n",
        "ratio_cap_tokens_not_ent_not_start = dfs['sentences'].apply(get_ratio_cap_token_not_ent_not_start_sentence)\n",
        "\n",
        "ratio_cap_tokens_not_ent_not_start.head(10)\n",
        "\n",
        "#print(ratio_cap_tokens_not_ent == ratio_cap_tokens_not_ent_not_start)\n",
        "\n"
      ]
    },
    {
      "cell_type": "markdown",
      "id": "466753be",
      "metadata": {
        "id": "466753be"
      },
      "source": [
        "Give an example of a capitalized token in the data which is neither a named entity nor at the start of a sentence. What could be the reason the token is capitalized (one sentence)?"
      ]
    },
    {
      "cell_type": "markdown",
      "id": "R2C53zik-53Z",
      "metadata": {
        "id": "R2C53zik-53Z"
      },
      "source": [
        "no clue"
      ]
    },
    {
      "cell_type": "markdown",
      "id": "3126a5c7",
      "metadata": {
        "id": "3126a5c7"
      },
      "source": [
        "## Term Frequencies"
      ]
    },
    {
      "cell_type": "code",
      "execution_count": null,
      "id": "2voLB8YQCnbW",
      "metadata": {
        "colab": {
          "base_uri": "https://localhost:8080/"
        },
        "id": "2voLB8YQCnbW",
        "outputId": "b644f4e4-69fe-4489-d07e-c96a47d952ba"
      },
      "outputs": [
        {
          "name": "stdout",
          "output_type": "stream",
          "text": [
            "sci/tech    30000\n",
            "sport       30000\n",
            "world       30000\n",
            "business    29999\n",
            "Name: label, dtype: int64\n"
          ]
        }
      ],
      "source": [
        "print(df['label'].value_counts())"
      ]
    },
    {
      "cell_type": "code",
      "execution_count": 72,
      "id": "055edce8",
      "metadata": {
        "colab": {
          "base_uri": "https://localhost:8080/",
          "height": 357
        },
        "id": "055edce8",
        "outputId": "e05d70cb-1bda-41f0-da93-a10d5d9575d1"
      },
      "outputs": [
        {
          "data": {
            "image/png": "[encoded data removed]",
            "text/plain": [
              "<Figure size 864x432 with 1 Axes>"
            ]
          },
          "metadata": {
            "needs_background": "light"
          },
          "output_type": "display_data"
        }
      ],
      "source": [
        "from sklearn.feature_extraction.text import TfidfVectorizer\n",
        "tfidf = TfidfVectorizer(min_df=0.01, \n",
        "                        max_df=0.9,  \n",
        "                        max_features=1000,\n",
        "                        stop_words='english',\n",
        "                        use_idf=True, # the new piece\n",
        "                        ngram_range=(1,2))\n",
        "\n",
        "from wordcloud import WordCloud\n",
        "import matplotlib.pyplot as plt\n",
        "\n",
        "##TODO using the whole sample, produce a world cloud with bigrams for label == business using tfidf frequencies\n",
        "\n",
        "df_bus = df.loc[df['label'] == 'business']\n",
        "\n",
        "\n",
        "tfidf.fit(df_bus)\n",
        "\n",
        "\n",
        "feature_names = tfidf.get_feature_names_out()\n",
        "tfidf_scores = tfidf.idf_\n",
        "\n",
        "# Create a dictionary with the feature names and their corresponding TF-IDF scores\n",
        "wordcloud_dict = dict(zip(feature_names, tfidf_scores))\n",
        "\n",
        "# Create a word cloud\n",
        "wordcloud = WordCloud(background_color=\"white\", width=800, height=400).generate_from_frequencies(wordcloud_dict)\n",
        "\n",
        "# Plot the word cloud\n",
        "plt.figure(figsize=(12, 6))\n",
        "plt.imshow(wordcloud, interpolation='bilinear')\n",
        "plt.axis(\"off\")\n",
        "plt.show()\n",
        "\n",
        "\n"
      ]
    },
    {
      "cell_type": "markdown",
      "id": "0948e50f",
      "metadata": {
        "id": "0948e50f"
      },
      "source": [
        "## Supervised Feature Selection"
      ]
    },
    {
      "cell_type": "code",
      "execution_count": null,
      "id": "0510aa29",
      "metadata": {
        "colab": {
          "base_uri": "https://localhost:8080/"
        },
        "id": "0510aa29",
        "outputId": "a920be46-f11f-461f-c6db-3a1dcb3526b6"
      },
      "outputs": [
        {
          "name": "stderr",
          "output_type": "stream",
          "text": [
            "[nltk_data] Downloading package stopwords to /root/nltk_data...\n",
            "[nltk_data]   Package stopwords is already up-to-date!\n",
            "[nltk_data] Downloading package punkt to /root/nltk_data...\n",
            "[nltk_data]   Package punkt is already up-to-date!\n"
          ]
        },
        {
          "name": "stdout",
          "output_type": "stream",
          "text": [
            "['aspx ticker', 'com fullquote', 'fullquote', 'fullquote aspx', 'fullquote gt', 'gt', 'href', 'href http', 'http', 'http www', 'investor reuters', 'lt', 'lt href', 'quickinfo', 'quickinfo fullquote', 'stocks quickinfo', 'strong', 'target stocks', 'www', 'www investor']\n",
            "['39', 'fullquote', 'gt', 'href', 'href http', 'http', 'http www', 'investor reuters', 'lt', 'lt gt', 'lt href', 'quickinfo', 'quickinfo fullquote', 'reuters', 'reuters com', 'stocks quickinfo', 'strong', 'target stocks', 'www', 'www investor']\n"
          ]
        }
      ],
      "source": [
        "from sklearn.feature_selection import SelectKBest, f_classif, chi2\n",
        "\n",
        "##TODO compute the number of words per document (excluding stopwords)\n",
        "\n",
        "import nltk\n",
        "nltk.download('stopwords')\n",
        "nltk.download('punkt')\n",
        "from nltk.tokenize import word_tokenize\n",
        "from nltk.corpus import stopwords\n",
        "\n",
        "en_stop_words = stopwords.words('english')\n",
        "\n",
        "text_no_stop_words = df['text'].apply(lambda x: ' '.join([word for word in x.lower().split() if word not in en_stop_words]))\n",
        "num_words_per_document = text_no_stop_words.apply(lambda x: len(x.split()))\n",
        "\n",
        "num_words_per_document.head()\n",
        "\n",
        "##TODO get the most predictive features of the number of words per document using first f_class and then chi2\n",
        "\n",
        "\n",
        "# f_classif\n",
        "selector = SelectKBest(f_classif, k=20)\n",
        "X_new = selector.fit_transform(tfidf.fit_transform(df['text']), num_words_per_document)\n",
        "feature_names = tfidf.get_feature_names_out()\n",
        "selected_features_fclass = [feature_names[i] for i in selector.get_support(indices=True)]\n",
        "print(selected_features_fclass)\n",
        "\n",
        "\n",
        "# chi2\n",
        "selector = SelectKBest(chi2, k=20)\n",
        "X_new = selector.fit_transform(tfidf.fit_transform(df['text']), num_words_per_document)\n",
        "feature_names = tfidf.get_feature_names_out()\n",
        "selected_features_chi2 = [feature_names[i] for i in selector.get_support(indices=True)]\n",
        "print(selected_features_chi2)"
      ]
    },
    {
      "cell_type": "markdown",
      "id": "ddaee2e4",
      "metadata": {
        "id": "ddaee2e4"
      },
      "source": [
        "Are the results different? What could be a reason for this? "
      ]
    },
    {
      "cell_type": "markdown",
      "id": "JhyvzyNERJzQ",
      "metadata": {
        "id": "JhyvzyNERJzQ"
      },
      "source": [
        "The f_classif assumes a normal distribution of the data and that the variance of y is equal across all features. chi2 however assumes the data to be categorical. The results are not equal because of the characteristics of the data."
      ]
    },
    {
      "cell_type": "markdown",
      "id": "8af74a1d",
      "metadata": {
        "id": "8af74a1d"
      },
      "source": [
        "## Huggingface Tokenizers"
      ]
    },
    {
      "cell_type": "code",
      "execution_count": null,
      "id": "d1e75e4d",
      "metadata": {
        "colab": {
          "base_uri": "https://localhost:8080/"
        },
        "id": "d1e75e4d",
        "outputId": "dd68d269-6255-4f03-bc71-053f73075d38"
      },
      "outputs": [
        {
          "name": "stdout",
          "output_type": "stream",
          "text": [
            "12.011806375442738\n",
            "513340\n"
          ]
        }
      ],
      "source": [
        "# # we use distilbert tokenizer\n",
        "#!pip install transformers\n",
        "from transformers import DistilBertTokenizerFast\n",
        "\n",
        "# let's instantiate a tokenizer\n",
        "tokenizer = DistilBertTokenizerFast.from_pretrained('distilbert-base-uncased')\n",
        "\n",
        "##TODO tokenize the sentences in the sampled dataframe (dfs) using the DisilBertTokenizer\n",
        "\n",
        "# I used 'text' instead of sentences to avoid having to iterate through every documents.\n",
        "# To consider multiple sentences however, the 'add_special_tokens' is activated, which, as far as I understood,\n",
        "# accounts for multiple sentences in the input\n",
        "tokenized_sentences = dfs['text'].apply(lambda x: tokenizer.encode(x, add_special_tokens=True))\n",
        "\n",
        "\n",
        "##TODO what is the type/token ratio from this tokenizer (number_of_unqiue_token_types/number_of_tokens)?\n",
        "\n",
        "# Number of unique token types\n",
        "num_unique_tokens = len(set(tokenizer.get_vocab().keys()))\n",
        "\n",
        "# Total number of tokens\n",
        "num_tokens = sum([len(sentence) for sentence in tokenized_sentences])\n",
        "\n",
        "# type/token ratio\n",
        "type_token_ratio = num_unique_tokens / num_tokens\n",
        "\n",
        "print(type_token_ratio)\n",
        "\n",
        "##TODO what is the amount of subword tokens returned by the huggingface tokenizer? hint: each subword token starts with \"#\"\n",
        "\n",
        "tokenized_sentences = [tokenizer.tokenize(sentence) for sentence in df['text']]\n",
        "\n",
        "# Sum of subword tokens starting with '#'\n",
        "num_subword_tokens = sum([1 for sentence in tokenized_sentences for token in sentence if token.startswith('#')])\n",
        "\n",
        "print(num_subword_tokens)\n",
        "\n"
      ]
    },
    {
      "cell_type": "markdown",
      "id": "38bc9d00",
      "metadata": {
        "id": "38bc9d00"
      },
      "source": [
        "# Parsing"
      ]
    },
    {
      "cell_type": "code",
      "execution_count": null,
      "id": "16bf8639",
      "metadata": {
        "colab": {
          "base_uri": "https://localhost:8080/",
          "height": 333
        },
        "id": "16bf8639",
        "outputId": "2ed8ac59-f22b-41f3-a365-eb730f512df5"
      },
      "outputs": [
        {
          "data": {
            "text/html": [
              "\n",
              "  <div id=\"df-c0bb6893-cc2b-482f-a382-764b22911d0b\">\n",
              "    <div class=\"colab-df-container\">\n",
              "      <div>\n",
              "<style scoped>\n",
              "    .dataframe tbody tr th:only-of-type {\n",
              "        vertical-align: middle;\n",
              "    }\n",
              "\n",
              "    .dataframe tbody tr th {\n",
              "        vertical-align: top;\n",
              "    }\n",
              "\n",
              "    .dataframe thead th {\n",
              "        text-align: right;\n",
              "    }\n",
              "</style>\n",
              "<table border=\"1\" class=\"dataframe\">\n",
              "  <thead>\n",
              "    <tr style=\"text-align: right;\">\n",
              "      <th></th>\n",
              "      <th>label</th>\n",
              "      <th>title</th>\n",
              "      <th>lead</th>\n",
              "      <th>text</th>\n",
              "    </tr>\n",
              "  </thead>\n",
              "  <tbody>\n",
              "    <tr>\n",
              "      <th>78333</th>\n",
              "      <td>world</td>\n",
              "      <td>Eight Marines dead in suicide car bombing</td>\n",
              "      <td>A suicide attacker detonated a car bomb yester...</td>\n",
              "      <td>Eight Marines dead in suicide car bombing A su...</td>\n",
              "    </tr>\n",
              "    <tr>\n",
              "      <th>29574</th>\n",
              "      <td>sport</td>\n",
              "      <td>UPDATE 1-Blackburn chance too good to miss, sa...</td>\n",
              "      <td>New Blackburn Rovers manager Mark Hughes says ...</td>\n",
              "      <td>UPDATE 1-Blackburn chance too good to miss, sa...</td>\n",
              "    </tr>\n",
              "    <tr>\n",
              "      <th>112831</th>\n",
              "      <td>sport</td>\n",
              "      <td>Diamondbacks Keep Busy; Ortiz Heading Home</td>\n",
              "      <td>ANAHEIM, Calif., (Sports Network) - The Arizo...</td>\n",
              "      <td>Diamondbacks Keep Busy; Ortiz Heading Home  AN...</td>\n",
              "    </tr>\n",
              "    <tr>\n",
              "      <th>66261</th>\n",
              "      <td>business</td>\n",
              "      <td>Crude price up slightly as market braces for U...</td>\n",
              "      <td>Crude oil prices rose slightly Wednesday after...</td>\n",
              "      <td>Crude price up slightly as market braces for U...</td>\n",
              "    </tr>\n",
              "    <tr>\n",
              "      <th>48580</th>\n",
              "      <td>business</td>\n",
              "      <td>Accountant testifies he lied about Enron barge...</td>\n",
              "      <td>A former Enron accountant testified Thursday t...</td>\n",
              "      <td>Accountant testifies he lied about Enron barge...</td>\n",
              "    </tr>\n",
              "  </tbody>\n",
              "</table>\n",
              "</div>\n",
              "      <button class=\"colab-df-convert\" onclick=\"convertToInteractive('df-c0bb6893-cc2b-482f-a382-764b22911d0b')\"\n",
              "              title=\"Convert this dataframe to an interactive table.\"\n",
              "              style=\"display:none;\">\n",
              "        \n",
              "  <svg xmlns=\"http://www.w3.org/2000/svg\" height=\"24px\"viewBox=\"0 0 24 24\"\n",
              "       width=\"24px\">\n",
              "    <path d=\"M0 0h24v24H0V0z\" fill=\"none\"/>\n",
              "    <path d=\"M18.56 5.44l.94 2.06.94-2.06 2.06-.94-2.06-.94-.94-2.06-.94 2.06-2.06.94zm-11 1L8.5 8.5l.94-2.06 2.06-.94-2.06-.94L8.5 2.5l-.94 2.06-2.06.94zm10 10l.94 2.06.94-2.06 2.06-.94-2.06-.94-.94-2.06-.94 2.06-2.06.94z\"/><path d=\"M17.41 7.96l-1.37-1.37c-.4-.4-.92-.59-1.43-.59-.52 0-1.04.2-1.43.59L10.3 9.45l-7.72 7.72c-.78.78-.78 2.05 0 2.83L4 21.41c.39.39.9.59 1.41.59.51 0 1.02-.2 1.41-.59l7.78-7.78 2.81-2.81c.8-.78.8-2.07 0-2.86zM5.41 20L4 18.59l7.72-7.72 1.47 1.35L5.41 20z\"/>\n",
              "  </svg>\n",
              "      </button>\n",
              "      \n",
              "  <style>\n",
              "    .colab-df-container {\n",
              "      display:flex;\n",
              "      flex-wrap:wrap;\n",
              "      gap: 12px;\n",
              "    }\n",
              "\n",
              "    .colab-df-convert {\n",
              "      background-color: #E8F0FE;\n",
              "      border: none;\n",
              "      border-radius: 50%;\n",
              "      cursor: pointer;\n",
              "      display: none;\n",
              "      fill: #1967D2;\n",
              "      height: 32px;\n",
              "      padding: 0 0 0 0;\n",
              "      width: 32px;\n",
              "    }\n",
              "\n",
              "    .colab-df-convert:hover {\n",
              "      background-color: #E2EBFA;\n",
              "      box-shadow: 0px 1px 2px rgba(60, 64, 67, 0.3), 0px 1px 3px 1px rgba(60, 64, 67, 0.15);\n",
              "      fill: #174EA6;\n",
              "    }\n",
              "\n",
              "    [theme=dark] .colab-df-convert {\n",
              "      background-color: #3B4455;\n",
              "      fill: #D2E3FC;\n",
              "    }\n",
              "\n",
              "    [theme=dark] .colab-df-convert:hover {\n",
              "      background-color: #434B5C;\n",
              "      box-shadow: 0px 1px 3px 1px rgba(0, 0, 0, 0.15);\n",
              "      filter: drop-shadow(0px 1px 2px rgba(0, 0, 0, 0.3));\n",
              "      fill: #FFFFFF;\n",
              "    }\n",
              "  </style>\n",
              "\n",
              "      <script>\n",
              "        const buttonEl =\n",
              "          document.querySelector('#df-c0bb6893-cc2b-482f-a382-764b22911d0b button.colab-df-convert');\n",
              "        buttonEl.style.display =\n",
              "          google.colab.kernel.accessAllowed ? 'block' : 'none';\n",
              "\n",
              "        async function convertToInteractive(key) {\n",
              "          const element = document.querySelector('#df-c0bb6893-cc2b-482f-a382-764b22911d0b');\n",
              "          const dataTable =\n",
              "            await google.colab.kernel.invokeFunction('convertToInteractive',\n",
              "                                                     [key], {});\n",
              "          if (!dataTable) return;\n",
              "\n",
              "          const docLinkHtml = 'Like what you see? Visit the ' +\n",
              "            '<a target=\"_blank\" href=https://colab.research.google.com/notebooks/data_table.ipynb>data table notebook</a>'\n",
              "            + ' to learn more about interactive tables.';\n",
              "          element.innerHTML = '';\n",
              "          dataTable['output_type'] = 'display_data';\n",
              "          await google.colab.output.renderOutput(dataTable, element);\n",
              "          const docLink = document.createElement('div');\n",
              "          docLink.innerHTML = docLinkHtml;\n",
              "          element.appendChild(docLink);\n",
              "        }\n",
              "      </script>\n",
              "    </div>\n",
              "  </div>\n",
              "  "
            ],
            "text/plain": [
              "           label                                              title  \\\n",
              "78333      world          Eight Marines dead in suicide car bombing   \n",
              "29574      sport  UPDATE 1-Blackburn chance too good to miss, sa...   \n",
              "112831     sport         Diamondbacks Keep Busy; Ortiz Heading Home   \n",
              "66261   business  Crude price up slightly as market braces for U...   \n",
              "48580   business  Accountant testifies he lied about Enron barge...   \n",
              "\n",
              "                                                     lead  \\\n",
              "78333   A suicide attacker detonated a car bomb yester...   \n",
              "29574   New Blackburn Rovers manager Mark Hughes says ...   \n",
              "112831   ANAHEIM, Calif., (Sports Network) - The Arizo...   \n",
              "66261   Crude oil prices rose slightly Wednesday after...   \n",
              "48580   A former Enron accountant testified Thursday t...   \n",
              "\n",
              "                                                     text  \n",
              "78333   Eight Marines dead in suicide car bombing A su...  \n",
              "29574   UPDATE 1-Blackburn chance too good to miss, sa...  \n",
              "112831  Diamondbacks Keep Busy; Ortiz Heading Home  AN...  \n",
              "66261   Crude price up slightly as market braces for U...  \n",
              "48580   Accountant testifies he lied about Enron barge...  "
            ]
          },
          "execution_count": 23,
          "metadata": {},
          "output_type": "execute_result"
        }
      ],
      "source": [
        "import pandas as pd\n",
        "import nltk\n",
        "df = pd.read_csv('train.csv')\n",
        "\n",
        "df.columns = [\"label\", \"title\", \"lead\"]\n",
        "label_map = {1:\"world\", 2:\"sport\", 3:\"business\", 4:\"sci/tech\"}\n",
        "def replace_label(x):\n",
        "\treturn label_map[x]\n",
        "df[\"label\"] = df[\"label\"].apply(replace_label) \n",
        "df[\"text\"] = df[\"title\"] + \" \" + df[\"lead\"]\n",
        "df = df.sample(n=10000) # # only use 10K datapoints\n",
        "df.head()"
      ]
    },
    {
      "cell_type": "code",
      "execution_count": null,
      "id": "61ec5921",
      "metadata": {
        "id": "61ec5921"
      },
      "outputs": [],
      "source": [
        "import spacy\n",
        "nlp = spacy.load('en_core_web_sm')\n",
        "#TODO preprocess the corpus using spacy\n",
        "\n",
        "def preprocess(text):\n",
        "    doc = nlp(text)\n",
        "    tokens = [token for token in doc if not token.is_stop and token.is_punct]\n",
        "    return tokens\n",
        "\n",
        "df['preprocessed_text'] = df['text'].apply(preprocess)"
      ]
    },
    {
      "cell_type": "markdown",
      "id": "9a0ae310",
      "metadata": {
        "id": "9a0ae310"
      },
      "source": [
        "### Information Extraction"
      ]
    },
    {
      "cell_type": "code",
      "execution_count": null,
      "id": "8fbd7718",
      "metadata": {
        "colab": {
          "base_uri": "https://localhost:8080/"
        },
        "id": "8fbd7718",
        "outputId": "b167dca8-788b-4e37-c031-1b9998161db9"
      },
      "outputs": [
        {
          "name": "stdout",
          "output_type": "stream",
          "text": [
            "[((), 9959), ((('-', 'say'),), 3), ((('.', 'score'),), 2), ((('-', 'talk'),), 2), ((('-', 'get'),), 2), ((('!', 'buy'),), 1), ((('.', 'urge'),), 1), ((('-', 'come'),), 1), ((('.', 'be'),), 1), ((('.', 'throw'),), 1)]\n"
          ]
        }
      ],
      "source": [
        "def extract_subject_verb_pairs(sent):\n",
        "    subjs = [w for w in sent if w.dep_ == \"nsubj\"]\n",
        "    pairs = [(w.lemma_.lower(), w.head.lemma_.lower()) for w in subjs]\n",
        "    return pairs\n",
        "##TODO extract the subject-verbs pairs and print the result for the second document\n",
        "\n",
        "#text = \"This is a sample sentence to test the tokenizer.\"\n",
        "#tokens = [token for token in nlp(text) if not token.is_stop and token.is_punct]\n",
        "\n",
        "#print(extract_subject_verb_pairs(tokens))\n",
        "\n",
        "sub_verb_pairs = df['preprocessed_text'].apply(extract_subject_verb_pairs)\n",
        "\n",
        "from collections import Counter\n",
        "counter = Counter()\n",
        "\n",
        "##TODO create a list ranking the most common pairs and print the first 10 items\n",
        "\n",
        "pairs = [tuple(pair) for pair in sub_verb_pairs]\n",
        "\n",
        "nb_occ_pairs = Counter(pairs)\n",
        "\n",
        "sorted_pairs = sorted(nb_occ_pairs.items(), key=lambda x: x[1], reverse=True)\n",
        "\n",
        "print(nb_occ_pairs.most_common(10))"
      ]
    },
    {
      "cell_type": "code",
      "execution_count": null,
      "id": "c2c30e56",
      "metadata": {
        "colab": {
          "base_uri": "https://localhost:8080/"
        },
        "id": "c2c30e56",
        "outputId": "de95cfc2-570d-4a0c-99b2-bee500cc9ddf"
      },
      "outputs": [
        {
          "name": "stdout",
          "output_type": "stream",
          "text": [
            "[((), 9927), ((('-', 'send'),), 3), ((('.', 'lead'),), 3), ((('-', 'win'),), 3), ((('-', 'claim'),), 2), ((('-', 'receive'),), 2), ((('.', 'defeat'),), 2), ((('#', 'halt'),), 1), ((('-', 'reach'),), 1), ((('-', 'launch'),), 1)]\n"
          ]
        }
      ],
      "source": [
        "##TODO do the same for verbs-object pairs ('dobj')\n",
        "\n",
        "def extract_verbs_obj_pairs(sent):\n",
        "    subjs = [w for w in sent if w.dep_ == \"dobj\"]\n",
        "    pairs = [(w.lemma_.lower(), w.head.lemma_.lower()) for w in subjs]\n",
        "    return pairs\n",
        "\n",
        "verb_obj_pairs = df['preprocessed_text'].apply(extract_verbs_obj_pairs)\n",
        "\n",
        "##TODO create a list ranking the most common pairs and print the first 10 items\n",
        "\n",
        "pairs = [tuple(pair) for pair in verb_obj_pairs]\n",
        "\n",
        "nb_occ_pairs = Counter(pairs)\n",
        "\n",
        "sorted_pairs = sorted(nb_occ_pairs.items(), key=lambda x: x[1], reverse=True)\n",
        "\n",
        "print(nb_occ_pairs.most_common(10))"
      ]
    },
    {
      "cell_type": "code",
      "execution_count": null,
      "id": "aad55039",
      "metadata": {
        "colab": {
          "base_uri": "https://localhost:8080/"
        },
        "id": "aad55039",
        "outputId": "b38a0c75-f06f-4300-cfc6-f7db5ac5fe46"
      },
      "outputs": [
        {
          "name": "stdout",
          "output_type": "stream",
          "text": [
            "[((), 9763), ((('-', 'drug'),), 6), ((('-', 'campaign'),), 4), ((('-', 'law'),), 4), ((('-', 'president'),), 4), ((('-', 'trade'),), 3), ((('-', 'protest'),), 3), ((('-', 'group'),), 3), ((('-', 'ap'),), 3), ((('-', 'minister'),), 3)]\n"
          ]
        }
      ],
      "source": [
        "##TODO do the same for adjectives-nouns pairs ('amod')\n",
        "\n",
        "def extract_adj_nouns_pairs(sent):\n",
        "    subjs = [w for w in sent if w.dep_ == \"amod\"]\n",
        "    pairs = [(w.lemma_.lower(), w.head.lemma_.lower()) for w in subjs]\n",
        "    return pairs\n",
        "\n",
        "adj_nouns_pairs = df['preprocessed_text'].apply(extract_adj_nouns_pairs)\n",
        "\n",
        "##TODO create a list ranking the most common pairs and print the first 10 items\n",
        "\n",
        "pairs = [tuple(pair) for pair in adj_nouns_pairs]\n",
        "\n",
        "nb_occ_pairs = Counter(pairs)\n",
        "\n",
        "sorted_pairs = sorted(nb_occ_pairs.items(), key=lambda x: x[1], reverse=True)\n",
        "\n",
        "print(nb_occ_pairs.most_common(10))"
      ]
    },
    {
      "cell_type": "markdown",
      "id": "d1273253",
      "metadata": {
        "id": "d1273253"
      },
      "source": [
        "### Exploring cross label dependencies"
      ]
    },
    {
      "cell_type": "code",
      "execution_count": null,
      "id": "06d19500",
      "metadata": {
        "colab": {
          "base_uri": "https://localhost:8080/"
        },
        "id": "06d19500",
        "outputId": "8392507f-06e1-4d6b-8677-f71ede45ec92"
      },
      "outputs": [
        {
          "name": "stdout",
          "output_type": "stream",
          "text": [
            ", .\n"
          ]
        }
      ],
      "source": [
        "##TODO extract all the subject-verbs and verbs-object pairs for the verb \"rise\"\n",
        "\n",
        "def extract_verb_pairs(sent, verb):\n",
        "    subj_verb = [w for w in sent if w.dep_ == \"nsubj\" and w.text == verb]\n",
        "    subj_verb_pairs = [(w.lemma_.lower(), w.head.lemma_.lower()) for w in subj_verb]\n",
        "    \n",
        "    verb_obj = [w for w in sent if w.dep_ == \"dobj\" and w.text == verb]\n",
        "    verb_obj_pairs = [(w.head.lemma_.lower(), w.lemma_.lower()) for w in verb_obj]\n",
        "    \n",
        "    return subj_verb_pairs, verb_obj_pairs\n",
        "\n",
        "verb = \"rise\"\n",
        "subj_verb_pairs = []\n",
        "verb_obj_pairs = []\n",
        "\n",
        "# Multiple sentences lead to errors\n",
        "preprocessed_text = df['preprocessed_text'].apply(lambda x: ' '.join([token.text for token in x]))\n",
        "\n",
        "for doc in nlp.pipe(preprocessed_text):\n",
        "    for sent in doc.sents:\n",
        "        sv_pairs, vo_pairs = extract_verb_pairs(sent, verb)\n",
        "        subj_verb_pairs.extend(sv_pairs)\n",
        "        verb_obj_pairs.extend(vo_pairs)\n"
      ]
    },
    {
      "cell_type": "code",
      "execution_count": null,
      "id": "Ou5dOIIXhHf6",
      "metadata": {
        "colab": {
          "base_uri": "https://localhost:8080/"
        },
        "id": "Ou5dOIIXhHf6",
        "outputId": "2f0d405f-94c8-43a8-c8b0-c0862fe040a0"
      },
      "outputs": [
        {
          "name": "stdout",
          "output_type": "stream",
          "text": [
            "[]\n"
          ]
        }
      ],
      "source": [
        "print(verb_obj_pairs)"
      ]
    },
    {
      "cell_type": "code",
      "execution_count": null,
      "id": "75649d5e",
      "metadata": {
        "id": "75649d5e"
      },
      "outputs": [],
      "source": [
        "##TODO for each label create a list ranking the most common subject-verbs pairs and one for the most common verbs-object pairs\n",
        "##TODO print the 10 most common pairs for each of the two lists for the labels \"world\" and \"sci/tech\""
      ]
    },
    {
      "cell_type": "code",
      "execution_count": null,
      "id": "RkQ8VEkMx4TQ",
      "metadata": {
        "colab": {
          "base_uri": "https://localhost:8080/"
        },
        "id": "RkQ8VEkMx4TQ",
        "outputId": "72187739-b263-4add-b10f-c2b72c4d4428"
      },
      "outputs": [
        {
          "name": "stdout",
          "output_type": "stream",
          "text": [
            "dict_keys(['business_sub_verb', 'business_verb_sub', 'sci/tech_sub_verb', 'sci/tech_verb_sub', 'sport_sub_verb', 'sport_verb_sub', 'world_sub_verb', 'world_verb_sub'])\n"
          ]
        }
      ],
      "source": [
        "def extract_sub_verb_pairs(sent):\n",
        "    subj_verb = [w for w in sent if w.dep_ == \"nsubj\"]\n",
        "    subj_verb_pairs = [(w.lemma_.lower(), w.head.lemma_.lower()) for w in subj_verb]\n",
        "    \n",
        "    verb_obj = [w for w in sent if w.dep_ == \"dobj\"]\n",
        "    verb_obj_pairs = [(w.head.lemma_.lower(), w.lemma_.lower()) for w in verb_obj]\n",
        "    \n",
        "    return subj_verb_pairs, verb_obj_pairs\n",
        "\n",
        "\n",
        "labels = [label[0] for label in df.groupby('label')['label'].unique()]\n",
        "\n",
        "label_pairs = {}\n",
        "\n",
        "for i, label in enumerate(df.groupby('label')['preprocessed_text']):\n",
        "    label_pairs['{}_sub_verb'.format(labels[i])] = label[1].apply(lambda x: extract_verb_pairs(x)[0])\n",
        "    label_pairs['{}_verb_sub'.format(labels[i])] = label[1].apply(lambda x: extract_verb_pairs(x)[1])\n",
        "\n",
        "print_labels = ['world', 'sci/tech']\n",
        "\n",
        "for label in label_pairs.keys():\n",
        "    if label in print_labels:\n",
        "        counter = Counter(label_pairs[label])\n",
        "        print('{}: {}'.format(label, counter.most_common(10)))"
      ]
    },
    {
      "cell_type": "code",
      "execution_count": null,
      "id": "PaFRAcc3zO0H",
      "metadata": {
        "id": "PaFRAcc3zO0H"
      },
      "outputs": [],
      "source": [
        "### The functions would always give back empty lists and I was not able to find out why. In a previous question there was \n",
        "### similar problem, which however could be solved by using tuple(pairs). This one however remained"
      ]
    }
  ],
  "metadata": {
    "colab": {
      "provenance": []
    },
    "kernelspec": {
      "display_name": "pytorch",
      "language": "python",
      "name": "python3"
    },
    "language_info": {
      "codemirror_mode": {
        "name": "ipython",
        "version": 3
      },
      "file_extension": ".py",
      "mimetype": "text/x-python",
      "name": "python",
      "nbconvert_exporter": "python",
      "pygments_lexer": "ipython3",
      "version": "3.8.16"
    },
    "toc": {
      "base_numbering": 1,
      "nav_menu": {},
      "number_sections": true,
      "sideBar": true,
      "skip_h1_title": false,
      "title_cell": "Table of Contents",
      "title_sidebar": "Contents",
      "toc_cell": false,
      "toc_position": {},
      "toc_section_display": true,
      "toc_window_display": false
    },
    "vscode": {
      "interpreter": {
        "hash": "d73fbafa1c1ce4c8cd6f07277ecbf2d62d7720c8bfdb6bdbaeeaf6dba6dd25dd"
      }
    }
  },
  "nbformat": 4,
  "nbformat_minor": 5
}
