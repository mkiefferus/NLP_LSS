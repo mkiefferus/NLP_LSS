{
  "cells": [
    {
      "cell_type": "markdown",
      "id": "a60bffde",
      "metadata": {
        "id": "a60bffde"
      },
      "source": [
        "# HW02: Tokenization"
      ]
    },
    {
      "cell_type": "markdown",
      "id": "b8ed3f1a",
      "metadata": {
        "id": "b8ed3f1a"
      },
      "source": [
        "Remember that these homework work as a completion grade. **You can skip one section without losing credit.**"
      ]
    },
    {
      "cell_type": "code",
      "execution_count": null,
      "id": "dc19cf83",
      "metadata": {
        "colab": {
          "base_uri": "https://localhost:8080/",
          "height": 540
        },
        "id": "dc19cf83",
        "outputId": "c308f720-118a-4d97-9d5b-8886e484f60a"
      },
      "outputs": [
        {
          "output_type": "stream",
          "name": "stdout",
          "text": [
            "--2023-03-01 16:35:32--  https://raw.githubusercontent.com/mhjabreel/CharCnn_Keras/master/data/ag_news_csv/train.csv\n",
            "Resolving raw.githubusercontent.com (raw.githubusercontent.com)... 185.199.108.133, 185.199.109.133, 185.199.110.133, ...\n",
            "Connecting to raw.githubusercontent.com (raw.githubusercontent.com)|185.199.108.133|:443... connected.\n",
            "HTTP request sent, awaiting response... 200 OK\n",
            "Length: 29470338 (28M) [text/plain]\n",
            "Saving to: ‘train.csv.1’\n",
            "\n",
            "train.csv.1         100%[===================>]  28.10M   185MB/s    in 0.2s    \n",
            "\n",
            "2023-03-01 16:35:34 (185 MB/s) - ‘train.csv.1’ saved [29470338/29470338]\n",
            "\n"
          ]
        },
        {
          "output_type": "execute_result",
          "data": {
            "text/plain": [
              "      label                                              title  \\\n",
              "0  business  Carlyle Looks Toward Commercial Aerospace (Reu...   \n",
              "1  business    Oil and Economy Cloud Stocks' Outlook (Reuters)   \n",
              "2  business  Iraq Halts Oil Exports from Main Southern Pipe...   \n",
              "3  business  Oil prices soar to all-time record, posing new...   \n",
              "4  business        Stocks End Up, But Near Year Lows (Reuters)   \n",
              "\n",
              "                                                lead  \\\n",
              "0  Reuters - Private investment firm Carlyle Grou...   \n",
              "1  Reuters - Soaring crude prices plus worries\\ab...   \n",
              "2  Reuters - Authorities have halted oil export\\f...   \n",
              "3  AFP - Tearaway world oil prices, toppling reco...   \n",
              "4  Reuters - Stocks ended slightly higher on Frid...   \n",
              "\n",
              "                                                text  \n",
              "0  Carlyle Looks Toward Commercial Aerospace (Reu...  \n",
              "1  Oil and Economy Cloud Stocks' Outlook (Reuters...  \n",
              "2  Iraq Halts Oil Exports from Main Southern Pipe...  \n",
              "3  Oil prices soar to all-time record, posing new...  \n",
              "4  Stocks End Up, But Near Year Lows (Reuters) Re...  "
            ],
            "text/html": [
              "\n",
              "  <div id=\"df-7089946d-881d-468b-b783-2324955fad3d\">\n",
              "    <div class=\"colab-df-container\">\n",
              "      <div>\n",
              "<style scoped>\n",
              "    .dataframe tbody tr th:only-of-type {\n",
              "        vertical-align: middle;\n",
              "    }\n",
              "\n",
              "    .dataframe tbody tr th {\n",
              "        vertical-align: top;\n",
              "    }\n",
              "\n",
              "    .dataframe thead th {\n",
              "        text-align: right;\n",
              "    }\n",
              "</style>\n",
              "<table border=\"1\" class=\"dataframe\">\n",
              "  <thead>\n",
              "    <tr style=\"text-align: right;\">\n",
              "      <th></th>\n",
              "      <th>label</th>\n",
              "      <th>title</th>\n",
              "      <th>lead</th>\n",
              "      <th>text</th>\n",
              "    </tr>\n",
              "  </thead>\n",
              "  <tbody>\n",
              "    <tr>\n",
              "      <th>0</th>\n",
              "      <td>business</td>\n",
              "      <td>Carlyle Looks Toward Commercial Aerospace (Reu...</td>\n",
              "      <td>Reuters - Private investment firm Carlyle Grou...</td>\n",
              "      <td>Carlyle Looks Toward Commercial Aerospace (Reu...</td>\n",
              "    </tr>\n",
              "    <tr>\n",
              "      <th>1</th>\n",
              "      <td>business</td>\n",
              "      <td>Oil and Economy Cloud Stocks' Outlook (Reuters)</td>\n",
              "      <td>Reuters - Soaring crude prices plus worries\\ab...</td>\n",
              "      <td>Oil and Economy Cloud Stocks' Outlook (Reuters...</td>\n",
              "    </tr>\n",
              "    <tr>\n",
              "      <th>2</th>\n",
              "      <td>business</td>\n",
              "      <td>Iraq Halts Oil Exports from Main Southern Pipe...</td>\n",
              "      <td>Reuters - Authorities have halted oil export\\f...</td>\n",
              "      <td>Iraq Halts Oil Exports from Main Southern Pipe...</td>\n",
              "    </tr>\n",
              "    <tr>\n",
              "      <th>3</th>\n",
              "      <td>business</td>\n",
              "      <td>Oil prices soar to all-time record, posing new...</td>\n",
              "      <td>AFP - Tearaway world oil prices, toppling reco...</td>\n",
              "      <td>Oil prices soar to all-time record, posing new...</td>\n",
              "    </tr>\n",
              "    <tr>\n",
              "      <th>4</th>\n",
              "      <td>business</td>\n",
              "      <td>Stocks End Up, But Near Year Lows (Reuters)</td>\n",
              "      <td>Reuters - Stocks ended slightly higher on Frid...</td>\n",
              "      <td>Stocks End Up, But Near Year Lows (Reuters) Re...</td>\n",
              "    </tr>\n",
              "  </tbody>\n",
              "</table>\n",
              "</div>\n",
              "      <button class=\"colab-df-convert\" onclick=\"convertToInteractive('df-7089946d-881d-468b-b783-2324955fad3d')\"\n",
              "              title=\"Convert this dataframe to an interactive table.\"\n",
              "              style=\"display:none;\">\n",
              "        \n",
              "  <svg xmlns=\"http://www.w3.org/2000/svg\" height=\"24px\"viewBox=\"0 0 24 24\"\n",
              "       width=\"24px\">\n",
              "    <path d=\"M0 0h24v24H0V0z\" fill=\"none\"/>\n",
              "    <path d=\"M18.56 5.44l.94 2.06.94-2.06 2.06-.94-2.06-.94-.94-2.06-.94 2.06-2.06.94zm-11 1L8.5 8.5l.94-2.06 2.06-.94-2.06-.94L8.5 2.5l-.94 2.06-2.06.94zm10 10l.94 2.06.94-2.06 2.06-.94-2.06-.94-.94-2.06-.94 2.06-2.06.94z\"/><path d=\"M17.41 7.96l-1.37-1.37c-.4-.4-.92-.59-1.43-.59-.52 0-1.04.2-1.43.59L10.3 9.45l-7.72 7.72c-.78.78-.78 2.05 0 2.83L4 21.41c.39.39.9.59 1.41.59.51 0 1.02-.2 1.41-.59l7.78-7.78 2.81-2.81c.8-.78.8-2.07 0-2.86zM5.41 20L4 18.59l7.72-7.72 1.47 1.35L5.41 20z\"/>\n",
              "  </svg>\n",
              "      </button>\n",
              "      \n",
              "  <style>\n",
              "    .colab-df-container {\n",
              "      display:flex;\n",
              "      flex-wrap:wrap;\n",
              "      gap: 12px;\n",
              "    }\n",
              "\n",
              "    .colab-df-convert {\n",
              "      background-color: #E8F0FE;\n",
              "      border: none;\n",
              "      border-radius: 50%;\n",
              "      cursor: pointer;\n",
              "      display: none;\n",
              "      fill: #1967D2;\n",
              "      height: 32px;\n",
              "      padding: 0 0 0 0;\n",
              "      width: 32px;\n",
              "    }\n",
              "\n",
              "    .colab-df-convert:hover {\n",
              "      background-color: #E2EBFA;\n",
              "      box-shadow: 0px 1px 2px rgba(60, 64, 67, 0.3), 0px 1px 3px 1px rgba(60, 64, 67, 0.15);\n",
              "      fill: #174EA6;\n",
              "    }\n",
              "\n",
              "    [theme=dark] .colab-df-convert {\n",
              "      background-color: #3B4455;\n",
              "      fill: #D2E3FC;\n",
              "    }\n",
              "\n",
              "    [theme=dark] .colab-df-convert:hover {\n",
              "      background-color: #434B5C;\n",
              "      box-shadow: 0px 1px 3px 1px rgba(0, 0, 0, 0.15);\n",
              "      filter: drop-shadow(0px 1px 2px rgba(0, 0, 0, 0.3));\n",
              "      fill: #FFFFFF;\n",
              "    }\n",
              "  </style>\n",
              "\n",
              "      <script>\n",
              "        const buttonEl =\n",
              "          document.querySelector('#df-7089946d-881d-468b-b783-2324955fad3d button.colab-df-convert');\n",
              "        buttonEl.style.display =\n",
              "          google.colab.kernel.accessAllowed ? 'block' : 'none';\n",
              "\n",
              "        async function convertToInteractive(key) {\n",
              "          const element = document.querySelector('#df-7089946d-881d-468b-b783-2324955fad3d');\n",
              "          const dataTable =\n",
              "            await google.colab.kernel.invokeFunction('convertToInteractive',\n",
              "                                                     [key], {});\n",
              "          if (!dataTable) return;\n",
              "\n",
              "          const docLinkHtml = 'Like what you see? Visit the ' +\n",
              "            '<a target=\"_blank\" href=https://colab.research.google.com/notebooks/data_table.ipynb>data table notebook</a>'\n",
              "            + ' to learn more about interactive tables.';\n",
              "          element.innerHTML = '';\n",
              "          dataTable['output_type'] = 'display_data';\n",
              "          await google.colab.output.renderOutput(dataTable, element);\n",
              "          const docLink = document.createElement('div');\n",
              "          docLink.innerHTML = docLinkHtml;\n",
              "          element.appendChild(docLink);\n",
              "        }\n",
              "      </script>\n",
              "    </div>\n",
              "  </div>\n",
              "  "
            ]
          },
          "metadata": {},
          "execution_count": 104
        }
      ],
      "source": [
        "#Import the AG news dataset (same as hw01)\n",
        "#Download them from here \n",
        "!wget https://raw.githubusercontent.com/mhjabreel/CharCnn_Keras/master/data/ag_news_csv/train.csv\n",
        "\n",
        "import pandas as pd\n",
        "import nltk\n",
        "df = pd.read_csv('train.csv')\n",
        "\n",
        "df.columns = [\"label\", \"title\", \"lead\"]\n",
        "label_map = {1:\"world\", 2:\"sport\", 3:\"business\", 4:\"sci/tech\"}\n",
        "def replace_label(x):\n",
        "\treturn label_map[x]\n",
        "df[\"label\"] = df[\"label\"].apply(replace_label) \n",
        "df[\"text\"] = df[\"title\"] + \" \" + df[\"lead\"]\n",
        "df.head()"
      ]
    },
    {
      "cell_type": "markdown",
      "id": "37f7b626",
      "metadata": {
        "id": "37f7b626"
      },
      "source": [
        "## Preprocess Text"
      ]
    },
    {
      "cell_type": "code",
      "execution_count": null,
      "id": "ab1861a9",
      "metadata": {
        "colab": {
          "base_uri": "https://localhost:8080/"
        },
        "id": "ab1861a9",
        "outputId": "02b38e06-1eb9-4407-b80f-fe7f6050423c"
      },
      "outputs": [
        {
          "output_type": "stream",
          "name": "stdout",
          "text": [
            "O #39;Connell will try to jump-start Aztecs #39; season Searching for a way to stop the bleeding, Tom Craft yesterday officially replaced a quarterback who is hurting and has been ineffective.\n"
          ]
        }
      ],
      "source": [
        "import spacy\n",
        "dfs = df.sample(50)\n",
        "nlp = spacy.load('en_core_web_sm')\n",
        "\n",
        "##TODO use spacy to split the documents in the sampled dataframe (dfs) in sentences and tokens\n",
        "\n",
        "def split_doc(text):\n",
        "    '''\n",
        "    Returns -> tuple:\n",
        "    1. list -> sentences\n",
        "    2. list -> tokens\n",
        "    '''\n",
        "    doc = nlp(text)\n",
        "    sentences = [sent for sent in doc.sents]\n",
        "    tokens = [token for token in doc if not token.is_punct and not token.is_stop]\n",
        "\n",
        "    return sentences, tokens\n",
        "\n",
        "# '*' iterates over each single sample of dfs\n",
        "dfs['sentences'], dfs['tokens'] = zip(*dfs['text'].apply(split_doc))\n",
        "\n",
        "##TODO print the first sentence of the first document in your sample\n",
        "\n",
        "print(dfs.iloc[0]['sentences'][0])"
      ]
    },
    {
      "cell_type": "code",
      "source": [
        "dfs.head()"
      ],
      "metadata": {
        "colab": {
          "base_uri": "https://localhost:8080/",
          "height": 418
        },
        "id": "E1hldYveptUv",
        "outputId": "dfeae3b7-695c-4731-92e5-546c4b8892fa"
      },
      "id": "E1hldYveptUv",
      "execution_count": null,
      "outputs": [
        {
          "output_type": "execute_result",
          "data": {
            "text/plain": [
              "           label                                              title  \\\n",
              "64618      sport  O #39;Connell will try to jump-start Aztecs #3...   \n",
              "65161   sci/tech  Microsoft Sets Licensing Policy for New Chips ...   \n",
              "106210  business                   Row over Airbus boss intensifies   \n",
              "112025  sci/tech                     Samsung Doubles Memory Density   \n",
              "1579    business        Lojack makes Canada move with Boomerang buy   \n",
              "\n",
              "                                                     lead  \\\n",
              "64618   Searching for a way to stop the bleeding, Tom ...   \n",
              "65161   Reuters - Microsoft Corp.  on\\Tuesday agreed t...   \n",
              "106210  French and German executives are in a bitter d...   \n",
              "112025  According to a Samsung release, the device is ...   \n",
              "1579    The Westwood company is spending \\$48 million ...   \n",
              "\n",
              "                                                     text  \\\n",
              "64618   O #39;Connell will try to jump-start Aztecs #3...   \n",
              "65161   Microsoft Sets Licensing Policy for New Chips ...   \n",
              "106210  Row over Airbus boss intensifies French and Ge...   \n",
              "112025  Samsung Doubles Memory Density According to a ...   \n",
              "1579    Lojack makes Canada move with Boomerang buy Th...   \n",
              "\n",
              "                                                sentences  \\\n",
              "64618   [(O, #, 39;Connell, will, try, to, jump, -, st...   \n",
              "65161   [(Microsoft, Sets, Licensing, Policy, for, New...   \n",
              "106210  [(Row, over, Airbus, boss, intensifies, French...   \n",
              "112025  [(Samsung, Doubles, Memory, Density), (Accordi...   \n",
              "1579    [(Lojack, makes, Canada, move, with, Boomerang...   \n",
              "\n",
              "                                                   tokens  \n",
              "64618   [O, 39;Connell, try, jump, start, Aztecs, 39, ...  \n",
              "65161   [Microsoft, Sets, Licensing, Policy, New, Chip...  \n",
              "106210  [Row, Airbus, boss, intensifies, French, Germa...  \n",
              "112025  [Samsung, Doubles, Memory, Density, According,...  \n",
              "1579    [Lojack, makes, Canada, Boomerang, buy, Westwo...  "
            ],
            "text/html": [
              "\n",
              "  <div id=\"df-1b4d3abe-6b3e-48db-b46f-904a7390003d\">\n",
              "    <div class=\"colab-df-container\">\n",
              "      <div>\n",
              "<style scoped>\n",
              "    .dataframe tbody tr th:only-of-type {\n",
              "        vertical-align: middle;\n",
              "    }\n",
              "\n",
              "    .dataframe tbody tr th {\n",
              "        vertical-align: top;\n",
              "    }\n",
              "\n",
              "    .dataframe thead th {\n",
              "        text-align: right;\n",
              "    }\n",
              "</style>\n",
              "<table border=\"1\" class=\"dataframe\">\n",
              "  <thead>\n",
              "    <tr style=\"text-align: right;\">\n",
              "      <th></th>\n",
              "      <th>label</th>\n",
              "      <th>title</th>\n",
              "      <th>lead</th>\n",
              "      <th>text</th>\n",
              "      <th>sentences</th>\n",
              "      <th>tokens</th>\n",
              "    </tr>\n",
              "  </thead>\n",
              "  <tbody>\n",
              "    <tr>\n",
              "      <th>64618</th>\n",
              "      <td>sport</td>\n",
              "      <td>O #39;Connell will try to jump-start Aztecs #3...</td>\n",
              "      <td>Searching for a way to stop the bleeding, Tom ...</td>\n",
              "      <td>O #39;Connell will try to jump-start Aztecs #3...</td>\n",
              "      <td>[(O, #, 39;Connell, will, try, to, jump, -, st...</td>\n",
              "      <td>[O, 39;Connell, try, jump, start, Aztecs, 39, ...</td>\n",
              "    </tr>\n",
              "    <tr>\n",
              "      <th>65161</th>\n",
              "      <td>sci/tech</td>\n",
              "      <td>Microsoft Sets Licensing Policy for New Chips ...</td>\n",
              "      <td>Reuters - Microsoft Corp.  on\\Tuesday agreed t...</td>\n",
              "      <td>Microsoft Sets Licensing Policy for New Chips ...</td>\n",
              "      <td>[(Microsoft, Sets, Licensing, Policy, for, New...</td>\n",
              "      <td>[Microsoft, Sets, Licensing, Policy, New, Chip...</td>\n",
              "    </tr>\n",
              "    <tr>\n",
              "      <th>106210</th>\n",
              "      <td>business</td>\n",
              "      <td>Row over Airbus boss intensifies</td>\n",
              "      <td>French and German executives are in a bitter d...</td>\n",
              "      <td>Row over Airbus boss intensifies French and Ge...</td>\n",
              "      <td>[(Row, over, Airbus, boss, intensifies, French...</td>\n",
              "      <td>[Row, Airbus, boss, intensifies, French, Germa...</td>\n",
              "    </tr>\n",
              "    <tr>\n",
              "      <th>112025</th>\n",
              "      <td>sci/tech</td>\n",
              "      <td>Samsung Doubles Memory Density</td>\n",
              "      <td>According to a Samsung release, the device is ...</td>\n",
              "      <td>Samsung Doubles Memory Density According to a ...</td>\n",
              "      <td>[(Samsung, Doubles, Memory, Density), (Accordi...</td>\n",
              "      <td>[Samsung, Doubles, Memory, Density, According,...</td>\n",
              "    </tr>\n",
              "    <tr>\n",
              "      <th>1579</th>\n",
              "      <td>business</td>\n",
              "      <td>Lojack makes Canada move with Boomerang buy</td>\n",
              "      <td>The Westwood company is spending \\$48 million ...</td>\n",
              "      <td>Lojack makes Canada move with Boomerang buy Th...</td>\n",
              "      <td>[(Lojack, makes, Canada, move, with, Boomerang...</td>\n",
              "      <td>[Lojack, makes, Canada, Boomerang, buy, Westwo...</td>\n",
              "    </tr>\n",
              "  </tbody>\n",
              "</table>\n",
              "</div>\n",
              "      <button class=\"colab-df-convert\" onclick=\"convertToInteractive('df-1b4d3abe-6b3e-48db-b46f-904a7390003d')\"\n",
              "              title=\"Convert this dataframe to an interactive table.\"\n",
              "              style=\"display:none;\">\n",
              "        \n",
              "  <svg xmlns=\"http://www.w3.org/2000/svg\" height=\"24px\"viewBox=\"0 0 24 24\"\n",
              "       width=\"24px\">\n",
              "    <path d=\"M0 0h24v24H0V0z\" fill=\"none\"/>\n",
              "    <path d=\"M18.56 5.44l.94 2.06.94-2.06 2.06-.94-2.06-.94-.94-2.06-.94 2.06-2.06.94zm-11 1L8.5 8.5l.94-2.06 2.06-.94-2.06-.94L8.5 2.5l-.94 2.06-2.06.94zm10 10l.94 2.06.94-2.06 2.06-.94-2.06-.94-.94-2.06-.94 2.06-2.06.94z\"/><path d=\"M17.41 7.96l-1.37-1.37c-.4-.4-.92-.59-1.43-.59-.52 0-1.04.2-1.43.59L10.3 9.45l-7.72 7.72c-.78.78-.78 2.05 0 2.83L4 21.41c.39.39.9.59 1.41.59.51 0 1.02-.2 1.41-.59l7.78-7.78 2.81-2.81c.8-.78.8-2.07 0-2.86zM5.41 20L4 18.59l7.72-7.72 1.47 1.35L5.41 20z\"/>\n",
              "  </svg>\n",
              "      </button>\n",
              "      \n",
              "  <style>\n",
              "    .colab-df-container {\n",
              "      display:flex;\n",
              "      flex-wrap:wrap;\n",
              "      gap: 12px;\n",
              "    }\n",
              "\n",
              "    .colab-df-convert {\n",
              "      background-color: #E8F0FE;\n",
              "      border: none;\n",
              "      border-radius: 50%;\n",
              "      cursor: pointer;\n",
              "      display: none;\n",
              "      fill: #1967D2;\n",
              "      height: 32px;\n",
              "      padding: 0 0 0 0;\n",
              "      width: 32px;\n",
              "    }\n",
              "\n",
              "    .colab-df-convert:hover {\n",
              "      background-color: #E2EBFA;\n",
              "      box-shadow: 0px 1px 2px rgba(60, 64, 67, 0.3), 0px 1px 3px 1px rgba(60, 64, 67, 0.15);\n",
              "      fill: #174EA6;\n",
              "    }\n",
              "\n",
              "    [theme=dark] .colab-df-convert {\n",
              "      background-color: #3B4455;\n",
              "      fill: #D2E3FC;\n",
              "    }\n",
              "\n",
              "    [theme=dark] .colab-df-convert:hover {\n",
              "      background-color: #434B5C;\n",
              "      box-shadow: 0px 1px 3px 1px rgba(0, 0, 0, 0.15);\n",
              "      filter: drop-shadow(0px 1px 2px rgba(0, 0, 0, 0.3));\n",
              "      fill: #FFFFFF;\n",
              "    }\n",
              "  </style>\n",
              "\n",
              "      <script>\n",
              "        const buttonEl =\n",
              "          document.querySelector('#df-1b4d3abe-6b3e-48db-b46f-904a7390003d button.colab-df-convert');\n",
              "        buttonEl.style.display =\n",
              "          google.colab.kernel.accessAllowed ? 'block' : 'none';\n",
              "\n",
              "        async function convertToInteractive(key) {\n",
              "          const element = document.querySelector('#df-1b4d3abe-6b3e-48db-b46f-904a7390003d');\n",
              "          const dataTable =\n",
              "            await google.colab.kernel.invokeFunction('convertToInteractive',\n",
              "                                                     [key], {});\n",
              "          if (!dataTable) return;\n",
              "\n",
              "          const docLinkHtml = 'Like what you see? Visit the ' +\n",
              "            '<a target=\"_blank\" href=https://colab.research.google.com/notebooks/data_table.ipynb>data table notebook</a>'\n",
              "            + ' to learn more about interactive tables.';\n",
              "          element.innerHTML = '';\n",
              "          dataTable['output_type'] = 'display_data';\n",
              "          await google.colab.output.renderOutput(dataTable, element);\n",
              "          const docLink = document.createElement('div');\n",
              "          docLink.innerHTML = docLinkHtml;\n",
              "          element.appendChild(docLink);\n",
              "        }\n",
              "      </script>\n",
              "    </div>\n",
              "  </div>\n",
              "  "
            ]
          },
          "metadata": {},
          "execution_count": 85
        }
      ]
    },
    {
      "cell_type": "code",
      "execution_count": null,
      "id": "65fa4c48",
      "metadata": {
        "colab": {
          "base_uri": "https://localhost:8080/"
        },
        "id": "65fa4c48",
        "outputId": "63a624cf-2437-4a50-b6ec-13ca6a62b367"
      },
      "outputs": [
        {
          "output_type": "stream",
          "name": "stdout",
          "text": [
            "O #39;Connell will try to jump-start Aztecs #39; season Searching for a way to stop the bleeding, Tom Craft yesterday officially replaced a quarterback who is hurting and has been ineffective.\n",
            "token: O              , lemma: o              , dependency: intj\n",
            "token: #              , lemma: #              , dependency: nmod\n",
            "token: 39;Connell     , lemma: 39;connell     , dependency: nsubj\n",
            "token: will           , lemma: will           , dependency: aux\n",
            "token: try            , lemma: try            , dependency: ccomp\n",
            "token: to             , lemma: to             , dependency: aux\n",
            "token: jump           , lemma: jump           , dependency: xcomp\n",
            "token: -              , lemma: -              , dependency: punct\n",
            "token: start          , lemma: start          , dependency: dep\n",
            "token: Aztecs         , lemma: Aztecs         , dependency: dobj\n",
            "token: #              , lemma: #              , dependency: nmod\n",
            "token: 39             , lemma: 39             , dependency: dobj\n",
            "token: ;              , lemma: ;              , dependency: punct\n",
            "token: season         , lemma: season         , dependency: npadvmod\n",
            "token: Searching      , lemma: search         , dependency: acl\n",
            "token: for            , lemma: for            , dependency: prep\n",
            "token: a              , lemma: a              , dependency: det\n",
            "token: way            , lemma: way            , dependency: pobj\n",
            "token: to             , lemma: to             , dependency: aux\n",
            "token: stop           , lemma: stop           , dependency: relcl\n",
            "token: the            , lemma: the            , dependency: det\n",
            "token: bleeding       , lemma: bleeding       , dependency: dobj\n",
            "token: ,              , lemma: ,              , dependency: punct\n",
            "token: Tom            , lemma: Tom            , dependency: compound\n",
            "token: Craft          , lemma: Craft          , dependency: nsubj\n",
            "token: yesterday      , lemma: yesterday      , dependency: npadvmod\n",
            "token: officially     , lemma: officially     , dependency: advmod\n",
            "token: replaced       , lemma: replace        , dependency: ROOT\n",
            "token: a              , lemma: a              , dependency: det\n",
            "token: quarterback    , lemma: quarterback    , dependency: dobj\n",
            "token: who            , lemma: who            , dependency: nsubj\n",
            "token: is             , lemma: be             , dependency: aux\n",
            "token: hurting        , lemma: hurt           , dependency: relcl\n",
            "token: and            , lemma: and            , dependency: cc\n",
            "token: has            , lemma: have           , dependency: aux\n",
            "token: been           , lemma: be             , dependency: conj\n",
            "token: ineffective    , lemma: ineffective    , dependency: acomp\n",
            "token: .              , lemma: .              , dependency: punct\n"
          ]
        }
      ],
      "source": [
        "##TODO create a new column with tokens in lowercase (x.lower()), without punctuation tokens (x.is_punct), stopwords (x.is_stop), and digits (x.is_digit)\n",
        "\n",
        "\n",
        "def tokens_to_text(sample_of_tokens):\n",
        "    tokens_text = [token.text.lower() for token in sample_of_tokens]\n",
        "\n",
        "    return tokens_text\n",
        "\n",
        "dfs['tokens_text'] = dfs['tokens'].apply(tokens_to_text)\n",
        "\n",
        "##TODO print the tokens (x.lemma_) and the dependency labels (x.dep_ ) of the first sentence of the first document (doc.sents)\n",
        "\n",
        "print(dfs.iloc[0]['sentences'][0])\n",
        "\n",
        "for token in dfs.iloc[0]['sentences'][0]:\n",
        "    print('token: {:15}, lemma: {:15}, dependency: {}'.format(token.text, token.lemma_, token.dep_))\n"
      ]
    },
    {
      "cell_type": "markdown",
      "id": "8ef544f1",
      "metadata": {
        "id": "8ef544f1"
      },
      "source": [
        "### Named Entities\n",
        "\n",
        "Let's compute the ratio of named entities starting with a capital letter, e.g. if we have \"University of Chicago\" as a NE, \"University\" and \"Chicago\" are capitalized, \"of\" is not, thus the ratio is 2/3."
      ]
    },
    {
      "cell_type": "code",
      "execution_count": null,
      "id": "be2cb111",
      "metadata": {
        "colab": {
          "base_uri": "https://localhost:8080/"
        },
        "id": "be2cb111",
        "outputId": "233ecf81-f654-4744-84b8-9103e48441b8"
      },
      "outputs": [
        {
          "output_type": "stream",
          "name": "stdout",
          "text": [
            "39;Connell                               ratio: 0.0\n",
            "39                                       ratio: 0.0\n",
            "Tom Craft                                ratio: 1.0\n",
            "yesterday                                ratio: 0.0\n",
            "Microsoft Sets Licensing Policy for New Chips ratio: 0.8571428571428571\n",
            "Reuters                                  ratio: 1.0\n",
            "Reuters                                  ratio: 1.0\n",
            "Microsoft Corp.                          ratio: 1.0\n",
            "Airbus                                   ratio: 1.0\n",
            "French                                   ratio: 1.0\n",
            "German                                   ratio: 1.0\n",
            "EADS                                     ratio: 1.0\n",
            "Samsung Doubles Memory Density           ratio: 1.0\n",
            "Samsung                                  ratio: 1.0\n",
            "DRAM                                     ratio: 1.0\n",
            "Canada                                   ratio: 1.0\n",
            "Boomerang                                ratio: 1.0\n",
            "\\$48 million                             ratio: 0.0\n",
            "Boomerang Tracking Inc.                  ratio: 1.0\n",
            "Montreal                                 ratio: 1.0\n",
            "Canada                                   ratio: 1.0\n",
            "days                                     ratio: 0.0\n",
            "Sharon                                   ratio: 1.0\n",
            "Labor                                    ratio: 1.0\n",
            "UTJ                                      ratio: 1.0\n",
            "Shas                                     ratio: 1.0\n",
            "last nights                              ratio: 0.0\n",
            "Likud                                    ratio: 1.0\n",
            "the central committee                    ratio: 0.0\n",
            "America                                  ratio: 1.0\n",
            "the 1970s                                ratio: 0.0\n",
            "Americans                                ratio: 1.0\n",
            "'80s                                     ratio: 0.0\n",
            "Sears Posts                              ratio: 1.0\n",
            "Profile, Research                        ratio: 0.6666666666666666\n",
            "US                                       ratio: 1.0\n",
            "Thursday                                 ratio: 1.0\n",
            "third-quarter                            ratio: 0.0\n",
            "full-year                                ratio: 0.0\n",
            "MessageLabs                              ratio: 1.0\n",
            "more than 86                             ratio: 0.0\n",
            "June                                     ratio: 1.0\n",
            "10                                       ratio: 0.0\n",
            "Australians                              ratio: 1.0\n",
            "Bush                                     ratio: 1.0\n",
            "Howard                                   ratio: 1.0\n",
            "SYDNEY                                   ratio: 1.0\n",
            "Australians                              ratio: 1.0\n",
            "John Howard                              ratio: 1.0\n",
            "US                                       ratio: 1.0\n",
            "Iraq                                     ratio: 1.0\n",
            "Labor Party                              ratio: 1.0\n",
            "yesterday                                ratio: 0.0\n",
            "Bangkok                                  ratio: 1.0\n",
            "AP                                       ratio: 1.0\n",
            "two                                      ratio: 0.0\n",
            "Indonesian                               ratio: 1.0\n",
            "Jakarta                                  ratio: 1.0\n",
            "Muslim                                   ratio: 1.0\n",
            "al-Qaida-linked                          ratio: 0.2\n",
            "Arab                                     ratio: 1.0\n",
            "Al-Jazeera                               ratio: 0.6666666666666666\n",
            "Saturday                                 ratio: 1.0\n",
            "Baghdad                                  ratio: 1.0\n",
            "Seven                                    ratio: 1.0\n",
            "Najaf                                    ratio: 1.0\n",
            "Reuters                                  ratio: 1.0\n",
            "seven                                    ratio: 0.0\n",
            "Baghdad                                  ratio: 1.0\n",
            "Tuesday                                  ratio: 1.0\n",
            "U.S.                                     ratio: 1.0\n",
            "Shi'ite                                  ratio: 1.0\n",
            "Najaf                                    ratio: 1.0\n",
            "Everton Wayne Rooney                     ratio: 1.0\n",
            "Everton                                  ratio: 1.0\n",
            "#39;disappointed #                       ratio: 0.0\n",
            "39                                       ratio: 0.0\n",
            "Doubles Dividend                         ratio: 1.0\n",
            "Reuters                                  ratio: 1.0\n",
            "Reuters - Intel Corp.                    ratio: 0.75\n",
            "Wednesday                                ratio: 1.0\n",
            "quarterly                                ratio: 0.0\n",
            "8 cents                                  ratio: 0.0\n",
            "this year                                ratio: 0.0\n",
            "Monday                                   ratio: 1.0\n",
            "Celebrex                                 ratio: 1.0\n",
            "Lehman                                   ratio: 1.0\n",
            "US                                       ratio: 1.0\n",
            "Oakland Hills Country Club               ratio: 1.0\n",
            "America                                  ratio: 1.0\n",
            "the United States                        ratio: 0.6666666666666666\n",
            "Ties Record                              ratio: 1.0\n",
            "AP                                       ratio: 1.0\n",
            "the Arizona Cardinals                    ratio: 0.6666666666666666\n",
            "NFL                                      ratio: 1.0\n",
            "three                                    ratio: 0.0\n",
            "at least 50 yards                        ratio: 0.0\n",
            "Sunday                                   ratio: 1.0\n",
            "Scotland                                 ratio: 1.0\n",
            "Tommy Burns                              ratio: 1.0\n",
            "Bush Surveys Damage                      ratio: 1.0\n",
            "Florida                                  ratio: 1.0\n",
            "Mount Hurricane Charley                  ratio: 1.0\n",
            "at least \\$20 billion                    ratio: 0.0\n",
            "Florida                                  ratio: 1.0\n",
            "Taylor                                   ratio: 1.0\n",
            "Vogts SCOTTISH Football Association      ratio: 1.0\n",
            "David Taylor                             ratio: 1.0\n",
            "Berti Vogts                              ratio: 1.0\n",
            "German                                   ratio: 1.0\n",
            "Kuwait                                   ratio: 1.0\n",
            "Scotland                                 ratio: 1.0\n",
            "Amex                                     ratio: 1.0\n",
            "Visa                                     ratio: 1.0\n",
            "MasterCard NEW YORK                      ratio: 1.0\n",
            "American Express                         ratio: 1.0\n",
            "Monday                                   ratio: 1.0\n",
            "Visa                                     ratio: 1.0\n",
            "MasterCard                               ratio: 1.0\n",
            "eight                                    ratio: 0.0\n",
            "20,000                                   ratio: 0.0\n",
            "US                                       ratio: 1.0\n",
            "LONDON                                   ratio: 1.0\n",
            "Reuters                                  ratio: 1.0\n",
            "Friday                                   ratio: 1.0\n",
            "U.S.                                     ratio: 1.0\n",
            "\\$49                                     ratio: 0.0\n",
            "Iraq                                     ratio: 1.0\n",
            "China                                    ratio: 1.0\n",
            "India                                    ratio: 1.0\n",
            "Nagpur                                   ratio: 1.0\n",
            "99                                       ratio: 0.0\n",
            "Simon Katich                             ratio: 1.0\n",
            "Australia                                ratio: 1.0\n",
            "third                                    ratio: 0.0\n",
            "India                                    ratio: 1.0\n",
            "Nagpur                                   ratio: 1.0\n",
            "day three                                ratio: 0.0\n",
            "Australia                                ratio: 1.0\n",
            "202                                      ratio: 0.0\n",
            "three                                    ratio: 0.0\n",
            "Twins Collect Rare Victory Over Yankees MINNEAPOLIS ratio: 1.0\n",
            "AP                                       ratio: 1.0\n",
            "Brad Radke                               ratio: 1.0\n",
            "seven                                    ratio: 0.0\n",
            "Corey Koskie                             ratio: 1.0\n",
            "three                                    ratio: 0.0\n",
            "the Minnesota Twins                      ratio: 0.6666666666666666\n",
            "the New York Yankees                     ratio: 0.75\n",
            "first                                    ratio: 0.0\n",
            "2001                                     ratio: 0.0\n",
            "8                                        ratio: 0.0\n",
            "Tuesday                                  ratio: 1.0\n",
            "night                                    ratio: 0.0\n",
            "Google, Olympics                         ratio: 0.6666666666666666\n",
            "SurfControl                              ratio: 1.0\n",
            "Aristocrat                               ratio: 1.0\n",
            "Aristocrat                               ratio: 1.0\n",
            "Standard                                 ratio: 1.0\n",
            "39;s                                     ratio: 0.0\n",
            "35                                       ratio: 0.0\n",
            "U.S. Students Hurt                       ratio: 1.0\n",
            "Chile Bus Crash Thirty                   ratio: 1.0\n",
            "American                                 ratio: 1.0\n",
            "two                                      ratio: 0.0\n",
            "Chilean                                  ratio: 1.0\n",
            "Thursday                                 ratio: 1.0\n",
            "eight-month                              ratio: 0.0\n",
            "Powell Arrives for Middle East Talks     ratio: 0.8333333333333334\n",
            "State                                    ratio: 1.0\n",
            "Colin Powell                             ratio: 1.0\n",
            "Sunday                                   ratio: 1.0\n",
            "first                                    ratio: 0.0\n",
            "Israel                                   ratio: 1.0\n",
            "Palestinian                              ratio: 1.0\n",
            "18 months                                ratio: 0.0\n",
            "Middle East                              ratio: 1.0\n",
            "Yasser Arafat                            ratio: 1.0\n",
            "Sudan                                    ratio: 1.0\n",
            "Straw &lt;b&gt;...&lt;/b&gt              ratio: 0.2\n",
            "Sudan                                    ratio: 1.0\n",
            "39;s                                     ratio: 0.0\n",
            "Tuesday                                  ratio: 1.0\n",
            "Darfur                                   ratio: 1.0\n",
            "the opening day                          ratio: 0.0\n",
            "Dollar Rallies                           ratio: 1.0\n",
            "Record Low                               ratio: 1.0\n",
            "Reuters                                  ratio: 1.0\n",
            "Thursday                                 ratio: 1.0\n",
            "G20                                      ratio: 1.0\n",
            "this  weekend                            ratio: 0.0\n",
            "Iranian                                  ratio: 1.0\n",
            "Iraqi Captors                            ratio: 1.0\n",
            "27 September 2004                        ratio: 0.3333333333333333\n",
            "Iranian                                  ratio: 1.0\n",
            "Iraq                                     ratio: 1.0\n",
            "today                                    ratio: 0.0\n",
            "more than a month                        ratio: 0.0\n",
            "Iran                                     ratio: 1.0\n",
            "39;s                                     ratio: 0.0\n",
            "Foreign Ministry                         ratio: 1.0\n",
            "Faridoun Jahani                          ratio: 1.0\n",
            "Iranian                                  ratio: 1.0\n",
            "Tigers                                   ratio: 1.0\n",
            "Miss. St. BATON ROUGE                    ratio: 1.0\n",
            "La.                                      ratio: 1.0\n",
            "three                                    ratio: 0.0\n",
            "the first 17 minutes                     ratio: 0.0\n",
            "13                                       ratio: 0.0\n",
            "Louisiana State                          ratio: 1.0\n",
            "Mississippi State                        ratio: 1.0\n",
            "seven                                    ratio: 0.0\n",
            "first                                    ratio: 0.0\n",
            "130 yards                                ratio: 0.0\n",
            "51                                       ratio: 0.0\n",
            "yesterday                                ratio: 0.0\n",
            "first                                    ratio: 0.0\n",
            "Japan                                    ratio: 1.0\n",
            "Mongolia                                 ratio: 1.0\n",
            "China                                    ratio: 1.0\n",
            "Siberia                                  ratio: 1.0\n",
            "Thursday, October 14                     ratio: 0.5\n",
            "Alaska                                   ratio: 1.0\n",
            "Google Lowers Its Sights as Demand Proves Weak Google's ratio: 0.8\n",
            "\\$108                                    ratio: 0.0\n",
            "last month                               ratio: 0.0\n",
            "Windows                                  ratio: 1.0\n",
            "Friday                                   ratio: 1.0\n",
            "Hendrick Motorsports                     ratio: 1.0\n",
            "Martinsville                             ratio: 1.0\n",
            "three                                    ratio: 0.0\n",
            "Dawn Staley                              ratio: 1.0\n",
            "Olympic                                  ratio: 1.0\n",
            "Lisa Leslie                              ratio: 1.0\n",
            "Sheryl Swoopes                           ratio: 1.0\n",
            "39;t                                     ratio: 0.0\n",
            "The Census Bureau                        ratio: 1.0\n",
            "the Parkway East                         ratio: 0.6666666666666666\n",
            "Beckham                                  ratio: 1.0\n",
            "London                                   ratio: 1.0\n",
            "England                                  ratio: 1.0\n",
            "England                                  ratio: 1.0\n",
            "David Beckham                            ratio: 1.0\n",
            "39;s                                     ratio: 0.0\n",
            "Wales                                    ratio: 1.0\n",
            "Saturday                                 ratio: 1.0\n",
            "Wisconsin State Journal Someday          ratio: 1.0\n",
            "Wednesday                                ratio: 1.0\n",
            "Russia                                   ratio: 1.0\n",
            "India                                    ratio: 1.0\n",
            "AFP - Russian                            ratio: 0.6666666666666666\n",
            "Sergei Lavrov                            ratio: 1.0\n",
            "India                                    ratio: 1.0\n",
            "Two                                      ratio: 1.0\n",
            "Wednesday                                ratio: 1.0\n",
            "Terre Haute                              ratio: 1.0\n",
            "Kmart Holding Corp.                      ratio: 1.0\n",
            "Sears, Roebuck and Co.                   ratio: 0.6\n",
            "Serena                                   ratio: 1.0\n",
            "US                                       ratio: 1.0\n",
            "China                                    ratio: 1.0\n",
            "Serena Williams                          ratio: 1.0\n",
            "the China Open                           ratio: 0.6666666666666666\n",
            "yesterday                                ratio: 0.0\n",
            "7                                        ratio: 0.0\n",
            "6                                        ratio: 0.0\n",
            "US Open                                  ratio: 1.0\n",
            "Svetlana Kuznetsova                      ratio: 1.0\n",
            "Microsoft                                ratio: 1.0\n",
            "Battle                                   ratio: 1.0\n",
            "Japan                                    ratio: 1.0\n",
            "AP                                       ratio: 1.0\n",
            "Microsoft Corp.                          ratio: 1.0\n",
            "Japan                                    ratio: 1.0\n",
            "Tuesday                                  ratio: 1.0\n",
            "U.S                                      ratio: 1.0\n",
            "Apple                                    ratio: 1.0\n",
            "MacCentral                               ratio: 1.0\n",
            "MacCentral - Apple Computer Inc.         ratio: 0.8\n",
            "Thursday                                 ratio: 1.0\n",
            "third                                    ratio: 0.0\n",
            "recent days                              ratio: 0.0\n",
            "Security Update                          ratio: 1.0\n",
            "Apple                                    ratio: 1.0\n",
            "Remote iChat                             ratio: 0.5\n",
            "Inmate Barghouthi                        ratio: 1.0\n",
            "Palestinian                              ratio: 1.0\n",
            "The West Bank                            ratio: 1.0\n",
            "Fatah                                    ratio: 1.0\n",
            "Marwan Barghouthi                        ratio: 1.0\n",
            "Palestinian                              ratio: 1.0\n",
            "Israel                                   ratio: 1.0\n",
            "Merrill Profit Falls                     ratio: 1.0\n",
            "Merrill Lynch                            ratio: 1.0\n",
            "Co.                                      ratio: 1.0\n",
            "Profile, Research                        ratio: 0.6666666666666666\n",
            "Tuesday                                  ratio: 1.0\n",
            "third-quarter                            ratio: 0.0\n",
            "8 percent                                ratio: 0.0\n"
          ]
        }
      ],
      "source": [
        "##TODO print the ratio of tokens being part of a named entity span starting with a capital letter (doc.ents)\n",
        "\n",
        "for sample in dfs['sentences']:\n",
        "    for sentence in sample:\n",
        "        for ent in sentence.ents:\n",
        "            cap_ent = 0\n",
        "            total_ent = len(ent)\n",
        "\n",
        "            for word in ent:\n",
        "                if word.text[0].isupper():\n",
        "                    cap_ent += 1\n",
        "          \n",
        "            \n",
        "            if total_ent > 0:\n",
        "                print('{:<40} ratio: {}'.format(ent.text, cap_ent/total_ent))\n",
        "\n",
        "            else:\n",
        "                print('{:<40} ratio: 0.0'.format(ent.text))\n"
      ]
    },
    {
      "cell_type": "code",
      "execution_count": null,
      "id": "984b4d1f",
      "metadata": {
        "colab": {
          "base_uri": "https://localhost:8080/"
        },
        "id": "984b4d1f",
        "outputId": "e2a614e8-14a0-4f20-c1b7-b4ec13ec261d"
      },
      "outputs": [
        {
          "output_type": "stream",
          "name": "stdout",
          "text": [
            "Ratio: 0.6\n",
            "Ratio: 0.0\n",
            "Ratio: 0.2\n",
            "Ratio: 0.14285714285714285\n",
            "Ratio: 0.2222222222222222\n",
            "Ratio: 0.2857142857142857\n",
            "Ratio: 0.5\n",
            "Ratio: 0.6428571428571429\n",
            "Ratio: 0.7777777777777778\n",
            "Ratio: 0.23076923076923078\n",
            "Ratio: 0.6666666666666666\n",
            "Ratio: 0.4\n",
            "Ratio: 0.35714285714285715\n",
            "Ratio: 0.2\n",
            "Ratio: 0.3\n",
            "Ratio: 0.7777777777777778\n",
            "Ratio: 0.1111111111111111\n",
            "Ratio: 1.0\n",
            "Ratio: 0.4166666666666667\n",
            "Ratio: 0.4\n",
            "Ratio: 0.2\n",
            "Ratio: 0.0\n",
            "Ratio: 0.0\n",
            "Ratio: 0.36363636363636365\n",
            "Ratio: 0.2222222222222222\n",
            "Ratio: 0.0\n",
            "Ratio: 0.4\n",
            "Ratio: 0.5\n",
            "Ratio: 0.0\n",
            "Ratio: 1.0\n",
            "Ratio: 0.0625\n",
            "Ratio: 0.0\n",
            "Ratio: 0.36363636363636365\n",
            "Ratio: 0.14285714285714285\n",
            "Ratio: 0.16666666666666666\n",
            "Ratio: 0.2222222222222222\n",
            "Ratio: 0.0\n",
            "Ratio: 0.8571428571428571\n",
            "Ratio: 0.5555555555555556\n",
            "Ratio: 0.2222222222222222\n",
            "Ratio: 0.2\n",
            "Ratio: 0.2\n",
            "Ratio: 0.0\n",
            "Ratio: 0.3\n",
            "Ratio: 0.1\n",
            "Ratio: 0.1\n",
            "Ratio: 0.4375\n",
            "Ratio: 0.0\n",
            "Ratio: 0.0\n",
            "Ratio: 0.3076923076923077\n"
          ]
        }
      ],
      "source": [
        "##TODO print the ratio of capitalized tokens not being part of a named entity span (have no token.ent_type_)\n",
        "# e.g. \"The dog barks\" = 1/3; 3 tokens, only \"The\" is capitalized\n",
        "\n",
        "for sample in dfs['tokens']:\n",
        "\n",
        "    cap_not_ent = 0\n",
        "    tot_cap = 0\n",
        "\n",
        "    for token in sample:\n",
        "        if token.text[0].isupper() and not token.ent_type_:\n",
        "            cap_not_ent += 1\n",
        "        \n",
        "        if token.text[0].isupper():\n",
        "            tot_cap += 1\n",
        "\n",
        "    if tot_cap > 0:\n",
        "        print('Ratio: {}'.format(cap_not_ent / tot_cap))\n",
        "    \n",
        "    else:\n",
        "        print('Ratio: 0.0')"
      ]
    },
    {
      "cell_type": "code",
      "execution_count": null,
      "id": "ac3ede3c",
      "metadata": {
        "colab": {
          "base_uri": "https://localhost:8080/"
        },
        "id": "ac3ede3c",
        "outputId": "1458e31e-6950-4fa7-97b6-706c9afaf23d"
      },
      "outputs": [
        {
          "output_type": "stream",
          "name": "stdout",
          "text": [
            "Sentence 1: Ratio: 0.5 \n",
            "Sentence 1: Ratio: 0.0 \n",
            "Sentence 1: Ratio: 0.0 \n",
            "Sentence 1: Ratio: 0.0 Sentence 2: Ratio: 0.0 \n",
            "Sentence 1: Ratio: 0.2222222222222222 \n",
            "Sentence 1: Ratio: 0.16666666666666666 \n",
            "Sentence 1: Ratio: 0.6666666666666666 Sentence 2: Ratio: 0.0 \n",
            "Sentence 1: Ratio: 0.6428571428571429 \n",
            "Sentence 1: Ratio: 1.0 Sentence 2: Ratio: 0.3333333333333333 \n",
            "Sentence 1: Ratio: 0.23076923076923078 \n",
            "Sentence 1: Ratio: 0.5 \n",
            "Sentence 1: Ratio: 0.4 Sentence 2: Ratio: 0.0 \n",
            "Sentence 1: Ratio: 0.625 Sentence 2: Ratio: 0.0 \n",
            "Sentence 1: Ratio: 0.2 \n",
            "Sentence 1: Ratio: 0.2222222222222222 \n",
            "Sentence 1: Ratio: 0.8 \n",
            "Sentence 1: Ratio: 0.2 \n",
            "Sentence 1: Ratio: 1.0 \n",
            "Sentence 1: Ratio: 0.36363636363636365 \n",
            "Sentence 1: Ratio: 0.5 Sentence 2: Ratio: 0.0 Sentence 3: Ratio: 0.0 \n",
            "Sentence 1: Ratio: 0.3 \n",
            "Sentence 1: Ratio: 0.0 \n",
            "Sentence 1: Ratio: 0.0 \n",
            "Sentence 1: Ratio: 0.6 Sentence 2: Ratio: 0.0 \n",
            "Sentence 1: Ratio: 0.25 Sentence 2: Ratio: 0.0 \n",
            "Sentence 1: Ratio: 0.0 Sentence 2: Ratio: 0.0 \n",
            "Sentence 1: Ratio: 0.4 \n",
            "Sentence 1: Ratio: 0.6 \n",
            "Sentence 1: Ratio: 0.0 \n",
            "Sentence 1: Ratio: 1.0 \n",
            "Sentence 1: Ratio: 0.06666666666666667 \n",
            "Sentence 1: Ratio: 0.0 \n",
            "Sentence 1: Ratio: 0.0 Sentence 2: Ratio: 0.0 Sentence 3: Ratio: 0.6666666666666666 Sentence 4: Ratio: 0.0 \n",
            "Sentence 1: Ratio: 0.5 Sentence 2: Ratio: 0.0 Sentence 3: Ratio: 0.0 \n",
            "Sentence 1: Ratio: 0.25 \n",
            "Sentence 1: Ratio: 0.14285714285714285 Sentence 2: Ratio: 0.0 \n",
            "Sentence 1: Ratio: 0.0 \n",
            "Sentence 1: Ratio: 0.875 \n",
            "Sentence 1: Ratio: 1.0 Sentence 2: Ratio: 0.0 \n",
            "Sentence 1: Ratio: 0.0 Sentence 2: Ratio: 0.0 Sentence 3: Ratio: 0.0 Sentence 4: Ratio: 0.0 \n",
            "Sentence 1: Ratio: 0.16666666666666666 \n",
            "Sentence 1: Ratio: 0.2222222222222222 \n",
            "Sentence 1: Ratio: 0.0 Sentence 2: Ratio: 0.0 \n",
            "Sentence 1: Ratio: 0.3333333333333333 \n",
            "Sentence 1: Ratio: 0.0 Sentence 2: Ratio: 0.0 \n",
            "Sentence 1: Ratio: 0.16666666666666666 \n",
            "Sentence 1: Ratio: 0.3333333333333333 Sentence 2: Ratio: 0.8333333333333334 Sentence 3: Ratio: 0.16666666666666666 \n",
            "Sentence 1: Ratio: 0.0 Sentence 2: Ratio: 0.0 \n",
            "Sentence 1: Ratio: 0.0 \n",
            "Sentence 1: Ratio: 0.3333333333333333 \n"
          ]
        }
      ],
      "source": [
        "##TODO print the ratio of capitalized tokens not being a named entity and not being the first token in a sentence\n",
        "# e.g. \"The dog barks\" = 0; 3 tokens, \"The\" is capitalized but the starting token of a sentence, no other tokens are capitalized.\n",
        "\n",
        "for sample in dfs['sentences']:\n",
        "\n",
        "    for j, sentence in enumerate(sample):\n",
        "\n",
        "        cap_not_ent_not_first = 0\n",
        "        tot_cap = 0\n",
        "\n",
        "        print(f'Sentence {j+1}: ', end='')\n",
        "\n",
        "        for i, token in enumerate(sentence):\n",
        "    \n",
        "\n",
        "            if i > 0 and token.text[0].isupper() and not token.ent_type_:\n",
        "                cap_not_ent_not_first += 1\n",
        "            \n",
        "            if i > 0 and token.text[0].isupper():\n",
        "                tot_cap += 1\n",
        "\n",
        "\n",
        "\n",
        "        if tot_cap > 0:\n",
        "            print('Ratio: {} '.format(cap_not_ent_not_first / tot_cap), end='')\n",
        "        \n",
        "        else:\n",
        "            print('Ratio: 0.0 ', end='')\n",
        "\n",
        "    print()\n",
        "\n"
      ]
    },
    {
      "cell_type": "markdown",
      "id": "466753be",
      "metadata": {
        "id": "466753be"
      },
      "source": [
        "Give an example of a capitalized token in the data which is neither a named entity nor at the start of a sentence. What could be the reason the token is capitalized (one sentence)?"
      ]
    },
    {
      "cell_type": "code",
      "execution_count": null,
      "id": "e21c0a01",
      "metadata": {
        "colab": {
          "base_uri": "https://localhost:8080/"
        },
        "id": "e21c0a01",
        "outputId": "bdae2624-c620-4447-994a-73844cf7f851"
      },
      "outputs": [
        {
          "output_type": "stream",
          "name": "stdout",
          "text": [
            "[O #39;Connell will try to jump-start Aztecs #39; season Searching for a way to stop the bleeding, Tom Craft yesterday officially replaced a quarterback who is hurting and has been ineffective.]\n",
            "O\n",
            "Aztecs\n",
            "Searching\n"
          ]
        }
      ],
      "source": [
        "print(dfs.iloc[0]['sentences'])\n",
        "\n",
        "for sentence in dfs.iloc[0]['sentences']:\n",
        "    \n",
        "    for token in sentence:\n",
        "\n",
        "        if i > 0 and token.text[0].isupper() and not token.ent_type_:\n",
        "            print(token)\n"
      ]
    },
    {
      "cell_type": "markdown",
      "source": [
        "Either the token is a number which is counted as capitalised character or the word is a name. In this case we got 0 as the number and Aztecs. Searching seems to be a spelling mistake as it does not seem like a name."
      ],
      "metadata": {
        "id": "R2C53zik-53Z"
      },
      "id": "R2C53zik-53Z"
    },
    {
      "cell_type": "markdown",
      "id": "3126a5c7",
      "metadata": {
        "id": "3126a5c7"
      },
      "source": [
        "## Term Frequencies"
      ]
    },
    {
      "cell_type": "code",
      "source": [
        "print(df['label'].value_counts())"
      ],
      "metadata": {
        "id": "2voLB8YQCnbW",
        "outputId": "13d79441-b6f4-4443-aadb-d4abc13834d2",
        "colab": {
          "base_uri": "https://localhost:8080/"
        }
      },
      "id": "2voLB8YQCnbW",
      "execution_count": null,
      "outputs": [
        {
          "output_type": "stream",
          "name": "stdout",
          "text": [
            "sci/tech    30000\n",
            "sport       30000\n",
            "world       30000\n",
            "business    29999\n",
            "Name: label, dtype: int64\n"
          ]
        }
      ]
    },
    {
      "cell_type": "code",
      "execution_count": null,
      "id": "055edce8",
      "metadata": {
        "colab": {
          "base_uri": "https://localhost:8080/",
          "height": 411
        },
        "id": "055edce8",
        "outputId": "c62e2b27-2441-49fe-8aa3-fafd8d6ee96b"
      },
      "outputs": [
        {
          "output_type": "stream",
          "name": "stderr",
          "text": [
            "/usr/local/lib/python3.8/dist-packages/sklearn/utils/deprecation.py:87: FutureWarning: Function get_feature_names is deprecated; get_feature_names is deprecated in 1.0 and will be removed in 1.2. Please use get_feature_names_out instead.\n",
            "  warnings.warn(msg, category=FutureWarning)\n"
          ]
        },
        {
          "output_type": "display_data",
          "data": {
            "text/plain": [
              "<Figure size 864x432 with 1 Axes>"
            ],
            "image/png": "[encoded data removed]"
          },
          "metadata": {
            "needs_background": "light"
          }
        }
      ],
      "source": [
        "from sklearn.feature_extraction.text import TfidfVectorizer\n",
        "tfidf = TfidfVectorizer(min_df=0.01, \n",
        "                        max_df=0.9,  \n",
        "                        max_features=1000,\n",
        "                        stop_words='english',\n",
        "                        use_idf=True, # the new piece\n",
        "                        ngram_range=(1,2))\n",
        "\n",
        "from wordcloud import WordCloud\n",
        "import matplotlib.pyplot as plt\n",
        "\n",
        "##TODO using the whole sample, produce a world cloud with bigrams for label == business using tfidf frequencies\n",
        "\n",
        "df_bus = df.loc[df['label'] == 'business']\n",
        "\n",
        "\n",
        "tfidf.fit(df_bus)\n",
        "\n",
        "\n",
        "feature_names = tfidf.get_feature_names_out()\n",
        "tfidf_scores = tfidf.idf_\n",
        "\n",
        "# Create a dictionary with the feature names and their corresponding TF-IDF scores\n",
        "wordcloud_dict = dict(zip(feature_names, tfidf_scores))\n",
        "\n",
        "# Create a word cloud\n",
        "wordcloud = WordCloud(background_color=\"white\", width=800, height=400).generate_from_frequencies(wordcloud_dict)\n",
        "\n",
        "# Plot the word cloud\n",
        "plt.figure(figsize=(12, 6))\n",
        "plt.imshow(wordcloud, interpolation='bilinear')\n",
        "plt.axis(\"off\")\n",
        "plt.show()\n",
        "\n",
        "\n"
      ]
    },
    {
      "cell_type": "markdown",
      "id": "0948e50f",
      "metadata": {
        "id": "0948e50f"
      },
      "source": [
        "## Supervised Feature Selection"
      ]
    },
    {
      "cell_type": "code",
      "execution_count": 42,
      "id": "0510aa29",
      "metadata": {
        "id": "0510aa29",
        "outputId": "bdb48175-8e16-48d2-b2ec-bdcb12845a99",
        "colab": {
          "base_uri": "https://localhost:8080/"
        }
      },
      "outputs": [
        {
          "output_type": "stream",
          "name": "stderr",
          "text": [
            "[nltk_data] Downloading package stopwords to /root/nltk_data...\n",
            "[nltk_data]   Package stopwords is already up-to-date!\n",
            "[nltk_data] Downloading package punkt to /root/nltk_data...\n",
            "[nltk_data]   Package punkt is already up-to-date!\n"
          ]
        },
        {
          "output_type": "execute_result",
          "data": {
            "text/plain": [
              "0    26\n",
              "1    25\n",
              "2    28\n",
              "3    31\n",
              "4    31\n",
              "Name: text, dtype: int64"
            ]
          },
          "metadata": {},
          "execution_count": 42
        }
      ],
      "source": [
        "from sklearn.feature_selection import SelectKBest, f_classif, chi2\n",
        "\n",
        "##TODO compute the number of words per document (excluding stopwords)\n",
        "\n",
        "import nltk\n",
        "nltk.download('stopwords')\n",
        "nltk.download('punkt')\n",
        "from nltk.tokenize import word_tokenize\n",
        "from nltk.corpus import stopwords\n",
        "\n",
        "en_stop_words = stopwords.words('english')\n",
        "\n",
        "text_no_stop_words = df['text'].apply(lambda x: ' '.join([word for word in x.lower().split() if word not in en_stop_words]))\n",
        "num_words_per_document = text_no_stop_words.apply(lambda x: len(x.split()))\n",
        "\n",
        "num_words_per_document.head()\n",
        "\n",
        "##TODO get the most predictive features of the number of words per document using first f_class and then chi2"
      ]
    },
    {
      "cell_type": "markdown",
      "id": "ddaee2e4",
      "metadata": {
        "id": "ddaee2e4"
      },
      "source": [
        "Are the results different? What could be a reason for this? "
      ]
    },
    {
      "cell_type": "markdown",
      "id": "8af74a1d",
      "metadata": {
        "id": "8af74a1d"
      },
      "source": [
        "## Huggingface Tokenizers"
      ]
    },
    {
      "cell_type": "code",
      "execution_count": null,
      "id": "d1e75e4d",
      "metadata": {
        "id": "d1e75e4d"
      },
      "outputs": [],
      "source": [
        "# # we use distilbert tokenizer\n",
        "# !pip install transformers\n",
        "from transformers import DistilBertTokenizerFast\n",
        "\n",
        "# let's instantiate a tokenizer\n",
        "tokenizer = DistilBertTokenizerFast.from_pretrained('distilbert-base-uncased')\n",
        "\n",
        "##TODO tokenize the sentences in the sampled dataframe (dfs) using the DisilBertTokenizer\n",
        "##TODO what is the type/token ratio from this tokenizer (number_of_unqiue_token_types/number_of_tokens)?\n",
        "##TODO what is the amount of subword tokens returned by the huggingface tokenizer? hint: each subword token starts with \"#\"\n",
        "\n"
      ]
    },
    {
      "cell_type": "markdown",
      "id": "38bc9d00",
      "metadata": {
        "id": "38bc9d00"
      },
      "source": [
        "# Parsing"
      ]
    },
    {
      "cell_type": "code",
      "execution_count": null,
      "id": "16bf8639",
      "metadata": {
        "id": "16bf8639",
        "outputId": "d290414c-1c80-4886-e201-b179d4182b52"
      },
      "outputs": [
        {
          "data": {
            "text/html": [
              "<div>\n",
              "<style scoped>\n",
              "    .dataframe tbody tr th:only-of-type {\n",
              "        vertical-align: middle;\n",
              "    }\n",
              "\n",
              "    .dataframe tbody tr th {\n",
              "        vertical-align: top;\n",
              "    }\n",
              "\n",
              "    .dataframe thead th {\n",
              "        text-align: right;\n",
              "    }\n",
              "</style>\n",
              "<table border=\"1\" class=\"dataframe\">\n",
              "  <thead>\n",
              "    <tr style=\"text-align: right;\">\n",
              "      <th></th>\n",
              "      <th>label</th>\n",
              "      <th>title</th>\n",
              "      <th>lead</th>\n",
              "      <th>text</th>\n",
              "    </tr>\n",
              "  </thead>\n",
              "  <tbody>\n",
              "    <tr>\n",
              "      <th>110581</th>\n",
              "      <td>sport</td>\n",
              "      <td>UEFA to probe Valencia-Werder Bremen incidents</td>\n",
              "      <td>UEFA will be launching disciplinary proceeding...</td>\n",
              "      <td>UEFA to probe Valencia-Werder Bremen incidents...</td>\n",
              "    </tr>\n",
              "    <tr>\n",
              "      <th>15925</th>\n",
              "      <td>sci/tech</td>\n",
              "      <td>New iMac tries to play it cool</td>\n",
              "      <td>Hot G5 chip requires some serious effort to av...</td>\n",
              "      <td>New iMac tries to play it cool Hot G5 chip req...</td>\n",
              "    </tr>\n",
              "    <tr>\n",
              "      <th>46720</th>\n",
              "      <td>business</td>\n",
              "      <td>Ford Reports Disappointing U.S. Sales</td>\n",
              "      <td>Ford's car and truck business sales fell nearl...</td>\n",
              "      <td>Ford Reports Disappointing U.S. Sales Ford's c...</td>\n",
              "    </tr>\n",
              "    <tr>\n",
              "      <th>57350</th>\n",
              "      <td>sci/tech</td>\n",
              "      <td>Microsoft Upgrades Windows XP Media Center (Ne...</td>\n",
              "      <td>NewsFactor - Bill Gates is about to announce a...</td>\n",
              "      <td>Microsoft Upgrades Windows XP Media Center (Ne...</td>\n",
              "    </tr>\n",
              "    <tr>\n",
              "      <th>90601</th>\n",
              "      <td>sport</td>\n",
              "      <td>Rams make statement they #39;re team to beat i...</td>\n",
              "      <td>ST. LOUIS -- When St. Louis coach Mike Martz l...</td>\n",
              "      <td>Rams make statement they #39;re team to beat i...</td>\n",
              "    </tr>\n",
              "  </tbody>\n",
              "</table>\n",
              "</div>"
            ],
            "text/plain": [
              "           label                                              title  \\\n",
              "110581     sport     UEFA to probe Valencia-Werder Bremen incidents   \n",
              "15925   sci/tech                     New iMac tries to play it cool   \n",
              "46720   business              Ford Reports Disappointing U.S. Sales   \n",
              "57350   sci/tech  Microsoft Upgrades Windows XP Media Center (Ne...   \n",
              "90601      sport  Rams make statement they #39;re team to beat i...   \n",
              "\n",
              "                                                     lead  \\\n",
              "110581  UEFA will be launching disciplinary proceeding...   \n",
              "15925   Hot G5 chip requires some serious effort to av...   \n",
              "46720   Ford's car and truck business sales fell nearl...   \n",
              "57350   NewsFactor - Bill Gates is about to announce a...   \n",
              "90601   ST. LOUIS -- When St. Louis coach Mike Martz l...   \n",
              "\n",
              "                                                     text  \n",
              "110581  UEFA to probe Valencia-Werder Bremen incidents...  \n",
              "15925   New iMac tries to play it cool Hot G5 chip req...  \n",
              "46720   Ford Reports Disappointing U.S. Sales Ford's c...  \n",
              "57350   Microsoft Upgrades Windows XP Media Center (Ne...  \n",
              "90601   Rams make statement they #39;re team to beat i...  "
            ]
          },
          "execution_count": 10,
          "metadata": {},
          "output_type": "execute_result"
        }
      ],
      "source": [
        "import pandas as pd\n",
        "import nltk\n",
        "df = pd.read_csv('train.csv')\n",
        "\n",
        "df.columns = [\"label\", \"title\", \"lead\"]\n",
        "label_map = {1:\"world\", 2:\"sport\", 3:\"business\", 4:\"sci/tech\"}\n",
        "def replace_label(x):\n",
        "\treturn label_map[x]\n",
        "df[\"label\"] = df[\"label\"].apply(replace_label) \n",
        "df[\"text\"] = df[\"title\"] + \" \" + df[\"lead\"]\n",
        "df = df.sample(n=10000) # # only use 10K datapoints\n",
        "df.head()"
      ]
    },
    {
      "cell_type": "code",
      "execution_count": null,
      "id": "61ec5921",
      "metadata": {
        "id": "61ec5921"
      },
      "outputs": [],
      "source": [
        "import spacy\n",
        "nlp = spacy.load('en_core_web_sm')\n",
        "#TODO preprocess the corpus using spacy\n"
      ]
    },
    {
      "cell_type": "markdown",
      "id": "9a0ae310",
      "metadata": {
        "id": "9a0ae310"
      },
      "source": [
        "### Information Extraction"
      ]
    },
    {
      "cell_type": "code",
      "execution_count": null,
      "id": "8fbd7718",
      "metadata": {
        "id": "8fbd7718"
      },
      "outputs": [],
      "source": [
        "def extract_subject_verb_pairs(sent):\n",
        "    subjs = [w for w in sent if w.dep_ == \"nsubj\"]\n",
        "    pairs = [(w.lemma_.lower(), w.head.lemma_.lower()) for w in subjs]\n",
        "    return pairs\n",
        "##TODO extract the subject-verbs pairs and print the result for the second document\n",
        "\n",
        "from collections import Counter\n",
        "counter = Counter()\n",
        "\n",
        "##TODO create a list ranking the most common pairs and print the first 10 items"
      ]
    },
    {
      "cell_type": "code",
      "execution_count": null,
      "id": "c2c30e56",
      "metadata": {
        "id": "c2c30e56"
      },
      "outputs": [],
      "source": [
        "##TODO do the same for verbs-object pairs ('dobj')\n",
        "##TODO create a list ranking the most common pairs and print the first 10 items"
      ]
    },
    {
      "cell_type": "code",
      "execution_count": null,
      "id": "aad55039",
      "metadata": {
        "id": "aad55039"
      },
      "outputs": [],
      "source": [
        "##TODO do the same for adjectives-nouns pairs ('amod')\n",
        "##TODO create a list ranking the most common pairs and print the first 10 items"
      ]
    },
    {
      "cell_type": "markdown",
      "id": "d1273253",
      "metadata": {
        "id": "d1273253"
      },
      "source": [
        "### Exploring cross label dependencies"
      ]
    },
    {
      "cell_type": "code",
      "execution_count": null,
      "id": "06d19500",
      "metadata": {
        "id": "06d19500"
      },
      "outputs": [],
      "source": [
        "##TODO extract all the subject-verbs and verbs-object pairs for the verb \"rise\""
      ]
    },
    {
      "cell_type": "code",
      "execution_count": null,
      "id": "75649d5e",
      "metadata": {
        "id": "75649d5e"
      },
      "outputs": [],
      "source": [
        "##TODO for each label create a list ranking the most common subject-verbs pairs and one for the most common verbs-object pairs\n",
        "##TODO print the 10 most common pairs for each of the two lists for the labels \"world\" and \"sci/tech\""
      ]
    },
    {
      "cell_type": "code",
      "execution_count": null,
      "id": "98d363b6",
      "metadata": {
        "id": "98d363b6"
      },
      "outputs": [],
      "source": []
    }
  ],
  "metadata": {
    "kernelspec": {
      "display_name": "pytorch",
      "language": "python",
      "name": "python3"
    },
    "language_info": {
      "codemirror_mode": {
        "name": "ipython",
        "version": 3
      },
      "file_extension": ".py",
      "mimetype": "text/x-python",
      "name": "python",
      "nbconvert_exporter": "python",
      "pygments_lexer": "ipython3",
      "version": "3.7.11"
    },
    "toc": {
      "base_numbering": 1,
      "nav_menu": {},
      "number_sections": true,
      "sideBar": true,
      "skip_h1_title": false,
      "title_cell": "Table of Contents",
      "title_sidebar": "Contents",
      "toc_cell": false,
      "toc_position": {},
      "toc_section_display": true,
      "toc_window_display": false
    },
    "vscode": {
      "interpreter": {
        "hash": "d73fbafa1c1ce4c8cd6f07277ecbf2d62d7720c8bfdb6bdbaeeaf6dba6dd25dd"
      }
    },
    "colab": {
      "provenance": []
    }
  },
  "nbformat": 4,
  "nbformat_minor": 5
}