{
  "cells": [
    {
      "cell_type": "markdown",
      "id": "a60bffde",
      "metadata": {
        "id": "a60bffde"
      },
      "source": [
        "# HW02: Tokenization"
      ]
    },
    {
      "cell_type": "markdown",
      "id": "b8ed3f1a",
      "metadata": {
        "id": "b8ed3f1a"
      },
      "source": [
        "Remember that these homework work as a completion grade. **You can skip one section without losing credit.**"
      ]
    },
    {
      "cell_type": "code",
      "execution_count": 6,
      "id": "dc19cf83",
      "metadata": {
        "colab": {
          "base_uri": "https://localhost:8080/",
          "height": 540
        },
        "id": "dc19cf83",
        "outputId": "6cee5af1-e0c8-453b-abd1-861e971fd078"
      },
      "outputs": [
        {
          "output_type": "stream",
          "name": "stdout",
          "text": [
            "--2023-03-09 17:18:00--  https://raw.githubusercontent.com/mhjabreel/CharCnn_Keras/master/data/ag_news_csv/train.csv\n",
            "Resolving raw.githubusercontent.com (raw.githubusercontent.com)... 185.199.110.133, 185.199.108.133, 185.199.111.133, ...\n",
            "Connecting to raw.githubusercontent.com (raw.githubusercontent.com)|185.199.110.133|:443... connected.\n",
            "HTTP request sent, awaiting response... 200 OK\n",
            "Length: 29470338 (28M) [text/plain]\n",
            "Saving to: ‘train.csv.1’\n",
            "\n",
            "train.csv.1         100%[===================>]  28.10M   163MB/s    in 0.2s    \n",
            "\n",
            "2023-03-09 17:18:01 (163 MB/s) - ‘train.csv.1’ saved [29470338/29470338]\n",
            "\n"
          ]
        },
        {
          "output_type": "execute_result",
          "data": {
            "text/plain": [
              "      label                                              title  \\\n",
              "0  business  Carlyle Looks Toward Commercial Aerospace (Reu...   \n",
              "1  business    Oil and Economy Cloud Stocks' Outlook (Reuters)   \n",
              "2  business  Iraq Halts Oil Exports from Main Southern Pipe...   \n",
              "3  business  Oil prices soar to all-time record, posing new...   \n",
              "4  business        Stocks End Up, But Near Year Lows (Reuters)   \n",
              "\n",
              "                                                lead  \\\n",
              "0  Reuters - Private investment firm Carlyle Grou...   \n",
              "1  Reuters - Soaring crude prices plus worries\\ab...   \n",
              "2  Reuters - Authorities have halted oil export\\f...   \n",
              "3  AFP - Tearaway world oil prices, toppling reco...   \n",
              "4  Reuters - Stocks ended slightly higher on Frid...   \n",
              "\n",
              "                                                text  \n",
              "0  Carlyle Looks Toward Commercial Aerospace (Reu...  \n",
              "1  Oil and Economy Cloud Stocks' Outlook (Reuters...  \n",
              "2  Iraq Halts Oil Exports from Main Southern Pipe...  \n",
              "3  Oil prices soar to all-time record, posing new...  \n",
              "4  Stocks End Up, But Near Year Lows (Reuters) Re...  "
            ],
            "text/html": [
              "\n",
              "  <div id=\"df-8620b50e-b1c1-44d3-b2c7-176db8c489cf\">\n",
              "    <div class=\"colab-df-container\">\n",
              "      <div>\n",
              "<style scoped>\n",
              "    .dataframe tbody tr th:only-of-type {\n",
              "        vertical-align: middle;\n",
              "    }\n",
              "\n",
              "    .dataframe tbody tr th {\n",
              "        vertical-align: top;\n",
              "    }\n",
              "\n",
              "    .dataframe thead th {\n",
              "        text-align: right;\n",
              "    }\n",
              "</style>\n",
              "<table border=\"1\" class=\"dataframe\">\n",
              "  <thead>\n",
              "    <tr style=\"text-align: right;\">\n",
              "      <th></th>\n",
              "      <th>label</th>\n",
              "      <th>title</th>\n",
              "      <th>lead</th>\n",
              "      <th>text</th>\n",
              "    </tr>\n",
              "  </thead>\n",
              "  <tbody>\n",
              "    <tr>\n",
              "      <th>0</th>\n",
              "      <td>business</td>\n",
              "      <td>Carlyle Looks Toward Commercial Aerospace (Reu...</td>\n",
              "      <td>Reuters - Private investment firm Carlyle Grou...</td>\n",
              "      <td>Carlyle Looks Toward Commercial Aerospace (Reu...</td>\n",
              "    </tr>\n",
              "    <tr>\n",
              "      <th>1</th>\n",
              "      <td>business</td>\n",
              "      <td>Oil and Economy Cloud Stocks' Outlook (Reuters)</td>\n",
              "      <td>Reuters - Soaring crude prices plus worries\\ab...</td>\n",
              "      <td>Oil and Economy Cloud Stocks' Outlook (Reuters...</td>\n",
              "    </tr>\n",
              "    <tr>\n",
              "      <th>2</th>\n",
              "      <td>business</td>\n",
              "      <td>Iraq Halts Oil Exports from Main Southern Pipe...</td>\n",
              "      <td>Reuters - Authorities have halted oil export\\f...</td>\n",
              "      <td>Iraq Halts Oil Exports from Main Southern Pipe...</td>\n",
              "    </tr>\n",
              "    <tr>\n",
              "      <th>3</th>\n",
              "      <td>business</td>\n",
              "      <td>Oil prices soar to all-time record, posing new...</td>\n",
              "      <td>AFP - Tearaway world oil prices, toppling reco...</td>\n",
              "      <td>Oil prices soar to all-time record, posing new...</td>\n",
              "    </tr>\n",
              "    <tr>\n",
              "      <th>4</th>\n",
              "      <td>business</td>\n",
              "      <td>Stocks End Up, But Near Year Lows (Reuters)</td>\n",
              "      <td>Reuters - Stocks ended slightly higher on Frid...</td>\n",
              "      <td>Stocks End Up, But Near Year Lows (Reuters) Re...</td>\n",
              "    </tr>\n",
              "  </tbody>\n",
              "</table>\n",
              "</div>\n",
              "      <button class=\"colab-df-convert\" onclick=\"convertToInteractive('df-8620b50e-b1c1-44d3-b2c7-176db8c489cf')\"\n",
              "              title=\"Convert this dataframe to an interactive table.\"\n",
              "              style=\"display:none;\">\n",
              "        \n",
              "  <svg xmlns=\"http://www.w3.org/2000/svg\" height=\"24px\"viewBox=\"0 0 24 24\"\n",
              "       width=\"24px\">\n",
              "    <path d=\"M0 0h24v24H0V0z\" fill=\"none\"/>\n",
              "    <path d=\"M18.56 5.44l.94 2.06.94-2.06 2.06-.94-2.06-.94-.94-2.06-.94 2.06-2.06.94zm-11 1L8.5 8.5l.94-2.06 2.06-.94-2.06-.94L8.5 2.5l-.94 2.06-2.06.94zm10 10l.94 2.06.94-2.06 2.06-.94-2.06-.94-.94-2.06-.94 2.06-2.06.94z\"/><path d=\"M17.41 7.96l-1.37-1.37c-.4-.4-.92-.59-1.43-.59-.52 0-1.04.2-1.43.59L10.3 9.45l-7.72 7.72c-.78.78-.78 2.05 0 2.83L4 21.41c.39.39.9.59 1.41.59.51 0 1.02-.2 1.41-.59l7.78-7.78 2.81-2.81c.8-.78.8-2.07 0-2.86zM5.41 20L4 18.59l7.72-7.72 1.47 1.35L5.41 20z\"/>\n",
              "  </svg>\n",
              "      </button>\n",
              "      \n",
              "  <style>\n",
              "    .colab-df-container {\n",
              "      display:flex;\n",
              "      flex-wrap:wrap;\n",
              "      gap: 12px;\n",
              "    }\n",
              "\n",
              "    .colab-df-convert {\n",
              "      background-color: #E8F0FE;\n",
              "      border: none;\n",
              "      border-radius: 50%;\n",
              "      cursor: pointer;\n",
              "      display: none;\n",
              "      fill: #1967D2;\n",
              "      height: 32px;\n",
              "      padding: 0 0 0 0;\n",
              "      width: 32px;\n",
              "    }\n",
              "\n",
              "    .colab-df-convert:hover {\n",
              "      background-color: #E2EBFA;\n",
              "      box-shadow: 0px 1px 2px rgba(60, 64, 67, 0.3), 0px 1px 3px 1px rgba(60, 64, 67, 0.15);\n",
              "      fill: #174EA6;\n",
              "    }\n",
              "\n",
              "    [theme=dark] .colab-df-convert {\n",
              "      background-color: #3B4455;\n",
              "      fill: #D2E3FC;\n",
              "    }\n",
              "\n",
              "    [theme=dark] .colab-df-convert:hover {\n",
              "      background-color: #434B5C;\n",
              "      box-shadow: 0px 1px 3px 1px rgba(0, 0, 0, 0.15);\n",
              "      filter: drop-shadow(0px 1px 2px rgba(0, 0, 0, 0.3));\n",
              "      fill: #FFFFFF;\n",
              "    }\n",
              "  </style>\n",
              "\n",
              "      <script>\n",
              "        const buttonEl =\n",
              "          document.querySelector('#df-8620b50e-b1c1-44d3-b2c7-176db8c489cf button.colab-df-convert');\n",
              "        buttonEl.style.display =\n",
              "          google.colab.kernel.accessAllowed ? 'block' : 'none';\n",
              "\n",
              "        async function convertToInteractive(key) {\n",
              "          const element = document.querySelector('#df-8620b50e-b1c1-44d3-b2c7-176db8c489cf');\n",
              "          const dataTable =\n",
              "            await google.colab.kernel.invokeFunction('convertToInteractive',\n",
              "                                                     [key], {});\n",
              "          if (!dataTable) return;\n",
              "\n",
              "          const docLinkHtml = 'Like what you see? Visit the ' +\n",
              "            '<a target=\"_blank\" href=https://colab.research.google.com/notebooks/data_table.ipynb>data table notebook</a>'\n",
              "            + ' to learn more about interactive tables.';\n",
              "          element.innerHTML = '';\n",
              "          dataTable['output_type'] = 'display_data';\n",
              "          await google.colab.output.renderOutput(dataTable, element);\n",
              "          const docLink = document.createElement('div');\n",
              "          docLink.innerHTML = docLinkHtml;\n",
              "          element.appendChild(docLink);\n",
              "        }\n",
              "      </script>\n",
              "    </div>\n",
              "  </div>\n",
              "  "
            ]
          },
          "metadata": {},
          "execution_count": 6
        }
      ],
      "source": [
        "#Import the AG news dataset (same as hw01)\n",
        "#Download them from here \n",
        "!wget https://raw.githubusercontent.com/mhjabreel/CharCnn_Keras/master/data/ag_news_csv/train.csv\n",
        "\n",
        "import pandas as pd\n",
        "import nltk\n",
        "df = pd.read_csv('train.csv')\n",
        "\n",
        "df.columns = [\"label\", \"title\", \"lead\"]\n",
        "label_map = {1:\"world\", 2:\"sport\", 3:\"business\", 4:\"sci/tech\"}\n",
        "def replace_label(x):\n",
        "\treturn label_map[x]\n",
        "df[\"label\"] = df[\"label\"].apply(replace_label) \n",
        "df[\"text\"] = df[\"title\"] + \" \" + df[\"lead\"]\n",
        "df.head()"
      ]
    },
    {
      "cell_type": "markdown",
      "id": "37f7b626",
      "metadata": {
        "id": "37f7b626"
      },
      "source": [
        "## Preprocess Text"
      ]
    },
    {
      "cell_type": "code",
      "execution_count": 19,
      "id": "ab1861a9",
      "metadata": {
        "colab": {
          "base_uri": "https://localhost:8080/"
        },
        "id": "ab1861a9",
        "outputId": "dccd17d5-95e3-4040-ba36-0bae55a546b1"
      },
      "outputs": [
        {
          "output_type": "stream",
          "name": "stdout",
          "text": [
            "Milosevic Lawyer Faces Trial Obstacles THE HAGUE, Netherlands -\n"
          ]
        }
      ],
      "source": [
        "import spacy\n",
        "dfs = df.sample(50)\n",
        "nlp = spacy.load('en_core_web_sm')\n",
        "\n",
        "##TODO use spacy to split the documents in the sampled dataframe (dfs) in sentences and tokens\n",
        "\n",
        "def get_sentences(text):\n",
        "\n",
        "    doc = nlp(text)\n",
        "    sentences = list(doc.sents)\n",
        "\n",
        "    return sentences\n",
        "\n",
        "def get_tokens(text):\n",
        "    doc = nlp(text)\n",
        "    tokens = [token for token in doc]\n",
        "\n",
        "    return tokens\n",
        "\n",
        "dfs['sentences'] = dfs['text'].apply(get_sentences)\n",
        "\n",
        "dfs['tokens'] = dfs['text'].apply(get_tokens)\n",
        "\n",
        "##TODO print the first sentence of the first document in your sample\n",
        "\n",
        "print(dfs['sentences'].iloc[0][0])\n",
        "\n"
      ]
    },
    {
      "cell_type": "code",
      "source": [
        "dfs.head()"
      ],
      "metadata": {
        "colab": {
          "base_uri": "https://localhost:8080/",
          "height": 367
        },
        "id": "E1hldYveptUv",
        "outputId": "863e5a32-3341-4262-85dd-cc3da51e4aaf"
      },
      "id": "E1hldYveptUv",
      "execution_count": null,
      "outputs": [
        {
          "output_type": "execute_result",
          "data": {
            "text/plain": [
              "           label                                              title  \\\n",
              "4533       sport  Anno Captures Japan #39;s 6th Judo Gold; Inoue...   \n",
              "28981   business                      Firearms police get stun guns   \n",
              "115927  business      Verizon to enter wireless consolidation fray?   \n",
              "14549   business  Japan #39;s Supreme Court clears way for MTFG ...   \n",
              "100021     world  Iraqi Prime Minister Encouraged to Meet Opponents   \n",
              "\n",
              "                                                     lead  \\\n",
              "4533    Aug. 20 (Bloomberg) -- Noriko Anno, four-time ...   \n",
              "28981   Police firearms officers will be allowed to us...   \n",
              "115927  Verizon Communications Inc. may be getting int...   \n",
              "14549   TOKYO : Japan #39;s Supreme Court cleared the ...   \n",
              "100021  An international conference on Iraq is expecte...   \n",
              "\n",
              "                                                     text  \\\n",
              "4533    Anno Captures Japan #39;s 6th Judo Gold; Inoue...   \n",
              "28981   Firearms police get stun guns Police firearms ...   \n",
              "115927  Verizon to enter wireless consolidation fray? ...   \n",
              "14549   Japan #39;s Supreme Court clears way for MTFG ...   \n",
              "100021  Iraqi Prime Minister Encouraged to Meet Oppone...   \n",
              "\n",
              "                                                sentences  \\\n",
              "4533    [(Anno, Captures, Japan), (#, 39;s, 6th, Judo,...   \n",
              "28981   [(Firearms, police, get, stun, guns, Police, f...   \n",
              "115927  [(Verizon, to, enter, wireless, consolidation,...   \n",
              "14549   [(Japan, #, 39;s, Supreme, Court, clears, way,...   \n",
              "100021  [(Iraqi, Prime, Minister, Encouraged, to, Meet...   \n",
              "\n",
              "                                                   tokens  \n",
              "4533    [Anno, Captures, Japan, 39;s, 6th, Judo, Gold,...  \n",
              "28981   [Firearms, police, stun, guns, Police, firearm...  \n",
              "115927  [Verizon, enter, wireless, consolidation, fray...  \n",
              "14549   [Japan, 39;s, Supreme, Court, clears, way, MTF...  \n",
              "100021  [Iraqi, Prime, Minister, Encouraged, Meet, Opp...  "
            ],
            "text/html": [
              "\n",
              "  <div id=\"df-38502e9f-654e-4b30-a037-c2b81dc441f3\">\n",
              "    <div class=\"colab-df-container\">\n",
              "      <div>\n",
              "<style scoped>\n",
              "    .dataframe tbody tr th:only-of-type {\n",
              "        vertical-align: middle;\n",
              "    }\n",
              "\n",
              "    .dataframe tbody tr th {\n",
              "        vertical-align: top;\n",
              "    }\n",
              "\n",
              "    .dataframe thead th {\n",
              "        text-align: right;\n",
              "    }\n",
              "</style>\n",
              "<table border=\"1\" class=\"dataframe\">\n",
              "  <thead>\n",
              "    <tr style=\"text-align: right;\">\n",
              "      <th></th>\n",
              "      <th>label</th>\n",
              "      <th>title</th>\n",
              "      <th>lead</th>\n",
              "      <th>text</th>\n",
              "      <th>sentences</th>\n",
              "      <th>tokens</th>\n",
              "    </tr>\n",
              "  </thead>\n",
              "  <tbody>\n",
              "    <tr>\n",
              "      <th>4533</th>\n",
              "      <td>sport</td>\n",
              "      <td>Anno Captures Japan #39;s 6th Judo Gold; Inoue...</td>\n",
              "      <td>Aug. 20 (Bloomberg) -- Noriko Anno, four-time ...</td>\n",
              "      <td>Anno Captures Japan #39;s 6th Judo Gold; Inoue...</td>\n",
              "      <td>[(Anno, Captures, Japan), (#, 39;s, 6th, Judo,...</td>\n",
              "      <td>[Anno, Captures, Japan, 39;s, 6th, Judo, Gold,...</td>\n",
              "    </tr>\n",
              "    <tr>\n",
              "      <th>28981</th>\n",
              "      <td>business</td>\n",
              "      <td>Firearms police get stun guns</td>\n",
              "      <td>Police firearms officers will be allowed to us...</td>\n",
              "      <td>Firearms police get stun guns Police firearms ...</td>\n",
              "      <td>[(Firearms, police, get, stun, guns, Police, f...</td>\n",
              "      <td>[Firearms, police, stun, guns, Police, firearm...</td>\n",
              "    </tr>\n",
              "    <tr>\n",
              "      <th>115927</th>\n",
              "      <td>business</td>\n",
              "      <td>Verizon to enter wireless consolidation fray?</td>\n",
              "      <td>Verizon Communications Inc. may be getting int...</td>\n",
              "      <td>Verizon to enter wireless consolidation fray? ...</td>\n",
              "      <td>[(Verizon, to, enter, wireless, consolidation,...</td>\n",
              "      <td>[Verizon, enter, wireless, consolidation, fray...</td>\n",
              "    </tr>\n",
              "    <tr>\n",
              "      <th>14549</th>\n",
              "      <td>business</td>\n",
              "      <td>Japan #39;s Supreme Court clears way for MTFG ...</td>\n",
              "      <td>TOKYO : Japan #39;s Supreme Court cleared the ...</td>\n",
              "      <td>Japan #39;s Supreme Court clears way for MTFG ...</td>\n",
              "      <td>[(Japan, #, 39;s, Supreme, Court, clears, way,...</td>\n",
              "      <td>[Japan, 39;s, Supreme, Court, clears, way, MTF...</td>\n",
              "    </tr>\n",
              "    <tr>\n",
              "      <th>100021</th>\n",
              "      <td>world</td>\n",
              "      <td>Iraqi Prime Minister Encouraged to Meet Opponents</td>\n",
              "      <td>An international conference on Iraq is expecte...</td>\n",
              "      <td>Iraqi Prime Minister Encouraged to Meet Oppone...</td>\n",
              "      <td>[(Iraqi, Prime, Minister, Encouraged, to, Meet...</td>\n",
              "      <td>[Iraqi, Prime, Minister, Encouraged, Meet, Opp...</td>\n",
              "    </tr>\n",
              "  </tbody>\n",
              "</table>\n",
              "</div>\n",
              "      <button class=\"colab-df-convert\" onclick=\"convertToInteractive('df-38502e9f-654e-4b30-a037-c2b81dc441f3')\"\n",
              "              title=\"Convert this dataframe to an interactive table.\"\n",
              "              style=\"display:none;\">\n",
              "        \n",
              "  <svg xmlns=\"http://www.w3.org/2000/svg\" height=\"24px\"viewBox=\"0 0 24 24\"\n",
              "       width=\"24px\">\n",
              "    <path d=\"M0 0h24v24H0V0z\" fill=\"none\"/>\n",
              "    <path d=\"M18.56 5.44l.94 2.06.94-2.06 2.06-.94-2.06-.94-.94-2.06-.94 2.06-2.06.94zm-11 1L8.5 8.5l.94-2.06 2.06-.94-2.06-.94L8.5 2.5l-.94 2.06-2.06.94zm10 10l.94 2.06.94-2.06 2.06-.94-2.06-.94-.94-2.06-.94 2.06-2.06.94z\"/><path d=\"M17.41 7.96l-1.37-1.37c-.4-.4-.92-.59-1.43-.59-.52 0-1.04.2-1.43.59L10.3 9.45l-7.72 7.72c-.78.78-.78 2.05 0 2.83L4 21.41c.39.39.9.59 1.41.59.51 0 1.02-.2 1.41-.59l7.78-7.78 2.81-2.81c.8-.78.8-2.07 0-2.86zM5.41 20L4 18.59l7.72-7.72 1.47 1.35L5.41 20z\"/>\n",
              "  </svg>\n",
              "      </button>\n",
              "      \n",
              "  <style>\n",
              "    .colab-df-container {\n",
              "      display:flex;\n",
              "      flex-wrap:wrap;\n",
              "      gap: 12px;\n",
              "    }\n",
              "\n",
              "    .colab-df-convert {\n",
              "      background-color: #E8F0FE;\n",
              "      border: none;\n",
              "      border-radius: 50%;\n",
              "      cursor: pointer;\n",
              "      display: none;\n",
              "      fill: #1967D2;\n",
              "      height: 32px;\n",
              "      padding: 0 0 0 0;\n",
              "      width: 32px;\n",
              "    }\n",
              "\n",
              "    .colab-df-convert:hover {\n",
              "      background-color: #E2EBFA;\n",
              "      box-shadow: 0px 1px 2px rgba(60, 64, 67, 0.3), 0px 1px 3px 1px rgba(60, 64, 67, 0.15);\n",
              "      fill: #174EA6;\n",
              "    }\n",
              "\n",
              "    [theme=dark] .colab-df-convert {\n",
              "      background-color: #3B4455;\n",
              "      fill: #D2E3FC;\n",
              "    }\n",
              "\n",
              "    [theme=dark] .colab-df-convert:hover {\n",
              "      background-color: #434B5C;\n",
              "      box-shadow: 0px 1px 3px 1px rgba(0, 0, 0, 0.15);\n",
              "      filter: drop-shadow(0px 1px 2px rgba(0, 0, 0, 0.3));\n",
              "      fill: #FFFFFF;\n",
              "    }\n",
              "  </style>\n",
              "\n",
              "      <script>\n",
              "        const buttonEl =\n",
              "          document.querySelector('#df-38502e9f-654e-4b30-a037-c2b81dc441f3 button.colab-df-convert');\n",
              "        buttonEl.style.display =\n",
              "          google.colab.kernel.accessAllowed ? 'block' : 'none';\n",
              "\n",
              "        async function convertToInteractive(key) {\n",
              "          const element = document.querySelector('#df-38502e9f-654e-4b30-a037-c2b81dc441f3');\n",
              "          const dataTable =\n",
              "            await google.colab.kernel.invokeFunction('convertToInteractive',\n",
              "                                                     [key], {});\n",
              "          if (!dataTable) return;\n",
              "\n",
              "          const docLinkHtml = 'Like what you see? Visit the ' +\n",
              "            '<a target=\"_blank\" href=https://colab.research.google.com/notebooks/data_table.ipynb>data table notebook</a>'\n",
              "            + ' to learn more about interactive tables.';\n",
              "          element.innerHTML = '';\n",
              "          dataTable['output_type'] = 'display_data';\n",
              "          await google.colab.output.renderOutput(dataTable, element);\n",
              "          const docLink = document.createElement('div');\n",
              "          docLink.innerHTML = docLinkHtml;\n",
              "          element.appendChild(docLink);\n",
              "        }\n",
              "      </script>\n",
              "    </div>\n",
              "  </div>\n",
              "  "
            ]
          },
          "metadata": {},
          "execution_count": 3
        }
      ]
    },
    {
      "cell_type": "code",
      "source": [
        "##TODO create a new column with tokens in lowercase (x.lower()), without punctuation tokens (x.is_punct), stopwords (x.is_stop), and digits (x.is_digit)\n",
        "\n",
        "\n",
        "def get_processed_tokens(text):\n",
        "\n",
        "    tokens = [token.text.lower() for token in text if not token.is_digit and not token.is_punct and not token.is_stop]\n",
        "\n",
        "    return tokens\n",
        "\n",
        "dfs['tokens'] = dfs['tokens'].apply(get_processed_tokens)"
      ],
      "metadata": {
        "id": "cS7HAYBHbT8K"
      },
      "id": "cS7HAYBHbT8K",
      "execution_count": 23,
      "outputs": []
    },
    {
      "cell_type": "code",
      "source": [
        "dfs['tokens'].head()"
      ],
      "metadata": {
        "colab": {
          "base_uri": "https://localhost:8080/"
        },
        "id": "9HDiREyMbcvh",
        "outputId": "5df229e0-5428-40ae-a682-2787b73bb2df"
      },
      "id": "9HDiREyMbcvh",
      "execution_count": 24,
      "outputs": [
        {
          "output_type": "execute_result",
          "data": {
            "text/plain": [
              "31962     [milosevic, lawyer, faces, trial, obstacles, h...\n",
              "43        [state, grant, aid, lynn, bank, gives, salem, ...\n",
              "12288     [mercury, continues, product, offensive, new, ...\n",
              "104604    [process, picking, winner, poses, issues, coll...\n",
              "16585     [iaea, report, positive, step, iran, tehran, a...\n",
              "Name: tokens, dtype: object"
            ]
          },
          "metadata": {},
          "execution_count": 24
        }
      ]
    },
    {
      "cell_type": "code",
      "source": [
        "##TODO print the tokens (x.lemma_) and the dependency labels (x.dep_ ) of the first sentence of the first document (doc.sents)"
      ],
      "metadata": {
        "id": "QRSNxU0fb_Ex"
      },
      "id": "QRSNxU0fb_Ex",
      "execution_count": null,
      "outputs": []
    },
    {
      "cell_type": "code",
      "source": [
        "tokens = get_tokens(dfs['text'].iloc[0])\n",
        "tokens = [token for token in tokens if not token.is_digit and not token.is_punct and not token.is_stop]\n",
        "\n",
        "lemma = [token.lemma_ for token in tokens]\n",
        "dep = [token.dep_ for token in tokens]\n",
        "\n",
        "for l, d in zip(lemma, dep):\n",
        "    print(l, d)"
      ],
      "metadata": {
        "colab": {
          "base_uri": "https://localhost:8080/"
        },
        "id": "ybB4JICCcB0g",
        "outputId": "2803207a-994c-49a4-842a-5cc07154c0ab"
      },
      "id": "ybB4JICCcB0g",
      "execution_count": 34,
      "outputs": [
        {
          "output_type": "stream",
          "name": "stdout",
          "text": [
            "Milosevic compound\n",
            "Lawyer compound\n",
            "face compound\n",
            "Trial compound\n",
            "Obstacles ROOT\n",
            "HAGUE appos\n",
            "Netherlands appos\n",
            "easy acomp\n",
            "Slobodan compound\n",
            "Milosevic poss\n",
            "lawyer attr\n",
            "    dep\n",
            "appoint ROOT\n",
            "week npadvmod\n",
            "ago advmod\n",
            "defend xcomp\n",
            "yugoslav amod\n",
            "president dobj\n",
            "war compound\n",
            "crime compound\n",
            "charge pobj\n",
            "british amod\n",
            "attorney compound\n",
            "Steven compound\n",
            "Kay poss\n",
            "practiced amod\n",
            "poise nsubj\n",
            "calm amod\n",
            "legal amod\n",
            "demeanor conj\n",
            "time pobj\n",
            "give prep\n",
            "way pobj\n",
            "sheer amod\n",
            "frustration pobj\n"
          ]
        }
      ]
    },
    {
      "cell_type": "markdown",
      "id": "8ef544f1",
      "metadata": {
        "id": "8ef544f1"
      },
      "source": [
        "### Named Entities\n",
        "\n",
        "Let's compute the ratio of named entities starting with a capital letter, e.g. if we have \"University of Chicago\" as a NE, \"University\" and \"Chicago\" are capitalized, \"of\" is not, thus the ratio is 2/3."
      ]
    },
    {
      "cell_type": "code",
      "source": [
        "##TODO print the ratio of tokens being part of a named entity span starting with a capital letter (doc.ents)\n",
        "\n",
        "def get_entities(text):\n",
        "    doc = nlp(text)\n",
        "    entities = [entity for entity in doc.ents]\n",
        "\n",
        "    return entities\n",
        "\n",
        "\n",
        "entities = dfs['text'].apply(get_entities)\n",
        "\n",
        "def get_ent_ratio(ents):\n",
        "    ratios = []\n",
        "    for ent in ents:\n",
        "        cap_ent = 0\n",
        "        \n",
        "        for word in ent:\n",
        "            if word.text[0].isupper():\n",
        "                cap_ent += 1\n",
        "        \n",
        "        if len(ent) > 0:\n",
        "            ratios.append(cap_ent/len(ent))\n",
        "        else:\n",
        "            ratios.append(0.0)\n",
        "\n",
        "    return ratios\n",
        "\n",
        "ent_ratios = entities.apply(get_ent_ratio)\n",
        "\n",
        "for ent, rat in zip(entities, ent_ratios):\n",
        "    print(ent)\n",
        "    print(rat)\n",
        "\n"
      ],
      "metadata": {
        "id": "UPLOC7sghhUg",
        "outputId": "4200e2c6-f602-4358-86e0-9f69994c788d",
        "colab": {
          "base_uri": "https://localhost:8080/"
        }
      },
      "id": "UPLOC7sghhUg",
      "execution_count": 49,
      "outputs": [
        {
          "output_type": "stream",
          "name": "stdout",
          "text": [
            "[Milosevic Lawyer Faces Trial, HAGUE, Netherlands, Slobodan Milosevic's, two weeks ago, Yugoslav, British, Steven Kay's]\n",
            "[1.0, 1.0, 1.0, 0.6666666666666666, 0.0, 1.0, 1.0, 0.6666666666666666]\n",
            "[Lynn; Bank, Salem, Central Square, Lynn, \\$830,000, Lynn, last week]\n",
            "[0.6666666666666666, 1.0, 1.0, 1.0, 0.0, 1.0, 0.0]\n",
            "[Mercury, Ford Motor Co., 39;s, Mercury, six, the next four years, Milan]\n",
            "[1.0, 1.0, 0.0, 1.0, 0.0, 0.0, 1.0]\n",
            "[The Process of Picking a Winner Poses, weekend, Saturday, the Heisman Trophy]\n",
            "[0.7142857142857143, 0.0, 1.0, 0.6666666666666666]\n",
            "[IAEA, Iran, Iran, UN, 39;s, Wednesday, Tehran, 39;s, 39;s]\n",
            "[1.0, 1.0, 1.0, 1.0, 0.0, 1.0, 1.0, 0.0, 0.0]\n",
            "[Toyota, XM Satellite Radio Inc., Sirius Satellite Radio Inc., yesterday, Toyota Motor Sales U.S.A. Inc.]\n",
            "[1.0, 1.0, 1.0, 0.0, 1.0]\n",
            "[McLeish, Alex McLeish, yesterday, 3, Hearts, Ibrox, 39;s, Celtic, first, 39;ve]\n",
            "[1.0, 1.0, 0.0, 0.0, 1.0, 1.0, 0.0, 1.0, 0.0, 0.0]\n",
            "[Thursday, Merck   Co., Vioxx]\n",
            "[1.0, 0.6666666666666666, 1.0]\n",
            "[Holland, East Carolina, Holland, the University of Virginia, Tuesday, East Carolina University, Holland, five-year, Oct.]\n",
            "[1.0, 1.0, 1.0, 0.5, 1.0, 1.0, 1.0, 0.0, 1.0]\n",
            "[9th Week  , Reuters, U.S., the ninth week in a row, almost four months, the Energy  Department, Monday]\n",
            "[0.3333333333333333, 1.0, 1.0, 0.0, 0.0, 0.5, 1.0]\n",
            "[Reuters, US, Sunday]\n",
            "[1.0, 1.0, 1.0]\n",
            "[\\$55, Friday, a day, US]\n",
            "[0.0, 1.0, 0.0, 1.0]\n",
            "[Kazaa, Morpheus, Grokster, 9th, U.S. Circuit Court of Appeals, Los Angeles, Thursday]\n",
            "[1.0, 1.0, 1.0, 0.0, 0.8, 1.0, 1.0]\n",
            "[Focus / Filling, 39;s, The three days, the end of the month of Ramadan, yesterday, the Palestinian Authority]\n",
            "[0.6666666666666666, 0.0, 0.3333333333333333, 0.14285714285714285, 0.0, 0.6666666666666666]\n",
            "[2002, 2002]\n",
            "[0.0, 0.0]\n",
            "[MEMPHIS, Tenn. -, Eric Shelton, fourth, 37 seconds, 14, Louisville, Memphis, Thursday, night]\n",
            "[1.0, 0.5, 1.0, 0.0, 0.0, 0.0, 1.0, 1.0, 1.0, 0.0]\n",
            "[Ecobot Eats Dead Flies, Sandhana]\n",
            "[1.0, 1.0]\n",
            "[U.S. Consumer Sentiment in, Reuters, early October, Friday]\n",
            "[0.75, 1.0, 0.5, 1.0]\n",
            "[Grizzlies, Mike Fratello, Hubie Brown, ESPN, Friday, Fratello, TNT, Memphis, Friday]\n",
            "[1.0, 1.0, 1.0, 1.0, 1.0, 1.0, 1.0, 1.0, 1.0]\n",
            "[EU, Oracle #, 39;s, Peoplesoft The European Commission, Oracle #39;s, billion, PeopleSoft, Tuesday]\n",
            "[1.0, 0.5, 0.0, 1.0, 0.3333333333333333, 0.0, 1.0, 1.0]\n",
            "[WPP, Havas, Grey Global, French, Havas, last night, US, Grey Global, UK, 39;s, WPP, American]\n",
            "[1.0, 1.0, 1.0, 1.0, 1.0, 0.0, 1.0, 1.0, 1.0, 0.0, 1.0, 1.0]\n",
            "[US, Thursday]\n",
            "[1.0, 1.0]\n",
            "[#39;class #, 39, the Chicago Bears, Adewale Ogunleye, Dolphins, Rick Spielman]\n",
            "[0.0, 0.0, 0.6666666666666666, 1.0, 1.0, 1.0]\n",
            "[NBA-Raptors Produce Thrilling Comeback Win  TORONTO, Reuters, Rafer Alston, 20, 11, seven, Lamond Murray, 13, the fourth quarter, the Toronto Raptors, the San Antonio Spurs, Sunday]\n",
            "[0.7777777777777778, 1.0, 1.0, 0.0, 0.0, 0.0, 1.0, 0.0, 0.0, 0.6666666666666666, 0.75, 1.0]\n",
            "[the Computer Opens the Closet, late at night]\n",
            "[0.6, 0.0]\n",
            "[Moyes Everton, David Moyes, 2009, Moyes, 41, third, last season, 39;s]\n",
            "[1.0, 1.0, 0.0, 1.0, 0.0, 0.0, 0.0, 0.0]\n",
            "[Red Hat, Sun, Linux, Sun Microsystems]\n",
            "[1.0, 1.0, 1.0, 1.0]\n",
            "[Indonesian, PM 1:37, Indonesia, 39;s, Monday, Islamic, Christian, Jewish, Hindu, Buddhist]\n",
            "[1.0, 0.5, 1.0, 0.0, 1.0, 1.0, 1.0, 1.0, 1.0, 1.0]\n",
            "[Northern Ireland, LEEDS CASTLE, England, Northern Ireland, British, Tony Blair, Ireland, Bertie Ahern, Catholic, Protestant]\n",
            "[1.0, 1.0, 1.0, 1.0, 1.0, 1.0, 1.0, 1.0, 1.0, 1.0]\n",
            "[IBM]\n",
            "[1.0]\n",
            "[Sunny Fed, Fed, quarter, Fed]\n",
            "[1.0, 1.0, 0.0, 1.0]\n",
            "[Cambodian Royal Succession Clears, Reuters, Cambodia, Sihanouk, Monday]\n",
            "[1.0, 1.0, 1.0, 1.0, 1.0]\n",
            "[Gators, 39;t, CSI, Gainesville, Florida, Ron Zook, 39, 31, Saturday, Georgia]\n",
            "[1.0, 0.0, 1.0, 1.0, 1.0, 1.0, 0.0, 0.0, 1.0, 1.0]\n",
            "[Delta, CHICAGO, 18, Reuters, Gerald Grinstein, 39;s, Wednesday]\n",
            "[1.0, 1.0, 0.0, 1.0, 1.0, 0.0, 1.0]\n",
            "[Kerry Tries, Criticism WASHINGTON - Attacks, John Kerry's, Democrats, Kerry, White House, Massachusetts, Vietnam]\n",
            "[1.0, 0.75, 0.6666666666666666, 1.0, 1.0, 1.0, 1.0, 1.0]\n",
            "[Saturn, Cassini, 39;s, Saturn, 39;s, Titan, Tuesday, night, first]\n",
            "[1.0, 1.0, 0.0, 1.0, 0.0, 1.0, 1.0, 0.0, 0.0]\n",
            "[Iraq, Stop Vote BAGHDAD, Iraq, Iraqi, Sunday, 300, the last week alone, January, three, Iraqi, Kurds, U.S]\n",
            "[1.0, 1.0, 1.0, 1.0, 1.0, 0.0, 0.0, 1.0, 0.0, 1.0, 1.0, 1.0]\n",
            "[Win Presidential Election, Indonesia, Megawati Sukarnoputri, Indonesias, today]\n",
            "[1.0, 1.0, 1.0, 1.0, 0.0]\n",
            "[UK, 39, European, three, Black Watch, British, European]\n",
            "[1.0, 0.0, 1.0, 0.0, 1.0, 1.0, 1.0]\n",
            "[28, Shadowcrew.com, US, #39;s]\n",
            "[0.0, 1.0, 1.0, 0.0]\n",
            "[Gateway]\n",
            "[1.0]\n",
            "[Muslims, Bangladesh, Nearly two million, Muslims, three-day, Bangladesh, Dhaka, Sunday]\n",
            "[1.0, 1.0, 0.3333333333333333, 1.0, 0.0, 1.0, 1.0, 1.0]\n",
            "[Robert Di Niro, Italy, Hollywood News, Washington, Oct 16, Italians, Robert De Niro, Italy]\n",
            "[1.0, 1.0, 1.0, 1.0, 0.5, 1.0, 1.0, 1.0]\n",
            "[Hurricane Charley, Florida Building Code]\n",
            "[1.0, 1.0]\n",
            "[IBM, #39;trusted #, 39, IBM]\n",
            "[1.0, 0.0, 0.0, 1.0]\n",
            "[NASA, fifth, Chandra, first]\n",
            "[1.0, 0.0, 1.0, 0.0]\n",
            "[Seattle, 39;s, Home Loan Bank, The Federal Home Loan Bank, Seattle, one, 12, Fannie Mae, Freddie Mac]\n",
            "[1.0, 0.0, 1.0, 1.0, 1.0, 0.0, 0.0, 1.0, 1.0]\n",
            "[Sudan, Sudan, more than 20 years, days, next week, a day, the UN Security Council, Nairobi]\n",
            "[1.0, 1.0, 0.0, 0.0, 0.0, 0.0, 0.75, 1.0]\n",
            "[NEW YORK, Reuters, CommScope Inc &lt;A HREF=\"http://www.investor.reuters.com/FullQuote.aspx?ticker, 22 percent, after-hours, Monday, the fourth  quarter]\n",
            "[1.0, 1.0, 0.5714285714285714, 0.0, 0.0, 1.0, 0.0]\n",
            "[Japanese, KDDI, Japan, two, KDDI, British, BT]\n",
            "[1.0, 1.0, 1.0, 0.0, 1.0, 1.0, 1.0]\n"
          ]
        }
      ]
    },
    {
      "cell_type": "code",
      "execution_count": null,
      "id": "984b4d1f",
      "metadata": {
        "colab": {
          "base_uri": "https://localhost:8080/"
        },
        "id": "984b4d1f",
        "outputId": "bbaf2143-1944-46d4-f7f5-0f68222aba0c"
      },
      "outputs": [
        {
          "output_type": "stream",
          "name": "stdout",
          "text": [
            "Ratio: 0.16666666666666666\n",
            "Ratio: 0.6666666666666666\n",
            "Ratio: 0.0\n",
            "Ratio: 0.05555555555555555\n",
            "Ratio: 0.5\n",
            "Ratio: 0.4166666666666667\n",
            "Ratio: 0.3333333333333333\n",
            "Ratio: 0.5714285714285714\n",
            "Ratio: 0.0\n",
            "Ratio: 0.6666666666666666\n",
            "Ratio: 0.0\n",
            "Ratio: 0.75\n",
            "Ratio: 1.0\n",
            "Ratio: 0.25\n",
            "Ratio: 0.2\n",
            "Ratio: 0.36363636363636365\n",
            "Ratio: 0.0\n",
            "Ratio: 0.6666666666666666\n",
            "Ratio: 0.3333333333333333\n",
            "Ratio: 0.5\n",
            "Ratio: 0.4\n",
            "Ratio: 0.5454545454545454\n",
            "Ratio: 0.6666666666666666\n",
            "Ratio: 0.5454545454545454\n",
            "Ratio: 0.0\n",
            "Ratio: 0.25\n",
            "Ratio: 0.4\n",
            "Ratio: 0.125\n",
            "Ratio: 0.8571428571428571\n",
            "Ratio: 0.5714285714285714\n",
            "Ratio: 0.0\n",
            "Ratio: 0.5454545454545454\n",
            "Ratio: 0.5555555555555556\n",
            "Ratio: 0.0\n",
            "Ratio: 0.46153846153846156\n",
            "Ratio: 0.05555555555555555\n",
            "Ratio: 0.0\n",
            "Ratio: 0.0\n",
            "Ratio: 0.5714285714285714\n",
            "Ratio: 0.2222222222222222\n",
            "Ratio: 0.42857142857142855\n",
            "Ratio: 0.3333333333333333\n",
            "Ratio: 0.23076923076923078\n",
            "Ratio: 1.0\n",
            "Ratio: 0.125\n",
            "Ratio: 0.0\n",
            "Ratio: 0.0\n",
            "Ratio: 0.0\n",
            "Ratio: 0.0\n",
            "Ratio: 0.6666666666666666\n"
          ]
        }
      ],
      "source": [
        "##TODO print the ratio of capitalized tokens not being part of a named entity span (have no token.ent_type_)\n",
        "# e.g. \"The dog barks\" = 1/3; 3 tokens, only \"The\" is capitalized\n",
        "\n",
        "for sample in dfs['tokens']:\n",
        "\n",
        "    cap_not_ent = 0\n",
        "    tot_cap = 0\n",
        "\n",
        "    for token in sample:\n",
        "        if token.text[0].isupper() and not token.ent_type_:\n",
        "            cap_not_ent += 1\n",
        "        \n",
        "        if token.text[0].isupper():\n",
        "            tot_cap += 1\n",
        "\n",
        "    if tot_cap > 0:\n",
        "        print('Ratio: {}'.format(cap_not_ent / tot_cap))\n",
        "    \n",
        "    else:\n",
        "        print('Ratio: 0.0')"
      ]
    },
    {
      "cell_type": "code",
      "execution_count": null,
      "id": "ac3ede3c",
      "metadata": {
        "colab": {
          "base_uri": "https://localhost:8080/"
        },
        "id": "ac3ede3c",
        "outputId": "e8724b86-a619-4bdc-de6a-d6a746b2f202"
      },
      "outputs": [
        {
          "output_type": "stream",
          "name": "stdout",
          "text": [
            "Sentence 1: Ratio: 0.5 Sentence 2: Ratio: 0.13333333333333333 \n",
            "Sentence 1: Ratio: 1.0 Sentence 2: Ratio: 0.0 \n",
            "Sentence 1: Ratio: 0.0 Sentence 2: Ratio: 0.3333333333333333 \n",
            "Sentence 1: Ratio: 0.058823529411764705 \n",
            "Sentence 1: Ratio: 0.5833333333333334 \n",
            "Sentence 1: Ratio: 0.4166666666666667 \n",
            "Sentence 1: Ratio: 0.35714285714285715 \n",
            "Sentence 1: Ratio: 0.625 \n",
            "Sentence 1: Ratio: 0.0 \n",
            "Sentence 1: Ratio: 1.0 Sentence 2: Ratio: 0.0 \n",
            "Sentence 1: Ratio: 0.0 \n",
            "Sentence 1: Ratio: 0.8888888888888888 \n",
            "Sentence 1: Ratio: 1.0 Sentence 2: Ratio: 1.0 \n",
            "Sentence 1: Ratio: 0.25 \n",
            "Sentence 1: Ratio: 0.2 \n",
            "Sentence 1: Ratio: 0.35294117647058826 \n",
            "Sentence 1: Ratio: 0.0 Sentence 2: Ratio: 0.0 \n",
            "Sentence 1: Ratio: 0.8 \n",
            "Sentence 1: Ratio: 0.2 \n",
            "Sentence 1: Ratio: 1.0 Sentence 2: Ratio: 0.6666666666666666 Sentence 3: Ratio: 0.0 \n",
            "Sentence 1: Ratio: 0.4 \n",
            "Sentence 1: Ratio: 0.8888888888888888 Sentence 2: Ratio: 0.0 \n",
            "Sentence 1: Ratio: 0.625 \n",
            "Sentence 1: Ratio: 0.5833333333333334 \n",
            "Sentence 1: Ratio: 0.0 \n",
            "Sentence 1: Ratio: 0.125 Sentence 2: Ratio: 0.0 \n",
            "Sentence 1: Ratio: 0.8 Sentence 2: Ratio: 0.0 Sentence 3: Ratio: 0.0 Sentence 4: Ratio: 0.0 Sentence 5: Ratio: 0.0 \n",
            "Sentence 1: Ratio: 0.0 \n",
            "Sentence 1: Ratio: 0.8571428571428571 \n",
            "Sentence 1: Ratio: 0.8333333333333334 Sentence 2: Ratio: 0.2857142857142857 \n",
            "Sentence 1: Ratio: 0.0 \n",
            "Sentence 1: Ratio: 0.5714285714285714 Sentence 2: Ratio: 0.0 \n",
            "Sentence 1: Ratio: 0.6666666666666666 \n",
            "Sentence 1: Ratio: 0.0 \n",
            "Sentence 1: Ratio: 0.4166666666666667 \n",
            "Sentence 1: Ratio: 0.1 \n",
            "Sentence 1: Ratio: 0.0 Sentence 2: Ratio: 0.0 \n",
            "Sentence 1: Ratio: 0.0 \n",
            "Sentence 1: Ratio: 0.75 Sentence 2: Ratio: 0.6666666666666666 \n",
            "Sentence 1: Ratio: 0.375 Sentence 2: Ratio: 0.0 \n",
            "Sentence 1: Ratio: 0.38461538461538464 \n",
            "Sentence 1: Ratio: 0.3333333333333333 \n",
            "Sentence 1: Ratio: 0.0 Sentence 2: Ratio: 0.25 \n",
            "Sentence 1: Ratio: 1.0 \n",
            "Sentence 1: Ratio: 0.125 \n",
            "Sentence 1: Ratio: 0.1111111111111111 \n",
            "Sentence 1: Ratio: 0.0 \n",
            "Sentence 1: Ratio: 0.2 \n",
            "Sentence 1: Ratio: 0.0 \n",
            "Sentence 1: Ratio: 0.6 \n"
          ]
        }
      ],
      "source": [
        "##TODO print the ratio of capitalized tokens not being a named entity and not being the first token in a sentence\n",
        "# e.g. \"The dog barks\" = 0; 3 tokens, \"The\" is capitalized but the starting token of a sentence, no other tokens are capitalized.\n",
        "\n",
        "for sample in dfs['sentences']:\n",
        "\n",
        "    for j, sentence in enumerate(sample):\n",
        "\n",
        "        cap_not_ent_not_first = 0\n",
        "        tot_cap = 0\n",
        "\n",
        "        print(f'Sentence {j+1}: ', end='')\n",
        "\n",
        "        for i, token in enumerate(sentence):\n",
        "    \n",
        "\n",
        "            if i > 0 and token.text[0].isupper() and not token.ent_type_:\n",
        "                cap_not_ent_not_first += 1\n",
        "            \n",
        "            if i > 0 and token.text[0].isupper():\n",
        "                tot_cap += 1\n",
        "\n",
        "\n",
        "\n",
        "        if tot_cap > 0:\n",
        "            print('Ratio: {} '.format(cap_not_ent_not_first / tot_cap), end='')\n",
        "        \n",
        "        else:\n",
        "            print('Ratio: 0.0 ', end='')\n",
        "\n",
        "    print()\n",
        "\n"
      ]
    },
    {
      "cell_type": "markdown",
      "id": "466753be",
      "metadata": {
        "id": "466753be"
      },
      "source": [
        "Give an example of a capitalized token in the data which is neither a named entity nor at the start of a sentence. What could be the reason the token is capitalized (one sentence)?"
      ]
    },
    {
      "cell_type": "code",
      "execution_count": null,
      "id": "e21c0a01",
      "metadata": {
        "colab": {
          "base_uri": "https://localhost:8080/",
          "height": 130
        },
        "id": "e21c0a01",
        "outputId": "34760b9c-69e2-40bb-94ec-96e3b8c0fde8"
      },
      "outputs": [
        {
          "output_type": "error",
          "ename": "SyntaxError",
          "evalue": "ignored",
          "traceback": [
            "\u001b[0;36m  File \u001b[0;32m\"<ipython-input-8-6086e0961cdd>\"\u001b[0;36m, line \u001b[0;32m1\u001b[0m\n\u001b[0;31m    print(dfs.iloc[0]['sentences'])£\u001b[0m\n\u001b[0m                                   ^\u001b[0m\n\u001b[0;31mSyntaxError\u001b[0m\u001b[0;31m:\u001b[0m invalid character '£' (U+00A3)\n"
          ]
        }
      ],
      "source": [
        "print(dfs.iloc[0]['sentences'])£\n",
        "\n",
        "for sentence in dfs.iloc[0]['sentences']:\n",
        "    \n",
        "    for token in sentence:\n",
        "\n",
        "        if i > 0 and token.text[0].isupper() and not token.ent_type_:\n",
        "            print(token)\n"
      ]
    },
    {
      "cell_type": "markdown",
      "source": [
        "Either the token is a number which is counted as capitalised character or the word is a name. In this case we got 0 as the number and Aztecs. Searching seems to be a spelling mistake as it does not seem like a name."
      ],
      "metadata": {
        "id": "R2C53zik-53Z"
      },
      "id": "R2C53zik-53Z"
    },
    {
      "cell_type": "markdown",
      "id": "3126a5c7",
      "metadata": {
        "id": "3126a5c7"
      },
      "source": [
        "## Term Frequencies"
      ]
    },
    {
      "cell_type": "code",
      "source": [
        "print(df['label'].value_counts())"
      ],
      "metadata": {
        "id": "2voLB8YQCnbW",
        "outputId": "b644f4e4-69fe-4489-d07e-c96a47d952ba",
        "colab": {
          "base_uri": "https://localhost:8080/"
        }
      },
      "id": "2voLB8YQCnbW",
      "execution_count": null,
      "outputs": [
        {
          "output_type": "stream",
          "name": "stdout",
          "text": [
            "sci/tech    30000\n",
            "sport       30000\n",
            "world       30000\n",
            "business    29999\n",
            "Name: label, dtype: int64\n"
          ]
        }
      ]
    },
    {
      "cell_type": "code",
      "execution_count": null,
      "id": "055edce8",
      "metadata": {
        "colab": {
          "base_uri": "https://localhost:8080/",
          "height": 357
        },
        "id": "055edce8",
        "outputId": "96ccb800-a559-4752-adea-397cb11f2d2a"
      },
      "outputs": [
        {
          "output_type": "display_data",
          "data": {
            "text/plain": [
              "<Figure size 864x432 with 1 Axes>"
            ],
            "image/png": "[encoded data removed]"
          },
          "metadata": {
            "needs_background": "light"
          }
        }
      ],
      "source": [
        "from sklearn.feature_extraction.text import TfidfVectorizer\n",
        "tfidf = TfidfVectorizer(min_df=0.01, \n",
        "                        max_df=0.9,  \n",
        "                        max_features=1000,\n",
        "                        stop_words='english',\n",
        "                        use_idf=True, # the new piece\n",
        "                        ngram_range=(1,2))\n",
        "\n",
        "from wordcloud import WordCloud\n",
        "import matplotlib.pyplot as plt\n",
        "\n",
        "##TODO using the whole sample, produce a world cloud with bigrams for label == business using tfidf frequencies\n",
        "\n",
        "df_bus = df.loc[df['label'] == 'business']\n",
        "\n",
        "\n",
        "tfidf.fit(df_bus)\n",
        "\n",
        "\n",
        "feature_names = tfidf.get_feature_names_out()\n",
        "tfidf_scores = tfidf.idf_\n",
        "\n",
        "# Create a dictionary with the feature names and their corresponding TF-IDF scores\n",
        "wordcloud_dict = dict(zip(feature_names, tfidf_scores))\n",
        "\n",
        "# Create a word cloud\n",
        "wordcloud = WordCloud(background_color=\"white\", width=800, height=400).generate_from_frequencies(wordcloud_dict)\n",
        "\n",
        "# Plot the word cloud\n",
        "plt.figure(figsize=(12, 6))\n",
        "plt.imshow(wordcloud, interpolation='bilinear')\n",
        "plt.axis(\"off\")\n",
        "plt.show()\n",
        "\n",
        "\n"
      ]
    },
    {
      "cell_type": "markdown",
      "id": "0948e50f",
      "metadata": {
        "id": "0948e50f"
      },
      "source": [
        "## Supervised Feature Selection"
      ]
    },
    {
      "cell_type": "code",
      "execution_count": null,
      "id": "0510aa29",
      "metadata": {
        "id": "0510aa29",
        "colab": {
          "base_uri": "https://localhost:8080/"
        },
        "outputId": "a920be46-f11f-461f-c6db-3a1dcb3526b6"
      },
      "outputs": [
        {
          "output_type": "stream",
          "name": "stderr",
          "text": [
            "[nltk_data] Downloading package stopwords to /root/nltk_data...\n",
            "[nltk_data]   Package stopwords is already up-to-date!\n",
            "[nltk_data] Downloading package punkt to /root/nltk_data...\n",
            "[nltk_data]   Package punkt is already up-to-date!\n"
          ]
        },
        {
          "output_type": "stream",
          "name": "stdout",
          "text": [
            "['aspx ticker', 'com fullquote', 'fullquote', 'fullquote aspx', 'fullquote gt', 'gt', 'href', 'href http', 'http', 'http www', 'investor reuters', 'lt', 'lt href', 'quickinfo', 'quickinfo fullquote', 'stocks quickinfo', 'strong', 'target stocks', 'www', 'www investor']\n",
            "['39', 'fullquote', 'gt', 'href', 'href http', 'http', 'http www', 'investor reuters', 'lt', 'lt gt', 'lt href', 'quickinfo', 'quickinfo fullquote', 'reuters', 'reuters com', 'stocks quickinfo', 'strong', 'target stocks', 'www', 'www investor']\n"
          ]
        }
      ],
      "source": [
        "from sklearn.feature_selection import SelectKBest, f_classif, chi2\n",
        "\n",
        "##TODO compute the number of words per document (excluding stopwords)\n",
        "\n",
        "import nltk\n",
        "nltk.download('stopwords')\n",
        "nltk.download('punkt')\n",
        "from nltk.tokenize import word_tokenize\n",
        "from nltk.corpus import stopwords\n",
        "\n",
        "en_stop_words = stopwords.words('english')\n",
        "\n",
        "text_no_stop_words = df['text'].apply(lambda x: ' '.join([word for word in x.lower().split() if word not in en_stop_words]))\n",
        "num_words_per_document = text_no_stop_words.apply(lambda x: len(x.split()))\n",
        "\n",
        "num_words_per_document.head()\n",
        "\n",
        "##TODO get the most predictive features of the number of words per document using first f_class and then chi2\n",
        "\n",
        "\n",
        "# f_classif\n",
        "selector = SelectKBest(f_classif, k=20)\n",
        "X_new = selector.fit_transform(tfidf.fit_transform(df['text']), num_words_per_document)\n",
        "feature_names = tfidf.get_feature_names_out()\n",
        "selected_features_fclass = [feature_names[i] for i in selector.get_support(indices=True)]\n",
        "print(selected_features_fclass)\n",
        "\n",
        "\n",
        "# chi2\n",
        "selector = SelectKBest(chi2, k=20)\n",
        "X_new = selector.fit_transform(tfidf.fit_transform(df['text']), num_words_per_document)\n",
        "feature_names = tfidf.get_feature_names_out()\n",
        "selected_features_chi2 = [feature_names[i] for i in selector.get_support(indices=True)]\n",
        "print(selected_features_chi2)"
      ]
    },
    {
      "cell_type": "markdown",
      "id": "ddaee2e4",
      "metadata": {
        "id": "ddaee2e4"
      },
      "source": [
        "Are the results different? What could be a reason for this? "
      ]
    },
    {
      "cell_type": "markdown",
      "source": [
        "The f_classif assumes a normal distribution of the data and that the variance of y is equal across all features. chi2 however assumes the data to be categorical. The results are not equal because of the characteristics of the data."
      ],
      "metadata": {
        "id": "JhyvzyNERJzQ"
      },
      "id": "JhyvzyNERJzQ"
    },
    {
      "cell_type": "markdown",
      "id": "8af74a1d",
      "metadata": {
        "id": "8af74a1d"
      },
      "source": [
        "## Huggingface Tokenizers"
      ]
    },
    {
      "cell_type": "code",
      "execution_count": null,
      "id": "d1e75e4d",
      "metadata": {
        "id": "d1e75e4d",
        "colab": {
          "base_uri": "https://localhost:8080/"
        },
        "outputId": "dd68d269-6255-4f03-bc71-053f73075d38"
      },
      "outputs": [
        {
          "output_type": "stream",
          "name": "stdout",
          "text": [
            "12.011806375442738\n",
            "513340\n"
          ]
        }
      ],
      "source": [
        "# # we use distilbert tokenizer\n",
        "#!pip install transformers\n",
        "from transformers import DistilBertTokenizerFast\n",
        "\n",
        "# let's instantiate a tokenizer\n",
        "tokenizer = DistilBertTokenizerFast.from_pretrained('distilbert-base-uncased')\n",
        "\n",
        "##TODO tokenize the sentences in the sampled dataframe (dfs) using the DisilBertTokenizer\n",
        "\n",
        "# I used 'text' instead of sentences to avoid having to iterate through every documents.\n",
        "# To consider multiple sentences however, the 'add_special_tokens' is activated, which, as far as I understood,\n",
        "# accounts for multiple sentences in the input\n",
        "tokenized_sentences = dfs['text'].apply(lambda x: tokenizer.encode(x, add_special_tokens=True))\n",
        "\n",
        "\n",
        "##TODO what is the type/token ratio from this tokenizer (number_of_unqiue_token_types/number_of_tokens)?\n",
        "\n",
        "# Number of unique token types\n",
        "num_unique_tokens = len(set(tokenizer.get_vocab().keys()))\n",
        "\n",
        "# Total number of tokens\n",
        "num_tokens = sum([len(sentence) for sentence in tokenized_sentences])\n",
        "\n",
        "# type/token ratio\n",
        "type_token_ratio = num_unique_tokens / num_tokens\n",
        "\n",
        "print(type_token_ratio)\n",
        "\n",
        "##TODO what is the amount of subword tokens returned by the huggingface tokenizer? hint: each subword token starts with \"#\"\n",
        "\n",
        "tokenized_sentences = [tokenizer.tokenize(sentence) for sentence in df['text']]\n",
        "\n",
        "# Sum of subword tokens starting with '#'\n",
        "num_subword_tokens = sum([1 for sentence in tokenized_sentences for token in sentence if token.startswith('#')])\n",
        "\n",
        "print(num_subword_tokens)\n",
        "\n"
      ]
    },
    {
      "cell_type": "markdown",
      "id": "38bc9d00",
      "metadata": {
        "id": "38bc9d00"
      },
      "source": [
        "# Parsing"
      ]
    },
    {
      "cell_type": "code",
      "execution_count": null,
      "id": "16bf8639",
      "metadata": {
        "id": "16bf8639",
        "outputId": "2ed8ac59-f22b-41f3-a365-eb730f512df5",
        "colab": {
          "base_uri": "https://localhost:8080/",
          "height": 333
        }
      },
      "outputs": [
        {
          "output_type": "execute_result",
          "data": {
            "text/plain": [
              "           label                                              title  \\\n",
              "78333      world          Eight Marines dead in suicide car bombing   \n",
              "29574      sport  UPDATE 1-Blackburn chance too good to miss, sa...   \n",
              "112831     sport         Diamondbacks Keep Busy; Ortiz Heading Home   \n",
              "66261   business  Crude price up slightly as market braces for U...   \n",
              "48580   business  Accountant testifies he lied about Enron barge...   \n",
              "\n",
              "                                                     lead  \\\n",
              "78333   A suicide attacker detonated a car bomb yester...   \n",
              "29574   New Blackburn Rovers manager Mark Hughes says ...   \n",
              "112831   ANAHEIM, Calif., (Sports Network) - The Arizo...   \n",
              "66261   Crude oil prices rose slightly Wednesday after...   \n",
              "48580   A former Enron accountant testified Thursday t...   \n",
              "\n",
              "                                                     text  \n",
              "78333   Eight Marines dead in suicide car bombing A su...  \n",
              "29574   UPDATE 1-Blackburn chance too good to miss, sa...  \n",
              "112831  Diamondbacks Keep Busy; Ortiz Heading Home  AN...  \n",
              "66261   Crude price up slightly as market braces for U...  \n",
              "48580   Accountant testifies he lied about Enron barge...  "
            ],
            "text/html": [
              "\n",
              "  <div id=\"df-c0bb6893-cc2b-482f-a382-764b22911d0b\">\n",
              "    <div class=\"colab-df-container\">\n",
              "      <div>\n",
              "<style scoped>\n",
              "    .dataframe tbody tr th:only-of-type {\n",
              "        vertical-align: middle;\n",
              "    }\n",
              "\n",
              "    .dataframe tbody tr th {\n",
              "        vertical-align: top;\n",
              "    }\n",
              "\n",
              "    .dataframe thead th {\n",
              "        text-align: right;\n",
              "    }\n",
              "</style>\n",
              "<table border=\"1\" class=\"dataframe\">\n",
              "  <thead>\n",
              "    <tr style=\"text-align: right;\">\n",
              "      <th></th>\n",
              "      <th>label</th>\n",
              "      <th>title</th>\n",
              "      <th>lead</th>\n",
              "      <th>text</th>\n",
              "    </tr>\n",
              "  </thead>\n",
              "  <tbody>\n",
              "    <tr>\n",
              "      <th>78333</th>\n",
              "      <td>world</td>\n",
              "      <td>Eight Marines dead in suicide car bombing</td>\n",
              "      <td>A suicide attacker detonated a car bomb yester...</td>\n",
              "      <td>Eight Marines dead in suicide car bombing A su...</td>\n",
              "    </tr>\n",
              "    <tr>\n",
              "      <th>29574</th>\n",
              "      <td>sport</td>\n",
              "      <td>UPDATE 1-Blackburn chance too good to miss, sa...</td>\n",
              "      <td>New Blackburn Rovers manager Mark Hughes says ...</td>\n",
              "      <td>UPDATE 1-Blackburn chance too good to miss, sa...</td>\n",
              "    </tr>\n",
              "    <tr>\n",
              "      <th>112831</th>\n",
              "      <td>sport</td>\n",
              "      <td>Diamondbacks Keep Busy; Ortiz Heading Home</td>\n",
              "      <td>ANAHEIM, Calif., (Sports Network) - The Arizo...</td>\n",
              "      <td>Diamondbacks Keep Busy; Ortiz Heading Home  AN...</td>\n",
              "    </tr>\n",
              "    <tr>\n",
              "      <th>66261</th>\n",
              "      <td>business</td>\n",
              "      <td>Crude price up slightly as market braces for U...</td>\n",
              "      <td>Crude oil prices rose slightly Wednesday after...</td>\n",
              "      <td>Crude price up slightly as market braces for U...</td>\n",
              "    </tr>\n",
              "    <tr>\n",
              "      <th>48580</th>\n",
              "      <td>business</td>\n",
              "      <td>Accountant testifies he lied about Enron barge...</td>\n",
              "      <td>A former Enron accountant testified Thursday t...</td>\n",
              "      <td>Accountant testifies he lied about Enron barge...</td>\n",
              "    </tr>\n",
              "  </tbody>\n",
              "</table>\n",
              "</div>\n",
              "      <button class=\"colab-df-convert\" onclick=\"convertToInteractive('df-c0bb6893-cc2b-482f-a382-764b22911d0b')\"\n",
              "              title=\"Convert this dataframe to an interactive table.\"\n",
              "              style=\"display:none;\">\n",
              "        \n",
              "  <svg xmlns=\"http://www.w3.org/2000/svg\" height=\"24px\"viewBox=\"0 0 24 24\"\n",
              "       width=\"24px\">\n",
              "    <path d=\"M0 0h24v24H0V0z\" fill=\"none\"/>\n",
              "    <path d=\"M18.56 5.44l.94 2.06.94-2.06 2.06-.94-2.06-.94-.94-2.06-.94 2.06-2.06.94zm-11 1L8.5 8.5l.94-2.06 2.06-.94-2.06-.94L8.5 2.5l-.94 2.06-2.06.94zm10 10l.94 2.06.94-2.06 2.06-.94-2.06-.94-.94-2.06-.94 2.06-2.06.94z\"/><path d=\"M17.41 7.96l-1.37-1.37c-.4-.4-.92-.59-1.43-.59-.52 0-1.04.2-1.43.59L10.3 9.45l-7.72 7.72c-.78.78-.78 2.05 0 2.83L4 21.41c.39.39.9.59 1.41.59.51 0 1.02-.2 1.41-.59l7.78-7.78 2.81-2.81c.8-.78.8-2.07 0-2.86zM5.41 20L4 18.59l7.72-7.72 1.47 1.35L5.41 20z\"/>\n",
              "  </svg>\n",
              "      </button>\n",
              "      \n",
              "  <style>\n",
              "    .colab-df-container {\n",
              "      display:flex;\n",
              "      flex-wrap:wrap;\n",
              "      gap: 12px;\n",
              "    }\n",
              "\n",
              "    .colab-df-convert {\n",
              "      background-color: #E8F0FE;\n",
              "      border: none;\n",
              "      border-radius: 50%;\n",
              "      cursor: pointer;\n",
              "      display: none;\n",
              "      fill: #1967D2;\n",
              "      height: 32px;\n",
              "      padding: 0 0 0 0;\n",
              "      width: 32px;\n",
              "    }\n",
              "\n",
              "    .colab-df-convert:hover {\n",
              "      background-color: #E2EBFA;\n",
              "      box-shadow: 0px 1px 2px rgba(60, 64, 67, 0.3), 0px 1px 3px 1px rgba(60, 64, 67, 0.15);\n",
              "      fill: #174EA6;\n",
              "    }\n",
              "\n",
              "    [theme=dark] .colab-df-convert {\n",
              "      background-color: #3B4455;\n",
              "      fill: #D2E3FC;\n",
              "    }\n",
              "\n",
              "    [theme=dark] .colab-df-convert:hover {\n",
              "      background-color: #434B5C;\n",
              "      box-shadow: 0px 1px 3px 1px rgba(0, 0, 0, 0.15);\n",
              "      filter: drop-shadow(0px 1px 2px rgba(0, 0, 0, 0.3));\n",
              "      fill: #FFFFFF;\n",
              "    }\n",
              "  </style>\n",
              "\n",
              "      <script>\n",
              "        const buttonEl =\n",
              "          document.querySelector('#df-c0bb6893-cc2b-482f-a382-764b22911d0b button.colab-df-convert');\n",
              "        buttonEl.style.display =\n",
              "          google.colab.kernel.accessAllowed ? 'block' : 'none';\n",
              "\n",
              "        async function convertToInteractive(key) {\n",
              "          const element = document.querySelector('#df-c0bb6893-cc2b-482f-a382-764b22911d0b');\n",
              "          const dataTable =\n",
              "            await google.colab.kernel.invokeFunction('convertToInteractive',\n",
              "                                                     [key], {});\n",
              "          if (!dataTable) return;\n",
              "\n",
              "          const docLinkHtml = 'Like what you see? Visit the ' +\n",
              "            '<a target=\"_blank\" href=https://colab.research.google.com/notebooks/data_table.ipynb>data table notebook</a>'\n",
              "            + ' to learn more about interactive tables.';\n",
              "          element.innerHTML = '';\n",
              "          dataTable['output_type'] = 'display_data';\n",
              "          await google.colab.output.renderOutput(dataTable, element);\n",
              "          const docLink = document.createElement('div');\n",
              "          docLink.innerHTML = docLinkHtml;\n",
              "          element.appendChild(docLink);\n",
              "        }\n",
              "      </script>\n",
              "    </div>\n",
              "  </div>\n",
              "  "
            ]
          },
          "metadata": {},
          "execution_count": 23
        }
      ],
      "source": [
        "import pandas as pd\n",
        "import nltk\n",
        "df = pd.read_csv('train.csv')\n",
        "\n",
        "df.columns = [\"label\", \"title\", \"lead\"]\n",
        "label_map = {1:\"world\", 2:\"sport\", 3:\"business\", 4:\"sci/tech\"}\n",
        "def replace_label(x):\n",
        "\treturn label_map[x]\n",
        "df[\"label\"] = df[\"label\"].apply(replace_label) \n",
        "df[\"text\"] = df[\"title\"] + \" \" + df[\"lead\"]\n",
        "df = df.sample(n=10000) # # only use 10K datapoints\n",
        "df.head()"
      ]
    },
    {
      "cell_type": "code",
      "execution_count": null,
      "id": "61ec5921",
      "metadata": {
        "id": "61ec5921"
      },
      "outputs": [],
      "source": [
        "import spacy\n",
        "nlp = spacy.load('en_core_web_sm')\n",
        "#TODO preprocess the corpus using spacy\n",
        "\n",
        "def preprocess(text):\n",
        "    doc = nlp(text)\n",
        "    tokens = [token for token in doc if not token.is_stop and token.is_punct]\n",
        "    return tokens\n",
        "\n",
        "df['preprocessed_text'] = df['text'].apply(preprocess)"
      ]
    },
    {
      "cell_type": "markdown",
      "id": "9a0ae310",
      "metadata": {
        "id": "9a0ae310"
      },
      "source": [
        "### Information Extraction"
      ]
    },
    {
      "cell_type": "code",
      "execution_count": null,
      "id": "8fbd7718",
      "metadata": {
        "id": "8fbd7718",
        "colab": {
          "base_uri": "https://localhost:8080/"
        },
        "outputId": "b167dca8-788b-4e37-c031-1b9998161db9"
      },
      "outputs": [
        {
          "output_type": "stream",
          "name": "stdout",
          "text": [
            "[((), 9959), ((('-', 'say'),), 3), ((('.', 'score'),), 2), ((('-', 'talk'),), 2), ((('-', 'get'),), 2), ((('!', 'buy'),), 1), ((('.', 'urge'),), 1), ((('-', 'come'),), 1), ((('.', 'be'),), 1), ((('.', 'throw'),), 1)]\n"
          ]
        }
      ],
      "source": [
        "def extract_subject_verb_pairs(sent):\n",
        "    subjs = [w for w in sent if w.dep_ == \"nsubj\"]\n",
        "    pairs = [(w.lemma_.lower(), w.head.lemma_.lower()) for w in subjs]\n",
        "    return pairs\n",
        "##TODO extract the subject-verbs pairs and print the result for the second document\n",
        "\n",
        "#text = \"This is a sample sentence to test the tokenizer.\"\n",
        "#tokens = [token for token in nlp(text) if not token.is_stop and token.is_punct]\n",
        "\n",
        "#print(extract_subject_verb_pairs(tokens))\n",
        "\n",
        "sub_verb_pairs = df['preprocessed_text'].apply(extract_subject_verb_pairs)\n",
        "\n",
        "from collections import Counter\n",
        "counter = Counter()\n",
        "\n",
        "##TODO create a list ranking the most common pairs and print the first 10 items\n",
        "\n",
        "pairs = [tuple(pair) for pair in sub_verb_pairs]\n",
        "\n",
        "nb_occ_pairs = Counter(pairs)\n",
        "\n",
        "sorted_pairs = sorted(nb_occ_pairs.items(), key=lambda x: x[1], reverse=True)\n",
        "\n",
        "print(nb_occ_pairs.most_common(10))"
      ]
    },
    {
      "cell_type": "code",
      "execution_count": null,
      "id": "c2c30e56",
      "metadata": {
        "id": "c2c30e56",
        "colab": {
          "base_uri": "https://localhost:8080/"
        },
        "outputId": "de95cfc2-570d-4a0c-99b2-bee500cc9ddf"
      },
      "outputs": [
        {
          "output_type": "stream",
          "name": "stdout",
          "text": [
            "[((), 9927), ((('-', 'send'),), 3), ((('.', 'lead'),), 3), ((('-', 'win'),), 3), ((('-', 'claim'),), 2), ((('-', 'receive'),), 2), ((('.', 'defeat'),), 2), ((('#', 'halt'),), 1), ((('-', 'reach'),), 1), ((('-', 'launch'),), 1)]\n"
          ]
        }
      ],
      "source": [
        "##TODO do the same for verbs-object pairs ('dobj')\n",
        "\n",
        "def extract_verbs_obj_pairs(sent):\n",
        "    subjs = [w for w in sent if w.dep_ == \"dobj\"]\n",
        "    pairs = [(w.lemma_.lower(), w.head.lemma_.lower()) for w in subjs]\n",
        "    return pairs\n",
        "\n",
        "verb_obj_pairs = df['preprocessed_text'].apply(extract_verbs_obj_pairs)\n",
        "\n",
        "##TODO create a list ranking the most common pairs and print the first 10 items\n",
        "\n",
        "pairs = [tuple(pair) for pair in verb_obj_pairs]\n",
        "\n",
        "nb_occ_pairs = Counter(pairs)\n",
        "\n",
        "sorted_pairs = sorted(nb_occ_pairs.items(), key=lambda x: x[1], reverse=True)\n",
        "\n",
        "print(nb_occ_pairs.most_common(10))"
      ]
    },
    {
      "cell_type": "code",
      "execution_count": null,
      "id": "aad55039",
      "metadata": {
        "id": "aad55039",
        "colab": {
          "base_uri": "https://localhost:8080/"
        },
        "outputId": "b38a0c75-f06f-4300-cfc6-f7db5ac5fe46"
      },
      "outputs": [
        {
          "output_type": "stream",
          "name": "stdout",
          "text": [
            "[((), 9763), ((('-', 'drug'),), 6), ((('-', 'campaign'),), 4), ((('-', 'law'),), 4), ((('-', 'president'),), 4), ((('-', 'trade'),), 3), ((('-', 'protest'),), 3), ((('-', 'group'),), 3), ((('-', 'ap'),), 3), ((('-', 'minister'),), 3)]\n"
          ]
        }
      ],
      "source": [
        "##TODO do the same for adjectives-nouns pairs ('amod')\n",
        "\n",
        "def extract_adj_nouns_pairs(sent):\n",
        "    subjs = [w for w in sent if w.dep_ == \"amod\"]\n",
        "    pairs = [(w.lemma_.lower(), w.head.lemma_.lower()) for w in subjs]\n",
        "    return pairs\n",
        "\n",
        "adj_nouns_pairs = df['preprocessed_text'].apply(extract_adj_nouns_pairs)\n",
        "\n",
        "##TODO create a list ranking the most common pairs and print the first 10 items\n",
        "\n",
        "pairs = [tuple(pair) for pair in adj_nouns_pairs]\n",
        "\n",
        "nb_occ_pairs = Counter(pairs)\n",
        "\n",
        "sorted_pairs = sorted(nb_occ_pairs.items(), key=lambda x: x[1], reverse=True)\n",
        "\n",
        "print(nb_occ_pairs.most_common(10))"
      ]
    },
    {
      "cell_type": "markdown",
      "id": "d1273253",
      "metadata": {
        "id": "d1273253"
      },
      "source": [
        "### Exploring cross label dependencies"
      ]
    },
    {
      "cell_type": "code",
      "execution_count": null,
      "id": "06d19500",
      "metadata": {
        "id": "06d19500",
        "colab": {
          "base_uri": "https://localhost:8080/"
        },
        "outputId": "8392507f-06e1-4d6b-8677-f71ede45ec92"
      },
      "outputs": [
        {
          "output_type": "stream",
          "name": "stdout",
          "text": [
            ", .\n"
          ]
        }
      ],
      "source": [
        "##TODO extract all the subject-verbs and verbs-object pairs for the verb \"rise\"\n",
        "\n",
        "def extract_verb_pairs(sent, verb):\n",
        "    subj_verb = [w for w in sent if w.dep_ == \"nsubj\" and w.text == verb]\n",
        "    subj_verb_pairs = [(w.lemma_.lower(), w.head.lemma_.lower()) for w in subj_verb]\n",
        "    \n",
        "    verb_obj = [w for w in sent if w.dep_ == \"dobj\" and w.text == verb]\n",
        "    verb_obj_pairs = [(w.head.lemma_.lower(), w.lemma_.lower()) for w in verb_obj]\n",
        "    \n",
        "    return subj_verb_pairs, verb_obj_pairs\n",
        "\n",
        "verb = \"rise\"\n",
        "subj_verb_pairs = []\n",
        "verb_obj_pairs = []\n",
        "\n",
        "# Multiple sentences lead to errors\n",
        "preprocessed_text = df['preprocessed_text'].apply(lambda x: ' '.join([token.text for token in x]))\n",
        "\n",
        "for doc in nlp.pipe(preprocessed_text):\n",
        "    for sent in doc.sents:\n",
        "        sv_pairs, vo_pairs = extract_verb_pairs(sent, verb)\n",
        "        subj_verb_pairs.extend(sv_pairs)\n",
        "        verb_obj_pairs.extend(vo_pairs)\n"
      ]
    },
    {
      "cell_type": "code",
      "source": [
        "print(verb_obj_pairs)"
      ],
      "metadata": {
        "colab": {
          "base_uri": "https://localhost:8080/"
        },
        "id": "Ou5dOIIXhHf6",
        "outputId": "2f0d405f-94c8-43a8-c8b0-c0862fe040a0"
      },
      "id": "Ou5dOIIXhHf6",
      "execution_count": null,
      "outputs": [
        {
          "output_type": "stream",
          "name": "stdout",
          "text": [
            "[]\n"
          ]
        }
      ]
    },
    {
      "cell_type": "code",
      "execution_count": null,
      "id": "75649d5e",
      "metadata": {
        "id": "75649d5e"
      },
      "outputs": [],
      "source": [
        "##TODO for each label create a list ranking the most common subject-verbs pairs and one for the most common verbs-object pairs\n",
        "##TODO print the 10 most common pairs for each of the two lists for the labels \"world\" and \"sci/tech\""
      ]
    },
    {
      "cell_type": "code",
      "source": [
        "def extract_sub_verb_pairs(sent):\n",
        "    subj_verb = [w for w in sent if w.dep_ == \"nsubj\"]\n",
        "    subj_verb_pairs = [(w.lemma_.lower(), w.head.lemma_.lower()) for w in subj_verb]\n",
        "    \n",
        "    verb_obj = [w for w in sent if w.dep_ == \"dobj\"]\n",
        "    verb_obj_pairs = [(w.head.lemma_.lower(), w.lemma_.lower()) for w in verb_obj]\n",
        "    \n",
        "    return subj_verb_pairs, verb_obj_pairs\n",
        "\n",
        "\n",
        "labels = [label[0] for label in df.groupby('label')['label'].unique()]\n",
        "\n",
        "label_pairs = {}\n",
        "\n",
        "for i, label in enumerate(df.groupby('label')['preprocessed_text']):\n",
        "    label_pairs['{}_sub_verb'.format(labels[i])] = label[1].apply(lambda x: extract_verb_pairs(x)[0])\n",
        "    label_pairs['{}_verb_sub'.format(labels[i])] = label[1].apply(lambda x: extract_verb_pairs(x)[1])\n",
        "\n",
        "print_labels = ['world', 'sci/tech']\n",
        "\n",
        "for label in label_pairs.keys():\n",
        "    if label in print_labels:\n",
        "        counter = Counter(label_pairs[label])\n",
        "        print('{}: {}'.format(label, counter.most_common(10)))"
      ],
      "metadata": {
        "colab": {
          "base_uri": "https://localhost:8080/"
        },
        "id": "RkQ8VEkMx4TQ",
        "outputId": "72187739-b263-4add-b10f-c2b72c4d4428"
      },
      "id": "RkQ8VEkMx4TQ",
      "execution_count": null,
      "outputs": [
        {
          "output_type": "stream",
          "name": "stdout",
          "text": [
            "dict_keys(['business_sub_verb', 'business_verb_sub', 'sci/tech_sub_verb', 'sci/tech_verb_sub', 'sport_sub_verb', 'sport_verb_sub', 'world_sub_verb', 'world_verb_sub'])\n"
          ]
        }
      ]
    },
    {
      "cell_type": "code",
      "source": [
        "### The functions would always give back empty lists and I was not able to find out why. In a previous question there was \n",
        "### similar problem, which however could be solved by using tuple(pairs). This one however remained"
      ],
      "metadata": {
        "id": "PaFRAcc3zO0H"
      },
      "id": "PaFRAcc3zO0H",
      "execution_count": null,
      "outputs": []
    }
  ],
  "metadata": {
    "kernelspec": {
      "display_name": "pytorch",
      "language": "python",
      "name": "python3"
    },
    "language_info": {
      "codemirror_mode": {
        "name": "ipython",
        "version": 3
      },
      "file_extension": ".py",
      "mimetype": "text/x-python",
      "name": "python",
      "nbconvert_exporter": "python",
      "pygments_lexer": "ipython3",
      "version": "3.7.11"
    },
    "toc": {
      "base_numbering": 1,
      "nav_menu": {},
      "number_sections": true,
      "sideBar": true,
      "skip_h1_title": false,
      "title_cell": "Table of Contents",
      "title_sidebar": "Contents",
      "toc_cell": false,
      "toc_position": {},
      "toc_section_display": true,
      "toc_window_display": false
    },
    "vscode": {
      "interpreter": {
        "hash": "d73fbafa1c1ce4c8cd6f07277ecbf2d62d7720c8bfdb6bdbaeeaf6dba6dd25dd"
      }
    },
    "colab": {
      "provenance": []
    }
  },
  "nbformat": 4,
  "nbformat_minor": 5
}