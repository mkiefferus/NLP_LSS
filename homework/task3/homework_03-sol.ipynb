{
  "cells": [
    {
      "cell_type": "markdown",
      "metadata": {
        "id": "4uqIDL5TELq2"
      },
      "source": [
        "# HW03: Distance and Topic Model"
      ],
      "id": "4uqIDL5TELq2"
    },
    {
      "cell_type": "markdown",
      "metadata": {
        "id": "BROoam_wELq3"
      },
      "source": [
        "Remember that these homework work as a completion grade. **You can skip one section without losing credit.**"
      ],
      "id": "BROoam_wELq3"
    },
    {
      "cell_type": "markdown",
      "metadata": {
        "id": "pwac0WPhELq3"
      },
      "source": [
        "## Load and Pre-process Text"
      ],
      "id": "pwac0WPhELq3"
    },
    {
      "cell_type": "code",
      "execution_count": 1,
      "metadata": {
        "id": "bmcziBH4ELq3",
        "colab": {
          "base_uri": "https://localhost:8080/",
          "height": 397
        },
        "outputId": "afb8b4b6-61e7-40d2-c3e1-f3be97317c1b"
      },
      "outputs": [
        {
          "output_type": "stream",
          "name": "stdout",
          "text": [
            "--2023-03-17 06:22:04--  https://raw.githubusercontent.com/mhjabreel/CharCnn_Keras/master/data/ag_news_csv/train.csv\n",
            "Resolving raw.githubusercontent.com (raw.githubusercontent.com)... 185.199.108.133, 185.199.109.133, 185.199.110.133, ...\n",
            "Connecting to raw.githubusercontent.com (raw.githubusercontent.com)|185.199.108.133|:443... connected.\n",
            "HTTP request sent, awaiting response... 200 OK\n",
            "Length: 29470338 (28M) [text/plain]\n",
            "Saving to: ‘train.csv’\n",
            "\n",
            "train.csv           100%[===================>]  28.10M  --.-KB/s    in 0.1s    \n",
            "\n",
            "2023-03-17 06:22:06 (201 MB/s) - ‘train.csv’ saved [29470338/29470338]\n",
            "\n"
          ]
        },
        {
          "output_type": "execute_result",
          "data": {
            "text/plain": [
              "      label                                              title  \\\n",
              "0  business  Carlyle Looks Toward Commercial Aerospace (Reu...   \n",
              "1  business    Oil and Economy Cloud Stocks' Outlook (Reuters)   \n",
              "2  business  Iraq Halts Oil Exports from Main Southern Pipe...   \n",
              "3  business  Oil prices soar to all-time record, posing new...   \n",
              "4  business        Stocks End Up, But Near Year Lows (Reuters)   \n",
              "\n",
              "                                                lead  \\\n",
              "0  Reuters - Private investment firm Carlyle Grou...   \n",
              "1  Reuters - Soaring crude prices plus worries\\ab...   \n",
              "2  Reuters - Authorities have halted oil export\\f...   \n",
              "3  AFP - Tearaway world oil prices, toppling reco...   \n",
              "4  Reuters - Stocks ended slightly higher on Frid...   \n",
              "\n",
              "                                                text  \n",
              "0  Carlyle Looks Toward Commercial Aerospace (Reu...  \n",
              "1  Oil and Economy Cloud Stocks' Outlook (Reuters...  \n",
              "2  Iraq Halts Oil Exports from Main Southern Pipe...  \n",
              "3  Oil prices soar to all-time record, posing new...  \n",
              "4  Stocks End Up, But Near Year Lows (Reuters) Re...  "
            ],
            "text/html": [
              "\n",
              "  <div id=\"df-f6d32c07-fc2a-4099-99dd-e06d1164235d\">\n",
              "    <div class=\"colab-df-container\">\n",
              "      <div>\n",
              "<style scoped>\n",
              "    .dataframe tbody tr th:only-of-type {\n",
              "        vertical-align: middle;\n",
              "    }\n",
              "\n",
              "    .dataframe tbody tr th {\n",
              "        vertical-align: top;\n",
              "    }\n",
              "\n",
              "    .dataframe thead th {\n",
              "        text-align: right;\n",
              "    }\n",
              "</style>\n",
              "<table border=\"1\" class=\"dataframe\">\n",
              "  <thead>\n",
              "    <tr style=\"text-align: right;\">\n",
              "      <th></th>\n",
              "      <th>label</th>\n",
              "      <th>title</th>\n",
              "      <th>lead</th>\n",
              "      <th>text</th>\n",
              "    </tr>\n",
              "  </thead>\n",
              "  <tbody>\n",
              "    <tr>\n",
              "      <th>0</th>\n",
              "      <td>business</td>\n",
              "      <td>Carlyle Looks Toward Commercial Aerospace (Reu...</td>\n",
              "      <td>Reuters - Private investment firm Carlyle Grou...</td>\n",
              "      <td>Carlyle Looks Toward Commercial Aerospace (Reu...</td>\n",
              "    </tr>\n",
              "    <tr>\n",
              "      <th>1</th>\n",
              "      <td>business</td>\n",
              "      <td>Oil and Economy Cloud Stocks' Outlook (Reuters)</td>\n",
              "      <td>Reuters - Soaring crude prices plus worries\\ab...</td>\n",
              "      <td>Oil and Economy Cloud Stocks' Outlook (Reuters...</td>\n",
              "    </tr>\n",
              "    <tr>\n",
              "      <th>2</th>\n",
              "      <td>business</td>\n",
              "      <td>Iraq Halts Oil Exports from Main Southern Pipe...</td>\n",
              "      <td>Reuters - Authorities have halted oil export\\f...</td>\n",
              "      <td>Iraq Halts Oil Exports from Main Southern Pipe...</td>\n",
              "    </tr>\n",
              "    <tr>\n",
              "      <th>3</th>\n",
              "      <td>business</td>\n",
              "      <td>Oil prices soar to all-time record, posing new...</td>\n",
              "      <td>AFP - Tearaway world oil prices, toppling reco...</td>\n",
              "      <td>Oil prices soar to all-time record, posing new...</td>\n",
              "    </tr>\n",
              "    <tr>\n",
              "      <th>4</th>\n",
              "      <td>business</td>\n",
              "      <td>Stocks End Up, But Near Year Lows (Reuters)</td>\n",
              "      <td>Reuters - Stocks ended slightly higher on Frid...</td>\n",
              "      <td>Stocks End Up, But Near Year Lows (Reuters) Re...</td>\n",
              "    </tr>\n",
              "  </tbody>\n",
              "</table>\n",
              "</div>\n",
              "      <button class=\"colab-df-convert\" onclick=\"convertToInteractive('df-f6d32c07-fc2a-4099-99dd-e06d1164235d')\"\n",
              "              title=\"Convert this dataframe to an interactive table.\"\n",
              "              style=\"display:none;\">\n",
              "        \n",
              "  <svg xmlns=\"http://www.w3.org/2000/svg\" height=\"24px\"viewBox=\"0 0 24 24\"\n",
              "       width=\"24px\">\n",
              "    <path d=\"M0 0h24v24H0V0z\" fill=\"none\"/>\n",
              "    <path d=\"M18.56 5.44l.94 2.06.94-2.06 2.06-.94-2.06-.94-.94-2.06-.94 2.06-2.06.94zm-11 1L8.5 8.5l.94-2.06 2.06-.94-2.06-.94L8.5 2.5l-.94 2.06-2.06.94zm10 10l.94 2.06.94-2.06 2.06-.94-2.06-.94-.94-2.06-.94 2.06-2.06.94z\"/><path d=\"M17.41 7.96l-1.37-1.37c-.4-.4-.92-.59-1.43-.59-.52 0-1.04.2-1.43.59L10.3 9.45l-7.72 7.72c-.78.78-.78 2.05 0 2.83L4 21.41c.39.39.9.59 1.41.59.51 0 1.02-.2 1.41-.59l7.78-7.78 2.81-2.81c.8-.78.8-2.07 0-2.86zM5.41 20L4 18.59l7.72-7.72 1.47 1.35L5.41 20z\"/>\n",
              "  </svg>\n",
              "      </button>\n",
              "      \n",
              "  <style>\n",
              "    .colab-df-container {\n",
              "      display:flex;\n",
              "      flex-wrap:wrap;\n",
              "      gap: 12px;\n",
              "    }\n",
              "\n",
              "    .colab-df-convert {\n",
              "      background-color: #E8F0FE;\n",
              "      border: none;\n",
              "      border-radius: 50%;\n",
              "      cursor: pointer;\n",
              "      display: none;\n",
              "      fill: #1967D2;\n",
              "      height: 32px;\n",
              "      padding: 0 0 0 0;\n",
              "      width: 32px;\n",
              "    }\n",
              "\n",
              "    .colab-df-convert:hover {\n",
              "      background-color: #E2EBFA;\n",
              "      box-shadow: 0px 1px 2px rgba(60, 64, 67, 0.3), 0px 1px 3px 1px rgba(60, 64, 67, 0.15);\n",
              "      fill: #174EA6;\n",
              "    }\n",
              "\n",
              "    [theme=dark] .colab-df-convert {\n",
              "      background-color: #3B4455;\n",
              "      fill: #D2E3FC;\n",
              "    }\n",
              "\n",
              "    [theme=dark] .colab-df-convert:hover {\n",
              "      background-color: #434B5C;\n",
              "      box-shadow: 0px 1px 3px 1px rgba(0, 0, 0, 0.15);\n",
              "      filter: drop-shadow(0px 1px 2px rgba(0, 0, 0, 0.3));\n",
              "      fill: #FFFFFF;\n",
              "    }\n",
              "  </style>\n",
              "\n",
              "      <script>\n",
              "        const buttonEl =\n",
              "          document.querySelector('#df-f6d32c07-fc2a-4099-99dd-e06d1164235d button.colab-df-convert');\n",
              "        buttonEl.style.display =\n",
              "          google.colab.kernel.accessAllowed ? 'block' : 'none';\n",
              "\n",
              "        async function convertToInteractive(key) {\n",
              "          const element = document.querySelector('#df-f6d32c07-fc2a-4099-99dd-e06d1164235d');\n",
              "          const dataTable =\n",
              "            await google.colab.kernel.invokeFunction('convertToInteractive',\n",
              "                                                     [key], {});\n",
              "          if (!dataTable) return;\n",
              "\n",
              "          const docLinkHtml = 'Like what you see? Visit the ' +\n",
              "            '<a target=\"_blank\" href=https://colab.research.google.com/notebooks/data_table.ipynb>data table notebook</a>'\n",
              "            + ' to learn more about interactive tables.';\n",
              "          element.innerHTML = '';\n",
              "          dataTable['output_type'] = 'display_data';\n",
              "          await google.colab.output.renderOutput(dataTable, element);\n",
              "          const docLink = document.createElement('div');\n",
              "          docLink.innerHTML = docLinkHtml;\n",
              "          element.appendChild(docLink);\n",
              "        }\n",
              "      </script>\n",
              "    </div>\n",
              "  </div>\n",
              "  "
            ]
          },
          "metadata": {},
          "execution_count": 1
        }
      ],
      "source": [
        "#Import the AG news dataset (same as hw01)\n",
        "#Download them from here \n",
        "!wget https://raw.githubusercontent.com/mhjabreel/CharCnn_Keras/master/data/ag_news_csv/train.csv\n",
        "\n",
        "import pandas as pd\n",
        "import nltk\n",
        "df = pd.read_csv('train.csv')\n",
        "\n",
        "df.columns = [\"label\", \"title\", \"lead\"]\n",
        "label_map = {1:\"world\", 2:\"sport\", 3:\"business\", 4:\"sci/tech\"}\n",
        "def replace_label(x):\n",
        "\treturn label_map[x]\n",
        "df[\"label\"] = df[\"label\"].apply(replace_label) \n",
        "df[\"text\"] = df[\"title\"] + \" \" + df[\"lead\"]\n",
        "df.head()"
      ],
      "id": "bmcziBH4ELq3"
    },
    {
      "cell_type": "code",
      "execution_count": 2,
      "metadata": {
        "id": "SXfvpd-LELq4",
        "colab": {
          "base_uri": "https://localhost:8080/"
        },
        "outputId": "b5d99b37-05c5-41de-847c-2a6528c52aba"
      },
      "outputs": [
        {
          "output_type": "stream",
          "name": "stderr",
          "text": [
            "/usr/local/lib/python3.9/dist-packages/torch/cuda/__init__.py:497: UserWarning: Can't initialize NVML\n",
            "  warnings.warn(\"Can't initialize NVML\")\n"
          ]
        }
      ],
      "source": [
        "import spacy\n",
        "dfs = df.sample(200)\n",
        "nlp = spacy.load('en_core_web_sm')\n",
        "from sklearn.feature_extraction.text import TfidfVectorizer\n",
        "\n",
        "##TODO pre-process text as you did in HW02\n",
        "import spacy\n",
        "nlp = spacy.load('en_core_web_sm')\n",
        "def tokenize(x):\n",
        "    return [w.lemma_.lower() for w in nlp(x) if not w.is_stop and not w.is_punct and not w.is_digit]\n",
        "dfs[\"tokens\"] = dfs[\"text\"].apply(lambda x: tokenize(x))\n",
        "dfs[\"preprocessed\"] = dfs['tokens'].apply(lambda x: ' '.join(x))\n",
        "##TODO vectorize the pre-processed text using TfidfVectorizer\n",
        "vec = TfidfVectorizer(min_df=0.01, # at min 1% of docs\n",
        "                        max_df=.9,  \n",
        "                        max_features=1000,\n",
        "                        stop_words='english',\n",
        "                        use_idf=True,\n",
        "                        ngram_range=(1,3))\n",
        "X = vec.fit_transform(dfs['preprocessed']).toarray()"
      ],
      "id": "SXfvpd-LELq4"
    },
    {
      "cell_type": "markdown",
      "metadata": {
        "id": "Xv-PoYE1ELq4"
      },
      "source": [
        "## Cosine Similarity and PCA"
      ],
      "id": "Xv-PoYE1ELq4"
    },
    {
      "cell_type": "code",
      "execution_count": 3,
      "metadata": {
        "id": "CbtPCqjaELq4",
        "colab": {
          "base_uri": "https://localhost:8080/"
        },
        "outputId": "69bb97a1-efc2-41ac-85fd-6b590922b32c"
      },
      "outputs": [
        {
          "output_type": "stream",
          "name": "stdout",
          "text": [
            "Annan refuses to resign over Iraq programme The United Nations Secretary General, Kofi Annan, has said he will not resign over the controversial Iraqi Oil-for-Food programme.\n",
            " \n",
            "UN Calls For Cease-Fire As Congo Factions Continue Fighting The United Nations has called on all factions involved in several days of fighting in eastern Congo to agree to a cease-fire. Clashes continued Monday as the United Nations ordered the government \n",
            " \n",
            "NASA Chief O'Keefe to Resign (Reuters) Reuters - NASA Administrator Sean O'Keefe\\plans to resign as head of the U.S. space agency, an official\\familiar with the decision said on Sunday.\n"
          ]
        }
      ],
      "source": [
        "from sklearn.metrics.pairwise import cosine_similarity\n",
        "##TODO compute the cosine similarity for the first 200 snippets and for the first snippet, show the three most similar snippets and their respective cosine similarity scores\n",
        "import numpy as np\n",
        "sim = cosine_similarity(X[:200])\n",
        "\n",
        "text1 = sim[0, :]\n",
        "doc_n_sim = zip(range(len(text1)), text1)\n",
        "doc_n_sim = sorted(doc_n_sim, key=lambda x: x[1], reverse=True)\n",
        "\n",
        "print(dfs.iloc[doc_n_sim[0][0]]['text'])\n",
        "print(' ')\n",
        "print(dfs.iloc[doc_n_sim[1][0]]['text'])\n",
        "print(' ')\n",
        "print(dfs.iloc[doc_n_sim[2][0]]['text'])"
      ],
      "id": "CbtPCqjaELq4"
    },
    {
      "cell_type": "code",
      "execution_count": 7,
      "metadata": {
        "id": "MVg9wiT_ELq4",
        "colab": {
          "base_uri": "https://localhost:8080/"
        },
        "outputId": "7456040b-1c7d-4bff-d260-327a604ae17d"
      },
      "outputs": [
        {
          "output_type": "stream",
          "name": "stdout",
          "text": [
            "The first snippet:\n",
            "Annan refuses to resign over Iraq programme The United Nations Secretary General, Kofi Annan, has said he will not resign over the controversial Iraqi Oil-for-Food programme.\n",
            " \n",
            "Three most similar snippets:\n",
            "Iraq #39;s Oil Ministry hit by explosions Several explosions went off in the Iraqi Oil Ministry compound in central Baghdad on Saturday and witnesses said the explosions were probably caused by a mortar attack.\n",
            " \n",
            "OPEC Can't Rule Out Oil Production Cuts  LONDON (Reuters) - OPEC cannot rule out cutting oil  production if oil prices slide further before the producer  group meets next Friday, a senior OPEC delegate said on Friday.\n",
            " \n",
            "Sky-High Oil Price Down for a Second Day  LONDON (Reuters) - Oil prices fell from record peaks for a  second session on Wednesday as big-money funds took profits  from a searing rally on signs that high commodity prices are  finally starting to dampen demand.\n"
          ]
        }
      ],
      "source": [
        "from sklearn.decomposition import PCA\n",
        "pca = PCA(n_components=3,svd_solver='randomized')\n",
        "\n",
        "##TODO reduce the vectorized data using PCA\n",
        "Xpca = pca.fit_transform(X)\n",
        "##TODO compute again cosine similarity with the reduced version for the first 200 snippets\n",
        "sim_pca = cosine_similarity(Xpca[:200])\n",
        "##TODO for the first snippet, show again its three most similar snippets\n",
        "sim_to_text1 = sim_pca[0, :]\n",
        "doc_n_sim = zip(range(len(sim_to_text1)), sim_to_text1)\n",
        "doc_n_sim = sorted(doc_n_sim, key=lambda x: x[1], reverse=True)\n",
        "\n",
        "print('The first snippet:')\n",
        "print(dfs.iloc[doc_n_sim[0][0]]['text'])\n",
        "print(' ')\n",
        "print('Three most similar snippets:')\n",
        "print(dfs.iloc[doc_n_sim[1][0]]['text'])\n",
        "print(' ')\n",
        "print(dfs.iloc[doc_n_sim[2][0]]['text'])\n",
        "print(' ')\n",
        "print(dfs.iloc[doc_n_sim[3][0]]['text'])"
      ],
      "id": "MVg9wiT_ELq4"
    },
    {
      "cell_type": "markdown",
      "metadata": {
        "id": "UM-7eKCpELq5"
      },
      "source": [
        "Compare the cosine similarity before and after PCA reduction. Did the results change? "
      ],
      "id": "UM-7eKCpELq5"
    },
    {
      "cell_type": "markdown",
      "metadata": {
        "id": "G5XaeYINELq5"
      },
      "source": [
        "## Clustering"
      ],
      "id": "G5XaeYINELq5"
    },
    {
      "cell_type": "code",
      "execution_count": null,
      "metadata": {
        "id": "YemXavPQELq5",
        "colab": {
          "base_uri": "https://localhost:8080/"
        },
        "outputId": "92cc2e49-d063-4b02-d150-50f065ad3660"
      },
      "outputs": [
        {
          "output_type": "stream",
          "name": "stderr",
          "text": [
            "/usr/local/lib/python3.9/dist-packages/sklearn/cluster/_kmeans.py:870: FutureWarning: The default value of `n_init` will change from 10 to 'auto' in 1.4. Set the value of `n_init` explicitly to suppress the warning\n",
            "  warnings.warn(\n"
          ]
        }
      ],
      "source": [
        "# !pip install scikit-learn-extra\n",
        "from sklearn_extra.cluster import KMedoids\n",
        "from sklearn.cluster import KMeans\n",
        "from sklearn.metrics import silhouette_score\n",
        "\n",
        "##TODO create the clusters found with k-medoids clustering nd 5 clusters\n",
        "kmedoids = KMedoids(n_clusters=5)\n",
        "kmedoids.fit(X)\n",
        "doc_clusters = kmedoids.labels_.tolist()\n",
        "dfs['medoid_cluster'] = doc_clusters\n",
        "##TODO create the clusters found with k-means clustering nd 5 clusters\n",
        "kmeans = KMeans(n_clusters=5)\n",
        "kmeans.fit(X)\n",
        "doc_clusters = kmeans.labels_.tolist()\n",
        "dfs['mean_cluster'] = doc_clusters"
      ],
      "id": "YemXavPQELq5"
    },
    {
      "cell_type": "code",
      "execution_count": null,
      "metadata": {
        "id": "ZQ4Y98yKELq5",
        "colab": {
          "base_uri": "https://localhost:8080/",
          "height": 265
        },
        "outputId": "31f3c3dc-690a-48a1-9c93-dd0d0b8462b9"
      },
      "outputs": [
        {
          "output_type": "display_data",
          "data": {
            "text/plain": [
              "<Figure size 432x288 with 1 Axes>"
            ],
            "image/png": "[encoded data removed]"
          },
          "metadata": {
            "needs_background": "light"
          }
        }
      ],
      "source": [
        "##TODO visualize the k-medoids clustering results through Isomap (first reduce the dimensionality to 2 using Isomap, then use scatter plot (plt.scatter()) to visualize)\n",
        "from sklearn.manifold import Isomap\n",
        "import matplotlib.pyplot as plt\n",
        "isomap = Isomap(n_components=2)\n",
        "Xisomap = isomap.fit_transform(X)\n",
        "dfs['isomap_0'], dfs['isomap_1'] = Xisomap[:, 0], Xisomap[:, 1]\n",
        "plt.scatter(dfs.loc[dfs['medoid_cluster'] == 0, 'isomap_0'], dfs.loc[dfs['medoid_cluster'] == 0, 'isomap_1'], color='red')\n",
        "plt.scatter(dfs.loc[dfs['medoid_cluster'] == 1, 'isomap_0'], dfs.loc[dfs['medoid_cluster'] == 1, 'isomap_1'], color='blue')\n",
        "plt.scatter(dfs.loc[dfs['medoid_cluster'] == 2, 'isomap_0'], dfs.loc[dfs['medoid_cluster'] == 2, 'isomap_1'], color='black')\n",
        "plt.scatter(dfs.loc[dfs['medoid_cluster'] == 3, 'isomap_0'], dfs.loc[dfs['medoid_cluster'] == 3, 'isomap_1'], color='green')\n",
        "plt.scatter(dfs.loc[dfs['medoid_cluster'] == 4, 'isomap_0'], dfs.loc[dfs['medoid_cluster'] == 4, 'isomap_1'], color='orange')\n",
        "plt.show()"
      ],
      "id": "ZQ4Y98yKELq5"
    },
    {
      "cell_type": "code",
      "source": [
        "##TODO similarly, visualize the k-means results\n",
        "plt.scatter(dfs.loc[dfs['mean_cluster'] == 0, 'isomap_0'], dfs.loc[dfs['mean_cluster'] == 0, 'isomap_1'], color='red')\n",
        "plt.scatter(dfs.loc[dfs['mean_cluster'] == 1, 'isomap_0'], dfs.loc[dfs['mean_cluster'] == 1, 'isomap_1'], color='blue')\n",
        "plt.scatter(dfs.loc[dfs['mean_cluster'] == 2, 'isomap_0'], dfs.loc[dfs['mean_cluster'] == 2, 'isomap_1'], color='black')\n",
        "plt.scatter(dfs.loc[dfs['mean_cluster'] == 3, 'isomap_0'], dfs.loc[dfs['mean_cluster'] == 3, 'isomap_1'], color='green')\n",
        "plt.scatter(dfs.loc[dfs['mean_cluster'] == 4, 'isomap_0'], dfs.loc[dfs['mean_cluster'] == 4, 'isomap_1'], color='orange')\n",
        "plt.show()"
      ],
      "metadata": {
        "colab": {
          "base_uri": "https://localhost:8080/",
          "height": 265
        },
        "id": "mT0YQfX-z1YL",
        "outputId": "19f49b49-6640-45d4-ba04-181eb66abd81"
      },
      "id": "mT0YQfX-z1YL",
      "execution_count": null,
      "outputs": [
        {
          "output_type": "display_data",
          "data": {
            "text/plain": [
              "<Figure size 432x288 with 1 Axes>"
            ],
            "image/png": "[encoded data removed]"
          },
          "metadata": {
            "needs_background": "light"
          }
        }
      ]
    },
    {
      "cell_type": "markdown",
      "metadata": {
        "id": "Q6ioDcP-ELq5"
      },
      "source": [
        "## Topic Modeling: LDA"
      ],
      "id": "Q6ioDcP-ELq5"
    },
    {
      "cell_type": "markdown",
      "metadata": {
        "id": "ev37xRqwELq5"
      },
      "source": [
        "For this part you will need to use LDA Mallet. If you cannot have Mallet run, you can use the simple LDA algorithm "
      ],
      "id": "ev37xRqwELq5"
    },
    {
      "cell_type": "code",
      "execution_count": null,
      "metadata": {
        "id": "kjLuOgsHELq5",
        "colab": {
          "base_uri": "https://localhost:8080/"
        },
        "outputId": "76b524e0-d040-446f-a587-36f9d6df96eb"
      },
      "outputs": [
        {
          "output_type": "stream",
          "name": "stdout",
          "text": [
            "2353\n"
          ]
        }
      ],
      "source": [
        "from gensim.corpora import Dictionary\n",
        "from gensim.models.wrappers import LdaMallet\n",
        "from gensim.models.coherencemodel import CoherenceModel\n",
        "\n",
        "##TODO create a dictionary with the pre-processed tokenized text and filter it according to frequencies and keeping 1000 vocabularies\n",
        "from gensim import corpora\n",
        "dictionary = corpora.Dictionary(dfs['tokens'])\n",
        "print (len(dictionary))\n",
        "##TODO create the doc_term_matrix\n",
        "doc_term_matrix = [dictionary.doc2bow(doc) for doc in dfs['tokens']]"
      ],
      "id": "kjLuOgsHELq5"
    },
    {
      "cell_type": "code",
      "source": [
        "# !wget http://mallet.cs.umass.edu/dist/mallet-2.0.8.zip\n",
        "# !unzip mallet-2.0.8.zip"
      ],
      "metadata": {
        "id": "m62iX2rh1zyp"
      },
      "id": "m62iX2rh1zyp",
      "execution_count": null,
      "outputs": []
    },
    {
      "cell_type": "code",
      "execution_count": null,
      "metadata": {
        "id": "jZsmeNyvELq5",
        "colab": {
          "base_uri": "https://localhost:8080/",
          "height": 143
        },
        "outputId": "a88acf92-5ed2-4f2e-fbe4-995e1d28d6b5"
      },
      "outputs": [
        {
          "output_type": "execute_result",
          "data": {
            "text/plain": [
              "   Number of Topics  Coherence Scores\n",
              "0                 5          0.501988\n",
              "1                10          0.531969\n",
              "2                15          0.584163"
            ],
            "text/html": [
              "\n",
              "  <div id=\"df-485f1c4f-4705-461c-b181-da60ba856f51\">\n",
              "    <div class=\"colab-df-container\">\n",
              "      <div>\n",
              "<style scoped>\n",
              "    .dataframe tbody tr th:only-of-type {\n",
              "        vertical-align: middle;\n",
              "    }\n",
              "\n",
              "    .dataframe tbody tr th {\n",
              "        vertical-align: top;\n",
              "    }\n",
              "\n",
              "    .dataframe thead th {\n",
              "        text-align: right;\n",
              "    }\n",
              "</style>\n",
              "<table border=\"1\" class=\"dataframe\">\n",
              "  <thead>\n",
              "    <tr style=\"text-align: right;\">\n",
              "      <th></th>\n",
              "      <th>Number of Topics</th>\n",
              "      <th>Coherence Scores</th>\n",
              "    </tr>\n",
              "  </thead>\n",
              "  <tbody>\n",
              "    <tr>\n",
              "      <th>0</th>\n",
              "      <td>5</td>\n",
              "      <td>0.501988</td>\n",
              "    </tr>\n",
              "    <tr>\n",
              "      <th>1</th>\n",
              "      <td>10</td>\n",
              "      <td>0.531969</td>\n",
              "    </tr>\n",
              "    <tr>\n",
              "      <th>2</th>\n",
              "      <td>15</td>\n",
              "      <td>0.584163</td>\n",
              "    </tr>\n",
              "  </tbody>\n",
              "</table>\n",
              "</div>\n",
              "      <button class=\"colab-df-convert\" onclick=\"convertToInteractive('df-485f1c4f-4705-461c-b181-da60ba856f51')\"\n",
              "              title=\"Convert this dataframe to an interactive table.\"\n",
              "              style=\"display:none;\">\n",
              "        \n",
              "  <svg xmlns=\"http://www.w3.org/2000/svg\" height=\"24px\"viewBox=\"0 0 24 24\"\n",
              "       width=\"24px\">\n",
              "    <path d=\"M0 0h24v24H0V0z\" fill=\"none\"/>\n",
              "    <path d=\"M18.56 5.44l.94 2.06.94-2.06 2.06-.94-2.06-.94-.94-2.06-.94 2.06-2.06.94zm-11 1L8.5 8.5l.94-2.06 2.06-.94-2.06-.94L8.5 2.5l-.94 2.06-2.06.94zm10 10l.94 2.06.94-2.06 2.06-.94-2.06-.94-.94-2.06-.94 2.06-2.06.94z\"/><path d=\"M17.41 7.96l-1.37-1.37c-.4-.4-.92-.59-1.43-.59-.52 0-1.04.2-1.43.59L10.3 9.45l-7.72 7.72c-.78.78-.78 2.05 0 2.83L4 21.41c.39.39.9.59 1.41.59.51 0 1.02-.2 1.41-.59l7.78-7.78 2.81-2.81c.8-.78.8-2.07 0-2.86zM5.41 20L4 18.59l7.72-7.72 1.47 1.35L5.41 20z\"/>\n",
              "  </svg>\n",
              "      </button>\n",
              "      \n",
              "  <style>\n",
              "    .colab-df-container {\n",
              "      display:flex;\n",
              "      flex-wrap:wrap;\n",
              "      gap: 12px;\n",
              "    }\n",
              "\n",
              "    .colab-df-convert {\n",
              "      background-color: #E8F0FE;\n",
              "      border: none;\n",
              "      border-radius: 50%;\n",
              "      cursor: pointer;\n",
              "      display: none;\n",
              "      fill: #1967D2;\n",
              "      height: 32px;\n",
              "      padding: 0 0 0 0;\n",
              "      width: 32px;\n",
              "    }\n",
              "\n",
              "    .colab-df-convert:hover {\n",
              "      background-color: #E2EBFA;\n",
              "      box-shadow: 0px 1px 2px rgba(60, 64, 67, 0.3), 0px 1px 3px 1px rgba(60, 64, 67, 0.15);\n",
              "      fill: #174EA6;\n",
              "    }\n",
              "\n",
              "    [theme=dark] .colab-df-convert {\n",
              "      background-color: #3B4455;\n",
              "      fill: #D2E3FC;\n",
              "    }\n",
              "\n",
              "    [theme=dark] .colab-df-convert:hover {\n",
              "      background-color: #434B5C;\n",
              "      box-shadow: 0px 1px 3px 1px rgba(0, 0, 0, 0.15);\n",
              "      filter: drop-shadow(0px 1px 2px rgba(0, 0, 0, 0.3));\n",
              "      fill: #FFFFFF;\n",
              "    }\n",
              "  </style>\n",
              "\n",
              "      <script>\n",
              "        const buttonEl =\n",
              "          document.querySelector('#df-485f1c4f-4705-461c-b181-da60ba856f51 button.colab-df-convert');\n",
              "        buttonEl.style.display =\n",
              "          google.colab.kernel.accessAllowed ? 'block' : 'none';\n",
              "\n",
              "        async function convertToInteractive(key) {\n",
              "          const element = document.querySelector('#df-485f1c4f-4705-461c-b181-da60ba856f51');\n",
              "          const dataTable =\n",
              "            await google.colab.kernel.invokeFunction('convertToInteractive',\n",
              "                                                     [key], {});\n",
              "          if (!dataTable) return;\n",
              "\n",
              "          const docLinkHtml = 'Like what you see? Visit the ' +\n",
              "            '<a target=\"_blank\" href=https://colab.research.google.com/notebooks/data_table.ipynb>data table notebook</a>'\n",
              "            + ' to learn more about interactive tables.';\n",
              "          element.innerHTML = '';\n",
              "          dataTable['output_type'] = 'display_data';\n",
              "          await google.colab.output.renderOutput(dataTable, element);\n",
              "          const docLink = document.createElement('div');\n",
              "          docLink.innerHTML = docLinkHtml;\n",
              "          element.appendChild(docLink);\n",
              "        }\n",
              "      </script>\n",
              "    </div>\n",
              "  </div>\n",
              "  "
            ]
          },
          "metadata": {},
          "execution_count": 20
        }
      ],
      "source": [
        "##TODO train a LDA Mallet model with 5, 10 and 15 topics\n",
        "##TODO compute the coherence score for each of these model and print the topics from the model with highest coherence score\n",
        "mallet_path = 'mallet-2.0.8/bin/mallet'\n",
        "\n",
        "scores = []\n",
        "for num_topics in [5, 10, 15]:\n",
        "    lda = LdaMallet(mallet_path, doc_term_matrix, num_topics=num_topics, id2word=dictionary)\n",
        "    coherence = CoherenceModel(model=lda, texts=dfs['tokens'], corpus=doc_term_matrix, dictionary=dictionary, coherence='c_v')\n",
        "    scores.append((num_topics, coherence.get_coherence()))\n",
        "df_topic = pd.DataFrame(scores, columns=[\"Number of Topics\", \"Coherence Scores\"])\n",
        "df_topic.head()"
      ],
      "id": "jZsmeNyvELq5"
    },
    {
      "cell_type": "code",
      "source": [
        "opt_topics = int(df_topic.iloc[df_topic['Coherence Scores'].idxmax()]['Number of Topics'])\n",
        "print('The optimal number of topics is: %s' %opt_topics)"
      ],
      "metadata": {
        "colab": {
          "base_uri": "https://localhost:8080/"
        },
        "id": "AFlRkwOd3VXq",
        "outputId": "db42f7ed-bfe7-4f2d-fbf8-348014f43212"
      },
      "id": "AFlRkwOd3VXq",
      "execution_count": null,
      "outputs": [
        {
          "output_type": "stream",
          "name": "stdout",
          "text": [
            "The optimal number of topics is: 15\n"
          ]
        }
      ]
    },
    {
      "cell_type": "code",
      "execution_count": null,
      "metadata": {
        "id": "3EJIIr58ELq6",
        "colab": {
          "base_uri": "https://localhost:8080/",
          "height": 985
        },
        "outputId": "63ecb207-7058-4f8a-f7e9-e299ac0a70a1"
      },
      "outputs": [
        {
          "output_type": "stream",
          "name": "stderr",
          "text": [
            "/usr/local/lib/python3.8/dist-packages/smart_open/smart_open_lib.py:496: DeprecationWarning: This function is deprecated.  See https://github.com/RaRe-Technologies/smart_open/blob/develop/MIGRATING_FROM_OLDER_VERSIONS.rst for more information\n",
            "  warnings.warn(message, category=DeprecationWarning)\n",
            "/usr/local/lib/python3.8/dist-packages/smart_open/smart_open_lib.py:496: DeprecationWarning: This function is deprecated.  See https://github.com/RaRe-Technologies/smart_open/blob/develop/MIGRATING_FROM_OLDER_VERSIONS.rst for more information\n",
            "  warnings.warn(message, category=DeprecationWarning)\n",
            "/usr/local/lib/python3.8/dist-packages/pyLDAvis/_prepare.py:243: FutureWarning: In a future version of pandas all arguments of DataFrame.drop except for the argument 'labels' will be keyword-only\n",
            "  default_term_info = default_term_info.sort_values(\n"
          ]
        },
        {
          "output_type": "execute_result",
          "data": {
            "text/plain": [
              "PreparedData(topic_coordinates=              x         y  topics  cluster      Freq\n",
              "topic                                               \n",
              "6      0.000312 -0.000577       1        1  7.181880\n",
              "2      0.000506  0.000268       2        1  6.975514\n",
              "5      0.000492  0.000549       3        1  6.855952\n",
              "13    -0.000123 -0.000640       4        1  6.765498\n",
              "0      0.000215  0.000279       5        1  6.759717\n",
              "11    -0.000458  0.000259       6        1  6.685856\n",
              "3     -0.000510 -0.000078       7        1  6.637048\n",
              "9      0.000175  0.000634       8        1  6.594589\n",
              "7     -0.000054  0.000583       9        1  6.568249\n",
              "14     0.000302  0.000170      10        1  6.549440\n",
              "4     -0.000755 -0.000241      11        1  6.547536\n",
              "10     0.000528 -0.000870      12        1  6.537307\n",
              "12     0.000051 -0.000222      13        1  6.516833\n",
              "1     -0.000927  0.000086      14        1  6.468201\n",
              "8      0.000245 -0.000202      15        1  6.356377, topic_info=            Term      Freq     Total Category  logprob  loglift\n",
              "385         tune  2.000000  2.000000  Default  30.0000  30.0000\n",
              "886   collarbone  2.000000  2.000000  Default  29.0000  29.0000\n",
              "667          day  1.000000  1.000000  Default  28.0000  28.0000\n",
              "1688     network  2.000000  2.000000  Default  27.0000  27.0000\n",
              "1355      takbai  2.000000  2.000000  Default  26.0000  26.0000\n",
              "...          ...       ...       ...      ...      ...      ...\n",
              "1376        gene  0.159252  2.126726  Topic15  -7.5730   0.1639\n",
              "389          amp  0.158042  2.119818  Topic15  -7.5807   0.1595\n",
              "793       lukoil  0.158131  2.131100  Topic15  -7.5801   0.1547\n",
              "1879         maj  0.157549  2.111078  Topic15  -7.5838   0.1605\n",
              "1283      defend  0.157425  2.184465  Topic15  -7.5846   0.1255\n",
              "\n",
              "[637 rows x 6 columns], token_table=Empty DataFrame\n",
              "Columns: [Topic, Freq, Term]\n",
              "Index: [], R=30, lambda_step=0.01, plot_opts={'xlab': 'PC1', 'ylab': 'PC2'}, topic_order=[7, 3, 6, 14, 1, 12, 4, 10, 8, 15, 5, 11, 13, 2, 9])"
            ],
            "text/html": [
              "\n",
              "<link rel=\"stylesheet\" type=\"text/css\" href=\"https://cdn.jsdelivr.net/gh/bmabey/pyLDAvis@3.4.0/pyLDAvis/js/ldavis.v1.0.0.css\">\n",
              "\n",
              "\n",
              "<div id=\"ldavis_el2171401701105399206137814708\" style=\"background-color:white;\"></div>\n",
              "<script type=\"text/javascript\">\n",
              "\n",
              "var ldavis_el2171401701105399206137814708_data = {\"mdsDat\": {\"x\": [0.00031167327190734494, 0.0005061355950031885, 0.000491701916830365, -0.0001229458202544643, 0.00021507773899875568, -0.00045758584261969775, -0.0005095181425525432, 0.00017488627961666787, -5.3933153143270966e-05, 0.0003019927955452001, -0.0007552019405361985, 0.0005278735001304285, 5.131377003847753e-05, -0.0009266057375704189, 0.0002451357686061655], \"y\": [-0.0005766436161252081, 0.0002684219598485146, 0.0005494242294297184, -0.0006399570649968056, 0.0002789166459050849, 0.00025885423389848173, -7.800726771597561e-05, 0.0006340739284781718, 0.0005829140733843194, 0.0001704809592276754, -0.0002413808659176488, -0.000869548889694261, -0.000222002105606532, 8.59856965637605e-05, -0.00020153191667929824], \"topics\": [1, 2, 3, 4, 5, 6, 7, 8, 9, 10, 11, 12, 13, 14, 15], \"cluster\": [1, 1, 1, 1, 1, 1, 1, 1, 1, 1, 1, 1, 1, 1, 1], \"Freq\": [7.1818797517378865, 6.975514485168616, 6.8559521663236564, 6.7654981111918495, 6.759717183013121, 6.6858560654872665, 6.637048497406664, 6.594588835985041, 6.5682492411053355, 6.549440372998015, 6.547535857453965, 6.537307457045655, 6.5168334533631604, 6.468201284211982, 6.356377237507801]}, \"tinfo\": {\"Term\": [\"tune\", \"collarbone\", \"day\", \"network\", \"takbai\", \"cisco\", \"foreigner\", \"pelli\", \"studio\", \"cards\", \"glazer\", \"powell\", \"drink\", \"set\", \"sims\", \"life\", \"charlotte\", \"given\\\\conditional\", \"bomb\", \"hamm\", \"slip\", \"prime\", \"refund\", \"anc\", \"convention\", \"recovery\", \"prince\", \"police\", \"wound\", \"guilty\", \"brett\", \"a\\\\barrel\", \"jacksonville\", \"set\", \"police\", \"emergence\", \"google\", \"act\", \"cancer\", \"influence\", \"stock\", \"uranium\", \"meet\", \"teraflop\", \"screen\", \"reach\", \"rfid\", \"emerge\", \"profit\", \"chris\", \"e\", \"investigation\", \"tying\", \"telephone\", \"house\", \"ethan\", \"column\", \"care\", \"muslim\", \"cole\", \"dr.\", \"august\", \"yasser\", \"motivated\", \"quot;shoppe\", \"random\", \"revolution\", \"nokia\", \"arrive\", \"news:-\", \"ireland\", \"sci\", \"saudi\", \"rb\", \"fido\", \"jose\", \"politically\", \"revel\", \"biased\", \"business\\\\picke\", \"posts\", \"challenge\", \"player\", \"silver\", \"russia\", \"property\", \"mortgage\", \"malaysian\", \"winless\", \"low\", \"wonder\", \"militant\", \"fortified\", \"film\", \"cost\", \"indicate\", \"lines\", \"turkish\", \"point\", \"mid\", \"egyptian\", \"angels\", \"improved\", \"nation\", \"bryon\", \"&lt;/b&gt\", \"tea\", \"totmianina\", \"solely\", \"forbes.com\", \"penetrate\", \"shelda\", \"ravage\", \"fawcett\", \"bid\", \"woman\", \"hail\", \"futuristic\", \"strength\", \"italian\", \"august\", \"28.11\", \"oraclesoft\", \"net\", \"post\", \"lw\", \"shane\", \"failure\", \"archbishop\", \"peacekeeping\", \"network\", \"stf\", \"idea\", \"establish\", \"halo\", \"championships\", \"beach\", \"acquire\", \"padres\", \"slowly\", \"anti\", \"set\", \"darfur\", \"evil\", \"vaccine\", \"tired\", \"require\", \"lobby\", \"local\", \"lukashenko\", \"pharmaceuticals\\\\inc\", \"higher\", \"stamp\", \"loud\", \"cards\", \"tennis\", \"americans\", \"swan\", \"battle\", \"defend\", \"blow\", \"rockies\", \"part\", \"producer\", \"korea\", \"intelsat\", \"joy\", \"profile\", \"tired\", \"software\", \"email\", \"coalition\", \"pct\", \"earth\", \"australia\", \"divest\", \"olympique\", \"withdraw\", \"itanium\", \"saad\", \"captor\", \"google\", \"block\", \"fulham\", \"bca\", \"smoke\", \"defeat\", \"michigan\", \"tribune\", \"oks\", \"unanimous\", \"europeans\", \"soft\", \"downgrade\", \"sestriere\", \"syracuse\", \"r\", \"needs\", \"shaquille\", \"quot;boring\", \"takbai\", \"detained\", \"intend\", \"hurl\", \"mourinho\", \"month\", \"equip\", \"for\\\\the\", \"warning\", \"advantage\", \"admit\", \"redemption\", \"legislator\", \"\\\\$3\", \"kmarts\", \"application\", \"rounder\", \"q1\", \"beloved\", \"live\", \"jets\", \"ethan\", \"flanagan\", \"agenda\", \"travel\", \"pen\", \"favor\", \"bit\", \"tutu\", \"tokyo\", \"drink\", \"slow\", \"consortium\", \"mountain\", \"tool\", \"ears\", \"forest\", \"dutch\", \"micky\", \"distribute\", \"karnataka\", \"november\", \"continue\", \"adelaide\", \"irfan\", \"prior\", \"wimbledon\", \"times\", \"tribune\", \"db2\", \"price\", \"war\", \"austria\", \"pathan\", \"manchester\", \"wi\", \"discipline\", \"log\", \"opinion\", \"breeze\", \"portable\", \"ahl\", \"cricketer\", \"plasma\", \"pelli\", \"terrorist\", \"aide\", \"poor\", \"hussein\", \"brokerage\", \"egyptian\", \"follow\", \"accustomed\", \"leicester\", \"guilty\", \"given\\\\conditional\", \"nations\", \"distort\", \"amid\", \"market\\\\it\", \"commentary\", \"declare\", \"jaynes\", \"glazer\", \"rating\", \"build\", \"environment\", \"laboratory\", \"stripe\", \"win\", \"\\\\$126\", \"\\\\$nz18\", \"makin\", \"20th\", \"kind\", \"duo\", \"plain\", \"39;disappointe\", \"outlook\", \"insurgents\", \"pull\", \"gudjohnsen\", \"sandbox\", \"component\", \"illegally\", \"push\", \"la\", \"gordon\", \"retain\", \"doom\", \"asylum\", \"prototype\", \"notion\", \"yasser\", \"sims\", \"fall\", \"collarbone\", \"join\", \"39;explosive\", \"sharp\", \"plea\", \"recovery\", \"celebration\", \"siege\", \"olympique\", \"miller\", \"favorable\", \"wireless\", \"phisher\", \"ticker\", \"far\", \"beard\", \"parham\", \"struggle\", \"incite\", \"ninth\", \"7:53\", \"decker\", \"signal\", \"wi\", \"glove\", \"disruption\", \"universal\", \"come\", \"product\", \"skater\", \"add\", \"gene\", \"put\", \"knock\", \"refund\", \"rainbow\", \"stadium\", \"nearly\", \"nation\", \"tokyo\", \"automatically\", \"paper\", \"venezuelan\", \"nature\", \"defeat\", \"catapult\", \"send\", \"lakers\", \"hamm\", \"mcammond\", \"pain\", \"improved\", \"online\", \"enter\", \"correct\", \"rau\", \"charlotte\", \"frances\", \"conoco\", \"owner\", \"cnn\", \"rfid\", \"politically\", \"process\", \"air\", \"tune\", \"envoy\", \"delegates\", \"consider\", \"feel\", \"benefit\", \"russell\", \"lobby\", \"splinter\", \"1:05\", \"realize\", \"brand\", \"abduction\", \"hussein\", \"capability\", \"slip\", \"\\\\$50\", \"canberra\", \"stuff\", \"takbai\", \"embrace\", \"institution\", \"debt\", \"com\", \"spain\", \"palander\", \"interim\", \"studio\", \"reduce\", \"baghdad\", \"chairman\", \"relate\", \"everton\", \"mortar\", \"visit\", \"currency\", \"cap\", \"legal\", \"se\", \"change\", \"hover\", \"negotiation\", \"rule\", \"walker&lt;/b&gt;&lt;/font&gt\", \"exports\", \"address\", \"federal\", \"aluminium\", \"nokia\", \"sophisticated\", \"sensation\", \"powerhouses\", \"unappealing\", \"property\", \"shiny\", \"cash\", \"corp.\", \"pooch\", \"web\", \"postage\", \"hint\", \"provider\", \"pitcher\", \"pest\", \"docomo\", \"life\", \"richard\", \"throw\", \"necklace\", \"\\\\$43\", \"responsibility\", \"spark\", \"medallist\", \"joins\", \"bomb\", \"draft\", \"put\", \"roon\", \"status\", \"england\", \"hamm\", \"announce\", \"look\", \"tatiana\", \"district\", \"threatens\", \"notion\", \"tools\", \"processor\", \"totmianina\", \"blockade\", \"disruption\", \"lukoil\", \"peter\", \"dharam\", \"travel\", \"aboard\", \"long\", \"maize\", \"animal\", \"loss\", \"colour\", \"solana\", \"okla.\", \"galaxy\", \"state\", \"processing\", \"cisco\", \"championship\", \"plague\", \"arrive\", \"french\", \"avenge\", \"information\", \"bore\", \"mm02\", \"shade\", \"america\", \"bay\", \"schl\", \"southwestern\", \"cairo\", \"celebration\", \"shui\", \"friend\", \"cut\", \"mind\", \"oil\", \"place\", \"hewitt\", \"aboard\", \"stud\", \"breathe\", \"trick\", \"oceans\", \"gene\", \"automatically\", \"linebacker\", \"prince\", \"start\", \"bryant\", \"veteran\", \"adhesive\", \"denial\", \"century\", \"cards\", \"steal\", \"kingdom\", \"contract\", \"norman\", \"napster\", \"premier\", \"180,000\", \"stadium\", \"decide\", \"novell\", \"blue\", \"week\", \"bing\", \"lender\", \"stojakovic\", \"worry\", \"advanta\", \"5,000\", \"helvetica\", \"romanian\", \"west\", \"foreigner\", \"review\", \"vehicle\", \"powell\", \"opens\", \"cool\", \"victor\", \"arabia\\\\and\", \"jaynes\", \"julie\", \"hostages\", \"craig\", \"prove\", \"ms\", \"boost\", \"account\", \"bedside\", \"deference\", \"kenny\", \"sprem\", \"received\\\\\\\"orphan\", \"rounder\", \"turnover\", \"skate\", \"violence\", \"networking\", \"\\\\$5bn\", \"tampa\", \"annual\", \"construction\", \"donald\", \"expensive\", \"upcourt\", \"sgi\", \"monday\", \"tech\", \"awake\", \"search\\\\\\\\so\", \"whooping\", \"kenneth\", \"pelli\", \"hoffman\", \"property\", \"prototype\", \"snatch\", \"react\", \"institution\", \"director\", \"gain\", \"chinese\", \"snap\", \"able\", \"asylum\", \"rest\", \"earnings\", \"dispute\", \"day\", \"boast\", \"foreign-\", \"competition\", \"lawrence\", \"necklace\", \"irna\", \"death\", \"ear\", \"forward\", \"downed\", \"reserve\", \"asian\", \"team\", \"sham\", \"tighten\", \"forensic\", \"\\\\$43\", \"3q\", \"mate\", \"skiing\", \"bomb\", \"defiance\", \"division\", \"ghost\", \"crain\", \"breathe\", \"proof\", \"gene\", \"amp\", \"lukoil\", \"maj\", \"defend\"], \"Freq\": [2.0, 2.0, 1.0, 2.0, 2.0, 2.0, 2.0, 2.0, 1.0, 1.0, 1.0, 2.0, 2.0, 2.0, 2.0, 2.0, 2.0, 2.0, 2.0, 2.0, 1.0, 2.0, 2.0, 1.0, 2.0, 2.0, 2.0, 2.0, 2.0, 2.0, 0.20157058372610454, 0.19730175787980644, 0.18883014183982252, 0.19909162167101163, 0.1916604853654529, 0.1867879308403278, 0.19282078544014608, 0.1802660761286804, 0.18595165998914534, 0.18647578515048288, 0.18155842146915824, 0.179610423966142, 0.18735436093031232, 0.1867149298834551, 0.1895790660309444, 0.18520295130663947, 0.17570477293417996, 0.1799589406345006, 0.17925696990911955, 0.1717590372468454, 0.182686307325401, 0.17437711088710098, 0.1754061374678374, 0.18487705222017642, 0.17973452529256975, 0.1741176908231028, 0.1831364556841994, 0.17779903038220735, 0.18168822918133035, 0.17542255180611396, 0.18520137638059317, 0.188559214395094, 0.1856169085819821, 0.18095074497342822, 0.1817310690847387, 0.18311148962916557, 0.1821574292880356, 0.18083465482732172, 0.18027421812600322, 0.18023647550930771, 0.18329081595899138, 0.1751739112900139, 0.17965332136022472, 0.17776757244011043, 0.1809773267603857, 0.18094486994886944, 0.18148438820658636, 0.1804200594292507, 0.17468554718614154, 0.17997425122241004, 0.17638910026732166, 0.17990600818002728, 0.17528671828503384, 0.16926607317833725, 0.17721945611211112, 0.18603426010412846, 0.17307791090404231, 0.1703413021038302, 0.1690464565874893, 0.1792640536373562, 0.17555613785445517, 0.1721516451220795, 0.18138565700732495, 0.174297119696733, 0.17824555442265017, 0.17369305620495779, 0.1710538139790748, 0.1758708498374794, 0.17626433334576538, 0.1709434098138597, 0.17663056582876596, 0.17540617443337836, 0.17787828817009824, 0.17913415686894033, 0.1766842419530491, 0.17642009682898416, 0.17605913290209468, 0.17871357211752897, 0.17575246317245877, 0.17500981640079002, 0.18640492746270612, 0.18631699090315948, 0.17858376878049104, 0.1825085815306549, 0.17934668479419452, 0.17478192218315644, 0.17302000621093783, 0.17864906780629458, 0.1704442515106135, 0.17176047585070137, 0.18646500399529173, 0.1699649143884818, 0.17443934805869948, 0.1744773743342061, 0.16849629235370278, 0.17903206825064688, 0.16751285915281755, 0.167933903175498, 0.16877367518560712, 0.17211398360399782, 0.17835377971660435, 0.17148047997485424, 0.16555716448202215, 0.17278218698132952, 0.17746264256020117, 0.17015508027499074, 0.16975259383153618, 0.17046982046934697, 0.17171131740308718, 0.16622064776485437, 0.1743737539458802, 0.17598547708259893, 0.1755582073691696, 0.1738679718877632, 0.17463436129423246, 0.1710154724048845, 0.17250889169405895, 0.1711339060248702, 0.17075363998300647, 0.17109937015448173, 0.17059956507070756, 0.19018965149522865, 0.18617084106201381, 0.180487196305477, 0.17589788979965681, 0.17667399992122265, 0.18480838281131406, 0.18284912327409136, 0.17803364947404898, 0.1872073937945193, 0.17971522936676843, 0.17132192833460497, 0.16665359762753262, 0.17242179261335916, 0.17464699215382684, 0.17608934784665017, 0.17173184180190146, 0.16955991190007, 0.1744048679325237, 0.1757842756727256, 0.1672205730734178, 0.17064546083121135, 0.18185461293959587, 0.16735616076964954, 0.16824384529014302, 0.16738381610490016, 0.17280115301113974, 0.17553342834380828, 0.17014185812939975, 0.1749468169593378, 0.16488540001707822, 0.17525386419830732, 0.1720728700128842, 0.17203156309299303, 0.17174040421917566, 0.1747208583673224, 0.17337969286131594, 0.17584417724134307, 0.1735009788180416, 0.17187379135557782, 0.1721334576489897, 0.1719598323392123, 0.1926818274768482, 0.18580256095893283, 0.1840072391296773, 0.17231284694089752, 0.17897711105423345, 0.17940040222144812, 0.17619983729161862, 0.1676605289157713, 0.1774061661458628, 0.17178149405336313, 0.16797387740978514, 0.1742476013540086, 0.1687956437983297, 0.1681223543133992, 0.1758925656224096, 0.17073936652478763, 0.1740263917900161, 0.16859503675795154, 0.16799905880494156, 0.17650198470215783, 0.1720932415197834, 0.17541847316918308, 0.1670294586693842, 0.16845458826584173, 0.16158582221365267, 0.1680293957139456, 0.16801963362447364, 0.1664962565054631, 0.16410564773247394, 0.16278930517605533, 0.17439315274008424, 0.17171185007022963, 0.17420383272369896, 0.17519961526549555, 0.17257925803688332, 0.17053874722023232, 0.16866928160498001, 0.16938175989478105, 0.16894305231655593, 0.16831028476246568, 0.16848989778691909, 0.16834609505556333, 0.18845550665759342, 0.17576698424389217, 0.17394565152749192, 0.17443994944081237, 0.17240166921289932, 0.17730892733393125, 0.17147371862603353, 0.16826145795855205, 0.17261537444492642, 0.17292683548285834, 0.16897838365482135, 0.17136625410192355, 0.17568536126470816, 0.1733296233489392, 0.17770352961148483, 0.16345311444028282, 0.16782203924995107, 0.16701991246330428, 0.16817105342482477, 0.16598289578170022, 0.16055479926993788, 0.16290768011986415, 0.1660582128299313, 0.1690792766295558, 0.162550170205402, 0.16477637194731326, 0.16365910420335367, 0.1651836368776669, 0.1652798075762128, 0.17095707694276005, 0.16802158488027305, 0.17155021239863982, 0.16535599505748344, 0.16473015616954484, 0.16840745634798024, 0.1677801202884358, 0.16581678109727085, 0.16696160384640268, 0.16541737098017373, 0.1656173445988867, 0.19740205350996615, 0.18437972054414642, 0.18230951661342995, 0.17365192488106765, 0.17854687301174682, 0.17046593724406994, 0.17083696026047634, 0.17232375188072982, 0.17452196022565536, 0.16337537886244094, 0.16415472599194716, 0.16659398996663946, 0.16369233073140704, 0.1695373578605401, 0.1710544337908135, 0.16556714760109179, 0.16748800801345254, 0.16856878478616058, 0.16507660262618132, 0.17036421920330921, 0.16514163694452655, 0.16224647700008166, 0.17160960756412852, 0.16361136316231908, 0.16070728440003793, 0.16629672277860602, 0.16937183057478583, 0.15989014467416193, 0.16506690760300968, 0.1592847224073304, 0.1628590685873639, 0.16874725771437565, 0.16576748922202583, 0.169235837156612, 0.16618494214507934, 0.16697739507059026, 0.16526747785149576, 0.16582841028238693, 0.16468985663943606, 0.16474671931631027, 0.18345218394817683, 0.1797475304066915, 0.17547826076732614, 0.17253052938716296, 0.16956695792810225, 0.16235848109508383, 0.1620192258419859, 0.17205941393781707, 0.15480674086523652, 0.16891394074626295, 0.17022407217919636, 0.17607582372988564, 0.17305718080351407, 0.16845545748331736, 0.16393688356877442, 0.17200842682037323, 0.16169733338381886, 0.16569969091058973, 0.16748210038360342, 0.16718649171854166, 0.16640374088454646, 0.16280204598303963, 0.16516394067161122, 0.16080846301545929, 0.1675903330131805, 0.16217955441314844, 0.15904830847162463, 0.17082663881432564, 0.16718114147421256, 0.16312630151643095, 0.16432183876078477, 0.16641347794582695, 0.16917743686387277, 0.1691254469540481, 0.16903717875880478, 0.16841820877164193, 0.16437414222386945, 0.16433078786966923, 0.16492828397149167, 0.16493603442176516, 0.165612103573641, 0.16469345881282219, 0.16463577006429364, 0.17788559673681553, 0.17961707900965923, 0.1750739260540762, 0.1786530256864038, 0.1680910740145124, 0.16977989048866032, 0.17306906815997516, 0.16719966650013263, 0.17022385867679024, 0.16531193384046725, 0.17225343031389315, 0.15666040395425535, 0.16476914448286095, 0.1699059558439323, 0.15892635552130907, 0.17041703221533955, 0.16540215299136013, 0.16382929916757746, 0.16157392093504325, 0.16100903948309647, 0.15708811638380815, 0.16652202454889645, 0.1661943655854925, 0.15961601471871525, 0.17012144683693908, 0.16075411190715325, 0.15877647822297397, 0.16582307004857993, 0.15782964486792564, 0.159486222971299, 0.16350154945615206, 0.16348163550879685, 0.16199779591495028, 0.16426531586419335, 0.162410163709108, 0.1628708676372248, 0.16140312938244117, 0.16148365065992293, 0.1886670803659262, 0.1767369863972618, 0.18357673809080197, 0.17224004849930194, 0.17085526906362827, 0.17752923459884412, 0.1771584635245555, 0.17645694534287296, 0.1701592392750266, 0.17027875744861018, 0.16796309807962023, 0.17313256830050064, 0.16935882520283332, 0.16448159885779357, 0.15991788840121446, 0.16588136902587838, 0.1626625666907354, 0.16872456951454992, 0.16140679094117788, 0.16315701835816648, 0.16545278296090082, 0.16271669096304847, 0.15797860743278852, 0.163021436839213, 0.16171401917914607, 0.15555107047194955, 0.15376466265938202, 0.16107352653075385, 0.16530453139483278, 0.16384964083076445, 0.1621142076146291, 0.16555004706970528, 0.16559766232737688, 0.16776968780019338, 0.16795958884410714, 0.16701342228666047, 0.16968770580925807, 0.16597163771111634, 0.1652803358985314, 0.16516286987690904, 0.1638344909409128, 0.16798010515508133, 0.17823941241325159, 0.1775351902619504, 0.16554060113293576, 0.16815056578066961, 0.16982239320248316, 0.17033834504443723, 0.1622059142164773, 0.1677154790363405, 0.16616376378173522, 0.1641950924857439, 0.15922506340808876, 0.1635694076670614, 0.16344894923476544, 0.1665812982229715, 0.1683036244439499, 0.16371576129766185, 0.158214213186938, 0.16736191693622063, 0.1678761587274789, 0.16116615113944524, 0.16953887674040732, 0.16658966907699732, 0.16573558038546768, 0.15974276718744201, 0.16195506420261588, 0.15986033634384356, 0.15807495863179122, 0.1599259278161768, 0.16484837095489227, 0.1632070236096895, 0.16590780594895047, 0.16454407925605175, 0.16586735352786516, 0.17252784697164783, 0.1659852457385198, 0.16542172679943903, 0.1657429393080017, 0.16436735458036889, 0.16486984385844908, 0.16466752520210454, 0.16416682090609042, 0.16410361599325385, 0.18150565476500863, 0.18646453627333898, 0.17726340130420182, 0.1773003909339094, 0.17788039287450452, 0.1763944638238279, 0.1714162380118377, 0.1759128333105577, 0.16993391471507766, 0.16727192757966264, 0.17238014126326467, 0.1632241782960366, 0.17585518475545206, 0.1611740170500259, 0.1671534770583466, 0.16442599036952865, 0.16554575206791672, 0.16334259740137852, 0.16295219790442939, 0.16252041692064675, 0.16516078172960372, 0.16296149223335996, 0.1684815277644007, 0.1604730798091173, 0.15058929091939188, 0.164323650417372, 0.1654756611514107, 0.16012640702547146, 0.16069639865684635, 0.16272032232614933, 0.1674473984858054, 0.16216738005877948, 0.16588445020610937, 0.17048401053067785, 0.16661493715003947, 0.16387056000284506, 0.163633398406357, 0.16399450586172762, 0.16370761611846554, 0.16390831632666383, 0.1834521051854338, 0.17498679629356312, 0.17523015900079567, 0.17098361805211917, 0.1594698889533237, 0.1617449748503247, 0.17165058251687193, 0.16002997147710646, 0.16418220419623084, 0.1630689411349221, 0.1622716000085645, 0.16498832148013018, 0.16527258445360488, 0.16328682400151967, 0.16477663032139495, 0.16607641329987122, 0.16538297059024515, 0.15343323331762662, 0.1601035912461251, 0.1607084991718924, 0.16049886474277572, 0.1615687419041373, 0.15304815853244286, 0.16527701587705704, 0.15881227911468418, 0.16489836948062994, 0.1560772792066604, 0.15842053069111822, 0.1621113043154302, 0.1619267491143132, 0.16334525280172127, 0.16369767588126458, 0.1608521151102081, 0.1650028315877399, 0.16465134091322345, 0.1623829026552573, 0.16263183619266605, 0.16237012146899427, 0.16153796445092636, 0.16130621619970606, 0.1611277072312106, 0.17081299885099005, 0.17406241050032886, 0.17588062866835386, 0.1664185053137793, 0.17936008677697382, 0.1688025237804471, 0.16775305934826695, 0.1613922531843952, 0.17351884411611487, 0.15955452864294548, 0.16260193381395643, 0.170396908156302, 0.16639121620855907, 0.16913010984965982, 0.16231944782506044, 0.16570954570520258, 0.1719986411227266, 0.16368045666639994, 0.16879912297841526, 0.1683891271560799, 0.1591005174512215, 0.1619024462342325, 0.16645266912909418, 0.16277865453782284, 0.16095127003756604, 0.1639548656314726, 0.16697914752647847, 0.15740028422231278, 0.16553988833238528, 0.16803229441120868, 0.17019003209228326, 0.173644555109946, 0.16477516499633846, 0.16543308128165346, 0.16504261253944214, 0.1636763361059147, 0.16406767504820263, 0.1633869644407154, 0.1627879124327837, 0.16466695156062597, 0.17168069300077246, 0.16435939961022664, 0.15651539529645245, 0.16387675296663418, 0.1565590237355429, 0.1548960252785341, 0.15886237514691137, 0.15524382390901223, 0.1572768764941236, 0.1578310152604088, 0.16589045664588578, 0.15853287732846838, 0.15985521561444635, 0.15830830679002386, 0.15952069463541482, 0.16446206901532892, 0.15870054172332038, 0.15440734979885815, 0.15628310170933382, 0.15059296624214605, 0.15839961179455997, 0.15912927573442162, 0.15991458814452728, 0.16035437801143346, 0.1601076221082785, 0.16011362112133048, 0.16294424055039047, 0.15750586969507227, 0.1527544556174181, 0.16109171365678723, 0.16141409820081543, 0.1585836821557177, 0.15925195596629443, 0.15804163542734284, 0.15813117660195067, 0.15754941799923086, 0.1574245044093272], \"Total\": [2.0, 2.0, 1.0, 2.0, 2.0, 2.0, 2.0, 2.0, 1.0, 1.0, 1.0, 2.0, 2.0, 2.0, 2.0, 2.0, 2.0, 2.0, 2.0, 2.0, 1.0, 2.0, 2.0, 1.0, 2.0, 2.0, 2.0, 2.0, 2.0, 2.0, 2.139869514415066, 2.1071793336145577, 2.0180918307772164, 2.128838624569143, 2.0651731528685295, 2.0399922182769092, 2.114371027365983, 1.9808599337052277, 2.049387919373801, 2.056074724077373, 2.0175678109682185, 1.9960315814534682, 2.0832777428098432, 2.0861429560431435, 2.119632829485006, 2.0710361979975955, 1.966215787741792, 2.0185585602851295, 2.011493895527792, 1.9404099751002657, 2.0670311167332716, 1.9747267593552518, 1.9885116248516583, 2.095921849655939, 2.040968673988418, 1.977802712576713, 2.0872479722938486, 2.027498735445886, 2.0728598307962036, 2.0075599256483363, 2.1217359693719335, 2.1817905261421076, 2.150177744892543, 2.0790715607502066, 2.0988387015514425, 2.127424267400054, 2.164627906839268, 2.1395551446358296, 2.1322366070970387, 2.1566320166347372, 1.9591770033594982, 1.9705383584706273, 2.0416420838859257, 2.022209518648099, 2.060276068037909, 2.0790088453007107, 2.0853565443360433, 2.079914090586924, 2.0190074636627315, 2.0811852387060656, 2.041570947223717, 2.08766482403589, 2.035244692896063, 1.9702146976667365, 2.0630465073213444, 2.1656977461387976, 2.0192549789121004, 1.9923044907626424, 1.9774494705190575, 2.0996670588055415, 2.058165513739268, 2.0201838666062955, 2.1297611002598478, 2.046677986857034, 2.095594712584351, 2.0422741926183003, 2.0118712318583905, 2.068978440776238, 2.079990603423377, 2.01734621796697, 2.095611380401431, 2.084207208343507, 2.127546987843599, 2.15256707685141, 2.118259409683205, 2.1254692616613498, 2.130698827859533, 2.2455716711970544, 2.1566551336977424, 2.1042337382907115, 2.0596089913024316, 2.0842590554230664, 2.0403467329970026, 2.0937749995324415, 2.0645188544549997, 2.0298535904176824, 2.0163638232510825, 2.0842742385495687, 1.9934275150626146, 2.0097322558405906, 2.1817905261421076, 2.0005333643945935, 2.0541991660268684, 2.055414108962789, 1.9863963200055532, 2.11269295493613, 1.9789165521306338, 1.986747196925688, 1.9991892917654326, 2.042103135654059, 2.117011217484393, 2.035827707831946, 1.9726813174566502, 2.0616771543548813, 2.119297079138912, 2.0324011593726965, 2.0295543439900814, 2.038855675280982, 2.062634986305281, 1.9974290160309962, 2.105972455925485, 2.128838624569143, 2.1314266889504316, 2.125868016566855, 2.1562847782573726, 2.0645128140158593, 2.122940392578984, 2.078500700565877, 2.1122114900213815, 2.175873989267374, 2.101748288310083, 2.075287431902033, 2.0539374084900848, 1.9924016403668017, 1.9814169876991357, 1.993073990098683, 2.0942649806624813, 2.0721529774238663, 2.0507053815195477, 2.184465155906408, 2.0986957061378173, 2.001139099192609, 1.9516343315880895, 2.026885946942592, 2.0565067933377836, 2.080146433663223, 2.028893472019335, 2.003678607847495, 2.0645128140158593, 2.0915437079181523, 1.9910584200948487, 2.0375178904635387, 2.172448011781222, 2.000549081619159, 2.0144809950088196, 2.00846063052147, 2.073971240258838, 2.11001309884524, 2.0455949016021266, 2.1072821000192503, 1.9883476069574213, 2.114371027365983, 2.0772535186802084, 2.0814428606566, 2.082673319089766, 2.1601212446487166, 2.129041933399524, 2.215545131205464, 2.1458751454214338, 2.095838360333694, 2.1198288185272376, 2.1697780149460244, 2.0156807771725522, 1.9955581887682692, 2.046462310753963, 2.0090203346162077, 2.0967574042201758, 2.114800803118752, 2.082897851647006, 1.982606826161101, 2.0995711165635527, 2.035769377252749, 1.990950531007457, 2.0728540618339273, 2.0082616135541973, 2.001976442597001, 2.1068632039629347, 2.046745879853501, 2.0876161085626608, 2.0234858606790986, 2.0191236285284857, 2.122835043838207, 2.0732481555689946, 2.115208279845617, 2.015809143876934, 2.0421554883566904, 1.9595333404047213, 2.0383866078869244, 2.0391108237419804, 2.021442604861895, 1.992686109197403, 1.977802712576713, 2.118958788199246, 2.0872799225229275, 2.133919845622405, 2.150156119168135, 2.12201356029565, 2.10980947062303, 2.0590254914903503, 2.0956711869081683, 2.092415527218403, 2.0609315917455455, 2.1173508297664934, 2.1219912859824244, 2.1270003168209723, 1.9849752964171588, 1.9886233567661011, 1.9957892522172587, 2.00075756274055, 2.0788592242490345, 2.0478534512574056, 2.010143773035667, 2.0657444209228424, 2.071627630941916, 2.0310562579217497, 2.060558276894663, 2.1148147191724167, 2.0886578342442976, 2.1458751454214338, 1.9738657729023985, 2.0390235722590377, 2.037048046509785, 2.052582137611655, 2.0313476018574264, 1.972105834892318, 2.003574674403275, 2.0425582438180654, 2.085777592564148, 2.0079913540756706, 2.0362475710556365, 2.023625907612404, 2.043747401864728, 2.0519274044461167, 2.1227554782044176, 2.0867180420502827, 2.133345155555161, 2.058840693106716, 2.047283012991887, 2.144142204284135, 2.1620235043231713, 2.095611380401431, 2.1735623445526895, 2.081859899437024, 2.1585085360364324, 2.0743860437118817, 2.065001588282372, 2.094643668760883, 2.0095526314830225, 2.0814137741305507, 2.008453468666304, 2.022288002119349, 2.0552078757014463, 2.1023453264351657, 1.9763472080468403, 1.993921674400588, 2.0279325176503598, 1.9961996130780348, 2.067540084576433, 2.0868807329861276, 2.0212252160331436, 2.048355615426527, 2.066018911885798, 2.0260650724156286, 2.091939665524314, 2.029681523667314, 1.995988457461082, 2.1175700662740278, 2.0205690344724063, 1.9923035869542605, 2.063914976643212, 2.1070265425569867, 1.989479531784974, 2.05649900617429, 1.9889239633349338, 2.034243229154083, 2.113435129448267, 2.0775860884124473, 2.1309334909701017, 2.099987691871614, 2.1217506416649963, 2.133371369078151, 2.227521791674363, 2.104866257026948, 2.150177744892543, 2.108848994413031, 2.068042582667043, 2.0547432062335678, 2.027193929085466, 2.0189913109128748, 1.9470223878316082, 1.9477693542473942, 2.078887071835627, 1.8803000382863044, 2.056445133333918, 2.073971240258838, 2.1457763289866785, 2.1096095988942287, 2.0564927341213943, 2.005329041767151, 2.1061736730378455, 1.984713361046745, 2.0388867564816544, 2.061020668761636, 2.0588990999188077, 2.050469923598616, 2.0062032615182295, 2.0361955387880366, 1.9826777398794038, 2.0690470177218754, 2.003574674403275, 1.9705373751989586, 2.11835415094206, 2.0741666793524587, 2.0246422810834006, 2.044981417719577, 2.0794121822466627, 2.1260865034335414, 2.126725977581528, 2.1256111201909307, 2.131605592733779, 2.0491243798682155, 2.0486456807498037, 2.076363399098826, 2.0889910010462294, 2.15256707685141, 2.0956711869081683, 2.1132957742337073, 1.9992417281517443, 2.089140987628257, 2.04750740842413, 2.129041933399524, 2.015469719754534, 2.040140300071447, 2.096710074684168, 2.0397838254941396, 2.077898108707741, 2.033524820552719, 2.127546987843599, 1.9369955029437178, 2.0394122997022466, 2.104933659036746, 1.9692659154846224, 2.120417167289376, 2.0583040622956696, 2.038874957213291, 2.0159935380873377, 2.0116676972547327, 1.966215787741792, 2.0853565443360433, 2.0819471135903442, 2.002900534994387, 2.135265576214286, 2.0215298985460146, 1.9967307124305482, 2.086054234677182, 1.9991585356135366, 2.020673221562195, 2.078529690942425, 2.078500700565877, 2.0645257305375355, 2.1123287005343614, 2.082532006293417, 2.107410031338663, 2.0994076746075714, 2.144142204284135, 2.1147053851070434, 1.9902631971242337, 2.1203922839597245, 1.998082768705812, 1.9954439340257883, 2.0995711165635527, 2.1110822084081287, 2.108486809819235, 2.0335096242441213, 2.0410261099952107, 2.018641997112763, 2.087809009970911, 2.0437627158794514, 1.989814941029226, 1.9595775285073251, 2.04390561252526, 2.0120123944400308, 2.088305478345703, 2.0003402655717895, 2.025626610879402, 2.0584503662133233, 2.0246223707688222, 1.9664133583942558, 2.0381468836751386, 2.0284112217154684, 1.9522762031415273, 1.9308089480988935, 2.024015016178857, 2.077738589449376, 2.059505640211757, 2.040318232377301, 2.0881141230266533, 2.0903199908274077, 2.135832623846337, 2.1395551446358296, 2.124401654905804, 2.178781982663729, 2.106025761319823, 2.1015819623916925, 2.1656977461387976, 2.1017131451300024, 2.009617939878868, 2.1411441033841383, 2.1498835176813205, 2.010279380224137, 2.0437717458135167, 2.0672407980318823, 2.0815187927538497, 1.9887771635828995, 2.0563509663397213, 2.0423853331855195, 2.0227312051176725, 1.9653104642995347, 2.0192510250085958, 2.0243950105449966, 2.068525177485732, 2.0906137126838686, 2.0345772522750463, 1.9685605476603942, 2.0847490241472695, 2.095137192416268, 2.018329545077795, 2.1256111201909307, 2.0896782200550112, 2.0801068731684644, 2.0053656693906667, 2.0397838254941396, 2.01573300160676, 1.994855404801223, 2.01836600682081, 2.0840716939631365, 2.063590005921824, 2.104866257026948, 2.088015640147106, 2.118260548409162, 2.2455716711970544, 2.13016374383584, 2.11835415094206, 2.1310995830003256, 2.0956112514695695, 2.130589735108203, 2.133919845622405, 2.102217654635521, 2.13458702660479, 2.040351043788484, 2.138976679588785, 2.0356979851042714, 2.0493945873608794, 2.089222214375195, 2.09321421508061, 2.0460272009038762, 2.1127835336137766, 2.0537347882435286, 2.0220051014530225, 2.08508592802153, 1.9756179478672364, 2.1322366070970387, 1.9605437306522138, 2.04906468481348, 2.0306334518036837, 2.0466965386469558, 2.0240218024160153, 2.021994962595337, 2.01710836011179, 2.0528460471183654, 2.0329814590078685, 2.102615548064818, 2.003083910897866, 1.8803000382863044, 2.0637576745725124, 2.078576639474533, 2.020252273276516, 2.028318686528106, 2.0544606640124616, 2.1208583367189964, 2.0485416907159415, 2.102217654635521, 2.198688823355328, 2.154152451787752, 2.1055930400865375, 2.0981878325305283, 2.126725977581528, 2.1132957742337073, 2.1424988453688134, 2.0223577523132006, 2.0348072770825305, 2.0811605804432283, 2.049940243802659, 1.914207230555079, 1.965909287502864, 2.0952176946979866, 1.9814169876991357, 2.0345780210602227, 2.0218431436559037, 2.01786933730825, 2.0530491717026313, 2.0620368344360402, 2.038375392205403, 2.057481152390621, 2.076363399098826, 2.0694750067181924, 1.9298382671927359, 2.017481155792131, 2.0252188246752407, 2.022963043193559, 2.0401396258767637, 1.9372180004075137, 2.092907782915603, 2.01166338606794, 2.094443838081721, 1.9855142841794022, 2.0169826554580506, 2.0714938885648566, 2.0698007186210723, 2.088436434000898, 2.0983243371234153, 2.057915730394887, 2.1452152049057513, 2.1389548293599763, 2.0978704547062352, 2.1117495749523294, 2.1023453264351657, 2.1003119091117997, 2.10405101575092, 2.0937110731957524, 1.9681429099890744, 2.0607422073768475, 2.090242766785155, 2.011260257692376, 2.1694036438582938, 2.0504031877586453, 2.044144414208649, 1.9725887514740308, 2.130483125759171, 1.9595333404047213, 1.9990438517562787, 2.101506960948534, 2.062363198250179, 2.098600051757647, 2.018225990550097, 2.063140615893716, 2.142022770550024, 2.0387566994011084, 2.104048653879986, 2.101925484415485, 1.9929163261532465, 2.030340587880097, 2.089013614921348, 2.0430137163229944, 2.021337122808597, 2.0622108846150384, 2.100335378927113, 1.9806667377096472, 2.0867180420502827, 2.1272141364097967, 2.1656977461387976, 2.227521791674363, 2.0882015741067272, 2.1014724997631484, 2.108486809819235, 2.0965513755016985, 2.1212040042391824, 2.13036771201897, 2.1094147816562114, 2.024225625648114, 2.133371369078151, 2.0548908171650764, 1.9730931478403497, 2.0705267053984744, 1.9851290234182426, 1.9714160722051048, 2.0289359602310157, 1.987973896591789, 2.0167835865295367, 2.0243950105449966, 2.128539589897708, 2.042448692156127, 2.062969431807528, 2.047678606198978, 2.0646111349961154, 2.128893171298473, 2.0547245901809683, 2.0028332109179536, 2.027992530859105, 1.9552253605584617, 2.0576791301403152, 2.068525177485732, 2.0802944917616175, 2.094731157038293, 2.0923484762112383, 2.095137192416268, 2.1329460237052755, 2.0626808654569575, 2.0031581958872544, 2.1316305971866982, 2.154152451787752, 2.1050971998117287, 2.126725977581528, 2.119817826415626, 2.1310995830003256, 2.111077722121515, 2.184465155906408], \"Category\": [\"Default\", \"Default\", \"Default\", \"Default\", \"Default\", \"Default\", \"Default\", \"Default\", \"Default\", \"Default\", \"Default\", \"Default\", \"Default\", \"Default\", \"Default\", \"Default\", \"Default\", \"Default\", \"Default\", \"Default\", \"Default\", \"Default\", \"Default\", \"Default\", \"Default\", \"Default\", \"Default\", \"Default\", \"Default\", \"Default\", \"Topic1\", \"Topic1\", \"Topic1\", \"Topic1\", \"Topic1\", \"Topic1\", \"Topic1\", \"Topic1\", \"Topic1\", \"Topic1\", \"Topic1\", \"Topic1\", \"Topic1\", \"Topic1\", \"Topic1\", \"Topic1\", \"Topic1\", \"Topic1\", \"Topic1\", \"Topic1\", \"Topic1\", \"Topic1\", \"Topic1\", \"Topic1\", \"Topic1\", \"Topic1\", \"Topic1\", \"Topic1\", \"Topic1\", \"Topic1\", \"Topic1\", \"Topic1\", \"Topic1\", \"Topic1\", \"Topic1\", \"Topic1\", \"Topic1\", \"Topic1\", \"Topic1\", \"Topic1\", \"Topic2\", \"Topic2\", \"Topic2\", \"Topic2\", \"Topic2\", \"Topic2\", \"Topic2\", \"Topic2\", \"Topic2\", \"Topic2\", \"Topic2\", \"Topic2\", \"Topic2\", \"Topic2\", \"Topic2\", \"Topic2\", \"Topic2\", \"Topic2\", \"Topic2\", \"Topic2\", \"Topic2\", \"Topic2\", \"Topic2\", \"Topic2\", \"Topic2\", \"Topic2\", \"Topic2\", \"Topic2\", \"Topic2\", \"Topic2\", \"Topic2\", \"Topic2\", \"Topic2\", \"Topic2\", \"Topic2\", \"Topic2\", \"Topic2\", \"Topic2\", \"Topic2\", \"Topic2\", \"Topic3\", \"Topic3\", \"Topic3\", \"Topic3\", \"Topic3\", \"Topic3\", \"Topic3\", \"Topic3\", \"Topic3\", \"Topic3\", \"Topic3\", \"Topic3\", \"Topic3\", \"Topic3\", \"Topic3\", \"Topic3\", \"Topic3\", \"Topic3\", \"Topic3\", \"Topic3\", \"Topic3\", \"Topic3\", \"Topic3\", \"Topic3\", \"Topic3\", \"Topic3\", \"Topic3\", \"Topic3\", \"Topic3\", \"Topic3\", \"Topic3\", \"Topic3\", \"Topic3\", \"Topic3\", \"Topic3\", \"Topic3\", \"Topic3\", \"Topic3\", \"Topic3\", \"Topic3\", \"Topic3\", \"Topic4\", \"Topic4\", \"Topic4\", \"Topic4\", \"Topic4\", \"Topic4\", \"Topic4\", \"Topic4\", \"Topic4\", \"Topic4\", \"Topic4\", \"Topic4\", \"Topic4\", \"Topic4\", \"Topic4\", \"Topic4\", \"Topic4\", \"Topic4\", \"Topic4\", \"Topic4\", \"Topic4\", \"Topic4\", \"Topic4\", \"Topic4\", \"Topic4\", \"Topic4\", \"Topic4\", \"Topic4\", \"Topic4\", \"Topic4\", \"Topic4\", \"Topic4\", \"Topic4\", \"Topic4\", \"Topic4\", \"Topic4\", \"Topic4\", \"Topic4\", \"Topic4\", \"Topic4\", \"Topic4\", \"Topic5\", \"Topic5\", \"Topic5\", \"Topic5\", \"Topic5\", \"Topic5\", \"Topic5\", \"Topic5\", \"Topic5\", \"Topic5\", \"Topic5\", \"Topic5\", \"Topic5\", \"Topic5\", \"Topic5\", \"Topic5\", \"Topic5\", \"Topic5\", \"Topic5\", \"Topic5\", \"Topic5\", \"Topic5\", \"Topic5\", \"Topic5\", \"Topic5\", \"Topic5\", \"Topic5\", \"Topic5\", \"Topic5\", \"Topic5\", \"Topic5\", \"Topic5\", \"Topic5\", \"Topic5\", \"Topic5\", \"Topic5\", \"Topic5\", \"Topic5\", \"Topic5\", \"Topic5\", \"Topic5\", \"Topic5\", \"Topic6\", \"Topic6\", \"Topic6\", \"Topic6\", \"Topic6\", \"Topic6\", \"Topic6\", \"Topic6\", \"Topic6\", \"Topic6\", \"Topic6\", \"Topic6\", \"Topic6\", \"Topic6\", \"Topic6\", \"Topic6\", \"Topic6\", \"Topic6\", \"Topic6\", \"Topic6\", \"Topic6\", \"Topic6\", \"Topic6\", \"Topic6\", \"Topic6\", \"Topic6\", \"Topic6\", \"Topic6\", \"Topic6\", \"Topic6\", \"Topic6\", \"Topic6\", \"Topic6\", \"Topic6\", \"Topic6\", \"Topic6\", \"Topic6\", \"Topic6\", \"Topic6\", \"Topic6\", \"Topic7\", \"Topic7\", \"Topic7\", \"Topic7\", \"Topic7\", \"Topic7\", \"Topic7\", \"Topic7\", \"Topic7\", \"Topic7\", \"Topic7\", \"Topic7\", \"Topic7\", \"Topic7\", \"Topic7\", \"Topic7\", \"Topic7\", \"Topic7\", \"Topic7\", \"Topic7\", \"Topic7\", \"Topic7\", \"Topic7\", \"Topic7\", \"Topic7\", \"Topic7\", \"Topic7\", \"Topic7\", \"Topic7\", \"Topic7\", \"Topic7\", \"Topic7\", \"Topic7\", \"Topic7\", \"Topic7\", \"Topic7\", \"Topic7\", \"Topic7\", \"Topic7\", \"Topic7\", \"Topic8\", \"Topic8\", \"Topic8\", \"Topic8\", \"Topic8\", \"Topic8\", \"Topic8\", \"Topic8\", \"Topic8\", \"Topic8\", \"Topic8\", \"Topic8\", \"Topic8\", \"Topic8\", \"Topic8\", \"Topic8\", \"Topic8\", \"Topic8\", \"Topic8\", \"Topic8\", \"Topic8\", \"Topic8\", \"Topic8\", \"Topic8\", \"Topic8\", \"Topic8\", \"Topic8\", \"Topic8\", \"Topic8\", \"Topic8\", \"Topic8\", \"Topic8\", \"Topic8\", \"Topic8\", \"Topic8\", \"Topic8\", \"Topic8\", \"Topic8\", \"Topic8\", \"Topic8\", \"Topic8\", \"Topic8\", \"Topic8\", \"Topic9\", \"Topic9\", \"Topic9\", \"Topic9\", \"Topic9\", \"Topic9\", \"Topic9\", \"Topic9\", \"Topic9\", \"Topic9\", \"Topic9\", \"Topic9\", \"Topic9\", \"Topic9\", \"Topic9\", \"Topic9\", \"Topic9\", \"Topic9\", \"Topic9\", \"Topic9\", \"Topic9\", \"Topic9\", \"Topic9\", \"Topic9\", \"Topic9\", \"Topic9\", \"Topic9\", \"Topic9\", \"Topic9\", \"Topic9\", \"Topic9\", \"Topic9\", \"Topic9\", \"Topic9\", \"Topic9\", \"Topic9\", \"Topic9\", \"Topic9\", \"Topic10\", \"Topic10\", \"Topic10\", \"Topic10\", \"Topic10\", \"Topic10\", \"Topic10\", \"Topic10\", \"Topic10\", \"Topic10\", \"Topic10\", \"Topic10\", \"Topic10\", \"Topic10\", \"Topic10\", \"Topic10\", \"Topic10\", \"Topic10\", \"Topic10\", \"Topic10\", \"Topic10\", \"Topic10\", \"Topic10\", \"Topic10\", \"Topic10\", \"Topic10\", \"Topic10\", \"Topic10\", \"Topic10\", \"Topic10\", \"Topic10\", \"Topic10\", \"Topic10\", \"Topic10\", \"Topic10\", \"Topic10\", \"Topic10\", \"Topic10\", \"Topic10\", \"Topic10\", \"Topic10\", \"Topic11\", \"Topic11\", \"Topic11\", \"Topic11\", \"Topic11\", \"Topic11\", \"Topic11\", \"Topic11\", \"Topic11\", \"Topic11\", \"Topic11\", \"Topic11\", \"Topic11\", \"Topic11\", \"Topic11\", \"Topic11\", \"Topic11\", \"Topic11\", \"Topic11\", \"Topic11\", \"Topic11\", \"Topic11\", \"Topic11\", \"Topic11\", \"Topic11\", \"Topic11\", \"Topic11\", \"Topic11\", \"Topic11\", \"Topic11\", \"Topic11\", \"Topic11\", \"Topic11\", \"Topic11\", \"Topic11\", \"Topic11\", \"Topic11\", \"Topic11\", \"Topic11\", \"Topic11\", \"Topic11\", \"Topic11\", \"Topic11\", \"Topic12\", \"Topic12\", \"Topic12\", \"Topic12\", \"Topic12\", \"Topic12\", \"Topic12\", \"Topic12\", \"Topic12\", \"Topic12\", \"Topic12\", \"Topic12\", \"Topic12\", \"Topic12\", \"Topic12\", \"Topic12\", \"Topic12\", \"Topic12\", \"Topic12\", \"Topic12\", \"Topic12\", \"Topic12\", \"Topic12\", \"Topic12\", \"Topic12\", \"Topic12\", \"Topic12\", \"Topic12\", \"Topic12\", \"Topic12\", \"Topic12\", \"Topic12\", \"Topic12\", \"Topic12\", \"Topic12\", \"Topic12\", \"Topic12\", \"Topic12\", \"Topic12\", \"Topic12\", \"Topic13\", \"Topic13\", \"Topic13\", \"Topic13\", \"Topic13\", \"Topic13\", \"Topic13\", \"Topic13\", \"Topic13\", \"Topic13\", \"Topic13\", \"Topic13\", \"Topic13\", \"Topic13\", \"Topic13\", \"Topic13\", \"Topic13\", \"Topic13\", \"Topic13\", \"Topic13\", \"Topic13\", \"Topic13\", \"Topic13\", \"Topic13\", \"Topic13\", \"Topic13\", \"Topic13\", \"Topic13\", \"Topic13\", \"Topic13\", \"Topic13\", \"Topic13\", \"Topic13\", \"Topic13\", \"Topic13\", \"Topic13\", \"Topic13\", \"Topic13\", \"Topic13\", \"Topic13\", \"Topic13\", \"Topic14\", \"Topic14\", \"Topic14\", \"Topic14\", \"Topic14\", \"Topic14\", \"Topic14\", \"Topic14\", \"Topic14\", \"Topic14\", \"Topic14\", \"Topic14\", \"Topic14\", \"Topic14\", \"Topic14\", \"Topic14\", \"Topic14\", \"Topic14\", \"Topic14\", \"Topic14\", \"Topic14\", \"Topic14\", \"Topic14\", \"Topic14\", \"Topic14\", \"Topic14\", \"Topic14\", \"Topic14\", \"Topic14\", \"Topic14\", \"Topic14\", \"Topic14\", \"Topic14\", \"Topic14\", \"Topic14\", \"Topic14\", \"Topic14\", \"Topic14\", \"Topic14\", \"Topic15\", \"Topic15\", \"Topic15\", \"Topic15\", \"Topic15\", \"Topic15\", \"Topic15\", \"Topic15\", \"Topic15\", \"Topic15\", \"Topic15\", \"Topic15\", \"Topic15\", \"Topic15\", \"Topic15\", \"Topic15\", \"Topic15\", \"Topic15\", \"Topic15\", \"Topic15\", \"Topic15\", \"Topic15\", \"Topic15\", \"Topic15\", \"Topic15\", \"Topic15\", \"Topic15\", \"Topic15\", \"Topic15\", \"Topic15\", \"Topic15\", \"Topic15\", \"Topic15\", \"Topic15\", \"Topic15\", \"Topic15\", \"Topic15\", \"Topic15\"], \"logprob\": [30.0, 29.0, 28.0, 27.0, 26.0, 25.0, 24.0, 23.0, 22.0, 21.0, 20.0, 19.0, 18.0, 17.0, 16.0, 15.0, 14.0, 13.0, 12.0, 11.0, 10.0, 9.0, 8.0, 7.0, 6.0, 5.0, 4.0, 3.0, 2.0, 1.0, -7.4595, -7.4809, -7.5248, -7.4718, -7.5099, -7.5356, -7.5039, -7.5712, -7.5401, -7.5373, -7.564, -7.5748, -7.5326, -7.536, -7.5208, -7.5442, -7.5968, -7.5729, -7.5768, -7.6195, -7.5578, -7.6044, -7.5985, -7.5459, -7.5741, -7.6059, -7.5554, -7.585, -7.5633, -7.5984, -7.5442, -7.5262, -7.5419, -7.5674, -7.5631, -7.5555, -7.5607, -7.568, -7.5711, -7.5713, -7.5254, -7.5707, -7.5454, -7.556, -7.5381, -7.5383, -7.5353, -7.5412, -7.5735, -7.5436, -7.5638, -7.544, -7.57, -7.605, -7.5591, -7.5105, -7.5827, -7.5987, -7.6063, -7.5476, -7.5685, -7.5881, -7.5358, -7.5757, -7.5533, -7.5792, -7.5945, -7.5667, -7.5645, -7.5951, -7.5624, -7.5694, -7.5554, -7.5483, -7.5621, -7.5636, -7.5656, -7.5507, -7.5674, -7.5716, -7.4912, -7.4917, -7.5341, -7.5124, -7.5298, -7.5556, -7.5658, -7.5337, -7.5808, -7.5731, -7.4909, -7.5836, -7.5576, -7.5574, -7.5923, -7.5316, -7.5981, -7.5956, -7.5906, -7.571, -7.5354, -7.5747, -7.6099, -7.5671, -7.5404, -7.5825, -7.5848, -7.5806, -7.5734, -7.6059, -7.558, -7.5488, -7.5512, -7.5609, -7.5565, -7.5774, -7.5687, -7.5767, -7.5789, -7.5769, -7.5798, -7.4579, -7.4792, -7.5102, -7.536, -7.5316, -7.4866, -7.4972, -7.5239, -7.4737, -7.5145, -7.5623, -7.59, -7.5559, -7.5431, -7.5349, -7.56, -7.5727, -7.5445, -7.5366, -7.5866, -7.5663, -7.5027, -7.5858, -7.5805, -7.5856, -7.5537, -7.5381, -7.5693, -7.5414, -7.6006, -7.5397, -7.558, -7.5582, -7.5599, -7.5427, -7.5504, -7.5363, -7.5497, -7.5591, -7.5576, -7.5586, -7.444, -7.4803, -7.4901, -7.5557, -7.5178, -7.5154, -7.5334, -7.5831, -7.5266, -7.5588, -7.5812, -7.5446, -7.5763, -7.5803, -7.5352, -7.5649, -7.5458, -7.5775, -7.5811, -7.5317, -7.557, -7.5379, -7.5869, -7.5784, -7.62, -7.5809, -7.581, -7.5901, -7.6045, -7.6126, -7.5437, -7.5592, -7.5448, -7.5391, -7.5542, -7.5661, -7.5771, -7.5729, -7.5755, -7.5792, -7.5782, -7.579, -7.4552, -7.5249, -7.5353, -7.5325, -7.5442, -7.5162, -7.5496, -7.5685, -7.543, -7.5412, -7.5643, -7.5502, -7.5253, -7.5388, -7.5139, -7.5975, -7.5711, -7.5759, -7.5691, -7.5822, -7.6154, -7.6009, -7.5817, -7.5637, -7.6031, -7.5895, -7.5963, -7.587, -7.5864, -7.5526, -7.57, -7.5492, -7.5859, -7.5897, -7.5677, -7.5714, -7.5832, -7.5763, -7.5856, -7.5844, -7.4015, -7.4697, -7.481, -7.5297, -7.5019, -7.5482, -7.546, -7.5373, -7.5247, -7.5907, -7.5859, -7.5712, -7.5887, -7.5536, -7.5447, -7.5773, -7.5658, -7.5594, -7.5803, -7.5488, -7.5799, -7.5976, -7.5415, -7.5892, -7.6071, -7.5729, -7.5546, -7.6122, -7.5804, -7.616, -7.5938, -7.5583, -7.5761, -7.5554, -7.5736, -7.5689, -7.5792, -7.5758, -7.5827, -7.5823, -7.4683, -7.4887, -7.5128, -7.5297, -7.5471, -7.5905, -7.5926, -7.5325, -7.6381, -7.5509, -7.5432, -7.5094, -7.5267, -7.5536, -7.5808, -7.5328, -7.5946, -7.5701, -7.5594, -7.5612, -7.5659, -7.5878, -7.5734, -7.6001, -7.5588, -7.5916, -7.6111, -7.5397, -7.5612, -7.5858, -7.5785, -7.5658, -7.5494, -7.5497, -7.5502, -7.5538, -7.5782, -7.5784, -7.5748, -7.5747, -7.5707, -7.5762, -7.5766, -7.4952, -7.4855, -7.5111, -7.4909, -7.5518, -7.5418, -7.5226, -7.5571, -7.5392, -7.5685, -7.5273, -7.6222, -7.5718, -7.5411, -7.6079, -7.538, -7.5679, -7.5775, -7.5913, -7.5948, -7.6195, -7.5612, -7.5631, -7.6035, -7.5398, -7.5964, -7.6088, -7.5654, -7.6148, -7.6043, -7.5795, -7.5796, -7.5887, -7.5748, -7.5862, -7.5833, -7.5924, -7.5919, -7.4334, -7.4988, -7.4608, -7.5245, -7.5326, -7.4943, -7.4964, -7.5004, -7.5367, -7.536, -7.5497, -7.5194, -7.5414, -7.5706, -7.5988, -7.5622, -7.5818, -7.5452, -7.5895, -7.5787, -7.5647, -7.5814, -7.611, -7.5795, -7.5876, -7.6265, -7.638, -7.5916, -7.5656, -7.5745, -7.5851, -7.5642, -7.5639, -7.5508, -7.5497, -7.5554, -7.5395, -7.5616, -7.5658, -7.5665, -7.5746, -7.5493, -7.49, -7.494, -7.5639, -7.5483, -7.5384, -7.5354, -7.5843, -7.5509, -7.5602, -7.5721, -7.6028, -7.5759, -7.5766, -7.5577, -7.5474, -7.575, -7.6092, -7.553, -7.5499, -7.5907, -7.5401, -7.5576, -7.5627, -7.5996, -7.5858, -7.5988, -7.6101, -7.5984, -7.5681, -7.5781, -7.5617, -7.57, -7.562, -7.5226, -7.5612, -7.5646, -7.5627, -7.571, -7.568, -7.5692, -7.5723, -7.5726, -7.4703, -7.4433, -7.4939, -7.4937, -7.4905, -7.4989, -7.5275, -7.5016, -7.5362, -7.552, -7.5219, -7.5765, -7.5019, -7.5891, -7.5527, -7.5691, -7.5623, -7.5757, -7.5781, -7.5808, -7.5647, -7.5781, -7.5447, -7.5934, -7.657, -7.5697, -7.5628, -7.5956, -7.5921, -7.5795, -7.5509, -7.5829, -7.5603, -7.5329, -7.5559, -7.5725, -7.5739, -7.5717, -7.5735, -7.5723, -7.4565, -7.5037, -7.5023, -7.5269, -7.5966, -7.5824, -7.523, -7.5931, -7.5675, -7.5743, -7.5792, -7.5626, -7.5608, -7.5729, -7.5638, -7.556, -7.5602, -7.6352, -7.5926, -7.5888, -7.5902, -7.5835, -7.6377, -7.5608, -7.6007, -7.5631, -7.6181, -7.6032, -7.5802, -7.5813, -7.5726, -7.5704, -7.588, -7.5625, -7.5646, -7.5785, -7.5769, -7.5786, -7.5837, -7.5851, -7.5862, -7.5204, -7.5015, -7.4911, -7.5464, -7.4716, -7.5322, -7.5385, -7.5771, -7.5047, -7.5886, -7.5696, -7.5228, -7.5466, -7.5303, -7.5714, -7.5507, -7.5135, -7.563, -7.5322, -7.5347, -7.5914, -7.574, -7.5462, -7.5686, -7.5798, -7.5614, -7.5431, -7.6022, -7.5517, -7.5368, -7.524, -7.5039, -7.5564, -7.5524, -7.5547, -7.5631, -7.5607, -7.5648, -7.5685, -7.5396, -7.4979, -7.5415, -7.5904, -7.5444, -7.5901, -7.6008, -7.5755, -7.5985, -7.5855, -7.582, -7.5322, -7.5775, -7.5692, -7.579, -7.5713, -7.5408, -7.5765, -7.6039, -7.5918, -7.6289, -7.5784, -7.5738, -7.5689, -7.5661, -7.5677, -7.5676, -7.5501, -7.584, -7.6147, -7.5615, -7.5595, -7.5772, -7.573, -7.5807, -7.5801, -7.5838, -7.5846], \"loglift\": [30.0, 29.0, 28.0, 27.0, 26.0, 25.0, 24.0, 23.0, 22.0, 21.0, 20.0, 19.0, 18.0, 17.0, 16.0, 15.0, 14.0, 13.0, 12.0, 11.0, 10.0, 9.0, 8.0, 7.0, 6.0, 5.0, 4.0, 3.0, 2.0, 1.0, 0.2712, 0.2652, 0.2645, 0.264, 0.2564, 0.2429, 0.2389, 0.2368, 0.2338, 0.2334, 0.2255, 0.2255, 0.2249, 0.2201, 0.2194, 0.2193, 0.2185, 0.2162, 0.2158, 0.209, 0.2075, 0.2066, 0.2056, 0.2056, 0.2039, 0.2036, 0.2002, 0.1997, 0.1992, 0.1961, 0.1951, 0.1851, 0.184, 0.1922, 0.187, 0.181, 0.1585, 0.1628, 0.1632, 0.1516, 0.2936, 0.2425, 0.2323, 0.2313, 0.2305, 0.2213, 0.2212, 0.218, 0.2154, 0.2149, 0.214, 0.2114, 0.2108, 0.2083, 0.2082, 0.2082, 0.206, 0.2035, 0.2034, 0.2021, 0.2012, 0.2002, 0.1996, 0.1996, 0.1983, 0.1982, 0.1979, 0.1977, 0.1946, 0.1946, 0.1892, 0.1877, 0.1811, 0.1765, 0.1788, 0.1739, 0.1694, 0.1318, 0.1555, 0.1759, 0.2777, 0.2653, 0.2442, 0.2401, 0.2367, 0.2279, 0.2244, 0.2233, 0.2209, 0.2204, 0.2204, 0.2145, 0.214, 0.2136, 0.2129, 0.2119, 0.2108, 0.2094, 0.2081, 0.2065, 0.2061, 0.2059, 0.2022, 0.2008, 0.2, 0.1998, 0.1988, 0.1985, 0.1941, 0.1938, 0.1887, 0.1871, 0.1835, 0.1764, 0.1666, 0.1892, 0.1699, 0.1831, 0.1648, 0.1371, 0.1688, 0.3035, 0.2925, 0.2919, 0.2717, 0.2702, 0.2657, 0.2657, 0.2494, 0.2364, 0.2356, 0.2354, 0.2328, 0.229, 0.2273, 0.2241, 0.224, 0.2238, 0.2221, 0.2169, 0.2162, 0.2134, 0.2129, 0.2123, 0.2106, 0.2085, 0.2083, 0.2067, 0.2065, 0.2047, 0.2035, 0.2031, 0.2025, 0.2002, 0.1979, 0.1786, 0.1854, 0.1597, 0.1782, 0.1924, 0.1825, 0.1582, 0.3465, 0.3202, 0.2853, 0.2381, 0.2333, 0.2271, 0.2243, 0.224, 0.2231, 0.2218, 0.2216, 0.218, 0.2179, 0.217, 0.2111, 0.2103, 0.2096, 0.2091, 0.2077, 0.207, 0.2054, 0.2045, 0.2036, 0.1991, 0.1988, 0.1984, 0.198, 0.1976, 0.1975, 0.1969, 0.1968, 0.1964, 0.1887, 0.1868, 0.1849, 0.1788, 0.1921, 0.1787, 0.1777, 0.1891, 0.1631, 0.1601, 0.2816, 0.281, 0.2687, 0.268, 0.2537, 0.2435, 0.2251, 0.2247, 0.223, 0.222, 0.2186, 0.2182, 0.2171, 0.2161, 0.214, 0.214, 0.2079, 0.204, 0.2033, 0.2006, 0.197, 0.1957, 0.1956, 0.1926, 0.1913, 0.1909, 0.1903, 0.1897, 0.1863, 0.1861, 0.1859, 0.1846, 0.1834, 0.1852, 0.1611, 0.149, 0.1685, 0.1388, 0.1726, 0.1377, 0.3603, 0.2966, 0.2711, 0.2639, 0.2566, 0.2459, 0.2412, 0.2337, 0.2237, 0.2195, 0.2155, 0.2133, 0.2115, 0.2115, 0.2111, 0.2104, 0.2086, 0.2065, 0.2051, 0.2046, 0.2037, 0.2027, 0.1997, 0.1989, 0.195, 0.1939, 0.1916, 0.1914, 0.1901, 0.1878, 0.1875, 0.1848, 0.1841, 0.1795, 0.1759, 0.1704, 0.1546, 0.1148, 0.1646, 0.1436, 0.277, 0.2761, 0.2585, 0.2551, 0.2418, 0.2347, 0.2322, 0.2272, 0.2219, 0.2196, 0.2188, 0.2186, 0.2183, 0.2168, 0.2148, 0.2138, 0.2114, 0.2089, 0.2088, 0.2081, 0.2075, 0.2075, 0.207, 0.2069, 0.2056, 0.2049, 0.2021, 0.2012, 0.2007, 0.2003, 0.1976, 0.1936, 0.1878, 0.1872, 0.1872, 0.1807, 0.1959, 0.1959, 0.1861, 0.18, 0.1542, 0.1754, 0.1667, 0.3035, 0.2692, 0.2638, 0.2449, 0.2388, 0.2367, 0.2285, 0.2215, 0.2209, 0.2132, 0.2092, 0.2081, 0.2071, 0.2061, 0.2059, 0.2018, 0.2017, 0.2016, 0.199, 0.1977, 0.1959, 0.1954, 0.195, 0.1933, 0.1931, 0.1912, 0.1912, 0.1908, 0.184, 0.1837, 0.1803, 0.1802, 0.1778, 0.1689, 0.1717, 0.1627, 0.1574, 0.1368, 0.3091, 0.3044, 0.2791, 0.2747, 0.268, 0.2554, 0.2479, 0.2451, 0.245, 0.242, 0.2394, 0.236, 0.2353, 0.2328, 0.22, 0.2144, 0.2106, 0.2099, 0.2086, 0.2069, 0.2048, 0.2047, 0.2043, 0.1999, 0.1966, 0.196, 0.1955, 0.1948, 0.1945, 0.1945, 0.1932, 0.191, 0.1903, 0.1818, 0.1812, 0.1826, 0.1732, 0.185, 0.183, 0.1522, 0.1741, 0.2442, 0.2401, 0.2321, 0.2293, 0.2284, 0.2269, 0.223, 0.2197, 0.2197, 0.2172, 0.2149, 0.213, 0.2128, 0.2096, 0.207, 0.2066, 0.2062, 0.205, 0.2038, 0.2019, 0.1985, 0.1973, 0.1968, 0.1963, 0.1961, 0.1928, 0.1916, 0.1908, 0.1907, 0.189, 0.1889, 0.1855, 0.1853, 0.1789, 0.1599, 0.174, 0.1762, 0.1721, 0.1806, 0.1671, 0.1643, 0.1762, 0.1606, 0.3081, 0.2878, 0.2867, 0.2802, 0.2642, 0.2539, 0.2481, 0.2419, 0.2356, 0.2354, 0.2348, 0.2341, 0.2324, 0.2292, 0.2214, 0.214, 0.2129, 0.2107, 0.2093, 0.209, 0.2076, 0.2039, 0.2035, 0.2033, 0.203, 0.1972, 0.197, 0.1926, 0.1922, 0.1919, 0.1887, 0.1914, 0.1882, 0.1707, 0.1682, 0.1744, 0.1764, 0.1651, 0.1697, 0.1572, 0.3307, 0.2773, 0.2562, 0.2468, 0.2456, 0.2331, 0.2288, 0.2146, 0.2137, 0.2132, 0.2103, 0.2096, 0.2069, 0.2064, 0.2061, 0.2049, 0.204, 0.1989, 0.197, 0.1969, 0.1967, 0.1949, 0.1925, 0.1921, 0.1918, 0.1891, 0.1875, 0.1867, 0.183, 0.1827, 0.1825, 0.1799, 0.1818, 0.1657, 0.1665, 0.1721, 0.167, 0.1699, 0.1657, 0.1625, 0.1663, 0.294, 0.2669, 0.263, 0.2463, 0.2455, 0.2412, 0.238, 0.235, 0.2305, 0.2302, 0.2292, 0.226, 0.221, 0.2199, 0.2179, 0.2165, 0.2163, 0.2161, 0.2154, 0.2139, 0.2105, 0.2093, 0.2085, 0.2085, 0.2079, 0.2063, 0.2063, 0.2059, 0.2041, 0.1999, 0.1947, 0.1866, 0.1988, 0.1964, 0.1908, 0.1881, 0.1788, 0.1703, 0.1766, 0.2467, 0.2359, 0.2298, 0.2215, 0.2193, 0.2157, 0.212, 0.2085, 0.2058, 0.2045, 0.2042, 0.2038, 0.1998, 0.1981, 0.1958, 0.1952, 0.195, 0.1948, 0.193, 0.1926, 0.192, 0.1915, 0.1908, 0.1901, 0.1859, 0.1855, 0.1842, 0.1839, 0.1834, 0.1821, 0.173, 0.1645, 0.1699, 0.1639, 0.1595, 0.1547, 0.1605, 0.1255]}, \"token.table\": {\"Topic\": [], \"Freq\": [], \"Term\": []}, \"R\": 30, \"lambda.step\": 0.01, \"plot.opts\": {\"xlab\": \"PC1\", \"ylab\": \"PC2\"}, \"topic.order\": [7, 3, 6, 14, 1, 12, 4, 10, 8, 15, 5, 11, 13, 2, 9]};\n",
              "\n",
              "function LDAvis_load_lib(url, callback){\n",
              "  var s = document.createElement('script');\n",
              "  s.src = url;\n",
              "  s.async = true;\n",
              "  s.onreadystatechange = s.onload = callback;\n",
              "  s.onerror = function(){console.warn(\"failed to load library \" + url);};\n",
              "  document.getElementsByTagName(\"head\")[0].appendChild(s);\n",
              "}\n",
              "\n",
              "if(typeof(LDAvis) !== \"undefined\"){\n",
              "   // already loaded: just create the visualization\n",
              "   !function(LDAvis){\n",
              "       new LDAvis(\"#\" + \"ldavis_el2171401701105399206137814708\", ldavis_el2171401701105399206137814708_data);\n",
              "   }(LDAvis);\n",
              "}else if(typeof define === \"function\" && define.amd){\n",
              "   // require.js is available: use it to load d3/LDAvis\n",
              "   require.config({paths: {d3: \"https://d3js.org/d3.v5\"}});\n",
              "   require([\"d3\"], function(d3){\n",
              "      window.d3 = d3;\n",
              "      LDAvis_load_lib(\"https://cdn.jsdelivr.net/gh/bmabey/pyLDAvis@3.4.0/pyLDAvis/js/ldavis.v3.0.0.js\", function(){\n",
              "        new LDAvis(\"#\" + \"ldavis_el2171401701105399206137814708\", ldavis_el2171401701105399206137814708_data);\n",
              "      });\n",
              "    });\n",
              "}else{\n",
              "    // require.js not available: dynamically load d3 & LDAvis\n",
              "    LDAvis_load_lib(\"https://d3js.org/d3.v5.js\", function(){\n",
              "         LDAvis_load_lib(\"https://cdn.jsdelivr.net/gh/bmabey/pyLDAvis@3.4.0/pyLDAvis/js/ldavis.v3.0.0.js\", function(){\n",
              "                 new LDAvis(\"#\" + \"ldavis_el2171401701105399206137814708\", ldavis_el2171401701105399206137814708_data);\n",
              "            })\n",
              "         });\n",
              "}\n",
              "</script>"
            ]
          },
          "metadata": {},
          "execution_count": 23
        }
      ],
      "source": [
        "#!pip install pyLDAvis\n",
        "import pyLDAvis.gensim\n",
        "from gensim.models import wrappers\n",
        "##TODO using LDAvis visualize the topics using the optimal number of topics\n",
        "lda = LdaMallet(mallet_path, doc_term_matrix, num_topics=opt_topics, id2word=dictionary)\n",
        "lda_vis = wrappers.ldamallet.malletmodel2ldamodel(lda)\n",
        "\n",
        "pyLDAvis.enable_notebook()\n",
        "pyLDAvis.gensim.prepare(lda_vis, doc_term_matrix, dictionary)"
      ],
      "id": "3EJIIr58ELq6"
    }
  ],
  "metadata": {
    "kernelspec": {
      "display_name": "Python 3",
      "language": "python",
      "name": "python3"
    },
    "language_info": {
      "codemirror_mode": {
        "name": "ipython",
        "version": 3
      },
      "file_extension": ".py",
      "mimetype": "text/x-python",
      "name": "python",
      "nbconvert_exporter": "python",
      "pygments_lexer": "ipython3",
      "version": "3.7.4"
    },
    "colab": {
      "provenance": []
    }
  },
  "nbformat": 4,
  "nbformat_minor": 5
}