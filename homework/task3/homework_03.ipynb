{
  "cells": [
    {
      "cell_type": "markdown",
      "id": "4uqIDL5TELq2",
      "metadata": {
        "id": "4uqIDL5TELq2"
      },
      "source": [
        "# HW03: Distance and Topic Model"
      ]
    },
    {
      "cell_type": "markdown",
      "id": "BROoam_wELq3",
      "metadata": {
        "id": "BROoam_wELq3"
      },
      "source": [
        "Remember that these homework work as a completion grade. **You can skip one section without losing credit.**"
      ]
    },
    {
      "cell_type": "markdown",
      "id": "pwac0WPhELq3",
      "metadata": {
        "id": "pwac0WPhELq3"
      },
      "source": [
        "## Load and Pre-process Text"
      ]
    },
    {
      "cell_type": "code",
      "execution_count": 37,
      "id": "bmcziBH4ELq3",
      "metadata": {
        "colab": {
          "base_uri": "https://localhost:8080/",
          "height": 540
        },
        "id": "bmcziBH4ELq3",
        "outputId": "b69e2fa7-4232-49e8-976a-b938a6dc314b"
      },
      "outputs": [
        {
          "output_type": "stream",
          "name": "stdout",
          "text": [
            "--2023-03-16 09:32:56--  https://raw.githubusercontent.com/mhjabreel/CharCnn_Keras/master/data/ag_news_csv/train.csv\n",
            "Resolving raw.githubusercontent.com (raw.githubusercontent.com)... 185.199.108.133, 185.199.109.133, 185.199.110.133, ...\n",
            "Connecting to raw.githubusercontent.com (raw.githubusercontent.com)|185.199.108.133|:443... connected.\n",
            "HTTP request sent, awaiting response... 200 OK\n",
            "Length: 29470338 (28M) [text/plain]\n",
            "Saving to: ‘train.csv.1’\n",
            "\n",
            "train.csv.1         100%[===================>]  28.10M   162MB/s    in 0.2s    \n",
            "\n",
            "2023-03-16 09:32:56 (162 MB/s) - ‘train.csv.1’ saved [29470338/29470338]\n",
            "\n"
          ]
        },
        {
          "output_type": "execute_result",
          "data": {
            "text/plain": [
              "      label                                              title  \\\n",
              "0  business  Carlyle Looks Toward Commercial Aerospace (Reu...   \n",
              "1  business    Oil and Economy Cloud Stocks' Outlook (Reuters)   \n",
              "2  business  Iraq Halts Oil Exports from Main Southern Pipe...   \n",
              "3  business  Oil prices soar to all-time record, posing new...   \n",
              "4  business        Stocks End Up, But Near Year Lows (Reuters)   \n",
              "\n",
              "                                                lead  \\\n",
              "0  Reuters - Private investment firm Carlyle Grou...   \n",
              "1  Reuters - Soaring crude prices plus worries\\ab...   \n",
              "2  Reuters - Authorities have halted oil export\\f...   \n",
              "3  AFP - Tearaway world oil prices, toppling reco...   \n",
              "4  Reuters - Stocks ended slightly higher on Frid...   \n",
              "\n",
              "                                                text  \n",
              "0  Carlyle Looks Toward Commercial Aerospace (Reu...  \n",
              "1  Oil and Economy Cloud Stocks' Outlook (Reuters...  \n",
              "2  Iraq Halts Oil Exports from Main Southern Pipe...  \n",
              "3  Oil prices soar to all-time record, posing new...  \n",
              "4  Stocks End Up, But Near Year Lows (Reuters) Re...  "
            ],
            "text/html": [
              "\n",
              "  <div id=\"df-d6b30eaa-7f48-41b3-ad0c-3aa3dd275710\">\n",
              "    <div class=\"colab-df-container\">\n",
              "      <div>\n",
              "<style scoped>\n",
              "    .dataframe tbody tr th:only-of-type {\n",
              "        vertical-align: middle;\n",
              "    }\n",
              "\n",
              "    .dataframe tbody tr th {\n",
              "        vertical-align: top;\n",
              "    }\n",
              "\n",
              "    .dataframe thead th {\n",
              "        text-align: right;\n",
              "    }\n",
              "</style>\n",
              "<table border=\"1\" class=\"dataframe\">\n",
              "  <thead>\n",
              "    <tr style=\"text-align: right;\">\n",
              "      <th></th>\n",
              "      <th>label</th>\n",
              "      <th>title</th>\n",
              "      <th>lead</th>\n",
              "      <th>text</th>\n",
              "    </tr>\n",
              "  </thead>\n",
              "  <tbody>\n",
              "    <tr>\n",
              "      <th>0</th>\n",
              "      <td>business</td>\n",
              "      <td>Carlyle Looks Toward Commercial Aerospace (Reu...</td>\n",
              "      <td>Reuters - Private investment firm Carlyle Grou...</td>\n",
              "      <td>Carlyle Looks Toward Commercial Aerospace (Reu...</td>\n",
              "    </tr>\n",
              "    <tr>\n",
              "      <th>1</th>\n",
              "      <td>business</td>\n",
              "      <td>Oil and Economy Cloud Stocks' Outlook (Reuters)</td>\n",
              "      <td>Reuters - Soaring crude prices plus worries\\ab...</td>\n",
              "      <td>Oil and Economy Cloud Stocks' Outlook (Reuters...</td>\n",
              "    </tr>\n",
              "    <tr>\n",
              "      <th>2</th>\n",
              "      <td>business</td>\n",
              "      <td>Iraq Halts Oil Exports from Main Southern Pipe...</td>\n",
              "      <td>Reuters - Authorities have halted oil export\\f...</td>\n",
              "      <td>Iraq Halts Oil Exports from Main Southern Pipe...</td>\n",
              "    </tr>\n",
              "    <tr>\n",
              "      <th>3</th>\n",
              "      <td>business</td>\n",
              "      <td>Oil prices soar to all-time record, posing new...</td>\n",
              "      <td>AFP - Tearaway world oil prices, toppling reco...</td>\n",
              "      <td>Oil prices soar to all-time record, posing new...</td>\n",
              "    </tr>\n",
              "    <tr>\n",
              "      <th>4</th>\n",
              "      <td>business</td>\n",
              "      <td>Stocks End Up, But Near Year Lows (Reuters)</td>\n",
              "      <td>Reuters - Stocks ended slightly higher on Frid...</td>\n",
              "      <td>Stocks End Up, But Near Year Lows (Reuters) Re...</td>\n",
              "    </tr>\n",
              "  </tbody>\n",
              "</table>\n",
              "</div>\n",
              "      <button class=\"colab-df-convert\" onclick=\"convertToInteractive('df-d6b30eaa-7f48-41b3-ad0c-3aa3dd275710')\"\n",
              "              title=\"Convert this dataframe to an interactive table.\"\n",
              "              style=\"display:none;\">\n",
              "        \n",
              "  <svg xmlns=\"http://www.w3.org/2000/svg\" height=\"24px\"viewBox=\"0 0 24 24\"\n",
              "       width=\"24px\">\n",
              "    <path d=\"M0 0h24v24H0V0z\" fill=\"none\"/>\n",
              "    <path d=\"M18.56 5.44l.94 2.06.94-2.06 2.06-.94-2.06-.94-.94-2.06-.94 2.06-2.06.94zm-11 1L8.5 8.5l.94-2.06 2.06-.94-2.06-.94L8.5 2.5l-.94 2.06-2.06.94zm10 10l.94 2.06.94-2.06 2.06-.94-2.06-.94-.94-2.06-.94 2.06-2.06.94z\"/><path d=\"M17.41 7.96l-1.37-1.37c-.4-.4-.92-.59-1.43-.59-.52 0-1.04.2-1.43.59L10.3 9.45l-7.72 7.72c-.78.78-.78 2.05 0 2.83L4 21.41c.39.39.9.59 1.41.59.51 0 1.02-.2 1.41-.59l7.78-7.78 2.81-2.81c.8-.78.8-2.07 0-2.86zM5.41 20L4 18.59l7.72-7.72 1.47 1.35L5.41 20z\"/>\n",
              "  </svg>\n",
              "      </button>\n",
              "      \n",
              "  <style>\n",
              "    .colab-df-container {\n",
              "      display:flex;\n",
              "      flex-wrap:wrap;\n",
              "      gap: 12px;\n",
              "    }\n",
              "\n",
              "    .colab-df-convert {\n",
              "      background-color: #E8F0FE;\n",
              "      border: none;\n",
              "      border-radius: 50%;\n",
              "      cursor: pointer;\n",
              "      display: none;\n",
              "      fill: #1967D2;\n",
              "      height: 32px;\n",
              "      padding: 0 0 0 0;\n",
              "      width: 32px;\n",
              "    }\n",
              "\n",
              "    .colab-df-convert:hover {\n",
              "      background-color: #E2EBFA;\n",
              "      box-shadow: 0px 1px 2px rgba(60, 64, 67, 0.3), 0px 1px 3px 1px rgba(60, 64, 67, 0.15);\n",
              "      fill: #174EA6;\n",
              "    }\n",
              "\n",
              "    [theme=dark] .colab-df-convert {\n",
              "      background-color: #3B4455;\n",
              "      fill: #D2E3FC;\n",
              "    }\n",
              "\n",
              "    [theme=dark] .colab-df-convert:hover {\n",
              "      background-color: #434B5C;\n",
              "      box-shadow: 0px 1px 3px 1px rgba(0, 0, 0, 0.15);\n",
              "      filter: drop-shadow(0px 1px 2px rgba(0, 0, 0, 0.3));\n",
              "      fill: #FFFFFF;\n",
              "    }\n",
              "  </style>\n",
              "\n",
              "      <script>\n",
              "        const buttonEl =\n",
              "          document.querySelector('#df-d6b30eaa-7f48-41b3-ad0c-3aa3dd275710 button.colab-df-convert');\n",
              "        buttonEl.style.display =\n",
              "          google.colab.kernel.accessAllowed ? 'block' : 'none';\n",
              "\n",
              "        async function convertToInteractive(key) {\n",
              "          const element = document.querySelector('#df-d6b30eaa-7f48-41b3-ad0c-3aa3dd275710');\n",
              "          const dataTable =\n",
              "            await google.colab.kernel.invokeFunction('convertToInteractive',\n",
              "                                                     [key], {});\n",
              "          if (!dataTable) return;\n",
              "\n",
              "          const docLinkHtml = 'Like what you see? Visit the ' +\n",
              "            '<a target=\"_blank\" href=https://colab.research.google.com/notebooks/data_table.ipynb>data table notebook</a>'\n",
              "            + ' to learn more about interactive tables.';\n",
              "          element.innerHTML = '';\n",
              "          dataTable['output_type'] = 'display_data';\n",
              "          await google.colab.output.renderOutput(dataTable, element);\n",
              "          const docLink = document.createElement('div');\n",
              "          docLink.innerHTML = docLinkHtml;\n",
              "          element.appendChild(docLink);\n",
              "        }\n",
              "      </script>\n",
              "    </div>\n",
              "  </div>\n",
              "  "
            ]
          },
          "metadata": {},
          "execution_count": 37
        }
      ],
      "source": [
        "#Import the AG news dataset (same as hw01)\n",
        "#Download them from here \n",
        "!wget https://raw.githubusercontent.com/mhjabreel/CharCnn_Keras/master/data/ag_news_csv/train.csv\n",
        "\n",
        "import pandas as pd\n",
        "import nltk\n",
        "df = pd.read_csv('train.csv')\n",
        "\n",
        "df.columns = [\"label\", \"title\", \"lead\"]\n",
        "label_map = {1:\"world\", 2:\"sport\", 3:\"business\", 4:\"sci/tech\"}\n",
        "def replace_label(x):\n",
        "\treturn label_map[x]\n",
        "df[\"label\"] = df[\"label\"].apply(replace_label) \n",
        "df[\"text\"] = df[\"title\"] + \" \" + df[\"lead\"]\n",
        "df.head()"
      ]
    },
    {
      "cell_type": "code",
      "execution_count": 38,
      "id": "SXfvpd-LELq4",
      "metadata": {
        "id": "SXfvpd-LELq4"
      },
      "outputs": [],
      "source": [
        "import spacy\n",
        "dfs = df.sample(200)\n",
        "nlp = spacy.load('en_core_web_sm')\n",
        "from sklearn.feature_extraction.text import TfidfVectorizer\n",
        "\n",
        "##TODO pre-process text as you did in HW02\n",
        "\n",
        "dfs['preprocessed'] = dfs['text'].apply(lambda x: nlp(x))\n",
        "\n",
        "##TODO vectorize the pre-processed text using TfidfVectorizer\n",
        "\n",
        "vectorizer = TfidfVectorizer()\n",
        "vec_text = vectorizer.fit_transform(dfs['preprocessed'].astype(str))"
      ]
    },
    {
      "cell_type": "markdown",
      "id": "Xv-PoYE1ELq4",
      "metadata": {
        "id": "Xv-PoYE1ELq4"
      },
      "source": [
        "## Cosine Similarity and PCA"
      ]
    },
    {
      "cell_type": "code",
      "execution_count": 39,
      "id": "CbtPCqjaELq4",
      "metadata": {
        "id": "CbtPCqjaELq4",
        "colab": {
          "base_uri": "https://localhost:8080/"
        },
        "outputId": "184096e9-4133-460f-aab4-2207fb1ce414"
      },
      "outputs": [
        {
          "output_type": "stream",
          "name": "stdout",
          "text": [
            "First snipped: US soldiers flock to laser eye clinic FORT CAMPBELL, Ky. -- Command Sergeant Major Kurt Pinero looked up from the operating table after laser eye surgery, and made out the pictures on the television screen across the room.\n",
            "\n",
            "1: Liverpool Football Club eye Italian The Reds are in desperate need for a striker following the injuries to Djibril Cisse and Milan Baros, whilst Luis Garcias hamstring problem has hardly helped matters., similarity score = 0.087480634575598\n",
            "2: US  #39;defector #39; to turn himself in Charles Robert Jenkins, a one-time US Army sergeant accused of defecting to North Korea 39 years ago, has saidy he will soon surrender to military authorities to  quot;face the charges that have been filed against me., similarity score = 0.07179255853855679\n",
            "3: Hamm Wins All-Around Gymnastics Title (AP) AP - After falling onto the edge of the judges' table on the landing of his vault, Paul Hamm performed two of the most spectacular routines of his career to win the men's all-around gymnastics title by the closest Olympic margin ever., similarity score = 0.06962766477801578\n"
          ]
        }
      ],
      "source": [
        "from sklearn.metrics.pairwise import cosine_similarity\n",
        "# Cosine_similarity = measure of similarity between two non-zero vectors.\n",
        "# Used to measure similarity between two documents repr. as vectors of word frequencies or tf-idf weights\n",
        "# if angle small -> vectors in similar direction -> cosine_sim close to 1 -> high similarity\n",
        "# if angle close to 90 -> low similarity -> cosine_sim close to 0\n",
        "# if angle close to 180 -> coseine_sim close to -1 = high dissimilarity\n",
        "# NLP: find documents that are similar to given query document, or to cluster documents based on similarity\n",
        "\n",
        "##TODO compute the cosine similarity for the first 200 snippets and for the first snippet, show the three most similar snippets and their respective cosine similarity scores\n",
        "\n",
        "sim = cosine_similarity(vec_text)\n",
        "\n",
        "first_snipped = sim[0]\n",
        "\n",
        "# argsort() sorts in ascending order\n",
        "# gives back index order in order to sort sim\n",
        "# 1:4 to exclude the first element being the first snipped itself\n",
        "top_three_ind = first_snipped.argsort()[::-1][1:4]\n",
        "\n",
        "print('First snipped:', dfs.iloc[0]['preprocessed'])\n",
        "print()\n",
        "\n",
        "\n",
        "for i, index in enumerate(top_three_ind):\n",
        "    print('{}: {}, similarity score = {}'.format(i+1, dfs.iloc[index]['preprocessed'], first_snipped[index]))\n"
      ]
    },
    {
      "cell_type": "code",
      "execution_count": 40,
      "id": "MVg9wiT_ELq4",
      "metadata": {
        "id": "MVg9wiT_ELq4",
        "colab": {
          "base_uri": "https://localhost:8080/"
        },
        "outputId": "56fe3c56-e877-444d-d1af-46c14d7aa725"
      },
      "outputs": [
        {
          "output_type": "stream",
          "name": "stdout",
          "text": [
            "First snipped: US soldiers flock to laser eye clinic FORT CAMPBELL, Ky. -- Command Sergeant Major Kurt Pinero looked up from the operating table after laser eye surgery, and made out the pictures on the television screen across the room.\n",
            "\n",
            "1: US bishop sex abuse case dropped A child abuse case against a former US bishop is dropped, hours after he was charged., similarity score = 0.9532809859285225\n",
            "2: Man Utd unveils dip in profits Manchester United says player transfers and a weaker performance on the pitch cut its full-year profits by nearly a third., similarity score = 0.9477517626667403\n",
            "3: Rawlings Accuses Obasanjo of Interference Ghanaians went to the polls yesterday to elect a new President and members of Parliament with former President Jerry Rawlings accusing Nigerian President Olusegun Obasanjo of undue interference in the electoral process., similarity score = 0.9461678759759099\n"
          ]
        }
      ],
      "source": [
        "from sklearn.decomposition import PCA\n",
        "pca = PCA(n_components=3,svd_solver='randomized')\n",
        "\n",
        "##TODO reduce the vectorized data using PCA\n",
        "\n",
        "pca_vec_text = pca.fit_transform(vec_text.toarray())\n",
        "\n",
        "##TODO compute again cosine similarity with the reduced version for the first 200 snippets\n",
        "\n",
        "red_cos_sim = cosine_similarity(pca_vec_text)\n",
        "\n",
        "##TODO for the first snippet, show again its three most similar snippets\n",
        "\n",
        "first_snipped = red_cos_sim[0]\n",
        "top_three_ind = first_snipped.argsort()[::-1][1:4]\n",
        "\n",
        "print('First snipped:', dfs.iloc[0]['preprocessed'])\n",
        "print()\n",
        "\n",
        "\n",
        "for i, index in enumerate(top_three_ind):\n",
        "    print('{}: {}, similarity score = {}'.format(i+1, dfs.iloc[index]['preprocessed'], first_snipped[index]))\n"
      ]
    },
    {
      "cell_type": "markdown",
      "id": "UM-7eKCpELq5",
      "metadata": {
        "id": "UM-7eKCpELq5"
      },
      "source": [
        "Compare the cosine similarity before and after PCA reduction. Did the results change? "
      ]
    },
    {
      "cell_type": "markdown",
      "source": [
        "Yes, the results do differ. PCA reduces dimensionality of data and only preserves the most imporant relationshipds. When applying cos_sim again on the reduced space, some data may have been lost which leads to different results."
      ],
      "metadata": {
        "id": "8C02K1Y1KyBR"
      },
      "id": "8C02K1Y1KyBR"
    },
    {
      "cell_type": "markdown",
      "id": "G5XaeYINELq5",
      "metadata": {
        "id": "G5XaeYINELq5"
      },
      "source": [
        "## Clustering"
      ]
    },
    {
      "cell_type": "code",
      "execution_count": 41,
      "id": "YemXavPQELq5",
      "metadata": {
        "id": "YemXavPQELq5",
        "colab": {
          "base_uri": "https://localhost:8080/"
        },
        "outputId": "29f2c366-8468-428d-dcb0-652591225c88"
      },
      "outputs": [
        {
          "output_type": "stream",
          "name": "stdout",
          "text": [
            "Looking in indexes: https://pypi.org/simple, https://us-python.pkg.dev/colab-wheels/public/simple/\n",
            "Requirement already satisfied: scikit-learn-extra in /usr/local/lib/python3.9/dist-packages (0.2.0)\n",
            "Requirement already satisfied: numpy>=1.13.3 in /usr/local/lib/python3.9/dist-packages (from scikit-learn-extra) (1.22.4)\n",
            "Requirement already satisfied: scipy>=0.19.1 in /usr/local/lib/python3.9/dist-packages (from scikit-learn-extra) (1.10.1)\n",
            "Requirement already satisfied: scikit-learn>=0.23.0 in /usr/local/lib/python3.9/dist-packages (from scikit-learn-extra) (1.2.2)\n",
            "Requirement already satisfied: threadpoolctl>=2.0.0 in /usr/local/lib/python3.9/dist-packages (from scikit-learn>=0.23.0->scikit-learn-extra) (3.1.0)\n",
            "Requirement already satisfied: joblib>=1.1.1 in /usr/local/lib/python3.9/dist-packages (from scikit-learn>=0.23.0->scikit-learn-extra) (1.2.0)\n"
          ]
        },
        {
          "output_type": "stream",
          "name": "stderr",
          "text": [
            "/usr/local/lib/python3.9/dist-packages/sklearn/cluster/_kmeans.py:870: FutureWarning: The default value of `n_init` will change from 10 to 'auto' in 1.4. Set the value of `n_init` explicitly to suppress the warning\n",
            "  warnings.warn(\n"
          ]
        }
      ],
      "source": [
        "!pip install scikit-learn-extra\n",
        "from sklearn_extra.cluster import KMedoids\n",
        "from sklearn.cluster import KMeans\n",
        "from sklearn.metrics import silhouette_score\n",
        "\n",
        "##TODO create the clusters found with k-medoids clustering nd 5 clusters\n",
        "\n",
        "kmedoids = KMedoids(n_clusters=5, random_state=0)\n",
        "kmedoids.fit(pca_vec_text)\n",
        "\n",
        "dfs['kmedoids_cluster'] = kmedoids.labels_\n",
        "\n",
        "##TODO create the clusters found with k-means clustering nd 5 clusters\n",
        "\n",
        "kmeans = KMeans(n_clusters=5, random_state=0)\n",
        "kmeans.fit(pca_vec_text)\n",
        "\n",
        "dfs['kmeans_cluster'] = kmeans.labels_"
      ]
    },
    {
      "cell_type": "code",
      "source": [
        "dfs.head()"
      ],
      "metadata": {
        "colab": {
          "base_uri": "https://localhost:8080/",
          "height": 642
        },
        "id": "GcObGvztPcu-",
        "outputId": "c3d314b9-4e2b-4042-b342-680178a75e8e"
      },
      "id": "GcObGvztPcu-",
      "execution_count": 42,
      "outputs": [
        {
          "output_type": "execute_result",
          "data": {
            "text/plain": [
              "           label                                              title  \\\n",
              "39818      world              US soldiers flock to laser eye clinic   \n",
              "36169   sci/tech  Anti-Spyware Legislation Could Pass This Year ...   \n",
              "107410  business           Oil Drops Another 5 Pct to \\$43 a Barrel   \n",
              "36149      world                    British hostage pleads for life   \n",
              "95254   business                     Google Warns of Slowing Growth   \n",
              "\n",
              "                                                     lead  \\\n",
              "39818   FORT CAMPBELL, Ky. -- Command Sergeant Major K...   \n",
              "36169   washingtonpost.com - Measures to curb the use ...   \n",
              "107410   LONDON (Reuters) - Oil prices crumbled anothe...   \n",
              "36149   Facing a death threat from his Iraqi captors, ...   \n",
              "95254    quot;Although our revenue growth rate increas...   \n",
              "\n",
              "                                                     text  \\\n",
              "39818   US soldiers flock to laser eye clinic FORT CAM...   \n",
              "36169   Anti-Spyware Legislation Could Pass This Year ...   \n",
              "107410  Oil Drops Another 5 Pct to \\$43 a Barrel  LOND...   \n",
              "36149   British hostage pleads for life Facing a death...   \n",
              "95254   Google Warns of Slowing Growth  quot;Although ...   \n",
              "\n",
              "                                             preprocessed  kmedoids_cluster  \\\n",
              "39818   (US, soldiers, flock, to, laser, eye, clinic, ...                 1   \n",
              "36169   (Anti, -, Spyware, Legislation, Could, Pass, T...                 0   \n",
              "107410  (Oil, Drops, Another, 5, Pct, to, \\$43, a, Bar...                 3   \n",
              "36149   (British, hostage, pleads, for, life, Facing, ...                 1   \n",
              "95254   (Google, Warns, of, Slowing, Growth,  , quot;A...                 2   \n",
              "\n",
              "        kmeans_cluster  \n",
              "39818                0  \n",
              "36169                2  \n",
              "107410               3  \n",
              "36149                0  \n",
              "95254                2  "
            ],
            "text/html": [
              "\n",
              "  <div id=\"df-002b85d0-adbe-42dd-abf2-24efb574fb9d\">\n",
              "    <div class=\"colab-df-container\">\n",
              "      <div>\n",
              "<style scoped>\n",
              "    .dataframe tbody tr th:only-of-type {\n",
              "        vertical-align: middle;\n",
              "    }\n",
              "\n",
              "    .dataframe tbody tr th {\n",
              "        vertical-align: top;\n",
              "    }\n",
              "\n",
              "    .dataframe thead th {\n",
              "        text-align: right;\n",
              "    }\n",
              "</style>\n",
              "<table border=\"1\" class=\"dataframe\">\n",
              "  <thead>\n",
              "    <tr style=\"text-align: right;\">\n",
              "      <th></th>\n",
              "      <th>label</th>\n",
              "      <th>title</th>\n",
              "      <th>lead</th>\n",
              "      <th>text</th>\n",
              "      <th>preprocessed</th>\n",
              "      <th>kmedoids_cluster</th>\n",
              "      <th>kmeans_cluster</th>\n",
              "    </tr>\n",
              "  </thead>\n",
              "  <tbody>\n",
              "    <tr>\n",
              "      <th>39818</th>\n",
              "      <td>world</td>\n",
              "      <td>US soldiers flock to laser eye clinic</td>\n",
              "      <td>FORT CAMPBELL, Ky. -- Command Sergeant Major K...</td>\n",
              "      <td>US soldiers flock to laser eye clinic FORT CAM...</td>\n",
              "      <td>(US, soldiers, flock, to, laser, eye, clinic, ...</td>\n",
              "      <td>1</td>\n",
              "      <td>0</td>\n",
              "    </tr>\n",
              "    <tr>\n",
              "      <th>36169</th>\n",
              "      <td>sci/tech</td>\n",
              "      <td>Anti-Spyware Legislation Could Pass This Year ...</td>\n",
              "      <td>washingtonpost.com - Measures to curb the use ...</td>\n",
              "      <td>Anti-Spyware Legislation Could Pass This Year ...</td>\n",
              "      <td>(Anti, -, Spyware, Legislation, Could, Pass, T...</td>\n",
              "      <td>0</td>\n",
              "      <td>2</td>\n",
              "    </tr>\n",
              "    <tr>\n",
              "      <th>107410</th>\n",
              "      <td>business</td>\n",
              "      <td>Oil Drops Another 5 Pct to \\$43 a Barrel</td>\n",
              "      <td>LONDON (Reuters) - Oil prices crumbled anothe...</td>\n",
              "      <td>Oil Drops Another 5 Pct to \\$43 a Barrel  LOND...</td>\n",
              "      <td>(Oil, Drops, Another, 5, Pct, to, \\$43, a, Bar...</td>\n",
              "      <td>3</td>\n",
              "      <td>3</td>\n",
              "    </tr>\n",
              "    <tr>\n",
              "      <th>36149</th>\n",
              "      <td>world</td>\n",
              "      <td>British hostage pleads for life</td>\n",
              "      <td>Facing a death threat from his Iraqi captors, ...</td>\n",
              "      <td>British hostage pleads for life Facing a death...</td>\n",
              "      <td>(British, hostage, pleads, for, life, Facing, ...</td>\n",
              "      <td>1</td>\n",
              "      <td>0</td>\n",
              "    </tr>\n",
              "    <tr>\n",
              "      <th>95254</th>\n",
              "      <td>business</td>\n",
              "      <td>Google Warns of Slowing Growth</td>\n",
              "      <td>quot;Although our revenue growth rate increas...</td>\n",
              "      <td>Google Warns of Slowing Growth  quot;Although ...</td>\n",
              "      <td>(Google, Warns, of, Slowing, Growth,  , quot;A...</td>\n",
              "      <td>2</td>\n",
              "      <td>2</td>\n",
              "    </tr>\n",
              "  </tbody>\n",
              "</table>\n",
              "</div>\n",
              "      <button class=\"colab-df-convert\" onclick=\"convertToInteractive('df-002b85d0-adbe-42dd-abf2-24efb574fb9d')\"\n",
              "              title=\"Convert this dataframe to an interactive table.\"\n",
              "              style=\"display:none;\">\n",
              "        \n",
              "  <svg xmlns=\"http://www.w3.org/2000/svg\" height=\"24px\"viewBox=\"0 0 24 24\"\n",
              "       width=\"24px\">\n",
              "    <path d=\"M0 0h24v24H0V0z\" fill=\"none\"/>\n",
              "    <path d=\"M18.56 5.44l.94 2.06.94-2.06 2.06-.94-2.06-.94-.94-2.06-.94 2.06-2.06.94zm-11 1L8.5 8.5l.94-2.06 2.06-.94-2.06-.94L8.5 2.5l-.94 2.06-2.06.94zm10 10l.94 2.06.94-2.06 2.06-.94-2.06-.94-.94-2.06-.94 2.06-2.06.94z\"/><path d=\"M17.41 7.96l-1.37-1.37c-.4-.4-.92-.59-1.43-.59-.52 0-1.04.2-1.43.59L10.3 9.45l-7.72 7.72c-.78.78-.78 2.05 0 2.83L4 21.41c.39.39.9.59 1.41.59.51 0 1.02-.2 1.41-.59l7.78-7.78 2.81-2.81c.8-.78.8-2.07 0-2.86zM5.41 20L4 18.59l7.72-7.72 1.47 1.35L5.41 20z\"/>\n",
              "  </svg>\n",
              "      </button>\n",
              "      \n",
              "  <style>\n",
              "    .colab-df-container {\n",
              "      display:flex;\n",
              "      flex-wrap:wrap;\n",
              "      gap: 12px;\n",
              "    }\n",
              "\n",
              "    .colab-df-convert {\n",
              "      background-color: #E8F0FE;\n",
              "      border: none;\n",
              "      border-radius: 50%;\n",
              "      cursor: pointer;\n",
              "      display: none;\n",
              "      fill: #1967D2;\n",
              "      height: 32px;\n",
              "      padding: 0 0 0 0;\n",
              "      width: 32px;\n",
              "    }\n",
              "\n",
              "    .colab-df-convert:hover {\n",
              "      background-color: #E2EBFA;\n",
              "      box-shadow: 0px 1px 2px rgba(60, 64, 67, 0.3), 0px 1px 3px 1px rgba(60, 64, 67, 0.15);\n",
              "      fill: #174EA6;\n",
              "    }\n",
              "\n",
              "    [theme=dark] .colab-df-convert {\n",
              "      background-color: #3B4455;\n",
              "      fill: #D2E3FC;\n",
              "    }\n",
              "\n",
              "    [theme=dark] .colab-df-convert:hover {\n",
              "      background-color: #434B5C;\n",
              "      box-shadow: 0px 1px 3px 1px rgba(0, 0, 0, 0.15);\n",
              "      filter: drop-shadow(0px 1px 2px rgba(0, 0, 0, 0.3));\n",
              "      fill: #FFFFFF;\n",
              "    }\n",
              "  </style>\n",
              "\n",
              "      <script>\n",
              "        const buttonEl =\n",
              "          document.querySelector('#df-002b85d0-adbe-42dd-abf2-24efb574fb9d button.colab-df-convert');\n",
              "        buttonEl.style.display =\n",
              "          google.colab.kernel.accessAllowed ? 'block' : 'none';\n",
              "\n",
              "        async function convertToInteractive(key) {\n",
              "          const element = document.querySelector('#df-002b85d0-adbe-42dd-abf2-24efb574fb9d');\n",
              "          const dataTable =\n",
              "            await google.colab.kernel.invokeFunction('convertToInteractive',\n",
              "                                                     [key], {});\n",
              "          if (!dataTable) return;\n",
              "\n",
              "          const docLinkHtml = 'Like what you see? Visit the ' +\n",
              "            '<a target=\"_blank\" href=https://colab.research.google.com/notebooks/data_table.ipynb>data table notebook</a>'\n",
              "            + ' to learn more about interactive tables.';\n",
              "          element.innerHTML = '';\n",
              "          dataTable['output_type'] = 'display_data';\n",
              "          await google.colab.output.renderOutput(dataTable, element);\n",
              "          const docLink = document.createElement('div');\n",
              "          docLink.innerHTML = docLinkHtml;\n",
              "          element.appendChild(docLink);\n",
              "        }\n",
              "      </script>\n",
              "    </div>\n",
              "  </div>\n",
              "  "
            ]
          },
          "metadata": {},
          "execution_count": 42
        }
      ]
    },
    {
      "cell_type": "code",
      "execution_count": 43,
      "id": "ZQ4Y98yKELq5",
      "metadata": {
        "id": "ZQ4Y98yKELq5",
        "colab": {
          "base_uri": "https://localhost:8080/",
          "height": 947
        },
        "outputId": "ace1f60c-00f9-4873-d5ae-1a938e9ee61a"
      },
      "outputs": [
        {
          "output_type": "stream",
          "name": "stderr",
          "text": [
            "/usr/local/lib/python3.9/dist-packages/sklearn/manifold/_isomap.py:373: UserWarning: The number of connected components of the neighbors graph is 2 > 1. Completing the graph to fit Isomap might be slow. Increase the number of neighbors to avoid this issue.\n",
            "  self._fit_transform(X)\n",
            "/usr/local/lib/python3.9/dist-packages/scipy/sparse/_index.py:103: SparseEfficiencyWarning: Changing the sparsity structure of a csr_matrix is expensive. lil_matrix is more efficient.\n",
            "  self._set_intXint(row, col, x.flat[0])\n",
            "<ipython-input-43-e85542ca9536>:11: MatplotlibDeprecationWarning: Axes3D(fig) adding itself to the figure is deprecated since 3.4. Pass the keyword argument auto_add_to_figure=False and use fig.add_axes(ax) to suppress this warning. The default value of auto_add_to_figure will change to False in mpl3.5 and True values will no longer work in 3.6.  This is consistent with other Axes classes.\n",
            "  Axes3D(plt.figure()).scatter(iso_vec_text[:,0],iso_vec_text[:,1], alpha=.3)\n"
          ]
        },
        {
          "output_type": "display_data",
          "data": {
            "text/plain": [
              "<Figure size 720x576 with 0 Axes>"
            ]
          },
          "metadata": {}
        },
        {
          "output_type": "display_data",
          "data": {
            "text/plain": [
              "<Figure size 432x288 with 1 Axes>"
            ],
            "image/png": "[encoded data removed]"
          },
          "metadata": {
            "needs_background": "light"
          }
        },
        {
          "output_type": "display_data",
          "data": {
            "text/plain": [
              "<Figure size 720x576 with 1 Axes>"
            ],
            "image/png": "[encoded data removed]"
          },
          "metadata": {
            "needs_background": "light"
          }
        }
      ],
      "source": [
        "##TODO visualize the k-medoids clustering results through Isomap (first reduce the dimensionality to 2 using Isomap, then use scatter plot (plt.scatter()) to visualize)\n",
        "\n",
        "from sklearn.manifold import Isomap\n",
        "import matplotlib.pyplot as plt\n",
        "from mpl_toolkits.mplot3d import Axes3D\n",
        "\n",
        "iso = Isomap(n_components=2)\n",
        "iso_vec_text = iso.fit_transform(pca_vec_text)\n",
        "\n",
        "plt.figure(figsize=(10,8))\n",
        "Axes3D(plt.figure()).scatter(iso_vec_text[:,0],iso_vec_text[:,1], alpha=.3)\n",
        "\n",
        "# Scatter plot of k-medoids clusters using Isomap\n",
        "plt.figure(figsize=(10,8))\n",
        "plt.scatter(iso_vec_text[:,0],iso_vec_text[:,1], c=dfs['kmedoids_cluster'], cmap='Set1')\n",
        "plt.title('K-Medoids Clustering with Isomap (n_clusters=5)', fontsize=14)\n",
        "plt.show()"
      ]
    },
    {
      "cell_type": "code",
      "execution_count": 44,
      "id": "mT0YQfX-z1YL",
      "metadata": {
        "id": "mT0YQfX-z1YL",
        "colab": {
          "base_uri": "https://localhost:8080/",
          "height": 947
        },
        "outputId": "7577e85c-bd94-4745-97c6-8f5c7a6823a7"
      },
      "outputs": [
        {
          "output_type": "stream",
          "name": "stderr",
          "text": [
            "/usr/local/lib/python3.9/dist-packages/sklearn/manifold/_isomap.py:373: UserWarning: The number of connected components of the neighbors graph is 2 > 1. Completing the graph to fit Isomap might be slow. Increase the number of neighbors to avoid this issue.\n",
            "  self._fit_transform(X)\n",
            "/usr/local/lib/python3.9/dist-packages/scipy/sparse/_index.py:103: SparseEfficiencyWarning: Changing the sparsity structure of a csr_matrix is expensive. lil_matrix is more efficient.\n",
            "  self._set_intXint(row, col, x.flat[0])\n",
            "<ipython-input-44-fab2099f4395>:7: MatplotlibDeprecationWarning: Axes3D(fig) adding itself to the figure is deprecated since 3.4. Pass the keyword argument auto_add_to_figure=False and use fig.add_axes(ax) to suppress this warning. The default value of auto_add_to_figure will change to False in mpl3.5 and True values will no longer work in 3.6.  This is consistent with other Axes classes.\n",
            "  Axes3D(plt.figure()).scatter(iso_vec_text[:,0],iso_vec_text[:,1], alpha=.3)\n"
          ]
        },
        {
          "output_type": "display_data",
          "data": {
            "text/plain": [
              "<Figure size 720x576 with 0 Axes>"
            ]
          },
          "metadata": {}
        },
        {
          "output_type": "display_data",
          "data": {
            "text/plain": [
              "<Figure size 432x288 with 1 Axes>"
            ],
            "image/png": "[encoded data removed]"
          },
          "metadata": {
            "needs_background": "light"
          }
        },
        {
          "output_type": "display_data",
          "data": {
            "text/plain": [
              "<Figure size 720x576 with 1 Axes>"
            ],
            "image/png": "[encoded data removed]"
          },
          "metadata": {
            "needs_background": "light"
          }
        }
      ],
      "source": [
        "##TODO similarly, visualize the k-means results\n",
        "\n",
        "iso = Isomap(n_components=2)\n",
        "iso_vec_text = iso.fit_transform(pca_vec_text)\n",
        "\n",
        "plt.figure(figsize=(10,8))\n",
        "Axes3D(plt.figure()).scatter(iso_vec_text[:,0],iso_vec_text[:,1], alpha=.3)\n",
        "\n",
        "# Scatter plot of k-medoids clusters using Isomap\n",
        "plt.figure(figsize=(10,8))\n",
        "plt.scatter(iso_vec_text[:,0],iso_vec_text[:,1], c=dfs['kmeans_cluster'], cmap='Set1')\n",
        "plt.title('K-Means Clustering with Isomap (n_clusters=5)', fontsize=14)\n",
        "plt.show()"
      ]
    },
    {
      "cell_type": "markdown",
      "id": "Q6ioDcP-ELq5",
      "metadata": {
        "id": "Q6ioDcP-ELq5"
      },
      "source": [
        "## Topic Modeling: LDA"
      ]
    },
    {
      "cell_type": "markdown",
      "id": "ev37xRqwELq5",
      "metadata": {
        "id": "ev37xRqwELq5"
      },
      "source": [
        "For this part you will need to use LDA Mallet. If you cannot have Mallet run, you can use the simple LDA algorithm "
      ]
    },
    {
      "cell_type": "code",
      "execution_count": 45,
      "id": "kjLuOgsHELq5",
      "metadata": {
        "id": "kjLuOgsHELq5",
        "colab": {
          "base_uri": "https://localhost:8080/"
        },
        "outputId": "6157d552-e6b3-4b5f-8cde-fc5c94062764"
      },
      "outputs": [
        {
          "output_type": "stream",
          "name": "stderr",
          "text": [
            "100%|██████████| 200/200 [00:03<00:00, 65.24it/s]\n"
          ]
        }
      ],
      "source": [
        "from gensim.corpora import Dictionary\n",
        "from gensim.models.wrappers import LdaMallet\n",
        "from gensim.models.coherencemodel import CoherenceModel\n",
        "from tqdm import tqdm\n",
        "from random import shuffle\n",
        "\n",
        "##TODO create a dictionary with the pre-processed tokenized text and filter it according to frequencies and keeping 1000 vocabularies\n",
        "\n",
        "def tokenize(x, nlp):\n",
        "    # lemmatize and lowercase without stopwords, punctuation and numbers\n",
        "    return [w.lemma_.lower() for w in nlp(x) if not w.is_stop and not w.is_punct and not w.is_digit and len(w) > 2]\n",
        "\n",
        "doc_clean = []\n",
        "\n",
        "for doc in tqdm(dfs['text']):\n",
        "    for paragraph in doc.split(\"\\n\\n\"):\n",
        "        doc_clean.append(tokenize(paragraph, nlp))\n",
        "\n",
        "shuffle(doc_clean)\n",
        "\n",
        "dictionary = Dictionary(doc_clean)\n",
        "dictionary.filter_extremes(no_below=10, no_above=0.33, keep_n=1000)\n",
        "\n",
        "##TODO create the doc_term_matrix\n",
        "\n",
        "doc_term_matrix = [dictionary.doc2bow(doc) for doc in doc_clean]"
      ]
    },
    {
      "cell_type": "code",
      "execution_count": 46,
      "id": "m62iX2rh1zyp",
      "metadata": {
        "id": "m62iX2rh1zyp"
      },
      "outputs": [],
      "source": [
        "# !wget http://mallet.cs.umass.edu/dist/mallet-2.0.8.zip\n",
        "# !unzip mallet-2.0.8.zip"
      ]
    },
    {
      "cell_type": "code",
      "execution_count": 47,
      "id": "jZsmeNyvELq5",
      "metadata": {
        "id": "jZsmeNyvELq5",
        "colab": {
          "base_uri": "https://localhost:8080/"
        },
        "outputId": "4d606ee8-f958-496c-ed1e-497f8b6f34f4"
      },
      "outputs": [
        {
          "output_type": "stream",
          "name": "stderr",
          "text": [
            "/usr/local/lib/python3.9/dist-packages/smart_open/smart_open_lib.py:496: DeprecationWarning: This function is deprecated.  See https://github.com/RaRe-Technologies/smart_open/blob/develop/MIGRATING_FROM_OLDER_VERSIONS.rst for more information\n",
            "  warnings.warn(message, category=DeprecationWarning)\n",
            "/usr/local/lib/python3.9/dist-packages/smart_open/smart_open_lib.py:496: DeprecationWarning: This function is deprecated.  See https://github.com/RaRe-Technologies/smart_open/blob/develop/MIGRATING_FROM_OLDER_VERSIONS.rst for more information\n",
            "  warnings.warn(message, category=DeprecationWarning)\n",
            "/usr/local/lib/python3.9/dist-packages/smart_open/smart_open_lib.py:496: DeprecationWarning: This function is deprecated.  See https://github.com/RaRe-Technologies/smart_open/blob/develop/MIGRATING_FROM_OLDER_VERSIONS.rst for more information\n",
            "  warnings.warn(message, category=DeprecationWarning)\n",
            "/usr/local/lib/python3.9/dist-packages/smart_open/smart_open_lib.py:496: DeprecationWarning: This function is deprecated.  See https://github.com/RaRe-Technologies/smart_open/blob/develop/MIGRATING_FROM_OLDER_VERSIONS.rst for more information\n",
            "  warnings.warn(message, category=DeprecationWarning)\n",
            "/usr/local/lib/python3.9/dist-packages/smart_open/smart_open_lib.py:496: DeprecationWarning: This function is deprecated.  See https://github.com/RaRe-Technologies/smart_open/blob/develop/MIGRATING_FROM_OLDER_VERSIONS.rst for more information\n",
            "  warnings.warn(message, category=DeprecationWarning)\n",
            "/usr/local/lib/python3.9/dist-packages/smart_open/smart_open_lib.py:496: DeprecationWarning: This function is deprecated.  See https://github.com/RaRe-Technologies/smart_open/blob/develop/MIGRATING_FROM_OLDER_VERSIONS.rst for more information\n",
            "  warnings.warn(message, category=DeprecationWarning)\n"
          ]
        },
        {
          "output_type": "stream",
          "name": "stdout",
          "text": [
            "[(0, '0.424*\"39;s\" + 0.196*\"service\" + 0.163*\"friday\" + 0.120*\"monday\" + 0.043*\"game\" + 0.033*\"yesterday\" + 0.022*\"win\" + 0.000*\"price\" + 0.000*\"york\" + 0.000*\"week\"'), (1, '0.262*\"world\" + 0.250*\"year\" + 0.179*\"game\" + 0.143*\"york\" + 0.131*\"wednesday\" + 0.024*\"high\" + 0.012*\"monday\" + 0.000*\"yesterday\" + 0.000*\"week\" + 0.000*\"price\"'), (2, '0.222*\"oil\" + 0.185*\"week\" + 0.148*\"high\" + 0.148*\"price\" + 0.123*\"month\" + 0.123*\"yesterday\" + 0.049*\"u.s.\" + 0.000*\"monday\" + 0.000*\"year\" + 0.000*\"tuesday\"'), (3, '0.388*\"win\" + 0.224*\"thursday\" + 0.194*\"company\" + 0.194*\"lead\" + 0.000*\"yesterday\" + 0.000*\"price\" + 0.000*\"week\" + 0.000*\"game\" + 0.000*\"york\" + 0.000*\"year\"'), (4, '0.448*\"reuters\" + 0.194*\"time\" + 0.179*\"tuesday\" + 0.104*\"u.s.\" + 0.075*\"39;s\" + 0.000*\"week\" + 0.000*\"monday\" + 0.000*\"lead\" + 0.000*\"game\" + 0.000*\"york\"')]\n",
            "[(0, '0.419*\"service\" + 0.279*\"high\" + 0.233*\"wednesday\" + 0.070*\"month\" + 0.000*\"year\" + 0.000*\"tuesday\" + 0.000*\"game\" + 0.000*\"yesterday\" + 0.000*\"monday\" + 0.000*\"u.s.\"'), (1, '0.595*\"world\" + 0.405*\"thursday\" + 0.000*\"yesterday\" + 0.000*\"monday\" + 0.000*\"week\" + 0.000*\"game\" + 0.000*\"u.s.\" + 0.000*\"year\" + 0.000*\"price\" + 0.000*\"york\"'), (2, '0.600*\"year\" + 0.400*\"week\" + 0.000*\"u.s.\" + 0.000*\"monday\" + 0.000*\"game\" + 0.000*\"yesterday\" + 0.000*\"world\" + 0.000*\"price\" + 0.000*\"york\" + 0.000*\"wednesday\"'), (3, '0.439*\"oil\" + 0.293*\"price\" + 0.268*\"u.s.\" + 0.000*\"game\" + 0.000*\"lead\" + 0.000*\"monday\" + 0.000*\"week\" + 0.000*\"year\" + 0.000*\"york\" + 0.000*\"tuesday\"'), (4, '0.898*\"39;s\" + 0.082*\"friday\" + 0.020*\"lead\" + 0.000*\"yesterday\" + 0.000*\"monday\" + 0.000*\"week\" + 0.000*\"game\" + 0.000*\"world\" + 0.000*\"price\" + 0.000*\"york\"'), (5, '0.361*\"time\" + 0.333*\"tuesday\" + 0.306*\"friday\" + 0.000*\"yesterday\" + 0.000*\"u.s.\" + 0.000*\"week\" + 0.000*\"game\" + 0.000*\"lead\" + 0.000*\"price\" + 0.000*\"york\"'), (6, '0.683*\"win\" + 0.317*\"company\" + 0.000*\"year\" + 0.000*\"week\" + 0.000*\"game\" + 0.000*\"yesterday\" + 0.000*\"lead\" + 0.000*\"price\" + 0.000*\"tuesday\" + 0.000*\"wednesday\"'), (7, '0.475*\"game\" + 0.325*\"yesterday\" + 0.175*\"month\" + 0.025*\"wednesday\" + 0.000*\"year\" + 0.000*\"tuesday\" + 0.000*\"service\" + 0.000*\"say\" + 0.000*\"monday\" + 0.000*\"u.s.\"'), (8, '0.968*\"reuters\" + 0.032*\"week\" + 0.000*\"yesterday\" + 0.000*\"lead\" + 0.000*\"monday\" + 0.000*\"game\" + 0.000*\"world\" + 0.000*\"price\" + 0.000*\"tuesday\" + 0.000*\"wednesday\"'), (9, '0.316*\"lead\" + 0.316*\"monday\" + 0.316*\"york\" + 0.053*\"high\" + 0.000*\"game\" + 0.000*\"week\" + 0.000*\"world\" + 0.000*\"yesterday\" + 0.000*\"price\" + 0.000*\"tuesday\"')]\n",
            "[(10, '0.667*\"oil\" + 0.259*\"reuters\" + 0.037*\"price\" + 0.037*\"wednesday\" + 0.000*\"week\" + 0.000*\"lead\" + 0.000*\"monday\" + 0.000*\"yesterday\" + 0.000*\"game\" + 0.000*\"u.s.\"'), (13, '0.556*\"week\" + 0.407*\"company\" + 0.037*\"39;s\" + 0.000*\"year\" + 0.000*\"monday\" + 0.000*\"game\" + 0.000*\"world\" + 0.000*\"yesterday\" + 0.000*\"price\" + 0.000*\"york\"'), (9, '0.522*\"york\" + 0.435*\"month\" + 0.043*\"world\" + 0.000*\"game\" + 0.000*\"monday\" + 0.000*\"week\" + 0.000*\"u.s.\" + 0.000*\"yesterday\" + 0.000*\"tuesday\" + 0.000*\"year\"'), (1, '0.433*\"time\" + 0.400*\"monday\" + 0.167*\"u.s.\" + 0.000*\"game\" + 0.000*\"year\" + 0.000*\"week\" + 0.000*\"world\" + 0.000*\"yesterday\" + 0.000*\"price\" + 0.000*\"york\"'), (14, '1.000*\"reuters\" + 0.000*\"yesterday\" + 0.000*\"lead\" + 0.000*\"monday\" + 0.000*\"week\" + 0.000*\"game\" + 0.000*\"world\" + 0.000*\"price\" + 0.000*\"tuesday\" + 0.000*\"wednesday\"'), (7, '0.600*\"39;s\" + 0.400*\"wednesday\" + 0.000*\"year\" + 0.000*\"u.s.\" + 0.000*\"week\" + 0.000*\"game\" + 0.000*\"yesterday\" + 0.000*\"lead\" + 0.000*\"price\" + 0.000*\"york\"'), (4, '0.581*\"service\" + 0.419*\"yesterday\" + 0.000*\"u.s.\" + 0.000*\"monday\" + 0.000*\"week\" + 0.000*\"game\" + 0.000*\"world\" + 0.000*\"year\" + 0.000*\"price\" + 0.000*\"york\"'), (0, '0.962*\"39;s\" + 0.038*\"world\" + 0.000*\"yesterday\" + 0.000*\"monday\" + 0.000*\"week\" + 0.000*\"game\" + 0.000*\"u.s.\" + 0.000*\"price\" + 0.000*\"york\" + 0.000*\"year\"'), (6, '0.538*\"high\" + 0.423*\"price\" + 0.038*\"lead\" + 0.000*\"game\" + 0.000*\"monday\" + 0.000*\"week\" + 0.000*\"world\" + 0.000*\"yesterday\" + 0.000*\"york\" + 0.000*\"tuesday\"'), (5, '0.864*\"game\" + 0.136*\"thursday\" + 0.000*\"yesterday\" + 0.000*\"u.s.\" + 0.000*\"monday\" + 0.000*\"week\" + 0.000*\"world\" + 0.000*\"year\" + 0.000*\"price\" + 0.000*\"york\"')]\n"
          ]
        }
      ],
      "source": [
        "##TODO train a LDA Mallet model with 5, 10 and 15 topics\n",
        "mallet_path = '/content/mallet-2.0.8/bin/mallet'\n",
        "\n",
        "ldamallet_5 = LdaMallet(mallet_path, corpus=doc_term_matrix, num_topics=5, id2word=dictionary)\n",
        "ldamallet_10 = LdaMallet(mallet_path, corpus=doc_term_matrix, num_topics=10, id2word=dictionary)\n",
        "ldamallet_15 = LdaMallet(mallet_path, corpus=doc_term_matrix, num_topics=15, id2word=dictionary)\n",
        "\n",
        "models = [ldamallet_5, ldamallet_10, ldamallet_15]\n",
        "\n",
        "##TODO compute the coherence score for each of these model and print the topics from the model with highest coherence score. Then find the opitimal number of topics using the coherence score.\n",
        "\n",
        "scores = []\n",
        "all_topics = []\n",
        "\n",
        "for model in models:\n",
        "    coherence = CoherenceModel(model = model, texts = doc_clean, dictionary=dictionary, coherence = 'c_v')\n",
        "    topics = model.show_topics(num_topics=1, num_words=10, formatted=False)[0][1]\n",
        "    topics = [word for word, coherence in topics if coherence > 0.0]\n",
        "    all_topics.append(topics)\n",
        "    scores.append(coherence.get_coherence())\n",
        "\n",
        "print(all_topics[scores.index(max(scores))])"
      ]
    },
    {
      "cell_type": "code",
      "source": [
        "models = [ldamallet_5, ldamallet_10, ldamallet_15]\n",
        "\n",
        "##TODO compute the coherence score for each of these model and print the topics from the model with highest coherence score. Then find the opitimal number of topics using the coherence score.\n",
        "\n",
        "scores = []\n",
        "all_topics = []\n",
        "\n",
        "for model in models:\n",
        "    coherence = CoherenceModel(model = model, texts = doc_clean, dictionary=dictionary, coherence = 'c_v')\n",
        "    topics = model.show_topics(num_topics=1, num_words=10, formatted=False)[0][1]\n",
        "    topics = [word for word, coherence in topics if coherence > 0.0]\n",
        "    all_topics.append(topics)\n",
        "    scores.append(coherence.get_coherence())\n",
        "\n",
        "print(all_topics[scores.index(max(scores))])"
      ],
      "metadata": {
        "id": "NfnC-DS2vY0-",
        "colab": {
          "base_uri": "https://localhost:8080/"
        },
        "outputId": "d909933b-3d18-496d-821a-4943624a522d"
      },
      "id": "NfnC-DS2vY0-",
      "execution_count": 48,
      "outputs": [
        {
          "output_type": "stream",
          "name": "stdout",
          "text": [
            "0\n",
            "[['reuters', 'time', 'tuesday', 'u.s.', '39;s'], ['game', 'yesterday', 'month', 'wednesday'], ['oil', 'reuters', 'price', 'wednesday']]\n",
            "['reuters', 'time', 'tuesday', 'u.s.', '39;s']\n"
          ]
        }
      ]
    },
    {
      "cell_type": "code",
      "source": [
        "print(scores)"
      ],
      "metadata": {
        "colab": {
          "base_uri": "https://localhost:8080/"
        },
        "id": "MvjgvOiWt0D_",
        "outputId": "f3ae5693-dfa4-4ecf-9833-ceeb0a118954"
      },
      "id": "MvjgvOiWt0D_",
      "execution_count": 51,
      "outputs": [
        {
          "output_type": "stream",
          "name": "stdout",
          "text": [
            "[0.46533876357206577, 0.4558899750412255, 0.4538109273980511]\n"
          ]
        }
      ]
    },
    {
      "cell_type": "code",
      "source": [
        "opt_score = []\n",
        "for num_topics in range(2, 20):\n",
        "    lda = LdaMallet(mallet_path, doc_term_matrix, num_topics=num_topics, id2word=dictionary)\n",
        "    coherence = CoherenceModel(model=lda, texts=doc_clean, corpus=doc_term_matrix, dictionary=dictionary, coherence='c_v')\n",
        "    opt_score.append((num_topics, coherence.get_coherence()))\n",
        "\n",
        "print(opt_score)"
      ],
      "metadata": {
        "colab": {
          "base_uri": "https://localhost:8080/"
        },
        "id": "s5wIh16l0olH",
        "outputId": "341dde67-060a-46f9-871f-702193bc443e"
      },
      "id": "s5wIh16l0olH",
      "execution_count": 53,
      "outputs": [
        {
          "output_type": "stream",
          "name": "stderr",
          "text": [
            "/usr/local/lib/python3.9/dist-packages/smart_open/smart_open_lib.py:496: DeprecationWarning: This function is deprecated.  See https://github.com/RaRe-Technologies/smart_open/blob/develop/MIGRATING_FROM_OLDER_VERSIONS.rst for more information\n",
            "  warnings.warn(message, category=DeprecationWarning)\n",
            "/usr/local/lib/python3.9/dist-packages/smart_open/smart_open_lib.py:496: DeprecationWarning: This function is deprecated.  See https://github.com/RaRe-Technologies/smart_open/blob/develop/MIGRATING_FROM_OLDER_VERSIONS.rst for more information\n",
            "  warnings.warn(message, category=DeprecationWarning)\n",
            "/usr/local/lib/python3.9/dist-packages/smart_open/smart_open_lib.py:496: DeprecationWarning: This function is deprecated.  See https://github.com/RaRe-Technologies/smart_open/blob/develop/MIGRATING_FROM_OLDER_VERSIONS.rst for more information\n",
            "  warnings.warn(message, category=DeprecationWarning)\n",
            "/usr/local/lib/python3.9/dist-packages/smart_open/smart_open_lib.py:496: DeprecationWarning: This function is deprecated.  See https://github.com/RaRe-Technologies/smart_open/blob/develop/MIGRATING_FROM_OLDER_VERSIONS.rst for more information\n",
            "  warnings.warn(message, category=DeprecationWarning)\n",
            "/usr/local/lib/python3.9/dist-packages/smart_open/smart_open_lib.py:496: DeprecationWarning: This function is deprecated.  See https://github.com/RaRe-Technologies/smart_open/blob/develop/MIGRATING_FROM_OLDER_VERSIONS.rst for more information\n",
            "  warnings.warn(message, category=DeprecationWarning)\n",
            "/usr/local/lib/python3.9/dist-packages/smart_open/smart_open_lib.py:496: DeprecationWarning: This function is deprecated.  See https://github.com/RaRe-Technologies/smart_open/blob/develop/MIGRATING_FROM_OLDER_VERSIONS.rst for more information\n",
            "  warnings.warn(message, category=DeprecationWarning)\n",
            "/usr/local/lib/python3.9/dist-packages/smart_open/smart_open_lib.py:496: DeprecationWarning: This function is deprecated.  See https://github.com/RaRe-Technologies/smart_open/blob/develop/MIGRATING_FROM_OLDER_VERSIONS.rst for more information\n",
            "  warnings.warn(message, category=DeprecationWarning)\n",
            "/usr/local/lib/python3.9/dist-packages/smart_open/smart_open_lib.py:496: DeprecationWarning: This function is deprecated.  See https://github.com/RaRe-Technologies/smart_open/blob/develop/MIGRATING_FROM_OLDER_VERSIONS.rst for more information\n",
            "  warnings.warn(message, category=DeprecationWarning)\n",
            "/usr/local/lib/python3.9/dist-packages/smart_open/smart_open_lib.py:496: DeprecationWarning: This function is deprecated.  See https://github.com/RaRe-Technologies/smart_open/blob/develop/MIGRATING_FROM_OLDER_VERSIONS.rst for more information\n",
            "  warnings.warn(message, category=DeprecationWarning)\n",
            "/usr/local/lib/python3.9/dist-packages/smart_open/smart_open_lib.py:496: DeprecationWarning: This function is deprecated.  See https://github.com/RaRe-Technologies/smart_open/blob/develop/MIGRATING_FROM_OLDER_VERSIONS.rst for more information\n",
            "  warnings.warn(message, category=DeprecationWarning)\n",
            "/usr/local/lib/python3.9/dist-packages/smart_open/smart_open_lib.py:496: DeprecationWarning: This function is deprecated.  See https://github.com/RaRe-Technologies/smart_open/blob/develop/MIGRATING_FROM_OLDER_VERSIONS.rst for more information\n",
            "  warnings.warn(message, category=DeprecationWarning)\n",
            "/usr/local/lib/python3.9/dist-packages/smart_open/smart_open_lib.py:496: DeprecationWarning: This function is deprecated.  See https://github.com/RaRe-Technologies/smart_open/blob/develop/MIGRATING_FROM_OLDER_VERSIONS.rst for more information\n",
            "  warnings.warn(message, category=DeprecationWarning)\n",
            "/usr/local/lib/python3.9/dist-packages/smart_open/smart_open_lib.py:496: DeprecationWarning: This function is deprecated.  See https://github.com/RaRe-Technologies/smart_open/blob/develop/MIGRATING_FROM_OLDER_VERSIONS.rst for more information\n",
            "  warnings.warn(message, category=DeprecationWarning)\n",
            "/usr/local/lib/python3.9/dist-packages/smart_open/smart_open_lib.py:496: DeprecationWarning: This function is deprecated.  See https://github.com/RaRe-Technologies/smart_open/blob/develop/MIGRATING_FROM_OLDER_VERSIONS.rst for more information\n",
            "  warnings.warn(message, category=DeprecationWarning)\n",
            "/usr/local/lib/python3.9/dist-packages/smart_open/smart_open_lib.py:496: DeprecationWarning: This function is deprecated.  See https://github.com/RaRe-Technologies/smart_open/blob/develop/MIGRATING_FROM_OLDER_VERSIONS.rst for more information\n",
            "  warnings.warn(message, category=DeprecationWarning)\n",
            "/usr/local/lib/python3.9/dist-packages/smart_open/smart_open_lib.py:496: DeprecationWarning: This function is deprecated.  See https://github.com/RaRe-Technologies/smart_open/blob/develop/MIGRATING_FROM_OLDER_VERSIONS.rst for more information\n",
            "  warnings.warn(message, category=DeprecationWarning)\n",
            "/usr/local/lib/python3.9/dist-packages/smart_open/smart_open_lib.py:496: DeprecationWarning: This function is deprecated.  See https://github.com/RaRe-Technologies/smart_open/blob/develop/MIGRATING_FROM_OLDER_VERSIONS.rst for more information\n",
            "  warnings.warn(message, category=DeprecationWarning)\n",
            "/usr/local/lib/python3.9/dist-packages/smart_open/smart_open_lib.py:496: DeprecationWarning: This function is deprecated.  See https://github.com/RaRe-Technologies/smart_open/blob/develop/MIGRATING_FROM_OLDER_VERSIONS.rst for more information\n",
            "  warnings.warn(message, category=DeprecationWarning)\n",
            "/usr/local/lib/python3.9/dist-packages/smart_open/smart_open_lib.py:496: DeprecationWarning: This function is deprecated.  See https://github.com/RaRe-Technologies/smart_open/blob/develop/MIGRATING_FROM_OLDER_VERSIONS.rst for more information\n",
            "  warnings.warn(message, category=DeprecationWarning)\n",
            "/usr/local/lib/python3.9/dist-packages/smart_open/smart_open_lib.py:496: DeprecationWarning: This function is deprecated.  See https://github.com/RaRe-Technologies/smart_open/blob/develop/MIGRATING_FROM_OLDER_VERSIONS.rst for more information\n",
            "  warnings.warn(message, category=DeprecationWarning)\n",
            "/usr/local/lib/python3.9/dist-packages/smart_open/smart_open_lib.py:496: DeprecationWarning: This function is deprecated.  See https://github.com/RaRe-Technologies/smart_open/blob/develop/MIGRATING_FROM_OLDER_VERSIONS.rst for more information\n",
            "  warnings.warn(message, category=DeprecationWarning)\n",
            "/usr/local/lib/python3.9/dist-packages/smart_open/smart_open_lib.py:496: DeprecationWarning: This function is deprecated.  See https://github.com/RaRe-Technologies/smart_open/blob/develop/MIGRATING_FROM_OLDER_VERSIONS.rst for more information\n",
            "  warnings.warn(message, category=DeprecationWarning)\n",
            "/usr/local/lib/python3.9/dist-packages/smart_open/smart_open_lib.py:496: DeprecationWarning: This function is deprecated.  See https://github.com/RaRe-Technologies/smart_open/blob/develop/MIGRATING_FROM_OLDER_VERSIONS.rst for more information\n",
            "  warnings.warn(message, category=DeprecationWarning)\n",
            "/usr/local/lib/python3.9/dist-packages/smart_open/smart_open_lib.py:496: DeprecationWarning: This function is deprecated.  See https://github.com/RaRe-Technologies/smart_open/blob/develop/MIGRATING_FROM_OLDER_VERSIONS.rst for more information\n",
            "  warnings.warn(message, category=DeprecationWarning)\n",
            "/usr/local/lib/python3.9/dist-packages/smart_open/smart_open_lib.py:496: DeprecationWarning: This function is deprecated.  See https://github.com/RaRe-Technologies/smart_open/blob/develop/MIGRATING_FROM_OLDER_VERSIONS.rst for more information\n",
            "  warnings.warn(message, category=DeprecationWarning)\n",
            "/usr/local/lib/python3.9/dist-packages/smart_open/smart_open_lib.py:496: DeprecationWarning: This function is deprecated.  See https://github.com/RaRe-Technologies/smart_open/blob/develop/MIGRATING_FROM_OLDER_VERSIONS.rst for more information\n",
            "  warnings.warn(message, category=DeprecationWarning)\n",
            "/usr/local/lib/python3.9/dist-packages/smart_open/smart_open_lib.py:496: DeprecationWarning: This function is deprecated.  See https://github.com/RaRe-Technologies/smart_open/blob/develop/MIGRATING_FROM_OLDER_VERSIONS.rst for more information\n",
            "  warnings.warn(message, category=DeprecationWarning)\n",
            "/usr/local/lib/python3.9/dist-packages/smart_open/smart_open_lib.py:496: DeprecationWarning: This function is deprecated.  See https://github.com/RaRe-Technologies/smart_open/blob/develop/MIGRATING_FROM_OLDER_VERSIONS.rst for more information\n",
            "  warnings.warn(message, category=DeprecationWarning)\n",
            "/usr/local/lib/python3.9/dist-packages/smart_open/smart_open_lib.py:496: DeprecationWarning: This function is deprecated.  See https://github.com/RaRe-Technologies/smart_open/blob/develop/MIGRATING_FROM_OLDER_VERSIONS.rst for more information\n",
            "  warnings.warn(message, category=DeprecationWarning)\n",
            "/usr/local/lib/python3.9/dist-packages/smart_open/smart_open_lib.py:496: DeprecationWarning: This function is deprecated.  See https://github.com/RaRe-Technologies/smart_open/blob/develop/MIGRATING_FROM_OLDER_VERSIONS.rst for more information\n",
            "  warnings.warn(message, category=DeprecationWarning)\n",
            "/usr/local/lib/python3.9/dist-packages/smart_open/smart_open_lib.py:496: DeprecationWarning: This function is deprecated.  See https://github.com/RaRe-Technologies/smart_open/blob/develop/MIGRATING_FROM_OLDER_VERSIONS.rst for more information\n",
            "  warnings.warn(message, category=DeprecationWarning)\n",
            "/usr/local/lib/python3.9/dist-packages/smart_open/smart_open_lib.py:496: DeprecationWarning: This function is deprecated.  See https://github.com/RaRe-Technologies/smart_open/blob/develop/MIGRATING_FROM_OLDER_VERSIONS.rst for more information\n",
            "  warnings.warn(message, category=DeprecationWarning)\n",
            "/usr/local/lib/python3.9/dist-packages/smart_open/smart_open_lib.py:496: DeprecationWarning: This function is deprecated.  See https://github.com/RaRe-Technologies/smart_open/blob/develop/MIGRATING_FROM_OLDER_VERSIONS.rst for more information\n",
            "  warnings.warn(message, category=DeprecationWarning)\n",
            "/usr/local/lib/python3.9/dist-packages/smart_open/smart_open_lib.py:496: DeprecationWarning: This function is deprecated.  See https://github.com/RaRe-Technologies/smart_open/blob/develop/MIGRATING_FROM_OLDER_VERSIONS.rst for more information\n",
            "  warnings.warn(message, category=DeprecationWarning)\n",
            "/usr/local/lib/python3.9/dist-packages/smart_open/smart_open_lib.py:496: DeprecationWarning: This function is deprecated.  See https://github.com/RaRe-Technologies/smart_open/blob/develop/MIGRATING_FROM_OLDER_VERSIONS.rst for more information\n",
            "  warnings.warn(message, category=DeprecationWarning)\n",
            "/usr/local/lib/python3.9/dist-packages/smart_open/smart_open_lib.py:496: DeprecationWarning: This function is deprecated.  See https://github.com/RaRe-Technologies/smart_open/blob/develop/MIGRATING_FROM_OLDER_VERSIONS.rst for more information\n",
            "  warnings.warn(message, category=DeprecationWarning)\n"
          ]
        },
        {
          "output_type": "stream",
          "name": "stdout",
          "text": [
            "[(2, 0.42490286380932624), (3, 0.43957131102874974), (4, 0.46384959776361845), (5, 0.45023716442201095), (6, 0.4644132168933623), (7, 0.45332698026969626), (8, 0.46472474369748934), (9, 0.445066120380914), (10, 0.45447135324897375), (11, 0.45270111804154944), (12, 0.4538983968576907), (13, 0.4561728373512422), (14, 0.4494866426333184), (15, 0.45135530661328993), (16, 0.45106684561888005), (17, 0.45204785149407284), (18, 0.4552637011731319), (19, 0.4534048303442832)]\n"
          ]
        }
      ]
    },
    {
      "cell_type": "code",
      "source": [
        "print(opt_score)\n",
        "\n",
        "scores = [coherence for num_topics, coherence in opt_score]\n",
        "opt_topics = opt_score[scores.index(max(scores))][0]\n",
        "print(opt_topics)"
      ],
      "metadata": {
        "colab": {
          "base_uri": "https://localhost:8080/"
        },
        "id": "lRvzFQ341TJN",
        "outputId": "fbaad545-0524-477f-9486-26713a2f6c44"
      },
      "id": "lRvzFQ341TJN",
      "execution_count": 54,
      "outputs": [
        {
          "output_type": "stream",
          "name": "stdout",
          "text": [
            "[(2, 0.42490286380932624), (3, 0.43957131102874974), (4, 0.46384959776361845), (5, 0.45023716442201095), (6, 0.4644132168933623), (7, 0.45332698026969626), (8, 0.46472474369748934), (9, 0.445066120380914), (10, 0.45447135324897375), (11, 0.45270111804154944), (12, 0.4538983968576907), (13, 0.4561728373512422), (14, 0.4494866426333184), (15, 0.45135530661328993), (16, 0.45106684561888005), (17, 0.45204785149407284), (18, 0.4552637011731319), (19, 0.4534048303442832)]\n",
            "8\n"
          ]
        }
      ]
    },
    {
      "cell_type": "code",
      "execution_count": 55,
      "id": "3EJIIr58ELq6",
      "metadata": {
        "id": "3EJIIr58ELq6",
        "colab": {
          "base_uri": "https://localhost:8080/",
          "height": 463
        },
        "outputId": "a9b8a5a6-af2d-4b6c-93c4-57644c402799"
      },
      "outputs": [
        {
          "output_type": "stream",
          "name": "stderr",
          "text": [
            "/usr/local/lib/python3.9/dist-packages/smart_open/smart_open_lib.py:496: DeprecationWarning: This function is deprecated.  See https://github.com/RaRe-Technologies/smart_open/blob/develop/MIGRATING_FROM_OLDER_VERSIONS.rst for more information\n",
            "  warnings.warn(message, category=DeprecationWarning)\n",
            "/usr/local/lib/python3.9/dist-packages/smart_open/smart_open_lib.py:496: DeprecationWarning: This function is deprecated.  See https://github.com/RaRe-Technologies/smart_open/blob/develop/MIGRATING_FROM_OLDER_VERSIONS.rst for more information\n",
            "  warnings.warn(message, category=DeprecationWarning)\n"
          ]
        },
        {
          "output_type": "error",
          "ename": "AttributeError",
          "evalue": "ignored",
          "traceback": [
            "\u001b[0;31m---------------------------------------------------------------------------\u001b[0m",
            "\u001b[0;31mAttributeError\u001b[0m                            Traceback (most recent call last)",
            "\u001b[0;32m<ipython-input-55-60eaa50d2ad1>\u001b[0m in \u001b[0;36m<module>\u001b[0;34m\u001b[0m\n\u001b[1;32m      7\u001b[0m \u001b[0;34m\u001b[0m\u001b[0m\n\u001b[1;32m      8\u001b[0m \u001b[0;31m# create visualization\u001b[0m\u001b[0;34m\u001b[0m\u001b[0;34m\u001b[0m\u001b[0m\n\u001b[0;32m----> 9\u001b[0;31m \u001b[0mvis_data\u001b[0m \u001b[0;34m=\u001b[0m \u001b[0mpyLDAvis\u001b[0m\u001b[0;34m.\u001b[0m\u001b[0mgensim\u001b[0m\u001b[0;34m.\u001b[0m\u001b[0mprepare\u001b[0m\u001b[0;34m(\u001b[0m\u001b[0mlda_model\u001b[0m\u001b[0;34m,\u001b[0m \u001b[0mdoc_term_matrix\u001b[0m\u001b[0;34m,\u001b[0m \u001b[0mdictionary\u001b[0m\u001b[0;34m)\u001b[0m\u001b[0;34m\u001b[0m\u001b[0;34m\u001b[0m\u001b[0m\n\u001b[0m\u001b[1;32m     10\u001b[0m \u001b[0mpyLDAvis\u001b[0m\u001b[0;34m.\u001b[0m\u001b[0mdisplay\u001b[0m\u001b[0;34m(\u001b[0m\u001b[0mvis_data\u001b[0m\u001b[0;34m)\u001b[0m\u001b[0;34m\u001b[0m\u001b[0;34m\u001b[0m\u001b[0m\n",
            "\u001b[0;32m/usr/local/lib/python3.9/dist-packages/pyLDAvis/gensim.py\u001b[0m in \u001b[0;36mprepare\u001b[0;34m(topic_model, corpus, dictionary, doc_topic_dist, **kwargs)\u001b[0m\n\u001b[1;32m    120\u001b[0m     \u001b[0mSee\u001b[0m\u001b[0;31m \u001b[0m\u001b[0;31m`\u001b[0m\u001b[0mpyLDAvis\u001b[0m\u001b[0;34m.\u001b[0m\u001b[0mprepare\u001b[0m\u001b[0;31m`\u001b[0m \u001b[0;32mfor\u001b[0m \u001b[0;34m**\u001b[0m\u001b[0mkwargs\u001b[0m\u001b[0;34m.\u001b[0m\u001b[0;34m\u001b[0m\u001b[0;34m\u001b[0m\u001b[0m\n\u001b[1;32m    121\u001b[0m     \"\"\"\n\u001b[0;32m--> 122\u001b[0;31m     \u001b[0mopts\u001b[0m \u001b[0;34m=\u001b[0m \u001b[0mfp\u001b[0m\u001b[0;34m.\u001b[0m\u001b[0mmerge\u001b[0m\u001b[0;34m(\u001b[0m\u001b[0m_extract_data\u001b[0m\u001b[0;34m(\u001b[0m\u001b[0mtopic_model\u001b[0m\u001b[0;34m,\u001b[0m \u001b[0mcorpus\u001b[0m\u001b[0;34m,\u001b[0m \u001b[0mdictionary\u001b[0m\u001b[0;34m,\u001b[0m \u001b[0mdoc_topic_dist\u001b[0m\u001b[0;34m)\u001b[0m\u001b[0;34m,\u001b[0m \u001b[0mkwargs\u001b[0m\u001b[0;34m)\u001b[0m\u001b[0;34m\u001b[0m\u001b[0;34m\u001b[0m\u001b[0m\n\u001b[0m\u001b[1;32m    123\u001b[0m     \u001b[0;32mreturn\u001b[0m \u001b[0mvis_prepare\u001b[0m\u001b[0;34m(\u001b[0m\u001b[0;34m**\u001b[0m\u001b[0mopts\u001b[0m\u001b[0;34m)\u001b[0m\u001b[0;34m\u001b[0m\u001b[0;34m\u001b[0m\u001b[0m\n",
            "\u001b[0;32m/usr/local/lib/python3.9/dist-packages/pyLDAvis/gensim.py\u001b[0m in \u001b[0;36m_extract_data\u001b[0;34m(topic_model, corpus, dictionary, doc_topic_dists)\u001b[0m\n\u001b[1;32m     47\u001b[0m             \u001b[0mgamma\u001b[0m \u001b[0;34m=\u001b[0m \u001b[0mtopic_model\u001b[0m\u001b[0;34m.\u001b[0m\u001b[0minference\u001b[0m\u001b[0;34m(\u001b[0m\u001b[0mcorpus\u001b[0m\u001b[0;34m)\u001b[0m\u001b[0;34m\u001b[0m\u001b[0;34m\u001b[0m\u001b[0m\n\u001b[1;32m     48\u001b[0m         \u001b[0;32melse\u001b[0m\u001b[0;34m:\u001b[0m\u001b[0;34m\u001b[0m\u001b[0;34m\u001b[0m\u001b[0m\n\u001b[0;32m---> 49\u001b[0;31m             \u001b[0mgamma\u001b[0m\u001b[0;34m,\u001b[0m \u001b[0m_\u001b[0m \u001b[0;34m=\u001b[0m \u001b[0mtopic_model\u001b[0m\u001b[0;34m.\u001b[0m\u001b[0minference\u001b[0m\u001b[0;34m(\u001b[0m\u001b[0mcorpus\u001b[0m\u001b[0;34m)\u001b[0m\u001b[0;34m\u001b[0m\u001b[0;34m\u001b[0m\u001b[0m\n\u001b[0m\u001b[1;32m     50\u001b[0m         \u001b[0mdoc_topic_dists\u001b[0m \u001b[0;34m=\u001b[0m \u001b[0mgamma\u001b[0m \u001b[0;34m/\u001b[0m \u001b[0mgamma\u001b[0m\u001b[0;34m.\u001b[0m\u001b[0msum\u001b[0m\u001b[0;34m(\u001b[0m\u001b[0maxis\u001b[0m\u001b[0;34m=\u001b[0m\u001b[0;36m1\u001b[0m\u001b[0;34m)\u001b[0m\u001b[0;34m[\u001b[0m\u001b[0;34m:\u001b[0m\u001b[0;34m,\u001b[0m \u001b[0;32mNone\u001b[0m\u001b[0;34m]\u001b[0m\u001b[0;34m\u001b[0m\u001b[0;34m\u001b[0m\u001b[0m\n\u001b[1;32m     51\u001b[0m     \u001b[0;32melse\u001b[0m\u001b[0;34m:\u001b[0m\u001b[0;34m\u001b[0m\u001b[0;34m\u001b[0m\u001b[0m\n",
            "\u001b[0;31mAttributeError\u001b[0m: 'LdaMallet' object has no attribute 'inference'"
          ]
        }
      ],
      "source": [
        "# !pip install pyLDAvis\n",
        "import pyLDAvis.gensim\n",
        "from gensim.models import wrappers\n",
        "##TODO using LDAvis visualize the topics using the optimal number of topics\n",
        "\n",
        "lda_model = wrappers.LdaMallet(mallet_path, corpus=doc_term_matrix, num_topics=opt_topics, id2word=dictionary)\n",
        "\n",
        "# create visualization\n",
        "vis_data = pyLDAvis.gensim.prepare(lda_model, doc_term_matrix, dictionary)\n",
        "pyLDAvis.display(vis_data)"
      ]
    },
    {
      "cell_type": "code",
      "source": [],
      "metadata": {
        "id": "rIy5RfonrNcS"
      },
      "id": "rIy5RfonrNcS",
      "execution_count": 50,
      "outputs": []
    }
  ],
  "metadata": {
    "colab": {
      "provenance": []
    },
    "kernelspec": {
      "display_name": "Python 3",
      "language": "python",
      "name": "python3"
    },
    "language_info": {
      "codemirror_mode": {
        "name": "ipython",
        "version": 3
      },
      "file_extension": ".py",
      "mimetype": "text/x-python",
      "name": "python",
      "nbconvert_exporter": "python",
      "pygments_lexer": "ipython3",
      "version": "3.8.16"
    }
  },
  "nbformat": 4,
  "nbformat_minor": 5
}