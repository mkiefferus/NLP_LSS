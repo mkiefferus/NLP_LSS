{
  "cells": [
    {
      "cell_type": "markdown",
      "id": "4uqIDL5TELq2",
      "metadata": {
        "id": "4uqIDL5TELq2"
      },
      "source": [
        "# HW03: Distance and Topic Model"
      ]
    },
    {
      "cell_type": "markdown",
      "id": "BROoam_wELq3",
      "metadata": {
        "id": "BROoam_wELq3"
      },
      "source": [
        "Remember that these homework work as a completion grade. **You can skip one section without losing credit.**"
      ]
    },
    {
      "cell_type": "markdown",
      "id": "pwac0WPhELq3",
      "metadata": {
        "id": "pwac0WPhELq3"
      },
      "source": [
        "## Load and Pre-process Text"
      ]
    },
    {
      "cell_type": "code",
      "execution_count": 1,
      "id": "bmcziBH4ELq3",
      "metadata": {
        "colab": {
          "base_uri": "https://localhost:8080/",
          "height": 540
        },
        "id": "bmcziBH4ELq3",
        "outputId": "8db3825c-cee6-441a-befd-231ddadbbd5c"
      },
      "outputs": [
        {
          "output_type": "stream",
          "name": "stdout",
          "text": [
            "--2023-03-15 10:45:55--  https://raw.githubusercontent.com/mhjabreel/CharCnn_Keras/master/data/ag_news_csv/train.csv\n",
            "Resolving raw.githubusercontent.com (raw.githubusercontent.com)... 185.199.111.133, 185.199.108.133, 185.199.109.133, ...\n",
            "Connecting to raw.githubusercontent.com (raw.githubusercontent.com)|185.199.111.133|:443... connected.\n",
            "HTTP request sent, awaiting response... 200 OK\n",
            "Length: 29470338 (28M) [text/plain]\n",
            "Saving to: ‘train.csv’\n",
            "\n",
            "train.csv           100%[===================>]  28.10M  56.7MB/s    in 0.5s    \n",
            "\n",
            "2023-03-15 10:45:56 (56.7 MB/s) - ‘train.csv’ saved [29470338/29470338]\n",
            "\n"
          ]
        },
        {
          "output_type": "execute_result",
          "data": {
            "text/plain": [
              "      label                                              title  \\\n",
              "0  business  Carlyle Looks Toward Commercial Aerospace (Reu...   \n",
              "1  business    Oil and Economy Cloud Stocks' Outlook (Reuters)   \n",
              "2  business  Iraq Halts Oil Exports from Main Southern Pipe...   \n",
              "3  business  Oil prices soar to all-time record, posing new...   \n",
              "4  business        Stocks End Up, But Near Year Lows (Reuters)   \n",
              "\n",
              "                                                lead  \\\n",
              "0  Reuters - Private investment firm Carlyle Grou...   \n",
              "1  Reuters - Soaring crude prices plus worries\\ab...   \n",
              "2  Reuters - Authorities have halted oil export\\f...   \n",
              "3  AFP - Tearaway world oil prices, toppling reco...   \n",
              "4  Reuters - Stocks ended slightly higher on Frid...   \n",
              "\n",
              "                                                text  \n",
              "0  Carlyle Looks Toward Commercial Aerospace (Reu...  \n",
              "1  Oil and Economy Cloud Stocks' Outlook (Reuters...  \n",
              "2  Iraq Halts Oil Exports from Main Southern Pipe...  \n",
              "3  Oil prices soar to all-time record, posing new...  \n",
              "4  Stocks End Up, But Near Year Lows (Reuters) Re...  "
            ],
            "text/html": [
              "\n",
              "  <div id=\"df-2f3873c0-989a-4c31-bd91-656758166d0c\">\n",
              "    <div class=\"colab-df-container\">\n",
              "      <div>\n",
              "<style scoped>\n",
              "    .dataframe tbody tr th:only-of-type {\n",
              "        vertical-align: middle;\n",
              "    }\n",
              "\n",
              "    .dataframe tbody tr th {\n",
              "        vertical-align: top;\n",
              "    }\n",
              "\n",
              "    .dataframe thead th {\n",
              "        text-align: right;\n",
              "    }\n",
              "</style>\n",
              "<table border=\"1\" class=\"dataframe\">\n",
              "  <thead>\n",
              "    <tr style=\"text-align: right;\">\n",
              "      <th></th>\n",
              "      <th>label</th>\n",
              "      <th>title</th>\n",
              "      <th>lead</th>\n",
              "      <th>text</th>\n",
              "    </tr>\n",
              "  </thead>\n",
              "  <tbody>\n",
              "    <tr>\n",
              "      <th>0</th>\n",
              "      <td>business</td>\n",
              "      <td>Carlyle Looks Toward Commercial Aerospace (Reu...</td>\n",
              "      <td>Reuters - Private investment firm Carlyle Grou...</td>\n",
              "      <td>Carlyle Looks Toward Commercial Aerospace (Reu...</td>\n",
              "    </tr>\n",
              "    <tr>\n",
              "      <th>1</th>\n",
              "      <td>business</td>\n",
              "      <td>Oil and Economy Cloud Stocks' Outlook (Reuters)</td>\n",
              "      <td>Reuters - Soaring crude prices plus worries\\ab...</td>\n",
              "      <td>Oil and Economy Cloud Stocks' Outlook (Reuters...</td>\n",
              "    </tr>\n",
              "    <tr>\n",
              "      <th>2</th>\n",
              "      <td>business</td>\n",
              "      <td>Iraq Halts Oil Exports from Main Southern Pipe...</td>\n",
              "      <td>Reuters - Authorities have halted oil export\\f...</td>\n",
              "      <td>Iraq Halts Oil Exports from Main Southern Pipe...</td>\n",
              "    </tr>\n",
              "    <tr>\n",
              "      <th>3</th>\n",
              "      <td>business</td>\n",
              "      <td>Oil prices soar to all-time record, posing new...</td>\n",
              "      <td>AFP - Tearaway world oil prices, toppling reco...</td>\n",
              "      <td>Oil prices soar to all-time record, posing new...</td>\n",
              "    </tr>\n",
              "    <tr>\n",
              "      <th>4</th>\n",
              "      <td>business</td>\n",
              "      <td>Stocks End Up, But Near Year Lows (Reuters)</td>\n",
              "      <td>Reuters - Stocks ended slightly higher on Frid...</td>\n",
              "      <td>Stocks End Up, But Near Year Lows (Reuters) Re...</td>\n",
              "    </tr>\n",
              "  </tbody>\n",
              "</table>\n",
              "</div>\n",
              "      <button class=\"colab-df-convert\" onclick=\"convertToInteractive('df-2f3873c0-989a-4c31-bd91-656758166d0c')\"\n",
              "              title=\"Convert this dataframe to an interactive table.\"\n",
              "              style=\"display:none;\">\n",
              "        \n",
              "  <svg xmlns=\"http://www.w3.org/2000/svg\" height=\"24px\"viewBox=\"0 0 24 24\"\n",
              "       width=\"24px\">\n",
              "    <path d=\"M0 0h24v24H0V0z\" fill=\"none\"/>\n",
              "    <path d=\"M18.56 5.44l.94 2.06.94-2.06 2.06-.94-2.06-.94-.94-2.06-.94 2.06-2.06.94zm-11 1L8.5 8.5l.94-2.06 2.06-.94-2.06-.94L8.5 2.5l-.94 2.06-2.06.94zm10 10l.94 2.06.94-2.06 2.06-.94-2.06-.94-.94-2.06-.94 2.06-2.06.94z\"/><path d=\"M17.41 7.96l-1.37-1.37c-.4-.4-.92-.59-1.43-.59-.52 0-1.04.2-1.43.59L10.3 9.45l-7.72 7.72c-.78.78-.78 2.05 0 2.83L4 21.41c.39.39.9.59 1.41.59.51 0 1.02-.2 1.41-.59l7.78-7.78 2.81-2.81c.8-.78.8-2.07 0-2.86zM5.41 20L4 18.59l7.72-7.72 1.47 1.35L5.41 20z\"/>\n",
              "  </svg>\n",
              "      </button>\n",
              "      \n",
              "  <style>\n",
              "    .colab-df-container {\n",
              "      display:flex;\n",
              "      flex-wrap:wrap;\n",
              "      gap: 12px;\n",
              "    }\n",
              "\n",
              "    .colab-df-convert {\n",
              "      background-color: #E8F0FE;\n",
              "      border: none;\n",
              "      border-radius: 50%;\n",
              "      cursor: pointer;\n",
              "      display: none;\n",
              "      fill: #1967D2;\n",
              "      height: 32px;\n",
              "      padding: 0 0 0 0;\n",
              "      width: 32px;\n",
              "    }\n",
              "\n",
              "    .colab-df-convert:hover {\n",
              "      background-color: #E2EBFA;\n",
              "      box-shadow: 0px 1px 2px rgba(60, 64, 67, 0.3), 0px 1px 3px 1px rgba(60, 64, 67, 0.15);\n",
              "      fill: #174EA6;\n",
              "    }\n",
              "\n",
              "    [theme=dark] .colab-df-convert {\n",
              "      background-color: #3B4455;\n",
              "      fill: #D2E3FC;\n",
              "    }\n",
              "\n",
              "    [theme=dark] .colab-df-convert:hover {\n",
              "      background-color: #434B5C;\n",
              "      box-shadow: 0px 1px 3px 1px rgba(0, 0, 0, 0.15);\n",
              "      filter: drop-shadow(0px 1px 2px rgba(0, 0, 0, 0.3));\n",
              "      fill: #FFFFFF;\n",
              "    }\n",
              "  </style>\n",
              "\n",
              "      <script>\n",
              "        const buttonEl =\n",
              "          document.querySelector('#df-2f3873c0-989a-4c31-bd91-656758166d0c button.colab-df-convert');\n",
              "        buttonEl.style.display =\n",
              "          google.colab.kernel.accessAllowed ? 'block' : 'none';\n",
              "\n",
              "        async function convertToInteractive(key) {\n",
              "          const element = document.querySelector('#df-2f3873c0-989a-4c31-bd91-656758166d0c');\n",
              "          const dataTable =\n",
              "            await google.colab.kernel.invokeFunction('convertToInteractive',\n",
              "                                                     [key], {});\n",
              "          if (!dataTable) return;\n",
              "\n",
              "          const docLinkHtml = 'Like what you see? Visit the ' +\n",
              "            '<a target=\"_blank\" href=https://colab.research.google.com/notebooks/data_table.ipynb>data table notebook</a>'\n",
              "            + ' to learn more about interactive tables.';\n",
              "          element.innerHTML = '';\n",
              "          dataTable['output_type'] = 'display_data';\n",
              "          await google.colab.output.renderOutput(dataTable, element);\n",
              "          const docLink = document.createElement('div');\n",
              "          docLink.innerHTML = docLinkHtml;\n",
              "          element.appendChild(docLink);\n",
              "        }\n",
              "      </script>\n",
              "    </div>\n",
              "  </div>\n",
              "  "
            ]
          },
          "metadata": {},
          "execution_count": 1
        }
      ],
      "source": [
        "#Import the AG news dataset (same as hw01)\n",
        "#Download them from here \n",
        "!wget https://raw.githubusercontent.com/mhjabreel/CharCnn_Keras/master/data/ag_news_csv/train.csv\n",
        "\n",
        "import pandas as pd\n",
        "import nltk\n",
        "df = pd.read_csv('train.csv')\n",
        "\n",
        "df.columns = [\"label\", \"title\", \"lead\"]\n",
        "label_map = {1:\"world\", 2:\"sport\", 3:\"business\", 4:\"sci/tech\"}\n",
        "def replace_label(x):\n",
        "\treturn label_map[x]\n",
        "df[\"label\"] = df[\"label\"].apply(replace_label) \n",
        "df[\"text\"] = df[\"title\"] + \" \" + df[\"lead\"]\n",
        "df.head()"
      ]
    },
    {
      "cell_type": "code",
      "execution_count": 4,
      "id": "SXfvpd-LELq4",
      "metadata": {
        "id": "SXfvpd-LELq4"
      },
      "outputs": [],
      "source": [
        "import spacy\n",
        "dfs = df.sample(200)\n",
        "nlp = spacy.load('en_core_web_sm')\n",
        "from sklearn.feature_extraction.text import TfidfVectorizer\n",
        "\n",
        "##TODO pre-process text as you did in HW02\n",
        "\n",
        "dfs['preprocessed'] = dfs['text'].apply(lambda x: nlp(x))\n",
        "\n",
        "##TODO vectorize the pre-processed text using TfidfVectorizer\n",
        "\n",
        "vectorizer = TfidfVectorizer()\n",
        "vec_text = vectorizer.fit_transform(dfs['preprocessed'].astype(str))"
      ]
    },
    {
      "cell_type": "markdown",
      "id": "Xv-PoYE1ELq4",
      "metadata": {
        "id": "Xv-PoYE1ELq4"
      },
      "source": [
        "## Cosine Similarity and PCA"
      ]
    },
    {
      "cell_type": "code",
      "execution_count": 22,
      "id": "CbtPCqjaELq4",
      "metadata": {
        "id": "CbtPCqjaELq4",
        "colab": {
          "base_uri": "https://localhost:8080/"
        },
        "outputId": "b9c16ca1-42cc-4d57-c6b7-156b7035ad70"
      },
      "outputs": [
        {
          "output_type": "stream",
          "name": "stdout",
          "text": [
            "First snipped: T-Mobile Checks in at Red Roof T-Mobile Hotspot #39;s network of public venues with Wi-Fi is extensive and its partners are big names you #39;ve heard of(Starbucks, FedEx Kinko #39;s, Borders Books).\n",
            "\n",
            "1: Microsoft #39;s  #39;Halo 2 #39; game leaked LOS ANGELES (CBS.MW) -- Microsoft said Friday that a version of its hotly anticipated  quot;Halo 2 quot; video game had been leaked onto various venues on the Internet nearly a month before its planned official release., similarity score = 0.11170032743012519\n",
            "2: Nintendo Says DS Selling Faster Than Anticipated #39; in US Nintendo Co., the world #39;s biggest maker of hand-held game machines, said US sales of its DS hand-held console were faster than anticipated #39; #39; in the first week., similarity score = 0.1020060538620157\n",
            "3: Top supercomputer race continues with Nasa/SGI box Engineers at Nasa #39;s Ames Research Center have staked their claim have built the world #39;s fastest supercomputer. At a ribbon-cutting ceremony at Nasa #39;s supercomputing facility, the US space agency unveiled its , similarity score = 0.09442154475576496\n"
          ]
        }
      ],
      "source": [
        "from sklearn.metrics.pairwise import cosine_similarity\n",
        "# Cosine_similarity = measure of similarity between two non-zero vectors.\n",
        "# Used to measure similarity between two documents repr. as vectors of word frequencies or tf-idf weights\n",
        "# if angle small -> vectors in similar direction -> cosine_sim close to 1 -> high similarity\n",
        "# if angle close to 90 -> low similarity -> cosine_sim close to 0\n",
        "# if angle close to 180 -> coseine_sim close to -1 = high dissimilarity\n",
        "# NLP: find documents that are similar to given query document, or to cluster documents based on similarity\n",
        "\n",
        "##TODO compute the cosine similarity for the first 200 snippets and for the first snippet, show the three most similar snippets and their respective cosine similarity scores\n",
        "\n",
        "sim = cosine_similarity(vec_text)\n",
        "\n",
        "first_snipped = sim[0]\n",
        "\n",
        "# argsort() sorts in ascending order\n",
        "# gives back index order in order to sort sim\n",
        "# 1:4 to exclude the first element being the first snipped itself\n",
        "top_three_ind = first_snipped.argsort()[::-1][1:4]\n",
        "\n",
        "print('First snipped:', dfs.iloc[0]['preprocessed'])\n",
        "print()\n",
        "\n",
        "\n",
        "for i, index in enumerate(top_three_ind):\n",
        "    print('{}: {}, similarity score = {}'.format(i+1, dfs.iloc[index]['preprocessed'], first_snipped[index]))\n"
      ]
    },
    {
      "cell_type": "code",
      "execution_count": 24,
      "id": "MVg9wiT_ELq4",
      "metadata": {
        "id": "MVg9wiT_ELq4",
        "colab": {
          "base_uri": "https://localhost:8080/"
        },
        "outputId": "1c121b67-6862-4eef-d787-396548fabfdb"
      },
      "outputs": [
        {
          "output_type": "stream",
          "name": "stdout",
          "text": [
            "First snipped: T-Mobile Checks in at Red Roof T-Mobile Hotspot #39;s network of public venues with Wi-Fi is extensive and its partners are big names you #39;ve heard of(Starbucks, FedEx Kinko #39;s, Borders Books).\n",
            "\n",
            "1: Deutsche Bank hit again by phishing attack After facing its first-ever phishing attack last week, Deutsche Bank AG said today it was the target of a renewed assault that began late yesterday and continued until this morning., similarity score = 0.9994210247730532\n",
            "2: Agent: Nothing to Alonzo #39;s return His agent says there #39;s nothing to reports that Alonzo Mourning plans another comeback, the New Jersey Nets say they wouldn #39;t be surprised if he tried and the man himself isn #39;t saying anything., similarity score = 0.9987929761879732\n",
            "3: Cisco sees China as center of world tech market Cisco Systems, the world #39;s largest maker of equipment for directing Internet traffic says China is well on the way to becoming the world #39;s technology hub., similarity score = 0.9968305311325478\n"
          ]
        }
      ],
      "source": [
        "from sklearn.decomposition import PCA\n",
        "pca = PCA(n_components=3,svd_solver='randomized')\n",
        "\n",
        "##TODO reduce the vectorized data using PCA\n",
        "\n",
        "pca_vec_text = pca.fit_transform(vec_text.toarray())\n",
        "\n",
        "##TODO compute again cosine similarity with the reduced version for the first 200 snippets\n",
        "\n",
        "red_cos_sim = cosine_similarity(pca_vec_text)\n",
        "\n",
        "##TODO for the first snippet, show again its three most similar snippets\n",
        "\n",
        "first_snipped = red_cos_sim[0]\n",
        "top_three_ind = first_snipped.argsort()[::-1][1:4]\n",
        "\n",
        "print('First snipped:', dfs.iloc[0]['preprocessed'])\n",
        "print()\n",
        "\n",
        "\n",
        "for i, index in enumerate(top_three_ind):\n",
        "    print('{}: {}, similarity score = {}'.format(i+1, dfs.iloc[index]['preprocessed'], first_snipped[index]))\n"
      ]
    },
    {
      "cell_type": "markdown",
      "id": "UM-7eKCpELq5",
      "metadata": {
        "id": "UM-7eKCpELq5"
      },
      "source": [
        "Compare the cosine similarity before and after PCA reduction. Did the results change? "
      ]
    },
    {
      "cell_type": "markdown",
      "source": [
        "Yes, the results do differ. PCA reduces dimensionality of data and only preserves the most imporant relationshipds. When applying cos_sim again on the reduced space, some data may have been lost which leads to different results."
      ],
      "metadata": {
        "id": "8C02K1Y1KyBR"
      },
      "id": "8C02K1Y1KyBR"
    },
    {
      "cell_type": "markdown",
      "id": "G5XaeYINELq5",
      "metadata": {
        "id": "G5XaeYINELq5"
      },
      "source": [
        "## Clustering"
      ]
    },
    {
      "cell_type": "code",
      "execution_count": 30,
      "id": "YemXavPQELq5",
      "metadata": {
        "id": "YemXavPQELq5",
        "colab": {
          "base_uri": "https://localhost:8080/"
        },
        "outputId": "60b36853-ee09-4e8e-8b29-a5cbee69c1fb"
      },
      "outputs": [
        {
          "output_type": "stream",
          "name": "stdout",
          "text": [
            "Looking in indexes: https://pypi.org/simple, https://us-python.pkg.dev/colab-wheels/public/simple/\n",
            "Requirement already satisfied: scikit-learn-extra in /usr/local/lib/python3.9/dist-packages (0.2.0)\n",
            "Requirement already satisfied: scipy>=0.19.1 in /usr/local/lib/python3.9/dist-packages (from scikit-learn-extra) (1.10.1)\n",
            "Requirement already satisfied: numpy>=1.13.3 in /usr/local/lib/python3.9/dist-packages (from scikit-learn-extra) (1.22.4)\n",
            "Requirement already satisfied: scikit-learn>=0.23.0 in /usr/local/lib/python3.9/dist-packages (from scikit-learn-extra) (1.2.2)\n",
            "Requirement already satisfied: joblib>=1.1.1 in /usr/local/lib/python3.9/dist-packages (from scikit-learn>=0.23.0->scikit-learn-extra) (1.1.1)\n",
            "Requirement already satisfied: threadpoolctl>=2.0.0 in /usr/local/lib/python3.9/dist-packages (from scikit-learn>=0.23.0->scikit-learn-extra) (3.1.0)\n"
          ]
        },
        {
          "output_type": "stream",
          "name": "stderr",
          "text": [
            "/usr/local/lib/python3.9/dist-packages/sklearn/cluster/_kmeans.py:870: FutureWarning: The default value of `n_init` will change from 10 to 'auto' in 1.4. Set the value of `n_init` explicitly to suppress the warning\n",
            "  warnings.warn(\n"
          ]
        }
      ],
      "source": [
        "!pip install scikit-learn-extra\n",
        "from sklearn_extra.cluster import KMedoids\n",
        "from sklearn.cluster import KMeans\n",
        "from sklearn.metrics import silhouette_score\n",
        "\n",
        "##TODO create the clusters found with k-medoids clustering nd 5 clusters\n",
        "\n",
        "kmedoids = KMedoids(n_clusters=5, random_state=0)\n",
        "kmedoids.fit(pca_vec_text)\n",
        "\n",
        "dfs['kmedoids_cluster'] = kmedoids.labels_\n",
        "\n",
        "##TODO create the clusters found with k-means clustering nd 5 clusters\n",
        "\n",
        "kmeans = KMeans(n_clusters=5, random_state=0)\n",
        "kmeans.fit(pca_vec_text)\n",
        "\n",
        "dfs['kmeans_cluster'] = kmeans.labels_"
      ]
    },
    {
      "cell_type": "code",
      "source": [
        "dfs.head()"
      ],
      "metadata": {
        "id": "GcObGvztPcu-",
        "outputId": "f8a28aed-6b3c-4bf9-99be-8eabfc06e922",
        "colab": {
          "base_uri": "https://localhost:8080/",
          "height": 588
        }
      },
      "id": "GcObGvztPcu-",
      "execution_count": 31,
      "outputs": [
        {
          "output_type": "execute_result",
          "data": {
            "text/plain": [
              "           label                                          title  \\\n",
              "9044    sci/tech                 T-Mobile Checks in at Red Roof   \n",
              "89517      world         Prosecutor: Italian PM deserves prison   \n",
              "16614      sport          Agent: Nothing to Alonzo #39;s return   \n",
              "35418      sport                         A position of strength   \n",
              "113805     world  US pushes for more economic reform in Mideast   \n",
              "\n",
              "                                                     lead  \\\n",
              "9044    T-Mobile Hotspot #39;s network of public venue...   \n",
              "89517   An Italian prosecutor says that Prime Minister...   \n",
              "16614   His agent says there #39;s nothing to reports ...   \n",
              "35418   Who knows? Maybe a year from now when Ty Law i...   \n",
              "113805  This week the US and Egypt plan to sign a trad...   \n",
              "\n",
              "                                                     text  \\\n",
              "9044    T-Mobile Checks in at Red Roof T-Mobile Hotspo...   \n",
              "89517   Prosecutor: Italian PM deserves prison An Ital...   \n",
              "16614   Agent: Nothing to Alonzo #39;s return His agen...   \n",
              "35418   A position of strength Who knows? Maybe a year...   \n",
              "113805  US pushes for more economic reform in Mideast ...   \n",
              "\n",
              "                                             preprocessed  kmedoids_cluster  \\\n",
              "9044    (T, -, Mobile, Checks, in, at, Red, Roof, T, -...                 3   \n",
              "89517   (Prosecutor, :, Italian, PM, deserves, prison,...                 1   \n",
              "16614   (Agent, :, Nothing, to, Alonzo, #, 39;s, retur...                 3   \n",
              "35418   (A, position, of, strength, Who, knows, ?, May...                 1   \n",
              "113805  (US, pushes, for, more, economic, reform, in, ...                 2   \n",
              "\n",
              "        kmeans_cluster  \n",
              "9044                 0  \n",
              "89517                2  \n",
              "16614                0  \n",
              "35418                2  \n",
              "113805               2  "
            ],
            "text/html": [
              "\n",
              "  <div id=\"df-e0e97742-8928-4abf-8e73-306f99dae1cc\">\n",
              "    <div class=\"colab-df-container\">\n",
              "      <div>\n",
              "<style scoped>\n",
              "    .dataframe tbody tr th:only-of-type {\n",
              "        vertical-align: middle;\n",
              "    }\n",
              "\n",
              "    .dataframe tbody tr th {\n",
              "        vertical-align: top;\n",
              "    }\n",
              "\n",
              "    .dataframe thead th {\n",
              "        text-align: right;\n",
              "    }\n",
              "</style>\n",
              "<table border=\"1\" class=\"dataframe\">\n",
              "  <thead>\n",
              "    <tr style=\"text-align: right;\">\n",
              "      <th></th>\n",
              "      <th>label</th>\n",
              "      <th>title</th>\n",
              "      <th>lead</th>\n",
              "      <th>text</th>\n",
              "      <th>preprocessed</th>\n",
              "      <th>kmedoids_cluster</th>\n",
              "      <th>kmeans_cluster</th>\n",
              "    </tr>\n",
              "  </thead>\n",
              "  <tbody>\n",
              "    <tr>\n",
              "      <th>9044</th>\n",
              "      <td>sci/tech</td>\n",
              "      <td>T-Mobile Checks in at Red Roof</td>\n",
              "      <td>T-Mobile Hotspot #39;s network of public venue...</td>\n",
              "      <td>T-Mobile Checks in at Red Roof T-Mobile Hotspo...</td>\n",
              "      <td>(T, -, Mobile, Checks, in, at, Red, Roof, T, -...</td>\n",
              "      <td>3</td>\n",
              "      <td>0</td>\n",
              "    </tr>\n",
              "    <tr>\n",
              "      <th>89517</th>\n",
              "      <td>world</td>\n",
              "      <td>Prosecutor: Italian PM deserves prison</td>\n",
              "      <td>An Italian prosecutor says that Prime Minister...</td>\n",
              "      <td>Prosecutor: Italian PM deserves prison An Ital...</td>\n",
              "      <td>(Prosecutor, :, Italian, PM, deserves, prison,...</td>\n",
              "      <td>1</td>\n",
              "      <td>2</td>\n",
              "    </tr>\n",
              "    <tr>\n",
              "      <th>16614</th>\n",
              "      <td>sport</td>\n",
              "      <td>Agent: Nothing to Alonzo #39;s return</td>\n",
              "      <td>His agent says there #39;s nothing to reports ...</td>\n",
              "      <td>Agent: Nothing to Alonzo #39;s return His agen...</td>\n",
              "      <td>(Agent, :, Nothing, to, Alonzo, #, 39;s, retur...</td>\n",
              "      <td>3</td>\n",
              "      <td>0</td>\n",
              "    </tr>\n",
              "    <tr>\n",
              "      <th>35418</th>\n",
              "      <td>sport</td>\n",
              "      <td>A position of strength</td>\n",
              "      <td>Who knows? Maybe a year from now when Ty Law i...</td>\n",
              "      <td>A position of strength Who knows? Maybe a year...</td>\n",
              "      <td>(A, position, of, strength, Who, knows, ?, May...</td>\n",
              "      <td>1</td>\n",
              "      <td>2</td>\n",
              "    </tr>\n",
              "    <tr>\n",
              "      <th>113805</th>\n",
              "      <td>world</td>\n",
              "      <td>US pushes for more economic reform in Mideast</td>\n",
              "      <td>This week the US and Egypt plan to sign a trad...</td>\n",
              "      <td>US pushes for more economic reform in Mideast ...</td>\n",
              "      <td>(US, pushes, for, more, economic, reform, in, ...</td>\n",
              "      <td>2</td>\n",
              "      <td>2</td>\n",
              "    </tr>\n",
              "  </tbody>\n",
              "</table>\n",
              "</div>\n",
              "      <button class=\"colab-df-convert\" onclick=\"convertToInteractive('df-e0e97742-8928-4abf-8e73-306f99dae1cc')\"\n",
              "              title=\"Convert this dataframe to an interactive table.\"\n",
              "              style=\"display:none;\">\n",
              "        \n",
              "  <svg xmlns=\"http://www.w3.org/2000/svg\" height=\"24px\"viewBox=\"0 0 24 24\"\n",
              "       width=\"24px\">\n",
              "    <path d=\"M0 0h24v24H0V0z\" fill=\"none\"/>\n",
              "    <path d=\"M18.56 5.44l.94 2.06.94-2.06 2.06-.94-2.06-.94-.94-2.06-.94 2.06-2.06.94zm-11 1L8.5 8.5l.94-2.06 2.06-.94-2.06-.94L8.5 2.5l-.94 2.06-2.06.94zm10 10l.94 2.06.94-2.06 2.06-.94-2.06-.94-.94-2.06-.94 2.06-2.06.94z\"/><path d=\"M17.41 7.96l-1.37-1.37c-.4-.4-.92-.59-1.43-.59-.52 0-1.04.2-1.43.59L10.3 9.45l-7.72 7.72c-.78.78-.78 2.05 0 2.83L4 21.41c.39.39.9.59 1.41.59.51 0 1.02-.2 1.41-.59l7.78-7.78 2.81-2.81c.8-.78.8-2.07 0-2.86zM5.41 20L4 18.59l7.72-7.72 1.47 1.35L5.41 20z\"/>\n",
              "  </svg>\n",
              "      </button>\n",
              "      \n",
              "  <style>\n",
              "    .colab-df-container {\n",
              "      display:flex;\n",
              "      flex-wrap:wrap;\n",
              "      gap: 12px;\n",
              "    }\n",
              "\n",
              "    .colab-df-convert {\n",
              "      background-color: #E8F0FE;\n",
              "      border: none;\n",
              "      border-radius: 50%;\n",
              "      cursor: pointer;\n",
              "      display: none;\n",
              "      fill: #1967D2;\n",
              "      height: 32px;\n",
              "      padding: 0 0 0 0;\n",
              "      width: 32px;\n",
              "    }\n",
              "\n",
              "    .colab-df-convert:hover {\n",
              "      background-color: #E2EBFA;\n",
              "      box-shadow: 0px 1px 2px rgba(60, 64, 67, 0.3), 0px 1px 3px 1px rgba(60, 64, 67, 0.15);\n",
              "      fill: #174EA6;\n",
              "    }\n",
              "\n",
              "    [theme=dark] .colab-df-convert {\n",
              "      background-color: #3B4455;\n",
              "      fill: #D2E3FC;\n",
              "    }\n",
              "\n",
              "    [theme=dark] .colab-df-convert:hover {\n",
              "      background-color: #434B5C;\n",
              "      box-shadow: 0px 1px 3px 1px rgba(0, 0, 0, 0.15);\n",
              "      filter: drop-shadow(0px 1px 2px rgba(0, 0, 0, 0.3));\n",
              "      fill: #FFFFFF;\n",
              "    }\n",
              "  </style>\n",
              "\n",
              "      <script>\n",
              "        const buttonEl =\n",
              "          document.querySelector('#df-e0e97742-8928-4abf-8e73-306f99dae1cc button.colab-df-convert');\n",
              "        buttonEl.style.display =\n",
              "          google.colab.kernel.accessAllowed ? 'block' : 'none';\n",
              "\n",
              "        async function convertToInteractive(key) {\n",
              "          const element = document.querySelector('#df-e0e97742-8928-4abf-8e73-306f99dae1cc');\n",
              "          const dataTable =\n",
              "            await google.colab.kernel.invokeFunction('convertToInteractive',\n",
              "                                                     [key], {});\n",
              "          if (!dataTable) return;\n",
              "\n",
              "          const docLinkHtml = 'Like what you see? Visit the ' +\n",
              "            '<a target=\"_blank\" href=https://colab.research.google.com/notebooks/data_table.ipynb>data table notebook</a>'\n",
              "            + ' to learn more about interactive tables.';\n",
              "          element.innerHTML = '';\n",
              "          dataTable['output_type'] = 'display_data';\n",
              "          await google.colab.output.renderOutput(dataTable, element);\n",
              "          const docLink = document.createElement('div');\n",
              "          docLink.innerHTML = docLinkHtml;\n",
              "          element.appendChild(docLink);\n",
              "        }\n",
              "      </script>\n",
              "    </div>\n",
              "  </div>\n",
              "  "
            ]
          },
          "metadata": {},
          "execution_count": 31
        }
      ]
    },
    {
      "cell_type": "code",
      "execution_count": 32,
      "id": "ZQ4Y98yKELq5",
      "metadata": {
        "id": "ZQ4Y98yKELq5",
        "colab": {
          "base_uri": "https://localhost:8080/",
          "height": 605
        },
        "outputId": "3f0e7ec1-b805-41ab-bf2e-36b5339c62ba"
      },
      "outputs": [
        {
          "output_type": "stream",
          "name": "stderr",
          "text": [
            "/usr/local/lib/python3.9/dist-packages/sklearn/manifold/_isomap.py:373: UserWarning: The number of connected components of the neighbors graph is 2 > 1. Completing the graph to fit Isomap might be slow. Increase the number of neighbors to avoid this issue.\n",
            "  self._fit_transform(X)\n",
            "/usr/local/lib/python3.9/dist-packages/scipy/sparse/_index.py:103: SparseEfficiencyWarning: Changing the sparsity structure of a csr_matrix is expensive. lil_matrix is more efficient.\n",
            "  self._set_intXint(row, col, x.flat[0])\n"
          ]
        },
        {
          "output_type": "display_data",
          "data": {
            "text/plain": [
              "<Figure size 720x576 with 1 Axes>"
            ],
            "image/png": "[encoded data removed]"
          },
          "metadata": {
            "needs_background": "light"
          }
        }
      ],
      "source": [
        "##TODO visualize the k-medoids clustering results through Isomap (first reduce the dimensionality to 2 using Isomap, then use scatter plot (plt.scatter()) to visualize)\n",
        "\n",
        "from sklearn.manifold import Isomap\n",
        "import matplotlib.pyplot as plt\n",
        "\n",
        "iso = Isomap(n_components=2)\n",
        "iso_vec_text = iso.fit_transform(pca_vec_text)\n",
        "\n",
        "# Add Isomap components to dataframe\n",
        "dfs['isomap1'] = iso_vec_text[:,0]\n",
        "dfs['isomap2'] = iso_vec_text[:,1]\n",
        "\n",
        "\n",
        "\n",
        "# Scatter plot of k-medoids clusters using Isomap\n",
        "plt.figure(figsize=(10,8))\n",
        "plt.scatter(dfs['isomap1'], dfs['isomap2'], c=dfs['kmedoids_cluster'], cmap='Set1')\n",
        "plt.title('K-Medoids Clustering with Isomap (n_clusters=5)', fontsize=14)\n",
        "plt.xlabel('Isomap Component 1', fontsize=12)\n",
        "plt.ylabel('Isomap Component 2', fontsize=12)\n",
        "plt.show()"
      ]
    },
    {
      "cell_type": "code",
      "execution_count": null,
      "id": "mT0YQfX-z1YL",
      "metadata": {
        "id": "mT0YQfX-z1YL"
      },
      "outputs": [],
      "source": [
        "##TODO similarly, visualize the k-means results"
      ]
    },
    {
      "cell_type": "markdown",
      "id": "Q6ioDcP-ELq5",
      "metadata": {
        "id": "Q6ioDcP-ELq5"
      },
      "source": [
        "## Topic Modeling: LDA"
      ]
    },
    {
      "cell_type": "markdown",
      "id": "ev37xRqwELq5",
      "metadata": {
        "id": "ev37xRqwELq5"
      },
      "source": [
        "For this part you will need to use LDA Mallet. If you cannot have Mallet run, you can use the simple LDA algorithm "
      ]
    },
    {
      "cell_type": "code",
      "execution_count": null,
      "id": "kjLuOgsHELq5",
      "metadata": {
        "id": "kjLuOgsHELq5"
      },
      "outputs": [],
      "source": [
        "from gensim.corpora import Dictionary\n",
        "from gensim.models.wrappers import LdaMallet\n",
        "from gensim.models.coherencemodel import CoherenceModel\n",
        "\n",
        "##TODO create a dictionary with the pre-processed tokenized text and filter it according to frequencies and keeping 1000 vocabularies\n",
        "##TODO create the doc_term_matrix"
      ]
    },
    {
      "cell_type": "code",
      "execution_count": null,
      "id": "m62iX2rh1zyp",
      "metadata": {
        "id": "m62iX2rh1zyp"
      },
      "outputs": [],
      "source": [
        "# !wget http://mallet.cs.umass.edu/dist/mallet-2.0.8.zip\n",
        "# !unzip mallet-2.0.8.zip"
      ]
    },
    {
      "cell_type": "code",
      "execution_count": null,
      "id": "jZsmeNyvELq5",
      "metadata": {
        "id": "jZsmeNyvELq5"
      },
      "outputs": [],
      "source": [
        "##TODO train a LDA Mallet model with 5, 10 and 15 topics\n",
        "##TODO compute the coherence score for each of these model and print the topics from the model with highest coherence score. Then find the opitimal number of topics using the coherence score."
      ]
    },
    {
      "cell_type": "code",
      "execution_count": null,
      "id": "3EJIIr58ELq6",
      "metadata": {
        "id": "3EJIIr58ELq6"
      },
      "outputs": [],
      "source": [
        "#!pip install pyLDAvis\n",
        "import pyLDAvis.gensim\n",
        "from gensim.models import wrappers\n",
        "##TODO using LDAvis visualize the topics using the optimal number of topics"
      ]
    }
  ],
  "metadata": {
    "colab": {
      "provenance": []
    },
    "kernelspec": {
      "display_name": "Python 3",
      "language": "python",
      "name": "python3"
    },
    "language_info": {
      "codemirror_mode": {
        "name": "ipython",
        "version": 3
      },
      "file_extension": ".py",
      "mimetype": "text/x-python",
      "name": "python",
      "nbconvert_exporter": "python",
      "pygments_lexer": "ipython3",
      "version": "3.8.16"
    }
  },
  "nbformat": 4,
  "nbformat_minor": 5
}