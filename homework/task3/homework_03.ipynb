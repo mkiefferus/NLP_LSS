{
  "cells": [
    {
      "cell_type": "markdown",
      "id": "4uqIDL5TELq2",
      "metadata": {
        "id": "4uqIDL5TELq2"
      },
      "source": [
        "# HW03: Distance and Topic Model"
      ]
    },
    {
      "cell_type": "markdown",
      "id": "BROoam_wELq3",
      "metadata": {
        "id": "BROoam_wELq3"
      },
      "source": [
        "Remember that these homework work as a completion grade. **You can skip one section without losing credit.**"
      ]
    },
    {
      "cell_type": "markdown",
      "id": "pwac0WPhELq3",
      "metadata": {
        "id": "pwac0WPhELq3"
      },
      "source": [
        "## Load and Pre-process Text"
      ]
    },
    {
      "cell_type": "code",
      "source": [
        "import warnings; warnings.simplefilter('ignore')"
      ],
      "metadata": {
        "id": "_OpgINT6H8Wv"
      },
      "id": "_OpgINT6H8Wv",
      "execution_count": 74,
      "outputs": []
    },
    {
      "cell_type": "code",
      "execution_count": 37,
      "id": "bmcziBH4ELq3",
      "metadata": {
        "colab": {
          "base_uri": "https://localhost:8080/",
          "height": 540
        },
        "id": "bmcziBH4ELq3",
        "outputId": "b69e2fa7-4232-49e8-976a-b938a6dc314b"
      },
      "outputs": [
        {
          "output_type": "stream",
          "name": "stdout",
          "text": [
            "--2023-03-16 09:32:56--  https://raw.githubusercontent.com/mhjabreel/CharCnn_Keras/master/data/ag_news_csv/train.csv\n",
            "Resolving raw.githubusercontent.com (raw.githubusercontent.com)... 185.199.108.133, 185.199.109.133, 185.199.110.133, ...\n",
            "Connecting to raw.githubusercontent.com (raw.githubusercontent.com)|185.199.108.133|:443... connected.\n",
            "HTTP request sent, awaiting response... 200 OK\n",
            "Length: 29470338 (28M) [text/plain]\n",
            "Saving to: ‘train.csv.1’\n",
            "\n",
            "train.csv.1         100%[===================>]  28.10M   162MB/s    in 0.2s    \n",
            "\n",
            "2023-03-16 09:32:56 (162 MB/s) - ‘train.csv.1’ saved [29470338/29470338]\n",
            "\n"
          ]
        },
        {
          "output_type": "execute_result",
          "data": {
            "text/plain": [
              "      label                                              title  \\\n",
              "0  business  Carlyle Looks Toward Commercial Aerospace (Reu...   \n",
              "1  business    Oil and Economy Cloud Stocks' Outlook (Reuters)   \n",
              "2  business  Iraq Halts Oil Exports from Main Southern Pipe...   \n",
              "3  business  Oil prices soar to all-time record, posing new...   \n",
              "4  business        Stocks End Up, But Near Year Lows (Reuters)   \n",
              "\n",
              "                                                lead  \\\n",
              "0  Reuters - Private investment firm Carlyle Grou...   \n",
              "1  Reuters - Soaring crude prices plus worries\\ab...   \n",
              "2  Reuters - Authorities have halted oil export\\f...   \n",
              "3  AFP - Tearaway world oil prices, toppling reco...   \n",
              "4  Reuters - Stocks ended slightly higher on Frid...   \n",
              "\n",
              "                                                text  \n",
              "0  Carlyle Looks Toward Commercial Aerospace (Reu...  \n",
              "1  Oil and Economy Cloud Stocks' Outlook (Reuters...  \n",
              "2  Iraq Halts Oil Exports from Main Southern Pipe...  \n",
              "3  Oil prices soar to all-time record, posing new...  \n",
              "4  Stocks End Up, But Near Year Lows (Reuters) Re...  "
            ],
            "text/html": [
              "\n",
              "  <div id=\"df-d6b30eaa-7f48-41b3-ad0c-3aa3dd275710\">\n",
              "    <div class=\"colab-df-container\">\n",
              "      <div>\n",
              "<style scoped>\n",
              "    .dataframe tbody tr th:only-of-type {\n",
              "        vertical-align: middle;\n",
              "    }\n",
              "\n",
              "    .dataframe tbody tr th {\n",
              "        vertical-align: top;\n",
              "    }\n",
              "\n",
              "    .dataframe thead th {\n",
              "        text-align: right;\n",
              "    }\n",
              "</style>\n",
              "<table border=\"1\" class=\"dataframe\">\n",
              "  <thead>\n",
              "    <tr style=\"text-align: right;\">\n",
              "      <th></th>\n",
              "      <th>label</th>\n",
              "      <th>title</th>\n",
              "      <th>lead</th>\n",
              "      <th>text</th>\n",
              "    </tr>\n",
              "  </thead>\n",
              "  <tbody>\n",
              "    <tr>\n",
              "      <th>0</th>\n",
              "      <td>business</td>\n",
              "      <td>Carlyle Looks Toward Commercial Aerospace (Reu...</td>\n",
              "      <td>Reuters - Private investment firm Carlyle Grou...</td>\n",
              "      <td>Carlyle Looks Toward Commercial Aerospace (Reu...</td>\n",
              "    </tr>\n",
              "    <tr>\n",
              "      <th>1</th>\n",
              "      <td>business</td>\n",
              "      <td>Oil and Economy Cloud Stocks' Outlook (Reuters)</td>\n",
              "      <td>Reuters - Soaring crude prices plus worries\\ab...</td>\n",
              "      <td>Oil and Economy Cloud Stocks' Outlook (Reuters...</td>\n",
              "    </tr>\n",
              "    <tr>\n",
              "      <th>2</th>\n",
              "      <td>business</td>\n",
              "      <td>Iraq Halts Oil Exports from Main Southern Pipe...</td>\n",
              "      <td>Reuters - Authorities have halted oil export\\f...</td>\n",
              "      <td>Iraq Halts Oil Exports from Main Southern Pipe...</td>\n",
              "    </tr>\n",
              "    <tr>\n",
              "      <th>3</th>\n",
              "      <td>business</td>\n",
              "      <td>Oil prices soar to all-time record, posing new...</td>\n",
              "      <td>AFP - Tearaway world oil prices, toppling reco...</td>\n",
              "      <td>Oil prices soar to all-time record, posing new...</td>\n",
              "    </tr>\n",
              "    <tr>\n",
              "      <th>4</th>\n",
              "      <td>business</td>\n",
              "      <td>Stocks End Up, But Near Year Lows (Reuters)</td>\n",
              "      <td>Reuters - Stocks ended slightly higher on Frid...</td>\n",
              "      <td>Stocks End Up, But Near Year Lows (Reuters) Re...</td>\n",
              "    </tr>\n",
              "  </tbody>\n",
              "</table>\n",
              "</div>\n",
              "      <button class=\"colab-df-convert\" onclick=\"convertToInteractive('df-d6b30eaa-7f48-41b3-ad0c-3aa3dd275710')\"\n",
              "              title=\"Convert this dataframe to an interactive table.\"\n",
              "              style=\"display:none;\">\n",
              "        \n",
              "  <svg xmlns=\"http://www.w3.org/2000/svg\" height=\"24px\"viewBox=\"0 0 24 24\"\n",
              "       width=\"24px\">\n",
              "    <path d=\"M0 0h24v24H0V0z\" fill=\"none\"/>\n",
              "    <path d=\"M18.56 5.44l.94 2.06.94-2.06 2.06-.94-2.06-.94-.94-2.06-.94 2.06-2.06.94zm-11 1L8.5 8.5l.94-2.06 2.06-.94-2.06-.94L8.5 2.5l-.94 2.06-2.06.94zm10 10l.94 2.06.94-2.06 2.06-.94-2.06-.94-.94-2.06-.94 2.06-2.06.94z\"/><path d=\"M17.41 7.96l-1.37-1.37c-.4-.4-.92-.59-1.43-.59-.52 0-1.04.2-1.43.59L10.3 9.45l-7.72 7.72c-.78.78-.78 2.05 0 2.83L4 21.41c.39.39.9.59 1.41.59.51 0 1.02-.2 1.41-.59l7.78-7.78 2.81-2.81c.8-.78.8-2.07 0-2.86zM5.41 20L4 18.59l7.72-7.72 1.47 1.35L5.41 20z\"/>\n",
              "  </svg>\n",
              "      </button>\n",
              "      \n",
              "  <style>\n",
              "    .colab-df-container {\n",
              "      display:flex;\n",
              "      flex-wrap:wrap;\n",
              "      gap: 12px;\n",
              "    }\n",
              "\n",
              "    .colab-df-convert {\n",
              "      background-color: #E8F0FE;\n",
              "      border: none;\n",
              "      border-radius: 50%;\n",
              "      cursor: pointer;\n",
              "      display: none;\n",
              "      fill: #1967D2;\n",
              "      height: 32px;\n",
              "      padding: 0 0 0 0;\n",
              "      width: 32px;\n",
              "    }\n",
              "\n",
              "    .colab-df-convert:hover {\n",
              "      background-color: #E2EBFA;\n",
              "      box-shadow: 0px 1px 2px rgba(60, 64, 67, 0.3), 0px 1px 3px 1px rgba(60, 64, 67, 0.15);\n",
              "      fill: #174EA6;\n",
              "    }\n",
              "\n",
              "    [theme=dark] .colab-df-convert {\n",
              "      background-color: #3B4455;\n",
              "      fill: #D2E3FC;\n",
              "    }\n",
              "\n",
              "    [theme=dark] .colab-df-convert:hover {\n",
              "      background-color: #434B5C;\n",
              "      box-shadow: 0px 1px 3px 1px rgba(0, 0, 0, 0.15);\n",
              "      filter: drop-shadow(0px 1px 2px rgba(0, 0, 0, 0.3));\n",
              "      fill: #FFFFFF;\n",
              "    }\n",
              "  </style>\n",
              "\n",
              "      <script>\n",
              "        const buttonEl =\n",
              "          document.querySelector('#df-d6b30eaa-7f48-41b3-ad0c-3aa3dd275710 button.colab-df-convert');\n",
              "        buttonEl.style.display =\n",
              "          google.colab.kernel.accessAllowed ? 'block' : 'none';\n",
              "\n",
              "        async function convertToInteractive(key) {\n",
              "          const element = document.querySelector('#df-d6b30eaa-7f48-41b3-ad0c-3aa3dd275710');\n",
              "          const dataTable =\n",
              "            await google.colab.kernel.invokeFunction('convertToInteractive',\n",
              "                                                     [key], {});\n",
              "          if (!dataTable) return;\n",
              "\n",
              "          const docLinkHtml = 'Like what you see? Visit the ' +\n",
              "            '<a target=\"_blank\" href=https://colab.research.google.com/notebooks/data_table.ipynb>data table notebook</a>'\n",
              "            + ' to learn more about interactive tables.';\n",
              "          element.innerHTML = '';\n",
              "          dataTable['output_type'] = 'display_data';\n",
              "          await google.colab.output.renderOutput(dataTable, element);\n",
              "          const docLink = document.createElement('div');\n",
              "          docLink.innerHTML = docLinkHtml;\n",
              "          element.appendChild(docLink);\n",
              "        }\n",
              "      </script>\n",
              "    </div>\n",
              "  </div>\n",
              "  "
            ]
          },
          "metadata": {},
          "execution_count": 37
        }
      ],
      "source": [
        "#Import the AG news dataset (same as hw01)\n",
        "#Download them from here \n",
        "!wget https://raw.githubusercontent.com/mhjabreel/CharCnn_Keras/master/data/ag_news_csv/train.csv\n",
        "\n",
        "import pandas as pd\n",
        "import nltk\n",
        "df = pd.read_csv('train.csv')\n",
        "\n",
        "df.columns = [\"label\", \"title\", \"lead\"]\n",
        "label_map = {1:\"world\", 2:\"sport\", 3:\"business\", 4:\"sci/tech\"}\n",
        "def replace_label(x):\n",
        "\treturn label_map[x]\n",
        "df[\"label\"] = df[\"label\"].apply(replace_label) \n",
        "df[\"text\"] = df[\"title\"] + \" \" + df[\"lead\"]\n",
        "df.head()"
      ]
    },
    {
      "cell_type": "code",
      "execution_count": 38,
      "id": "SXfvpd-LELq4",
      "metadata": {
        "id": "SXfvpd-LELq4"
      },
      "outputs": [],
      "source": [
        "import spacy\n",
        "dfs = df.sample(200)\n",
        "nlp = spacy.load('en_core_web_sm')\n",
        "from sklearn.feature_extraction.text import TfidfVectorizer\n",
        "\n",
        "##TODO pre-process text as you did in HW02\n",
        "\n",
        "dfs['preprocessed'] = dfs['text'].apply(lambda x: nlp(x))\n",
        "\n",
        "##TODO vectorize the pre-processed text using TfidfVectorizer\n",
        "\n",
        "vectorizer = TfidfVectorizer()\n",
        "vec_text = vectorizer.fit_transform(dfs['preprocessed'].astype(str))"
      ]
    },
    {
      "cell_type": "markdown",
      "id": "Xv-PoYE1ELq4",
      "metadata": {
        "id": "Xv-PoYE1ELq4"
      },
      "source": [
        "## Cosine Similarity and PCA"
      ]
    },
    {
      "cell_type": "code",
      "execution_count": 39,
      "id": "CbtPCqjaELq4",
      "metadata": {
        "id": "CbtPCqjaELq4",
        "colab": {
          "base_uri": "https://localhost:8080/"
        },
        "outputId": "184096e9-4133-460f-aab4-2207fb1ce414"
      },
      "outputs": [
        {
          "output_type": "stream",
          "name": "stdout",
          "text": [
            "First snipped: US soldiers flock to laser eye clinic FORT CAMPBELL, Ky. -- Command Sergeant Major Kurt Pinero looked up from the operating table after laser eye surgery, and made out the pictures on the television screen across the room.\n",
            "\n",
            "1: Liverpool Football Club eye Italian The Reds are in desperate need for a striker following the injuries to Djibril Cisse and Milan Baros, whilst Luis Garcias hamstring problem has hardly helped matters., similarity score = 0.087480634575598\n",
            "2: US  #39;defector #39; to turn himself in Charles Robert Jenkins, a one-time US Army sergeant accused of defecting to North Korea 39 years ago, has saidy he will soon surrender to military authorities to  quot;face the charges that have been filed against me., similarity score = 0.07179255853855679\n",
            "3: Hamm Wins All-Around Gymnastics Title (AP) AP - After falling onto the edge of the judges' table on the landing of his vault, Paul Hamm performed two of the most spectacular routines of his career to win the men's all-around gymnastics title by the closest Olympic margin ever., similarity score = 0.06962766477801578\n"
          ]
        }
      ],
      "source": [
        "from sklearn.metrics.pairwise import cosine_similarity\n",
        "# Cosine_similarity = measure of similarity between two non-zero vectors.\n",
        "# Used to measure similarity between two documents repr. as vectors of word frequencies or tf-idf weights\n",
        "# if angle small -> vectors in similar direction -> cosine_sim close to 1 -> high similarity\n",
        "# if angle close to 90 -> low similarity -> cosine_sim close to 0\n",
        "# if angle close to 180 -> coseine_sim close to -1 = high dissimilarity\n",
        "# NLP: find documents that are similar to given query document, or to cluster documents based on similarity\n",
        "\n",
        "##TODO compute the cosine similarity for the first 200 snippets and for the first snippet, show the three most similar snippets and their respective cosine similarity scores\n",
        "\n",
        "sim = cosine_similarity(vec_text)\n",
        "\n",
        "first_snipped = sim[0]\n",
        "\n",
        "# argsort() sorts in ascending order\n",
        "# gives back index order in order to sort sim\n",
        "# 1:4 to exclude the first element being the first snipped itself\n",
        "top_three_ind = first_snipped.argsort()[::-1][1:4]\n",
        "\n",
        "print('First snipped:', dfs.iloc[0]['preprocessed'])\n",
        "print()\n",
        "\n",
        "\n",
        "for i, index in enumerate(top_three_ind):\n",
        "    print('{}: {}, similarity score = {}'.format(i+1, dfs.iloc[index]['preprocessed'], first_snipped[index]))\n"
      ]
    },
    {
      "cell_type": "code",
      "execution_count": 40,
      "id": "MVg9wiT_ELq4",
      "metadata": {
        "id": "MVg9wiT_ELq4",
        "colab": {
          "base_uri": "https://localhost:8080/"
        },
        "outputId": "56fe3c56-e877-444d-d1af-46c14d7aa725"
      },
      "outputs": [
        {
          "output_type": "stream",
          "name": "stdout",
          "text": [
            "First snipped: US soldiers flock to laser eye clinic FORT CAMPBELL, Ky. -- Command Sergeant Major Kurt Pinero looked up from the operating table after laser eye surgery, and made out the pictures on the television screen across the room.\n",
            "\n",
            "1: US bishop sex abuse case dropped A child abuse case against a former US bishop is dropped, hours after he was charged., similarity score = 0.9532809859285225\n",
            "2: Man Utd unveils dip in profits Manchester United says player transfers and a weaker performance on the pitch cut its full-year profits by nearly a third., similarity score = 0.9477517626667403\n",
            "3: Rawlings Accuses Obasanjo of Interference Ghanaians went to the polls yesterday to elect a new President and members of Parliament with former President Jerry Rawlings accusing Nigerian President Olusegun Obasanjo of undue interference in the electoral process., similarity score = 0.9461678759759099\n"
          ]
        }
      ],
      "source": [
        "from sklearn.decomposition import PCA\n",
        "pca = PCA(n_components=3,svd_solver='randomized')\n",
        "\n",
        "##TODO reduce the vectorized data using PCA\n",
        "\n",
        "pca_vec_text = pca.fit_transform(vec_text.toarray())\n",
        "\n",
        "##TODO compute again cosine similarity with the reduced version for the first 200 snippets\n",
        "\n",
        "red_cos_sim = cosine_similarity(pca_vec_text)\n",
        "\n",
        "##TODO for the first snippet, show again its three most similar snippets\n",
        "\n",
        "first_snipped = red_cos_sim[0]\n",
        "top_three_ind = first_snipped.argsort()[::-1][1:4]\n",
        "\n",
        "print('First snipped:', dfs.iloc[0]['preprocessed'])\n",
        "print()\n",
        "\n",
        "\n",
        "for i, index in enumerate(top_three_ind):\n",
        "    print('{}: {}, similarity score = {}'.format(i+1, dfs.iloc[index]['preprocessed'], first_snipped[index]))\n"
      ]
    },
    {
      "cell_type": "markdown",
      "id": "UM-7eKCpELq5",
      "metadata": {
        "id": "UM-7eKCpELq5"
      },
      "source": [
        "Compare the cosine similarity before and after PCA reduction. Did the results change? "
      ]
    },
    {
      "cell_type": "markdown",
      "source": [
        "Yes, the results do differ. PCA reduces dimensionality of data and only preserves the most imporant relationshipds. When applying cos_sim again on the reduced space, some data may have been lost which leads to different results."
      ],
      "metadata": {
        "id": "8C02K1Y1KyBR"
      },
      "id": "8C02K1Y1KyBR"
    },
    {
      "cell_type": "markdown",
      "id": "G5XaeYINELq5",
      "metadata": {
        "id": "G5XaeYINELq5"
      },
      "source": [
        "## Clustering"
      ]
    },
    {
      "cell_type": "code",
      "execution_count": 41,
      "id": "YemXavPQELq5",
      "metadata": {
        "id": "YemXavPQELq5",
        "colab": {
          "base_uri": "https://localhost:8080/"
        },
        "outputId": "29f2c366-8468-428d-dcb0-652591225c88"
      },
      "outputs": [
        {
          "output_type": "stream",
          "name": "stdout",
          "text": [
            "Looking in indexes: https://pypi.org/simple, https://us-python.pkg.dev/colab-wheels/public/simple/\n",
            "Requirement already satisfied: scikit-learn-extra in /usr/local/lib/python3.9/dist-packages (0.2.0)\n",
            "Requirement already satisfied: numpy>=1.13.3 in /usr/local/lib/python3.9/dist-packages (from scikit-learn-extra) (1.22.4)\n",
            "Requirement already satisfied: scipy>=0.19.1 in /usr/local/lib/python3.9/dist-packages (from scikit-learn-extra) (1.10.1)\n",
            "Requirement already satisfied: scikit-learn>=0.23.0 in /usr/local/lib/python3.9/dist-packages (from scikit-learn-extra) (1.2.2)\n",
            "Requirement already satisfied: threadpoolctl>=2.0.0 in /usr/local/lib/python3.9/dist-packages (from scikit-learn>=0.23.0->scikit-learn-extra) (3.1.0)\n",
            "Requirement already satisfied: joblib>=1.1.1 in /usr/local/lib/python3.9/dist-packages (from scikit-learn>=0.23.0->scikit-learn-extra) (1.2.0)\n"
          ]
        },
        {
          "output_type": "stream",
          "name": "stderr",
          "text": [
            "/usr/local/lib/python3.9/dist-packages/sklearn/cluster/_kmeans.py:870: FutureWarning: The default value of `n_init` will change from 10 to 'auto' in 1.4. Set the value of `n_init` explicitly to suppress the warning\n",
            "  warnings.warn(\n"
          ]
        }
      ],
      "source": [
        "!pip install scikit-learn-extra\n",
        "from sklearn_extra.cluster import KMedoids\n",
        "from sklearn.cluster import KMeans\n",
        "from sklearn.metrics import silhouette_score\n",
        "\n",
        "##TODO create the clusters found with k-medoids clustering nd 5 clusters\n",
        "\n",
        "kmedoids = KMedoids(n_clusters=5, random_state=0)\n",
        "kmedoids.fit(pca_vec_text)\n",
        "\n",
        "dfs['kmedoids_cluster'] = kmedoids.labels_\n",
        "\n",
        "##TODO create the clusters found with k-means clustering nd 5 clusters\n",
        "\n",
        "kmeans = KMeans(n_clusters=5, random_state=0)\n",
        "kmeans.fit(pca_vec_text)\n",
        "\n",
        "dfs['kmeans_cluster'] = kmeans.labels_"
      ]
    },
    {
      "cell_type": "code",
      "source": [
        "dfs.head()"
      ],
      "metadata": {
        "colab": {
          "base_uri": "https://localhost:8080/",
          "height": 642
        },
        "id": "GcObGvztPcu-",
        "outputId": "c3d314b9-4e2b-4042-b342-680178a75e8e"
      },
      "id": "GcObGvztPcu-",
      "execution_count": 42,
      "outputs": [
        {
          "output_type": "execute_result",
          "data": {
            "text/plain": [
              "           label                                              title  \\\n",
              "39818      world              US soldiers flock to laser eye clinic   \n",
              "36169   sci/tech  Anti-Spyware Legislation Could Pass This Year ...   \n",
              "107410  business           Oil Drops Another 5 Pct to \\$43 a Barrel   \n",
              "36149      world                    British hostage pleads for life   \n",
              "95254   business                     Google Warns of Slowing Growth   \n",
              "\n",
              "                                                     lead  \\\n",
              "39818   FORT CAMPBELL, Ky. -- Command Sergeant Major K...   \n",
              "36169   washingtonpost.com - Measures to curb the use ...   \n",
              "107410   LONDON (Reuters) - Oil prices crumbled anothe...   \n",
              "36149   Facing a death threat from his Iraqi captors, ...   \n",
              "95254    quot;Although our revenue growth rate increas...   \n",
              "\n",
              "                                                     text  \\\n",
              "39818   US soldiers flock to laser eye clinic FORT CAM...   \n",
              "36169   Anti-Spyware Legislation Could Pass This Year ...   \n",
              "107410  Oil Drops Another 5 Pct to \\$43 a Barrel  LOND...   \n",
              "36149   British hostage pleads for life Facing a death...   \n",
              "95254   Google Warns of Slowing Growth  quot;Although ...   \n",
              "\n",
              "                                             preprocessed  kmedoids_cluster  \\\n",
              "39818   (US, soldiers, flock, to, laser, eye, clinic, ...                 1   \n",
              "36169   (Anti, -, Spyware, Legislation, Could, Pass, T...                 0   \n",
              "107410  (Oil, Drops, Another, 5, Pct, to, \\$43, a, Bar...                 3   \n",
              "36149   (British, hostage, pleads, for, life, Facing, ...                 1   \n",
              "95254   (Google, Warns, of, Slowing, Growth,  , quot;A...                 2   \n",
              "\n",
              "        kmeans_cluster  \n",
              "39818                0  \n",
              "36169                2  \n",
              "107410               3  \n",
              "36149                0  \n",
              "95254                2  "
            ],
            "text/html": [
              "\n",
              "  <div id=\"df-002b85d0-adbe-42dd-abf2-24efb574fb9d\">\n",
              "    <div class=\"colab-df-container\">\n",
              "      <div>\n",
              "<style scoped>\n",
              "    .dataframe tbody tr th:only-of-type {\n",
              "        vertical-align: middle;\n",
              "    }\n",
              "\n",
              "    .dataframe tbody tr th {\n",
              "        vertical-align: top;\n",
              "    }\n",
              "\n",
              "    .dataframe thead th {\n",
              "        text-align: right;\n",
              "    }\n",
              "</style>\n",
              "<table border=\"1\" class=\"dataframe\">\n",
              "  <thead>\n",
              "    <tr style=\"text-align: right;\">\n",
              "      <th></th>\n",
              "      <th>label</th>\n",
              "      <th>title</th>\n",
              "      <th>lead</th>\n",
              "      <th>text</th>\n",
              "      <th>preprocessed</th>\n",
              "      <th>kmedoids_cluster</th>\n",
              "      <th>kmeans_cluster</th>\n",
              "    </tr>\n",
              "  </thead>\n",
              "  <tbody>\n",
              "    <tr>\n",
              "      <th>39818</th>\n",
              "      <td>world</td>\n",
              "      <td>US soldiers flock to laser eye clinic</td>\n",
              "      <td>FORT CAMPBELL, Ky. -- Command Sergeant Major K...</td>\n",
              "      <td>US soldiers flock to laser eye clinic FORT CAM...</td>\n",
              "      <td>(US, soldiers, flock, to, laser, eye, clinic, ...</td>\n",
              "      <td>1</td>\n",
              "      <td>0</td>\n",
              "    </tr>\n",
              "    <tr>\n",
              "      <th>36169</th>\n",
              "      <td>sci/tech</td>\n",
              "      <td>Anti-Spyware Legislation Could Pass This Year ...</td>\n",
              "      <td>washingtonpost.com - Measures to curb the use ...</td>\n",
              "      <td>Anti-Spyware Legislation Could Pass This Year ...</td>\n",
              "      <td>(Anti, -, Spyware, Legislation, Could, Pass, T...</td>\n",
              "      <td>0</td>\n",
              "      <td>2</td>\n",
              "    </tr>\n",
              "    <tr>\n",
              "      <th>107410</th>\n",
              "      <td>business</td>\n",
              "      <td>Oil Drops Another 5 Pct to \\$43 a Barrel</td>\n",
              "      <td>LONDON (Reuters) - Oil prices crumbled anothe...</td>\n",
              "      <td>Oil Drops Another 5 Pct to \\$43 a Barrel  LOND...</td>\n",
              "      <td>(Oil, Drops, Another, 5, Pct, to, \\$43, a, Bar...</td>\n",
              "      <td>3</td>\n",
              "      <td>3</td>\n",
              "    </tr>\n",
              "    <tr>\n",
              "      <th>36149</th>\n",
              "      <td>world</td>\n",
              "      <td>British hostage pleads for life</td>\n",
              "      <td>Facing a death threat from his Iraqi captors, ...</td>\n",
              "      <td>British hostage pleads for life Facing a death...</td>\n",
              "      <td>(British, hostage, pleads, for, life, Facing, ...</td>\n",
              "      <td>1</td>\n",
              "      <td>0</td>\n",
              "    </tr>\n",
              "    <tr>\n",
              "      <th>95254</th>\n",
              "      <td>business</td>\n",
              "      <td>Google Warns of Slowing Growth</td>\n",
              "      <td>quot;Although our revenue growth rate increas...</td>\n",
              "      <td>Google Warns of Slowing Growth  quot;Although ...</td>\n",
              "      <td>(Google, Warns, of, Slowing, Growth,  , quot;A...</td>\n",
              "      <td>2</td>\n",
              "      <td>2</td>\n",
              "    </tr>\n",
              "  </tbody>\n",
              "</table>\n",
              "</div>\n",
              "      <button class=\"colab-df-convert\" onclick=\"convertToInteractive('df-002b85d0-adbe-42dd-abf2-24efb574fb9d')\"\n",
              "              title=\"Convert this dataframe to an interactive table.\"\n",
              "              style=\"display:none;\">\n",
              "        \n",
              "  <svg xmlns=\"http://www.w3.org/2000/svg\" height=\"24px\"viewBox=\"0 0 24 24\"\n",
              "       width=\"24px\">\n",
              "    <path d=\"M0 0h24v24H0V0z\" fill=\"none\"/>\n",
              "    <path d=\"M18.56 5.44l.94 2.06.94-2.06 2.06-.94-2.06-.94-.94-2.06-.94 2.06-2.06.94zm-11 1L8.5 8.5l.94-2.06 2.06-.94-2.06-.94L8.5 2.5l-.94 2.06-2.06.94zm10 10l.94 2.06.94-2.06 2.06-.94-2.06-.94-.94-2.06-.94 2.06-2.06.94z\"/><path d=\"M17.41 7.96l-1.37-1.37c-.4-.4-.92-.59-1.43-.59-.52 0-1.04.2-1.43.59L10.3 9.45l-7.72 7.72c-.78.78-.78 2.05 0 2.83L4 21.41c.39.39.9.59 1.41.59.51 0 1.02-.2 1.41-.59l7.78-7.78 2.81-2.81c.8-.78.8-2.07 0-2.86zM5.41 20L4 18.59l7.72-7.72 1.47 1.35L5.41 20z\"/>\n",
              "  </svg>\n",
              "      </button>\n",
              "      \n",
              "  <style>\n",
              "    .colab-df-container {\n",
              "      display:flex;\n",
              "      flex-wrap:wrap;\n",
              "      gap: 12px;\n",
              "    }\n",
              "\n",
              "    .colab-df-convert {\n",
              "      background-color: #E8F0FE;\n",
              "      border: none;\n",
              "      border-radius: 50%;\n",
              "      cursor: pointer;\n",
              "      display: none;\n",
              "      fill: #1967D2;\n",
              "      height: 32px;\n",
              "      padding: 0 0 0 0;\n",
              "      width: 32px;\n",
              "    }\n",
              "\n",
              "    .colab-df-convert:hover {\n",
              "      background-color: #E2EBFA;\n",
              "      box-shadow: 0px 1px 2px rgba(60, 64, 67, 0.3), 0px 1px 3px 1px rgba(60, 64, 67, 0.15);\n",
              "      fill: #174EA6;\n",
              "    }\n",
              "\n",
              "    [theme=dark] .colab-df-convert {\n",
              "      background-color: #3B4455;\n",
              "      fill: #D2E3FC;\n",
              "    }\n",
              "\n",
              "    [theme=dark] .colab-df-convert:hover {\n",
              "      background-color: #434B5C;\n",
              "      box-shadow: 0px 1px 3px 1px rgba(0, 0, 0, 0.15);\n",
              "      filter: drop-shadow(0px 1px 2px rgba(0, 0, 0, 0.3));\n",
              "      fill: #FFFFFF;\n",
              "    }\n",
              "  </style>\n",
              "\n",
              "      <script>\n",
              "        const buttonEl =\n",
              "          document.querySelector('#df-002b85d0-adbe-42dd-abf2-24efb574fb9d button.colab-df-convert');\n",
              "        buttonEl.style.display =\n",
              "          google.colab.kernel.accessAllowed ? 'block' : 'none';\n",
              "\n",
              "        async function convertToInteractive(key) {\n",
              "          const element = document.querySelector('#df-002b85d0-adbe-42dd-abf2-24efb574fb9d');\n",
              "          const dataTable =\n",
              "            await google.colab.kernel.invokeFunction('convertToInteractive',\n",
              "                                                     [key], {});\n",
              "          if (!dataTable) return;\n",
              "\n",
              "          const docLinkHtml = 'Like what you see? Visit the ' +\n",
              "            '<a target=\"_blank\" href=https://colab.research.google.com/notebooks/data_table.ipynb>data table notebook</a>'\n",
              "            + ' to learn more about interactive tables.';\n",
              "          element.innerHTML = '';\n",
              "          dataTable['output_type'] = 'display_data';\n",
              "          await google.colab.output.renderOutput(dataTable, element);\n",
              "          const docLink = document.createElement('div');\n",
              "          docLink.innerHTML = docLinkHtml;\n",
              "          element.appendChild(docLink);\n",
              "        }\n",
              "      </script>\n",
              "    </div>\n",
              "  </div>\n",
              "  "
            ]
          },
          "metadata": {},
          "execution_count": 42
        }
      ]
    },
    {
      "cell_type": "code",
      "execution_count": 43,
      "id": "ZQ4Y98yKELq5",
      "metadata": {
        "id": "ZQ4Y98yKELq5",
        "colab": {
          "base_uri": "https://localhost:8080/",
          "height": 947
        },
        "outputId": "ace1f60c-00f9-4873-d5ae-1a938e9ee61a"
      },
      "outputs": [
        {
          "output_type": "stream",
          "name": "stderr",
          "text": [
            "/usr/local/lib/python3.9/dist-packages/sklearn/manifold/_isomap.py:373: UserWarning: The number of connected components of the neighbors graph is 2 > 1. Completing the graph to fit Isomap might be slow. Increase the number of neighbors to avoid this issue.\n",
            "  self._fit_transform(X)\n",
            "/usr/local/lib/python3.9/dist-packages/scipy/sparse/_index.py:103: SparseEfficiencyWarning: Changing the sparsity structure of a csr_matrix is expensive. lil_matrix is more efficient.\n",
            "  self._set_intXint(row, col, x.flat[0])\n",
            "<ipython-input-43-e85542ca9536>:11: MatplotlibDeprecationWarning: Axes3D(fig) adding itself to the figure is deprecated since 3.4. Pass the keyword argument auto_add_to_figure=False and use fig.add_axes(ax) to suppress this warning. The default value of auto_add_to_figure will change to False in mpl3.5 and True values will no longer work in 3.6.  This is consistent with other Axes classes.\n",
            "  Axes3D(plt.figure()).scatter(iso_vec_text[:,0],iso_vec_text[:,1], alpha=.3)\n"
          ]
        },
        {
          "output_type": "display_data",
          "data": {
            "text/plain": [
              "<Figure size 720x576 with 0 Axes>"
            ]
          },
          "metadata": {}
        },
        {
          "output_type": "display_data",
          "data": {
            "text/plain": [
              "<Figure size 432x288 with 1 Axes>"
            ],
            "image/png": "[encoded data removed]"
          },
          "metadata": {
            "needs_background": "light"
          }
        },
        {
          "output_type": "display_data",
          "data": {
            "text/plain": [
              "<Figure size 720x576 with 1 Axes>"
            ],
            "image/png": "[encoded data removed]"
          },
          "metadata": {
            "needs_background": "light"
          }
        }
      ],
      "source": [
        "##TODO visualize the k-medoids clustering results through Isomap (first reduce the dimensionality to 2 using Isomap, then use scatter plot (plt.scatter()) to visualize)\n",
        "\n",
        "from sklearn.manifold import Isomap\n",
        "import matplotlib.pyplot as plt\n",
        "from mpl_toolkits.mplot3d import Axes3D\n",
        "\n",
        "iso = Isomap(n_components=2)\n",
        "iso_vec_text = iso.fit_transform(pca_vec_text)\n",
        "\n",
        "plt.figure(figsize=(10,8))\n",
        "Axes3D(plt.figure()).scatter(iso_vec_text[:,0],iso_vec_text[:,1], alpha=.3)\n",
        "\n",
        "# Scatter plot of k-medoids clusters using Isomap\n",
        "plt.figure(figsize=(10,8))\n",
        "plt.scatter(iso_vec_text[:,0],iso_vec_text[:,1], c=dfs['kmedoids_cluster'], cmap='Set1')\n",
        "plt.title('K-Medoids Clustering with Isomap (n_clusters=5)', fontsize=14)\n",
        "plt.show()"
      ]
    },
    {
      "cell_type": "code",
      "execution_count": 44,
      "id": "mT0YQfX-z1YL",
      "metadata": {
        "id": "mT0YQfX-z1YL",
        "colab": {
          "base_uri": "https://localhost:8080/",
          "height": 947
        },
        "outputId": "7577e85c-bd94-4745-97c6-8f5c7a6823a7"
      },
      "outputs": [
        {
          "output_type": "stream",
          "name": "stderr",
          "text": [
            "/usr/local/lib/python3.9/dist-packages/sklearn/manifold/_isomap.py:373: UserWarning: The number of connected components of the neighbors graph is 2 > 1. Completing the graph to fit Isomap might be slow. Increase the number of neighbors to avoid this issue.\n",
            "  self._fit_transform(X)\n",
            "/usr/local/lib/python3.9/dist-packages/scipy/sparse/_index.py:103: SparseEfficiencyWarning: Changing the sparsity structure of a csr_matrix is expensive. lil_matrix is more efficient.\n",
            "  self._set_intXint(row, col, x.flat[0])\n",
            "<ipython-input-44-fab2099f4395>:7: MatplotlibDeprecationWarning: Axes3D(fig) adding itself to the figure is deprecated since 3.4. Pass the keyword argument auto_add_to_figure=False and use fig.add_axes(ax) to suppress this warning. The default value of auto_add_to_figure will change to False in mpl3.5 and True values will no longer work in 3.6.  This is consistent with other Axes classes.\n",
            "  Axes3D(plt.figure()).scatter(iso_vec_text[:,0],iso_vec_text[:,1], alpha=.3)\n"
          ]
        },
        {
          "output_type": "display_data",
          "data": {
            "text/plain": [
              "<Figure size 720x576 with 0 Axes>"
            ]
          },
          "metadata": {}
        },
        {
          "output_type": "display_data",
          "data": {
            "text/plain": [
              "<Figure size 432x288 with 1 Axes>"
            ],
            "image/png": "[encoded data removed]"
          },
          "metadata": {
            "needs_background": "light"
          }
        },
        {
          "output_type": "display_data",
          "data": {
            "text/plain": [
              "<Figure size 720x576 with 1 Axes>"
            ],
            "image/png": "[encoded data removed]"
          },
          "metadata": {
            "needs_background": "light"
          }
        }
      ],
      "source": [
        "##TODO similarly, visualize the k-means results\n",
        "\n",
        "iso = Isomap(n_components=2)\n",
        "iso_vec_text = iso.fit_transform(pca_vec_text)\n",
        "\n",
        "plt.figure(figsize=(10,8))\n",
        "Axes3D(plt.figure()).scatter(iso_vec_text[:,0],iso_vec_text[:,1], alpha=.3)\n",
        "\n",
        "# Scatter plot of k-medoids clusters using Isomap\n",
        "plt.figure(figsize=(10,8))\n",
        "plt.scatter(iso_vec_text[:,0],iso_vec_text[:,1], c=dfs['kmeans_cluster'], cmap='Set1')\n",
        "plt.title('K-Means Clustering with Isomap (n_clusters=5)', fontsize=14)\n",
        "plt.show()"
      ]
    },
    {
      "cell_type": "markdown",
      "id": "Q6ioDcP-ELq5",
      "metadata": {
        "id": "Q6ioDcP-ELq5"
      },
      "source": [
        "## Topic Modeling: LDA"
      ]
    },
    {
      "cell_type": "markdown",
      "id": "ev37xRqwELq5",
      "metadata": {
        "id": "ev37xRqwELq5"
      },
      "source": [
        "For this part you will need to use LDA Mallet. If you cannot have Mallet run, you can use the simple LDA algorithm "
      ]
    },
    {
      "cell_type": "code",
      "execution_count": 45,
      "id": "kjLuOgsHELq5",
      "metadata": {
        "id": "kjLuOgsHELq5",
        "colab": {
          "base_uri": "https://localhost:8080/"
        },
        "outputId": "6157d552-e6b3-4b5f-8cde-fc5c94062764"
      },
      "outputs": [
        {
          "output_type": "stream",
          "name": "stderr",
          "text": [
            "100%|██████████| 200/200 [00:03<00:00, 65.24it/s]\n"
          ]
        }
      ],
      "source": [
        "from gensim.corpora import Dictionary\n",
        "from gensim.models.wrappers import LdaMallet\n",
        "from gensim.models.coherencemodel import CoherenceModel\n",
        "from tqdm import tqdm\n",
        "from random import shuffle\n",
        "\n",
        "##TODO create a dictionary with the pre-processed tokenized text and filter it according to frequencies and keeping 1000 vocabularies\n",
        "\n",
        "def tokenize(x, nlp):\n",
        "    # lemmatize and lowercase without stopwords, punctuation and numbers\n",
        "    return [w.lemma_.lower() for w in nlp(x) if not w.is_stop and not w.is_punct and not w.is_digit and len(w) > 2]\n",
        "\n",
        "doc_clean = []\n",
        "\n",
        "for doc in tqdm(dfs['text']):\n",
        "    for paragraph in doc.split(\"\\n\\n\"):\n",
        "        doc_clean.append(tokenize(paragraph, nlp))\n",
        "\n",
        "shuffle(doc_clean)\n",
        "\n",
        "dictionary = Dictionary(doc_clean)\n",
        "dictionary.filter_extremes(no_below=10, no_above=0.33, keep_n=1000)\n",
        "\n",
        "##TODO create the doc_term_matrix\n",
        "\n",
        "doc_term_matrix = [dictionary.doc2bow(doc) for doc in doc_clean]"
      ]
    },
    {
      "cell_type": "code",
      "execution_count": 46,
      "id": "m62iX2rh1zyp",
      "metadata": {
        "id": "m62iX2rh1zyp"
      },
      "outputs": [],
      "source": [
        "# !wget http://mallet.cs.umass.edu/dist/mallet-2.0.8.zip\n",
        "# !unzip mallet-2.0.8.zip"
      ]
    },
    {
      "cell_type": "code",
      "execution_count": 73,
      "id": "jZsmeNyvELq5",
      "metadata": {
        "id": "jZsmeNyvELq5",
        "colab": {
          "base_uri": "https://localhost:8080/"
        },
        "outputId": "a52d2728-8e96-4c16-ded8-45eecca3a2ba"
      },
      "outputs": [
        {
          "output_type": "stream",
          "name": "stderr",
          "text": [
            "/usr/local/lib/python3.9/dist-packages/smart_open/smart_open_lib.py:496: DeprecationWarning: This function is deprecated.  See https://github.com/RaRe-Technologies/smart_open/blob/develop/MIGRATING_FROM_OLDER_VERSIONS.rst for more information\n",
            "  warnings.warn(message, category=DeprecationWarning)\n",
            "/usr/local/lib/python3.9/dist-packages/smart_open/smart_open_lib.py:496: DeprecationWarning: This function is deprecated.  See https://github.com/RaRe-Technologies/smart_open/blob/develop/MIGRATING_FROM_OLDER_VERSIONS.rst for more information\n",
            "  warnings.warn(message, category=DeprecationWarning)\n",
            "/usr/local/lib/python3.9/dist-packages/smart_open/smart_open_lib.py:496: DeprecationWarning: This function is deprecated.  See https://github.com/RaRe-Technologies/smart_open/blob/develop/MIGRATING_FROM_OLDER_VERSIONS.rst for more information\n",
            "  warnings.warn(message, category=DeprecationWarning)\n",
            "/usr/local/lib/python3.9/dist-packages/smart_open/smart_open_lib.py:496: DeprecationWarning: This function is deprecated.  See https://github.com/RaRe-Technologies/smart_open/blob/develop/MIGRATING_FROM_OLDER_VERSIONS.rst for more information\n",
            "  warnings.warn(message, category=DeprecationWarning)\n",
            "/usr/local/lib/python3.9/dist-packages/smart_open/smart_open_lib.py:496: DeprecationWarning: This function is deprecated.  See https://github.com/RaRe-Technologies/smart_open/blob/develop/MIGRATING_FROM_OLDER_VERSIONS.rst for more information\n",
            "  warnings.warn(message, category=DeprecationWarning)\n",
            "/usr/local/lib/python3.9/dist-packages/smart_open/smart_open_lib.py:496: DeprecationWarning: This function is deprecated.  See https://github.com/RaRe-Technologies/smart_open/blob/develop/MIGRATING_FROM_OLDER_VERSIONS.rst for more information\n",
            "  warnings.warn(message, category=DeprecationWarning)\n"
          ]
        },
        {
          "output_type": "stream",
          "name": "stdout",
          "text": [
            "['friday', 'york', 'high', 'lead']\n"
          ]
        }
      ],
      "source": [
        "##TODO train a LDA Mallet model with 5, 10 and 15 topics\n",
        "mallet_path = '/content/mallet-2.0.8/bin/mallet'\n",
        "\n",
        "ldamallet_5 = LdaMallet(mallet_path, corpus=doc_term_matrix, num_topics=5, id2word=dictionary)\n",
        "ldamallet_10 = LdaMallet(mallet_path, corpus=doc_term_matrix, num_topics=10, id2word=dictionary)\n",
        "ldamallet_15 = LdaMallet(mallet_path, corpus=doc_term_matrix, num_topics=15, id2word=dictionary)\n",
        "\n",
        "models = [ldamallet_5, ldamallet_10, ldamallet_15]\n",
        "\n",
        "##TODO compute the coherence score for each of these model and print the topics from the model with highest coherence score. Then find the opitimal number of topics using the coherence score.\n",
        "\n",
        "scores = []\n",
        "all_topics = []\n",
        "\n",
        "for model in models:\n",
        "    coherence = CoherenceModel(model = model, texts = doc_clean, dictionary=dictionary, coherence = 'c_v')\n",
        "    topics = model.show_topics(num_topics=1, num_words=10, formatted=False)[0][1]\n",
        "    topics = [word for word, coherence in topics if coherence > 0.0]\n",
        "    all_topics.append(topics)\n",
        "    scores.append(coherence.get_coherence())\n",
        "\n",
        "print(all_topics[scores.index(max(scores))])"
      ]
    },
    {
      "cell_type": "code",
      "source": [
        "print(scores)"
      ],
      "metadata": {
        "colab": {
          "base_uri": "https://localhost:8080/"
        },
        "id": "MvjgvOiWt0D_",
        "outputId": "f3ae5693-dfa4-4ecf-9833-ceeb0a118954"
      },
      "id": "MvjgvOiWt0D_",
      "execution_count": 51,
      "outputs": [
        {
          "output_type": "stream",
          "name": "stdout",
          "text": [
            "[0.46533876357206577, 0.4558899750412255, 0.4538109273980511]\n"
          ]
        }
      ]
    },
    {
      "cell_type": "code",
      "source": [
        "opt_score = []\n",
        "for num_topics in range(2, 20):\n",
        "    lda = LdaMallet(mallet_path, doc_term_matrix, num_topics=num_topics, id2word=dictionary)\n",
        "    coherence = CoherenceModel(model=lda, texts=doc_clean, corpus=doc_term_matrix, dictionary=dictionary, coherence='c_v')\n",
        "    opt_score.append((num_topics, coherence.get_coherence()))\n",
        "\n",
        "print(opt_score)"
      ],
      "metadata": {
        "colab": {
          "base_uri": "https://localhost:8080/"
        },
        "id": "s5wIh16l0olH",
        "outputId": "341dde67-060a-46f9-871f-702193bc443e"
      },
      "id": "s5wIh16l0olH",
      "execution_count": 53,
      "outputs": [
        {
          "output_type": "stream",
          "name": "stderr",
          "text": [
            "/usr/local/lib/python3.9/dist-packages/smart_open/smart_open_lib.py:496: DeprecationWarning: This function is deprecated.  See https://github.com/RaRe-Technologies/smart_open/blob/develop/MIGRATING_FROM_OLDER_VERSIONS.rst for more information\n",
            "  warnings.warn(message, category=DeprecationWarning)\n",
            "/usr/local/lib/python3.9/dist-packages/smart_open/smart_open_lib.py:496: DeprecationWarning: This function is deprecated.  See https://github.com/RaRe-Technologies/smart_open/blob/develop/MIGRATING_FROM_OLDER_VERSIONS.rst for more information\n",
            "  warnings.warn(message, category=DeprecationWarning)\n",
            "/usr/local/lib/python3.9/dist-packages/smart_open/smart_open_lib.py:496: DeprecationWarning: This function is deprecated.  See https://github.com/RaRe-Technologies/smart_open/blob/develop/MIGRATING_FROM_OLDER_VERSIONS.rst for more information\n",
            "  warnings.warn(message, category=DeprecationWarning)\n",
            "/usr/local/lib/python3.9/dist-packages/smart_open/smart_open_lib.py:496: DeprecationWarning: This function is deprecated.  See https://github.com/RaRe-Technologies/smart_open/blob/develop/MIGRATING_FROM_OLDER_VERSIONS.rst for more information\n",
            "  warnings.warn(message, category=DeprecationWarning)\n",
            "/usr/local/lib/python3.9/dist-packages/smart_open/smart_open_lib.py:496: DeprecationWarning: This function is deprecated.  See https://github.com/RaRe-Technologies/smart_open/blob/develop/MIGRATING_FROM_OLDER_VERSIONS.rst for more information\n",
            "  warnings.warn(message, category=DeprecationWarning)\n",
            "/usr/local/lib/python3.9/dist-packages/smart_open/smart_open_lib.py:496: DeprecationWarning: This function is deprecated.  See https://github.com/RaRe-Technologies/smart_open/blob/develop/MIGRATING_FROM_OLDER_VERSIONS.rst for more information\n",
            "  warnings.warn(message, category=DeprecationWarning)\n",
            "/usr/local/lib/python3.9/dist-packages/smart_open/smart_open_lib.py:496: DeprecationWarning: This function is deprecated.  See https://github.com/RaRe-Technologies/smart_open/blob/develop/MIGRATING_FROM_OLDER_VERSIONS.rst for more information\n",
            "  warnings.warn(message, category=DeprecationWarning)\n",
            "/usr/local/lib/python3.9/dist-packages/smart_open/smart_open_lib.py:496: DeprecationWarning: This function is deprecated.  See https://github.com/RaRe-Technologies/smart_open/blob/develop/MIGRATING_FROM_OLDER_VERSIONS.rst for more information\n",
            "  warnings.warn(message, category=DeprecationWarning)\n",
            "/usr/local/lib/python3.9/dist-packages/smart_open/smart_open_lib.py:496: DeprecationWarning: This function is deprecated.  See https://github.com/RaRe-Technologies/smart_open/blob/develop/MIGRATING_FROM_OLDER_VERSIONS.rst for more information\n",
            "  warnings.warn(message, category=DeprecationWarning)\n",
            "/usr/local/lib/python3.9/dist-packages/smart_open/smart_open_lib.py:496: DeprecationWarning: This function is deprecated.  See https://github.com/RaRe-Technologies/smart_open/blob/develop/MIGRATING_FROM_OLDER_VERSIONS.rst for more information\n",
            "  warnings.warn(message, category=DeprecationWarning)\n",
            "/usr/local/lib/python3.9/dist-packages/smart_open/smart_open_lib.py:496: DeprecationWarning: This function is deprecated.  See https://github.com/RaRe-Technologies/smart_open/blob/develop/MIGRATING_FROM_OLDER_VERSIONS.rst for more information\n",
            "  warnings.warn(message, category=DeprecationWarning)\n",
            "/usr/local/lib/python3.9/dist-packages/smart_open/smart_open_lib.py:496: DeprecationWarning: This function is deprecated.  See https://github.com/RaRe-Technologies/smart_open/blob/develop/MIGRATING_FROM_OLDER_VERSIONS.rst for more information\n",
            "  warnings.warn(message, category=DeprecationWarning)\n",
            "/usr/local/lib/python3.9/dist-packages/smart_open/smart_open_lib.py:496: DeprecationWarning: This function is deprecated.  See https://github.com/RaRe-Technologies/smart_open/blob/develop/MIGRATING_FROM_OLDER_VERSIONS.rst for more information\n",
            "  warnings.warn(message, category=DeprecationWarning)\n",
            "/usr/local/lib/python3.9/dist-packages/smart_open/smart_open_lib.py:496: DeprecationWarning: This function is deprecated.  See https://github.com/RaRe-Technologies/smart_open/blob/develop/MIGRATING_FROM_OLDER_VERSIONS.rst for more information\n",
            "  warnings.warn(message, category=DeprecationWarning)\n",
            "/usr/local/lib/python3.9/dist-packages/smart_open/smart_open_lib.py:496: DeprecationWarning: This function is deprecated.  See https://github.com/RaRe-Technologies/smart_open/blob/develop/MIGRATING_FROM_OLDER_VERSIONS.rst for more information\n",
            "  warnings.warn(message, category=DeprecationWarning)\n",
            "/usr/local/lib/python3.9/dist-packages/smart_open/smart_open_lib.py:496: DeprecationWarning: This function is deprecated.  See https://github.com/RaRe-Technologies/smart_open/blob/develop/MIGRATING_FROM_OLDER_VERSIONS.rst for more information\n",
            "  warnings.warn(message, category=DeprecationWarning)\n",
            "/usr/local/lib/python3.9/dist-packages/smart_open/smart_open_lib.py:496: DeprecationWarning: This function is deprecated.  See https://github.com/RaRe-Technologies/smart_open/blob/develop/MIGRATING_FROM_OLDER_VERSIONS.rst for more information\n",
            "  warnings.warn(message, category=DeprecationWarning)\n",
            "/usr/local/lib/python3.9/dist-packages/smart_open/smart_open_lib.py:496: DeprecationWarning: This function is deprecated.  See https://github.com/RaRe-Technologies/smart_open/blob/develop/MIGRATING_FROM_OLDER_VERSIONS.rst for more information\n",
            "  warnings.warn(message, category=DeprecationWarning)\n",
            "/usr/local/lib/python3.9/dist-packages/smart_open/smart_open_lib.py:496: DeprecationWarning: This function is deprecated.  See https://github.com/RaRe-Technologies/smart_open/blob/develop/MIGRATING_FROM_OLDER_VERSIONS.rst for more information\n",
            "  warnings.warn(message, category=DeprecationWarning)\n",
            "/usr/local/lib/python3.9/dist-packages/smart_open/smart_open_lib.py:496: DeprecationWarning: This function is deprecated.  See https://github.com/RaRe-Technologies/smart_open/blob/develop/MIGRATING_FROM_OLDER_VERSIONS.rst for more information\n",
            "  warnings.warn(message, category=DeprecationWarning)\n",
            "/usr/local/lib/python3.9/dist-packages/smart_open/smart_open_lib.py:496: DeprecationWarning: This function is deprecated.  See https://github.com/RaRe-Technologies/smart_open/blob/develop/MIGRATING_FROM_OLDER_VERSIONS.rst for more information\n",
            "  warnings.warn(message, category=DeprecationWarning)\n",
            "/usr/local/lib/python3.9/dist-packages/smart_open/smart_open_lib.py:496: DeprecationWarning: This function is deprecated.  See https://github.com/RaRe-Technologies/smart_open/blob/develop/MIGRATING_FROM_OLDER_VERSIONS.rst for more information\n",
            "  warnings.warn(message, category=DeprecationWarning)\n",
            "/usr/local/lib/python3.9/dist-packages/smart_open/smart_open_lib.py:496: DeprecationWarning: This function is deprecated.  See https://github.com/RaRe-Technologies/smart_open/blob/develop/MIGRATING_FROM_OLDER_VERSIONS.rst for more information\n",
            "  warnings.warn(message, category=DeprecationWarning)\n",
            "/usr/local/lib/python3.9/dist-packages/smart_open/smart_open_lib.py:496: DeprecationWarning: This function is deprecated.  See https://github.com/RaRe-Technologies/smart_open/blob/develop/MIGRATING_FROM_OLDER_VERSIONS.rst for more information\n",
            "  warnings.warn(message, category=DeprecationWarning)\n",
            "/usr/local/lib/python3.9/dist-packages/smart_open/smart_open_lib.py:496: DeprecationWarning: This function is deprecated.  See https://github.com/RaRe-Technologies/smart_open/blob/develop/MIGRATING_FROM_OLDER_VERSIONS.rst for more information\n",
            "  warnings.warn(message, category=DeprecationWarning)\n",
            "/usr/local/lib/python3.9/dist-packages/smart_open/smart_open_lib.py:496: DeprecationWarning: This function is deprecated.  See https://github.com/RaRe-Technologies/smart_open/blob/develop/MIGRATING_FROM_OLDER_VERSIONS.rst for more information\n",
            "  warnings.warn(message, category=DeprecationWarning)\n",
            "/usr/local/lib/python3.9/dist-packages/smart_open/smart_open_lib.py:496: DeprecationWarning: This function is deprecated.  See https://github.com/RaRe-Technologies/smart_open/blob/develop/MIGRATING_FROM_OLDER_VERSIONS.rst for more information\n",
            "  warnings.warn(message, category=DeprecationWarning)\n",
            "/usr/local/lib/python3.9/dist-packages/smart_open/smart_open_lib.py:496: DeprecationWarning: This function is deprecated.  See https://github.com/RaRe-Technologies/smart_open/blob/develop/MIGRATING_FROM_OLDER_VERSIONS.rst for more information\n",
            "  warnings.warn(message, category=DeprecationWarning)\n",
            "/usr/local/lib/python3.9/dist-packages/smart_open/smart_open_lib.py:496: DeprecationWarning: This function is deprecated.  See https://github.com/RaRe-Technologies/smart_open/blob/develop/MIGRATING_FROM_OLDER_VERSIONS.rst for more information\n",
            "  warnings.warn(message, category=DeprecationWarning)\n",
            "/usr/local/lib/python3.9/dist-packages/smart_open/smart_open_lib.py:496: DeprecationWarning: This function is deprecated.  See https://github.com/RaRe-Technologies/smart_open/blob/develop/MIGRATING_FROM_OLDER_VERSIONS.rst for more information\n",
            "  warnings.warn(message, category=DeprecationWarning)\n",
            "/usr/local/lib/python3.9/dist-packages/smart_open/smart_open_lib.py:496: DeprecationWarning: This function is deprecated.  See https://github.com/RaRe-Technologies/smart_open/blob/develop/MIGRATING_FROM_OLDER_VERSIONS.rst for more information\n",
            "  warnings.warn(message, category=DeprecationWarning)\n",
            "/usr/local/lib/python3.9/dist-packages/smart_open/smart_open_lib.py:496: DeprecationWarning: This function is deprecated.  See https://github.com/RaRe-Technologies/smart_open/blob/develop/MIGRATING_FROM_OLDER_VERSIONS.rst for more information\n",
            "  warnings.warn(message, category=DeprecationWarning)\n",
            "/usr/local/lib/python3.9/dist-packages/smart_open/smart_open_lib.py:496: DeprecationWarning: This function is deprecated.  See https://github.com/RaRe-Technologies/smart_open/blob/develop/MIGRATING_FROM_OLDER_VERSIONS.rst for more information\n",
            "  warnings.warn(message, category=DeprecationWarning)\n",
            "/usr/local/lib/python3.9/dist-packages/smart_open/smart_open_lib.py:496: DeprecationWarning: This function is deprecated.  See https://github.com/RaRe-Technologies/smart_open/blob/develop/MIGRATING_FROM_OLDER_VERSIONS.rst for more information\n",
            "  warnings.warn(message, category=DeprecationWarning)\n",
            "/usr/local/lib/python3.9/dist-packages/smart_open/smart_open_lib.py:496: DeprecationWarning: This function is deprecated.  See https://github.com/RaRe-Technologies/smart_open/blob/develop/MIGRATING_FROM_OLDER_VERSIONS.rst for more information\n",
            "  warnings.warn(message, category=DeprecationWarning)\n",
            "/usr/local/lib/python3.9/dist-packages/smart_open/smart_open_lib.py:496: DeprecationWarning: This function is deprecated.  See https://github.com/RaRe-Technologies/smart_open/blob/develop/MIGRATING_FROM_OLDER_VERSIONS.rst for more information\n",
            "  warnings.warn(message, category=DeprecationWarning)\n"
          ]
        },
        {
          "output_type": "stream",
          "name": "stdout",
          "text": [
            "[(2, 0.42490286380932624), (3, 0.43957131102874974), (4, 0.46384959776361845), (5, 0.45023716442201095), (6, 0.4644132168933623), (7, 0.45332698026969626), (8, 0.46472474369748934), (9, 0.445066120380914), (10, 0.45447135324897375), (11, 0.45270111804154944), (12, 0.4538983968576907), (13, 0.4561728373512422), (14, 0.4494866426333184), (15, 0.45135530661328993), (16, 0.45106684561888005), (17, 0.45204785149407284), (18, 0.4552637011731319), (19, 0.4534048303442832)]\n"
          ]
        }
      ]
    },
    {
      "cell_type": "code",
      "source": [
        "print(opt_score)\n",
        "\n",
        "scores = [coherence for num_topics, coherence in opt_score]\n",
        "opt_topics = opt_score[scores.index(max(scores))][0]\n",
        "print(opt_topics)"
      ],
      "metadata": {
        "colab": {
          "base_uri": "https://localhost:8080/"
        },
        "id": "lRvzFQ341TJN",
        "outputId": "fbaad545-0524-477f-9486-26713a2f6c44"
      },
      "id": "lRvzFQ341TJN",
      "execution_count": 54,
      "outputs": [
        {
          "output_type": "stream",
          "name": "stdout",
          "text": [
            "[(2, 0.42490286380932624), (3, 0.43957131102874974), (4, 0.46384959776361845), (5, 0.45023716442201095), (6, 0.4644132168933623), (7, 0.45332698026969626), (8, 0.46472474369748934), (9, 0.445066120380914), (10, 0.45447135324897375), (11, 0.45270111804154944), (12, 0.4538983968576907), (13, 0.4561728373512422), (14, 0.4494866426333184), (15, 0.45135530661328993), (16, 0.45106684561888005), (17, 0.45204785149407284), (18, 0.4552637011731319), (19, 0.4534048303442832)]\n",
            "8\n"
          ]
        }
      ]
    },
    {
      "cell_type": "code",
      "execution_count": 70,
      "id": "3EJIIr58ELq6",
      "metadata": {
        "id": "3EJIIr58ELq6",
        "colab": {
          "base_uri": "https://localhost:8080/"
        },
        "outputId": "e7e1a705-3ff8-4fd3-abf2-5fdbc5682a54"
      },
      "outputs": [
        {
          "output_type": "stream",
          "name": "stderr",
          "text": [
            "/usr/local/lib/python3.9/dist-packages/smart_open/smart_open_lib.py:496: DeprecationWarning: This function is deprecated.  See https://github.com/RaRe-Technologies/smart_open/blob/develop/MIGRATING_FROM_OLDER_VERSIONS.rst for more information\n",
            "  warnings.warn(message, category=DeprecationWarning)\n",
            "/usr/local/lib/python3.9/dist-packages/smart_open/smart_open_lib.py:496: DeprecationWarning: This function is deprecated.  See https://github.com/RaRe-Technologies/smart_open/blob/develop/MIGRATING_FROM_OLDER_VERSIONS.rst for more information\n",
            "  warnings.warn(message, category=DeprecationWarning)\n"
          ]
        }
      ],
      "source": [
        "# !pip install pyLDAvis\n",
        "import pyLDAvis.gensim\n",
        "from gensim.models import wrappers\n",
        "##TODO using LDAvis visualize the topics using the optimal number of topics\n",
        "\n",
        "lda_model = wrappers.LdaMallet(mallet_path, corpus=doc_term_matrix, num_topics=opt_topics, id2word=dictionary)"
      ]
    },
    {
      "cell_type": "code",
      "source": [
        "# Had to convert the model, first gave out missing interference\n",
        "lda_model = wrappers.ldamallet.malletmodel2ldamodel(lda_model)\n",
        "\n",
        "\n",
        "pyLDAvis.enable_notebook()\n",
        "pyLDAvis.gensim.prepare(lda_model, doc_term_matrix, dictionary)"
      ],
      "metadata": {
        "id": "rIy5RfonrNcS",
        "colab": {
          "base_uri": "https://localhost:8080/",
          "height": 932
        },
        "outputId": "d7d68b42-4232-45e8-dfd3-c19e150eee47"
      },
      "id": "rIy5RfonrNcS",
      "execution_count": 72,
      "outputs": [
        {
          "output_type": "stream",
          "name": "stdout",
          "text": [
            "[(0, '0.780*\"39;s\" + 0.220*\"price\" + 0.000*\"game\" + 0.000*\"u.s.\" + 0.000*\"monday\" + 0.000*\"week\" + 0.000*\"world\" + 0.000*\"yesterday\" + 0.000*\"tuesday\" + 0.000*\"year\"'), (1, '0.429*\"service\" + 0.286*\"company\" + 0.286*\"yesterday\" + 0.000*\"u.s.\" + 0.000*\"week\" + 0.000*\"game\" + 0.000*\"lead\" + 0.000*\"year\" + 0.000*\"price\" + 0.000*\"york\"'), (2, '0.273*\"week\" + 0.236*\"time\" + 0.218*\"monday\" + 0.182*\"month\" + 0.055*\"wednesday\" + 0.018*\"price\" + 0.018*\"company\" + 0.000*\"year\" + 0.000*\"york\" + 0.000*\"yesterday\"'), (3, '0.383*\"oil\" + 0.319*\"thursday\" + 0.234*\"u.s.\" + 0.043*\"game\" + 0.021*\"world\" + 0.000*\"lead\" + 0.000*\"monday\" + 0.000*\"week\" + 0.000*\"york\" + 0.000*\"tuesday\"'), (4, '0.283*\"friday\" + 0.264*\"high\" + 0.226*\"year\" + 0.226*\"york\" + 0.000*\"u.s.\" + 0.000*\"week\" + 0.000*\"game\" + 0.000*\"lead\" + 0.000*\"yesterday\" + 0.000*\"tuesday\"'), (5, '0.700*\"win\" + 0.300*\"tuesday\" + 0.000*\"yesterday\" + 0.000*\"monday\" + 0.000*\"week\" + 0.000*\"game\" + 0.000*\"world\" + 0.000*\"year\" + 0.000*\"price\" + 0.000*\"york\"'), (6, '0.469*\"reuters\" + 0.266*\"game\" + 0.141*\"year\" + 0.125*\"wednesday\" + 0.000*\"week\" + 0.000*\"yesterday\" + 0.000*\"lead\" + 0.000*\"monday\" + 0.000*\"york\" + 0.000*\"tuesday\"'), (7, '0.525*\"world\" + 0.325*\"lead\" + 0.125*\"39;s\" + 0.025*\"yesterday\" + 0.000*\"year\" + 0.000*\"monday\" + 0.000*\"week\" + 0.000*\"price\" + 0.000*\"game\" + 0.000*\"tuesday\"')]\n"
          ]
        },
        {
          "output_type": "stream",
          "name": "stderr",
          "text": [
            "/usr/local/lib/python3.9/dist-packages/pyLDAvis/_prepare.py:243: FutureWarning: In a future version of pandas all arguments of DataFrame.drop except for the argument 'labels' will be keyword-only.\n",
            "  default_term_info = default_term_info.sort_values(\n"
          ]
        },
        {
          "output_type": "execute_result",
          "data": {
            "text/plain": [
              "PreparedData(topic_coordinates=              x         y  topics  cluster       Freq\n",
              "topic                                                \n",
              "6     -0.000127  0.000638       1        1  12.820734\n",
              "4     -0.000299 -0.000406       2        1  12.610052\n",
              "3     -0.000964  0.000060       3        1  12.590250\n",
              "0     -0.000666  0.000778       4        1  12.516540\n",
              "2     -0.000553 -0.000747       5        1  12.483719\n",
              "5      0.000828 -0.001157       6        1  12.423715\n",
              "7      0.001443  0.000722       7        1  12.308389\n",
              "1      0.000338  0.000112       8        1  12.246601, topic_info=       Term       Freq      Total Category  logprob  loglift\n",
              "8   company  18.000000  18.000000  Default  26.0000  26.0000\n",
              "17     week  18.000000  18.000000  Default  25.0000  25.0000\n",
              "20     year  19.000000  19.000000  Default  24.0000  24.0000\n",
              "2       say  19.000000  19.000000  Default  23.0000  23.0000\n",
              "15     lead  18.000000  18.000000  Default  22.0000  22.0000\n",
              "..      ...        ...        ...      ...      ...      ...\n",
              "20     year   2.232353  19.230594   Topic8  -3.2791  -0.0535\n",
              "3   service   2.184537  18.901623   Topic8  -3.3008  -0.0579\n",
              "1   reuters   2.261094  20.193849   Topic8  -3.2663  -0.0896\n",
              "18     game   2.060588  18.523655   Topic8  -3.3592  -0.0961\n",
              "15     lead   2.008241  18.642083   Topic8  -3.3849  -0.1282\n",
              "\n",
              "[234 rows x 6 columns], token_table=      Topic      Freq  Term\n",
              "term                       \n",
              "0         1  0.163560  39;s\n",
              "0         2  0.109040  39;s\n",
              "0         3  0.109040  39;s\n",
              "0         4  0.109040  39;s\n",
              "0         5  0.109040  39;s\n",
              "...     ...       ...   ...\n",
              "23        4  0.113177  york\n",
              "23        5  0.113177  york\n",
              "23        6  0.113177  york\n",
              "23        7  0.113177  york\n",
              "23        8  0.113177  york\n",
              "\n",
              "[208 rows x 3 columns], R=26, lambda_step=0.01, plot_opts={'xlab': 'PC1', 'ylab': 'PC2'}, topic_order=[7, 5, 4, 1, 3, 6, 8, 2])"
            ],
            "text/html": [
              "\n",
              "<link rel=\"stylesheet\" type=\"text/css\" href=\"https://cdn.jsdelivr.net/gh/bmabey/pyLDAvis@3.4.0/pyLDAvis/js/ldavis.v1.0.0.css\">\n",
              "\n",
              "\n",
              "<div id=\"ldavis_el1231404550292223047941520559\" style=\"background-color:white;\"></div>\n",
              "<script type=\"text/javascript\">\n",
              "\n",
              "var ldavis_el1231404550292223047941520559_data = {\"mdsDat\": {\"x\": [-0.00012711249834029042, -0.0002991287855875511, -0.000963995411545837, -0.0006655324093167768, -0.0005525515135449279, 0.0008275197004027615, 0.0014425160760255075, 0.00033828484190711195], \"y\": [0.0006376370311468134, -0.00040649494840431773, 6.0216696974085793e-05, 0.0007777430346549518, -0.0007467281544941493, -0.0011566824528192608, 0.0007221828301431915, 0.00011212596279868647], \"topics\": [1, 2, 3, 4, 5, 6, 7, 8], \"cluster\": [1, 1, 1, 1, 1, 1, 1, 1], \"Freq\": [12.820734324878622, 12.610052347370937, 12.590249804308899, 12.516540254609376, 12.483719191261601, 12.423714565979159, 12.308388798682566, 12.246600712908837]}, \"tinfo\": {\"Term\": [\"company\", \"week\", \"year\", \"say\", \"lead\", \"yesterday\", \"time\", \"reuters\", \"high\", \"wednesday\", \"world\", \"game\", \"friday\", \"service\", \"tuesday\", \"u.s.\", \"monday\", \"month\", \"oil\", \"39;s\", \"york\", \"thursday\", \"new\", \"second\", \"price\", \"win\", \"time\", \"week\", \"new\", \"39;s\", \"high\", \"yesterday\", \"tuesday\", \"wednesday\", \"game\", \"monday\", \"win\", \"york\", \"month\", \"u.s.\", \"service\", \"second\", \"say\", \"company\", \"reuters\", \"lead\", \"world\", \"thursday\", \"friday\", \"oil\", \"price\", \"year\", \"company\", \"year\", \"game\", \"monday\", \"time\", \"new\", \"wednesday\", \"thursday\", \"month\", \"reuters\", \"york\", \"service\", \"oil\", \"price\", \"tuesday\", \"second\", \"39;s\", \"world\", \"win\", \"friday\", \"high\", \"u.s.\", \"say\", \"lead\", \"week\", \"yesterday\", \"u.s.\", \"lead\", \"reuters\", \"week\", \"high\", \"company\", \"win\", \"game\", \"york\", \"world\", \"price\", \"yesterday\", \"service\", \"time\", \"oil\", \"monday\", \"tuesday\", \"second\", \"thursday\", \"month\", \"new\", \"wednesday\", \"friday\", \"say\", \"39;s\", \"year\", \"yesterday\", \"game\", \"oil\", \"york\", \"lead\", \"say\", \"second\", \"u.s.\", \"thursday\", \"39;s\", \"high\", \"reuters\", \"price\", \"time\", \"tuesday\", \"friday\", \"service\", \"year\", \"win\", \"new\", \"week\", \"monday\", \"company\", \"month\", \"wednesday\", \"world\", \"friday\", \"high\", \"wednesday\", \"world\", \"year\", \"reuters\", \"york\", \"price\", \"yesterday\", \"lead\", \"oil\", \"win\", \"game\", \"second\", \"month\", \"monday\", \"39;s\", \"u.s.\", \"time\", \"service\", \"new\", \"thursday\", \"company\", \"tuesday\", \"say\", \"week\", \"service\", \"wednesday\", \"tuesday\", \"world\", \"reuters\", \"second\", \"u.s.\", \"year\", \"win\", \"friday\", \"month\", \"39;s\", \"week\", \"oil\", \"price\", \"thursday\", \"say\", \"new\", \"high\", \"monday\", \"lead\", \"york\", \"game\", \"yesterday\", \"company\", \"time\", \"say\", \"year\", \"monday\", \"thursday\", \"week\", \"month\", \"lead\", \"world\", \"price\", \"39;s\", \"yesterday\", \"time\", \"new\", \"friday\", \"service\", \"win\", \"tuesday\", \"oil\", \"york\", \"game\", \"wednesday\", \"u.s.\", \"second\", \"company\", \"reuters\", \"high\", \"friday\", \"say\", \"second\", \"week\", \"new\", \"company\", \"time\", \"win\", \"month\", \"oil\", \"monday\", \"tuesday\", \"39;s\", \"york\", \"yesterday\", \"thursday\", \"price\", \"wednesday\", \"world\", \"high\", \"u.s.\", \"year\", \"service\", \"reuters\", \"game\", \"lead\"], \"Freq\": [18.0, 18.0, 19.0, 19.0, 18.0, 17.0, 19.0, 20.0, 18.0, 19.0, 17.0, 18.0, 18.0, 18.0, 18.0, 19.0, 18.0, 18.0, 19.0, 18.0, 17.0, 18.0, 18.0, 18.0, 18.0, 17.0, 2.890601427404016, 2.8251953357606596, 2.746978611167486, 2.5141848668107416, 2.456746366079912, 2.3554612662954733, 2.463378960269753, 2.5488200106536096, 2.4404255509000445, 2.330529034954442, 2.2853744798671265, 2.2423749935674824, 2.341850591924108, 2.4179409917006636, 2.371754061234553, 2.2783812347051753, 2.384968782017061, 2.2848714850119634, 2.4880419080766916, 2.293299072850728, 2.164356848713551, 2.1863425644524126, 2.2234270372523035, 2.2634061615014778, 2.1503577492133576, 2.103284740027701, 3.106766886583368, 2.8275910766793326, 2.470921301893034, 2.4197657267478765, 2.5598616082520516, 2.491977661354406, 2.497233748045124, 2.3343951341216225, 2.37916343163399, 2.580915559921932, 2.256671671334044, 2.3996476423455606, 2.4100824998257413, 2.324932095397442, 2.3073851756812096, 2.2214595126105867, 2.1991822988252, 2.1159170275529715, 2.1388912289645785, 2.1801480859124935, 2.1452468929837174, 2.2616630202152974, 2.23253791616927, 2.1002736603315064, 2.1181943312134255, 1.951828166679527, 2.7299383126869925, 2.640385211765778, 2.8470254126165835, 2.6365032223954943, 2.514504629182154, 2.517569230743612, 2.400201058270071, 2.4338506249291774, 2.2943253796971206, 2.278435667303692, 2.366590252193766, 2.240485205428161, 2.3878442942957867, 2.3628430806629486, 2.3453671721299787, 2.220592403016433, 2.248347168974146, 2.2024840560889665, 2.181452126294263, 2.217561003770876, 2.240617495267554, 2.2661657100989285, 2.1554834020249336, 2.1398780405331532, 2.026234748220704, 2.042124144263766, 2.5760017483313478, 2.664912879147161, 2.683380778220827, 2.441013872457427, 2.5456192539056723, 2.589747935175323, 2.3826395345095683, 2.497890769123515, 2.341646623449346, 2.347605497559607, 2.313996448149245, 2.5497739330745293, 2.299049583285237, 2.3906015552242397, 2.255386331791123, 2.2384633150947786, 2.2739950857840583, 2.2932457397260655, 2.1429493578755063, 2.2308369247953608, 2.225841037620997, 2.0904473304508584, 2.0951052135415145, 2.0663254218600033, 2.159850610160738, 1.8837280519953077, 2.6078622480319966, 2.552120656719912, 2.5992097521401782, 2.3588798768756347, 2.544039777424901, 2.6625020243238287, 2.3114123856165083, 2.3928381961045657, 2.282173668597989, 2.3958449779570645, 2.4468101171681083, 2.295397527339159, 2.359757537471053, 2.3146509683391683, 2.2964458626229103, 2.2593184662504897, 2.2753893886038052, 2.3664490888577356, 2.3389536072659514, 2.244682754375155, 2.232488115990808, 2.1248320750734706, 2.125909632232365, 2.1092750262286453, 2.176125505377546, 1.747831648717165, 2.774891768862685, 2.7500318403110184, 2.6326560154610013, 2.3831824398881314, 2.713241086289563, 2.4129063426630433, 2.523201126487699, 2.4825421918506962, 2.318043305667018, 2.3680736419052595, 2.357308891305994, 2.333340611042811, 2.3689516326904756, 2.390386182401634, 2.299856324010329, 2.2378260376022276, 2.3468528710665004, 2.2962345335894883, 2.1549678739099263, 2.1145683000261064, 2.1466949939509457, 1.9359773941969112, 1.9868289138103157, 1.8924353786111074, 1.937192007377493, 1.9725867943607187, 2.73362784715056, 2.70541336343459, 2.5020058004535515, 2.476118283853659, 2.5896529236339645, 2.5009623860505426, 2.5117245883227652, 2.364194790773781, 2.4429981335793927, 2.3854691701033643, 2.2291653159530798, 2.343970130939184, 2.274826988801582, 2.2165244544059486, 2.2642703710196637, 2.152581275940441, 2.2017029961458023, 2.229117715942986, 2.025218207629718, 2.106370852755326, 2.175999415767727, 2.1645625391600243, 2.040551804791911, 1.987831154269871, 2.0912549629098844, 1.8564863118342785, 2.4685261356394115, 2.550210305060555, 2.380009169801518, 2.4601970591726507, 2.3928951539241923, 2.324739733378855, 2.43753363011432, 2.262580262298346, 2.3198868514041346, 2.407172497036248, 2.2705333629103364, 2.307861462357653, 2.2604936809539558, 2.1643656403776763, 2.1612885768613728, 2.207851722212717, 2.2342480388189525, 2.324730295139172, 2.1233972313091782, 2.1814460026805094, 2.2867678770946243, 2.2323532645071706, 2.1845373086702926, 2.261093794718722, 2.060587623880297, 2.008240770155895], \"Total\": [18.0, 18.0, 19.0, 19.0, 18.0, 17.0, 19.0, 20.0, 18.0, 19.0, 17.0, 18.0, 18.0, 18.0, 18.0, 19.0, 18.0, 18.0, 19.0, 18.0, 17.0, 18.0, 18.0, 18.0, 18.0, 17.0, 19.29695183422343, 18.97236719120483, 18.906855484890876, 18.34190026212019, 18.175515181539655, 17.68883932675806, 18.52599313690933, 19.322041382316495, 18.52365528478641, 18.207760424810093, 17.996018496222245, 17.671359544876886, 18.47950444057256, 19.24841372532655, 18.901623286587757, 18.233082623509937, 19.15394920254997, 18.37998534313904, 20.193848681931737, 18.64208252924035, 17.672091934412247, 18.090464567059716, 18.458508320267125, 19.175723124227005, 18.510870372603044, 19.230594297914223, 18.37998534313904, 19.230594297914223, 18.52365528478641, 18.207760424810093, 19.29695183422343, 18.906855484890876, 19.322041382316495, 18.090464567059716, 18.47950444057256, 20.193848681931737, 17.671359544876886, 18.901623286587757, 19.175723124227005, 18.510870372603044, 18.52599313690933, 18.233082623509937, 18.34190026212019, 17.672091934412247, 17.996018496222245, 18.458508320267125, 18.175515181539655, 19.24841372532655, 19.15394920254997, 18.64208252924035, 18.97236719120483, 17.68883932675806, 19.24841372532655, 18.64208252924035, 20.193848681931737, 18.97236719120483, 18.175515181539655, 18.37998534313904, 17.996018496222245, 18.52365528478641, 17.671359544876886, 17.672091934412247, 18.510870372603044, 17.68883932675806, 18.901623286587757, 19.29695183422343, 19.175723124227005, 18.207760424810093, 18.52599313690933, 18.233082623509937, 18.090464567059716, 18.47950444057256, 18.906855484890876, 19.322041382316495, 18.458508320267125, 19.15394920254997, 18.34190026212019, 19.230594297914223, 17.68883932675806, 18.52365528478641, 19.175723124227005, 17.671359544876886, 18.64208252924035, 19.15394920254997, 18.233082623509937, 19.24841372532655, 18.090464567059716, 18.34190026212019, 18.175515181539655, 20.193848681931737, 18.510870372603044, 19.29695183422343, 18.52599313690933, 18.458508320267125, 18.901623286587757, 19.230594297914223, 17.996018496222245, 18.906855484890876, 18.97236719120483, 18.207760424810093, 18.37998534313904, 18.47950444057256, 19.322041382316495, 17.672091934412247, 18.458508320267125, 18.175515181539655, 19.322041382316495, 17.672091934412247, 19.230594297914223, 20.193848681931737, 17.671359544876886, 18.510870372603044, 17.68883932675806, 18.64208252924035, 19.175723124227005, 17.996018496222245, 18.52365528478641, 18.233082623509937, 18.47950444057256, 18.207760424810093, 18.34190026212019, 19.24841372532655, 19.29695183422343, 18.901623286587757, 18.906855484890876, 18.090464567059716, 18.37998534313904, 18.52599313690933, 19.15394920254997, 18.97236719120483, 18.901623286587757, 19.322041382316495, 18.52599313690933, 17.672091934412247, 20.193848681931737, 18.233082623509937, 19.24841372532655, 19.230594297914223, 17.996018496222245, 18.458508320267125, 18.47950444057256, 18.34190026212019, 18.97236719120483, 19.175723124227005, 18.510870372603044, 18.090464567059716, 19.15394920254997, 18.906855484890876, 18.175515181539655, 18.207760424810093, 18.64208252924035, 17.671359544876886, 18.52365528478641, 17.68883932675806, 18.37998534313904, 19.29695183422343, 19.15394920254997, 19.230594297914223, 18.207760424810093, 18.090464567059716, 18.97236719120483, 18.47950444057256, 18.64208252924035, 17.672091934412247, 18.510870372603044, 18.34190026212019, 17.68883932675806, 19.29695183422343, 18.906855484890876, 18.458508320267125, 18.901623286587757, 17.996018496222245, 18.52599313690933, 19.175723124227005, 17.671359544876886, 18.52365528478641, 19.322041382316495, 19.24841372532655, 18.233082623509937, 18.37998534313904, 20.193848681931737, 18.175515181539655, 18.458508320267125, 19.15394920254997, 18.233082623509937, 18.97236719120483, 18.906855484890876, 18.37998534313904, 19.29695183422343, 17.996018496222245, 18.47950444057256, 19.175723124227005, 18.207760424810093, 18.52599313690933, 18.34190026212019, 17.671359544876886, 17.68883932675806, 18.090464567059716, 18.510870372603044, 19.322041382316495, 17.672091934412247, 18.175515181539655, 19.24841372532655, 19.230594297914223, 18.901623286587757, 20.193848681931737, 18.52365528478641, 18.64208252924035], \"Category\": [\"Default\", \"Default\", \"Default\", \"Default\", \"Default\", \"Default\", \"Default\", \"Default\", \"Default\", \"Default\", \"Default\", \"Default\", \"Default\", \"Default\", \"Default\", \"Default\", \"Default\", \"Default\", \"Default\", \"Default\", \"Default\", \"Default\", \"Default\", \"Default\", \"Default\", \"Default\", \"Topic1\", \"Topic1\", \"Topic1\", \"Topic1\", \"Topic1\", \"Topic1\", \"Topic1\", \"Topic1\", \"Topic1\", \"Topic1\", \"Topic1\", \"Topic1\", \"Topic1\", \"Topic1\", \"Topic1\", \"Topic1\", \"Topic1\", \"Topic1\", \"Topic1\", \"Topic1\", \"Topic1\", \"Topic1\", \"Topic1\", \"Topic1\", \"Topic1\", \"Topic1\", \"Topic2\", \"Topic2\", \"Topic2\", \"Topic2\", \"Topic2\", \"Topic2\", \"Topic2\", \"Topic2\", \"Topic2\", \"Topic2\", \"Topic2\", \"Topic2\", \"Topic2\", \"Topic2\", \"Topic2\", \"Topic2\", \"Topic2\", \"Topic2\", \"Topic2\", \"Topic2\", \"Topic2\", \"Topic2\", \"Topic2\", \"Topic2\", \"Topic2\", \"Topic2\", \"Topic3\", \"Topic3\", \"Topic3\", \"Topic3\", \"Topic3\", \"Topic3\", \"Topic3\", \"Topic3\", \"Topic3\", \"Topic3\", \"Topic3\", \"Topic3\", \"Topic3\", \"Topic3\", \"Topic3\", \"Topic3\", \"Topic3\", \"Topic3\", \"Topic3\", \"Topic3\", \"Topic3\", \"Topic3\", \"Topic3\", \"Topic3\", \"Topic3\", \"Topic3\", \"Topic4\", \"Topic4\", \"Topic4\", \"Topic4\", \"Topic4\", \"Topic4\", \"Topic4\", \"Topic4\", \"Topic4\", \"Topic4\", \"Topic4\", \"Topic4\", \"Topic4\", \"Topic4\", \"Topic4\", \"Topic4\", \"Topic4\", \"Topic4\", \"Topic4\", \"Topic4\", \"Topic4\", \"Topic4\", \"Topic4\", \"Topic4\", \"Topic4\", \"Topic4\", \"Topic5\", \"Topic5\", \"Topic5\", \"Topic5\", \"Topic5\", \"Topic5\", \"Topic5\", \"Topic5\", \"Topic5\", \"Topic5\", \"Topic5\", \"Topic5\", \"Topic5\", \"Topic5\", \"Topic5\", \"Topic5\", \"Topic5\", \"Topic5\", \"Topic5\", \"Topic5\", \"Topic5\", \"Topic5\", \"Topic5\", \"Topic5\", \"Topic5\", \"Topic5\", \"Topic6\", \"Topic6\", \"Topic6\", \"Topic6\", \"Topic6\", \"Topic6\", \"Topic6\", \"Topic6\", \"Topic6\", \"Topic6\", \"Topic6\", \"Topic6\", \"Topic6\", \"Topic6\", \"Topic6\", \"Topic6\", \"Topic6\", \"Topic6\", \"Topic6\", \"Topic6\", \"Topic6\", \"Topic6\", \"Topic6\", \"Topic6\", \"Topic6\", \"Topic6\", \"Topic7\", \"Topic7\", \"Topic7\", \"Topic7\", \"Topic7\", \"Topic7\", \"Topic7\", \"Topic7\", \"Topic7\", \"Topic7\", \"Topic7\", \"Topic7\", \"Topic7\", \"Topic7\", \"Topic7\", \"Topic7\", \"Topic7\", \"Topic7\", \"Topic7\", \"Topic7\", \"Topic7\", \"Topic7\", \"Topic7\", \"Topic7\", \"Topic7\", \"Topic7\", \"Topic8\", \"Topic8\", \"Topic8\", \"Topic8\", \"Topic8\", \"Topic8\", \"Topic8\", \"Topic8\", \"Topic8\", \"Topic8\", \"Topic8\", \"Topic8\", \"Topic8\", \"Topic8\", \"Topic8\", \"Topic8\", \"Topic8\", \"Topic8\", \"Topic8\", \"Topic8\", \"Topic8\", \"Topic8\", \"Topic8\", \"Topic8\", \"Topic8\", \"Topic8\"], \"logprob\": [26.0, 25.0, 24.0, 23.0, 22.0, 21.0, 20.0, 19.0, 18.0, 17.0, 16.0, 15.0, 14.0, 13.0, 12.0, 11.0, 10.0, 9.0, 8.0, 7.0, 6.0, 5.0, 4.0, 3.0, 2.0, 1.0, -3.0665, -3.0894, -3.1175, -3.206, -3.2291, -3.2712, -3.2264, -3.1923, -3.2358, -3.2819, -3.3014, -3.3204, -3.277, -3.2451, -3.2643, -3.3045, -3.2588, -3.3017, -3.2165, -3.298, -3.3559, -3.3457, -3.3289, -3.3111, -3.3623, -3.3845, -2.9778, -3.072, -3.2068, -3.2277, -3.1715, -3.1983, -3.1962, -3.2637, -3.2447, -3.1633, -3.2975, -3.2361, -3.2317, -3.2677, -3.2753, -3.3132, -3.3233, -3.3619, -3.3511, -3.332, -3.3482, -3.2953, -3.3083, -3.3693, -3.3608, -3.4426, -3.1056, -3.1389, -3.0636, -3.1404, -3.1878, -3.1865, -3.2343, -3.2204, -3.2794, -3.2863, -3.2484, -3.3031, -3.2394, -3.25, -3.2574, -3.3121, -3.2996, -3.3203, -3.3298, -3.3134, -3.3031, -3.2917, -3.3418, -3.3491, -3.4037, -3.3958, -3.1577, -3.1238, -3.1169, -3.2116, -3.1696, -3.1524, -3.2358, -3.1885, -3.2531, -3.2506, -3.265, -3.168, -3.2715, -3.2324, -3.2906, -3.2982, -3.2824, -3.274, -3.3418, -3.3016, -3.3038, -3.3666, -3.3644, -3.3782, -3.3339, -3.4707, -3.1428, -3.1644, -3.1461, -3.2432, -3.1676, -3.1221, -3.2635, -3.2289, -3.2762, -3.2276, -3.2066, -3.2704, -3.2428, -3.2621, -3.27, -3.2863, -3.2792, -3.2399, -3.2516, -3.2928, -3.2982, -3.3476, -3.3471, -3.355, -3.3238, -3.543, -3.0759, -3.0849, -3.1285, -3.2281, -3.0984, -3.2157, -3.171, -3.1872, -3.2558, -3.2344, -3.239, -3.2492, -3.2341, -3.2251, -3.2637, -3.291, -3.2434, -3.2653, -3.3287, -3.3477, -3.3326, -3.4359, -3.41, -3.4587, -3.4353, -3.4172, -3.0816, -3.0919, -3.1701, -3.1805, -3.1357, -3.1705, -3.1662, -3.2268, -3.194, -3.2178, -3.2856, -3.2353, -3.2653, -3.2913, -3.2699, -3.3205, -3.298, -3.2856, -3.3815, -3.3422, -3.3097, -3.315, -3.374, -3.4002, -3.3494, -3.4685, -3.1785, -3.146, -3.2151, -3.1819, -3.2097, -3.2386, -3.1912, -3.2657, -3.2406, -3.2037, -3.2621, -3.2458, -3.2666, -3.31, -3.3115, -3.2901, -3.2783, -3.2386, -3.3291, -3.3022, -3.255, -3.2791, -3.3008, -3.2663, -3.3592, -3.3849], \"loglift\": [26.0, 25.0, 24.0, 23.0, 22.0, 21.0, 20.0, 19.0, 18.0, 17.0, 16.0, 15.0, 14.0, 13.0, 12.0, 11.0, 10.0, 9.0, 8.0, 7.0, 6.0, 5.0, 4.0, 3.0, 2.0, 1.0, 0.1556, 0.1497, 0.1251, 0.0669, 0.0529, 0.0379, 0.0365, 0.0285, 0.0272, -0.0016, -0.0095, -0.0103, -0.0116, -0.0204, -0.0215, -0.0257, -0.0292, -0.0308, -0.0398, -0.0413, -0.0458, -0.059, -0.0624, -0.0827, -0.0986, -0.1589, 0.293, 0.1536, 0.0562, 0.0525, 0.0507, 0.0442, 0.0246, 0.023, 0.0208, 0.0134, 0.0126, 0.0067, -0.0033, -0.004, -0.0124, -0.0344, -0.0504, -0.0518, -0.0592, -0.0655, -0.0661, -0.0707, -0.0787, -0.1127, -0.1217, -0.1335, 0.1191, 0.1178, 0.1131, 0.0987, 0.0942, 0.0843, 0.0576, 0.0427, 0.0307, 0.0237, 0.0153, 0.006, 0.0034, -0.0278, -0.029, -0.0318, -0.0367, -0.0414, -0.0431, -0.048, -0.0605, -0.0709, -0.0753, -0.1195, -0.1308, -0.1703, 0.1514, 0.1392, 0.1116, 0.0986, 0.0871, 0.0772, 0.0431, 0.0361, 0.0336, 0.0223, 0.017, 0.0087, -0.0077, -0.0103, -0.0277, -0.0316, -0.0396, -0.0484, -0.0498, -0.059, -0.0647, -0.0864, -0.0935, -0.1128, -0.1131, -0.1606, 0.1238, 0.1176, 0.0747, 0.0669, 0.058, 0.0546, 0.0467, 0.0349, 0.0329, 0.0291, 0.0219, 0.0215, 0.0203, 0.0168, -0.0046, -0.006, -0.0063, -0.0153, -0.0295, -0.0499, -0.0557, -0.0609, -0.0763, -0.0921, -0.0942, -0.3039, 0.1669, 0.1359, 0.1344, 0.082, 0.0783, 0.0632, 0.0537, 0.0383, 0.0361, 0.0321, 0.0264, 0.0237, 0.005, 0.0034, 0.0001, -0.0043, -0.0139, -0.0227, -0.0467, -0.0674, -0.0759, -0.1258, -0.1469, -0.1495, -0.1645, -0.195, 0.148, 0.1336, 0.1101, 0.1062, 0.1034, 0.0949, 0.0904, 0.0833, 0.0698, 0.0551, 0.0236, -0.0132, -0.0227, -0.0247, -0.0271, -0.0286, -0.0351, -0.0572, -0.0714, -0.0792, -0.0889, -0.0903, -0.0951, -0.1293, -0.1727, -0.1865, 0.088, 0.0836, 0.0638, 0.0572, 0.0329, 0.0323, 0.031, 0.0263, 0.0248, 0.0247, 0.0181, 0.0171, 0.0063, 0.0001, -0.0023, -0.0034, -0.0145, -0.0177, -0.019, -0.0202, -0.0304, -0.0535, -0.0579, -0.0896, -0.0961, -0.1282]}, \"token.table\": {\"Topic\": [1, 2, 3, 4, 5, 6, 7, 8, 1, 2, 3, 4, 5, 6, 7, 8, 1, 2, 3, 4, 5, 6, 7, 8, 1, 2, 3, 4, 5, 6, 7, 8, 1, 2, 3, 4, 5, 6, 7, 8, 1, 2, 3, 4, 5, 6, 7, 8, 1, 2, 3, 4, 5, 6, 7, 8, 1, 2, 3, 4, 5, 6, 7, 8, 1, 2, 3, 4, 5, 6, 7, 8, 1, 2, 3, 4, 5, 6, 7, 8, 1, 2, 3, 4, 5, 6, 7, 8, 1, 2, 3, 4, 5, 6, 7, 8, 1, 2, 3, 4, 5, 6, 7, 8, 1, 2, 3, 4, 5, 6, 7, 8, 1, 2, 3, 4, 5, 6, 7, 8, 1, 2, 3, 4, 5, 6, 7, 8, 1, 2, 3, 4, 5, 6, 7, 8, 1, 2, 3, 4, 5, 6, 7, 8, 1, 2, 3, 4, 5, 6, 7, 8, 1, 2, 3, 4, 5, 6, 7, 8, 1, 2, 3, 4, 5, 6, 7, 8, 1, 2, 3, 4, 5, 6, 7, 8, 1, 2, 3, 4, 5, 6, 7, 8, 1, 2, 3, 4, 5, 6, 7, 8, 1, 2, 3, 4, 5, 6, 7, 8, 1, 2, 3, 4, 5, 6, 7, 8], \"Freq\": [0.1635599342013444, 0.1090399561342296, 0.1090399561342296, 0.1090399561342296, 0.1090399561342296, 0.1090399561342296, 0.1090399561342296, 0.1090399561342296, 0.10881401495494492, 0.16322102243241737, 0.16322102243241737, 0.10881401495494492, 0.10881401495494492, 0.10881401495494492, 0.10881401495494492, 0.10881401495494492, 0.10835111728958262, 0.10835111728958262, 0.10835111728958262, 0.10835111728958262, 0.16252667593437395, 0.10835111728958262, 0.10835111728958262, 0.10835111728958262, 0.10797005068662728, 0.10797005068662728, 0.10797005068662728, 0.16195507602994091, 0.10797005068662728, 0.10797005068662728, 0.10797005068662728, 0.10797005068662728, 0.110038146375699, 0.110038146375699, 0.1650572195635485, 0.110038146375699, 0.1650572195635485, 0.110038146375699, 0.110038146375699, 0.110038146375699, 0.1072841511597738, 0.1072841511597738, 0.1609262267396607, 0.1609262267396607, 0.1072841511597738, 0.1072841511597738, 0.1609262267396607, 0.1072841511597738, 0.10984327305157081, 0.10984327305157081, 0.10984327305157081, 0.10984327305157081, 0.10984327305157081, 0.10984327305157081, 0.1647649095773562, 0.10984327305157081, 0.10822801046595777, 0.10822801046595777, 0.10822801046595777, 0.10822801046595777, 0.10822801046595777, 0.10822801046595777, 0.16234201569893666, 0.10822801046595777, 0.15867260435757835, 0.10578173623838556, 0.10578173623838556, 0.10578173623838556, 0.10578173623838556, 0.10578173623838556, 0.10578173623838556, 0.10578173623838556, 0.10429854389549245, 0.10429854389549245, 0.10429854389549245, 0.1564478158432387, 0.10429854389549245, 0.10429854389549245, 0.10429854389549245, 0.10429854389549245, 0.1080446224160315, 0.1080446224160315, 0.1080446224160315, 0.1080446224160315, 0.1080446224160315, 0.1080446224160315, 0.1080446224160315, 0.1080446224160315, 0.09904006073837138, 0.14856009110755708, 0.14856009110755708, 0.14856009110755708, 0.14856009110755708, 0.14856009110755708, 0.09904006073837138, 0.09904006073837138, 0.10441710891317073, 0.10441710891317073, 0.10441710891317073, 0.1566256633697561, 0.10441710891317073, 0.10441710891317073, 0.1566256633697561, 0.1566256633697561, 0.1096907221503608, 0.1096907221503608, 0.1096907221503608, 0.1096907221503608, 0.1096907221503608, 0.1096907221503608, 0.1096907221503608, 0.1096907221503608, 0.1058110179044338, 0.1058110179044338, 0.1058110179044338, 0.1058110179044338, 0.1058110179044338, 0.1587165268566507, 0.1058110179044338, 0.1058110179044338, 0.11055548035188267, 0.11055548035188267, 0.11055548035188267, 0.11055548035188267, 0.11055548035188267, 0.11055548035188267, 0.11055548035188267, 0.11055548035188267, 0.15546496803082938, 0.15546496803082938, 0.10364331202055291, 0.10364331202055291, 0.10364331202055291, 0.10364331202055291, 0.10364331202055291, 0.10364331202055291, 0.10795642561344798, 0.10795642561344798, 0.10795642561344798, 0.10795642561344798, 0.10795642561344798, 0.16193463842017197, 0.10795642561344798, 0.10795642561344798, 0.10390466604364666, 0.10390466604364666, 0.15585699906547, 0.10390466604364666, 0.10390466604364666, 0.15585699906547, 0.10390466604364666, 0.10390466604364666, 0.15526309775661673, 0.10350873183774449, 0.10350873183774449, 0.10350873183774449, 0.15526309775661673, 0.15526309775661673, 0.10350873183774449, 0.10350873183774449, 0.1581247068310344, 0.10541647122068962, 0.1581247068310344, 0.10541647122068962, 0.10541647122068962, 0.10541647122068962, 0.1581247068310344, 0.10541647122068962, 0.11113569373246884, 0.11113569373246884, 0.11113569373246884, 0.11113569373246884, 0.11113569373246884, 0.11113569373246884, 0.11113569373246884, 0.11113569373246884, 0.11317279286587854, 0.11317279286587854, 0.11317279286587854, 0.11317279286587854, 0.11317279286587854, 0.11317279286587854, 0.11317279286587854, 0.11317279286587854, 0.1040009460454856, 0.1560014190682284, 0.1040009460454856, 0.1040009460454856, 0.1560014190682284, 0.1040009460454856, 0.1560014190682284, 0.1040009460454856, 0.11306564342944665, 0.11306564342944665, 0.11306564342944665, 0.16959846514416999, 0.11306564342944665, 0.11306564342944665, 0.11306564342944665, 0.11306564342944665, 0.11317748331252879, 0.11317748331252879, 0.11317748331252879, 0.11317748331252879, 0.11317748331252879, 0.11317748331252879, 0.11317748331252879, 0.11317748331252879], \"Term\": [\"39;s\", \"39;s\", \"39;s\", \"39;s\", \"39;s\", \"39;s\", \"39;s\", \"39;s\", \"company\", \"company\", \"company\", \"company\", \"company\", \"company\", \"company\", \"company\", \"friday\", \"friday\", \"friday\", \"friday\", \"friday\", \"friday\", \"friday\", \"friday\", \"game\", \"game\", \"game\", \"game\", \"game\", \"game\", \"game\", \"game\", \"high\", \"high\", \"high\", \"high\", \"high\", \"high\", \"high\", \"high\", \"lead\", \"lead\", \"lead\", \"lead\", \"lead\", \"lead\", \"lead\", \"lead\", \"monday\", \"monday\", \"monday\", \"monday\", \"monday\", \"monday\", \"monday\", \"monday\", \"month\", \"month\", \"month\", \"month\", \"month\", \"month\", \"month\", \"month\", \"new\", \"new\", \"new\", \"new\", \"new\", \"new\", \"new\", \"new\", \"oil\", \"oil\", \"oil\", \"oil\", \"oil\", \"oil\", \"oil\", \"oil\", \"price\", \"price\", \"price\", \"price\", \"price\", \"price\", \"price\", \"price\", \"reuters\", \"reuters\", \"reuters\", \"reuters\", \"reuters\", \"reuters\", \"reuters\", \"reuters\", \"say\", \"say\", \"say\", \"say\", \"say\", \"say\", \"say\", \"say\", \"second\", \"second\", \"second\", \"second\", \"second\", \"second\", \"second\", \"second\", \"service\", \"service\", \"service\", \"service\", \"service\", \"service\", \"service\", \"service\", \"thursday\", \"thursday\", \"thursday\", \"thursday\", \"thursday\", \"thursday\", \"thursday\", \"thursday\", \"time\", \"time\", \"time\", \"time\", \"time\", \"time\", \"time\", \"time\", \"tuesday\", \"tuesday\", \"tuesday\", \"tuesday\", \"tuesday\", \"tuesday\", \"tuesday\", \"tuesday\", \"u.s.\", \"u.s.\", \"u.s.\", \"u.s.\", \"u.s.\", \"u.s.\", \"u.s.\", \"u.s.\", \"wednesday\", \"wednesday\", \"wednesday\", \"wednesday\", \"wednesday\", \"wednesday\", \"wednesday\", \"wednesday\", \"week\", \"week\", \"week\", \"week\", \"week\", \"week\", \"week\", \"week\", \"win\", \"win\", \"win\", \"win\", \"win\", \"win\", \"win\", \"win\", \"world\", \"world\", \"world\", \"world\", \"world\", \"world\", \"world\", \"world\", \"year\", \"year\", \"year\", \"year\", \"year\", \"year\", \"year\", \"year\", \"yesterday\", \"yesterday\", \"yesterday\", \"yesterday\", \"yesterday\", \"yesterday\", \"yesterday\", \"yesterday\", \"york\", \"york\", \"york\", \"york\", \"york\", \"york\", \"york\", \"york\"]}, \"R\": 26, \"lambda.step\": 0.01, \"plot.opts\": {\"xlab\": \"PC1\", \"ylab\": \"PC2\"}, \"topic.order\": [7, 5, 4, 1, 3, 6, 8, 2]};\n",
              "\n",
              "function LDAvis_load_lib(url, callback){\n",
              "  var s = document.createElement('script');\n",
              "  s.src = url;\n",
              "  s.async = true;\n",
              "  s.onreadystatechange = s.onload = callback;\n",
              "  s.onerror = function(){console.warn(\"failed to load library \" + url);};\n",
              "  document.getElementsByTagName(\"head\")[0].appendChild(s);\n",
              "}\n",
              "\n",
              "if(typeof(LDAvis) !== \"undefined\"){\n",
              "   // already loaded: just create the visualization\n",
              "   !function(LDAvis){\n",
              "       new LDAvis(\"#\" + \"ldavis_el1231404550292223047941520559\", ldavis_el1231404550292223047941520559_data);\n",
              "   }(LDAvis);\n",
              "}else if(typeof define === \"function\" && define.amd){\n",
              "   // require.js is available: use it to load d3/LDAvis\n",
              "   require.config({paths: {d3: \"https://d3js.org/d3.v5\"}});\n",
              "   require([\"d3\"], function(d3){\n",
              "      window.d3 = d3;\n",
              "      LDAvis_load_lib(\"https://cdn.jsdelivr.net/gh/bmabey/pyLDAvis@3.4.0/pyLDAvis/js/ldavis.v3.0.0.js\", function(){\n",
              "        new LDAvis(\"#\" + \"ldavis_el1231404550292223047941520559\", ldavis_el1231404550292223047941520559_data);\n",
              "      });\n",
              "    });\n",
              "}else{\n",
              "    // require.js not available: dynamically load d3 & LDAvis\n",
              "    LDAvis_load_lib(\"https://d3js.org/d3.v5.js\", function(){\n",
              "         LDAvis_load_lib(\"https://cdn.jsdelivr.net/gh/bmabey/pyLDAvis@3.4.0/pyLDAvis/js/ldavis.v3.0.0.js\", function(){\n",
              "                 new LDAvis(\"#\" + \"ldavis_el1231404550292223047941520559\", ldavis_el1231404550292223047941520559_data);\n",
              "            })\n",
              "         });\n",
              "}\n",
              "</script>"
            ]
          },
          "metadata": {},
          "execution_count": 72
        }
      ]
    }
  ],
  "metadata": {
    "colab": {
      "provenance": []
    },
    "kernelspec": {
      "display_name": "Python 3",
      "language": "python",
      "name": "python3"
    },
    "language_info": {
      "codemirror_mode": {
        "name": "ipython",
        "version": 3
      },
      "file_extension": ".py",
      "mimetype": "text/x-python",
      "name": "python",
      "nbconvert_exporter": "python",
      "pygments_lexer": "ipython3",
      "version": "3.8.16"
    }
  },
  "nbformat": 4,
  "nbformat_minor": 5
}