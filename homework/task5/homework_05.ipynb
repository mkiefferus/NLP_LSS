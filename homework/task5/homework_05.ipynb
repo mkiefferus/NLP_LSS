{
  "cells": [
    {
      "cell_type": "markdown",
      "id": "dbe9d25b",
      "metadata": {
        "id": "dbe9d25b"
      },
      "source": [
        "# HW05: Word Embeddings\n",
        "\n",
        "Remember that these homework work as a completion grade. **You can <span style=\"color:red\">not</span> skip one section this homework.**"
      ]
    },
    {
      "cell_type": "markdown",
      "id": "8b3a0596",
      "metadata": {
        "id": "8b3a0596"
      },
      "source": [
        "**Essay Feedback**\n",
        "\n",
        "Please provide feedback to two classmates' essays on Eduflow."
      ]
    },
    {
      "cell_type": "markdown",
      "id": "5ea14794",
      "metadata": {
        "id": "5ea14794"
      },
      "source": [
        "**Training word2vec**\n",
        "\n",
        "In this section, we train a word2vec model using gensim. We train the model on text8 (which consists of the first 90M characters of a Wikipedia dump from 2006 and is considered one of the benchmarks for evaluating language models)."
      ]
    },
    {
      "cell_type": "code",
      "execution_count": 1,
      "id": "95a38d6e",
      "metadata": {
        "id": "95a38d6e",
        "outputId": "5b1bf0c3-7032-4213-dfcc-52b67b699259",
        "colab": {
          "base_uri": "https://localhost:8080/"
        }
      },
      "outputs": [
        {
          "output_type": "execute_result",
          "data": {
            "text/plain": [
              "{'num_records': 1701,\n",
              " 'record_format': 'list of str (tokens)',\n",
              " 'file_size': 33182058,\n",
              " 'reader_code': 'https://github.com/RaRe-Technologies/gensim-data/releases/download/text8/__init__.py',\n",
              " 'license': 'not found',\n",
              " 'description': 'First 100,000,000 bytes of plain text from Wikipedia. Used for testing purposes; see wiki-english-* for proper full Wikipedia datasets.',\n",
              " 'checksum': '68799af40b6bda07dfa47a32612e5364',\n",
              " 'file_name': 'text8.gz',\n",
              " 'read_more': ['http://mattmahoney.net/dc/textdata.html'],\n",
              " 'parts': 1}"
            ]
          },
          "metadata": {},
          "execution_count": 1
        }
      ],
      "source": [
        "import gensim.downloader as api\n",
        "\n",
        "api.info(\"text8\")"
      ]
    },
    {
      "cell_type": "code",
      "execution_count": 2,
      "id": "0a49444c",
      "metadata": {
        "id": "0a49444c",
        "outputId": "7afbca22-c2bb-4e51-ddd0-8a47fd487985",
        "colab": {
          "base_uri": "https://localhost:8080/"
        }
      },
      "outputs": [
        {
          "output_type": "stream",
          "name": "stdout",
          "text": [
            "[==================================================] 100.0% 31.6/31.6MB downloaded\n"
          ]
        }
      ],
      "source": [
        "dataset = api.load(\"text8\")"
      ]
    },
    {
      "cell_type": "code",
      "execution_count": 5,
      "id": "61fa38b5",
      "metadata": {
        "id": "61fa38b5"
      },
      "outputs": [],
      "source": [
        "from gensim.models import Word2Vec\n",
        "\n",
        "##TODO train a word2vec model on this dataset which appear at least 10 times in the corpus\n",
        "\n",
        "model = Word2Vec(dataset, min_count=10)"
      ]
    },
    {
      "cell_type": "markdown",
      "id": "4af69360",
      "metadata": {
        "id": "4af69360"
      },
      "source": [
        "**Word Similarities**\n",
        "\n",
        "gensim models provide almost all the utility you might want to wish for to perform standard word similarity tasks. They are available in the .wv (wordvectors) attribute of the model, more details could be found [here](https://radimrehurek.com/gensim/models/keyedvectors.html)."
      ]
    },
    {
      "cell_type": "code",
      "execution_count": 8,
      "id": "5cf99280",
      "metadata": {
        "id": "5cf99280",
        "outputId": "77dde279-7fdc-4313-d631-d8844d722222",
        "colab": {
          "base_uri": "https://localhost:8080/"
        }
      },
      "outputs": [
        {
          "output_type": "stream",
          "name": "stdout",
          "text": [
            "('prince', 0.7743529081344604)\n",
            "('queen', 0.7292153239250183)\n",
            "('kings', 0.7031580209732056)\n",
            "('throne', 0.6981783509254456)\n",
            "('emperor', 0.6948561072349548)\n",
            "('regent', 0.6773486137390137)\n",
            "('sultan', 0.6719624400138855)\n",
            "('vii', 0.6605079174041748)\n",
            "('aragon', 0.6547995209693909)\n",
            "('elector', 0.6542447209358215)\n"
          ]
        }
      ],
      "source": [
        "model.wv\n",
        "\n",
        "##TODO find the closest words to king\n",
        "\n",
        "close_words = model.wv.most_similar('king')\n",
        "\n",
        "for word in close_words:\n",
        "    print(word)"
      ]
    },
    {
      "cell_type": "markdown",
      "id": "9c30c847",
      "metadata": {
        "id": "9c30c847"
      },
      "source": [
        "King is to man as woman is to X"
      ]
    },
    {
      "cell_type": "code",
      "execution_count": 9,
      "id": "615b6116",
      "metadata": {
        "id": "615b6116",
        "outputId": "17a0b21c-2c82-47e1-c834-2ca8de27a3ad",
        "colab": {
          "base_uri": "https://localhost:8080/"
        }
      },
      "outputs": [
        {
          "output_type": "stream",
          "name": "stdout",
          "text": [
            "('queen', 0.6954731941223145)\n"
          ]
        }
      ],
      "source": [
        "##TODO find the closest word for the vector \"woman\" + \"king\" - \"man\"\n",
        "\n",
        "closest_word = model.wv.most_similar(positive=['woman', 'king'], negative=['man'])[0]\n",
        "\n",
        "print(closest_word)"
      ]
    },
    {
      "cell_type": "markdown",
      "id": "2af37627",
      "metadata": {
        "id": "2af37627"
      },
      "source": [
        "**Evaluate Word Similarities** \n",
        "\n",
        "One common way to evaluate word2vec models are word analogy tasks. Let's check how good our model is on one of those. We consider the [WordSim353](http://alfonseca.org/eng/research/wordsim353.html) benchmark, the task is to determine how similar two words are."
      ]
    },
    {
      "cell_type": "code",
      "execution_count": 10,
      "id": "71515b20",
      "metadata": {
        "id": "71515b20",
        "outputId": "bf2e8069-94a2-4be5-ac97-65169167033a",
        "colab": {
          "base_uri": "https://localhost:8080/"
        }
      },
      "outputs": [
        {
          "output_type": "stream",
          "name": "stdout",
          "text": [
            "--2023-03-30 13:34:53--  http://alfonseca.org/pubs/ws353simrel.tar.gz\n",
            "Resolving alfonseca.org (alfonseca.org)... 162.215.249.67\n",
            "Connecting to alfonseca.org (alfonseca.org)|162.215.249.67|:80... connected.\n",
            "HTTP request sent, awaiting response... 200 OK\n",
            "Length: 5460 (5.3K) [application/x-gzip]\n",
            "Saving to: ‘ws353simrel.tar.gz’\n",
            "\n",
            "\rws353simrel.tar.gz    0%[                    ]       0  --.-KB/s               \rws353simrel.tar.gz  100%[===================>]   5.33K  --.-KB/s    in 0s      \n",
            "\n",
            "2023-03-30 13:34:54 (486 MB/s) - ‘ws353simrel.tar.gz’ saved [5460/5460]\n",
            "\n",
            "[('tiger', 'cat'), ('tiger', 'tiger'), ('plane', 'car')] [7.35, 10.0, 5.77]\n"
          ]
        }
      ],
      "source": [
        "!wget http://alfonseca.org/pubs/ws353simrel.tar.gz\n",
        "!tar xf ws353simrel.tar.gz\n",
        "\n",
        "path = \"wordsim353_sim_rel/wordsim_similarity_goldstandard.txt\"\n",
        "\n",
        "def load_data(path):\n",
        "    X, y = [], []\n",
        "    with open(path) as f:\n",
        "        for line in f:\n",
        "            line = line.strip().split(\"\\t\")\n",
        "            X.append((line[0], line[1])) # each entry in x contains two words, e.g. X[0] = (tiger, cat)\n",
        "            y.append(float(line[-1])) # each entry in y is the annotation how similar two words are, e.g. Y[0] = 7.35\n",
        "    return X, y\n",
        "\n",
        "X, y = load_data(path)\n",
        "print (X[:3], y[:3])"
      ]
    },
    {
      "cell_type": "code",
      "execution_count": 14,
      "id": "9c8ced33",
      "metadata": {
        "id": "9c8ced33",
        "outputId": "2a730d40-973f-4960-d26a-3f81ae29662f",
        "colab": {
          "base_uri": "https://localhost:8080/"
        }
      },
      "outputs": [
        {
          "output_type": "stream",
          "name": "stdout",
          "text": [
            "[0.61210567, 1.0, 0.4190455]\n"
          ]
        }
      ],
      "source": [
        "##TODO compute how similar the pairs in the WordSim353 are according to our model\n",
        "# if a word is not present in our model, we assign similarity 0 for the respective text pair\n",
        "\n",
        "sim_scores = []\n",
        "\n",
        "for pair in X:\n",
        "    try:\n",
        "        score = model.wv.similarity(pair[0], pair[1])\n",
        "    except KeyError:\n",
        "        score = 0.0\n",
        "    \n",
        "    sim_scores.append(score)\n",
        "\n",
        "print(sim_scores[:3])"
      ]
    },
    {
      "cell_type": "code",
      "execution_count": 17,
      "id": "ebd47f93",
      "metadata": {
        "id": "ebd47f93",
        "outputId": "2ed797cb-3493-417e-a22b-b71b95f463f6",
        "colab": {
          "base_uri": "https://localhost:8080/"
        }
      },
      "outputs": [
        {
          "output_type": "stream",
          "name": "stdout",
          "text": [
            "0.6463631577377009\n"
          ]
        }
      ],
      "source": [
        "from scipy.stats import spearmanr\n",
        "\n",
        "##TODO compute spearman's rank correlation between our prediction and the human annotations\n",
        "\n",
        "correlation, _ = spearmanr(y, sim_scores)\n",
        "\n",
        "print(correlation)"
      ]
    },
    {
      "cell_type": "code",
      "execution_count": 19,
      "id": "9ec86899",
      "metadata": {
        "id": "9ec86899",
        "outputId": "fdac69c3-8e30-4dc9-cd36-8f46909c2428",
        "colab": {
          "base_uri": "https://localhost:8080/"
        }
      },
      "outputs": [
        {
          "output_type": "stream",
          "name": "stderr",
          "text": [
            "<ipython-input-19-e68eac66da0e>:12: UserWarning: [W007] The model you're using has no word vectors loaded, so the result of the Doc.similarity method will be based on the tagger, parser and NER, which may not give useful similarity judgements. This may happen if you're using one of the small models, e.g. `en_core_web_sm`, which don't ship with word vectors and only use context-sensitive tensors. You can always add your own word vectors, or use one of the larger models instead if available.\n",
            "  score = word1.similarity(word2)\n"
          ]
        },
        {
          "output_type": "stream",
          "name": "stdout",
          "text": [
            "[0.6628428894742415, 1.0, 0.7974166052761725]\n",
            "0.0917488312498204\n"
          ]
        }
      ],
      "source": [
        "import spacy\n",
        "en = spacy.load('en_core_web_sm')\n",
        "\n",
        "##TODO compute word similarities in the WordSim353 dataset using spaCy word embeddings\n",
        "\n",
        "sim_scores = []\n",
        "\n",
        "for pair in X:\n",
        "    word1 = en(pair[0])\n",
        "    word2 = en(pair[1])\n",
        "\n",
        "    score = word1.similarity(word2)\n",
        "    sim_scores.append(score)\n",
        "\n",
        "print(sim_scores[:3])\n",
        "\n",
        "##TODO compute spearman's rank correlation between these similarities and the human annotations\n",
        "# Don't worry if results are not too convincing for this experiment\n",
        "\n",
        "correlation, _ = spearmanr(y, sim_scores)\n",
        "\n",
        "print(correlation)"
      ]
    },
    {
      "cell_type": "markdown",
      "id": "d29de774",
      "metadata": {
        "id": "d29de774"
      },
      "source": [
        "**PyTorch Embeddings**"
      ]
    },
    {
      "cell_type": "code",
      "execution_count": 20,
      "id": "3927e048",
      "metadata": {
        "ExecuteTime": {
          "end_time": "2022-03-22T21:42:21.281177Z",
          "start_time": "2022-03-22T21:42:21.208787Z"
        },
        "id": "3927e048",
        "outputId": "eece05a3-2295-4e39-fe6b-611115158af1",
        "colab": {
          "base_uri": "https://localhost:8080/",
          "height": 540
        }
      },
      "outputs": [
        {
          "output_type": "stream",
          "name": "stdout",
          "text": [
            "--2023-03-30 14:01:47--  https://raw.githubusercontent.com/mhjabreel/CharCnn_Keras/master/data/ag_news_csv/train.csv\n",
            "Resolving raw.githubusercontent.com (raw.githubusercontent.com)... 185.199.109.133, 185.199.110.133, 185.199.111.133, ...\n",
            "Connecting to raw.githubusercontent.com (raw.githubusercontent.com)|185.199.109.133|:443... connected.\n",
            "HTTP request sent, awaiting response... 200 OK\n",
            "Length: 29470338 (28M) [text/plain]\n",
            "Saving to: ‘train.csv’\n",
            "\n",
            "train.csv           100%[===================>]  28.10M   166MB/s    in 0.2s    \n",
            "\n",
            "2023-03-30 14:01:47 (166 MB/s) - ‘train.csv’ saved [29470338/29470338]\n",
            "\n"
          ]
        },
        {
          "output_type": "execute_result",
          "data": {
            "text/plain": [
              "           label                                             title  \\\n",
              "17149      world    Israel Hints at Military Action Vs. Syria (AP)   \n",
              "115124  sci/tech          Geminid Meteor Shower Peaks Monday Night   \n",
              "78660      world            Iran votes to resume nuclear programme   \n",
              "7091    sci/tech            2 Vietnamese die of unidentified virus   \n",
              "17259   business  Lucent Says It May Get  #36;816M Tax Refund (AP)   \n",
              "\n",
              "                                                     lead  \\\n",
              "17149   AP - Israel ratcheted up its rhetoric against ...   \n",
              "115124  Viewing conditions could be just right to try ...   \n",
              "78660   The Iranian parliament, which is dominated by ...   \n",
              "7091    Among three recent human deaths in Vietnam #39...   \n",
              "17259   AP - Telecommunications gear maker Lucent Tech...   \n",
              "\n",
              "                                                     text  \n",
              "17149   Israel Hints at Military Action Vs. Syria (AP)...  \n",
              "115124  Geminid Meteor Shower Peaks Monday Night Viewi...  \n",
              "78660   Iran votes to resume nuclear programme The Ira...  \n",
              "7091    2 Vietnamese die of unidentified virus Among t...  \n",
              "17259   Lucent Says It May Get  #36;816M Tax Refund (A...  "
            ],
            "text/html": [
              "\n",
              "  <div id=\"df-fc7a7c7e-f57c-4efa-bc3d-0b2e72180587\">\n",
              "    <div class=\"colab-df-container\">\n",
              "      <div>\n",
              "<style scoped>\n",
              "    .dataframe tbody tr th:only-of-type {\n",
              "        vertical-align: middle;\n",
              "    }\n",
              "\n",
              "    .dataframe tbody tr th {\n",
              "        vertical-align: top;\n",
              "    }\n",
              "\n",
              "    .dataframe thead th {\n",
              "        text-align: right;\n",
              "    }\n",
              "</style>\n",
              "<table border=\"1\" class=\"dataframe\">\n",
              "  <thead>\n",
              "    <tr style=\"text-align: right;\">\n",
              "      <th></th>\n",
              "      <th>label</th>\n",
              "      <th>title</th>\n",
              "      <th>lead</th>\n",
              "      <th>text</th>\n",
              "    </tr>\n",
              "  </thead>\n",
              "  <tbody>\n",
              "    <tr>\n",
              "      <th>17149</th>\n",
              "      <td>world</td>\n",
              "      <td>Israel Hints at Military Action Vs. Syria (AP)</td>\n",
              "      <td>AP - Israel ratcheted up its rhetoric against ...</td>\n",
              "      <td>Israel Hints at Military Action Vs. Syria (AP)...</td>\n",
              "    </tr>\n",
              "    <tr>\n",
              "      <th>115124</th>\n",
              "      <td>sci/tech</td>\n",
              "      <td>Geminid Meteor Shower Peaks Monday Night</td>\n",
              "      <td>Viewing conditions could be just right to try ...</td>\n",
              "      <td>Geminid Meteor Shower Peaks Monday Night Viewi...</td>\n",
              "    </tr>\n",
              "    <tr>\n",
              "      <th>78660</th>\n",
              "      <td>world</td>\n",
              "      <td>Iran votes to resume nuclear programme</td>\n",
              "      <td>The Iranian parliament, which is dominated by ...</td>\n",
              "      <td>Iran votes to resume nuclear programme The Ira...</td>\n",
              "    </tr>\n",
              "    <tr>\n",
              "      <th>7091</th>\n",
              "      <td>sci/tech</td>\n",
              "      <td>2 Vietnamese die of unidentified virus</td>\n",
              "      <td>Among three recent human deaths in Vietnam #39...</td>\n",
              "      <td>2 Vietnamese die of unidentified virus Among t...</td>\n",
              "    </tr>\n",
              "    <tr>\n",
              "      <th>17259</th>\n",
              "      <td>business</td>\n",
              "      <td>Lucent Says It May Get  #36;816M Tax Refund (AP)</td>\n",
              "      <td>AP - Telecommunications gear maker Lucent Tech...</td>\n",
              "      <td>Lucent Says It May Get  #36;816M Tax Refund (A...</td>\n",
              "    </tr>\n",
              "  </tbody>\n",
              "</table>\n",
              "</div>\n",
              "      <button class=\"colab-df-convert\" onclick=\"convertToInteractive('df-fc7a7c7e-f57c-4efa-bc3d-0b2e72180587')\"\n",
              "              title=\"Convert this dataframe to an interactive table.\"\n",
              "              style=\"display:none;\">\n",
              "        \n",
              "  <svg xmlns=\"http://www.w3.org/2000/svg\" height=\"24px\"viewBox=\"0 0 24 24\"\n",
              "       width=\"24px\">\n",
              "    <path d=\"M0 0h24v24H0V0z\" fill=\"none\"/>\n",
              "    <path d=\"M18.56 5.44l.94 2.06.94-2.06 2.06-.94-2.06-.94-.94-2.06-.94 2.06-2.06.94zm-11 1L8.5 8.5l.94-2.06 2.06-.94-2.06-.94L8.5 2.5l-.94 2.06-2.06.94zm10 10l.94 2.06.94-2.06 2.06-.94-2.06-.94-.94-2.06-.94 2.06-2.06.94z\"/><path d=\"M17.41 7.96l-1.37-1.37c-.4-.4-.92-.59-1.43-.59-.52 0-1.04.2-1.43.59L10.3 9.45l-7.72 7.72c-.78.78-.78 2.05 0 2.83L4 21.41c.39.39.9.59 1.41.59.51 0 1.02-.2 1.41-.59l7.78-7.78 2.81-2.81c.8-.78.8-2.07 0-2.86zM5.41 20L4 18.59l7.72-7.72 1.47 1.35L5.41 20z\"/>\n",
              "  </svg>\n",
              "      </button>\n",
              "      \n",
              "  <style>\n",
              "    .colab-df-container {\n",
              "      display:flex;\n",
              "      flex-wrap:wrap;\n",
              "      gap: 12px;\n",
              "    }\n",
              "\n",
              "    .colab-df-convert {\n",
              "      background-color: #E8F0FE;\n",
              "      border: none;\n",
              "      border-radius: 50%;\n",
              "      cursor: pointer;\n",
              "      display: none;\n",
              "      fill: #1967D2;\n",
              "      height: 32px;\n",
              "      padding: 0 0 0 0;\n",
              "      width: 32px;\n",
              "    }\n",
              "\n",
              "    .colab-df-convert:hover {\n",
              "      background-color: #E2EBFA;\n",
              "      box-shadow: 0px 1px 2px rgba(60, 64, 67, 0.3), 0px 1px 3px 1px rgba(60, 64, 67, 0.15);\n",
              "      fill: #174EA6;\n",
              "    }\n",
              "\n",
              "    [theme=dark] .colab-df-convert {\n",
              "      background-color: #3B4455;\n",
              "      fill: #D2E3FC;\n",
              "    }\n",
              "\n",
              "    [theme=dark] .colab-df-convert:hover {\n",
              "      background-color: #434B5C;\n",
              "      box-shadow: 0px 1px 3px 1px rgba(0, 0, 0, 0.15);\n",
              "      filter: drop-shadow(0px 1px 2px rgba(0, 0, 0, 0.3));\n",
              "      fill: #FFFFFF;\n",
              "    }\n",
              "  </style>\n",
              "\n",
              "      <script>\n",
              "        const buttonEl =\n",
              "          document.querySelector('#df-fc7a7c7e-f57c-4efa-bc3d-0b2e72180587 button.colab-df-convert');\n",
              "        buttonEl.style.display =\n",
              "          google.colab.kernel.accessAllowed ? 'block' : 'none';\n",
              "\n",
              "        async function convertToInteractive(key) {\n",
              "          const element = document.querySelector('#df-fc7a7c7e-f57c-4efa-bc3d-0b2e72180587');\n",
              "          const dataTable =\n",
              "            await google.colab.kernel.invokeFunction('convertToInteractive',\n",
              "                                                     [key], {});\n",
              "          if (!dataTable) return;\n",
              "\n",
              "          const docLinkHtml = 'Like what you see? Visit the ' +\n",
              "            '<a target=\"_blank\" href=https://colab.research.google.com/notebooks/data_table.ipynb>data table notebook</a>'\n",
              "            + ' to learn more about interactive tables.';\n",
              "          element.innerHTML = '';\n",
              "          dataTable['output_type'] = 'display_data';\n",
              "          await google.colab.output.renderOutput(dataTable, element);\n",
              "          const docLink = document.createElement('div');\n",
              "          docLink.innerHTML = docLinkHtml;\n",
              "          element.appendChild(docLink);\n",
              "        }\n",
              "      </script>\n",
              "    </div>\n",
              "  </div>\n",
              "  "
            ]
          },
          "metadata": {},
          "execution_count": 20
        }
      ],
      "source": [
        "#Import the AG news dataset (same as hw01)\n",
        "#Download them from here \n",
        "# !wget https://raw.githubusercontent.com/mhjabreel/CharCnn_Keras/master/data/ag_news_csv/train.csv\n",
        "\n",
        "import pandas as pd\n",
        "import nltk\n",
        "df = pd.read_csv('train.csv')\n",
        "\n",
        "df.columns = [\"label\", \"title\", \"lead\"]\n",
        "label_map = {1:\"world\", 2:\"sport\", 3:\"business\", 4:\"sci/tech\"}\n",
        "def replace_label(x):\n",
        "\treturn label_map[x]\n",
        "df[\"label\"] = df[\"label\"].apply(replace_label) \n",
        "df[\"text\"] = df[\"title\"] + \" \" + df[\"lead\"]\n",
        "df = df.sample(n=10000) # # only use 10K datapoints\n",
        "df.head()"
      ]
    },
    {
      "cell_type": "code",
      "execution_count": 22,
      "id": "a49d6b6e",
      "metadata": {
        "ExecuteTime": {
          "end_time": "2022-03-22T21:40:20.385383Z",
          "start_time": "2022-03-22T21:40:18.447956Z"
        },
        "id": "a49d6b6e",
        "outputId": "52bc35d7-3ad6-43f7-d439-ce2259c8a8a5",
        "colab": {
          "base_uri": "https://localhost:8080/"
        }
      },
      "outputs": [
        {
          "output_type": "stream",
          "name": "stdout",
          "text": [
            "{'more', 'world', 'to', 'he', 'president', 'former', 'first', 'court', 'space', 'n', 'as', 'microsoft', 'gt', 'no', 'and', 'would', 'years', 'b', 'technology', 'into', 'a', 'u', 'had', 'you', 'international', 'american', 'get', 'next', 'reported', 'what', 'south', 'oil', 'bush', 'this', 'google', 'their', 'co', 'made', 'day', 's', 'make', 'afp', 'officials', 'the', 'reuters', 'yesterday', 'been', 'third', 'year', 'after', 'week', 'software', 'company', 'they', 'it', 'york', 'deal', 'victory', 'quarter', 'just', 'computer', 'market', 'killed', 'may', 'expected', 'news', 'of', 'billion', 'said', 'san', 'night', 'washington', 'wednesday', 'could', 'announced', 'profit', 'high', 'when', 'end', 'help', 'will', 'home', 'by', 'says', 'plans', 'about', 'against', 't', 'last', 'lead', 'season', 'four', 'out', 'tuesday', 'three', 'be', 'coach', 'bank', 'its', 'an', 'thursday', 'million', 'chief', 'but', 'largest', 'cup', 'service', 'some', 'one', 'second', 'report', 'won', 'two', 'open', 'games', 'election', 'china', 'most', 'fullquote', 'for', 'can', 'were', 'iraq', 'which', 'british', 'european', 'who', 'ap', 'over', 'new', 'saturday', 'talks', 'inc', 'on', 'with', 'state', 'all', 'set', 'league', 'from', 'up', 'before', 'his', 'other', 'states', 'us', 'police', 'country', 'monday', 'have', 'sunday', 'win', 'now', 'game', 'in', 'top', 'record', 'not', 'or', 'final', 'is', 'team', 'city', 'prices', 'sales', 'time', 'target', 'at', 'are', 'five', 'united', 'lt', 'stocks', 'off', 'federal', 'back', 'today', 'online', 'quot', 'minister', 'if', 'people', 'i', 'government', 'iraqi', 'corp', 'that', 'has', 'was', 'com', 'business', 'percent', 'friday', 'month', 'group', 'down', 'security', 'under', 'internet', 'than'}\n"
          ]
        }
      ],
      "source": [
        "vocab = 200\n",
        "##TODO tokenize the text, only keep 200 most frequent words \n",
        "\n",
        "from gensim.utils import tokenize\n",
        "from collections import Counter\n",
        "\n",
        "tokenized_text = [list(tokenize(t, lowercase = True)) for t in df['text']]\n",
        "\n",
        "\n",
        "whole_corpus = []\n",
        "\n",
        "for t in tokenized_text:\n",
        "    whole_corpus.extend(t)\n",
        "\n",
        "\n",
        "common_words = set([t[0] for t in Counter(whole_corpus).most_common(200)])\n",
        "\n",
        "print(common_words)"
      ]
    },
    {
      "cell_type": "code",
      "execution_count": 30,
      "id": "c4c0f840",
      "metadata": {
        "ExecuteTime": {
          "end_time": "2022-03-22T21:40:23.322875Z",
          "start_time": "2022-03-22T21:40:23.311923Z"
        },
        "id": "c4c0f840",
        "outputId": "102fc9eb-c144-4b27-d655-27186a030f10",
        "colab": {
          "base_uri": "https://localhost:8080/"
        }
      },
      "outputs": [
        {
          "output_type": "stream",
          "name": "stdout",
          "text": [
            "[8172, 7716, 9245, 4905, 5407, 7037, 276, 7261, 7261, 8172, 3774, 702, 8015, 1977, 6987, 276, 4960, 9534, 6505, 1323, 1325, 4905, 5407, 5296, 4381, 4105, 2063, 8850, 9590, 4371, 995, 8172]\n"
          ]
        },
        {
          "output_type": "execute_result",
          "data": {
            "text/plain": [
              "(10000, 100)"
            ]
          },
          "metadata": {},
          "execution_count": 30
        }
      ],
      "source": [
        "length = 100\n",
        "#TODO create a one_hot representation for each word and truncate/pad the sequences such that they are all of the same length (here we use 100)\n",
        "\n",
        "# !pip install Keras-Preprocessing\n",
        "from keras.preprocessing.text import one_hot\n",
        "from keras_preprocessing.sequence import pad_sequences\n",
        "\n",
        "X_one_hot = [one_hot(opinion, n=len(df)) for opinion in df['text']]\n",
        "print(X_one_hot[0][:50])\n",
        "\n",
        "X_one_hot_padded = pad_sequences(X_one_hot, padding='post', maxlen=100, truncating='post')\n",
        "X_one_hot_padded.shape"
      ]
    },
    {
      "cell_type": "code",
      "execution_count": 33,
      "id": "c3d193dd",
      "metadata": {
        "ExecuteTime": {
          "end_time": "2022-03-22T21:40:28.364553Z",
          "start_time": "2022-03-22T21:40:28.354695Z"
        },
        "id": "c3d193dd"
      },
      "outputs": [],
      "source": [
        "##TODO create your torch embedding like we did in notebook 5! (hint: predicting labels: world, sport, business, and sci/tech)\n",
        "\n",
        "import torch\n",
        "import torch.nn as nn\n",
        "import torch.nn.functional as F\n",
        "from torch.utils.data import Dataset, DataLoader\n",
        "\n",
        "class EmbeddingNet(nn.Module):\n",
        "    def __init__(self, num_judges):\n",
        "        super(EmbeddingNet, self).__init__()\n",
        "        self.embedding = nn.Embedding(num_judges, 2)\n",
        "        self.flatten = nn.Flatten()\n",
        "        self.fc1 = nn.Linear(2, 2)\n",
        "        self.fc2 = nn.Linear(2, 1)\n",
        "        self.sigmoid = nn.Sigmoid()\n",
        "\n",
        "    def forward(self, x):\n",
        "        x = self.embedding(x)\n",
        "        x = self.flatten(x)\n",
        "        x = self.fc1(x)\n",
        "        x = self.fc2(x)\n",
        "        x = self.sigmoid(x)\n",
        "        return x\n",
        "\n",
        "class GenericDataset(Dataset):\n",
        "    def __init__(self, X, y):\n",
        "        self.X = X\n",
        "        self.y = y\n",
        "\n",
        "    def __len__(self):\n",
        "        return len(self.y)\n",
        "\n",
        "    def __getitem__(self, index):\n",
        "        return self.X[index], self.y[index]"
      ]
    },
    {
      "cell_type": "code",
      "execution_count": null,
      "id": "2cac3bd2",
      "metadata": {
        "id": "2cac3bd2"
      },
      "outputs": [],
      "source": []
    }
  ],
  "metadata": {
    "kernelspec": {
      "display_name": "Python 3 (ipykernel)",
      "language": "python",
      "name": "python3"
    },
    "language_info": {
      "codemirror_mode": {
        "name": "ipython",
        "version": 3
      },
      "file_extension": ".py",
      "mimetype": "text/x-python",
      "name": "python",
      "nbconvert_exporter": "python",
      "pygments_lexer": "ipython3",
      "version": "3.8.10"
    },
    "toc": {
      "base_numbering": 1,
      "nav_menu": {},
      "number_sections": true,
      "sideBar": true,
      "skip_h1_title": false,
      "title_cell": "Table of Contents",
      "title_sidebar": "Contents",
      "toc_cell": false,
      "toc_position": {},
      "toc_section_display": true,
      "toc_window_display": false
    },
    "colab": {
      "provenance": []
    },
    "gpuClass": "standard"
  },
  "nbformat": 4,
  "nbformat_minor": 5
}