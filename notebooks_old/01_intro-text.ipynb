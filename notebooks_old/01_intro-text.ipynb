{
  "cells": [
    {
      "cell_type": "markdown",
      "metadata": {
        "id": "tOtBhg32iPRH",
        "toc": true
      },
      "source": [
        "<h1>Week 01. Text Data Essentials<span class=\"tocSkip\"></span></h1>\n",
        "<div class=\"toc\"><ul class=\"toc-item\"><li><span><a href=\"#Week-01.-Introduction-to-Text-Data\" data-toc-modified-id=\"Week-01.-Introduction-to-Text-Data-1\"><span class=\"toc-item-num\">1&nbsp;&nbsp;</span>Week 01. Introduction to Text Data</a></span></li><li><span><a href=\"#Loading-and-Inspecting-Data-with-Pandas\" data-toc-modified-id=\"Loading-and-Inspecting-Data-with-Pandas-2\"><span class=\"toc-item-num\">2&nbsp;&nbsp;</span>Loading and Inspecting Data with Pandas</a></span><ul class=\"toc-item\"><li><span><a href=\"#Iterating-over-documents-in-a-dataframe\" data-toc-modified-id=\"Iterating-over-documents-in-a-dataframe-2.1\"><span class=\"toc-item-num\">2.1&nbsp;&nbsp;</span>Iterating over documents in a dataframe</a></span></li><li><span><a href=\"#Saving-data\" data-toc-modified-id=\"Saving-data-2.2\"><span class=\"toc-item-num\">2.2&nbsp;&nbsp;</span>Saving data</a></span></li></ul></li><li><span><a href=\"#Web-Scraping\" data-toc-modified-id=\"Web-Scraping-3\"><span class=\"toc-item-num\">3&nbsp;&nbsp;</span>Web Scraping</a></span><ul class=\"toc-item\"><li><span><a href=\"#Downloading-URL's\" data-toc-modified-id=\"Downloading-URL's-3.1\"><span class=\"toc-item-num\">3.1&nbsp;&nbsp;</span>Downloading URL's</a></span></li><li><span><a href=\"#Parsing-HTML\" data-toc-modified-id=\"Parsing-HTML-3.2\"><span class=\"toc-item-num\">3.2&nbsp;&nbsp;</span>Parsing HTML</a></span></li><li><span><a href=\"#Removing-unicode-characters\" data-toc-modified-id=\"Removing-unicode-characters-3.3\"><span class=\"toc-item-num\">3.3&nbsp;&nbsp;</span>Removing unicode characters</a></span></li></ul></li><li><span><a href=\"#Quantity-of-Text\" data-toc-modified-id=\"Quantity-of-Text-4\"><span class=\"toc-item-num\">4&nbsp;&nbsp;</span>Quantity of Text</a></span></li><li><span><a href=\"#Dictionary-/-Matching-Methods\" data-toc-modified-id=\"Dictionary-/-Matching-Methods-5\"><span class=\"toc-item-num\">5&nbsp;&nbsp;</span>Dictionary / Matching Methods</a></span><ul class=\"toc-item\"><li><span><a href=\"#Sentiment-Analysis\" data-toc-modified-id=\"Sentiment-Analysis-5.1\"><span class=\"toc-item-num\">5.1&nbsp;&nbsp;</span>Sentiment Analysis</a></span></li><li><span><a href=\"#Sentiment-Analysis-with-Huggingface\" data-toc-modified-id=\"Sentiment-Analysis-with-Huggingface-5.2\"><span class=\"toc-item-num\">5.2&nbsp;&nbsp;</span>Sentiment Analysis with Huggingface</a></span></li><li><span><a href=\"#StopWords\" data-toc-modified-id=\"StopWords-5.3\"><span class=\"toc-item-num\">5.3&nbsp;&nbsp;</span>StopWords</a></span></li><li><span><a href=\"#RegEx\" data-toc-modified-id=\"RegEx-5.4\"><span class=\"toc-item-num\">5.4&nbsp;&nbsp;</span>RegEx</a></span></li><li><span><a href=\"#WordNet\" data-toc-modified-id=\"WordNet-5.5\"><span class=\"toc-item-num\">5.5&nbsp;&nbsp;</span>WordNet</a></span></li></ul></li></ul></div>"
      ]
    },
    {
      "cell_type": "markdown",
      "metadata": {
        "id": "4-77X1aJiPRI"
      },
      "source": [
        "# Week 01. Introduction to Text Data\n",
        "\n",
        "Natural Language Processing for Law and Social Science<br>\n",
        "Elliott Ash, ETH Zurich"
      ]
    },
    {
      "cell_type": "code",
      "execution_count": 1,
      "metadata": {
        "ExecuteTime": {
          "end_time": "2022-03-03T18:54:19.066847Z",
          "start_time": "2022-03-03T18:54:18.994527Z"
        },
        "id": "zy4aS2hwiPRJ"
      },
      "outputs": [],
      "source": [
        "# set random seed\n",
        "import numpy as np\n",
        "np.random.seed(4)"
      ]
    },
    {
      "cell_type": "markdown",
      "metadata": {
        "id": "vJ3kJlKbiPRJ"
      },
      "source": [
        "# Loading and Inspecting Data with Pandas"
      ]
    },
    {
      "cell_type": "code",
      "execution_count": 14,
      "metadata": {
        "colab": {
          "base_uri": "https://localhost:8080/",
          "height": 75
        },
        "id": "YzuCn-aErAgl",
        "outputId": "11a8bb4b-1719-464e-f5d7-482235118331"
      },
      "outputs": [
        {
          "data": {
            "text/html": [
              "\n",
              "     <input type=\"file\" id=\"files-c43c564c-59b5-4c54-b3d2-00eb21376966\" name=\"files[]\" multiple disabled\n",
              "        style=\"border:none\" />\n",
              "     <output id=\"result-c43c564c-59b5-4c54-b3d2-00eb21376966\">\n",
              "      Upload widget is only available when the cell has been executed in the\n",
              "      current browser session. Please rerun this cell to enable.\n",
              "      </output>\n",
              "      <script>// Copyright 2017 Google LLC\n",
              "//\n",
              "// Licensed under the Apache License, Version 2.0 (the \"License\");\n",
              "// you may not use this file except in compliance with the License.\n",
              "// You may obtain a copy of the License at\n",
              "//\n",
              "//      http://www.apache.org/licenses/LICENSE-2.0\n",
              "//\n",
              "// Unless required by applicable law or agreed to in writing, software\n",
              "// distributed under the License is distributed on an \"AS IS\" BASIS,\n",
              "// WITHOUT WARRANTIES OR CONDITIONS OF ANY KIND, either express or implied.\n",
              "// See the License for the specific language governing permissions and\n",
              "// limitations under the License.\n",
              "\n",
              "/**\n",
              " * @fileoverview Helpers for google.colab Python module.\n",
              " */\n",
              "(function(scope) {\n",
              "function span(text, styleAttributes = {}) {\n",
              "  const element = document.createElement('span');\n",
              "  element.textContent = text;\n",
              "  for (const key of Object.keys(styleAttributes)) {\n",
              "    element.style[key] = styleAttributes[key];\n",
              "  }\n",
              "  return element;\n",
              "}\n",
              "\n",
              "// Max number of bytes which will be uploaded at a time.\n",
              "const MAX_PAYLOAD_SIZE = 100 * 1024;\n",
              "\n",
              "function _uploadFiles(inputId, outputId) {\n",
              "  const steps = uploadFilesStep(inputId, outputId);\n",
              "  const outputElement = document.getElementById(outputId);\n",
              "  // Cache steps on the outputElement to make it available for the next call\n",
              "  // to uploadFilesContinue from Python.\n",
              "  outputElement.steps = steps;\n",
              "\n",
              "  return _uploadFilesContinue(outputId);\n",
              "}\n",
              "\n",
              "// This is roughly an async generator (not supported in the browser yet),\n",
              "// where there are multiple asynchronous steps and the Python side is going\n",
              "// to poll for completion of each step.\n",
              "// This uses a Promise to block the python side on completion of each step,\n",
              "// then passes the result of the previous step as the input to the next step.\n",
              "function _uploadFilesContinue(outputId) {\n",
              "  const outputElement = document.getElementById(outputId);\n",
              "  const steps = outputElement.steps;\n",
              "\n",
              "  const next = steps.next(outputElement.lastPromiseValue);\n",
              "  return Promise.resolve(next.value.promise).then((value) => {\n",
              "    // Cache the last promise value to make it available to the next\n",
              "    // step of the generator.\n",
              "    outputElement.lastPromiseValue = value;\n",
              "    return next.value.response;\n",
              "  });\n",
              "}\n",
              "\n",
              "/**\n",
              " * Generator function which is called between each async step of the upload\n",
              " * process.\n",
              " * @param {string} inputId Element ID of the input file picker element.\n",
              " * @param {string} outputId Element ID of the output display.\n",
              " * @return {!Iterable<!Object>} Iterable of next steps.\n",
              " */\n",
              "function* uploadFilesStep(inputId, outputId) {\n",
              "  const inputElement = document.getElementById(inputId);\n",
              "  inputElement.disabled = false;\n",
              "\n",
              "  const outputElement = document.getElementById(outputId);\n",
              "  outputElement.innerHTML = '';\n",
              "\n",
              "  const pickedPromise = new Promise((resolve) => {\n",
              "    inputElement.addEventListener('change', (e) => {\n",
              "      resolve(e.target.files);\n",
              "    });\n",
              "  });\n",
              "\n",
              "  const cancel = document.createElement('button');\n",
              "  inputElement.parentElement.appendChild(cancel);\n",
              "  cancel.textContent = 'Cancel upload';\n",
              "  const cancelPromise = new Promise((resolve) => {\n",
              "    cancel.onclick = () => {\n",
              "      resolve(null);\n",
              "    };\n",
              "  });\n",
              "\n",
              "  // Wait for the user to pick the files.\n",
              "  const files = yield {\n",
              "    promise: Promise.race([pickedPromise, cancelPromise]),\n",
              "    response: {\n",
              "      action: 'starting',\n",
              "    }\n",
              "  };\n",
              "\n",
              "  cancel.remove();\n",
              "\n",
              "  // Disable the input element since further picks are not allowed.\n",
              "  inputElement.disabled = true;\n",
              "\n",
              "  if (!files) {\n",
              "    return {\n",
              "      response: {\n",
              "        action: 'complete',\n",
              "      }\n",
              "    };\n",
              "  }\n",
              "\n",
              "  for (const file of files) {\n",
              "    const li = document.createElement('li');\n",
              "    li.append(span(file.name, {fontWeight: 'bold'}));\n",
              "    li.append(span(\n",
              "        `(${file.type || 'n/a'}) - ${file.size} bytes, ` +\n",
              "        `last modified: ${\n",
              "            file.lastModifiedDate ? file.lastModifiedDate.toLocaleDateString() :\n",
              "                                    'n/a'} - `));\n",
              "    const percent = span('0% done');\n",
              "    li.appendChild(percent);\n",
              "\n",
              "    outputElement.appendChild(li);\n",
              "\n",
              "    const fileDataPromise = new Promise((resolve) => {\n",
              "      const reader = new FileReader();\n",
              "      reader.onload = (e) => {\n",
              "        resolve(e.target.result);\n",
              "      };\n",
              "      reader.readAsArrayBuffer(file);\n",
              "    });\n",
              "    // Wait for the data to be ready.\n",
              "    let fileData = yield {\n",
              "      promise: fileDataPromise,\n",
              "      response: {\n",
              "        action: 'continue',\n",
              "      }\n",
              "    };\n",
              "\n",
              "    // Use a chunked sending to avoid message size limits. See b/62115660.\n",
              "    let position = 0;\n",
              "    do {\n",
              "      const length = Math.min(fileData.byteLength - position, MAX_PAYLOAD_SIZE);\n",
              "      const chunk = new Uint8Array(fileData, position, length);\n",
              "      position += length;\n",
              "\n",
              "      const base64 = btoa(String.fromCharCode.apply(null, chunk));\n",
              "      yield {\n",
              "        response: {\n",
              "          action: 'append',\n",
              "          file: file.name,\n",
              "          data: base64,\n",
              "        },\n",
              "      };\n",
              "\n",
              "      let percentDone = fileData.byteLength === 0 ?\n",
              "          100 :\n",
              "          Math.round((position / fileData.byteLength) * 100);\n",
              "      percent.textContent = `${percentDone}% done`;\n",
              "\n",
              "    } while (position < fileData.byteLength);\n",
              "  }\n",
              "\n",
              "  // All done.\n",
              "  yield {\n",
              "    response: {\n",
              "      action: 'complete',\n",
              "    }\n",
              "  };\n",
              "}\n",
              "\n",
              "scope.google = scope.google || {};\n",
              "scope.google.colab = scope.google.colab || {};\n",
              "scope.google.colab._files = {\n",
              "  _uploadFiles,\n",
              "  _uploadFilesContinue,\n",
              "};\n",
              "})(self);\n",
              "</script> "
            ],
            "text/plain": [
              "<IPython.core.display.HTML object>"
            ]
          },
          "metadata": {},
          "output_type": "display_data"
        },
        {
          "name": "stdout",
          "output_type": "stream",
          "text": [
            "Saving sc_cases.zip to sc_cases.zip\n"
          ]
        }
      ],
      "source": [
        "# If you are using Google Colab, here's the code to load the zip file from local. \n",
        "# Or you can load from other source, see: https://towardsdatascience.com/3-ways-to-load-csv-files-into-colab-7c14fcbdcb92\n",
        "from google.colab import files\n",
        "uploaded = files.upload()"
      ]
    },
    {
      "cell_type": "code",
      "execution_count": 15,
      "metadata": {
        "ExecuteTime": {
          "end_time": "2022-03-03T18:54:19.954764Z",
          "start_time": "2022-03-03T18:54:19.506368Z"
        },
        "id": "EA5kAYRQiPRJ"
      },
      "outputs": [],
      "source": [
        "#import warnings; warnings.simplefilter('ignore')\n",
        "# !pip install pandas\n",
        "import pandas as pd\n",
        "df = pd.read_csv('sc_cases.zip',compression='gzip')"
      ]
    },
    {
      "cell_type": "code",
      "execution_count": null,
      "metadata": {
        "ExecuteTime": {
          "end_time": "2022-03-03T18:54:19.961024Z",
          "start_time": "2022-03-03T18:54:19.955791Z"
        },
        "id": "5wC6f07iiPRJ",
        "outputId": "e5acb07f-3035-4614-864e-abaf5d76ff0a"
      },
      "outputs": [
        {
          "name": "stdout",
          "output_type": "stream",
          "text": [
            "<class 'pandas.core.frame.DataFrame'>\n",
            "RangeIndex: 820 entries, 0 to 819\n",
            "Data columns (total 10 columns):\n",
            " #   Column          Non-Null Count  Dtype  \n",
            "---  ------          --------------  -----  \n",
            " 0   case_name       786 non-null    object \n",
            " 1   opinion_type    820 non-null    object \n",
            " 2   date_standard   820 non-null    object \n",
            " 3   authorship      820 non-null    object \n",
            " 4   x_republican    803 non-null    float64\n",
            " 5   maj_judges      786 non-null    object \n",
            " 6   dissent_judges  786 non-null    object \n",
            " 7   topic_id        786 non-null    float64\n",
            " 8   cite_count      812 non-null    float64\n",
            " 9   opinion_text    820 non-null    object \n",
            "dtypes: float64(3), object(7)\n",
            "memory usage: 64.2+ KB\n"
          ]
        }
      ],
      "source": [
        "df.info() "
      ]
    },
    {
      "cell_type": "code",
      "execution_count": 16,
      "metadata": {
        "ExecuteTime": {
          "end_time": "2022-03-03T18:54:19.970882Z",
          "start_time": "2022-03-03T18:54:19.961700Z"
        },
        "colab": {
          "base_uri": "https://localhost:8080/",
          "height": 406
        },
        "id": "pOOY6lNdiPRK",
        "outputId": "ed8fb1b4-51b6-4550-98af-fd3d1dae89e1"
      },
      "outputs": [
        {
          "data": {
            "text/html": [
              "\n",
              "  <div id=\"df-1d1bd558-2718-4c3a-9e89-5dbd6020cfb1\">\n",
              "    <div class=\"colab-df-container\">\n",
              "      <div>\n",
              "<style scoped>\n",
              "    .dataframe tbody tr th:only-of-type {\n",
              "        vertical-align: middle;\n",
              "    }\n",
              "\n",
              "    .dataframe tbody tr th {\n",
              "        vertical-align: top;\n",
              "    }\n",
              "\n",
              "    .dataframe thead th {\n",
              "        text-align: right;\n",
              "    }\n",
              "</style>\n",
              "<table border=\"1\" class=\"dataframe\">\n",
              "  <thead>\n",
              "    <tr style=\"text-align: right;\">\n",
              "      <th></th>\n",
              "      <th>case_name</th>\n",
              "      <th>opinion_type</th>\n",
              "      <th>date_standard</th>\n",
              "      <th>authorship</th>\n",
              "      <th>x_republican</th>\n",
              "      <th>maj_judges</th>\n",
              "      <th>dissent_judges</th>\n",
              "      <th>topic_id</th>\n",
              "      <th>cite_count</th>\n",
              "      <th>opinion_text</th>\n",
              "    </tr>\n",
              "  </thead>\n",
              "  <tbody>\n",
              "    <tr>\n",
              "      <th>0</th>\n",
              "      <td>ERICK CORNELL CLAY v. UNITED STATES</td>\n",
              "      <td>majority</td>\n",
              "      <td>2003-03-04</td>\n",
              "      <td>GINSBURG</td>\n",
              "      <td>0.0</td>\n",
              "      <td>['BREYER, STEPHEN', 'GINSBURG, RUTH', 'KENNEDY...</td>\n",
              "      <td>[]</td>\n",
              "      <td>1.0</td>\n",
              "      <td>2926.0</td>\n",
              "      <td>JUSTICE GINSBURG delivered the opinion of the ...</td>\n",
              "    </tr>\n",
              "    <tr>\n",
              "      <th>1</th>\n",
              "      <td>HILLSIDE DAIRY INC., A&amp;A DAIRY, L&amp;S DAIRY, AND...</td>\n",
              "      <td>majority</td>\n",
              "      <td>2003-06-09</td>\n",
              "      <td>STEVENS</td>\n",
              "      <td>1.0</td>\n",
              "      <td>['BREYER, STEPHEN', 'GINSBURG, RUTH', 'KENNEDY...</td>\n",
              "      <td>['THOMAS, CLARENCE']</td>\n",
              "      <td>8.0</td>\n",
              "      <td>117.0</td>\n",
              "      <td>Justice Stevens delivered the opinion of the C...</td>\n",
              "    </tr>\n",
              "    <tr>\n",
              "      <th>2</th>\n",
              "      <td>CHARLES RUSSELL RHINES v. DOUGLAS WEBER, WARDEN</td>\n",
              "      <td>majority</td>\n",
              "      <td>2005-03-30</td>\n",
              "      <td>O'CONNOR</td>\n",
              "      <td>1.0</td>\n",
              "      <td>['BREYER, STEPHEN', 'GINSBURG, RUTH', 'KENNEDY...</td>\n",
              "      <td>[]</td>\n",
              "      <td>1.0</td>\n",
              "      <td>23364.0</td>\n",
              "      <td>Justice O'Connor delivered the opinion of the ...</td>\n",
              "    </tr>\n",
              "    <tr>\n",
              "      <th>3</th>\n",
              "      <td>NaN</td>\n",
              "      <td>majority</td>\n",
              "      <td>2005-04-15</td>\n",
              "      <td>KENNEDY</td>\n",
              "      <td>1.0</td>\n",
              "      <td>NaN</td>\n",
              "      <td>NaN</td>\n",
              "      <td>NaN</td>\n",
              "      <td>6.0</td>\n",
              "      <td>Justice Kennedy, Circuit Justice. \\n\\n This is...</td>\n",
              "    </tr>\n",
              "    <tr>\n",
              "      <th>4</th>\n",
              "      <td>STATE OF ALASKA v. UNITED STATES OF AMERICA</td>\n",
              "      <td>majority</td>\n",
              "      <td>2005-06-06</td>\n",
              "      <td>KENNEDY</td>\n",
              "      <td>1.0</td>\n",
              "      <td>['BREYER, STEPHEN', 'GINSBURG, RUTH', 'KENNEDY...</td>\n",
              "      <td>['REHNQUIST, WILLIAM', 'SCALIA, ANTONIN', 'THO...</td>\n",
              "      <td>10.0</td>\n",
              "      <td>84.0</td>\n",
              "      <td>Justice Kennedy delivered the opinion of the C...</td>\n",
              "    </tr>\n",
              "  </tbody>\n",
              "</table>\n",
              "</div>\n",
              "      <button class=\"colab-df-convert\" onclick=\"convertToInteractive('df-1d1bd558-2718-4c3a-9e89-5dbd6020cfb1')\"\n",
              "              title=\"Convert this dataframe to an interactive table.\"\n",
              "              style=\"display:none;\">\n",
              "        \n",
              "  <svg xmlns=\"http://www.w3.org/2000/svg\" height=\"24px\"viewBox=\"0 0 24 24\"\n",
              "       width=\"24px\">\n",
              "    <path d=\"M0 0h24v24H0V0z\" fill=\"none\"/>\n",
              "    <path d=\"M18.56 5.44l.94 2.06.94-2.06 2.06-.94-2.06-.94-.94-2.06-.94 2.06-2.06.94zm-11 1L8.5 8.5l.94-2.06 2.06-.94-2.06-.94L8.5 2.5l-.94 2.06-2.06.94zm10 10l.94 2.06.94-2.06 2.06-.94-2.06-.94-.94-2.06-.94 2.06-2.06.94z\"/><path d=\"M17.41 7.96l-1.37-1.37c-.4-.4-.92-.59-1.43-.59-.52 0-1.04.2-1.43.59L10.3 9.45l-7.72 7.72c-.78.78-.78 2.05 0 2.83L4 21.41c.39.39.9.59 1.41.59.51 0 1.02-.2 1.41-.59l7.78-7.78 2.81-2.81c.8-.78.8-2.07 0-2.86zM5.41 20L4 18.59l7.72-7.72 1.47 1.35L5.41 20z\"/>\n",
              "  </svg>\n",
              "      </button>\n",
              "      \n",
              "  <style>\n",
              "    .colab-df-container {\n",
              "      display:flex;\n",
              "      flex-wrap:wrap;\n",
              "      gap: 12px;\n",
              "    }\n",
              "\n",
              "    .colab-df-convert {\n",
              "      background-color: #E8F0FE;\n",
              "      border: none;\n",
              "      border-radius: 50%;\n",
              "      cursor: pointer;\n",
              "      display: none;\n",
              "      fill: #1967D2;\n",
              "      height: 32px;\n",
              "      padding: 0 0 0 0;\n",
              "      width: 32px;\n",
              "    }\n",
              "\n",
              "    .colab-df-convert:hover {\n",
              "      background-color: #E2EBFA;\n",
              "      box-shadow: 0px 1px 2px rgba(60, 64, 67, 0.3), 0px 1px 3px 1px rgba(60, 64, 67, 0.15);\n",
              "      fill: #174EA6;\n",
              "    }\n",
              "\n",
              "    [theme=dark] .colab-df-convert {\n",
              "      background-color: #3B4455;\n",
              "      fill: #D2E3FC;\n",
              "    }\n",
              "\n",
              "    [theme=dark] .colab-df-convert:hover {\n",
              "      background-color: #434B5C;\n",
              "      box-shadow: 0px 1px 3px 1px rgba(0, 0, 0, 0.15);\n",
              "      filter: drop-shadow(0px 1px 2px rgba(0, 0, 0, 0.3));\n",
              "      fill: #FFFFFF;\n",
              "    }\n",
              "  </style>\n",
              "\n",
              "      <script>\n",
              "        const buttonEl =\n",
              "          document.querySelector('#df-1d1bd558-2718-4c3a-9e89-5dbd6020cfb1 button.colab-df-convert');\n",
              "        buttonEl.style.display =\n",
              "          google.colab.kernel.accessAllowed ? 'block' : 'none';\n",
              "\n",
              "        async function convertToInteractive(key) {\n",
              "          const element = document.querySelector('#df-1d1bd558-2718-4c3a-9e89-5dbd6020cfb1');\n",
              "          const dataTable =\n",
              "            await google.colab.kernel.invokeFunction('convertToInteractive',\n",
              "                                                     [key], {});\n",
              "          if (!dataTable) return;\n",
              "\n",
              "          const docLinkHtml = 'Like what you see? Visit the ' +\n",
              "            '<a target=\"_blank\" href=https://colab.research.google.com/notebooks/data_table.ipynb>data table notebook</a>'\n",
              "            + ' to learn more about interactive tables.';\n",
              "          element.innerHTML = '';\n",
              "          dataTable['output_type'] = 'display_data';\n",
              "          await google.colab.output.renderOutput(dataTable, element);\n",
              "          const docLink = document.createElement('div');\n",
              "          docLink.innerHTML = docLinkHtml;\n",
              "          element.appendChild(docLink);\n",
              "        }\n",
              "      </script>\n",
              "    </div>\n",
              "  </div>\n",
              "  "
            ],
            "text/plain": [
              "                                           case_name opinion_type  \\\n",
              "0                ERICK CORNELL CLAY v. UNITED STATES     majority   \n",
              "1  HILLSIDE DAIRY INC., A&A DAIRY, L&S DAIRY, AND...     majority   \n",
              "2    CHARLES RUSSELL RHINES v. DOUGLAS WEBER, WARDEN     majority   \n",
              "3                                                NaN     majority   \n",
              "4        STATE OF ALASKA v. UNITED STATES OF AMERICA     majority   \n",
              "\n",
              "  date_standard authorship  x_republican  \\\n",
              "0    2003-03-04   GINSBURG           0.0   \n",
              "1    2003-06-09    STEVENS           1.0   \n",
              "2    2005-03-30   O'CONNOR           1.0   \n",
              "3    2005-04-15    KENNEDY           1.0   \n",
              "4    2005-06-06    KENNEDY           1.0   \n",
              "\n",
              "                                          maj_judges  \\\n",
              "0  ['BREYER, STEPHEN', 'GINSBURG, RUTH', 'KENNEDY...   \n",
              "1  ['BREYER, STEPHEN', 'GINSBURG, RUTH', 'KENNEDY...   \n",
              "2  ['BREYER, STEPHEN', 'GINSBURG, RUTH', 'KENNEDY...   \n",
              "3                                                NaN   \n",
              "4  ['BREYER, STEPHEN', 'GINSBURG, RUTH', 'KENNEDY...   \n",
              "\n",
              "                                      dissent_judges  topic_id  cite_count  \\\n",
              "0                                                 []       1.0      2926.0   \n",
              "1                               ['THOMAS, CLARENCE']       8.0       117.0   \n",
              "2                                                 []       1.0     23364.0   \n",
              "3                                                NaN       NaN         6.0   \n",
              "4  ['REHNQUIST, WILLIAM', 'SCALIA, ANTONIN', 'THO...      10.0        84.0   \n",
              "\n",
              "                                        opinion_text  \n",
              "0  JUSTICE GINSBURG delivered the opinion of the ...  \n",
              "1  Justice Stevens delivered the opinion of the C...  \n",
              "2  Justice O'Connor delivered the opinion of the ...  \n",
              "3  Justice Kennedy, Circuit Justice. \\n\\n This is...  \n",
              "4  Justice Kennedy delivered the opinion of the C...  "
            ]
          },
          "execution_count": 16,
          "metadata": {},
          "output_type": "execute_result"
        }
      ],
      "source": [
        "df.head()"
      ]
    },
    {
      "cell_type": "code",
      "execution_count": 17,
      "metadata": {
        "ExecuteTime": {
          "end_time": "2022-03-03T18:54:19.979689Z",
          "start_time": "2022-03-03T18:54:19.972244Z"
        },
        "colab": {
          "base_uri": "https://localhost:8080/",
          "height": 423
        },
        "id": "4broEL9yiPRK",
        "outputId": "f964d61e-827d-4269-b556-95198cc2cd26"
      },
      "outputs": [
        {
          "data": {
            "text/html": [
              "\n",
              "  <div id=\"df-fd19894f-d6a1-47db-847e-9c2242c13262\">\n",
              "    <div class=\"colab-df-container\">\n",
              "      <div>\n",
              "<style scoped>\n",
              "    .dataframe tbody tr th:only-of-type {\n",
              "        vertical-align: middle;\n",
              "    }\n",
              "\n",
              "    .dataframe tbody tr th {\n",
              "        vertical-align: top;\n",
              "    }\n",
              "\n",
              "    .dataframe thead th {\n",
              "        text-align: right;\n",
              "    }\n",
              "</style>\n",
              "<table border=\"1\" class=\"dataframe\">\n",
              "  <thead>\n",
              "    <tr style=\"text-align: right;\">\n",
              "      <th></th>\n",
              "      <th>case_name</th>\n",
              "      <th>opinion_type</th>\n",
              "      <th>date_standard</th>\n",
              "      <th>authorship</th>\n",
              "      <th>x_republican</th>\n",
              "      <th>maj_judges</th>\n",
              "      <th>dissent_judges</th>\n",
              "      <th>topic_id</th>\n",
              "      <th>cite_count</th>\n",
              "      <th>opinion_text</th>\n",
              "    </tr>\n",
              "  </thead>\n",
              "  <tbody>\n",
              "    <tr>\n",
              "      <th>0</th>\n",
              "      <td>ERICK CORNELL CLAY v. UNITED STATES</td>\n",
              "      <td>majority</td>\n",
              "      <td>2003-03-04</td>\n",
              "      <td>GINSBURG</td>\n",
              "      <td>0.0</td>\n",
              "      <td>['BREYER, STEPHEN', 'GINSBURG, RUTH', 'KENNEDY...</td>\n",
              "      <td>[]</td>\n",
              "      <td>1.0</td>\n",
              "      <td>2926.0</td>\n",
              "      <td>JUSTICE GINSBURG delivered the opinion of the ...</td>\n",
              "    </tr>\n",
              "    <tr>\n",
              "      <th>1</th>\n",
              "      <td>HILLSIDE DAIRY INC., A&amp;A DAIRY, L&amp;S DAIRY, AND...</td>\n",
              "      <td>majority</td>\n",
              "      <td>2003-06-09</td>\n",
              "      <td>STEVENS</td>\n",
              "      <td>1.0</td>\n",
              "      <td>['BREYER, STEPHEN', 'GINSBURG, RUTH', 'KENNEDY...</td>\n",
              "      <td>['THOMAS, CLARENCE']</td>\n",
              "      <td>8.0</td>\n",
              "      <td>117.0</td>\n",
              "      <td>Justice Stevens delivered the opinion of the C...</td>\n",
              "    </tr>\n",
              "    <tr>\n",
              "      <th>2</th>\n",
              "      <td>CHARLES RUSSELL RHINES v. DOUGLAS WEBER, WARDEN</td>\n",
              "      <td>majority</td>\n",
              "      <td>2005-03-30</td>\n",
              "      <td>O'CONNOR</td>\n",
              "      <td>1.0</td>\n",
              "      <td>['BREYER, STEPHEN', 'GINSBURG, RUTH', 'KENNEDY...</td>\n",
              "      <td>[]</td>\n",
              "      <td>1.0</td>\n",
              "      <td>23364.0</td>\n",
              "      <td>Justice O'Connor delivered the opinion of the ...</td>\n",
              "    </tr>\n",
              "    <tr>\n",
              "      <th>4</th>\n",
              "      <td>STATE OF ALASKA v. UNITED STATES OF AMERICA</td>\n",
              "      <td>majority</td>\n",
              "      <td>2005-06-06</td>\n",
              "      <td>KENNEDY</td>\n",
              "      <td>1.0</td>\n",
              "      <td>['BREYER, STEPHEN', 'GINSBURG, RUTH', 'KENNEDY...</td>\n",
              "      <td>['REHNQUIST, WILLIAM', 'SCALIA, ANTONIN', 'THO...</td>\n",
              "      <td>10.0</td>\n",
              "      <td>84.0</td>\n",
              "      <td>Justice Kennedy delivered the opinion of the C...</td>\n",
              "    </tr>\n",
              "    <tr>\n",
              "      <th>5</th>\n",
              "      <td>REGINALD A. WILKINSON, DIRECTOR, OHIO DEPARTME...</td>\n",
              "      <td>majority</td>\n",
              "      <td>2005-06-13</td>\n",
              "      <td>KENNEDY</td>\n",
              "      <td>1.0</td>\n",
              "      <td>['BREYER, STEPHEN', 'GINSBURG, RUTH', 'KENNEDY...</td>\n",
              "      <td>[]</td>\n",
              "      <td>4.0</td>\n",
              "      <td>4230.0</td>\n",
              "      <td>Justice Kennedy delivered the opinion of the C...</td>\n",
              "    </tr>\n",
              "  </tbody>\n",
              "</table>\n",
              "</div>\n",
              "      <button class=\"colab-df-convert\" onclick=\"convertToInteractive('df-fd19894f-d6a1-47db-847e-9c2242c13262')\"\n",
              "              title=\"Convert this dataframe to an interactive table.\"\n",
              "              style=\"display:none;\">\n",
              "        \n",
              "  <svg xmlns=\"http://www.w3.org/2000/svg\" height=\"24px\"viewBox=\"0 0 24 24\"\n",
              "       width=\"24px\">\n",
              "    <path d=\"M0 0h24v24H0V0z\" fill=\"none\"/>\n",
              "    <path d=\"M18.56 5.44l.94 2.06.94-2.06 2.06-.94-2.06-.94-.94-2.06-.94 2.06-2.06.94zm-11 1L8.5 8.5l.94-2.06 2.06-.94-2.06-.94L8.5 2.5l-.94 2.06-2.06.94zm10 10l.94 2.06.94-2.06 2.06-.94-2.06-.94-.94-2.06-.94 2.06-2.06.94z\"/><path d=\"M17.41 7.96l-1.37-1.37c-.4-.4-.92-.59-1.43-.59-.52 0-1.04.2-1.43.59L10.3 9.45l-7.72 7.72c-.78.78-.78 2.05 0 2.83L4 21.41c.39.39.9.59 1.41.59.51 0 1.02-.2 1.41-.59l7.78-7.78 2.81-2.81c.8-.78.8-2.07 0-2.86zM5.41 20L4 18.59l7.72-7.72 1.47 1.35L5.41 20z\"/>\n",
              "  </svg>\n",
              "      </button>\n",
              "      \n",
              "  <style>\n",
              "    .colab-df-container {\n",
              "      display:flex;\n",
              "      flex-wrap:wrap;\n",
              "      gap: 12px;\n",
              "    }\n",
              "\n",
              "    .colab-df-convert {\n",
              "      background-color: #E8F0FE;\n",
              "      border: none;\n",
              "      border-radius: 50%;\n",
              "      cursor: pointer;\n",
              "      display: none;\n",
              "      fill: #1967D2;\n",
              "      height: 32px;\n",
              "      padding: 0 0 0 0;\n",
              "      width: 32px;\n",
              "    }\n",
              "\n",
              "    .colab-df-convert:hover {\n",
              "      background-color: #E2EBFA;\n",
              "      box-shadow: 0px 1px 2px rgba(60, 64, 67, 0.3), 0px 1px 3px 1px rgba(60, 64, 67, 0.15);\n",
              "      fill: #174EA6;\n",
              "    }\n",
              "\n",
              "    [theme=dark] .colab-df-convert {\n",
              "      background-color: #3B4455;\n",
              "      fill: #D2E3FC;\n",
              "    }\n",
              "\n",
              "    [theme=dark] .colab-df-convert:hover {\n",
              "      background-color: #434B5C;\n",
              "      box-shadow: 0px 1px 3px 1px rgba(0, 0, 0, 0.15);\n",
              "      filter: drop-shadow(0px 1px 2px rgba(0, 0, 0, 0.3));\n",
              "      fill: #FFFFFF;\n",
              "    }\n",
              "  </style>\n",
              "\n",
              "      <script>\n",
              "        const buttonEl =\n",
              "          document.querySelector('#df-fd19894f-d6a1-47db-847e-9c2242c13262 button.colab-df-convert');\n",
              "        buttonEl.style.display =\n",
              "          google.colab.kernel.accessAllowed ? 'block' : 'none';\n",
              "\n",
              "        async function convertToInteractive(key) {\n",
              "          const element = document.querySelector('#df-fd19894f-d6a1-47db-847e-9c2242c13262');\n",
              "          const dataTable =\n",
              "            await google.colab.kernel.invokeFunction('convertToInteractive',\n",
              "                                                     [key], {});\n",
              "          if (!dataTable) return;\n",
              "\n",
              "          const docLinkHtml = 'Like what you see? Visit the ' +\n",
              "            '<a target=\"_blank\" href=https://colab.research.google.com/notebooks/data_table.ipynb>data table notebook</a>'\n",
              "            + ' to learn more about interactive tables.';\n",
              "          element.innerHTML = '';\n",
              "          dataTable['output_type'] = 'display_data';\n",
              "          await google.colab.output.renderOutput(dataTable, element);\n",
              "          const docLink = document.createElement('div');\n",
              "          docLink.innerHTML = docLinkHtml;\n",
              "          element.appendChild(docLink);\n",
              "        }\n",
              "      </script>\n",
              "    </div>\n",
              "  </div>\n",
              "  "
            ],
            "text/plain": [
              "                                           case_name opinion_type  \\\n",
              "0                ERICK CORNELL CLAY v. UNITED STATES     majority   \n",
              "1  HILLSIDE DAIRY INC., A&A DAIRY, L&S DAIRY, AND...     majority   \n",
              "2    CHARLES RUSSELL RHINES v. DOUGLAS WEBER, WARDEN     majority   \n",
              "4        STATE OF ALASKA v. UNITED STATES OF AMERICA     majority   \n",
              "5  REGINALD A. WILKINSON, DIRECTOR, OHIO DEPARTME...     majority   \n",
              "\n",
              "  date_standard authorship  x_republican  \\\n",
              "0    2003-03-04   GINSBURG           0.0   \n",
              "1    2003-06-09    STEVENS           1.0   \n",
              "2    2005-03-30   O'CONNOR           1.0   \n",
              "4    2005-06-06    KENNEDY           1.0   \n",
              "5    2005-06-13    KENNEDY           1.0   \n",
              "\n",
              "                                          maj_judges  \\\n",
              "0  ['BREYER, STEPHEN', 'GINSBURG, RUTH', 'KENNEDY...   \n",
              "1  ['BREYER, STEPHEN', 'GINSBURG, RUTH', 'KENNEDY...   \n",
              "2  ['BREYER, STEPHEN', 'GINSBURG, RUTH', 'KENNEDY...   \n",
              "4  ['BREYER, STEPHEN', 'GINSBURG, RUTH', 'KENNEDY...   \n",
              "5  ['BREYER, STEPHEN', 'GINSBURG, RUTH', 'KENNEDY...   \n",
              "\n",
              "                                      dissent_judges  topic_id  cite_count  \\\n",
              "0                                                 []       1.0      2926.0   \n",
              "1                               ['THOMAS, CLARENCE']       8.0       117.0   \n",
              "2                                                 []       1.0     23364.0   \n",
              "4  ['REHNQUIST, WILLIAM', 'SCALIA, ANTONIN', 'THO...      10.0        84.0   \n",
              "5                                                 []       4.0      4230.0   \n",
              "\n",
              "                                        opinion_text  \n",
              "0  JUSTICE GINSBURG delivered the opinion of the ...  \n",
              "1  Justice Stevens delivered the opinion of the C...  \n",
              "2  Justice O'Connor delivered the opinion of the ...  \n",
              "4  Justice Kennedy delivered the opinion of the C...  \n",
              "5  Justice Kennedy delivered the opinion of the C...  "
            ]
          },
          "execution_count": 17,
          "metadata": {},
          "output_type": "execute_result"
        }
      ],
      "source": [
        "# drop missing\n",
        "df = df.dropna()\n",
        "df.head()"
      ]
    },
    {
      "cell_type": "code",
      "execution_count": 18,
      "metadata": {
        "ExecuteTime": {
          "end_time": "2022-03-03T18:54:20.078271Z",
          "start_time": "2022-03-03T18:54:20.075074Z"
        },
        "colab": {
          "base_uri": "https://localhost:8080/"
        },
        "id": "QFXehJxkiPRK",
        "outputId": "31738dd0-087a-46fd-c21f-dcc3164150bb"
      },
      "outputs": [
        {
          "data": {
            "text/plain": [
              "count        781\n",
              "unique        27\n",
              "top       SCALIA\n",
              "freq          86\n",
              "Name: authorship, dtype: object"
            ]
          },
          "execution_count": 18,
          "metadata": {},
          "output_type": "execute_result"
        }
      ],
      "source": [
        "# Number of label categories (e.g. judges)\n",
        "df['authorship'].describe()"
      ]
    },
    {
      "cell_type": "code",
      "execution_count": 19,
      "metadata": {
        "ExecuteTime": {
          "end_time": "2022-03-03T18:54:20.238731Z",
          "start_time": "2022-03-03T18:54:20.227653Z"
        },
        "colab": {
          "base_uri": "https://localhost:8080/"
        },
        "id": "KfOwVU_BiPRK",
        "outputId": "7668194f-ba73-40e6-8601-282c1484103a"
      },
      "outputs": [
        {
          "data": {
            "text/plain": [
              "SCALIA                                           86\n",
              "GINSBURG                                         81\n",
              "THOMAS                                           79\n",
              "KENNEDY                                          79\n",
              "BREYER                                           73\n",
              "SOUTER                                           72\n",
              "STEVENS                                          72\n",
              "O'CONNOR                                         52\n",
              "REHNQUIST                                        49\n",
              "ROBERTS                                          28\n",
              "ALITO                                            23\n",
              "Breyer                                           12\n",
              "Roberts                                          10\n",
              "Alito                                             9\n",
              "Scalia                                            8\n",
              "Thomas                                            8\n",
              "Ginsburg                                          8\n",
              "Stevens                                           7\n",
              "Kennedy                                           7\n",
              "SOTOMAYOR                                         6\n",
              "Souter                                            5\n",
              "STEVENS  AND  O'CONNOR ;  REHNQUIST ;  BREYER     2\n",
              "STEVENS  (IN PART),  BREYER  (IN PART)            1\n",
              "JUSTICE  ALITO                                    1\n",
              "BREYER ;                                          1\n",
              "ROBERTS ,  SCALIA ,  THOMAS ,  ALITO              1\n",
              "Sotomayor                                         1\n",
              "Name: authorship, dtype: int64"
            ]
          },
          "execution_count": 19,
          "metadata": {},
          "output_type": "execute_result"
        }
      ],
      "source": [
        "# tabulations of label categories \n",
        "df['authorship'].value_counts()"
      ]
    },
    {
      "cell_type": "code",
      "execution_count": 20,
      "metadata": {
        "ExecuteTime": {
          "end_time": "2022-03-03T18:54:20.382374Z",
          "start_time": "2022-03-03T18:54:20.377383Z"
        },
        "id": "5R5uFt-siPRL"
      },
      "outputs": [],
      "source": [
        "df['authorship'] = df['authorship'].str.upper()"
      ]
    },
    {
      "cell_type": "code",
      "execution_count": 21,
      "metadata": {
        "ExecuteTime": {
          "end_time": "2022-03-03T18:54:20.524682Z",
          "start_time": "2022-03-03T18:54:20.515558Z"
        },
        "colab": {
          "base_uri": "https://localhost:8080/"
        },
        "id": "1p7p7Ck8iPRL",
        "outputId": "8c25350c-d5c5-46cc-eb54-e9e7036d092a"
      },
      "outputs": [
        {
          "data": {
            "text/plain": [
              "SCALIA                                           94\n",
              "GINSBURG                                         89\n",
              "THOMAS                                           87\n",
              "KENNEDY                                          86\n",
              "BREYER                                           85\n",
              "STEVENS                                          79\n",
              "SOUTER                                           77\n",
              "O'CONNOR                                         52\n",
              "REHNQUIST                                        49\n",
              "ROBERTS                                          38\n",
              "ALITO                                            32\n",
              "SOTOMAYOR                                         7\n",
              "STEVENS  AND  O'CONNOR ;  REHNQUIST ;  BREYER     2\n",
              "STEVENS  (IN PART),  BREYER  (IN PART)            1\n",
              "JUSTICE  ALITO                                    1\n",
              "BREYER ;                                          1\n",
              "ROBERTS ,  SCALIA ,  THOMAS ,  ALITO              1\n",
              "Name: authorship, dtype: int64"
            ]
          },
          "execution_count": 21,
          "metadata": {},
          "output_type": "execute_result"
        }
      ],
      "source": [
        "df['authorship'].value_counts()"
      ]
    },
    {
      "cell_type": "code",
      "execution_count": 22,
      "metadata": {
        "ExecuteTime": {
          "end_time": "2022-03-03T18:54:20.658055Z",
          "start_time": "2022-03-03T18:54:20.648459Z"
        },
        "colab": {
          "base_uri": "https://localhost:8080/"
        },
        "id": "fU93kOamiPRL",
        "outputId": "f738f99e-4548-4cff-a9b5-fc6ba29a0fbe"
      },
      "outputs": [
        {
          "name": "stdout",
          "output_type": "stream",
          "text": [
            "Index(['SCALIA', 'GINSBURG', 'THOMAS', 'KENNEDY', 'BREYER', 'STEVENS',\n",
            "       'SOUTER', 'O'CONNOR', 'REHNQUIST', 'ROBERTS', 'ALITO'],\n",
            "      dtype='object')\n"
          ]
        }
      ],
      "source": [
        "# keep all judges through ALITO\n",
        "keep_judges = df['authorship'].value_counts().index[:11]\n",
        "print(keep_judges)"
      ]
    },
    {
      "cell_type": "code",
      "execution_count": 23,
      "metadata": {
        "ExecuteTime": {
          "end_time": "2022-03-03T18:54:20.811481Z",
          "start_time": "2022-03-03T18:54:20.796104Z"
        },
        "colab": {
          "base_uri": "https://localhost:8080/"
        },
        "id": "HHT_5KO0iPRL",
        "outputId": "f6783e9f-efca-4cc2-c1ec-9811f2151b47"
      },
      "outputs": [
        {
          "data": {
            "text/plain": [
              "SCALIA       94\n",
              "GINSBURG     89\n",
              "THOMAS       87\n",
              "KENNEDY      86\n",
              "BREYER       85\n",
              "STEVENS      79\n",
              "SOUTER       77\n",
              "O'CONNOR     52\n",
              "REHNQUIST    49\n",
              "ROBERTS      38\n",
              "ALITO        32\n",
              "Name: authorship, dtype: int64"
            ]
          },
          "execution_count": 23,
          "metadata": {},
          "output_type": "execute_result"
        }
      ],
      "source": [
        "df = df[df['authorship'].isin(keep_judges)]\n",
        "df['authorship'].value_counts()"
      ]
    },
    {
      "cell_type": "code",
      "execution_count": 24,
      "metadata": {
        "ExecuteTime": {
          "end_time": "2022-03-03T18:54:20.955563Z",
          "start_time": "2022-03-03T18:54:20.943541Z"
        },
        "colab": {
          "base_uri": "https://localhost:8080/"
        },
        "id": "ObdQVSeXiPRL",
        "outputId": "b56d19ef-cb06-4fb9-ff9c-1f503ea429ae"
      },
      "outputs": [
        {
          "data": {
            "text/plain": [
              "0      2003-03-04\n",
              "1      2003-06-09\n",
              "2      2005-03-30\n",
              "4      2005-06-06\n",
              "5      2005-06-13\n",
              "          ...    \n",
              "815    2001-04-18\n",
              "816    2001-04-24\n",
              "817    2001-04-24\n",
              "818    2001-05-14\n",
              "819    2001-05-14\n",
              "Name: date_standard, Length: 768, dtype: object"
            ]
          },
          "execution_count": 24,
          "metadata": {},
          "output_type": "execute_result"
        }
      ],
      "source": [
        "df.date_standard"
      ]
    },
    {
      "cell_type": "code",
      "execution_count": 25,
      "metadata": {
        "ExecuteTime": {
          "end_time": "2022-03-03T18:54:21.096221Z",
          "start_time": "2022-03-03T18:54:21.080282Z"
        },
        "colab": {
          "base_uri": "https://localhost:8080/"
        },
        "id": "pHTLLrXviPRM",
        "outputId": "b478af7a-0ab3-4f42-a4f8-aaba396acb42"
      },
      "outputs": [
        {
          "data": {
            "text/plain": [
              "0     2003-03-04\n",
              "1     2003-06-09\n",
              "2     2005-03-30\n",
              "4     2005-06-06\n",
              "5     2005-06-13\n",
              "         ...    \n",
              "815   2001-04-18\n",
              "816   2001-04-24\n",
              "817   2001-04-24\n",
              "818   2001-05-14\n",
              "819   2001-05-14\n",
              "Name: date_standard, Length: 768, dtype: datetime64[ns]"
            ]
          },
          "execution_count": 25,
          "metadata": {},
          "output_type": "execute_result"
        }
      ],
      "source": [
        "df['date_standard'] = pd.to_datetime(df['date_standard'])\n",
        "df['date_standard']"
      ]
    },
    {
      "cell_type": "code",
      "execution_count": 26,
      "metadata": {
        "ExecuteTime": {
          "end_time": "2022-03-03T18:54:21.243003Z",
          "start_time": "2022-03-03T18:54:21.229193Z"
        },
        "colab": {
          "base_uri": "https://localhost:8080/"
        },
        "id": "dHOkQnPViPRM",
        "outputId": "d7912b49-4049-4818-f7c9-6917b75ed014"
      },
      "outputs": [
        {
          "data": {
            "text/plain": [
              "2001    77\n",
              "2000    76\n",
              "2009    74\n",
              "2002    74\n",
              "2004    73\n",
              "2003    70\n",
              "2005    70\n",
              "2007    65\n",
              "2010    64\n",
              "2006    63\n",
              "2008    62\n",
              "Name: year, dtype: int64"
            ]
          },
          "execution_count": 26,
          "metadata": {},
          "output_type": "execute_result"
        }
      ],
      "source": [
        "df['year'] = df['date_standard'].dt.year\n",
        "df['year'].value_counts()"
      ]
    },
    {
      "cell_type": "code",
      "execution_count": 27,
      "metadata": {
        "ExecuteTime": {
          "end_time": "2022-03-03T18:54:21.830847Z",
          "start_time": "2022-03-03T18:54:21.364628Z"
        },
        "colab": {
          "base_uri": "https://localhost:8080/",
          "height": 282
        },
        "id": "XV32O3uxiPRM",
        "outputId": "6f438607-56db-4c03-946e-0455334daa0f"
      },
      "outputs": [
        {
          "data": {
            "text/plain": [
              "<matplotlib.axes._subplots.AxesSubplot at 0x7f084d4411f0>"
            ]
          },
          "execution_count": 27,
          "metadata": {},
          "output_type": "execute_result"
        },
        {
          "data": {
            "image/png": "[encoded data removed]",
            "text/plain": [
              "<Figure size 432x288 with 1 Axes>"
            ]
          },
          "metadata": {
            "needs_background": "light"
          },
          "output_type": "display_data"
        }
      ],
      "source": [
        "df['cite_count'].hist()"
      ]
    },
    {
      "cell_type": "code",
      "execution_count": 28,
      "metadata": {
        "ExecuteTime": {
          "end_time": "2022-03-03T18:54:21.882734Z",
          "start_time": "2022-03-03T18:54:21.831876Z"
        },
        "colab": {
          "base_uri": "https://localhost:8080/",
          "height": 282
        },
        "id": "tgDJ-dH_iPRM",
        "outputId": "79a48c5c-16f5-4376-e3ee-012da61223d8"
      },
      "outputs": [
        {
          "data": {
            "text/plain": [
              "<matplotlib.axes._subplots.AxesSubplot at 0x7f084ced73a0>"
            ]
          },
          "execution_count": 28,
          "metadata": {},
          "output_type": "execute_result"
        },
        {
          "data": {
            "image/png": "[encoded data removed]",
            "text/plain": [
              "<Figure size 432x288 with 1 Axes>"
            ]
          },
          "metadata": {
            "needs_background": "light"
          },
          "output_type": "display_data"
        }
      ],
      "source": [
        "import numpy as np\n",
        "df['log_cite_count'] = np.log(df['cite_count'])\n",
        "df['log_cite_count'].hist()"
      ]
    },
    {
      "cell_type": "markdown",
      "metadata": {
        "id": "4JTSb_zziPRM"
      },
      "source": [
        "Save what we have done so far."
      ]
    },
    {
      "cell_type": "code",
      "execution_count": 29,
      "metadata": {
        "ExecuteTime": {
          "end_time": "2022-03-03T18:54:23.031287Z",
          "start_time": "2022-03-03T18:54:21.883786Z"
        },
        "colab": {
          "base_uri": "https://localhost:8080/"
        },
        "id": "ii2uNRBxiPRM",
        "outputId": "3af3da73-0af1-48e2-b9ca-19dda231b471"
      },
      "outputs": [
        {
          "name": "stdout",
          "output_type": "stream",
          "text": [
            "                                             case_name opinion_type  \\\n",
            "0                  ERICK CORNELL CLAY v. UNITED STATES     majority   \n",
            "1    HILLSIDE DAIRY INC., A&A DAIRY, L&S DAIRY, AND...     majority   \n",
            "2      CHARLES RUSSELL RHINES v. DOUGLAS WEBER, WARDEN     majority   \n",
            "4          STATE OF ALASKA v. UNITED STATES OF AMERICA     majority   \n",
            "5    REGINALD A. WILKINSON, DIRECTOR, OHIO DEPARTME...     majority   \n",
            "..                                                 ...          ...   \n",
            "815  MICHAEL F. EASLEY, * GOVERNOR OF NORTH CAROLIN...     majority   \n",
            "816  GAIL ATWATER, et al. v. CITY OF LAGO VISTA et al.     majority   \n",
            "817  JAMES ALEXANDER, DIRECTOR, ALABAMA DEPARTMENT ...     majority   \n",
            "818  UNITED STATES v. OAKLAND CANNABIS BUYERS' COOP...     majority   \n",
            "819                     WILBERT K. ROGERS v. TENNESSEE     majority   \n",
            "\n",
            "    date_standard authorship  x_republican  \\\n",
            "0      2003-03-04   GINSBURG           0.0   \n",
            "1      2003-06-09    STEVENS           1.0   \n",
            "2      2005-03-30   O'CONNOR           1.0   \n",
            "4      2005-06-06    KENNEDY           1.0   \n",
            "5      2005-06-13    KENNEDY           1.0   \n",
            "..            ...        ...           ...   \n",
            "815    2001-04-18     BREYER           0.0   \n",
            "816    2001-04-24     SOUTER           1.0   \n",
            "817    2001-04-24     SCALIA           1.0   \n",
            "818    2001-05-14     THOMAS           1.0   \n",
            "819    2001-05-14   O'CONNOR           1.0   \n",
            "\n",
            "                                            maj_judges  \\\n",
            "0    ['BREYER, STEPHEN', 'GINSBURG, RUTH', 'KENNEDY...   \n",
            "1    ['BREYER, STEPHEN', 'GINSBURG, RUTH', 'KENNEDY...   \n",
            "2    ['BREYER, STEPHEN', 'GINSBURG, RUTH', 'KENNEDY...   \n",
            "4    ['BREYER, STEPHEN', 'GINSBURG, RUTH', 'KENNEDY...   \n",
            "5    ['BREYER, STEPHEN', 'GINSBURG, RUTH', 'KENNEDY...   \n",
            "..                                                 ...   \n",
            "815  ['BREYER, STEPHEN', 'GINSBURG, RUTH', \"O'CONNO...   \n",
            "816  ['KENNEDY, ANTHONY', 'REHNQUIST, WILLIAM', 'SC...   \n",
            "817  ['KENNEDY, ANTHONY', \"O'CONNOR, SANDRA\", 'REHN...   \n",
            "818  ['BREYER, STEPHEN', 'GINSBURG, RUTH', 'KENNEDY...   \n",
            "819  ['GINSBURG, RUTH', 'KENNEDY, ANTHONY', \"O'CONN...   \n",
            "\n",
            "                                        dissent_judges  topic_id  cite_count  \\\n",
            "0                                                   []       1.0      2926.0   \n",
            "1                                 ['THOMAS, CLARENCE']       8.0       117.0   \n",
            "2                                                   []       1.0     23364.0   \n",
            "4    ['REHNQUIST, WILLIAM', 'SCALIA, ANTONIN', 'THO...      10.0        84.0   \n",
            "5                                                   []       4.0      4230.0   \n",
            "..                                                 ...       ...         ...   \n",
            "815  ['KENNEDY, ANTHONY', 'REHNQUIST, WILLIAM', 'SC...       2.0      1236.0   \n",
            "816  ['BREYER, STEPHEN', 'GINSBURG, RUTH', \"O'CONNO...       1.0      3120.0   \n",
            "817  ['BREYER, STEPHEN', 'GINSBURG, RUTH', 'SOUTER,...       9.0      4986.0   \n",
            "818                                                 []       1.0       736.0   \n",
            "819  ['BREYER, STEPHEN', 'SCALIA, ANTONIN', 'STEVEN...       4.0      2100.0   \n",
            "\n",
            "                                          opinion_text  year  log_cite_count  \n",
            "0    JUSTICE GINSBURG delivered the opinion of the ...  2003        7.981392  \n",
            "1    Justice Stevens delivered the opinion of the C...  2003        4.762174  \n",
            "2    Justice O'Connor delivered the opinion of the ...  2005       10.058952  \n",
            "4    Justice Kennedy delivered the opinion of the C...  2005        4.430817  \n",
            "5    Justice Kennedy delivered the opinion of the C...  2005        8.349957  \n",
            "..                                                 ...   ...             ...  \n",
            "815  JUSTICE BREYER delivered the opinion of the Co...  2001        7.119636  \n",
            "816  JUSTICE SOUTER delivered the opinion of the Co...  2001        8.045588  \n",
            "817  JUSTICE SCALIA delivered the opinion of the Co...  2001        8.514389  \n",
            "818  JUSTICE THOMAS delivered the opinion of the Co...  2001        6.601230  \n",
            "819  JUSTICE O'CONNOR delivered the opinion of the ...  2001        7.649693  \n",
            "\n",
            "[768 rows x 12 columns]\n"
          ]
        }
      ],
      "source": [
        "df.to_pickle('sc_cases_cleaned.pkl',compression='gzip')\n",
        "print(df)"
      ]
    },
    {
      "cell_type": "markdown",
      "metadata": {
        "id": "8Gwdm5xgiPRM"
      },
      "source": [
        "## Iterating over documents in a dataframe"
      ]
    },
    {
      "cell_type": "markdown",
      "metadata": {
        "id": "st4-cyJ0iPRM"
      },
      "source": [
        "In the following, we show how to iterate over a dataframe and three different ways of how to tokenize documents."
      ]
    },
    {
      "cell_type": "code",
      "execution_count": 30,
      "metadata": {
        "ExecuteTime": {
          "end_time": "2022-03-03T18:54:24.535487Z",
          "start_time": "2022-03-03T18:54:23.692986Z"
        },
        "colab": {
          "base_uri": "https://localhost:8080/"
        },
        "id": "uMSIc1pNiPRN",
        "outputId": "4b67a783-0c8c-4c47-8542-7988bf8de19e"
      },
      "outputs": [
        {
          "name": "stderr",
          "output_type": "stream",
          "text": [
            "/usr/local/lib/python3.8/dist-packages/torch/cuda/__init__.py:497: UserWarning: Can't initialize NVML\n",
            "  warnings.warn(\"Can't initialize NVML\")\n"
          ]
        }
      ],
      "source": [
        "import spacy\n",
        "# more infos at https://spacy.io/\n",
        "nlp = spacy.load('en_core_web_sm')"
      ]
    },
    {
      "cell_type": "code",
      "execution_count": 31,
      "metadata": {
        "ExecuteTime": {
          "end_time": "2022-03-03T18:54:34.516885Z",
          "start_time": "2022-03-03T18:54:24.536688Z"
        },
        "id": "0fxNg3AQiPRN"
      },
      "outputs": [],
      "source": [
        "processed = {} # empty python dictionary for processed data\n",
        "# iterate over rows\n",
        "for i, row in df.iterrows():\n",
        "    if i >= 10:\n",
        "        break\n",
        "    docid = i # make document identifier\n",
        "    text = row['opinion_text']     # get text snippet\n",
        "    document = nlp(text) # get sentences/tokens\n",
        "    processed[docid] = document # add to dictionary    "
      ]
    },
    {
      "cell_type": "code",
      "execution_count": 32,
      "metadata": {
        "ExecuteTime": {
          "end_time": "2022-03-03T18:54:34.519332Z",
          "start_time": "2022-03-03T18:54:34.517544Z"
        },
        "colab": {
          "base_uri": "https://localhost:8080/"
        },
        "id": "n7xnJojziPRN",
        "outputId": "078d5ada-9dc9-4858-f648-919046d0c8b7"
      },
      "outputs": [
        {
          "name": "stdout",
          "output_type": "stream",
          "text": [
            "opinion 1: JUSTICE GINSBURG delivered the opinion of the Court.\n",
            "\n",
            " A motion by a federal prisoner for postconviction relief under 28 U.S.C. § 2255 is subject to a one-year time limitation that generally runs from \"the date on which the judgment of conviction becomes final.\" \n",
            "\n",
            " opinion 2: Justice Stevens delivered the opinion of the Court. \n",
            "\n",
            "In most of the United States, not including California, the minimum price paid to dairy farmers producing raw milk is regulated pursuant to federal marketing orders.  Those orders guarantee a uniform price for the producers,\n"
          ]
        }
      ],
      "source": [
        "# first and second opinions\n",
        "print (\"opinion 1:\", processed[0][:50], \"\\n\\n\", \"opinion 2:\", processed[1][:50])"
      ]
    },
    {
      "cell_type": "markdown",
      "metadata": {
        "id": "y-fEopFFiPRN"
      },
      "source": [
        "Let's see in more detail what information we can extract from documents procesesd using spaCy: "
      ]
    },
    {
      "cell_type": "code",
      "execution_count": 33,
      "metadata": {
        "ExecuteTime": {
          "end_time": "2022-03-03T18:54:34.525070Z",
          "start_time": "2022-03-03T18:54:34.521139Z"
        },
        "colab": {
          "base_uri": "https://localhost:8080/"
        },
        "id": "Y3Ld96PniPRN",
        "outputId": "292e6362-fbc8-4f8e-ab95-8571825abec1"
      },
      "outputs": [
        {
          "name": "stdout",
          "output_type": "stream",
          "text": [
            "JUSTICE NOUN compound\n",
            "GINSBURG NOUN nsubj\n",
            "delivered VERB ROOT\n",
            "the DET det\n",
            "opinion NOUN dobj\n",
            "of ADP prep\n",
            "the DET det\n",
            "Court PROPN pobj\n",
            ". PUNCT punct\n",
            "\n",
            "\n",
            "  SPACE dep\n",
            "A DET det\n",
            "motion NOUN nsubj\n",
            "by ADP prep\n",
            "a DET det\n",
            "federal ADJ amod\n",
            "prisoner NOUN pobj\n",
            "for ADP prep\n",
            "postconviction NOUN compound\n",
            "relief NOUN pobj\n",
            "under ADP prep\n",
            "28 NUM nummod\n",
            "U.S.C. PROPN compound\n",
            "§ PROPN compound\n",
            "2255 NUM pobj\n",
            "is AUX ROOT\n",
            "subject ADJ acomp\n",
            "to ADP prep\n",
            "a DET det\n",
            "one NUM nummod\n",
            "- PUNCT punct\n",
            "year NOUN compound\n",
            "time NOUN compound\n",
            "limitation NOUN pobj\n",
            "that PRON nsubj\n",
            "generally ADV advmod\n",
            "runs VERB relcl\n",
            "from ADP prep\n",
            "\" PUNCT punct\n",
            "the DET det\n",
            "date NOUN pobj\n",
            "on ADP prep\n",
            "which PRON pobj\n",
            "the DET det\n",
            "judgment NOUN nsubj\n",
            "of ADP prep\n",
            "conviction NOUN pobj\n",
            "becomes VERB relcl\n",
            "final ADJ acomp\n",
            ". PUNCT punct\n",
            "\" PUNCT punct\n"
          ]
        }
      ],
      "source": [
        "for token in processed[0][:50]:\n",
        "       print(token.text, token.pos_, token.dep_)"
      ]
    },
    {
      "cell_type": "markdown",
      "metadata": {
        "id": "eOR0WndYiPRN"
      },
      "source": [
        "alternatively, we can preprocess with gensim"
      ]
    },
    {
      "cell_type": "code",
      "execution_count": 34,
      "metadata": {
        "ExecuteTime": {
          "end_time": "2022-03-03T18:54:35.152483Z",
          "start_time": "2022-03-03T18:54:34.525947Z"
        },
        "colab": {
          "base_uri": "https://localhost:8080/"
        },
        "id": "AtUBGCEhiPRN",
        "outputId": "65f6b737-3f8d-46a4-b6de-4ee400e59ab7"
      },
      "outputs": [
        {
          "name": "stdout",
          "output_type": "stream",
          "text": [
            "opinion 1: ['justice', 'ginsburg', 'delivered', 'the', 'opinion', 'of', 'the', 'court', 'motion', 'by', 'federal', 'prisoner', 'for', 'postconviction', 'relief', 'under', 'is', 'subject', 'to', 'one', 'year', 'time', 'limitation', 'that', 'generally', 'runs', 'from', 'the', 'date', 'on', 'which', 'the', 'judgment', 'of', 'conviction', 'becomes', 'final', 'this', 'case', 'concerns', 'the', 'starting', 'date', 'for', 'the', 'one', 'year', 'limitation', 'it', 'presents'] \n",
            "\n",
            " opinion 2: ['justice', 'stevens', 'delivered', 'the', 'opinion', 'of', 'the', 'court', 'in', 'most', 'of', 'the', 'united', 'states', 'not', 'including', 'california', 'the', 'minimum', 'price', 'paid', 'to', 'dairy', 'farmers', 'producing', 'raw', 'milk', 'is', 'regulated', 'pursuant', 'to', 'federal', 'marketing', 'orders', 'those', 'orders', 'guarantee', 'uniform', 'price', 'for', 'the', 'producers', 'but', 'through', 'pooling', 'mechanisms', 'require', 'the', 'processors', 'of']\n"
          ]
        }
      ],
      "source": [
        "from gensim.utils import simple_preprocess\n",
        "\n",
        "processed = {} # empty python dictionary for processed data\n",
        "# iterate over rows\n",
        "for i, row in df.iterrows():\n",
        "    docid = i # make document identifier\n",
        "    text = row['opinion_text']     # get text snippet\n",
        "    document = simple_preprocess(text) # get sentences/tokens\n",
        "    processed[docid] = document # add to dictionary    \n",
        "    if i > 100:\n",
        "        break\n",
        "# first and second opinions\n",
        "print (\"opinion 1:\", processed[0][:50], \"\\n\\n\", \"opinion 2:\", processed[1][:50]) # note how simple preprocess drops punctuation"
      ]
    },
    {
      "cell_type": "markdown",
      "metadata": {
        "id": "wObNCrBMiPRN"
      },
      "source": [
        "or with nltk"
      ]
    },
    {
      "cell_type": "code",
      "execution_count": 36,
      "metadata": {
        "ExecuteTime": {
          "end_time": "2022-03-03T18:54:37.494062Z",
          "start_time": "2022-03-03T18:54:35.153364Z"
        },
        "colab": {
          "base_uri": "https://localhost:8080/"
        },
        "id": "g0oI7KzNiPRN",
        "outputId": "2986b328-2151-476b-ee9b-f1495dc9057c"
      },
      "outputs": [
        {
          "name": "stderr",
          "output_type": "stream",
          "text": [
            "[nltk_data] Downloading package punkt to /root/nltk_data...\n",
            "[nltk_data]   Unzipping tokenizers/punkt.zip.\n"
          ]
        },
        {
          "name": "stdout",
          "output_type": "stream",
          "text": [
            "opinion 1: ['justice', 'ginsburg', 'delivered', 'the', 'opinion', 'of', 'the', 'court', '.', 'a', 'motion', 'by', 'a', 'federal', 'prisoner', 'for', 'postconviction', 'relief', 'under', '28', 'u.s.c', '.', '§', '2255', 'is', 'subject', 'to', 'a', 'one-year', 'time', 'limitation', 'that', 'generally', 'runs', 'from', '``', 'the', 'date', 'on', 'which', 'the', 'judgment', 'of', 'conviction', 'becomes', 'final', '.', \"''\", '§', '2255'] \n",
            "\n",
            " opinion 2: ['justice', 'stevens', 'delivered', 'the', 'opinion', 'of', 'the', 'court', '.', 'in', 'most', 'of', 'the', 'united', 'states', ',', 'not', 'including', 'california', ',', 'the', 'minimum', 'price', 'paid', 'to', 'dairy', 'farmers', 'producing', 'raw', 'milk', 'is', 'regulated', 'pursuant', 'to', 'federal', 'marketing', 'orders', '.', 'those', 'orders', 'guarantee', 'a', 'uniform', 'price', 'for', 'the', 'producers', ',', 'but', 'through']\n"
          ]
        }
      ],
      "source": [
        "import nltk\n",
        "nltk.download('punkt')\n",
        "from nltk.tokenize import word_tokenize\n",
        "processed = {} # empty python dictionary for processed data\n",
        "# iterate over rows\n",
        "for i, row in df.iterrows():\n",
        "    docid = i # make document identifier\n",
        "    text = row['opinion_text']     # get text snippet\n",
        "    document = word_tokenize(text.lower()) # get sentences/tokens\n",
        "    processed[docid] = document # add to dictionary    \n",
        "    if i > 100:\n",
        "        break\n",
        "# first and second opinions\n",
        "print (\"opinion 1:\", processed[0][:50], \"\\n\\n\", \"opinion 2:\", processed[1][:50]) # note that we just tokenize and keep all tokens\n"
      ]
    },
    {
      "cell_type": "markdown",
      "metadata": {
        "id": "IVpyq2cMiPRN"
      },
      "source": [
        "## Saving data"
      ]
    },
    {
      "cell_type": "code",
      "execution_count": 37,
      "metadata": {
        "ExecuteTime": {
          "end_time": "2022-03-03T18:54:37.554721Z",
          "start_time": "2022-03-03T18:54:37.494841Z"
        },
        "id": "cOoCDwL3iPRO"
      },
      "outputs": [],
      "source": [
        "# save as python pickle\n",
        "pd.to_pickle(processed, 'processed_corpus.pkl')\n",
        "# delete it\n",
        "import os \n",
        "os.remove('processed_corpus.pkl')"
      ]
    },
    {
      "cell_type": "code",
      "execution_count": 38,
      "metadata": {
        "ExecuteTime": {
          "end_time": "2022-03-03T18:54:37.557086Z",
          "start_time": "2022-03-03T18:54:37.555589Z"
        },
        "id": "xAz1LWr9iPRO"
      },
      "outputs": [],
      "source": [
        "# Merging Data-frames Example\n",
        "# Perform a left join:\n",
        "# df_merged = pd.merge(df1,df2,on='id', how='left', validation='m:1')"
      ]
    },
    {
      "cell_type": "markdown",
      "metadata": {
        "id": "l1TGqqyKiPRO"
      },
      "source": [
        "# Web Scraping"
      ]
    },
    {
      "cell_type": "markdown",
      "metadata": {
        "id": "RcQt_aT1iPRO"
      },
      "source": [
        "## Downloading URL's"
      ]
    },
    {
      "cell_type": "code",
      "execution_count": 39,
      "metadata": {
        "ExecuteTime": {
          "end_time": "2022-03-03T18:54:39.084595Z",
          "start_time": "2022-03-03T18:54:37.557840Z"
        },
        "colab": {
          "base_uri": "https://localhost:8080/"
        },
        "id": "43APWVAEiPRO",
        "outputId": "8b1ff8e1-cb6f-4a9f-ce2c-082800bd6336"
      },
      "outputs": [
        {
          "name": "stdout",
          "output_type": "stream",
          "text": [
            "b'\\n<!DOCTYPE html>\\n<html lang=\"en\">\\n<head>\\n  <meta charset=\"utf-8\"/>\\n  <meta http-equiv=\"Content-Language\" content=\"en\"/>\\n  <meta name=\"language\" content=\"en_us\"/>\\n  <meta name=\"viewport\" content=\"width=device-width,initial-scale=1\"/>\\n\\n  \\n  <meta name=\"description\" content=\"Opinion for People v. Germany, 674 P.2d 345 \\xe2\\x80\\x94 Brought to you by Free Law Project, a non-profit dedicated to creating high qua'\n",
            "\n",
            "b'\"text/javascript\" src=\"https://storage.courtlistener.com/static/js/jquery.NobleCount.min.b39270d0a2ec.js\"></script>\\n    <script defer type=\"text/javascript\" src=\"https://storage.courtlistener.com/static/js/save-notes.82c8dc9c4c77.js\"></script>\\n    \\n\\n\\n\\n\\n  \\n  \\n    <script\\n      defer\\n      data-domain=\"courtlistener.com\"\\n      src=\"https://plausible.io/js/plausible.js\"></script>\\n  \\n\\n</body>\\n</html>\\n'\n",
            "\n",
            "78576 characters in string.\n"
          ]
        }
      ],
      "source": [
        "import urllib.request as urllib # Python's module for accessing web pages\n",
        "url = 'https://goo.gl/VRF8Xs' # shortened URL for court case\n",
        "page = urllib.urlopen(url) # open the web page\n",
        "\n",
        "html = page.read() # read web page contents as a string\n",
        "print(html[:400])  # print first 400 characters\n",
        "print()\n",
        "print(html[-400:]) # print last 400 characters\n",
        "print()\n",
        "print(len(html),'characters in string.')   # print length of string"
      ]
    },
    {
      "cell_type": "markdown",
      "metadata": {
        "id": "KVGSz99RiPRO"
      },
      "source": [
        "## Parsing HTML"
      ]
    },
    {
      "cell_type": "code",
      "execution_count": 40,
      "metadata": {
        "ExecuteTime": {
          "end_time": "2022-02-25T09:32:09.647832Z",
          "start_time": "2022-02-25T09:32:09.602699Z"
        },
        "colab": {
          "base_uri": "https://localhost:8080/"
        },
        "id": "L-lgh1gGiPRO",
        "outputId": "3ab8864e-770c-4ed6-b01e-69748f87fc3a"
      },
      "outputs": [
        {
          "name": "stdout",
          "output_type": "stream",
          "text": [
            "<title>People v. Germany, 674 P.2d 345 – CourtListener.com</title>\n"
          ]
        }
      ],
      "source": [
        "# Parse raw HTML\n",
        "# !pip install beautifulsoup4\n",
        "from bs4 import BeautifulSoup # package for parsing HTML\n",
        "soup = BeautifulSoup(html, 'lxml') # parse html of web page\n",
        "print(soup.title) # example usage: print title item"
      ]
    },
    {
      "cell_type": "code",
      "execution_count": 41,
      "metadata": {
        "ExecuteTime": {
          "end_time": "2022-02-25T09:32:18.769526Z",
          "start_time": "2022-02-25T09:32:18.758006Z"
        },
        "colab": {
          "base_uri": "https://localhost:8080/"
        },
        "id": "fC9n5taDiPRO",
        "outputId": "883467a0-b4a8-4d7a-a8b5-4c71061bfc36"
      },
      "outputs": [
        {
          "name": "stdout",
          "output_type": "stream",
          "text": [
            "525\n"
          ]
        }
      ],
      "source": [
        "# extract text\n",
        "text = soup.get_text() # get text (remove HTML markup)\n",
        "lines = text.splitlines() # split string into separate lines\n",
        "print(len(lines)) # print number of lines"
      ]
    },
    {
      "cell_type": "code",
      "execution_count": 42,
      "metadata": {
        "ExecuteTime": {
          "end_time": "2022-02-25T09:32:26.434807Z",
          "start_time": "2022-02-25T09:32:26.422384Z"
        },
        "colab": {
          "base_uri": "https://localhost:8080/"
        },
        "id": "hfB5AiKpiPRO",
        "outputId": "1e2f566f-086e-4e8e-fa28-a538b4c3eafe"
      },
      "outputs": [
        {
          "name": "stdout",
          "output_type": "stream",
          "text": [
            "192\n"
          ]
        }
      ],
      "source": [
        "lines = [line for line in lines if line != ''] # drop empty lines\n",
        "print(len(lines)) # print number of lines"
      ]
    },
    {
      "cell_type": "code",
      "execution_count": 43,
      "metadata": {
        "ExecuteTime": {
          "end_time": "2022-02-25T09:32:30.847356Z",
          "start_time": "2022-02-25T09:32:30.839684Z"
        },
        "colab": {
          "base_uri": "https://localhost:8080/"
        },
        "id": "x1L8ijmHiPRP",
        "outputId": "9f273dc0-e0e7-4dc1-bd97-90ea338adaaf"
      },
      "outputs": [
        {
          "name": "stdout",
          "output_type": "stream",
          "text": [
            "['People v. Germany, 674 P.2d 345 – CourtListener.com', 'Toggle navigation', 'About', 'FAQ', 'Donate', 'Sign in / Register', 'From Free Law Project, a 501(c)(3) non-profit.', 'Opinions\\xa0', 'Advanced Search', 'Citation Look Up', 'Citation Visualizations', 'RECAP Archive', 'Oral Arguments', 'Judges', 'Financial Disclosures', '\\xa0Donate', 'Your Notes', '                    (edit)', '                     ', '                    (none)']\n"
          ]
        }
      ],
      "source": [
        "print(lines[:20]) # print first 20 lines"
      ]
    },
    {
      "cell_type": "markdown",
      "metadata": {
        "id": "w7P9iAZyiPRP"
      },
      "source": [
        "## Removing unicode characters"
      ]
    },
    {
      "cell_type": "code",
      "execution_count": 44,
      "metadata": {
        "ExecuteTime": {
          "end_time": "2022-02-25T09:32:53.962331Z",
          "start_time": "2022-02-25T09:32:53.952376Z"
        },
        "colab": {
          "base_uri": "https://localhost:8080/"
        },
        "id": "WXRPtl8liPRP",
        "outputId": "a8ffd270-3874-4c27-dd8a-21935578aa0c"
      },
      "outputs": [
        {
          "name": "stdout",
          "output_type": "stream",
          "text": [
            "Looking in indexes: https://pypi.org/simple, https://us-python.pkg.dev/colab-wheels/public/simple/\n",
            "Requirement already satisfied: unidecode in /usr/local/lib/python3.8/dist-packages (1.3.6)\n",
            "['Visualizations\\xa0'] ['Visualizations ']\n"
          ]
        }
      ],
      "source": [
        "!pip install unidecode\n",
        "from unidecode import unidecode # package for removing unicode\n",
        "uncode_str = 'Visualizations\\xa0'\n",
        "fixed = unidecode(uncode_str) # example usage\n",
        "print([uncode_str],[fixed]) # print cleaned string (replaced with a space)"
      ]
    },
    {
      "cell_type": "markdown",
      "metadata": {
        "id": "WGMeI9PCiPRP"
      },
      "source": [
        "# Quantity of Text"
      ]
    },
    {
      "cell_type": "markdown",
      "metadata": {
        "id": "E_54RiCXiPRP"
      },
      "source": [
        "Count words per document."
      ]
    },
    {
      "cell_type": "code",
      "execution_count": 45,
      "metadata": {
        "ExecuteTime": {
          "end_time": "2022-02-25T09:35:39.259306Z",
          "start_time": "2022-02-25T09:35:39.016620Z"
        },
        "colab": {
          "base_uri": "https://localhost:8080/",
          "height": 282
        },
        "id": "8J-SrYRMiPRP",
        "outputId": "871497a2-1122-44e3-8b9b-d0e64dedbba1"
      },
      "outputs": [
        {
          "data": {
            "text/plain": [
              "<matplotlib.axes._subplots.AxesSubplot at 0x7f0763241760>"
            ]
          },
          "execution_count": 45,
          "metadata": {},
          "output_type": "execute_result"
        },
        {
          "data": {
            "image/png": "[encoded data removed]",
            "text/plain": [
              "<Figure size 432x288 with 1 Axes>"
            ]
          },
          "metadata": {
            "needs_background": "light"
          },
          "output_type": "display_data"
        }
      ],
      "source": [
        "def get_words_per_doc(txt):\n",
        "    # split text into words and count them.\n",
        "    return len(txt.split()) \n",
        "\n",
        "# apply to our dataframe\n",
        "df['num_words'] = df['opinion_text'].apply(get_words_per_doc)\n",
        "df['num_words'].hist()"
      ]
    },
    {
      "cell_type": "code",
      "execution_count": 46,
      "metadata": {
        "ExecuteTime": {
          "end_time": "2022-02-25T09:35:42.316770Z",
          "start_time": "2022-02-25T09:35:42.234336Z"
        },
        "colab": {
          "base_uri": "https://localhost:8080/",
          "height": 279
        },
        "id": "sH3dLSpyiPRP",
        "outputId": "891074b2-edad-4687-e69e-2d83a2eb8c3d"
      },
      "outputs": [
        {
          "data": {
            "image/png": "[encoded data removed]",
            "text/plain": [
              "<Figure size 432x288 with 1 Axes>"
            ]
          },
          "metadata": {
            "needs_background": "light"
          },
          "output_type": "display_data"
        }
      ],
      "source": [
        "# plot length by year\n",
        "ax = df.groupby('year')['num_words'].mean().plot()\n",
        "ax.set_ylabel('Average Opinion Length')\n",
        "import matplotlib.pyplot as plt\n",
        "plt.show()"
      ]
    },
    {
      "cell_type": "code",
      "execution_count": 47,
      "metadata": {
        "ExecuteTime": {
          "end_time": "2022-02-25T09:35:44.161062Z",
          "start_time": "2022-02-25T09:35:43.959415Z"
        },
        "colab": {
          "base_uri": "https://localhost:8080/",
          "height": 458
        },
        "id": "ucJeAAmCiPRP",
        "outputId": "43ce677b-f37a-4113-c6de-bfc25a548e04"
      },
      "outputs": [
        {
          "data": {
            "text/plain": [
              "<seaborn.axisgrid.JointGrid at 0x7f076318c880>"
            ]
          },
          "execution_count": 47,
          "metadata": {},
          "output_type": "execute_result"
        },
        {
          "data": {
            "image/png": "[encoded data removed]",
            "text/plain": [
              "<Figure size 432x432 with 3 Axes>"
            ]
          },
          "metadata": {
            "needs_background": "light"
          },
          "output_type": "display_data"
        }
      ],
      "source": [
        "df['log_words'] = np.log(df['num_words'])\n",
        "import seaborn as sns\n",
        "sns.jointplot(data=df,x='year', y='log_words',kind='hex')"
      ]
    },
    {
      "cell_type": "markdown",
      "metadata": {
        "id": "BqCa9d0SiPRP"
      },
      "source": [
        "Build a frequency distribution over words with `Counter`."
      ]
    },
    {
      "cell_type": "code",
      "execution_count": 48,
      "metadata": {
        "ExecuteTime": {
          "end_time": "2022-02-25T09:37:22.448696Z",
          "start_time": "2022-02-25T09:37:22.317909Z"
        },
        "colab": {
          "base_uri": "https://localhost:8080/"
        },
        "id": "T9k_5plOiPRP",
        "outputId": "75d39ee0-02a9-4f62-c166-15d5db83f590"
      },
      "outputs": [
        {
          "data": {
            "text/plain": [
              "[('the', 31600),\n",
              " ('of', 15978),\n",
              " ('to', 12330),\n",
              " ('a', 8954),\n",
              " ('that', 8521),\n",
              " ('in', 8324),\n",
              " ('and', 7619),\n",
              " ('at', 5044),\n",
              " ('for', 4496),\n",
              " ('is', 4032),\n",
              " ('not', 3577),\n",
              " ('l.', 3216),\n",
              " ('ed.', 3190),\n",
              " ('as', 3048),\n",
              " ('or', 2904),\n",
              " ('s.', 2828),\n",
              " ('§', 2738),\n",
              " ('ct.', 2735),\n",
              " ('court', 2615),\n",
              " ('on', 2587)]"
            ]
          },
          "execution_count": 48,
          "metadata": {},
          "output_type": "execute_result"
        }
      ],
      "source": [
        "from collections import Counter\n",
        "freqs = Counter()\n",
        "for i, row in df.iterrows():\n",
        "    freqs.update(row['opinion_text'].lower().split())\n",
        "    if i > 100:\n",
        "        break\n",
        "freqs.most_common()[:20] # can use most frequent words as style/function words"
      ]
    },
    {
      "cell_type": "markdown",
      "metadata": {
        "id": "pir05-v6iPRP",
        "toc-hr-collapsed": false
      },
      "source": [
        "# Dictionary / Matching Methods"
      ]
    },
    {
      "cell_type": "markdown",
      "metadata": {
        "id": "xU5twGl9iPRQ"
      },
      "source": [
        "## Sentiment Analysis"
      ]
    },
    {
      "cell_type": "code",
      "execution_count": 50,
      "metadata": {
        "ExecuteTime": {
          "end_time": "2022-02-25T08:49:07.616803Z",
          "start_time": "2022-02-25T08:49:07.610484Z"
        },
        "colab": {
          "base_uri": "https://localhost:8080/"
        },
        "id": "hNY9fXpLiPRQ",
        "outputId": "519b42ab-9cb7-4a0f-9da6-bce60dcff2f4"
      },
      "outputs": [
        {
          "name": "stdout",
          "output_type": "stream",
          "text": [
            "Looking in indexes: https://pypi.org/simple, https://us-python.pkg.dev/colab-wheels/public/simple/\n",
            "Collecting spacytextblob\n",
            "  Downloading spacytextblob-4.0.0-py3-none-any.whl (4.5 kB)\n",
            "Requirement already satisfied: textblob<0.16.0,>=0.15.3 in /usr/local/lib/python3.8/dist-packages (from spacytextblob) (0.15.3)\n",
            "Requirement already satisfied: spacy<4.0,>=3.0 in /usr/local/lib/python3.8/dist-packages (from spacytextblob) (3.4.4)\n",
            "Requirement already satisfied: pydantic!=1.8,!=1.8.1,<1.11.0,>=1.7.4 in /usr/local/lib/python3.8/dist-packages (from spacy<4.0,>=3.0->spacytextblob) (1.10.4)\n",
            "Requirement already satisfied: jinja2 in /usr/local/lib/python3.8/dist-packages (from spacy<4.0,>=3.0->spacytextblob) (2.11.3)\n",
            "Requirement already satisfied: spacy-legacy<3.1.0,>=3.0.10 in /usr/local/lib/python3.8/dist-packages (from spacy<4.0,>=3.0->spacytextblob) (3.0.12)\n",
            "Requirement already satisfied: preshed<3.1.0,>=3.0.2 in /usr/local/lib/python3.8/dist-packages (from spacy<4.0,>=3.0->spacytextblob) (3.0.8)\n",
            "Requirement already satisfied: tqdm<5.0.0,>=4.38.0 in /usr/local/lib/python3.8/dist-packages (from spacy<4.0,>=3.0->spacytextblob) (4.64.1)\n",
            "Requirement already satisfied: smart-open<7.0.0,>=5.2.1 in /usr/local/lib/python3.8/dist-packages (from spacy<4.0,>=3.0->spacytextblob) (6.3.0)\n",
            "Requirement already satisfied: spacy-loggers<2.0.0,>=1.0.0 in /usr/local/lib/python3.8/dist-packages (from spacy<4.0,>=3.0->spacytextblob) (1.0.4)\n",
            "Requirement already satisfied: wasabi<1.1.0,>=0.9.1 in /usr/local/lib/python3.8/dist-packages (from spacy<4.0,>=3.0->spacytextblob) (0.10.1)\n",
            "Requirement already satisfied: langcodes<4.0.0,>=3.2.0 in /usr/local/lib/python3.8/dist-packages (from spacy<4.0,>=3.0->spacytextblob) (3.3.0)\n",
            "Requirement already satisfied: cymem<2.1.0,>=2.0.2 in /usr/local/lib/python3.8/dist-packages (from spacy<4.0,>=3.0->spacytextblob) (2.0.7)\n",
            "Requirement already satisfied: thinc<8.2.0,>=8.1.0 in /usr/local/lib/python3.8/dist-packages (from spacy<4.0,>=3.0->spacytextblob) (8.1.7)\n",
            "Requirement already satisfied: srsly<3.0.0,>=2.4.3 in /usr/local/lib/python3.8/dist-packages (from spacy<4.0,>=3.0->spacytextblob) (2.4.5)\n",
            "Requirement already satisfied: requests<3.0.0,>=2.13.0 in /usr/local/lib/python3.8/dist-packages (from spacy<4.0,>=3.0->spacytextblob) (2.25.1)\n",
            "Requirement already satisfied: catalogue<2.1.0,>=2.0.6 in /usr/local/lib/python3.8/dist-packages (from spacy<4.0,>=3.0->spacytextblob) (2.0.8)\n",
            "Requirement already satisfied: packaging>=20.0 in /usr/local/lib/python3.8/dist-packages (from spacy<4.0,>=3.0->spacytextblob) (23.0)\n",
            "Requirement already satisfied: typer<0.8.0,>=0.3.0 in /usr/local/lib/python3.8/dist-packages (from spacy<4.0,>=3.0->spacytextblob) (0.7.0)\n",
            "Requirement already satisfied: setuptools in /usr/local/lib/python3.8/dist-packages (from spacy<4.0,>=3.0->spacytextblob) (57.4.0)\n",
            "Requirement already satisfied: pathy>=0.3.5 in /usr/local/lib/python3.8/dist-packages (from spacy<4.0,>=3.0->spacytextblob) (0.10.1)\n",
            "Requirement already satisfied: murmurhash<1.1.0,>=0.28.0 in /usr/local/lib/python3.8/dist-packages (from spacy<4.0,>=3.0->spacytextblob) (1.0.9)\n",
            "Requirement already satisfied: numpy>=1.15.0 in /usr/local/lib/python3.8/dist-packages (from spacy<4.0,>=3.0->spacytextblob) (1.21.6)\n",
            "Requirement already satisfied: nltk>=3.1 in /usr/local/lib/python3.8/dist-packages (from textblob<0.16.0,>=0.15.3->spacytextblob) (3.7)\n",
            "Requirement already satisfied: regex>=2021.8.3 in /usr/local/lib/python3.8/dist-packages (from nltk>=3.1->textblob<0.16.0,>=0.15.3->spacytextblob) (2022.6.2)\n",
            "Requirement already satisfied: click in /usr/local/lib/python3.8/dist-packages (from nltk>=3.1->textblob<0.16.0,>=0.15.3->spacytextblob) (7.1.2)\n",
            "Requirement already satisfied: joblib in /usr/local/lib/python3.8/dist-packages (from nltk>=3.1->textblob<0.16.0,>=0.15.3->spacytextblob) (1.2.0)\n",
            "Requirement already satisfied: typing-extensions>=4.2.0 in /usr/local/lib/python3.8/dist-packages (from pydantic!=1.8,!=1.8.1,<1.11.0,>=1.7.4->spacy<4.0,>=3.0->spacytextblob) (4.5.0)\n",
            "Requirement already satisfied: urllib3<1.27,>=1.21.1 in /usr/local/lib/python3.8/dist-packages (from requests<3.0.0,>=2.13.0->spacy<4.0,>=3.0->spacytextblob) (1.24.3)\n",
            "Requirement already satisfied: chardet<5,>=3.0.2 in /usr/local/lib/python3.8/dist-packages (from requests<3.0.0,>=2.13.0->spacy<4.0,>=3.0->spacytextblob) (4.0.0)\n",
            "Requirement already satisfied: idna<3,>=2.5 in /usr/local/lib/python3.8/dist-packages (from requests<3.0.0,>=2.13.0->spacy<4.0,>=3.0->spacytextblob) (2.10)\n",
            "Requirement already satisfied: certifi>=2017.4.17 in /usr/local/lib/python3.8/dist-packages (from requests<3.0.0,>=2.13.0->spacy<4.0,>=3.0->spacytextblob) (2022.12.7)\n",
            "Requirement already satisfied: confection<1.0.0,>=0.0.1 in /usr/local/lib/python3.8/dist-packages (from thinc<8.2.0,>=8.1.0->spacy<4.0,>=3.0->spacytextblob) (0.0.4)\n",
            "Requirement already satisfied: blis<0.8.0,>=0.7.8 in /usr/local/lib/python3.8/dist-packages (from thinc<8.2.0,>=8.1.0->spacy<4.0,>=3.0->spacytextblob) (0.7.9)\n",
            "Requirement already satisfied: MarkupSafe>=0.23 in /usr/local/lib/python3.8/dist-packages (from jinja2->spacy<4.0,>=3.0->spacytextblob) (2.0.1)\n",
            "Installing collected packages: spacytextblob\n",
            "Successfully installed spacytextblob-4.0.0\n",
            "3.4.4\n"
          ]
        }
      ],
      "source": [
        "!pip install spacytextblob\n",
        "import spacy\n",
        "from spacytextblob.spacytextblob import SpacyTextBlob\n",
        "print (spacy.__version__)"
      ]
    },
    {
      "cell_type": "code",
      "execution_count": 52,
      "metadata": {
        "ExecuteTime": {
          "end_time": "2022-02-25T08:49:09.741266Z",
          "start_time": "2022-02-25T08:49:08.751772Z"
        },
        "colab": {
          "base_uri": "https://localhost:8080/"
        },
        "id": "jYHavMTjiPRQ",
        "outputId": "d1bc38e8-ecff-4ca8-dc03-c218109e58e4"
      },
      "outputs": [
        {
          "name": "stderr",
          "output_type": "stream",
          "text": [
            "[nltk_data] Downloading package vader_lexicon to /root/nltk_data...\n"
          ]
        },
        {
          "name": "stdout",
          "output_type": "stream",
          "text": [
            "polarity 0.05404135338345859\n",
            "subjectivity 0.5065358709273183\n"
          ]
        }
      ],
      "source": [
        "# Dictionary-Based Sentiment Analysis\n",
        "nltk.download('vader_lexicon')\n",
        "\n",
        "# textblob sentiment analysis: https://github.com/sloria/TextBlob\n",
        "# pip install spacytextblob\n",
        "\n",
        "import spacy\n",
        "from spacytextblob.spacytextblob import SpacyTextBlob\n",
        "\n",
        "\n",
        "nlp = spacy.load('en_core_web_sm')\n",
        "# spacy_text_blob = SpacyTextBlob()\n",
        "nlp.add_pipe('spacytextblob')\n",
        "doc = nlp(df.iloc[0][\"opinion_text\"])\n",
        "#from nltk.sentiment.vader import SentimentIntensityAnalyzer\n",
        "#sid = SentimentIntensityAnalyzer()\n",
        "#polarity = sid.polarity_scores(text)\n",
        "print(\"polarity\", doc._.polarity) # sentimentintensityanalayzer nltk: {'neg': 0.134, 'neu': 0.785, 'pos': 0.081, 'compound': -0.9999}\n",
        "print (\"subjectivity\", doc._.subjectivity)"
      ]
    },
    {
      "cell_type": "code",
      "execution_count": 53,
      "metadata": {
        "ExecuteTime": {
          "end_time": "2022-02-25T08:50:48.585836Z",
          "start_time": "2022-02-25T08:49:12.565542Z"
        },
        "id": "3WGDpQ8liPRQ"
      },
      "outputs": [],
      "source": [
        "# sample 10% of the dataset\n",
        "dfs = df.sample(frac=.1) \n",
        "# apply compound sentiment score to data-frame\n",
        "def get_sentiment(snippet):\n",
        "    #return sid.polarity_scores(snippet)['compound']\n",
        "    return nlp(snippet)._.polarity\n",
        "dfs['sentiment'] = dfs['opinion_text'].apply(get_sentiment)"
      ]
    },
    {
      "cell_type": "code",
      "execution_count": 54,
      "metadata": {
        "ExecuteTime": {
          "end_time": "2022-02-25T08:50:48.590377Z",
          "start_time": "2022-02-25T08:50:48.586905Z"
        },
        "colab": {
          "base_uri": "https://localhost:8080/"
        },
        "id": "S7PqaX7EiPRQ",
        "outputId": "be798844-93b2-4f03-a4e4-a59f5f6851bc"
      },
      "outputs": [
        {
          "data": {
            "text/plain": [
              "[' \\n\\n This case presents the question whether uses of patented inventions in preclinical research, the',\n",
              " 't. \\n\\n This case requires us to decide whether the use of race as a factor in student admissions by t',\n",
              " ' \\n\\n  The State of Washington prohibits labor unions from using the agency-shop fees of a nonmember f',\n",
              " ' \\n\\n The question is whether the provision of the Fair Labor Standards Act of 1938 (FLSA or Act), tha',\n",
              " \"t. \\n\\n We granted certiorari to resolve whether the Nevada Supreme Court's refusal to extend full fai\"]"
            ]
          },
          "execution_count": 54,
          "metadata": {},
          "output_type": "execute_result"
        }
      ],
      "source": [
        "dfs.sort_values('sentiment',inplace=True)\n",
        "# print beginning of most positive documents\n",
        "[x[50:150] for x  in dfs[-5:]['opinion_text']]"
      ]
    },
    {
      "cell_type": "code",
      "execution_count": 55,
      "metadata": {
        "ExecuteTime": {
          "end_time": "2022-02-25T08:50:48.593796Z",
          "start_time": "2022-02-25T08:50:48.591101Z"
        },
        "colab": {
          "base_uri": "https://localhost:8080/"
        },
        "id": "lal2ldFFiPRQ",
        "outputId": "a2796627-1827-4046-bca3-f918cc5c2b30"
      },
      "outputs": [
        {
          "data": {
            "text/plain": [
              "['\\n\\nThe False Claims Act (FCA) imposes civil liability on any person who knowingly uses a \"false recor',\n",
              " ' \\n\\nWhen an alien is found ineligible to remain in the United States, the process for selecting the c',\n",
              " 'he Court. \\n\\n Petitioner Josue Leocal, a Haitian citizen who is a lawful permanent resident of the Un',\n",
              " \" \\n\\n Respondent Arturo Recuenco was convicted of assault in the second degree based on the jury's fin\",\n",
              " 'he Court. \\n\\n InTotten v. United States,92 U.S. 105, 23 L. Ed. 605 (1876), we held that public policy']"
            ]
          },
          "execution_count": 55,
          "metadata": {},
          "output_type": "execute_result"
        }
      ],
      "source": [
        "# print beginning of most negative documents\n",
        "[x[50:150] for x  in dfs[:5]['opinion_text']]"
      ]
    },
    {
      "cell_type": "code",
      "execution_count": 56,
      "metadata": {
        "ExecuteTime": {
          "end_time": "2022-02-25T08:51:03.211610Z",
          "start_time": "2022-02-25T08:50:58.841088Z"
        },
        "colab": {
          "base_uri": "https://localhost:8080/"
        },
        "id": "4KXquGPgiPRQ",
        "outputId": "2a5576e7-ad3d-4c80-fcda-3f4d15faca65"
      },
      "outputs": [
        {
          "data": {
            "text/plain": [
              "[' Court. \\n\\n  Under the Internal Revenue Code, individuals may subtract from their adjusted gross inco',\n",
              " 't and delivered an opinion, in which Justice Souter, Justice Ginsburg, and Justice Breyer join. \\n\\n T',\n",
              " '.\\n\\nA citizen of Hawaii comes before us claiming that an explicit, race-based voting qualification ha',\n",
              " 't and delivered the opinion of the Court with respect to Parts I, II, III, and VI, an opinion with r',\n",
              " 't. \\n\\n  For private actions brought under 42 U.S.C. § 1983 and other specified measures designed to s']"
            ]
          },
          "execution_count": 56,
          "metadata": {},
          "output_type": "execute_result"
        }
      ],
      "source": [
        "from nltk.sentiment.vader import SentimentIntensityAnalyzer\n",
        "sid = SentimentIntensityAnalyzer()\n",
        "# sample 20% of the dataset\n",
        "dfs = df.sample(frac=.1) \n",
        "\n",
        "# apply compound sentiment score to data-frame\n",
        "def get_sentiment(snippet):\n",
        "    return sid.polarity_scores(snippet)['compound']\n",
        "dfs['sentiment_vader'] = dfs['opinion_text'].apply(get_sentiment)\n",
        "dfs.sort_values('sentiment_vader',inplace=True)\n",
        "# print beginning of most positive documents\n",
        "[x[50:150] for x  in dfs[-5:]['opinion_text']]"
      ]
    },
    {
      "cell_type": "markdown",
      "metadata": {
        "id": "iBGAkjM4iPRQ"
      },
      "source": [
        "## Sentiment Analysis with Huggingface "
      ]
    },
    {
      "cell_type": "code",
      "execution_count": 58,
      "metadata": {
        "ExecuteTime": {
          "end_time": "2022-02-25T08:06:44.820739Z",
          "start_time": "2022-02-25T08:06:33.006201Z"
        },
        "colab": {
          "base_uri": "https://localhost:8080/",
          "height": 596,
          "referenced_widgets": [
            "ed8874be4e1c42afb3cc8a645b180598",
            "9f4eefb135e946da9a1505d566b128b9",
            "9df208654c614609a0dabf64545a84f3",
            "e99ed6262dd84070a6c04c677810bba5",
            "e5e0e95846ad404582ba6bf94f167a58",
            "3314b4b55538430c9b09399e6116b8ba",
            "61843c8ef14c4e09b19185a33d228f05",
            "da8143cdb3074ff78e4843ba69551d4e",
            "05ecc7db40a543f78e7d9da671168f6c",
            "32574f179e5f4805aa0316c20a569659",
            "76dbc1b114c34dc9bd4efedb834cb035",
            "359edd83a0f1475eb546b595d3e7181b",
            "86a62ba331b347f8b20b421ae7d0f679",
            "05e42458259e409aa2b343e0bad2b91d",
            "6f57a8d117204c0d83905a82b1227075",
            "45b1b1ebb9b94135ba8b15e9a02dfa34",
            "ee00a01debb04adcaedd32b2164242f4",
            "e7e8d89ce55f402590456f18b1ddf197",
            "a015087930b34bd294fe68c8ccfb75d2",
            "8c7be5f66f9446c285ef629da3d743be",
            "cc358683adb845b9a82c49d1d2dcada2",
            "e8bd209b0b32451fadc066e77e2a89fc",
            "6d087efec07e48f6ab5cd205ffb34a0d",
            "2c9558c3249845e78c77b5c70ec3e90b",
            "75c413a5cb6e4892b34089e5911a24d4",
            "6e1d0476923c48dda9bef058ee217edf",
            "e82d1fe3981a4c5097b5934f9142f5f5",
            "7df865f880ba42ad968989b92458423b",
            "22e36b70a12e4d4891d4d4e4ffe4f9cc",
            "9974cd1704104be0991d97e6501f28c8",
            "a86c2583e3734168b56d6dadfc9a3601",
            "cc605fe83c8647f0a0c6843d3c161f19",
            "5468652b41fd493486bbbf083e7017e4",
            "1e459812c30a40b5a3c739c47ff7ad80",
            "ca8297b096344888bd0a291d2d4b28d0",
            "507e223bd1514f97bfda1b54209ccbf3",
            "9db88f6e899c4de1b66b669421ae8ad1",
            "56437e3521a9402b85ddf750afb960d6",
            "4f77a0b2fb15451b9fbff8af2273360e",
            "f27a862f8c0b46eab9fdfc87fbb95611",
            "5cf15e5962f548d18f1565cc423e445a",
            "1cc40d75a1154b89a0cafa31c0db7235",
            "1007c31ac5444148a495a08c633bebf0",
            "2e8757a425d148178989ed71e370d0a7"
          ]
        },
        "id": "HKYoiEkoiPRQ",
        "outputId": "36b1c431-dd0b-4fb4-a805-6ae7abb0d587"
      },
      "outputs": [
        {
          "name": "stdout",
          "output_type": "stream",
          "text": [
            "Looking in indexes: https://pypi.org/simple, https://us-python.pkg.dev/colab-wheels/public/simple/\n",
            "Collecting transformers\n",
            "  Downloading transformers-4.26.1-py3-none-any.whl (6.3 MB)\n",
            "\u001b[2K     \u001b[90m━━━━━━━━━━━━━━━━━━━━━━━━━━━━━━━━━━━━━━━━\u001b[0m \u001b[32m6.3/6.3 MB\u001b[0m \u001b[31m60.5 MB/s\u001b[0m eta \u001b[36m0:00:00\u001b[0m\n",
            "\u001b[?25hRequirement already satisfied: regex!=2019.12.17 in /usr/local/lib/python3.8/dist-packages (from transformers) (2022.6.2)\n",
            "Requirement already satisfied: filelock in /usr/local/lib/python3.8/dist-packages (from transformers) (3.9.0)\n",
            "Collecting huggingface-hub<1.0,>=0.11.0\n",
            "  Downloading huggingface_hub-0.12.1-py3-none-any.whl (190 kB)\n",
            "\u001b[2K     \u001b[90m━━━━━━━━━━━━━━━━━━━━━━━━━━━━━━━━━━━━━━\u001b[0m \u001b[32m190.3/190.3 KB\u001b[0m \u001b[31m26.0 MB/s\u001b[0m eta \u001b[36m0:00:00\u001b[0m\n",
            "\u001b[?25hRequirement already satisfied: requests in /usr/local/lib/python3.8/dist-packages (from transformers) (2.25.1)\n",
            "Collecting tokenizers!=0.11.3,<0.14,>=0.11.1\n",
            "  Downloading tokenizers-0.13.2-cp38-cp38-manylinux_2_17_x86_64.manylinux2014_x86_64.whl (7.6 MB)\n",
            "\u001b[2K     \u001b[90m━━━━━━━━━━━━━━━━━━━━━━━━━━━━━━━━━━━━━━━━\u001b[0m \u001b[32m7.6/7.6 MB\u001b[0m \u001b[31m94.8 MB/s\u001b[0m eta \u001b[36m0:00:00\u001b[0m\n",
            "\u001b[?25hRequirement already satisfied: pyyaml>=5.1 in /usr/local/lib/python3.8/dist-packages (from transformers) (6.0)\n",
            "Requirement already satisfied: tqdm>=4.27 in /usr/local/lib/python3.8/dist-packages (from transformers) (4.64.1)\n",
            "Requirement already satisfied: numpy>=1.17 in /usr/local/lib/python3.8/dist-packages (from transformers) (1.21.6)\n",
            "Requirement already satisfied: packaging>=20.0 in /usr/local/lib/python3.8/dist-packages (from transformers) (23.0)\n",
            "Requirement already satisfied: typing-extensions>=3.7.4.3 in /usr/local/lib/python3.8/dist-packages (from huggingface-hub<1.0,>=0.11.0->transformers) (4.5.0)\n",
            "Requirement already satisfied: chardet<5,>=3.0.2 in /usr/local/lib/python3.8/dist-packages (from requests->transformers) (4.0.0)\n",
            "Requirement already satisfied: certifi>=2017.4.17 in /usr/local/lib/python3.8/dist-packages (from requests->transformers) (2022.12.7)\n",
            "Requirement already satisfied: urllib3<1.27,>=1.21.1 in /usr/local/lib/python3.8/dist-packages (from requests->transformers) (1.24.3)\n",
            "Requirement already satisfied: idna<3,>=2.5 in /usr/local/lib/python3.8/dist-packages (from requests->transformers) (2.10)\n",
            "Installing collected packages: tokenizers, huggingface-hub, transformers\n",
            "Successfully installed huggingface-hub-0.12.1 tokenizers-0.13.2 transformers-4.26.1\n"
          ]
        },
        {
          "name": "stderr",
          "output_type": "stream",
          "text": [
            "No model was supplied, defaulted to distilbert-base-uncased-finetuned-sst-2-english and revision af0f99b (https://huggingface.co/distilbert-base-uncased-finetuned-sst-2-english).\n",
            "Using a pipeline without specifying a model name and revision in production is not recommended.\n"
          ]
        },
        {
          "data": {
            "application/vnd.jupyter.widget-view+json": {
              "model_id": "ed8874be4e1c42afb3cc8a645b180598",
              "version_major": 2,
              "version_minor": 0
            },
            "text/plain": [
              "Downloading (…)lve/main/config.json:   0%|          | 0.00/629 [00:00<?, ?B/s]"
            ]
          },
          "metadata": {},
          "output_type": "display_data"
        },
        {
          "data": {
            "application/vnd.jupyter.widget-view+json": {
              "model_id": "359edd83a0f1475eb546b595d3e7181b",
              "version_major": 2,
              "version_minor": 0
            },
            "text/plain": [
              "Downloading (…)\"pytorch_model.bin\";:   0%|          | 0.00/268M [00:00<?, ?B/s]"
            ]
          },
          "metadata": {},
          "output_type": "display_data"
        },
        {
          "data": {
            "application/vnd.jupyter.widget-view+json": {
              "model_id": "6d087efec07e48f6ab5cd205ffb34a0d",
              "version_major": 2,
              "version_minor": 0
            },
            "text/plain": [
              "Downloading (…)okenizer_config.json:   0%|          | 0.00/48.0 [00:00<?, ?B/s]"
            ]
          },
          "metadata": {},
          "output_type": "display_data"
        },
        {
          "data": {
            "application/vnd.jupyter.widget-view+json": {
              "model_id": "1e459812c30a40b5a3c739c47ff7ad80",
              "version_major": 2,
              "version_minor": 0
            },
            "text/plain": [
              "Downloading (…)solve/main/vocab.txt:   0%|          | 0.00/232k [00:00<?, ?B/s]"
            ]
          },
          "metadata": {},
          "output_type": "display_data"
        }
      ],
      "source": [
        "!pip install transformers\n",
        "from transformers import pipeline, AutoModelForTokenClassification, AutoTokenizer\n",
        "pipe = pipeline(\"sentiment-analysis\")"
      ]
    },
    {
      "cell_type": "code",
      "execution_count": 59,
      "metadata": {
        "ExecuteTime": {
          "end_time": "2022-02-25T08:12:48.077724Z",
          "start_time": "2022-02-25T08:12:33.578170Z"
        },
        "colab": {
          "base_uri": "https://localhost:8080/",
          "height": 49,
          "referenced_widgets": [
            "52cc67fba2ce498886bb148a74ed4ca8",
            "ee944bd772e948c7b87e0b8ce2c3d9af",
            "1f3cee2147d2422fbbf5f41b09ac36a7",
            "c57e9dbedb824d74b69d30a1075c8186",
            "1b26ba6a141242e19804ec5263b8bb51",
            "3643c16622a3455e93f76cfeaf257c1f",
            "74eeba76f4ab4e898ab368b2aa208f19",
            "09290e2f780440429db28cd564a91ea9",
            "85e540079f004da6afb967ed69d3aad1",
            "9e26c90428ae46029eaadeb32299279a",
            "3305653928364d398df7ab5b2c7326aa"
          ]
        },
        "id": "cx5f682jiPRR",
        "outputId": "a031ff8d-8e18-47c2-bd7c-000b7481cdf5"
      },
      "outputs": [
        {
          "data": {
            "application/vnd.jupyter.widget-view+json": {
              "model_id": "52cc67fba2ce498886bb148a74ed4ca8",
              "version_major": 2,
              "version_minor": 0
            },
            "text/plain": [
              "  0%|          | 0/768 [00:00<?, ?it/s]"
            ]
          },
          "metadata": {},
          "output_type": "display_data"
        }
      ],
      "source": [
        "from torch.utils.data import Dataset\n",
        "from tqdm.auto import tqdm\n",
        "\n",
        "class OpinionDataset(Dataset):\n",
        "    def __init__(self, df):\n",
        "        super().__init__()\n",
        "        self.df = df\n",
        "    def __len__(self):\n",
        "        return len(df)\n",
        "\n",
        "    def __getitem__(self, i):\n",
        "        return df.iloc[i][\"opinion_text\"][:512] # BERT max seq length\n",
        "\n",
        "\n",
        "dataset = OpinionDataset(df)\n",
        "sentiments = []\n",
        "\n",
        "for out in tqdm(pipe(dataset, batch_size=16), total=len(dataset)):\n",
        "        if out['label'] == \"NEGATIVE\":\n",
        "            sentiments.append(-1*out['score'])\n",
        "        else:\n",
        "            sentiments.append(out['score'])"
      ]
    },
    {
      "cell_type": "code",
      "execution_count": 60,
      "metadata": {
        "ExecuteTime": {
          "end_time": "2022-02-25T08:08:31.770176Z",
          "start_time": "2022-02-25T08:08:31.762865Z"
        },
        "id": "wV3pElS7iPRR"
      },
      "outputs": [],
      "source": [
        "df['sentiments'] = sentiments"
      ]
    },
    {
      "cell_type": "code",
      "execution_count": 61,
      "metadata": {
        "ExecuteTime": {
          "end_time": "2022-02-25T08:08:32.130342Z",
          "start_time": "2022-02-25T08:08:32.122275Z"
        },
        "colab": {
          "base_uri": "https://localhost:8080/"
        },
        "id": "_I81R5ifiPRR",
        "outputId": "26bd049a-6aab-4698-afe7-079ea65b3cdd"
      },
      "outputs": [
        {
          "data": {
            "text/plain": [
              "['t. \\n\\n  The Federal Employees Liability Reform and Tort Compensation Act of 1988, commonly known as t',\n",
              " ' \\n\\n The authority of the Courts of Appeals to review \"all final decisions of the district courts,\" 2',\n",
              " '. \\n\\n The question before us is whether the Controlled Substances Act allows the United States Attorn',\n",
              " ' Court.\\n\\n\"To be prepared for war is one of the most effectual means of preserving peace.\" 1 Messages',\n",
              " ' Court. \\n\\nDNA testing has an unparalleled ability both to exonerate the wrongly convicted and to ide']"
            ]
          },
          "execution_count": 61,
          "metadata": {},
          "output_type": "execute_result"
        }
      ],
      "source": [
        "df.sort_values('sentiments',inplace=True)\n",
        "# print beginning of most positive documents\n",
        "[x[50:150] for x  in df[-5:]['opinion_text']]"
      ]
    },
    {
      "cell_type": "code",
      "execution_count": 62,
      "metadata": {
        "ExecuteTime": {
          "end_time": "2022-02-25T08:08:40.938052Z",
          "start_time": "2022-02-25T08:08:40.924251Z"
        },
        "colab": {
          "base_uri": "https://localhost:8080/"
        },
        "id": "ifez-Ci4iPRR",
        "outputId": "95930358-62db-4ad8-b855-6d3e876ede8e"
      },
      "outputs": [
        {
          "data": {
            "text/plain": [
              "[' Court. \\n\\nBad things happen if you fail to pay federal income taxes when due. One of them is that in',\n",
              " 't.\\n\\nPetitioner, a nonnamed member of a class certified under Federal Rule of Civil Procedure 23(b)(1',\n",
              " 't.\\n\\nPetitioner Remon Lee asserts that a Missouri trial court deprived him of due process when the co',\n",
              " '.\\n\\nThe Americans with Disabilities Act of 1990 (ADA or Act),  104 Stat. 327, as amended, 42 U.S.C. §',\n",
              " 't.\\n\\nThis case involves an action for damages against a railroad due to its alleged failure to mainta']"
            ]
          },
          "execution_count": 62,
          "metadata": {},
          "output_type": "execute_result"
        }
      ],
      "source": [
        "# print beginning of most negative documents\n",
        "[x[50:150] for x  in df[:5]['opinion_text']]"
      ]
    },
    {
      "cell_type": "markdown",
      "metadata": {
        "id": "wc3Jnxz_iPRR"
      },
      "source": [
        "## StopWords"
      ]
    },
    {
      "cell_type": "code",
      "execution_count": 64,
      "metadata": {
        "ExecuteTime": {
          "end_time": "2022-02-21T10:19:55.651335Z",
          "start_time": "2022-02-21T10:19:55.649820Z"
        },
        "colab": {
          "base_uri": "https://localhost:8080/"
        },
        "id": "xB8RmOrNiPRR",
        "outputId": "f3843b7e-34ac-4513-b8b3-bfca9e6acc38",
        "scrolled": true
      },
      "outputs": [
        {
          "name": "stdout",
          "output_type": "stream",
          "text": [
            "{'mine', 'beyond', 'ever', 'beforehand', 'again', 'up', 'in', 'on', 'among', 'between', 'here', 'such', 'via', 'across', 'her', 'ours', 'due', 'during', 'less', 'anyone', 'below', '’d', 'for', 'much', 'became', 'ten', 'will', 'becomes', 'some', 'move', 'same', 'enough', 'say', 'noone', 'why', 'unless', 'us', 'other', 'when', 'quite', 'moreover', 'thereupon', 'neither', 'except', 'does', 'various', 'seems', 'around', 'me', 'an', 'besides', 'anyway', 'alone', 'yet', 'been', 'above', 'what', 'eight', 'themselves', 'others', 'hereupon', 'then', 'ca', 'whereafter', '‘d', 'name', 'further', 'we', 'not', 'nobody', 'without', 'many', 'just', 'seem', '’ve', 'he', 'whereas', 'although', 'whatever', 'herself', 'thru', 'serious', 'only', 'n’t', 'made', 'onto', '’s', 'that', 'anywhere', 'therefore', 'last', 'first', 'while', 'well', 'if', 'whither', \"'s\", 'get', '’re', 'against', 'ourselves', 'forty', 'meanwhile', 'must', 'next', 'sixty', 'n‘t', 'go', \"'ve\", 'more', 'own', 'sometime', 'being', 'somewhere', 'do', 'whether', 'its', 'someone', 'mostly', 'am', 'however', 're', 'by', 'hers', 'become', 'nowhere', '‘ll', 'at', 'fifteen', 'rather', 'full', 'very', 'down', 'into', 'are', 'elsewhere', 'from', 'nor', 'always', 'whose', 'wherever', 'front', 'after', \"'m\", 'never', 'off', 'eleven', 'out', 'both', 'few', 'hereby', 'to', 'anyhow', 'so', 'them', 'still', '‘s', 'though', 'call', 'these', 'back', 'too', 'nine', 'whole', 'together', 'least', 'whence', 'bottom', 'top', 'amount', 'their', 'than', 'twelve', 'regarding', '‘ve', 'also', 'any', 'everything', 'empty', 'third', 'otherwise', 'twenty', 'seeming', 'becoming', 'former', 'myself', 'cannot', 'there', 'which', 'our', 'nevertheless', 'throughout', 'really', 'with', 'doing', 'now', 'yourself', 'used', 'thence', 'once', 'until', 'who', 'everywhere', \"'ll\", 'upon', 'over', 'already', 'about', 'none', 'behind', 'whenever', 'indeed', 'they', 'somehow', 'part', 'beside', 'nothing', 'perhaps', 'through', 'three', 'two', 'keep', 'afterwards', 'is', 'anything', 'his', '‘re', 'because', 'take', 'see', 'please', 'whom', 'i', 'where', 'or', 'this', 'no', 'else', 'even', 'of', 'yourselves', 'every', 'another', 'should', 'latter', 'side', 'latterly', 'all', 'were', 'itself', 'since', 'six', 'hence', 'formerly', 'everyone', 'put', 'each', 'your', 'was', '’m', 'using', 'but', 'him', 'has', 'fifty', 'might', 'often', 'it', 'show', 'most', \"'re\", \"'d\", 'amongst', 'whoever', 'she', 'under', 'would', 'done', 'those', 'towards', 'whereby', 'make', 'had', 'the', 'toward', '’ll', 'thereby', 'how', 'himself', 'and', 'sometimes', 'within', \"n't\", 'herein', 'thereafter', 'almost', '‘m', 'hereafter', 'seemed', 'four', 'can', 'be', 'whereupon', 'several', 'as', 'may', 'along', 'give', 'per', 'five', 'before', 'did', 'either', 'have', 'yours', 'wherein', 'one', 'you', 'hundred', 'something', 'a', 'my', 'therein', 'thus', 'could', 'namely'}\n"
          ]
        }
      ],
      "source": [
        "#from nltk.corpus import stopwords\n",
        "#stopwords = set(stopwords.words('english'))\n",
        "#stopwords\n",
        "from spacy.lang.en import stop_words\n",
        "print(stop_words.STOP_WORDS)"
      ]
    },
    {
      "cell_type": "code",
      "execution_count": 65,
      "metadata": {
        "ExecuteTime": {
          "end_time": "2022-02-21T10:19:55.654433Z",
          "start_time": "2022-02-21T10:19:55.652082Z"
        },
        "colab": {
          "base_uri": "https://localhost:8080/"
        },
        "id": "Vf4M47H_iPRR",
        "outputId": "3368bb52-59a1-422a-e2b6-0a81bd38ecd3"
      },
      "outputs": [
        {
          "data": {
            "text/plain": [
              "191526"
            ]
          },
          "execution_count": 65,
          "metadata": {},
          "output_type": "execute_result"
        }
      ],
      "source": [
        "#stopfreq = np.sum([freqs[x] for x in stopwords])\n",
        "#stopfreq # 174132 for NLTK stopwords\n",
        "stopwords = stop_words.STOP_WORDS\n",
        "stopfreq = np.sum([freqs[x] for x in stopwords])\n",
        "stopfreq"
      ]
    },
    {
      "cell_type": "code",
      "execution_count": 66,
      "metadata": {
        "ExecuteTime": {
          "end_time": "2022-02-21T10:19:55.663598Z",
          "start_time": "2022-02-21T10:19:55.655124Z"
        },
        "colab": {
          "base_uri": "https://localhost:8080/"
        },
        "id": "L9PfRycIiPRR",
        "outputId": "8104a46f-a074-461b-9b2e-4940281d6545"
      },
      "outputs": [
        {
          "data": {
            "text/plain": [
              "306516"
            ]
          },
          "execution_count": 66,
          "metadata": {},
          "output_type": "execute_result"
        }
      ],
      "source": [
        "otherfreq = np.sum([freqs[x] for x in freqs if x not in stopwords])\n",
        "otherfreq"
      ]
    },
    {
      "cell_type": "markdown",
      "metadata": {
        "id": "uUANBX6kiPRS"
      },
      "source": [
        "## RegEx"
      ]
    },
    {
      "cell_type": "markdown",
      "metadata": {
        "id": "1bFZVSPYiPRS"
      },
      "source": [
        "Please refer to [RegExOne Regular Expressions Lessons](regexone.com) and [the python documentation](https://docs.python.org/3/howto/regex.html)."
      ]
    },
    {
      "cell_type": "code",
      "execution_count": 67,
      "metadata": {
        "ExecuteTime": {
          "end_time": "2022-02-24T19:55:30.599081Z",
          "start_time": "2022-02-24T19:55:30.582719Z"
        },
        "colab": {
          "base_uri": "https://localhost:8080/"
        },
        "id": "_MTxpv8oiPRS",
        "outputId": "757d3eeb-828b-4d22-c33c-26a4b91ab293"
      },
      "outputs": [
        {
          "name": "stdout",
          "output_type": "stream",
          "text": [
            "['Justice Souter ']\n",
            "['Justice Breyer ']\n",
            "['Justice Stevens ']\n",
            "['Justice Souter ', 'Justice Ginsburg ', 'Justice Scalia ', 'Justice Ginsburg ']\n",
            "['Justice Alito ']\n"
          ]
        }
      ],
      "source": [
        "import re\n",
        "\n",
        "docs = dfs[:5]['opinion_text']\n",
        "\n",
        "# Extract words after justice.\n",
        "for doc in docs:    \n",
        "    print(re.findall(r'Justice \\w+ ', # pattern to match. always put 'r' in front of string so that backslashes are treated literally.\n",
        "                     doc,            # string\n",
        "                     re.IGNORECASE))  # ignore upper/lowercase (optional)"
      ]
    },
    {
      "cell_type": "code",
      "execution_count": 68,
      "metadata": {
        "ExecuteTime": {
          "end_time": "2022-02-24T19:55:36.006992Z",
          "start_time": "2022-02-24T19:55:35.971925Z"
        },
        "colab": {
          "base_uri": "https://localhost:8080/"
        },
        "id": "LxS-yPpziPRS",
        "outputId": "5c40483a-159a-482e-abc8-0b99fcaaba73"
      },
      "outputs": [
        {
          "name": "stdout",
          "output_type": "stream",
          "text": [
            "['eight-level', 'immigration-enforcement', 'Yanez-Garcia', 'Briones-Mata', 'state-law', 'Hinojosa-Lopez', 'Briones-Mata', 'Cabrera-Sosa', 'Restrepo-Aguilar', 'Gonzales-Gomez', 'state-law', 'Palacios-Suarez', 'Ibarra-Galindo', 'state-law', 'Pornes-Garcia', 'Cazarez-Gutierrez', 'state-law', 'Urena-Ramirez', 'state-by', 'misdemeanor-felony', 'one-sided', 'misdemeanor-felony']\n",
            "['fact-based', 'Arguelles-Olivares', 'Dulal-Whiteway', 'circumstance-specific', 'firearm-law', 'five-word', 'circumstance-specific', 'Estrada-Espinoza', 'circumstance-specific', 'circumstance-specific', 'circumstance-specific', 'tax-evasion', 'circumstance-specific', 'circumstance-specific', 'judge-approved', 'judge-made', 'sentencing-related']\n",
            "['well-grounded', 'common-law', 'evil-meaning', 'evil-doing', 'reasonable-doubt', 'common-law', 'Burden-of', 'common-law', 'common-law', 'common-law', 'common-law', 'firearm-based', 'common-law', 'long-established', 'common-law', 'well-settled', 'by-then', 'common-law', 'post-Davis', 'long-established', 'common-law', 'offense-specific', 'long-established', 'common-law']\n",
            "['cross-motions', 'entitled-to', 'injury-in', 'out-of', 'out-of']\n",
            "['drug-trafficking', 'drug-delivery', 'felon-in', 'drug-trafficking', 'Corona-Sanchez', 'drug-delivery', 'felon-in', 'felon-in', 'short-hand', 'repeat-offender', 'first-time', 'so-called', 'drug-trafficking', 'long-past', 'state-court', 'one-half', 'one-half']\n"
          ]
        }
      ],
      "source": [
        "# Extract hyphenated words\n",
        "for doc in docs:    \n",
        "    print(re.findall(r'[a-z]+-[a-z]+', \n",
        "                     doc,            \n",
        "                     re.IGNORECASE))  "
      ]
    },
    {
      "cell_type": "code",
      "execution_count": 69,
      "metadata": {
        "ExecuteTime": {
          "end_time": "2022-02-24T19:55:55.577176Z",
          "start_time": "2022-02-24T19:55:55.538386Z"
        },
        "colab": {
          "base_uri": "https://localhost:8080/"
        },
        "id": "ty_blSuYiPRS",
        "outputId": "23b22c9e-1a86-4de9-e484-f772fef7da70",
        "scrolled": true
      },
      "outputs": [
        {
          "name": "stdout",
          "output_type": "stream",
          "text": [
            "0 (568, 582) 102 Stat. 4469\n",
            "0 (612, 626) 108 Stat. 4320\n",
            "0 (2025, 2037) 2 (Nov. 2005\n",
            "0 (2498, 2511) 1 (Supp. 1997\n",
            "0 (2831, 2843) 543 U.S. 371\n",
            "0 (3882, 3894) 116 F.3d 308\n",
            "0 (4139, 4151) 417 F.3d 934\n",
            "0 (4728, 4740) 316 F.3d 506\n",
            "0 (4820, 4833) 168 F.3d 1271\n",
            "0 (4887, 4899) 130 F.3d 691\n",
            "0 (4950, 4962) 116 F.3d 308\n",
            "0 (5025, 5036) 81 F.3d 998\n",
            "0 (5092, 5103) 74 F.3d 361\n",
            "0 (5153, 5165) 441 F.3d 532\n",
            "0 (5259, 5271) 418 F.3d 692\n",
            "0 (5310, 5322) 280 F.3d 297\n",
            "0 (5520, 5533) 206 F.3d 1337\n",
            "0 (5641, 5653) 171 F.3d 142\n",
            "0 (5709, 5721) 382 F.3d 905\n",
            "0 (5818, 5829) 79 F.3d 315\n",
            "0 (5848, 5861) 547 U.S. 1054\n",
            "0 (6713, 6725) 174 F.3d 580\n",
            "0 (6727, 6740) 582 (CA5 1999\n",
            "0 (7268, 7281) 21 U.S.C. 801\n",
            "0 (8043, 8055) 510 U.S. 471\n",
            "0 (8356, 8367) 341 F.3d 51\n",
            "0 (8369, 8381) 57 (CA1 2003\n",
            "0 (8459, 8473) 681 (App. 1996\n",
            "0 (9014, 9026) 5 (2004), 22\n",
            "0 (9082, 9096) 115 (West 2003\n",
            "0 (9132, 9145) 35 (West 2003\n",
            "0 (9895, 9905) 543 U.S. 1\n",
            "0 (10275, 10292) 198 (Messner 1982\n",
            "0 (12270, 12281) 464 U.S. 16\n",
            "0 (14418, 14430) 540 U.S. 581\n",
            "1 (1012, 1024) 495 U.S. 575\n",
            "1 (2669, 2681) 523 F.3d 387\n",
            "1 (3248, 3259) 461 F.3d 45\n",
            "1 (3261, 3273) 55 (CA1 2006\n",
            "1 (3298, 3310) 523 F.3d 387\n",
            "1 (3363, 3375) 526 F.3d 171\n",
            "1 (3377, 3390) 178 (CA5 2008\n",
            "1 (3461, 3473) 501 F.3d 116\n",
            "1 (3475, 3488) 131 (CA2 2007\n",
            "1 (3537, 3550) 530 F.3d 1111\n",
            "1 (3552, 3566) 1117 (CA9 2008\n",
            "1 (3614, 3626) 479 F.3d 785\n",
            "1 (3628, 3642) 791 (CA11 2007\n",
            "1 (4129, 4141) 555 U.S. 122\n",
            "1 (5037, 5049) 550 U.S. 192\n",
            "1 (7597, 7610) 16 (West 2006\n",
            "1 (8181, 8192) 544 U.S. 13\n",
            "1 (10589, 10602) 546 F.3d 1147\n",
            "1 (10604, 10618) 1152 (CA9 2008\n",
            "1 (10704, 10716) 383 F.3d 144\n",
            "1 (10718, 10731) 164 (CA3 2004\n",
            "1 (10761, 10773) 436 F.3d 323\n",
            "1 (10795, 10807) 51 (CA2 2005\n",
            "1 (10926, 10937) 339 F.3d 91\n",
            "1 (10942, 10954) 96 (CA2 2003\n",
            "1 (11011, 11023) 544 F.3d 862\n",
            "1 (11029, 11042) 872 (CA7 2008\n",
            "1 (11072, 11084) 236 F.3d 130\n",
            "1 (11086, 11099) 136 (CA3 2001\n",
            "1 (13133, 13146) 2421 and 2422\n",
            "1 (13225, 13237) 544 F.3d 137\n",
            "1 (13243, 13256) 145 (CA2 2008\n",
            "1 (14825, 14836) 546 U.S. 21\n",
            "1 (16559, 16573) 110 Stat. 3009\n",
            "1 (17100, 17112) 555 U.S. 415\n",
            "1 (21331, 21342) 456 F.3d 88\n",
            "1 (21344, 21357) 107 (CA3 2006\n",
            "1 (21513, 21525) 429 F.3d 733\n",
            "1 (21531, 21544) 740 (CA7 2005\n",
            "1 (25566, 25578) 1585 or 1588\n",
            "1 (25888, 25900) 2381 or 2382\n",
            "1 (29681, 29694) 21 U.S.C. 801\n",
            "1 (29754, 29767) 21 U.S.C. 951\n",
            "1 (30109, 30122) 21 U.S.C. 802\n",
            "1 (31173, 31187) 110 Stat. 3009\n",
            "1 (31823, 31838) 103 (Supp. 1995\n",
            "1 (31846, 31859) 203 (1993), 5\n",
            "1 (31941, 31955) 487 (West 1985\n",
            "1 (32163, 32179) 2403 (Lexis 1987\n",
            "1 (32371, 32383) 1 (West 1997\n",
            "1 (33175, 33188) 20 (West 1996\n",
            "1 (33267, 33281) 13 (Lexis 1993\n",
            "1 (33331, 33346) 1451 (West 1991\n",
            "1 (33393, 33405) 3 (West 1991\n",
            "1 (33519, 33536) 4111 (1983), 4117\n",
            "1 (33736, 33749) 29 (1994), 11\n",
            "1 (33753, 33767) 30 (Supp. 1999\n",
            "1 (33911, 33925) 17 (Supp. 1997\n",
            "1 (34000, 34016) 1801 (Lexis 1996\n",
            "1 (34168, 34183) 195 (Lexis 1996\n",
            "1 (34235, 34248) 020 (1994), 9\n",
            "1 (34253, 34268) 030 (Supp. 2005\n",
            "1 (35227, 35242) 2109 (West 2000\n",
            "1 (35432, 35447) 2206 (West 1989\n",
            "1 (35564, 35579) 401 (Supp. 1996\n",
            "1 (36008, 36021) 5 (Lexis 1994\n",
            "1 (36439, 36456) 3 (deception), 35\n",
            "1 (36462, 36474) 4 (West 1993\n",
            "1 (36666, 36681) 3701 (1995), 21\n",
            "1 (36682, 36698) 3707 (Supp. 1996\n",
            "1 (36704, 36719) 3729 (1995), 21\n",
            "1 (36720, 36736) 3846 (Supp. 1996\n",
            "1 (36889, 36902) 17 (West 1995\n",
            "1 (37092, 37104) 6 (1994), 30\n",
            "1 (37108, 37121) 13 (1997), 30\n",
            "1 (37125, 37137) 7 (1989), 30\n",
            "1 (37297, 37310) 05 (West 1988\n",
            "1 (37625, 37639) 48 (Lexis 1996\n",
            "1 (37699, 37712) 02 (West 1994\n",
            "1 (38182, 38196) 122 (West 1994\n",
            "1 (38334, 38349) 012 (1994), 812\n",
            "1 (38564, 38576) 1 (West 1995\n",
            "1 (38873, 38885) 2 (West 1993\n",
            "1 (38892, 38904) 8 (West 1993\n",
            "1 (38936, 38948) 9 (West 1993\n",
            "1 (39235, 39249) 05 (Lexis 1997\n",
            "1 (39445, 39458) 1991 and 1995\n",
            "2 (1152, 1164) 413 F.3d 520\n",
            "2 (1279, 1291) 78 F.3d 1183\n",
            "2 (1293, 1307) 1186 (CA7 1996\n",
            "2 (1346, 1357) 28 F.3d 565\n",
            "2 (1367, 1378) 2 (CA6 1994\n",
            "2 (1406, 1419) 979 F.2d 1282\n",
            "2 (1421, 1435) 1287 (CA8 1992\n",
            "2 (1460, 1473) 546 U.S. 1135\n",
            "2 (2218, 2230) 444 U.S. 394\n",
            "2 (3090, 3102) 802 F.2d 115\n",
            "2 (3104, 3117) 118 (CA5 1986\n",
            "2 (4520, 4532) 524 U.S. 184\n",
            "2 (5037, 5049) 397 U.S. 358\n",
            "2 (6125, 6137) 444 U.S. 394\n",
            "2 (7139, 7151) 342 U.S. 246\n",
            "2 (8682, 8694) 471 U.S. 419\n",
            "2 (9253, 9265) 480 U.S. 228\n",
            "2 (9408, 9420) 432 U.S. 197\n",
            "2 (10732, 10744) 160 U.S. 469\n",
            "2 (11189, 11203) 281 (quoting 4\n",
            "2 (11335, 11347) 421 U.S. 684\n",
            "2 (16614, 16626) 165 U.S. 373\n",
            "2 (17609, 17621) 343 U.S. 790\n",
            "2 (17759, 17771) 369 U.S. 705\n",
            "2 (18171, 18182) 295 F.2d 26\n",
            "2 (18184, 18196) 28 (CA4 1961\n",
            "2 (18246, 18258) 148 F.2d 665\n",
            "2 (18260, 18274) 666 (CADC 1945\n",
            "2 (18299, 18307) 135 F. 1\n",
            "2 (18309, 18321) 10 (CA5 1905\n",
            "2 (18695, 18708) 98 Stat. 2057\n",
            "2 (19680, 19692) 532 U.S. 483\n",
            "2 (20437, 20449) 82 Stat. 197\n",
            "2 (20976, 20988) 82 Stat. 225\n",
            "2 (21584, 21596) 532 U.S. 483\n",
            "2 (21634, 21656) 722 (2001);Bailey, 444\n",
            "2 (22378, 22390) 260 U.S. 353\n",
            "2 (22468, 22479) 40 U.S. 141\n",
            "2 (22481, 22492) 15 Pet. 141\n",
            "2 (24249, 24261) 291 F.2d 150\n",
            "2 (24263, 24276) 152 (CA8 1961\n",
            "2 (25932, 25944) 192 F.2d 338\n",
            "2 (25954, 25966) 11 (CA9 1951\n",
            "2 (28155, 28167) 82 Stat. 233\n",
            "2 (28448, 28461) 100 Stat. 456\n",
            "3 (462, 473) 83 Stat 792\n",
            "3 (2161, 2173) 306 F.3d 170\n",
            "3 (3202, 3212) 330 F.3d 1\n",
            "3 (3285, 3296) 49 F.3d 597\n",
            "3 (3365, 3377) 888 F.2d 870\n",
            "3 (3436, 3448) 700 F.2d 971\n",
            "3 (3502, 3514) 665 F.2d 327\n",
            "3 (3580, 3592) 539 U.S. 957\n",
            "3 (3929, 3941) 88 Stat 1896\n",
            "3 (11016, 11027) 4 id.,§ 867\n",
            "3 (12277, 12291) 531 (July 1977\n",
            "3 (12312, 12324) 88 Stat 1907\n",
            "3 (17489, 17501) 514 U.S. 122\n",
            "3 (18491, 18503) 306 F.3d 170\n",
            "3 (18823, 18835) 421 U.S. 240\n",
            "3 (20324, 20335) 461 U.S. 95\n",
            "3 (20375, 20390) 1660 (1983). 10\n",
            "3 (21187, 21199) 90 Stat 1665\n",
            "3 (21273, 21285) 90 Stat 1687\n",
            "3 (21419, 21432) 100 Stat 1866\n",
            "3 (22863, 22875) 531 U.S. 159\n",
            "3 (22992, 23004) 447 U.S. 102\n",
            "3 (23047, 23063) 2051 (1980)). 11\n",
            "3 (23918, 23930) 665 F.2d 327\n",
            "3 (24044, 24056) 700 F.2d 971\n",
            "4 (484, 497) 464 F.3d 1072\n",
            "4 (3366, 3379) 21 U.S.C. 802\n",
            "4 (4124, 4137) 291 F.3d 1201\n",
            "4 (4166, 4179) 464 F.3d 1072\n",
            "4 (4296, 4308) 374 F.3d 467\n",
            "4 (4333, 4345) 543 U.S. 967\n",
            "4 (4509, 4521) 444 F.3d 710\n",
            "4 (4523, 4536) 712 (CA5 2006\n",
            "4 (4578, 4590) 326 F.3d 535\n",
            "4 (4592, 4605) 539 (CA4 2003\n",
            "4 (4672, 4685) 551 U.S. 1191\n",
            "4 (7743, 7755) 420 F.3d 111\n",
            "4 (7757, 7770) 132 (CA2 2005\n",
            "4 (7802, 7814) 354 F.3d 178\n",
            "4 (7820, 7833) 186 (CA2 2004\n",
            "4 (10476, 10488) 515 U.S. 389\n",
            "4 (10556, 10568) 385 U.S. 554\n",
            "4 (11179, 11191) 511 U.S. 738\n",
            "4 (11465, 11477) 446 U.S. 222\n",
            "4 (12092, 12104) 334 U.S. 728\n",
            "4 (12769, 12781) 520 U.S. 751\n",
            "4 (14174, 14186) 495 U.S. 575\n",
            "4 (18646, 18657) 544 U.S. 13\n",
            "4 (19553, 19562) 605 So. 2\n",
            "4 (19570, 19586) 1172 (Miss. 1992\n",
            "4 (19616, 19629) 13 Cal.3d 592\n",
            "4 (19660, 19673) 531 P.2d 1086\n",
            "4 (21504, 21516) 0 (Nov. 2007\n",
            "4 (21790, 21804) 100 Stat. 3207\n",
            "4 (22260, 22273) 402 N.W.2d 34\n",
            "4 (22372, 22384) 717 P.2d 413\n",
            "4 (22459, 22468) 106 Wn. 2\n",
            "4 (22484, 22497) 723 P.2d 1111\n",
            "4 (22553, 22567) 395 N.W.2d 469\n",
            "4 (22616, 22625) 496 So. 2\n",
            "4 (22716, 22728) 496 A.2d 752\n",
            "4 (23574, 23587) 98 Stat. 1987\n",
            "4 (24712, 24725) 98 Stat. 1991\n",
            "4 (24726, 24738) 1992 (new 18\n",
            "4 (24891, 24904) 98 Stat. 2032\n",
            "4 (25649, 25661) 503 U.S. 291\n",
            "4 (25943, 25956) 98 Stat. 2013\n",
            "4 (26019, 26033) 100 Stat. 3596\n"
          ]
        }
      ],
      "source": [
        "# extract citations\n",
        "for i, doc in enumerate(docs):\n",
        "    finder = re.finditer('\\d+ [^\\s]+ \\d+', # pattern to match ([^\\s] means non-white-space)\n",
        "                     doc)            # string\n",
        "    for m in finder: \n",
        "        print(i, m.span(),m.group()) # location (start,end) and matching string"
      ]
    },
    {
      "cell_type": "code",
      "execution_count": 70,
      "metadata": {
        "ExecuteTime": {
          "end_time": "2022-02-24T19:58:23.470487Z",
          "start_time": "2022-02-24T19:58:23.465391Z"
        },
        "id": "oJT1Wx92iPRS"
      },
      "outputs": [],
      "source": [
        "# baker-bloom economic uncertainty\n",
        "pattern1 = r'(\\b)uncertain[a-z]*'\n",
        "pattern2 = r'(\\b)econom[a-z]*'\n",
        "pattern3 = r'(\\b)congress(\\b)|(\\b)deficit(\\b)|(\\b)federal reserve(\\b)|(\\b)legislation(\\b)|(\\b)regulation(\\b)|(\\b)white house(\\b)'\n",
        "\n"
      ]
    },
    {
      "cell_type": "code",
      "execution_count": 71,
      "metadata": {
        "ExecuteTime": {
          "end_time": "2022-02-24T19:57:51.856588Z",
          "start_time": "2022-02-24T19:57:51.848343Z"
        },
        "colab": {
          "base_uri": "https://localhost:8080/"
        },
        "id": "2cFfttqbiPRS",
        "outputId": "fc4e2be9-364f-4a8a-d1ad-7e5c2963f550"
      },
      "outputs": [
        {
          "data": {
            "text/plain": [
              "<re.Match object; span=(30, 41), match='uncertainty'>"
            ]
          },
          "execution_count": 71,
          "metadata": {},
          "output_type": "execute_result"
        }
      ],
      "source": [
        "re.search(pattern1,'The White House tried to calm uncertainty in the markets.')"
      ]
    },
    {
      "cell_type": "code",
      "execution_count": 72,
      "metadata": {
        "ExecuteTime": {
          "end_time": "2022-02-24T19:57:57.465095Z",
          "start_time": "2022-02-24T19:57:57.455425Z"
        },
        "colab": {
          "base_uri": "https://localhost:8080/"
        },
        "id": "30R2Ios4iPRS",
        "outputId": "e5eebd35-22ad-406d-f467-b8dc75d2c97c"
      },
      "outputs": [
        {
          "data": {
            "text/plain": [
              "<re.Match object; span=(46, 53), match='economy'>"
            ]
          },
          "execution_count": 72,
          "metadata": {},
          "output_type": "execute_result"
        }
      ],
      "source": [
        "re.search(pattern2,'The Congress tried to calm uncertainty in the economy.')"
      ]
    },
    {
      "cell_type": "code",
      "execution_count": 73,
      "metadata": {
        "ExecuteTime": {
          "end_time": "2022-02-24T19:58:25.501487Z",
          "start_time": "2022-02-24T19:58:25.495322Z"
        },
        "id": "BYmQDDiGiPRS"
      },
      "outputs": [],
      "source": [
        "re.search(pattern3,'The Congress tried to calm uncertainty in the markets.')"
      ]
    },
    {
      "cell_type": "code",
      "execution_count": 74,
      "metadata": {
        "ExecuteTime": {
          "end_time": "2022-02-24T19:58:25.891850Z",
          "start_time": "2022-02-24T19:58:25.885051Z"
        },
        "colab": {
          "base_uri": "https://localhost:8080/"
        },
        "id": "tT23TQqMiPRS",
        "outputId": "dcb8095c-a569-4942-c72b-61fb502b10b2"
      },
      "outputs": [
        {
          "data": {
            "text/plain": [
              "<re.Match object; span=(4, 12), match='Congress'>"
            ]
          },
          "execution_count": 74,
          "metadata": {},
          "output_type": "execute_result"
        }
      ],
      "source": [
        "re.search(pattern3,'The Congress tried to calm uncertainty in the markets.', re.IGNORECASE)"
      ]
    },
    {
      "cell_type": "code",
      "execution_count": 75,
      "metadata": {
        "ExecuteTime": {
          "end_time": "2022-02-24T19:58:27.988977Z",
          "start_time": "2022-02-24T19:58:27.983865Z"
        },
        "id": "Ob5qSzzfiPRT"
      },
      "outputs": [],
      "source": [
        "def indicates_uncertainty(doc):\n",
        "    m1 = re.search(pattern1, doc, re.IGNORECASE)\n",
        "    m2 = re.search(pattern2, doc, re.IGNORECASE)\n",
        "    m3 = re.search(pattern3, doc, re.IGNORECASE)\n",
        "    if m1 and m2 and m3:\n",
        "        return True\n",
        "    else:\n",
        "        return False"
      ]
    },
    {
      "cell_type": "code",
      "execution_count": 76,
      "metadata": {
        "ExecuteTime": {
          "end_time": "2022-02-24T19:58:31.927254Z",
          "start_time": "2022-02-24T19:58:31.915697Z"
        },
        "colab": {
          "base_uri": "https://localhost:8080/"
        },
        "id": "biB8UluRiPRT",
        "outputId": "a66dc8fa-d9f1-4ca1-d214-95c48e4e2b0e"
      },
      "outputs": [
        {
          "data": {
            "text/plain": [
              "True"
            ]
          },
          "execution_count": 76,
          "metadata": {},
          "output_type": "execute_result"
        }
      ],
      "source": [
        "indicates_uncertainty('The White House tried to calm uncertainty in the economy.')"
      ]
    },
    {
      "cell_type": "code",
      "execution_count": 77,
      "metadata": {
        "ExecuteTime": {
          "end_time": "2022-02-24T19:59:06.550986Z",
          "start_time": "2022-02-24T19:59:06.537632Z"
        },
        "colab": {
          "base_uri": "https://localhost:8080/"
        },
        "id": "pUKHkjKaiPRT",
        "outputId": "57315a23-3ddc-4d97-e086-65d141119ebb"
      },
      "outputs": [
        {
          "data": {
            "text/plain": [
              "False"
            ]
          },
          "execution_count": 77,
          "metadata": {},
          "output_type": "execute_result"
        }
      ],
      "source": [
        "indicates_uncertainty('The White House tried to calm uncertainty in the markets.')"
      ]
    },
    {
      "cell_type": "code",
      "execution_count": 78,
      "metadata": {
        "ExecuteTime": {
          "end_time": "2022-02-25T09:55:15.135040Z",
          "start_time": "2022-02-25T09:55:13.319551Z"
        },
        "id": "r7E1KO3viPRT"
      },
      "outputs": [],
      "source": [
        "df['uncertainty'] = df['opinion_text'].apply(indicates_uncertainty)"
      ]
    },
    {
      "cell_type": "code",
      "execution_count": 80,
      "metadata": {
        "colab": {
          "base_uri": "https://localhost:8080/"
        },
        "id": "FbG_-a15iPRT",
        "outputId": "1a547650-b179-41ba-e6b1-955489568d04"
      },
      "outputs": [
        {
          "data": {
            "text/plain": [
              "0.057291666666666664"
            ]
          },
          "execution_count": 80,
          "metadata": {},
          "output_type": "execute_result"
        }
      ],
      "source": [
        "df.uncertainty.mean()"
      ]
    },
    {
      "cell_type": "code",
      "execution_count": 79,
      "metadata": {
        "colab": {
          "base_uri": "https://localhost:8080/",
          "height": 296
        },
        "id": "HzVKJGA2iPRT",
        "outputId": "2a3aff5d-34d1-4769-d60a-5133b638727f"
      },
      "outputs": [
        {
          "data": {
            "text/plain": [
              "<matplotlib.axes._subplots.AxesSubplot at 0x7f075f811d90>"
            ]
          },
          "execution_count": 79,
          "metadata": {},
          "output_type": "execute_result"
        },
        {
          "data": {
            "image/png": "[encoded data removed]",
            "text/plain": [
              "<Figure size 432x288 with 1 Axes>"
            ]
          },
          "metadata": {
            "needs_background": "light"
          },
          "output_type": "display_data"
        }
      ],
      "source": [
        "df.groupby('year')['uncertainty'].mean().plot()"
      ]
    },
    {
      "cell_type": "markdown",
      "metadata": {
        "id": "bOJgkL4SiPRT"
      },
      "source": [
        "## WordNet"
      ]
    },
    {
      "cell_type": "markdown",
      "metadata": {
        "id": "q-e_fWhYiPRT"
      },
      "source": [
        "These examples are based on the [NLTK tutorial](https://www.nltk.org/howto/wordnet.html)."
      ]
    },
    {
      "cell_type": "code",
      "execution_count": 83,
      "metadata": {
        "ExecuteTime": {
          "end_time": "2022-02-25T09:58:47.493172Z",
          "start_time": "2022-02-25T09:58:47.486145Z"
        },
        "colab": {
          "base_uri": "https://localhost:8080/"
        },
        "id": "77ynmSs5iPRT",
        "outputId": "271adf2c-0a1a-4e57-8f37-5ab76cffd77f"
      },
      "outputs": [
        {
          "name": "stderr",
          "output_type": "stream",
          "text": [
            "[nltk_data] Downloading package wordnet to /root/nltk_data...\n"
          ]
        }
      ],
      "source": [
        "nltk.download('wordnet')\n",
        "from nltk.corpus import wordnet as wn"
      ]
    },
    {
      "cell_type": "code",
      "execution_count": 85,
      "metadata": {
        "ExecuteTime": {
          "end_time": "2022-02-24T20:02:33.505007Z",
          "start_time": "2022-02-24T20:02:33.498808Z"
        },
        "colab": {
          "base_uri": "https://localhost:8080/"
        },
        "id": "N1XCBkGJiPRT",
        "outputId": "e41cb87a-a764-48c0-8f48-fca5e6861a8e"
      },
      "outputs": [
        {
          "name": "stderr",
          "output_type": "stream",
          "text": [
            "[nltk_data] Downloading package omw-1.4 to /root/nltk_data...\n"
          ]
        },
        {
          "data": {
            "text/plain": [
              "[Synset('judge.n.01'),\n",
              " Synset('evaluator.n.01'),\n",
              " Synset('judge.v.01'),\n",
              " Synset('evaluate.v.02'),\n",
              " Synset('estimate.v.01'),\n",
              " Synset('pronounce.v.02'),\n",
              " Synset('judge.v.05')]"
            ]
          },
          "execution_count": 85,
          "metadata": {},
          "output_type": "execute_result"
        }
      ],
      "source": [
        "nltk.download('omw-1.4')\n",
        "wn.synsets('judge')"
      ]
    },
    {
      "cell_type": "code",
      "execution_count": 86,
      "metadata": {
        "ExecuteTime": {
          "end_time": "2022-02-25T09:59:45.313935Z",
          "start_time": "2022-02-25T09:59:45.305618Z"
        },
        "colab": {
          "base_uri": "https://localhost:8080/"
        },
        "id": "L7CF1lYXiPRT",
        "outputId": "0237428c-33e4-4588-ba9b-33df94303cc5"
      },
      "outputs": [
        {
          "data": {
            "text/plain": [
              "[Synset('judge.v.01'),\n",
              " Synset('evaluate.v.02'),\n",
              " Synset('estimate.v.01'),\n",
              " Synset('pronounce.v.02'),\n",
              " Synset('judge.v.05')]"
            ]
          },
          "execution_count": 86,
          "metadata": {},
          "output_type": "execute_result"
        }
      ],
      "source": [
        "wn.synsets('judge', pos='v') # can filter on part of speech"
      ]
    },
    {
      "cell_type": "code",
      "execution_count": 87,
      "metadata": {
        "ExecuteTime": {
          "end_time": "2022-02-25T09:59:55.836509Z",
          "start_time": "2022-02-25T09:59:55.828784Z"
        },
        "colab": {
          "base_uri": "https://localhost:8080/"
        },
        "id": "GUWOYqCEiPRU",
        "outputId": "58299db0-de29-4fb5-b04a-afe7d85c7e97"
      },
      "outputs": [
        {
          "data": {
            "text/plain": [
              "Synset('judge.n.01')"
            ]
          },
          "execution_count": 87,
          "metadata": {},
          "output_type": "execute_result"
        }
      ],
      "source": [
        "judge = wn.synset('judge.n.01')\n",
        "judge"
      ]
    },
    {
      "cell_type": "code",
      "execution_count": 88,
      "metadata": {
        "ExecuteTime": {
          "end_time": "2022-02-25T10:00:03.911052Z",
          "start_time": "2022-02-25T10:00:03.902438Z"
        },
        "colab": {
          "base_uri": "https://localhost:8080/",
          "height": 35
        },
        "id": "D94aLSxXiPRU",
        "outputId": "4f20c1a2-a0c6-4305-e4e1-10a97255f979"
      },
      "outputs": [
        {
          "data": {
            "application/vnd.google.colaboratory.intrinsic+json": {
              "type": "string"
            },
            "text/plain": [
              "'a public official authorized to decide questions brought before a court of justice'"
            ]
          },
          "execution_count": 88,
          "metadata": {},
          "output_type": "execute_result"
        }
      ],
      "source": [
        "judge.definition()"
      ]
    },
    {
      "cell_type": "code",
      "execution_count": 89,
      "metadata": {
        "ExecuteTime": {
          "end_time": "2022-02-25T10:00:10.315766Z",
          "start_time": "2022-02-25T10:00:10.304304Z"
        },
        "colab": {
          "base_uri": "https://localhost:8080/"
        },
        "id": "iRVBu8CLiPRU",
        "outputId": "10685dff-f275-45f5-a872-8c3915d7fd87"
      },
      "outputs": [
        {
          "data": {
            "text/plain": [
              "['I estimate this chicken to weigh three pounds']"
            ]
          },
          "execution_count": 89,
          "metadata": {},
          "output_type": "execute_result"
        }
      ],
      "source": [
        "wn.synset('estimate.v.01').examples()"
      ]
    },
    {
      "cell_type": "code",
      "execution_count": 90,
      "metadata": {
        "ExecuteTime": {
          "end_time": "2022-02-25T07:57:50.442433Z",
          "start_time": "2022-02-25T07:57:50.431143Z"
        },
        "colab": {
          "base_uri": "https://localhost:8080/"
        },
        "id": "P4uI3QggiPRU",
        "outputId": "4a55a792-4778-48e2-ccb7-1065c304a2b9"
      },
      "outputs": [
        {
          "data": {
            "text/plain": [
              "[Synset('adjudicator.n.01'), Synset('official.n.01')]"
            ]
          },
          "execution_count": 90,
          "metadata": {},
          "output_type": "execute_result"
        }
      ],
      "source": [
        "# categories to which \"judge.n.01\" belongs\n",
        "judge.hypernyms()"
      ]
    },
    {
      "cell_type": "code",
      "execution_count": 91,
      "metadata": {
        "ExecuteTime": {
          "end_time": "2022-02-25T10:00:48.120317Z",
          "start_time": "2022-02-25T10:00:48.113103Z"
        },
        "colab": {
          "base_uri": "https://localhost:8080/"
        },
        "id": "RJ34hPoYiPRU",
        "outputId": "28760530-5926-4d4e-96d9-779a57cdb9c5"
      },
      "outputs": [
        {
          "data": {
            "text/plain": [
              "[Synset('entity.n.01')]"
            ]
          },
          "execution_count": 91,
          "metadata": {},
          "output_type": "execute_result"
        }
      ],
      "source": [
        "# the root category of \"judge.n.01\"\n",
        "judge.root_hypernyms()"
      ]
    },
    {
      "cell_type": "code",
      "execution_count": 92,
      "metadata": {
        "ExecuteTime": {
          "end_time": "2022-02-25T10:00:53.937497Z",
          "start_time": "2022-02-25T10:00:53.928251Z"
        },
        "colab": {
          "base_uri": "https://localhost:8080/"
        },
        "id": "nsWzeOlviPRU",
        "outputId": "cd292f19-97f1-407b-b7da-944ba77d8ba0"
      },
      "outputs": [
        {
          "data": {
            "text/plain": [
              "[Synset('think.v.03')]"
            ]
          },
          "execution_count": 92,
          "metadata": {},
          "output_type": "execute_result"
        }
      ],
      "source": [
        "wn.synset('estimate.v.01').root_hypernyms()"
      ]
    },
    {
      "cell_type": "code",
      "execution_count": 93,
      "metadata": {
        "ExecuteTime": {
          "end_time": "2022-02-25T10:01:08.703182Z",
          "start_time": "2022-02-25T10:01:08.696863Z"
        },
        "colab": {
          "base_uri": "https://localhost:8080/"
        },
        "id": "t2pgFUB8iPRU",
        "outputId": "22660af2-0a3c-4f62-b285-2d3a869aa477"
      },
      "outputs": [
        {
          "data": {
            "text/plain": [
              "[Synset('alcalde.n.01'),\n",
              " Synset('chief_justice.n.01'),\n",
              " Synset('daniel.n.02'),\n",
              " Synset('doge.n.01'),\n",
              " Synset('justiciar.n.01'),\n",
              " Synset('magistrate.n.01'),\n",
              " Synset('ordinary.n.01'),\n",
              " Synset('praetor.n.01'),\n",
              " Synset('qadi.n.01'),\n",
              " Synset('recorder.n.03'),\n",
              " Synset('trial_judge.n.01'),\n",
              " Synset('trier.n.01')]"
            ]
          },
          "execution_count": 93,
          "metadata": {},
          "output_type": "execute_result"
        }
      ],
      "source": [
        "# members of the \"judge.n.01\" category\n",
        "judge.hyponyms()"
      ]
    },
    {
      "cell_type": "code",
      "execution_count": 94,
      "metadata": {
        "ExecuteTime": {
          "end_time": "2022-02-25T08:02:52.324402Z",
          "start_time": "2022-02-25T08:02:52.314403Z"
        },
        "colab": {
          "base_uri": "https://localhost:8080/"
        },
        "id": "mvz1E52PiPRU",
        "outputId": "bf229d8a-2b8f-4439-a77c-3585ffbeae61"
      },
      "outputs": [
        {
          "data": {
            "text/plain": [
              "[Synset('jury.n.01')]"
            ]
          },
          "execution_count": 94,
          "metadata": {},
          "output_type": "execute_result"
        }
      ],
      "source": [
        "# \"holonym\" is a part of a whole\n",
        "juror = wn.synset('juror.n.01')\n",
        "juror.member_holonyms()"
      ]
    },
    {
      "cell_type": "code",
      "execution_count": 95,
      "metadata": {
        "ExecuteTime": {
          "end_time": "2022-02-25T08:02:52.486713Z",
          "start_time": "2022-02-25T08:02:52.476865Z"
        },
        "colab": {
          "base_uri": "https://localhost:8080/"
        },
        "id": "0Qd5qKy1iPRU",
        "outputId": "54e5848b-717a-48dc-a3bc-ae5e11874d41"
      },
      "outputs": [
        {
          "data": {
            "text/plain": [
              "[Synset('person.n.01')]"
            ]
          },
          "execution_count": 95,
          "metadata": {},
          "output_type": "execute_result"
        }
      ],
      "source": [
        "# can find \"lowest common hypernyms\":\n",
        "judge.lowest_common_hypernyms(juror)"
      ]
    },
    {
      "cell_type": "code",
      "execution_count": 96,
      "metadata": {
        "ExecuteTime": {
          "end_time": "2022-02-25T10:01:45.760265Z",
          "start_time": "2022-02-25T10:01:45.748916Z"
        },
        "colab": {
          "base_uri": "https://localhost:8080/"
        },
        "id": "u83KVx19iPRU",
        "outputId": "9a55e954-d80f-4a82-c225-97642abe5d1c"
      },
      "outputs": [
        {
          "data": {
            "text/plain": [
              "[Lemma('judge.n.01.judge'),\n",
              " Lemma('judge.n.01.justice'),\n",
              " Lemma('judge.n.01.jurist')]"
            ]
          },
          "execution_count": 96,
          "metadata": {},
          "output_type": "execute_result"
        }
      ],
      "source": [
        "# \"lemmas\" are specific senses of a specific word.\n",
        "judge.lemmas()"
      ]
    },
    {
      "cell_type": "code",
      "execution_count": 97,
      "metadata": {
        "ExecuteTime": {
          "end_time": "2022-02-25T10:01:57.383094Z",
          "start_time": "2022-02-25T10:01:57.373544Z"
        },
        "colab": {
          "base_uri": "https://localhost:8080/"
        },
        "id": "tqSlGmmDiPRV",
        "outputId": "bf3aee85-11d4-4878-a3e1-274ddffe1aee"
      },
      "outputs": [
        {
          "data": {
            "text/plain": [
              "['judge', 'justice', 'jurist']"
            ]
          },
          "execution_count": 97,
          "metadata": {},
          "output_type": "execute_result"
        }
      ],
      "source": [
        "[lemma.name() for lemma in judge.lemmas()]"
      ]
    },
    {
      "cell_type": "code",
      "execution_count": 98,
      "metadata": {
        "ExecuteTime": {
          "end_time": "2022-02-25T08:02:54.261992Z",
          "start_time": "2022-02-25T08:02:54.251066Z"
        },
        "colab": {
          "base_uri": "https://localhost:8080/"
        },
        "id": "WCSk5ZL7iPRV",
        "outputId": "437474ca-c4b6-40a3-da76-fcc4469fc4d5"
      },
      "outputs": [
        {
          "data": {
            "text/plain": [
              "[Lemma('judicial.s.01.judicial'),\n",
              " Lemma('judicial.a.02.judicial'),\n",
              " Lemma('judicial.a.03.judicial'),\n",
              " Lemma('judgeship.n.01.judgeship'),\n",
              " Lemma('judge.v.05.judge'),\n",
              " Lemma('judge.v.05.adjudicate'),\n",
              " Lemma('decide.v.02.adjudicate')]"
            ]
          },
          "execution_count": 98,
          "metadata": {},
          "output_type": "execute_result"
        }
      ],
      "source": [
        "# lemmas have additional properties\n",
        "judge_lemma = judge.lemmas()[0]\n",
        "judge_lemma.derivationally_related_forms()"
      ]
    },
    {
      "cell_type": "code",
      "execution_count": 99,
      "metadata": {
        "ExecuteTime": {
          "end_time": "2022-02-25T08:02:55.555900Z",
          "start_time": "2022-02-25T08:02:55.548222Z"
        },
        "colab": {
          "base_uri": "https://localhost:8080/"
        },
        "id": "toDuhj4WiPRV",
        "outputId": "9cb33f30-52dc-47db-855c-e5bd3605ce84"
      },
      "outputs": [
        {
          "data": {
            "text/plain": [
              "[Lemma('bad.a.01.bad')]"
            ]
          },
          "execution_count": 99,
          "metadata": {},
          "output_type": "execute_result"
        }
      ],
      "source": [
        "good = wn.synset('good.a.01').lemmas()[0]\n",
        "good.antonyms()"
      ]
    },
    {
      "cell_type": "code",
      "execution_count": 100,
      "metadata": {
        "ExecuteTime": {
          "end_time": "2022-02-25T08:02:55.928847Z",
          "start_time": "2022-02-25T08:02:55.918782Z"
        },
        "colab": {
          "base_uri": "https://localhost:8080/"
        },
        "id": "OUIHVWliiPRV",
        "outputId": "b5b1f641-92ae-4422-832b-9e52ed6c63e8"
      },
      "outputs": [
        {
          "data": {
            "text/plain": [
              "['Somebody judge something', 'Somebody judge PP', 'Somebody judge that CLAUSE']"
            ]
          },
          "execution_count": 100,
          "metadata": {},
          "output_type": "execute_result"
        }
      ],
      "source": [
        "# verb frames summarize the different semantic contexts that a verb can be used\n",
        "judge_verb = wn.synset('estimate.v.01').lemmas()[4]\n",
        "judge_verb.frame_strings()"
      ]
    },
    {
      "cell_type": "code",
      "execution_count": 101,
      "metadata": {
        "ExecuteTime": {
          "end_time": "2022-02-25T08:03:04.668594Z",
          "start_time": "2022-02-25T08:03:04.657402Z"
        },
        "colab": {
          "base_uri": "https://localhost:8080/"
        },
        "id": "mXob_kUjiPRV",
        "outputId": "3f0c2748-e200-4fe9-a261-0de064117645"
      },
      "outputs": [
        {
          "data": {
            "text/plain": [
              "0.1111111111111111"
            ]
          },
          "execution_count": 101,
          "metadata": {},
          "output_type": "execute_result"
        }
      ],
      "source": [
        "# measure similarity in the dictionary between words\n",
        "judge.path_similarity(wn.synset('juror.n.01'))"
      ]
    },
    {
      "cell_type": "code",
      "execution_count": 102,
      "metadata": {
        "ExecuteTime": {
          "end_time": "2022-02-25T08:05:31.074790Z",
          "start_time": "2022-02-25T08:05:31.062152Z"
        },
        "colab": {
          "base_uri": "https://localhost:8080/"
        },
        "id": "DvPuR5LQiPRV",
        "outputId": "66926100-7786-4d5a-b762-2f4c79de5f2d"
      },
      "outputs": [
        {
          "data": {
            "text/plain": [
              "0.08333333333333333"
            ]
          },
          "execution_count": 102,
          "metadata": {},
          "output_type": "execute_result"
        }
      ],
      "source": [
        "judge.path_similarity(wn.synset('cat.n.01'))"
      ]
    },
    {
      "cell_type": "code",
      "execution_count": 103,
      "metadata": {
        "ExecuteTime": {
          "end_time": "2022-02-25T08:05:31.469152Z",
          "start_time": "2022-02-25T08:05:31.458493Z"
        },
        "colab": {
          "base_uri": "https://localhost:8080/"
        },
        "id": "6Gd_x40QiPRV",
        "outputId": "20e5bc61-6440-41c1-cd1c-a35a05ff40e9"
      },
      "outputs": [
        {
          "data": {
            "text/plain": [
              "0.5454545454545454"
            ]
          },
          "execution_count": 103,
          "metadata": {},
          "output_type": "execute_result"
        }
      ],
      "source": [
        "# Wu-Palmer similarity.\n",
        "judge.wup_similarity(juror)"
      ]
    },
    {
      "cell_type": "code",
      "execution_count": 104,
      "metadata": {
        "ExecuteTime": {
          "end_time": "2022-02-25T08:05:31.752657Z",
          "start_time": "2022-02-25T08:05:31.741757Z"
        },
        "colab": {
          "base_uri": "https://localhost:8080/"
        },
        "id": "LEehFNEBiPRV",
        "outputId": "09d1cce9-b194-4c80-c0d7-8f95883ae1cb"
      },
      "outputs": [
        {
          "data": {
            "text/plain": [
              "0.5217391304347826"
            ]
          },
          "execution_count": 104,
          "metadata": {},
          "output_type": "execute_result"
        }
      ],
      "source": [
        "judge.wup_similarity(wn.synset('cat.n.01'))"
      ]
    },
    {
      "cell_type": "code",
      "execution_count": 105,
      "metadata": {
        "ExecuteTime": {
          "end_time": "2022-02-25T08:03:26.100296Z",
          "start_time": "2022-02-25T08:03:23.887564Z"
        },
        "colab": {
          "base_uri": "https://localhost:8080/"
        },
        "id": "kz9Ovx8CiPRV",
        "outputId": "ef008f47-939d-414e-cf1c-6f0c72e1a07a"
      },
      "outputs": [
        {
          "name": "stdout",
          "output_type": "stream",
          "text": [
            "Synset('judgeship.n.01')\n",
            "Synset('judgment.n.02')\n",
            "Synset('value_judgment.n.01')\n",
            "Synset('judgment.n.03')\n",
            "Synset('confession_of_judgment.n.01')\n",
            "Synset('default_judgment.n.01')\n",
            "Synset('final_judgment.n.01')\n",
            "Synset('judgment_in_personam.n.01')\n",
            "Synset('judgment_in_rem.n.01')\n",
            "Synset('judgment_of_dismissal.n.01')\n",
            "Synset('judgment_on_the_merits.n.01')\n",
            "Synset('summary_judgment.n.01')\n",
            "Synset('judgment.n.06')\n",
            "Synset('judgment.n.04')\n",
            "Synset('prejudgment.n.01')\n",
            "Synset('judgment.n.01')\n",
            "Synset('judges.n.01')\n",
            "Synset('back_judge.n.01')\n",
            "Synset('field_judge.n.01')\n",
            "Synset('judge.n.01')\n",
            "Synset('judge_advocate.n.02')\n",
            "Synset('judge_advocate.n.01')\n",
            "Synset('judge_advocate_general.n.01')\n",
            "Synset('line_judge.n.01')\n",
            "Synset('side_judge.n.01')\n",
            "Synset('trial_judge.n.01')\n",
            "Synset('judgment_lien.n.01')\n",
            "Synset('judgment_day.n.01')\n"
          ]
        }
      ],
      "source": [
        "# Can iterate over all synsets; e.g., all nouns:\n",
        "for synset in list(wn.all_synsets('n')):\n",
        "    if 'judg' in str(synset):\n",
        "        print(synset)"
      ]
    },
    {
      "cell_type": "markdown",
      "metadata": {
        "id": "KZFCTQYPiPRV"
      },
      "source": [
        "**Exercise**. Use wordnet to expand the set of words in the Baker-Bloom-Davis dictionary and re-compute policy uncertainty scores by year. "
      ]
    },
    {
      "cell_type": "code",
      "execution_count": null,
      "metadata": {
        "id": "zNeyAsmFiPRV"
      },
      "outputs": [],
      "source": []
    }
  ],
  "metadata": {
    "colab": {
      "provenance": []
    },
    "kernelspec": {
      "display_name": "pytorch",
      "language": "python",
      "name": "python3"
    },
    "language_info": {
      "codemirror_mode": {
        "name": "ipython",
        "version": 3
      },
      "file_extension": ".py",
      "mimetype": "text/x-python",
      "name": "python",
      "nbconvert_exporter": "python",
      "pygments_lexer": "ipython3",
      "version": "3.7.11"
    },
    "toc": {
      "base_numbering": "1",
      "nav_menu": {},
      "number_sections": true,
      "sideBar": true,
      "skip_h1_title": false,
      "title_cell": "Week 01. Text Data Essentials",
      "title_sidebar": "Contents",
      "toc_cell": true,
      "toc_position": {
        "height": "calc(100% - 180px)",
        "left": "10px",
        "top": "150px",
        "width": "165px"
      },
      "toc_section_display": true,
      "toc_window_display": true
    },
    "toc-autonumbering": false,
    "toc-showcode": false,
    "toc-showmarkdowntxt": false,
    "toc-showtags": false,
    "vscode": {
      "interpreter": {
        "hash": "d73fbafa1c1ce4c8cd6f07277ecbf2d62d7720c8bfdb6bdbaeeaf6dba6dd25dd"
      }
    },
    "widgets": {
      "application/vnd.jupyter.widget-state+json": {
        "05e42458259e409aa2b343e0bad2b91d": {
          "model_module": "@jupyter-widgets/controls",
          "model_module_version": "1.5.0",
          "model_name": "FloatProgressModel",
          "state": {
            "_dom_classes": [],
            "_model_module": "@jupyter-widgets/controls",
            "_model_module_version": "1.5.0",
            "_model_name": "FloatProgressModel",
            "_view_count": null,
            "_view_module": "@jupyter-widgets/controls",
            "_view_module_version": "1.5.0",
            "_view_name": "ProgressView",
            "bar_style": "success",
            "description": "",
            "description_tooltip": null,
            "layout": "IPY_MODEL_a015087930b34bd294fe68c8ccfb75d2",
            "max": 267844284,
            "min": 0,
            "orientation": "horizontal",
            "style": "IPY_MODEL_8c7be5f66f9446c285ef629da3d743be",
            "value": 267844284
          }
        },
        "05ecc7db40a543f78e7d9da671168f6c": {
          "model_module": "@jupyter-widgets/controls",
          "model_module_version": "1.5.0",
          "model_name": "ProgressStyleModel",
          "state": {
            "_model_module": "@jupyter-widgets/controls",
            "_model_module_version": "1.5.0",
            "_model_name": "ProgressStyleModel",
            "_view_count": null,
            "_view_module": "@jupyter-widgets/base",
            "_view_module_version": "1.2.0",
            "_view_name": "StyleView",
            "bar_color": null,
            "description_width": ""
          }
        },
        "09290e2f780440429db28cd564a91ea9": {
          "model_module": "@jupyter-widgets/base",
          "model_module_version": "1.2.0",
          "model_name": "LayoutModel",
          "state": {
            "_model_module": "@jupyter-widgets/base",
            "_model_module_version": "1.2.0",
            "_model_name": "LayoutModel",
            "_view_count": null,
            "_view_module": "@jupyter-widgets/base",
            "_view_module_version": "1.2.0",
            "_view_name": "LayoutView",
            "align_content": null,
            "align_items": null,
            "align_self": null,
            "border": null,
            "bottom": null,
            "display": null,
            "flex": null,
            "flex_flow": null,
            "grid_area": null,
            "grid_auto_columns": null,
            "grid_auto_flow": null,
            "grid_auto_rows": null,
            "grid_column": null,
            "grid_gap": null,
            "grid_row": null,
            "grid_template_areas": null,
            "grid_template_columns": null,
            "grid_template_rows": null,
            "height": null,
            "justify_content": null,
            "justify_items": null,
            "left": null,
            "margin": null,
            "max_height": null,
            "max_width": null,
            "min_height": null,
            "min_width": null,
            "object_fit": null,
            "object_position": null,
            "order": null,
            "overflow": null,
            "overflow_x": null,
            "overflow_y": null,
            "padding": null,
            "right": null,
            "top": null,
            "visibility": null,
            "width": null
          }
        },
        "1007c31ac5444148a495a08c633bebf0": {
          "model_module": "@jupyter-widgets/base",
          "model_module_version": "1.2.0",
          "model_name": "LayoutModel",
          "state": {
            "_model_module": "@jupyter-widgets/base",
            "_model_module_version": "1.2.0",
            "_model_name": "LayoutModel",
            "_view_count": null,
            "_view_module": "@jupyter-widgets/base",
            "_view_module_version": "1.2.0",
            "_view_name": "LayoutView",
            "align_content": null,
            "align_items": null,
            "align_self": null,
            "border": null,
            "bottom": null,
            "display": null,
            "flex": null,
            "flex_flow": null,
            "grid_area": null,
            "grid_auto_columns": null,
            "grid_auto_flow": null,
            "grid_auto_rows": null,
            "grid_column": null,
            "grid_gap": null,
            "grid_row": null,
            "grid_template_areas": null,
            "grid_template_columns": null,
            "grid_template_rows": null,
            "height": null,
            "justify_content": null,
            "justify_items": null,
            "left": null,
            "margin": null,
            "max_height": null,
            "max_width": null,
            "min_height": null,
            "min_width": null,
            "object_fit": null,
            "object_position": null,
            "order": null,
            "overflow": null,
            "overflow_x": null,
            "overflow_y": null,
            "padding": null,
            "right": null,
            "top": null,
            "visibility": null,
            "width": null
          }
        },
        "1b26ba6a141242e19804ec5263b8bb51": {
          "model_module": "@jupyter-widgets/base",
          "model_module_version": "1.2.0",
          "model_name": "LayoutModel",
          "state": {
            "_model_module": "@jupyter-widgets/base",
            "_model_module_version": "1.2.0",
            "_model_name": "LayoutModel",
            "_view_count": null,
            "_view_module": "@jupyter-widgets/base",
            "_view_module_version": "1.2.0",
            "_view_name": "LayoutView",
            "align_content": null,
            "align_items": null,
            "align_self": null,
            "border": null,
            "bottom": null,
            "display": null,
            "flex": null,
            "flex_flow": null,
            "grid_area": null,
            "grid_auto_columns": null,
            "grid_auto_flow": null,
            "grid_auto_rows": null,
            "grid_column": null,
            "grid_gap": null,
            "grid_row": null,
            "grid_template_areas": null,
            "grid_template_columns": null,
            "grid_template_rows": null,
            "height": null,
            "justify_content": null,
            "justify_items": null,
            "left": null,
            "margin": null,
            "max_height": null,
            "max_width": null,
            "min_height": null,
            "min_width": null,
            "object_fit": null,
            "object_position": null,
            "order": null,
            "overflow": null,
            "overflow_x": null,
            "overflow_y": null,
            "padding": null,
            "right": null,
            "top": null,
            "visibility": null,
            "width": null
          }
        },
        "1cc40d75a1154b89a0cafa31c0db7235": {
          "model_module": "@jupyter-widgets/controls",
          "model_module_version": "1.5.0",
          "model_name": "ProgressStyleModel",
          "state": {
            "_model_module": "@jupyter-widgets/controls",
            "_model_module_version": "1.5.0",
            "_model_name": "ProgressStyleModel",
            "_view_count": null,
            "_view_module": "@jupyter-widgets/base",
            "_view_module_version": "1.2.0",
            "_view_name": "StyleView",
            "bar_color": null,
            "description_width": ""
          }
        },
        "1e459812c30a40b5a3c739c47ff7ad80": {
          "model_module": "@jupyter-widgets/controls",
          "model_module_version": "1.5.0",
          "model_name": "HBoxModel",
          "state": {
            "_dom_classes": [],
            "_model_module": "@jupyter-widgets/controls",
            "_model_module_version": "1.5.0",
            "_model_name": "HBoxModel",
            "_view_count": null,
            "_view_module": "@jupyter-widgets/controls",
            "_view_module_version": "1.5.0",
            "_view_name": "HBoxView",
            "box_style": "",
            "children": [
              "IPY_MODEL_ca8297b096344888bd0a291d2d4b28d0",
              "IPY_MODEL_507e223bd1514f97bfda1b54209ccbf3",
              "IPY_MODEL_9db88f6e899c4de1b66b669421ae8ad1"
            ],
            "layout": "IPY_MODEL_56437e3521a9402b85ddf750afb960d6"
          }
        },
        "1f3cee2147d2422fbbf5f41b09ac36a7": {
          "model_module": "@jupyter-widgets/controls",
          "model_module_version": "1.5.0",
          "model_name": "FloatProgressModel",
          "state": {
            "_dom_classes": [],
            "_model_module": "@jupyter-widgets/controls",
            "_model_module_version": "1.5.0",
            "_model_name": "FloatProgressModel",
            "_view_count": null,
            "_view_module": "@jupyter-widgets/controls",
            "_view_module_version": "1.5.0",
            "_view_name": "ProgressView",
            "bar_style": "success",
            "description": "",
            "description_tooltip": null,
            "layout": "IPY_MODEL_09290e2f780440429db28cd564a91ea9",
            "max": 768,
            "min": 0,
            "orientation": "horizontal",
            "style": "IPY_MODEL_85e540079f004da6afb967ed69d3aad1",
            "value": 768
          }
        },
        "22e36b70a12e4d4891d4d4e4ffe4f9cc": {
          "model_module": "@jupyter-widgets/controls",
          "model_module_version": "1.5.0",
          "model_name": "DescriptionStyleModel",
          "state": {
            "_model_module": "@jupyter-widgets/controls",
            "_model_module_version": "1.5.0",
            "_model_name": "DescriptionStyleModel",
            "_view_count": null,
            "_view_module": "@jupyter-widgets/base",
            "_view_module_version": "1.2.0",
            "_view_name": "StyleView",
            "description_width": ""
          }
        },
        "2c9558c3249845e78c77b5c70ec3e90b": {
          "model_module": "@jupyter-widgets/controls",
          "model_module_version": "1.5.0",
          "model_name": "HTMLModel",
          "state": {
            "_dom_classes": [],
            "_model_module": "@jupyter-widgets/controls",
            "_model_module_version": "1.5.0",
            "_model_name": "HTMLModel",
            "_view_count": null,
            "_view_module": "@jupyter-widgets/controls",
            "_view_module_version": "1.5.0",
            "_view_name": "HTMLView",
            "description": "",
            "description_tooltip": null,
            "layout": "IPY_MODEL_7df865f880ba42ad968989b92458423b",
            "placeholder": "​",
            "style": "IPY_MODEL_22e36b70a12e4d4891d4d4e4ffe4f9cc",
            "value": "Downloading (…)okenizer_config.json: 100%"
          }
        },
        "2e8757a425d148178989ed71e370d0a7": {
          "model_module": "@jupyter-widgets/controls",
          "model_module_version": "1.5.0",
          "model_name": "DescriptionStyleModel",
          "state": {
            "_model_module": "@jupyter-widgets/controls",
            "_model_module_version": "1.5.0",
            "_model_name": "DescriptionStyleModel",
            "_view_count": null,
            "_view_module": "@jupyter-widgets/base",
            "_view_module_version": "1.2.0",
            "_view_name": "StyleView",
            "description_width": ""
          }
        },
        "32574f179e5f4805aa0316c20a569659": {
          "model_module": "@jupyter-widgets/base",
          "model_module_version": "1.2.0",
          "model_name": "LayoutModel",
          "state": {
            "_model_module": "@jupyter-widgets/base",
            "_model_module_version": "1.2.0",
            "_model_name": "LayoutModel",
            "_view_count": null,
            "_view_module": "@jupyter-widgets/base",
            "_view_module_version": "1.2.0",
            "_view_name": "LayoutView",
            "align_content": null,
            "align_items": null,
            "align_self": null,
            "border": null,
            "bottom": null,
            "display": null,
            "flex": null,
            "flex_flow": null,
            "grid_area": null,
            "grid_auto_columns": null,
            "grid_auto_flow": null,
            "grid_auto_rows": null,
            "grid_column": null,
            "grid_gap": null,
            "grid_row": null,
            "grid_template_areas": null,
            "grid_template_columns": null,
            "grid_template_rows": null,
            "height": null,
            "justify_content": null,
            "justify_items": null,
            "left": null,
            "margin": null,
            "max_height": null,
            "max_width": null,
            "min_height": null,
            "min_width": null,
            "object_fit": null,
            "object_position": null,
            "order": null,
            "overflow": null,
            "overflow_x": null,
            "overflow_y": null,
            "padding": null,
            "right": null,
            "top": null,
            "visibility": null,
            "width": null
          }
        },
        "3305653928364d398df7ab5b2c7326aa": {
          "model_module": "@jupyter-widgets/controls",
          "model_module_version": "1.5.0",
          "model_name": "DescriptionStyleModel",
          "state": {
            "_model_module": "@jupyter-widgets/controls",
            "_model_module_version": "1.5.0",
            "_model_name": "DescriptionStyleModel",
            "_view_count": null,
            "_view_module": "@jupyter-widgets/base",
            "_view_module_version": "1.2.0",
            "_view_name": "StyleView",
            "description_width": ""
          }
        },
        "3314b4b55538430c9b09399e6116b8ba": {
          "model_module": "@jupyter-widgets/base",
          "model_module_version": "1.2.0",
          "model_name": "LayoutModel",
          "state": {
            "_model_module": "@jupyter-widgets/base",
            "_model_module_version": "1.2.0",
            "_model_name": "LayoutModel",
            "_view_count": null,
            "_view_module": "@jupyter-widgets/base",
            "_view_module_version": "1.2.0",
            "_view_name": "LayoutView",
            "align_content": null,
            "align_items": null,
            "align_self": null,
            "border": null,
            "bottom": null,
            "display": null,
            "flex": null,
            "flex_flow": null,
            "grid_area": null,
            "grid_auto_columns": null,
            "grid_auto_flow": null,
            "grid_auto_rows": null,
            "grid_column": null,
            "grid_gap": null,
            "grid_row": null,
            "grid_template_areas": null,
            "grid_template_columns": null,
            "grid_template_rows": null,
            "height": null,
            "justify_content": null,
            "justify_items": null,
            "left": null,
            "margin": null,
            "max_height": null,
            "max_width": null,
            "min_height": null,
            "min_width": null,
            "object_fit": null,
            "object_position": null,
            "order": null,
            "overflow": null,
            "overflow_x": null,
            "overflow_y": null,
            "padding": null,
            "right": null,
            "top": null,
            "visibility": null,
            "width": null
          }
        },
        "359edd83a0f1475eb546b595d3e7181b": {
          "model_module": "@jupyter-widgets/controls",
          "model_module_version": "1.5.0",
          "model_name": "HBoxModel",
          "state": {
            "_dom_classes": [],
            "_model_module": "@jupyter-widgets/controls",
            "_model_module_version": "1.5.0",
            "_model_name": "HBoxModel",
            "_view_count": null,
            "_view_module": "@jupyter-widgets/controls",
            "_view_module_version": "1.5.0",
            "_view_name": "HBoxView",
            "box_style": "",
            "children": [
              "IPY_MODEL_86a62ba331b347f8b20b421ae7d0f679",
              "IPY_MODEL_05e42458259e409aa2b343e0bad2b91d",
              "IPY_MODEL_6f57a8d117204c0d83905a82b1227075"
            ],
            "layout": "IPY_MODEL_45b1b1ebb9b94135ba8b15e9a02dfa34"
          }
        },
        "3643c16622a3455e93f76cfeaf257c1f": {
          "model_module": "@jupyter-widgets/base",
          "model_module_version": "1.2.0",
          "model_name": "LayoutModel",
          "state": {
            "_model_module": "@jupyter-widgets/base",
            "_model_module_version": "1.2.0",
            "_model_name": "LayoutModel",
            "_view_count": null,
            "_view_module": "@jupyter-widgets/base",
            "_view_module_version": "1.2.0",
            "_view_name": "LayoutView",
            "align_content": null,
            "align_items": null,
            "align_self": null,
            "border": null,
            "bottom": null,
            "display": null,
            "flex": null,
            "flex_flow": null,
            "grid_area": null,
            "grid_auto_columns": null,
            "grid_auto_flow": null,
            "grid_auto_rows": null,
            "grid_column": null,
            "grid_gap": null,
            "grid_row": null,
            "grid_template_areas": null,
            "grid_template_columns": null,
            "grid_template_rows": null,
            "height": null,
            "justify_content": null,
            "justify_items": null,
            "left": null,
            "margin": null,
            "max_height": null,
            "max_width": null,
            "min_height": null,
            "min_width": null,
            "object_fit": null,
            "object_position": null,
            "order": null,
            "overflow": null,
            "overflow_x": null,
            "overflow_y": null,
            "padding": null,
            "right": null,
            "top": null,
            "visibility": null,
            "width": null
          }
        },
        "45b1b1ebb9b94135ba8b15e9a02dfa34": {
          "model_module": "@jupyter-widgets/base",
          "model_module_version": "1.2.0",
          "model_name": "LayoutModel",
          "state": {
            "_model_module": "@jupyter-widgets/base",
            "_model_module_version": "1.2.0",
            "_model_name": "LayoutModel",
            "_view_count": null,
            "_view_module": "@jupyter-widgets/base",
            "_view_module_version": "1.2.0",
            "_view_name": "LayoutView",
            "align_content": null,
            "align_items": null,
            "align_self": null,
            "border": null,
            "bottom": null,
            "display": null,
            "flex": null,
            "flex_flow": null,
            "grid_area": null,
            "grid_auto_columns": null,
            "grid_auto_flow": null,
            "grid_auto_rows": null,
            "grid_column": null,
            "grid_gap": null,
            "grid_row": null,
            "grid_template_areas": null,
            "grid_template_columns": null,
            "grid_template_rows": null,
            "height": null,
            "justify_content": null,
            "justify_items": null,
            "left": null,
            "margin": null,
            "max_height": null,
            "max_width": null,
            "min_height": null,
            "min_width": null,
            "object_fit": null,
            "object_position": null,
            "order": null,
            "overflow": null,
            "overflow_x": null,
            "overflow_y": null,
            "padding": null,
            "right": null,
            "top": null,
            "visibility": null,
            "width": null
          }
        },
        "4f77a0b2fb15451b9fbff8af2273360e": {
          "model_module": "@jupyter-widgets/base",
          "model_module_version": "1.2.0",
          "model_name": "LayoutModel",
          "state": {
            "_model_module": "@jupyter-widgets/base",
            "_model_module_version": "1.2.0",
            "_model_name": "LayoutModel",
            "_view_count": null,
            "_view_module": "@jupyter-widgets/base",
            "_view_module_version": "1.2.0",
            "_view_name": "LayoutView",
            "align_content": null,
            "align_items": null,
            "align_self": null,
            "border": null,
            "bottom": null,
            "display": null,
            "flex": null,
            "flex_flow": null,
            "grid_area": null,
            "grid_auto_columns": null,
            "grid_auto_flow": null,
            "grid_auto_rows": null,
            "grid_column": null,
            "grid_gap": null,
            "grid_row": null,
            "grid_template_areas": null,
            "grid_template_columns": null,
            "grid_template_rows": null,
            "height": null,
            "justify_content": null,
            "justify_items": null,
            "left": null,
            "margin": null,
            "max_height": null,
            "max_width": null,
            "min_height": null,
            "min_width": null,
            "object_fit": null,
            "object_position": null,
            "order": null,
            "overflow": null,
            "overflow_x": null,
            "overflow_y": null,
            "padding": null,
            "right": null,
            "top": null,
            "visibility": null,
            "width": null
          }
        },
        "507e223bd1514f97bfda1b54209ccbf3": {
          "model_module": "@jupyter-widgets/controls",
          "model_module_version": "1.5.0",
          "model_name": "FloatProgressModel",
          "state": {
            "_dom_classes": [],
            "_model_module": "@jupyter-widgets/controls",
            "_model_module_version": "1.5.0",
            "_model_name": "FloatProgressModel",
            "_view_count": null,
            "_view_module": "@jupyter-widgets/controls",
            "_view_module_version": "1.5.0",
            "_view_name": "ProgressView",
            "bar_style": "success",
            "description": "",
            "description_tooltip": null,
            "layout": "IPY_MODEL_5cf15e5962f548d18f1565cc423e445a",
            "max": 231508,
            "min": 0,
            "orientation": "horizontal",
            "style": "IPY_MODEL_1cc40d75a1154b89a0cafa31c0db7235",
            "value": 231508
          }
        },
        "52cc67fba2ce498886bb148a74ed4ca8": {
          "model_module": "@jupyter-widgets/controls",
          "model_module_version": "1.5.0",
          "model_name": "HBoxModel",
          "state": {
            "_dom_classes": [],
            "_model_module": "@jupyter-widgets/controls",
            "_model_module_version": "1.5.0",
            "_model_name": "HBoxModel",
            "_view_count": null,
            "_view_module": "@jupyter-widgets/controls",
            "_view_module_version": "1.5.0",
            "_view_name": "HBoxView",
            "box_style": "",
            "children": [
              "IPY_MODEL_ee944bd772e948c7b87e0b8ce2c3d9af",
              "IPY_MODEL_1f3cee2147d2422fbbf5f41b09ac36a7",
              "IPY_MODEL_c57e9dbedb824d74b69d30a1075c8186"
            ],
            "layout": "IPY_MODEL_1b26ba6a141242e19804ec5263b8bb51"
          }
        },
        "5468652b41fd493486bbbf083e7017e4": {
          "model_module": "@jupyter-widgets/controls",
          "model_module_version": "1.5.0",
          "model_name": "DescriptionStyleModel",
          "state": {
            "_model_module": "@jupyter-widgets/controls",
            "_model_module_version": "1.5.0",
            "_model_name": "DescriptionStyleModel",
            "_view_count": null,
            "_view_module": "@jupyter-widgets/base",
            "_view_module_version": "1.2.0",
            "_view_name": "StyleView",
            "description_width": ""
          }
        },
        "56437e3521a9402b85ddf750afb960d6": {
          "model_module": "@jupyter-widgets/base",
          "model_module_version": "1.2.0",
          "model_name": "LayoutModel",
          "state": {
            "_model_module": "@jupyter-widgets/base",
            "_model_module_version": "1.2.0",
            "_model_name": "LayoutModel",
            "_view_count": null,
            "_view_module": "@jupyter-widgets/base",
            "_view_module_version": "1.2.0",
            "_view_name": "LayoutView",
            "align_content": null,
            "align_items": null,
            "align_self": null,
            "border": null,
            "bottom": null,
            "display": null,
            "flex": null,
            "flex_flow": null,
            "grid_area": null,
            "grid_auto_columns": null,
            "grid_auto_flow": null,
            "grid_auto_rows": null,
            "grid_column": null,
            "grid_gap": null,
            "grid_row": null,
            "grid_template_areas": null,
            "grid_template_columns": null,
            "grid_template_rows": null,
            "height": null,
            "justify_content": null,
            "justify_items": null,
            "left": null,
            "margin": null,
            "max_height": null,
            "max_width": null,
            "min_height": null,
            "min_width": null,
            "object_fit": null,
            "object_position": null,
            "order": null,
            "overflow": null,
            "overflow_x": null,
            "overflow_y": null,
            "padding": null,
            "right": null,
            "top": null,
            "visibility": null,
            "width": null
          }
        },
        "5cf15e5962f548d18f1565cc423e445a": {
          "model_module": "@jupyter-widgets/base",
          "model_module_version": "1.2.0",
          "model_name": "LayoutModel",
          "state": {
            "_model_module": "@jupyter-widgets/base",
            "_model_module_version": "1.2.0",
            "_model_name": "LayoutModel",
            "_view_count": null,
            "_view_module": "@jupyter-widgets/base",
            "_view_module_version": "1.2.0",
            "_view_name": "LayoutView",
            "align_content": null,
            "align_items": null,
            "align_self": null,
            "border": null,
            "bottom": null,
            "display": null,
            "flex": null,
            "flex_flow": null,
            "grid_area": null,
            "grid_auto_columns": null,
            "grid_auto_flow": null,
            "grid_auto_rows": null,
            "grid_column": null,
            "grid_gap": null,
            "grid_row": null,
            "grid_template_areas": null,
            "grid_template_columns": null,
            "grid_template_rows": null,
            "height": null,
            "justify_content": null,
            "justify_items": null,
            "left": null,
            "margin": null,
            "max_height": null,
            "max_width": null,
            "min_height": null,
            "min_width": null,
            "object_fit": null,
            "object_position": null,
            "order": null,
            "overflow": null,
            "overflow_x": null,
            "overflow_y": null,
            "padding": null,
            "right": null,
            "top": null,
            "visibility": null,
            "width": null
          }
        },
        "61843c8ef14c4e09b19185a33d228f05": {
          "model_module": "@jupyter-widgets/controls",
          "model_module_version": "1.5.0",
          "model_name": "DescriptionStyleModel",
          "state": {
            "_model_module": "@jupyter-widgets/controls",
            "_model_module_version": "1.5.0",
            "_model_name": "DescriptionStyleModel",
            "_view_count": null,
            "_view_module": "@jupyter-widgets/base",
            "_view_module_version": "1.2.0",
            "_view_name": "StyleView",
            "description_width": ""
          }
        },
        "6d087efec07e48f6ab5cd205ffb34a0d": {
          "model_module": "@jupyter-widgets/controls",
          "model_module_version": "1.5.0",
          "model_name": "HBoxModel",
          "state": {
            "_dom_classes": [],
            "_model_module": "@jupyter-widgets/controls",
            "_model_module_version": "1.5.0",
            "_model_name": "HBoxModel",
            "_view_count": null,
            "_view_module": "@jupyter-widgets/controls",
            "_view_module_version": "1.5.0",
            "_view_name": "HBoxView",
            "box_style": "",
            "children": [
              "IPY_MODEL_2c9558c3249845e78c77b5c70ec3e90b",
              "IPY_MODEL_75c413a5cb6e4892b34089e5911a24d4",
              "IPY_MODEL_6e1d0476923c48dda9bef058ee217edf"
            ],
            "layout": "IPY_MODEL_e82d1fe3981a4c5097b5934f9142f5f5"
          }
        },
        "6e1d0476923c48dda9bef058ee217edf": {
          "model_module": "@jupyter-widgets/controls",
          "model_module_version": "1.5.0",
          "model_name": "HTMLModel",
          "state": {
            "_dom_classes": [],
            "_model_module": "@jupyter-widgets/controls",
            "_model_module_version": "1.5.0",
            "_model_name": "HTMLModel",
            "_view_count": null,
            "_view_module": "@jupyter-widgets/controls",
            "_view_module_version": "1.5.0",
            "_view_name": "HTMLView",
            "description": "",
            "description_tooltip": null,
            "layout": "IPY_MODEL_cc605fe83c8647f0a0c6843d3c161f19",
            "placeholder": "​",
            "style": "IPY_MODEL_5468652b41fd493486bbbf083e7017e4",
            "value": " 48.0/48.0 [00:00&lt;00:00, 1.80kB/s]"
          }
        },
        "6f57a8d117204c0d83905a82b1227075": {
          "model_module": "@jupyter-widgets/controls",
          "model_module_version": "1.5.0",
          "model_name": "HTMLModel",
          "state": {
            "_dom_classes": [],
            "_model_module": "@jupyter-widgets/controls",
            "_model_module_version": "1.5.0",
            "_model_name": "HTMLModel",
            "_view_count": null,
            "_view_module": "@jupyter-widgets/controls",
            "_view_module_version": "1.5.0",
            "_view_name": "HTMLView",
            "description": "",
            "description_tooltip": null,
            "layout": "IPY_MODEL_cc358683adb845b9a82c49d1d2dcada2",
            "placeholder": "​",
            "style": "IPY_MODEL_e8bd209b0b32451fadc066e77e2a89fc",
            "value": " 268M/268M [00:02&lt;00:00, 89.0MB/s]"
          }
        },
        "74eeba76f4ab4e898ab368b2aa208f19": {
          "model_module": "@jupyter-widgets/controls",
          "model_module_version": "1.5.0",
          "model_name": "DescriptionStyleModel",
          "state": {
            "_model_module": "@jupyter-widgets/controls",
            "_model_module_version": "1.5.0",
            "_model_name": "DescriptionStyleModel",
            "_view_count": null,
            "_view_module": "@jupyter-widgets/base",
            "_view_module_version": "1.2.0",
            "_view_name": "StyleView",
            "description_width": ""
          }
        },
        "75c413a5cb6e4892b34089e5911a24d4": {
          "model_module": "@jupyter-widgets/controls",
          "model_module_version": "1.5.0",
          "model_name": "FloatProgressModel",
          "state": {
            "_dom_classes": [],
            "_model_module": "@jupyter-widgets/controls",
            "_model_module_version": "1.5.0",
            "_model_name": "FloatProgressModel",
            "_view_count": null,
            "_view_module": "@jupyter-widgets/controls",
            "_view_module_version": "1.5.0",
            "_view_name": "ProgressView",
            "bar_style": "success",
            "description": "",
            "description_tooltip": null,
            "layout": "IPY_MODEL_9974cd1704104be0991d97e6501f28c8",
            "max": 48,
            "min": 0,
            "orientation": "horizontal",
            "style": "IPY_MODEL_a86c2583e3734168b56d6dadfc9a3601",
            "value": 48
          }
        },
        "76dbc1b114c34dc9bd4efedb834cb035": {
          "model_module": "@jupyter-widgets/controls",
          "model_module_version": "1.5.0",
          "model_name": "DescriptionStyleModel",
          "state": {
            "_model_module": "@jupyter-widgets/controls",
            "_model_module_version": "1.5.0",
            "_model_name": "DescriptionStyleModel",
            "_view_count": null,
            "_view_module": "@jupyter-widgets/base",
            "_view_module_version": "1.2.0",
            "_view_name": "StyleView",
            "description_width": ""
          }
        },
        "7df865f880ba42ad968989b92458423b": {
          "model_module": "@jupyter-widgets/base",
          "model_module_version": "1.2.0",
          "model_name": "LayoutModel",
          "state": {
            "_model_module": "@jupyter-widgets/base",
            "_model_module_version": "1.2.0",
            "_model_name": "LayoutModel",
            "_view_count": null,
            "_view_module": "@jupyter-widgets/base",
            "_view_module_version": "1.2.0",
            "_view_name": "LayoutView",
            "align_content": null,
            "align_items": null,
            "align_self": null,
            "border": null,
            "bottom": null,
            "display": null,
            "flex": null,
            "flex_flow": null,
            "grid_area": null,
            "grid_auto_columns": null,
            "grid_auto_flow": null,
            "grid_auto_rows": null,
            "grid_column": null,
            "grid_gap": null,
            "grid_row": null,
            "grid_template_areas": null,
            "grid_template_columns": null,
            "grid_template_rows": null,
            "height": null,
            "justify_content": null,
            "justify_items": null,
            "left": null,
            "margin": null,
            "max_height": null,
            "max_width": null,
            "min_height": null,
            "min_width": null,
            "object_fit": null,
            "object_position": null,
            "order": null,
            "overflow": null,
            "overflow_x": null,
            "overflow_y": null,
            "padding": null,
            "right": null,
            "top": null,
            "visibility": null,
            "width": null
          }
        },
        "85e540079f004da6afb967ed69d3aad1": {
          "model_module": "@jupyter-widgets/controls",
          "model_module_version": "1.5.0",
          "model_name": "ProgressStyleModel",
          "state": {
            "_model_module": "@jupyter-widgets/controls",
            "_model_module_version": "1.5.0",
            "_model_name": "ProgressStyleModel",
            "_view_count": null,
            "_view_module": "@jupyter-widgets/base",
            "_view_module_version": "1.2.0",
            "_view_name": "StyleView",
            "bar_color": null,
            "description_width": ""
          }
        },
        "86a62ba331b347f8b20b421ae7d0f679": {
          "model_module": "@jupyter-widgets/controls",
          "model_module_version": "1.5.0",
          "model_name": "HTMLModel",
          "state": {
            "_dom_classes": [],
            "_model_module": "@jupyter-widgets/controls",
            "_model_module_version": "1.5.0",
            "_model_name": "HTMLModel",
            "_view_count": null,
            "_view_module": "@jupyter-widgets/controls",
            "_view_module_version": "1.5.0",
            "_view_name": "HTMLView",
            "description": "",
            "description_tooltip": null,
            "layout": "IPY_MODEL_ee00a01debb04adcaedd32b2164242f4",
            "placeholder": "​",
            "style": "IPY_MODEL_e7e8d89ce55f402590456f18b1ddf197",
            "value": "Downloading (…)&quot;pytorch_model.bin&quot;;: 100%"
          }
        },
        "8c7be5f66f9446c285ef629da3d743be": {
          "model_module": "@jupyter-widgets/controls",
          "model_module_version": "1.5.0",
          "model_name": "ProgressStyleModel",
          "state": {
            "_model_module": "@jupyter-widgets/controls",
            "_model_module_version": "1.5.0",
            "_model_name": "ProgressStyleModel",
            "_view_count": null,
            "_view_module": "@jupyter-widgets/base",
            "_view_module_version": "1.2.0",
            "_view_name": "StyleView",
            "bar_color": null,
            "description_width": ""
          }
        },
        "9974cd1704104be0991d97e6501f28c8": {
          "model_module": "@jupyter-widgets/base",
          "model_module_version": "1.2.0",
          "model_name": "LayoutModel",
          "state": {
            "_model_module": "@jupyter-widgets/base",
            "_model_module_version": "1.2.0",
            "_model_name": "LayoutModel",
            "_view_count": null,
            "_view_module": "@jupyter-widgets/base",
            "_view_module_version": "1.2.0",
            "_view_name": "LayoutView",
            "align_content": null,
            "align_items": null,
            "align_self": null,
            "border": null,
            "bottom": null,
            "display": null,
            "flex": null,
            "flex_flow": null,
            "grid_area": null,
            "grid_auto_columns": null,
            "grid_auto_flow": null,
            "grid_auto_rows": null,
            "grid_column": null,
            "grid_gap": null,
            "grid_row": null,
            "grid_template_areas": null,
            "grid_template_columns": null,
            "grid_template_rows": null,
            "height": null,
            "justify_content": null,
            "justify_items": null,
            "left": null,
            "margin": null,
            "max_height": null,
            "max_width": null,
            "min_height": null,
            "min_width": null,
            "object_fit": null,
            "object_position": null,
            "order": null,
            "overflow": null,
            "overflow_x": null,
            "overflow_y": null,
            "padding": null,
            "right": null,
            "top": null,
            "visibility": null,
            "width": null
          }
        },
        "9db88f6e899c4de1b66b669421ae8ad1": {
          "model_module": "@jupyter-widgets/controls",
          "model_module_version": "1.5.0",
          "model_name": "HTMLModel",
          "state": {
            "_dom_classes": [],
            "_model_module": "@jupyter-widgets/controls",
            "_model_module_version": "1.5.0",
            "_model_name": "HTMLModel",
            "_view_count": null,
            "_view_module": "@jupyter-widgets/controls",
            "_view_module_version": "1.5.0",
            "_view_name": "HTMLView",
            "description": "",
            "description_tooltip": null,
            "layout": "IPY_MODEL_1007c31ac5444148a495a08c633bebf0",
            "placeholder": "​",
            "style": "IPY_MODEL_2e8757a425d148178989ed71e370d0a7",
            "value": " 232k/232k [00:00&lt;00:00, 950kB/s]"
          }
        },
        "9df208654c614609a0dabf64545a84f3": {
          "model_module": "@jupyter-widgets/controls",
          "model_module_version": "1.5.0",
          "model_name": "FloatProgressModel",
          "state": {
            "_dom_classes": [],
            "_model_module": "@jupyter-widgets/controls",
            "_model_module_version": "1.5.0",
            "_model_name": "FloatProgressModel",
            "_view_count": null,
            "_view_module": "@jupyter-widgets/controls",
            "_view_module_version": "1.5.0",
            "_view_name": "ProgressView",
            "bar_style": "success",
            "description": "",
            "description_tooltip": null,
            "layout": "IPY_MODEL_da8143cdb3074ff78e4843ba69551d4e",
            "max": 629,
            "min": 0,
            "orientation": "horizontal",
            "style": "IPY_MODEL_05ecc7db40a543f78e7d9da671168f6c",
            "value": 629
          }
        },
        "9e26c90428ae46029eaadeb32299279a": {
          "model_module": "@jupyter-widgets/base",
          "model_module_version": "1.2.0",
          "model_name": "LayoutModel",
          "state": {
            "_model_module": "@jupyter-widgets/base",
            "_model_module_version": "1.2.0",
            "_model_name": "LayoutModel",
            "_view_count": null,
            "_view_module": "@jupyter-widgets/base",
            "_view_module_version": "1.2.0",
            "_view_name": "LayoutView",
            "align_content": null,
            "align_items": null,
            "align_self": null,
            "border": null,
            "bottom": null,
            "display": null,
            "flex": null,
            "flex_flow": null,
            "grid_area": null,
            "grid_auto_columns": null,
            "grid_auto_flow": null,
            "grid_auto_rows": null,
            "grid_column": null,
            "grid_gap": null,
            "grid_row": null,
            "grid_template_areas": null,
            "grid_template_columns": null,
            "grid_template_rows": null,
            "height": null,
            "justify_content": null,
            "justify_items": null,
            "left": null,
            "margin": null,
            "max_height": null,
            "max_width": null,
            "min_height": null,
            "min_width": null,
            "object_fit": null,
            "object_position": null,
            "order": null,
            "overflow": null,
            "overflow_x": null,
            "overflow_y": null,
            "padding": null,
            "right": null,
            "top": null,
            "visibility": null,
            "width": null
          }
        },
        "9f4eefb135e946da9a1505d566b128b9": {
          "model_module": "@jupyter-widgets/controls",
          "model_module_version": "1.5.0",
          "model_name": "HTMLModel",
          "state": {
            "_dom_classes": [],
            "_model_module": "@jupyter-widgets/controls",
            "_model_module_version": "1.5.0",
            "_model_name": "HTMLModel",
            "_view_count": null,
            "_view_module": "@jupyter-widgets/controls",
            "_view_module_version": "1.5.0",
            "_view_name": "HTMLView",
            "description": "",
            "description_tooltip": null,
            "layout": "IPY_MODEL_3314b4b55538430c9b09399e6116b8ba",
            "placeholder": "​",
            "style": "IPY_MODEL_61843c8ef14c4e09b19185a33d228f05",
            "value": "Downloading (…)lve/main/config.json: 100%"
          }
        },
        "a015087930b34bd294fe68c8ccfb75d2": {
          "model_module": "@jupyter-widgets/base",
          "model_module_version": "1.2.0",
          "model_name": "LayoutModel",
          "state": {
            "_model_module": "@jupyter-widgets/base",
            "_model_module_version": "1.2.0",
            "_model_name": "LayoutModel",
            "_view_count": null,
            "_view_module": "@jupyter-widgets/base",
            "_view_module_version": "1.2.0",
            "_view_name": "LayoutView",
            "align_content": null,
            "align_items": null,
            "align_self": null,
            "border": null,
            "bottom": null,
            "display": null,
            "flex": null,
            "flex_flow": null,
            "grid_area": null,
            "grid_auto_columns": null,
            "grid_auto_flow": null,
            "grid_auto_rows": null,
            "grid_column": null,
            "grid_gap": null,
            "grid_row": null,
            "grid_template_areas": null,
            "grid_template_columns": null,
            "grid_template_rows": null,
            "height": null,
            "justify_content": null,
            "justify_items": null,
            "left": null,
            "margin": null,
            "max_height": null,
            "max_width": null,
            "min_height": null,
            "min_width": null,
            "object_fit": null,
            "object_position": null,
            "order": null,
            "overflow": null,
            "overflow_x": null,
            "overflow_y": null,
            "padding": null,
            "right": null,
            "top": null,
            "visibility": null,
            "width": null
          }
        },
        "a86c2583e3734168b56d6dadfc9a3601": {
          "model_module": "@jupyter-widgets/controls",
          "model_module_version": "1.5.0",
          "model_name": "ProgressStyleModel",
          "state": {
            "_model_module": "@jupyter-widgets/controls",
            "_model_module_version": "1.5.0",
            "_model_name": "ProgressStyleModel",
            "_view_count": null,
            "_view_module": "@jupyter-widgets/base",
            "_view_module_version": "1.2.0",
            "_view_name": "StyleView",
            "bar_color": null,
            "description_width": ""
          }
        },
        "c57e9dbedb824d74b69d30a1075c8186": {
          "model_module": "@jupyter-widgets/controls",
          "model_module_version": "1.5.0",
          "model_name": "HTMLModel",
          "state": {
            "_dom_classes": [],
            "_model_module": "@jupyter-widgets/controls",
            "_model_module_version": "1.5.0",
            "_model_name": "HTMLModel",
            "_view_count": null,
            "_view_module": "@jupyter-widgets/controls",
            "_view_module_version": "1.5.0",
            "_view_name": "HTMLView",
            "description": "",
            "description_tooltip": null,
            "layout": "IPY_MODEL_9e26c90428ae46029eaadeb32299279a",
            "placeholder": "​",
            "style": "IPY_MODEL_3305653928364d398df7ab5b2c7326aa",
            "value": " 768/768 [03:33&lt;00:00,  4.59it/s]"
          }
        },
        "ca8297b096344888bd0a291d2d4b28d0": {
          "model_module": "@jupyter-widgets/controls",
          "model_module_version": "1.5.0",
          "model_name": "HTMLModel",
          "state": {
            "_dom_classes": [],
            "_model_module": "@jupyter-widgets/controls",
            "_model_module_version": "1.5.0",
            "_model_name": "HTMLModel",
            "_view_count": null,
            "_view_module": "@jupyter-widgets/controls",
            "_view_module_version": "1.5.0",
            "_view_name": "HTMLView",
            "description": "",
            "description_tooltip": null,
            "layout": "IPY_MODEL_4f77a0b2fb15451b9fbff8af2273360e",
            "placeholder": "​",
            "style": "IPY_MODEL_f27a862f8c0b46eab9fdfc87fbb95611",
            "value": "Downloading (…)solve/main/vocab.txt: 100%"
          }
        },
        "cc358683adb845b9a82c49d1d2dcada2": {
          "model_module": "@jupyter-widgets/base",
          "model_module_version": "1.2.0",
          "model_name": "LayoutModel",
          "state": {
            "_model_module": "@jupyter-widgets/base",
            "_model_module_version": "1.2.0",
            "_model_name": "LayoutModel",
            "_view_count": null,
            "_view_module": "@jupyter-widgets/base",
            "_view_module_version": "1.2.0",
            "_view_name": "LayoutView",
            "align_content": null,
            "align_items": null,
            "align_self": null,
            "border": null,
            "bottom": null,
            "display": null,
            "flex": null,
            "flex_flow": null,
            "grid_area": null,
            "grid_auto_columns": null,
            "grid_auto_flow": null,
            "grid_auto_rows": null,
            "grid_column": null,
            "grid_gap": null,
            "grid_row": null,
            "grid_template_areas": null,
            "grid_template_columns": null,
            "grid_template_rows": null,
            "height": null,
            "justify_content": null,
            "justify_items": null,
            "left": null,
            "margin": null,
            "max_height": null,
            "max_width": null,
            "min_height": null,
            "min_width": null,
            "object_fit": null,
            "object_position": null,
            "order": null,
            "overflow": null,
            "overflow_x": null,
            "overflow_y": null,
            "padding": null,
            "right": null,
            "top": null,
            "visibility": null,
            "width": null
          }
        },
        "cc605fe83c8647f0a0c6843d3c161f19": {
          "model_module": "@jupyter-widgets/base",
          "model_module_version": "1.2.0",
          "model_name": "LayoutModel",
          "state": {
            "_model_module": "@jupyter-widgets/base",
            "_model_module_version": "1.2.0",
            "_model_name": "LayoutModel",
            "_view_count": null,
            "_view_module": "@jupyter-widgets/base",
            "_view_module_version": "1.2.0",
            "_view_name": "LayoutView",
            "align_content": null,
            "align_items": null,
            "align_self": null,
            "border": null,
            "bottom": null,
            "display": null,
            "flex": null,
            "flex_flow": null,
            "grid_area": null,
            "grid_auto_columns": null,
            "grid_auto_flow": null,
            "grid_auto_rows": null,
            "grid_column": null,
            "grid_gap": null,
            "grid_row": null,
            "grid_template_areas": null,
            "grid_template_columns": null,
            "grid_template_rows": null,
            "height": null,
            "justify_content": null,
            "justify_items": null,
            "left": null,
            "margin": null,
            "max_height": null,
            "max_width": null,
            "min_height": null,
            "min_width": null,
            "object_fit": null,
            "object_position": null,
            "order": null,
            "overflow": null,
            "overflow_x": null,
            "overflow_y": null,
            "padding": null,
            "right": null,
            "top": null,
            "visibility": null,
            "width": null
          }
        },
        "da8143cdb3074ff78e4843ba69551d4e": {
          "model_module": "@jupyter-widgets/base",
          "model_module_version": "1.2.0",
          "model_name": "LayoutModel",
          "state": {
            "_model_module": "@jupyter-widgets/base",
            "_model_module_version": "1.2.0",
            "_model_name": "LayoutModel",
            "_view_count": null,
            "_view_module": "@jupyter-widgets/base",
            "_view_module_version": "1.2.0",
            "_view_name": "LayoutView",
            "align_content": null,
            "align_items": null,
            "align_self": null,
            "border": null,
            "bottom": null,
            "display": null,
            "flex": null,
            "flex_flow": null,
            "grid_area": null,
            "grid_auto_columns": null,
            "grid_auto_flow": null,
            "grid_auto_rows": null,
            "grid_column": null,
            "grid_gap": null,
            "grid_row": null,
            "grid_template_areas": null,
            "grid_template_columns": null,
            "grid_template_rows": null,
            "height": null,
            "justify_content": null,
            "justify_items": null,
            "left": null,
            "margin": null,
            "max_height": null,
            "max_width": null,
            "min_height": null,
            "min_width": null,
            "object_fit": null,
            "object_position": null,
            "order": null,
            "overflow": null,
            "overflow_x": null,
            "overflow_y": null,
            "padding": null,
            "right": null,
            "top": null,
            "visibility": null,
            "width": null
          }
        },
        "e5e0e95846ad404582ba6bf94f167a58": {
          "model_module": "@jupyter-widgets/base",
          "model_module_version": "1.2.0",
          "model_name": "LayoutModel",
          "state": {
            "_model_module": "@jupyter-widgets/base",
            "_model_module_version": "1.2.0",
            "_model_name": "LayoutModel",
            "_view_count": null,
            "_view_module": "@jupyter-widgets/base",
            "_view_module_version": "1.2.0",
            "_view_name": "LayoutView",
            "align_content": null,
            "align_items": null,
            "align_self": null,
            "border": null,
            "bottom": null,
            "display": null,
            "flex": null,
            "flex_flow": null,
            "grid_area": null,
            "grid_auto_columns": null,
            "grid_auto_flow": null,
            "grid_auto_rows": null,
            "grid_column": null,
            "grid_gap": null,
            "grid_row": null,
            "grid_template_areas": null,
            "grid_template_columns": null,
            "grid_template_rows": null,
            "height": null,
            "justify_content": null,
            "justify_items": null,
            "left": null,
            "margin": null,
            "max_height": null,
            "max_width": null,
            "min_height": null,
            "min_width": null,
            "object_fit": null,
            "object_position": null,
            "order": null,
            "overflow": null,
            "overflow_x": null,
            "overflow_y": null,
            "padding": null,
            "right": null,
            "top": null,
            "visibility": null,
            "width": null
          }
        },
        "e7e8d89ce55f402590456f18b1ddf197": {
          "model_module": "@jupyter-widgets/controls",
          "model_module_version": "1.5.0",
          "model_name": "DescriptionStyleModel",
          "state": {
            "_model_module": "@jupyter-widgets/controls",
            "_model_module_version": "1.5.0",
            "_model_name": "DescriptionStyleModel",
            "_view_count": null,
            "_view_module": "@jupyter-widgets/base",
            "_view_module_version": "1.2.0",
            "_view_name": "StyleView",
            "description_width": ""
          }
        },
        "e82d1fe3981a4c5097b5934f9142f5f5": {
          "model_module": "@jupyter-widgets/base",
          "model_module_version": "1.2.0",
          "model_name": "LayoutModel",
          "state": {
            "_model_module": "@jupyter-widgets/base",
            "_model_module_version": "1.2.0",
            "_model_name": "LayoutModel",
            "_view_count": null,
            "_view_module": "@jupyter-widgets/base",
            "_view_module_version": "1.2.0",
            "_view_name": "LayoutView",
            "align_content": null,
            "align_items": null,
            "align_self": null,
            "border": null,
            "bottom": null,
            "display": null,
            "flex": null,
            "flex_flow": null,
            "grid_area": null,
            "grid_auto_columns": null,
            "grid_auto_flow": null,
            "grid_auto_rows": null,
            "grid_column": null,
            "grid_gap": null,
            "grid_row": null,
            "grid_template_areas": null,
            "grid_template_columns": null,
            "grid_template_rows": null,
            "height": null,
            "justify_content": null,
            "justify_items": null,
            "left": null,
            "margin": null,
            "max_height": null,
            "max_width": null,
            "min_height": null,
            "min_width": null,
            "object_fit": null,
            "object_position": null,
            "order": null,
            "overflow": null,
            "overflow_x": null,
            "overflow_y": null,
            "padding": null,
            "right": null,
            "top": null,
            "visibility": null,
            "width": null
          }
        },
        "e8bd209b0b32451fadc066e77e2a89fc": {
          "model_module": "@jupyter-widgets/controls",
          "model_module_version": "1.5.0",
          "model_name": "DescriptionStyleModel",
          "state": {
            "_model_module": "@jupyter-widgets/controls",
            "_model_module_version": "1.5.0",
            "_model_name": "DescriptionStyleModel",
            "_view_count": null,
            "_view_module": "@jupyter-widgets/base",
            "_view_module_version": "1.2.0",
            "_view_name": "StyleView",
            "description_width": ""
          }
        },
        "e99ed6262dd84070a6c04c677810bba5": {
          "model_module": "@jupyter-widgets/controls",
          "model_module_version": "1.5.0",
          "model_name": "HTMLModel",
          "state": {
            "_dom_classes": [],
            "_model_module": "@jupyter-widgets/controls",
            "_model_module_version": "1.5.0",
            "_model_name": "HTMLModel",
            "_view_count": null,
            "_view_module": "@jupyter-widgets/controls",
            "_view_module_version": "1.5.0",
            "_view_name": "HTMLView",
            "description": "",
            "description_tooltip": null,
            "layout": "IPY_MODEL_32574f179e5f4805aa0316c20a569659",
            "placeholder": "​",
            "style": "IPY_MODEL_76dbc1b114c34dc9bd4efedb834cb035",
            "value": " 629/629 [00:00&lt;00:00, 24.8kB/s]"
          }
        },
        "ed8874be4e1c42afb3cc8a645b180598": {
          "model_module": "@jupyter-widgets/controls",
          "model_module_version": "1.5.0",
          "model_name": "HBoxModel",
          "state": {
            "_dom_classes": [],
            "_model_module": "@jupyter-widgets/controls",
            "_model_module_version": "1.5.0",
            "_model_name": "HBoxModel",
            "_view_count": null,
            "_view_module": "@jupyter-widgets/controls",
            "_view_module_version": "1.5.0",
            "_view_name": "HBoxView",
            "box_style": "",
            "children": [
              "IPY_MODEL_9f4eefb135e946da9a1505d566b128b9",
              "IPY_MODEL_9df208654c614609a0dabf64545a84f3",
              "IPY_MODEL_e99ed6262dd84070a6c04c677810bba5"
            ],
            "layout": "IPY_MODEL_e5e0e95846ad404582ba6bf94f167a58"
          }
        },
        "ee00a01debb04adcaedd32b2164242f4": {
          "model_module": "@jupyter-widgets/base",
          "model_module_version": "1.2.0",
          "model_name": "LayoutModel",
          "state": {
            "_model_module": "@jupyter-widgets/base",
            "_model_module_version": "1.2.0",
            "_model_name": "LayoutModel",
            "_view_count": null,
            "_view_module": "@jupyter-widgets/base",
            "_view_module_version": "1.2.0",
            "_view_name": "LayoutView",
            "align_content": null,
            "align_items": null,
            "align_self": null,
            "border": null,
            "bottom": null,
            "display": null,
            "flex": null,
            "flex_flow": null,
            "grid_area": null,
            "grid_auto_columns": null,
            "grid_auto_flow": null,
            "grid_auto_rows": null,
            "grid_column": null,
            "grid_gap": null,
            "grid_row": null,
            "grid_template_areas": null,
            "grid_template_columns": null,
            "grid_template_rows": null,
            "height": null,
            "justify_content": null,
            "justify_items": null,
            "left": null,
            "margin": null,
            "max_height": null,
            "max_width": null,
            "min_height": null,
            "min_width": null,
            "object_fit": null,
            "object_position": null,
            "order": null,
            "overflow": null,
            "overflow_x": null,
            "overflow_y": null,
            "padding": null,
            "right": null,
            "top": null,
            "visibility": null,
            "width": null
          }
        },
        "ee944bd772e948c7b87e0b8ce2c3d9af": {
          "model_module": "@jupyter-widgets/controls",
          "model_module_version": "1.5.0",
          "model_name": "HTMLModel",
          "state": {
            "_dom_classes": [],
            "_model_module": "@jupyter-widgets/controls",
            "_model_module_version": "1.5.0",
            "_model_name": "HTMLModel",
            "_view_count": null,
            "_view_module": "@jupyter-widgets/controls",
            "_view_module_version": "1.5.0",
            "_view_name": "HTMLView",
            "description": "",
            "description_tooltip": null,
            "layout": "IPY_MODEL_3643c16622a3455e93f76cfeaf257c1f",
            "placeholder": "​",
            "style": "IPY_MODEL_74eeba76f4ab4e898ab368b2aa208f19",
            "value": "100%"
          }
        },
        "f27a862f8c0b46eab9fdfc87fbb95611": {
          "model_module": "@jupyter-widgets/controls",
          "model_module_version": "1.5.0",
          "model_name": "DescriptionStyleModel",
          "state": {
            "_model_module": "@jupyter-widgets/controls",
            "_model_module_version": "1.5.0",
            "_model_name": "DescriptionStyleModel",
            "_view_count": null,
            "_view_module": "@jupyter-widgets/base",
            "_view_module_version": "1.2.0",
            "_view_name": "StyleView",
            "description_width": ""
          }
        }
      }
    }
  },
  "nbformat": 4,
  "nbformat_minor": 0
}
